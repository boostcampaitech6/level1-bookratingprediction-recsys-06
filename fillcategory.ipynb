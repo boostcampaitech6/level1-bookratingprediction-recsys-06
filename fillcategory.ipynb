{
 "cells": [
  {
   "cell_type": "code",
   "execution_count": 1,
   "metadata": {},
   "outputs": [],
   "source": [
    "import pandas as pd\n",
    "import numpy as np\n",
    "import tqdm"
   ]
  },
  {
   "cell_type": "code",
   "execution_count": 2,
   "metadata": {},
   "outputs": [],
   "source": [
    "books = pd.read_csv('./code/data/books.csv')\n",
    "users = pd.read_csv('./code/data/users.csv')\n",
    "train_ratings = pd.read_csv('./code/data/train_ratings.csv')\n",
    "test_ratings = pd.read_csv('./code/data/test_ratings.csv')"
   ]
  },
  {
   "cell_type": "code",
   "execution_count": 3,
   "metadata": {},
   "outputs": [
    {
     "name": "stdout",
     "output_type": "stream",
     "text": [
      "users shape:  (68092, 3)\n",
      "books shape:  (149570, 10)\n",
      "train_ratings shape:  (306795, 3)\n",
      "test_ratings shape:  (76699, 3)\n"
     ]
    }
   ],
   "source": [
    "print('users shape: ', users.shape)\n",
    "print('books shape: ', books.shape)\n",
    "print('train_ratings shape: ', train_ratings.shape)\n",
    "print('test_ratings shape: ', test_ratings.shape)"
   ]
  },
  {
   "cell_type": "markdown",
   "metadata": {},
   "source": [
    "## USERS\n"
   ]
  },
  {
   "cell_type": "code",
   "execution_count": 4,
   "metadata": {},
   "outputs": [
    {
     "name": "stdout",
     "output_type": "stream",
     "text": [
      "<class 'pandas.core.frame.DataFrame'>\n",
      "RangeIndex: 68092 entries, 0 to 68091\n",
      "Data columns (total 3 columns):\n",
      " #   Column    Non-Null Count  Dtype  \n",
      "---  ------    --------------  -----  \n",
      " 0   user_id   68092 non-null  int64  \n",
      " 1   location  68092 non-null  object \n",
      " 2   age       40259 non-null  float64\n",
      "dtypes: float64(1), int64(1), object(1)\n",
      "memory usage: 1.6+ MB\n"
     ]
    }
   ],
   "source": [
    "users.info()"
   ]
  },
  {
   "cell_type": "code",
   "execution_count": 5,
   "metadata": {},
   "outputs": [
    {
     "data": {
      "text/plain": [
       "user_id     0.000000\n",
       "location    0.000000\n",
       "age         0.408756\n",
       "dtype: float64"
      ]
     },
     "execution_count": 5,
     "metadata": {},
     "output_type": "execute_result"
    }
   ],
   "source": [
    "users.isna().sum()/len(users)"
   ]
  },
  {
   "cell_type": "markdown",
   "metadata": {},
   "source": [
    "### Location"
   ]
  },
  {
   "cell_type": "code",
   "execution_count": 6,
   "metadata": {},
   "outputs": [
    {
     "data": {
      "text/plain": [
       "0                 timmins,ontario,canada\n",
       "1                  ottawa,ontario,canada\n",
       "2                               na,na,na\n",
       "3                 toronto,ontario,canada\n",
       "4        victoria,britishcolumbia,canada\n",
       "                      ...               \n",
       "68087          danville,pennsylvania,usa\n",
       "68088           victoria,delaware,canada\n",
       "68089              irvington,alabama,usa\n",
       "68090           vancouver,washington,usa\n",
       "68091          albuquerque,newmexico,usa\n",
       "Name: location, Length: 68092, dtype: object"
      ]
     },
     "execution_count": 6,
     "metadata": {},
     "output_type": "execute_result"
    }
   ],
   "source": [
    "users['location'] = users['location'].str.replace(r'[^0-9a-zA-Z:,]', '', regex=True)\n",
    "users['location']"
   ]
  },
  {
   "cell_type": "code",
   "execution_count": 7,
   "metadata": {},
   "outputs": [
    {
     "data": {
      "text/html": [
       "<div>\n",
       "<style scoped>\n",
       "    .dataframe tbody tr th:only-of-type {\n",
       "        vertical-align: middle;\n",
       "    }\n",
       "\n",
       "    .dataframe tbody tr th {\n",
       "        vertical-align: top;\n",
       "    }\n",
       "\n",
       "    .dataframe thead th {\n",
       "        text-align: right;\n",
       "    }\n",
       "</style>\n",
       "<table border=\"1\" class=\"dataframe\">\n",
       "  <thead>\n",
       "    <tr style=\"text-align: right;\">\n",
       "      <th></th>\n",
       "      <th>user_id</th>\n",
       "      <th>location</th>\n",
       "      <th>age</th>\n",
       "      <th>location_city</th>\n",
       "      <th>location_state</th>\n",
       "      <th>location_country</th>\n",
       "    </tr>\n",
       "  </thead>\n",
       "  <tbody>\n",
       "    <tr>\n",
       "      <th>0</th>\n",
       "      <td>8</td>\n",
       "      <td>timmins,ontario,canada</td>\n",
       "      <td>NaN</td>\n",
       "      <td>timmins</td>\n",
       "      <td>ontario</td>\n",
       "      <td>canada</td>\n",
       "    </tr>\n",
       "    <tr>\n",
       "      <th>1</th>\n",
       "      <td>11400</td>\n",
       "      <td>ottawa,ontario,canada</td>\n",
       "      <td>49.0</td>\n",
       "      <td>ottawa</td>\n",
       "      <td>ontario</td>\n",
       "      <td>canada</td>\n",
       "    </tr>\n",
       "    <tr>\n",
       "      <th>2</th>\n",
       "      <td>11676</td>\n",
       "      <td>na,na,na</td>\n",
       "      <td>NaN</td>\n",
       "      <td>NaN</td>\n",
       "      <td>NaN</td>\n",
       "      <td>NaN</td>\n",
       "    </tr>\n",
       "    <tr>\n",
       "      <th>3</th>\n",
       "      <td>67544</td>\n",
       "      <td>toronto,ontario,canada</td>\n",
       "      <td>30.0</td>\n",
       "      <td>toronto</td>\n",
       "      <td>ontario</td>\n",
       "      <td>canada</td>\n",
       "    </tr>\n",
       "    <tr>\n",
       "      <th>4</th>\n",
       "      <td>85526</td>\n",
       "      <td>victoria,britishcolumbia,canada</td>\n",
       "      <td>36.0</td>\n",
       "      <td>victoria</td>\n",
       "      <td>britishcolumbia</td>\n",
       "      <td>canada</td>\n",
       "    </tr>\n",
       "    <tr>\n",
       "      <th>...</th>\n",
       "      <td>...</td>\n",
       "      <td>...</td>\n",
       "      <td>...</td>\n",
       "      <td>...</td>\n",
       "      <td>...</td>\n",
       "      <td>...</td>\n",
       "    </tr>\n",
       "    <tr>\n",
       "      <th>68087</th>\n",
       "      <td>278376</td>\n",
       "      <td>danville,pennsylvania,usa</td>\n",
       "      <td>54.0</td>\n",
       "      <td>danville</td>\n",
       "      <td>pennsylvania</td>\n",
       "      <td>usa</td>\n",
       "    </tr>\n",
       "    <tr>\n",
       "      <th>68088</th>\n",
       "      <td>278621</td>\n",
       "      <td>victoria,delaware,canada</td>\n",
       "      <td>74.0</td>\n",
       "      <td>victoria</td>\n",
       "      <td>delaware</td>\n",
       "      <td>canada</td>\n",
       "    </tr>\n",
       "    <tr>\n",
       "      <th>68089</th>\n",
       "      <td>278636</td>\n",
       "      <td>irvington,alabama,usa</td>\n",
       "      <td>NaN</td>\n",
       "      <td>irvington</td>\n",
       "      <td>alabama</td>\n",
       "      <td>usa</td>\n",
       "    </tr>\n",
       "    <tr>\n",
       "      <th>68090</th>\n",
       "      <td>278659</td>\n",
       "      <td>vancouver,washington,usa</td>\n",
       "      <td>33.0</td>\n",
       "      <td>vancouver</td>\n",
       "      <td>washington</td>\n",
       "      <td>usa</td>\n",
       "    </tr>\n",
       "    <tr>\n",
       "      <th>68091</th>\n",
       "      <td>278713</td>\n",
       "      <td>albuquerque,newmexico,usa</td>\n",
       "      <td>63.0</td>\n",
       "      <td>albuquerque</td>\n",
       "      <td>newmexico</td>\n",
       "      <td>usa</td>\n",
       "    </tr>\n",
       "  </tbody>\n",
       "</table>\n",
       "<p>68092 rows × 6 columns</p>\n",
       "</div>"
      ],
      "text/plain": [
       "       user_id                         location   age location_city  \\\n",
       "0            8           timmins,ontario,canada   NaN       timmins   \n",
       "1        11400            ottawa,ontario,canada  49.0        ottawa   \n",
       "2        11676                         na,na,na   NaN           NaN   \n",
       "3        67544           toronto,ontario,canada  30.0       toronto   \n",
       "4        85526  victoria,britishcolumbia,canada  36.0      victoria   \n",
       "...        ...                              ...   ...           ...   \n",
       "68087   278376        danville,pennsylvania,usa  54.0      danville   \n",
       "68088   278621         victoria,delaware,canada  74.0      victoria   \n",
       "68089   278636            irvington,alabama,usa   NaN     irvington   \n",
       "68090   278659         vancouver,washington,usa  33.0     vancouver   \n",
       "68091   278713        albuquerque,newmexico,usa  63.0   albuquerque   \n",
       "\n",
       "        location_state location_country  \n",
       "0              ontario           canada  \n",
       "1              ontario           canada  \n",
       "2                  NaN              NaN  \n",
       "3              ontario           canada  \n",
       "4      britishcolumbia           canada  \n",
       "...                ...              ...  \n",
       "68087     pennsylvania              usa  \n",
       "68088         delaware           canada  \n",
       "68089          alabama              usa  \n",
       "68090       washington              usa  \n",
       "68091        newmexico              usa  \n",
       "\n",
       "[68092 rows x 6 columns]"
      ]
     },
     "execution_count": 7,
     "metadata": {},
     "output_type": "execute_result"
    }
   ],
   "source": [
    "users['location_city'] = users['location'].apply(lambda x: x.split(',')[0].strip())\n",
    "users['location_state'] = users['location'].apply(lambda x: x.split(',')[1].strip())\n",
    "users['location_country'] = users['location'].apply(lambda x: x.split(',')[2].strip())\n",
    "\n",
    "users = users.replace('na', np.nan)\n",
    "users = users.replace('', np.nan)\n",
    "users"
   ]
  },
  {
   "cell_type": "code",
   "execution_count": 8,
   "metadata": {},
   "outputs": [],
   "source": [
    "modify_location = users[(users['location_country'].isna())&(users['location_city'].notnull())]['location_city'].values\n",
    "\n",
    "location_list = []\n",
    "for location in modify_location:\n",
    "    try:\n",
    "        right_location = users[(users['location'].str.contains(location))&(users['location_country'].notnull())]['location'].value_counts().index[0]\n",
    "        location_list.append(right_location)\n",
    "    except:\n",
    "        pass"
   ]
  },
  {
   "cell_type": "code",
   "execution_count": 9,
   "metadata": {},
   "outputs": [],
   "source": [
    "for location in location_list:\n",
    "    users.loc[users[users['location_city']==location.split(',')[0]].index,'location_state'] = location.split(',')[1]\n",
    "    users.loc[users[users['location_city']==location.split(',')[0]].index,'location_country'] = location.split(',')[2]"
   ]
  },
  {
   "cell_type": "code",
   "execution_count": 10,
   "metadata": {},
   "outputs": [
    {
     "name": "stderr",
     "output_type": "stream",
     "text": [
      "100%|██████████| 215/215 [00:00<00:00, 228.47it/s]\n"
     ]
    }
   ],
   "source": [
    "others = users['location_country'].value_counts()[users['location_country'].value_counts() < 10].index\n",
    "for country in tqdm.tqdm(others) :\n",
    "    try :\n",
    "        users.loc[(users['location_country'] == country), 'location_country'] = 'others'\n",
    "    except :\n",
    "        pass"
   ]
  },
  {
   "cell_type": "code",
   "execution_count": 11,
   "metadata": {},
   "outputs": [],
   "source": [
    "users['location_country'] = users['location_country'].fillna('others')"
   ]
  },
  {
   "cell_type": "code",
   "execution_count": 12,
   "metadata": {},
   "outputs": [
    {
     "data": {
      "text/plain": [
       "54"
      ]
     },
     "execution_count": 12,
     "metadata": {},
     "output_type": "execute_result"
    }
   ],
   "source": [
    "users['location_country'].nunique()"
   ]
  },
  {
   "cell_type": "markdown",
   "metadata": {},
   "source": [
    "### AGE"
   ]
  },
  {
   "cell_type": "code",
   "execution_count": 13,
   "metadata": {},
   "outputs": [
    {
     "data": {
      "text/plain": [
       "0         NaN\n",
       "1        49.0\n",
       "2         NaN\n",
       "3        30.0\n",
       "4        36.0\n",
       "         ... \n",
       "68087    54.0\n",
       "68088    74.0\n",
       "68089     NaN\n",
       "68090    33.0\n",
       "68091    63.0\n",
       "Name: age, Length: 68092, dtype: float64"
      ]
     },
     "execution_count": 13,
     "metadata": {},
     "output_type": "execute_result"
    }
   ],
   "source": [
    "users['age']"
   ]
  },
  {
   "cell_type": "code",
   "execution_count": 14,
   "metadata": {},
   "outputs": [
    {
     "name": "stdout",
     "output_type": "stream",
     "text": [
      "0\n"
     ]
    }
   ],
   "source": [
    "country_age_median = users.groupby('location_country')['age'].median()\n",
    "users['age'] = users.apply(lambda x : country_age_median[x['location_country']] if pd.isna(x['age']) else x['age'], axis = 1)\n",
    "\n",
    "global_age_median = users['age'].median()\n",
    "users['age'].fillna(global_age_median, inplace = True)\n",
    "print(users['age'].isna().sum())\n"
   ]
  },
  {
   "cell_type": "code",
   "execution_count": 15,
   "metadata": {},
   "outputs": [
    {
     "data": {
      "text/html": [
       "<div>\n",
       "<style scoped>\n",
       "    .dataframe tbody tr th:only-of-type {\n",
       "        vertical-align: middle;\n",
       "    }\n",
       "\n",
       "    .dataframe tbody tr th {\n",
       "        vertical-align: top;\n",
       "    }\n",
       "\n",
       "    .dataframe thead th {\n",
       "        text-align: right;\n",
       "    }\n",
       "</style>\n",
       "<table border=\"1\" class=\"dataframe\">\n",
       "  <thead>\n",
       "    <tr style=\"text-align: right;\">\n",
       "      <th></th>\n",
       "      <th>age</th>\n",
       "      <th>age_category</th>\n",
       "    </tr>\n",
       "  </thead>\n",
       "  <tbody>\n",
       "    <tr>\n",
       "      <th>0</th>\n",
       "      <td>33.0</td>\n",
       "      <td>30</td>\n",
       "    </tr>\n",
       "    <tr>\n",
       "      <th>1</th>\n",
       "      <td>49.0</td>\n",
       "      <td>50</td>\n",
       "    </tr>\n",
       "    <tr>\n",
       "      <th>2</th>\n",
       "      <td>34.0</td>\n",
       "      <td>30</td>\n",
       "    </tr>\n",
       "    <tr>\n",
       "      <th>3</th>\n",
       "      <td>30.0</td>\n",
       "      <td>30</td>\n",
       "    </tr>\n",
       "    <tr>\n",
       "      <th>4</th>\n",
       "      <td>36.0</td>\n",
       "      <td>40</td>\n",
       "    </tr>\n",
       "    <tr>\n",
       "      <th>...</th>\n",
       "      <td>...</td>\n",
       "      <td>...</td>\n",
       "    </tr>\n",
       "    <tr>\n",
       "      <th>68087</th>\n",
       "      <td>54.0</td>\n",
       "      <td>50</td>\n",
       "    </tr>\n",
       "    <tr>\n",
       "      <th>68088</th>\n",
       "      <td>74.0</td>\n",
       "      <td>70</td>\n",
       "    </tr>\n",
       "    <tr>\n",
       "      <th>68089</th>\n",
       "      <td>36.0</td>\n",
       "      <td>40</td>\n",
       "    </tr>\n",
       "    <tr>\n",
       "      <th>68090</th>\n",
       "      <td>33.0</td>\n",
       "      <td>30</td>\n",
       "    </tr>\n",
       "    <tr>\n",
       "      <th>68091</th>\n",
       "      <td>63.0</td>\n",
       "      <td>60</td>\n",
       "    </tr>\n",
       "  </tbody>\n",
       "</table>\n",
       "<p>68092 rows × 2 columns</p>\n",
       "</div>"
      ],
      "text/plain": [
       "        age  age_category\n",
       "0      33.0            30\n",
       "1      49.0            50\n",
       "2      34.0            30\n",
       "3      30.0            30\n",
       "4      36.0            40\n",
       "...     ...           ...\n",
       "68087  54.0            50\n",
       "68088  74.0            70\n",
       "68089  36.0            40\n",
       "68090  33.0            30\n",
       "68091  63.0            60\n",
       "\n",
       "[68092 rows x 2 columns]"
      ]
     },
     "execution_count": 15,
     "metadata": {},
     "output_type": "execute_result"
    }
   ],
   "source": [
    "users['age_category'] = users['age'].round(-1).astype(int)\n",
    "users[['age', 'age_category']]"
   ]
  },
  {
   "cell_type": "code",
   "execution_count": 16,
   "metadata": {},
   "outputs": [
    {
     "name": "stdout",
     "output_type": "stream",
     "text": [
      "<class 'pandas.core.frame.DataFrame'>\n",
      "RangeIndex: 68092 entries, 0 to 68091\n",
      "Data columns (total 7 columns):\n",
      " #   Column            Non-Null Count  Dtype  \n",
      "---  ------            --------------  -----  \n",
      " 0   user_id           68092 non-null  int64  \n",
      " 1   location          68092 non-null  object \n",
      " 2   age               68092 non-null  float64\n",
      " 3   location_city     67970 non-null  object \n",
      " 4   location_state    66960 non-null  object \n",
      " 5   location_country  68092 non-null  object \n",
      " 6   age_category      68092 non-null  int64  \n",
      "dtypes: float64(1), int64(2), object(4)\n",
      "memory usage: 3.6+ MB\n"
     ]
    }
   ],
   "source": [
    "users.info()"
   ]
  },
  {
   "cell_type": "code",
   "execution_count": 17,
   "metadata": {},
   "outputs": [],
   "source": [
    "users.to_csv('./code/data/users_preprocessed.csv', index=False)"
   ]
  },
  {
   "cell_type": "markdown",
   "metadata": {},
   "source": [
    "## BOOKS\n"
   ]
  },
  {
   "cell_type": "code",
   "execution_count": 18,
   "metadata": {},
   "outputs": [
    {
     "name": "stdout",
     "output_type": "stream",
     "text": [
      "<class 'pandas.core.frame.DataFrame'>\n",
      "RangeIndex: 149570 entries, 0 to 149569\n",
      "Data columns (total 10 columns):\n",
      " #   Column               Non-Null Count   Dtype  \n",
      "---  ------               --------------   -----  \n",
      " 0   isbn                 149570 non-null  object \n",
      " 1   book_title           149570 non-null  object \n",
      " 2   book_author          149569 non-null  object \n",
      " 3   year_of_publication  149570 non-null  float64\n",
      " 4   publisher            149570 non-null  object \n",
      " 5   img_url              149570 non-null  object \n",
      " 6   language             82343 non-null   object \n",
      " 7   category             80719 non-null   object \n",
      " 8   summary              82343 non-null   object \n",
      " 9   img_path             149570 non-null  object \n",
      "dtypes: float64(1), object(9)\n",
      "memory usage: 11.4+ MB\n"
     ]
    }
   ],
   "source": [
    "books.info()"
   ]
  },
  {
   "cell_type": "code",
   "execution_count": 19,
   "metadata": {},
   "outputs": [
    {
     "data": {
      "text/plain": [
       "0         0002005018\n",
       "1         0060973129\n",
       "2         0374157065\n",
       "3         0399135782\n",
       "4         0425176428\n",
       "             ...    \n",
       "149565    067161746X\n",
       "149566    0767907566\n",
       "149567    0884159221\n",
       "149568    0912333022\n",
       "149569    1569661057\n",
       "Name: isbn, Length: 149570, dtype: object"
      ]
     },
     "execution_count": 19,
     "metadata": {},
     "output_type": "execute_result"
    }
   ],
   "source": [
    "books['isbn']"
   ]
  },
  {
   "cell_type": "code",
   "execution_count": 20,
   "metadata": {},
   "outputs": [
    {
     "data": {
      "text/html": [
       "<div>\n",
       "<style scoped>\n",
       "    .dataframe tbody tr th:only-of-type {\n",
       "        vertical-align: middle;\n",
       "    }\n",
       "\n",
       "    .dataframe tbody tr th {\n",
       "        vertical-align: top;\n",
       "    }\n",
       "\n",
       "    .dataframe thead th {\n",
       "        text-align: right;\n",
       "    }\n",
       "</style>\n",
       "<table border=\"1\" class=\"dataframe\">\n",
       "  <thead>\n",
       "    <tr style=\"text-align: right;\">\n",
       "      <th></th>\n",
       "      <th>ISBN_1</th>\n",
       "      <th>language</th>\n",
       "    </tr>\n",
       "  </thead>\n",
       "  <tbody>\n",
       "    <tr>\n",
       "      <th>0</th>\n",
       "      <td>0</td>\n",
       "      <td>en</td>\n",
       "    </tr>\n",
       "    <tr>\n",
       "      <th>1</th>\n",
       "      <td>0</td>\n",
       "      <td>en</td>\n",
       "    </tr>\n",
       "    <tr>\n",
       "      <th>2</th>\n",
       "      <td>0</td>\n",
       "      <td>en</td>\n",
       "    </tr>\n",
       "    <tr>\n",
       "      <th>3</th>\n",
       "      <td>0</td>\n",
       "      <td>en</td>\n",
       "    </tr>\n",
       "    <tr>\n",
       "      <th>4</th>\n",
       "      <td>0</td>\n",
       "      <td>en</td>\n",
       "    </tr>\n",
       "    <tr>\n",
       "      <th>...</th>\n",
       "      <td>...</td>\n",
       "      <td>...</td>\n",
       "    </tr>\n",
       "    <tr>\n",
       "      <th>149565</th>\n",
       "      <td>0</td>\n",
       "      <td>en</td>\n",
       "    </tr>\n",
       "    <tr>\n",
       "      <th>149566</th>\n",
       "      <td>0</td>\n",
       "      <td>en</td>\n",
       "    </tr>\n",
       "    <tr>\n",
       "      <th>149567</th>\n",
       "      <td>0</td>\n",
       "      <td>NaN</td>\n",
       "    </tr>\n",
       "    <tr>\n",
       "      <th>149568</th>\n",
       "      <td>0</td>\n",
       "      <td>en</td>\n",
       "    </tr>\n",
       "    <tr>\n",
       "      <th>149569</th>\n",
       "      <td>1</td>\n",
       "      <td>NaN</td>\n",
       "    </tr>\n",
       "  </tbody>\n",
       "</table>\n",
       "<p>149570 rows × 2 columns</p>\n",
       "</div>"
      ],
      "text/plain": [
       "       ISBN_1 language\n",
       "0           0       en\n",
       "1           0       en\n",
       "2           0       en\n",
       "3           0       en\n",
       "4           0       en\n",
       "...       ...      ...\n",
       "149565      0       en\n",
       "149566      0       en\n",
       "149567      0      NaN\n",
       "149568      0       en\n",
       "149569      1      NaN\n",
       "\n",
       "[149570 rows x 2 columns]"
      ]
     },
     "execution_count": 20,
     "metadata": {},
     "output_type": "execute_result"
    }
   ],
   "source": [
    "isbn_firstdigit = books['isbn'].str[0]\n",
    "\n",
    "p = pd.DataFrame({'ISBN_1': isbn_firstdigit, 'language': books['language']})\n",
    "p"
   ]
  },
  {
   "cell_type": "code",
   "execution_count": 21,
   "metadata": {},
   "outputs": [
    {
     "data": {
      "image/png": "[encoded data removed]",
      "text/plain": [
       "<Figure size 1000x600 with 1 Axes>"
      ]
     },
     "metadata": {},
     "output_type": "display_data"
    }
   ],
   "source": [
    "import matplotlib.pyplot as plt\n",
    "\n",
    "grouped_data = p.groupby(['ISBN_1', 'language']).size().reset_index(name='Count')\n",
    "grouped_data = grouped_data[grouped_data['Count'] > 10]\n",
    "grouped_data\n",
    "plt.figure(figsize=(10, 6))\n",
    "plt.bar(grouped_data['ISBN_1'] + '-' + grouped_data['language'], grouped_data['Count'])\n",
    "plt.xlabel('ISBN First Digit - Language')\n",
    "plt.ylabel('Count')\n",
    "plt.title('Frequency of First Digit of ISBN and Language Combinations')\n",
    "plt.xticks(rotation=45)\n",
    "plt.show()"
   ]
  },
  {
   "cell_type": "code",
   "execution_count": 22,
   "metadata": {},
   "outputs": [],
   "source": [
    "import seaborn as sns"
   ]
  },
  {
   "cell_type": "code",
   "execution_count": 23,
   "metadata": {},
   "outputs": [
    {
     "name": "stderr",
     "output_type": "stream",
     "text": [
      "/tmp/ipykernel_337868/3725330213.py:6: UserWarning: set_ticklabels() should only be used with a fixed number of ticks, i.e. after set_ticks() or using a FixedLocator.\n",
      "  ax.set_xticklabels(ax.get_xticklabels(), rotation=45,horizontalalignment='center')\n"
     ]
    },
    {
     "data": {
      "image/png": "[encoded data removed]",
      "text/plain": [
       "<Figure size 1100x600 with 1 Axes>"
      ]
     },
     "metadata": {},
     "output_type": "display_data"
    }
   ],
   "source": [
    "my_dict=(books['year_of_publication'].value_counts()).to_dict()\n",
    "count= pd.DataFrame(list(my_dict.items()),columns = ['year_of_publication','count'])\n",
    "f = count.sort_values(by=['count'], ascending = False)\n",
    "fig=plt.figure(figsize=(11,6))\n",
    "ax = sns.barplot(y = 'count',x= 'year_of_publication' , data = f)\n",
    "ax.set_xticklabels(ax.get_xticklabels(), rotation=45,horizontalalignment='center')\n",
    "for bar in ax.patches:\n",
    "    ax.annotate(format(bar.get_height(), '.0f'),\n",
    "                   (bar.get_x() + bar.get_width() / 2,\n",
    "                    bar.get_height()), ha='center', va='center',\n",
    "                   size=8, xytext=(0,8),\n",
    "                   textcoords='offset points')\n",
    "\n",
    "plt.xlabel(\"Publication year\", size=10)\n",
    "plt.ylabel(\"# of Books\", size=10)\n",
    "plt.show()"
   ]
  },
  {
   "cell_type": "code",
   "execution_count": 24,
   "metadata": {},
   "outputs": [
    {
     "data": {
      "text/plain": [
       "years_category\n",
       "2000    72358\n",
       "2010    46301\n",
       "1990    23809\n",
       "1980     5636\n",
       "1970     1466\n",
       "Name: count, dtype: int64"
      ]
     },
     "execution_count": 24,
     "metadata": {},
     "output_type": "execute_result"
    }
   ],
   "source": [
    "def preprocess_year(x) :\n",
    "    if x < 1970 :\n",
    "        return 1970\n",
    "    elif (x >= 1970) and (x < 1980) :\n",
    "        return 1980\n",
    "    elif (x >= 1980) and (x < 1990) :\n",
    "        return 1990\n",
    "    elif (x >= 1990) and (x < 2000) :\n",
    "        return 2000\n",
    "    else :\n",
    "        return 2010\n",
    "\n",
    "books['years_category'] = books['year_of_publication'].apply(preprocess_year)\n",
    "books['years_category'].value_counts()"
   ]
  },
  {
   "cell_type": "code",
   "execution_count": 25,
   "metadata": {},
   "outputs": [
    {
     "name": "stderr",
     "output_type": "stream",
     "text": [
      "/tmp/ipykernel_337868/3861280092.py:6: UserWarning: set_ticklabels() should only be used with a fixed number of ticks, i.e. after set_ticks() or using a FixedLocator.\n",
      "  ax.set_xticklabels(ax.get_xticklabels(), rotation=45,horizontalalignment='center')\n"
     ]
    },
    {
     "data": {
      "image/png": "[encoded data removed]",
      "text/plain": [
       "<Figure size 1100x600 with 1 Axes>"
      ]
     },
     "metadata": {},
     "output_type": "display_data"
    }
   ],
   "source": [
    "my_dict=(books['years_category'].value_counts()).to_dict()\n",
    "count= pd.DataFrame(list(my_dict.items()),columns = ['years_category','count'])\n",
    "f = count.sort_values(by=['count'], ascending = False)\n",
    "fig=plt.figure(figsize=(11,6))\n",
    "ax = sns.barplot(y = 'count',x= 'years_category' , data = f)\n",
    "ax.set_xticklabels(ax.get_xticklabels(), rotation=45,horizontalalignment='center')\n",
    "for bar in ax.patches:\n",
    "    ax.annotate(format(bar.get_height(), '.0f'),\n",
    "                   (bar.get_x() + bar.get_width() / 2,\n",
    "                    bar.get_height()), ha='center', va='center',\n",
    "                   size=8, xytext=(0,8),\n",
    "                   textcoords='offset points')\n",
    "\n",
    "plt.xlabel(\"Publication year\", size=10)\n",
    "plt.ylabel(\"# of Books\", size=10)\n",
    "plt.show()"
   ]
  },
  {
   "cell_type": "code",
   "execution_count": 26,
   "metadata": {},
   "outputs": [
    {
     "data": {
      "text/html": [
       "<div>\n",
       "<style scoped>\n",
       "    .dataframe tbody tr th:only-of-type {\n",
       "        vertical-align: middle;\n",
       "    }\n",
       "\n",
       "    .dataframe tbody tr th {\n",
       "        vertical-align: top;\n",
       "    }\n",
       "\n",
       "    .dataframe thead th {\n",
       "        text-align: right;\n",
       "    }\n",
       "</style>\n",
       "<table border=\"1\" class=\"dataframe\">\n",
       "  <thead>\n",
       "    <tr style=\"text-align: right;\">\n",
       "      <th></th>\n",
       "      <th>publisher</th>\n",
       "      <th>count</th>\n",
       "    </tr>\n",
       "  </thead>\n",
       "  <tbody>\n",
       "    <tr>\n",
       "      <th>0</th>\n",
       "      <td>Harlequin</td>\n",
       "      <td>3005</td>\n",
       "    </tr>\n",
       "    <tr>\n",
       "      <th>1</th>\n",
       "      <td>Ballantine Books</td>\n",
       "      <td>2322</td>\n",
       "    </tr>\n",
       "    <tr>\n",
       "      <th>2</th>\n",
       "      <td>Pocket</td>\n",
       "      <td>2274</td>\n",
       "    </tr>\n",
       "    <tr>\n",
       "      <th>3</th>\n",
       "      <td>Penguin Books</td>\n",
       "      <td>1943</td>\n",
       "    </tr>\n",
       "    <tr>\n",
       "      <th>4</th>\n",
       "      <td>Bantam Books</td>\n",
       "      <td>1938</td>\n",
       "    </tr>\n",
       "  </tbody>\n",
       "</table>\n",
       "</div>"
      ],
      "text/plain": [
       "          publisher  count\n",
       "0         Harlequin   3005\n",
       "1  Ballantine Books   2322\n",
       "2            Pocket   2274\n",
       "3     Penguin Books   1943\n",
       "4      Bantam Books   1938"
      ]
     },
     "execution_count": 26,
     "metadata": {},
     "output_type": "execute_result"
    }
   ],
   "source": [
    "publisher_dict=(books['publisher'].value_counts()).to_dict()\n",
    "publisher_count_df= pd.DataFrame(list(publisher_dict.items()),columns = ['publisher','count'])\n",
    "\n",
    "publisher_count_df = publisher_count_df.sort_values(by=['count'], ascending = False)\n",
    "publisher_count_df.head()"
   ]
  },
  {
   "cell_type": "code",
   "execution_count": 27,
   "metadata": {},
   "outputs": [
    {
     "data": {
      "text/plain": [
       "11571"
      ]
     },
     "execution_count": 27,
     "metadata": {},
     "output_type": "execute_result"
    }
   ],
   "source": [
    "books['publisher'].nunique() # 수정전 항목 수를 확인합니다."
   ]
  },
  {
   "cell_type": "code",
   "execution_count": 28,
   "metadata": {},
   "outputs": [],
   "source": [
    "modify_list = publisher_count_df[publisher_count_df['count']>1].publisher.values\n",
    "\n",
    "for publisher in modify_list:\n",
    "    try:\n",
    "        number = books[books['publisher']==publisher]['isbn'].apply(lambda x: x[:4]).value_counts().index[0]\n",
    "        right_publisher = books[books['isbn'].apply(lambda x: x[:4])==number]['publisher'].value_counts().index[0]\n",
    "        books.loc[books[books['isbn'].apply(lambda x: x[:4])==number].index,'publisher'] = right_publisher\n",
    "    except:\n",
    "        pass"
   ]
  },
  {
   "cell_type": "code",
   "execution_count": 29,
   "metadata": {},
   "outputs": [
    {
     "data": {
      "text/plain": [
       "1522"
      ]
     },
     "execution_count": 29,
     "metadata": {},
     "output_type": "execute_result"
    }
   ],
   "source": [
    "books['publisher'].nunique() #수정 후 출판사 갯수입니다"
   ]
  },
  {
   "cell_type": "code",
   "execution_count": 30,
   "metadata": {},
   "outputs": [
    {
     "data": {
      "text/plain": [
       "publisher\n",
       "Pocket                                            7306\n",
       "Harlequin                                         5268\n",
       "Bantam Books                                      4815\n",
       "St. Martin's Press                                4043\n",
       "Vintage Books USA                                 3822\n",
       "                                                  ... \n",
       "Cornelsen Lernhilfen                                 1\n",
       "Heinemann Educational Books - Library Division       1\n",
       "Scottish Academic Press                              1\n",
       "BZZTÃ´H                                              1\n",
       "Rosmen                                               1\n",
       "Name: count, Length: 1522, dtype: int64"
      ]
     },
     "execution_count": 30,
     "metadata": {},
     "output_type": "execute_result"
    }
   ],
   "source": [
    "books['publisher'].value_counts()"
   ]
  },
  {
   "cell_type": "code",
   "execution_count": 31,
   "metadata": {},
   "outputs": [
    {
     "data": {
      "text/plain": [
       "0"
      ]
     },
     "execution_count": 31,
     "metadata": {},
     "output_type": "execute_result"
    }
   ],
   "source": [
    "region_code = set([code[:1] for code in books['isbn']])\n",
    "\n",
    "region_lang = dict()\n",
    "\n",
    "for code in region_code :\n",
    "    lang = books.loc[books['isbn'].str.startswith(str(code)), 'language']\n",
    "    mode = lang.mode()[0] if not code == 'B' else 'en' # 'B'로 시작하는 행들은 모두 NaN여서, 'en'으로 대체\n",
    "    books.loc[(books['isbn'].str.startswith(str(code))) & (books['language'].isna()), 'language'] = mode\n",
    "\n",
    "books['language'].isna().sum()"
   ]
  },
  {
   "cell_type": "code",
   "execution_count": 32,
   "metadata": {},
   "outputs": [
    {
     "data": {
      "text/plain": [
       "category\n",
       "Fiction                     32956\n",
       "Juvenile Fiction             5804\n",
       "Biography Autobiography      3320\n",
       "History                      1925\n",
       "Religion                     1818\n",
       "                            ...  \n",
       "Journalistes Déontologie        1\n",
       "Babytime resource               1\n",
       "Mercenary troops                1\n",
       "Hijacking of aircraft           1\n",
       "Jewish women                    1\n",
       "Name: count, Length: 4137, dtype: int64"
      ]
     },
     "execution_count": 32,
     "metadata": {},
     "output_type": "execute_result"
    }
   ],
   "source": [
    "import re\n",
    "books.loc[books[books['category'].notnull()].index, 'category'] = books[books['category'].notnull()]['category'].apply(lambda x: re.sub('[\\W_]+',' ',x).strip())\n",
    "books['category'].value_counts()"
   ]
  },
  {
   "cell_type": "code",
   "execution_count": 33,
   "metadata": {},
   "outputs": [
    {
     "name": "stderr",
     "output_type": "stream",
     "text": [
      "/tmp/ipykernel_337868/4229554594.py:28: SettingWithCopyWarning: \n",
      "A value is trying to be set on a copy of a slice from a DataFrame.\n",
      "Try using .loc[row_indexer,col_indexer] = value instead\n",
      "\n",
      "See the caveats in the documentation: https://pandas.pydata.org/pandas-docs/stable/user_guide/indexing.html#returning-a-view-versus-a-copy\n",
      "  test_data.loc[:, 'predicted_category'] = predicted_categories\n"
     ]
    }
   ],
   "source": [
    "import pandas as pd\n",
    "from sklearn.model_selection import train_test_split\n",
    "from sklearn.feature_extraction.text import TfidfVectorizer\n",
    "from sklearn.naive_bayes import MultinomialNB\n",
    "from sklearn.pipeline import make_pipeline\n",
    "from sklearn.metrics import classification_report\n",
    "\n",
    "# 데이터 로딩\n",
    "books2 = books.copy()\n",
    "\n",
    "# 결측치 처리\n",
    "books2.dropna(subset=['book_author', 'book_title'], inplace=True)\n",
    "\n",
    "# 데이터셋 분할\n",
    "train_data = books2[books2['category'].notna()]\n",
    "test_data = books2[books2['category'].isna()]\n",
    "\n",
    "# 모델 파이프라인 구축\n",
    "model = make_pipeline(TfidfVectorizer(), MultinomialNB())\n",
    "\n",
    "# 모델 훈련\n",
    "model.fit(train_data['book_author'] + \" \" + train_data['book_title'], train_data['category'])\n",
    "\n",
    "# 결측 category 예측\n",
    "predicted_categories = model.predict(test_data['book_author'] + \" \" + test_data['book_title'])\n",
    "\n",
    "# 예측 결과 적용\n",
    "test_data.loc[:, 'predicted_category'] = predicted_categories\n"
   ]
  },
  {
   "cell_type": "code",
   "execution_count": 35,
   "metadata": {},
   "outputs": [
    {
     "data": {
      "text/plain": [
       "predicted_category\n",
       "Fiction                    67494\n",
       "Juvenile Fiction            1154\n",
       "Computers                     50\n",
       "Religion                      41\n",
       "Cooking                       33\n",
       "Biography Autobiography       30\n",
       "Health Fitness                18\n",
       "Business Economics            10\n",
       "Humor                          9\n",
       "History                        4\n",
       "Juvenile Nonfiction            3\n",
       "Body Mind Spirit               2\n",
       "Poetry                         1\n",
       "Family Relationships           1\n",
       "Name: count, dtype: int64"
      ]
     },
     "execution_count": 35,
     "metadata": {},
     "output_type": "execute_result"
    }
   ],
   "source": [
    "category_counts = test_data['predicted_category'].value_counts()\n",
    "category_counts"
   ]
  },
  {
   "cell_type": "code",
   "execution_count": 37,
   "metadata": {},
   "outputs": [],
   "source": [
    "predicted_categories_df = test_data[['isbn', 'predicted_category']]\n"
   ]
  },
  {
   "cell_type": "code",
   "execution_count": 38,
   "metadata": {},
   "outputs": [],
   "source": [
    "books = books.merge(predicted_categories_df, on='isbn', how='left')\n"
   ]
  },
  {
   "cell_type": "code",
   "execution_count": 44,
   "metadata": {},
   "outputs": [],
   "source": [
    "books['category'] = books.apply(\n",
    "    lambda row: row['predicted_category_x'] if pd.isna(row['category']) else row['category'],\n",
    "    axis=1\n",
    ")"
   ]
  },
  {
   "cell_type": "code",
   "execution_count": 45,
   "metadata": {},
   "outputs": [],
   "source": [
    "books.drop('predicted_category_x', axis=1, inplace=True)\n"
   ]
  },
  {
   "cell_type": "code",
   "execution_count": 46,
   "metadata": {},
   "outputs": [
    {
     "data": {
      "text/html": [
       "<div>\n",
       "<style scoped>\n",
       "    .dataframe tbody tr th:only-of-type {\n",
       "        vertical-align: middle;\n",
       "    }\n",
       "\n",
       "    .dataframe tbody tr th {\n",
       "        vertical-align: top;\n",
       "    }\n",
       "\n",
       "    .dataframe thead th {\n",
       "        text-align: right;\n",
       "    }\n",
       "</style>\n",
       "<table border=\"1\" class=\"dataframe\">\n",
       "  <thead>\n",
       "    <tr style=\"text-align: right;\">\n",
       "      <th></th>\n",
       "      <th>isbn</th>\n",
       "      <th>book_title</th>\n",
       "      <th>book_author</th>\n",
       "      <th>year_of_publication</th>\n",
       "      <th>publisher</th>\n",
       "      <th>img_url</th>\n",
       "      <th>language</th>\n",
       "      <th>category</th>\n",
       "      <th>summary</th>\n",
       "      <th>img_path</th>\n",
       "      <th>years_category</th>\n",
       "    </tr>\n",
       "  </thead>\n",
       "  <tbody>\n",
       "    <tr>\n",
       "      <th>0</th>\n",
       "      <td>0002005018</td>\n",
       "      <td>Clara Callan</td>\n",
       "      <td>Richard Bruce Wright</td>\n",
       "      <td>2001.0</td>\n",
       "      <td>Collins</td>\n",
       "      <td>http://images.amazon.com/images/P/0002005018.0...</td>\n",
       "      <td>en</td>\n",
       "      <td>Actresses</td>\n",
       "      <td>In a small town in Canada, Clara Callan reluct...</td>\n",
       "      <td>images/0002005018.01.THUMBZZZ.jpg</td>\n",
       "      <td>2010</td>\n",
       "    </tr>\n",
       "    <tr>\n",
       "      <th>1</th>\n",
       "      <td>0060973129</td>\n",
       "      <td>Decision in Normandy</td>\n",
       "      <td>Carlo D'Este</td>\n",
       "      <td>1991.0</td>\n",
       "      <td>Perennial</td>\n",
       "      <td>http://images.amazon.com/images/P/0060973129.0...</td>\n",
       "      <td>en</td>\n",
       "      <td>1940 1949</td>\n",
       "      <td>Here, for the first time in paperback, is an o...</td>\n",
       "      <td>images/0060973129.01.THUMBZZZ.jpg</td>\n",
       "      <td>2000</td>\n",
       "    </tr>\n",
       "    <tr>\n",
       "      <th>2</th>\n",
       "      <td>0374157065</td>\n",
       "      <td>Flu: The Story of the Great Influenza Pandemic...</td>\n",
       "      <td>Gina Bari Kolata</td>\n",
       "      <td>1999.0</td>\n",
       "      <td>Farrar Straus Giroux</td>\n",
       "      <td>http://images.amazon.com/images/P/0374157065.0...</td>\n",
       "      <td>en</td>\n",
       "      <td>Medical</td>\n",
       "      <td>Describes the great flu epidemic of 1918, an o...</td>\n",
       "      <td>images/0374157065.01.THUMBZZZ.jpg</td>\n",
       "      <td>2000</td>\n",
       "    </tr>\n",
       "    <tr>\n",
       "      <th>3</th>\n",
       "      <td>0399135782</td>\n",
       "      <td>The Kitchen God's Wife</td>\n",
       "      <td>Amy Tan</td>\n",
       "      <td>1991.0</td>\n",
       "      <td>Putnam Pub Group</td>\n",
       "      <td>http://images.amazon.com/images/P/0399135782.0...</td>\n",
       "      <td>en</td>\n",
       "      <td>Fiction</td>\n",
       "      <td>A Chinese immigrant who is convinced she is dy...</td>\n",
       "      <td>images/0399135782.01.THUMBZZZ.jpg</td>\n",
       "      <td>2000</td>\n",
       "    </tr>\n",
       "    <tr>\n",
       "      <th>4</th>\n",
       "      <td>0425176428</td>\n",
       "      <td>What If?: The World's Foremost Military Histor...</td>\n",
       "      <td>Robert Cowley</td>\n",
       "      <td>2000.0</td>\n",
       "      <td>Berkley Publishing Group</td>\n",
       "      <td>http://images.amazon.com/images/P/0425176428.0...</td>\n",
       "      <td>en</td>\n",
       "      <td>History</td>\n",
       "      <td>Essays by respected military historians, inclu...</td>\n",
       "      <td>images/0425176428.01.THUMBZZZ.jpg</td>\n",
       "      <td>2010</td>\n",
       "    </tr>\n",
       "    <tr>\n",
       "      <th>...</th>\n",
       "      <td>...</td>\n",
       "      <td>...</td>\n",
       "      <td>...</td>\n",
       "      <td>...</td>\n",
       "      <td>...</td>\n",
       "      <td>...</td>\n",
       "      <td>...</td>\n",
       "      <td>...</td>\n",
       "      <td>...</td>\n",
       "      <td>...</td>\n",
       "      <td>...</td>\n",
       "    </tr>\n",
       "    <tr>\n",
       "      <th>149565</th>\n",
       "      <td>067161746X</td>\n",
       "      <td>The Bachelor Home Companion: A Practical Guide...</td>\n",
       "      <td>P.J. O'Rourke</td>\n",
       "      <td>1987.0</td>\n",
       "      <td>Pocket</td>\n",
       "      <td>http://images.amazon.com/images/P/067161746X.0...</td>\n",
       "      <td>en</td>\n",
       "      <td>Humor</td>\n",
       "      <td>A tongue-in-cheek survival guide for single pe...</td>\n",
       "      <td>images/067161746X.01.THUMBZZZ.jpg</td>\n",
       "      <td>1990</td>\n",
       "    </tr>\n",
       "    <tr>\n",
       "      <th>149566</th>\n",
       "      <td>0767907566</td>\n",
       "      <td>All Elevations Unknown: An Adventure in the He...</td>\n",
       "      <td>Sam Lightner</td>\n",
       "      <td>2001.0</td>\n",
       "      <td>Broadway Books</td>\n",
       "      <td>http://images.amazon.com/images/P/0767907566.0...</td>\n",
       "      <td>en</td>\n",
       "      <td>Nature</td>\n",
       "      <td>A daring twist on the travel-adventure genre t...</td>\n",
       "      <td>images/0767907566.01.THUMBZZZ.jpg</td>\n",
       "      <td>2010</td>\n",
       "    </tr>\n",
       "    <tr>\n",
       "      <th>149567</th>\n",
       "      <td>0884159221</td>\n",
       "      <td>Why stop?: A guide to Texas historical roadsid...</td>\n",
       "      <td>Claude Dooley</td>\n",
       "      <td>1985.0</td>\n",
       "      <td>Bridge Publications</td>\n",
       "      <td>http://images.amazon.com/images/P/0884159221.0...</td>\n",
       "      <td>en</td>\n",
       "      <td>Fiction</td>\n",
       "      <td>NaN</td>\n",
       "      <td>images/0884159221.01.THUMBZZZ.jpg</td>\n",
       "      <td>1990</td>\n",
       "    </tr>\n",
       "    <tr>\n",
       "      <th>149568</th>\n",
       "      <td>0912333022</td>\n",
       "      <td>The Are You Being Served? Stories: 'Camping In...</td>\n",
       "      <td>Jeremy Lloyd</td>\n",
       "      <td>1997.0</td>\n",
       "      <td>Pub Group West</td>\n",
       "      <td>http://images.amazon.com/images/P/0912333022.0...</td>\n",
       "      <td>en</td>\n",
       "      <td>Fiction</td>\n",
       "      <td>These hilarious stories by the creator of publ...</td>\n",
       "      <td>images/0912333022.01.THUMBZZZ.jpg</td>\n",
       "      <td>2000</td>\n",
       "    </tr>\n",
       "    <tr>\n",
       "      <th>149569</th>\n",
       "      <td>1569661057</td>\n",
       "      <td>Dallas Street Map Guide and Directory, 2000 Ed...</td>\n",
       "      <td>Mapsco</td>\n",
       "      <td>1999.0</td>\n",
       "      <td>Soho Press</td>\n",
       "      <td>http://images.amazon.com/images/P/1569661057.0...</td>\n",
       "      <td>en</td>\n",
       "      <td>Fiction</td>\n",
       "      <td>NaN</td>\n",
       "      <td>images/1569661057.01.THUMBZZZ.jpg</td>\n",
       "      <td>2000</td>\n",
       "    </tr>\n",
       "  </tbody>\n",
       "</table>\n",
       "<p>149570 rows × 11 columns</p>\n",
       "</div>"
      ],
      "text/plain": [
       "              isbn                                         book_title  \\\n",
       "0       0002005018                                       Clara Callan   \n",
       "1       0060973129                               Decision in Normandy   \n",
       "2       0374157065  Flu: The Story of the Great Influenza Pandemic...   \n",
       "3       0399135782                             The Kitchen God's Wife   \n",
       "4       0425176428  What If?: The World's Foremost Military Histor...   \n",
       "...            ...                                                ...   \n",
       "149565  067161746X  The Bachelor Home Companion: A Practical Guide...   \n",
       "149566  0767907566  All Elevations Unknown: An Adventure in the He...   \n",
       "149567  0884159221  Why stop?: A guide to Texas historical roadsid...   \n",
       "149568  0912333022  The Are You Being Served? Stories: 'Camping In...   \n",
       "149569  1569661057  Dallas Street Map Guide and Directory, 2000 Ed...   \n",
       "\n",
       "                 book_author  year_of_publication                 publisher  \\\n",
       "0       Richard Bruce Wright               2001.0                   Collins   \n",
       "1               Carlo D'Este               1991.0                 Perennial   \n",
       "2           Gina Bari Kolata               1999.0      Farrar Straus Giroux   \n",
       "3                    Amy Tan               1991.0          Putnam Pub Group   \n",
       "4              Robert Cowley               2000.0  Berkley Publishing Group   \n",
       "...                      ...                  ...                       ...   \n",
       "149565         P.J. O'Rourke               1987.0                    Pocket   \n",
       "149566          Sam Lightner               2001.0            Broadway Books   \n",
       "149567         Claude Dooley               1985.0       Bridge Publications   \n",
       "149568          Jeremy Lloyd               1997.0            Pub Group West   \n",
       "149569                Mapsco               1999.0                Soho Press   \n",
       "\n",
       "                                                  img_url language   category  \\\n",
       "0       http://images.amazon.com/images/P/0002005018.0...       en  Actresses   \n",
       "1       http://images.amazon.com/images/P/0060973129.0...       en  1940 1949   \n",
       "2       http://images.amazon.com/images/P/0374157065.0...       en    Medical   \n",
       "3       http://images.amazon.com/images/P/0399135782.0...       en    Fiction   \n",
       "4       http://images.amazon.com/images/P/0425176428.0...       en    History   \n",
       "...                                                   ...      ...        ...   \n",
       "149565  http://images.amazon.com/images/P/067161746X.0...       en      Humor   \n",
       "149566  http://images.amazon.com/images/P/0767907566.0...       en     Nature   \n",
       "149567  http://images.amazon.com/images/P/0884159221.0...       en    Fiction   \n",
       "149568  http://images.amazon.com/images/P/0912333022.0...       en    Fiction   \n",
       "149569  http://images.amazon.com/images/P/1569661057.0...       en    Fiction   \n",
       "\n",
       "                                                  summary  \\\n",
       "0       In a small town in Canada, Clara Callan reluct...   \n",
       "1       Here, for the first time in paperback, is an o...   \n",
       "2       Describes the great flu epidemic of 1918, an o...   \n",
       "3       A Chinese immigrant who is convinced she is dy...   \n",
       "4       Essays by respected military historians, inclu...   \n",
       "...                                                   ...   \n",
       "149565  A tongue-in-cheek survival guide for single pe...   \n",
       "149566  A daring twist on the travel-adventure genre t...   \n",
       "149567                                                NaN   \n",
       "149568  These hilarious stories by the creator of publ...   \n",
       "149569                                                NaN   \n",
       "\n",
       "                                 img_path  years_category  \n",
       "0       images/0002005018.01.THUMBZZZ.jpg            2010  \n",
       "1       images/0060973129.01.THUMBZZZ.jpg            2000  \n",
       "2       images/0374157065.01.THUMBZZZ.jpg            2000  \n",
       "3       images/0399135782.01.THUMBZZZ.jpg            2000  \n",
       "4       images/0425176428.01.THUMBZZZ.jpg            2010  \n",
       "...                                   ...             ...  \n",
       "149565  images/067161746X.01.THUMBZZZ.jpg            1990  \n",
       "149566  images/0767907566.01.THUMBZZZ.jpg            2010  \n",
       "149567  images/0884159221.01.THUMBZZZ.jpg            1990  \n",
       "149568  images/0912333022.01.THUMBZZZ.jpg            2000  \n",
       "149569  images/1569661057.01.THUMBZZZ.jpg            2000  \n",
       "\n",
       "[149570 rows x 11 columns]"
      ]
     },
     "execution_count": 46,
     "metadata": {},
     "output_type": "execute_result"
    }
   ],
   "source": [
    "books"
   ]
  },
  {
   "cell_type": "code",
   "execution_count": 47,
   "metadata": {},
   "outputs": [],
   "source": [
    "books.to_csv('./code/data/books_preprocessed.csv', index=False)"
   ]
  },
  {
   "cell_type": "code",
   "execution_count": 51,
   "metadata": {},
   "outputs": [
    {
     "name": "stdout",
     "output_type": "stream",
     "text": [
      "CatBoost Version : 1.2.2\n"
     ]
    }
   ],
   "source": [
    "import random\n",
    "import torch\n",
    "import os\n",
    "\n",
    "from sklearn.model_selection import train_test_split, StratifiedKFold\n",
    "from sklearn.metrics import mean_squared_error\n",
    "import catboost\n",
    "from catboost import CatBoostRegressor\n",
    "print(f'CatBoost Version : {catboost.__version__}')\n",
    "\n",
    "import optuna\n",
    "from optuna import Trial, visualization\n",
    "from optuna.samplers import TPESampler\n",
    "\n",
    "# 경고 메시지 숨기기\n",
    "import warnings\n",
    "warnings.filterwarnings(action = 'ignore')\n",
    "\n",
    "# Seed 고정\n",
    "SEED = 42\n",
    "def seed_everything(seed):\n",
    "    random.seed(seed)\n",
    "    np.random.seed(seed)\n",
    "    # tf.random.set_seed(seed)\n",
    "    torch.manual_seed(seed)\n",
    "    torch.cuda.manual_seed_all(seed)\n",
    "    torch.backends.cudnn.benchmark = False\n",
    "    torch.use_deterministic_algorithms(False) # True\n",
    "    os.environ['PYTHONHASHSEED'] = str(seed)\n",
    "    os.environ['TF_ENABLE_ONEDNN_OPTS'] = '0'\n",
    "seed_everything(SEED)"
   ]
  },
  {
   "cell_type": "code",
   "execution_count": 52,
   "metadata": {},
   "outputs": [
    {
     "name": "stdout",
     "output_type": "stream",
     "text": [
      "(149570, 11) (68092, 7) (306795, 3) (76699, 3)\n"
     ]
    }
   ],
   "source": [
    "rating_train = pd.read_csv('./code/data/train_ratings.csv')\n",
    "rating_test = pd.read_csv('./code/data/test_ratings.csv')\n",
    "print(books.shape, users.shape, rating_train.shape, rating_test.shape)"
   ]
  },
  {
   "cell_type": "code",
   "execution_count": 57,
   "metadata": {},
   "outputs": [
    {
     "name": "stderr",
     "output_type": "stream",
     "text": [
      "0it [00:00, ?it/s]\n",
      "0it [00:00, ?it/s]\n",
      "100%|██████████| 48/48 [00:02<00:00, 17.19it/s]\n"
     ]
    }
   ],
   "source": [
    "# country가 결측 / state 결측 X인 경우\n",
    "states = users[(users['location_state'].notnull()) & (users['location_country'].isna())]['location_state'].values\n",
    "\n",
    "for state in tqdm.tqdm(states) :\n",
    "    try :\n",
    "        country = users.loc[(users['location'].str.contains(state)), 'location_country'].value_counts().index[0]\n",
    "        users.loc[(users['location'].str.contains(state)) & (users['location_country'].isna()), 'location_country'] = country\n",
    "    except :\n",
    "        pass\n",
    "\n",
    "# country가 결측 / city 결측 X인 경우\n",
    "cities = users[(users['location_city'].notnull()) & (users['location_country'].isna())]['location_city'].values\n",
    "\n",
    "for city in tqdm.tqdm(cities) :\n",
    "    try :\n",
    "        country = users.loc[(users['location'].str.contains(city)), 'location_country'].value_counts().index[0]\n",
    "        users.loc[(users['location'].str.contains(city)) & (users['location_country'].isna()), 'location_country'] = country\n",
    "    except :\n",
    "        pass\n",
    "\n",
    "# 각 나라 별로 location의 최빈값으로 대체\n",
    "countries_list = users['location_country'].value_counts()\n",
    "for country in tqdm.tqdm(countries_list.index) :\n",
    "    try :\n",
    "        new_country = users.loc[(users['location'].str.contains(country)), 'location_country'].value_counts().index[0]\n",
    "        users.loc[(users['location'].str.contains(country)) & (users['location_country'] == country),\n",
    "                  'location_country'] = new_country\n",
    "    except :\n",
    "        pass"
   ]
  },
  {
   "cell_type": "code",
   "execution_count": 62,
   "metadata": {},
   "outputs": [
    {
     "name": "stdout",
     "output_type": "stream",
     "text": [
      "<class 'pandas.core.frame.DataFrame'>\n",
      "RangeIndex: 68092 entries, 0 to 68091\n",
      "Data columns (total 7 columns):\n",
      " #   Column            Non-Null Count  Dtype  \n",
      "---  ------            --------------  -----  \n",
      " 0   user_id           68092 non-null  int64  \n",
      " 1   location          68092 non-null  object \n",
      " 2   age               68092 non-null  float64\n",
      " 3   location_city     67970 non-null  object \n",
      " 4   location_state    66960 non-null  object \n",
      " 5   location_country  68092 non-null  object \n",
      " 6   age_category      68092 non-null  int64  \n",
      "dtypes: float64(1), int64(2), object(4)\n",
      "memory usage: 3.6+ MB\n"
     ]
    }
   ],
   "source": [
    "users.info()\n"
   ]
  },
  {
   "cell_type": "code",
   "execution_count": 60,
   "metadata": {},
   "outputs": [
    {
     "name": "stdout",
     "output_type": "stream",
     "text": [
      "['canada' 'others' 'usa' 'malaysia' 'newzealand' 'finland' 'unitedkingdom'\n",
      " 'portugal' 'brazil' 'germany' 'austria' 'australia' 'italy' 'france'\n",
      " 'netherlands' 'poland' 'iran' 'spain' 'taiwan' 'singapore' 'argentina'\n",
      " 'romania' 'belgium' 'philippines' 'caymanislands' 'southafrica'\n",
      " 'switzerland' 'turkey' 'japan' 'china' 'sweden' 'indonesia' 'slovakia'\n",
      " 'norway' 'southkorea' 'israel' 'egypt' 'denmark' 'czechrepublic'\n",
      " 'bulgaria' 'slovenia' 'chile' 'hongkong' 'luxembourg' 'iceland' 'hungary'\n",
      " 'mexico' 'croatia']\n"
     ]
    }
   ],
   "source": [
    "print(users['location_country'].unique())"
   ]
  },
  {
   "cell_type": "code",
   "execution_count": 63,
   "metadata": {},
   "outputs": [
    {
     "name": "stderr",
     "output_type": "stream",
     "text": [
      "100%|██████████| 1/1 [00:00<00:00, 183.63it/s]\n"
     ]
    }
   ],
   "source": [
    "# 10개 이하의 country를 others로 변환\n",
    "others = users['location_country'].value_counts()[users['location_country'].value_counts() < 10].index\n",
    "for country in tqdm.tqdm(others) :\n",
    "    try :\n",
    "        users.loc[(users['location_country'] == country), 'location_country'] = 'others'\n",
    "    except :\n",
    "        pass"
   ]
  },
  {
   "cell_type": "code",
   "execution_count": 65,
   "metadata": {},
   "outputs": [
    {
     "name": "stdout",
     "output_type": "stream",
     "text": [
      "47\n"
     ]
    }
   ],
   "source": [
    "# 나머지 결측치에 대해서도 others로 변환\n",
    "users['location_country'] = users['location_country'].fillna('others')\n",
    "print(users['location_country'].nunique())"
   ]
  },
  {
   "cell_type": "code",
   "execution_count": 67,
   "metadata": {},
   "outputs": [],
   "source": [
    "path = './code/data/'\n",
    "books_pre = books.copy()\n",
    "users_pre = users.copy()\n",
    "train_ratings = pd.read_csv(path + 'train_ratings.csv')\n",
    "test_ratings = pd.read_csv(path + 'test_ratings.csv')"
   ]
  },
  {
   "cell_type": "code",
   "execution_count": 68,
   "metadata": {},
   "outputs": [
    {
     "name": "stdout",
     "output_type": "stream",
     "text": [
      "<class 'pandas.core.frame.DataFrame'>\n",
      "RangeIndex: 149570 entries, 0 to 149569\n",
      "Data columns (total 11 columns):\n",
      " #   Column               Non-Null Count   Dtype  \n",
      "---  ------               --------------   -----  \n",
      " 0   isbn                 149570 non-null  object \n",
      " 1   book_title           149570 non-null  object \n",
      " 2   book_author          149569 non-null  object \n",
      " 3   year_of_publication  149570 non-null  float64\n",
      " 4   publisher            149570 non-null  object \n",
      " 5   img_url              149570 non-null  object \n",
      " 6   language             149570 non-null  object \n",
      " 7   category             149569 non-null  object \n",
      " 8   summary              82343 non-null   object \n",
      " 9   img_path             149570 non-null  object \n",
      " 10  years_category       149570 non-null  int64  \n",
      "dtypes: float64(1), int64(1), object(9)\n",
      "memory usage: 12.6+ MB\n",
      "<class 'pandas.core.frame.DataFrame'>\n",
      "RangeIndex: 68092 entries, 0 to 68091\n",
      "Data columns (total 7 columns):\n",
      " #   Column            Non-Null Count  Dtype  \n",
      "---  ------            --------------  -----  \n",
      " 0   user_id           68092 non-null  int64  \n",
      " 1   location          68092 non-null  object \n",
      " 2   age               68092 non-null  float64\n",
      " 3   location_city     67970 non-null  object \n",
      " 4   location_state    66960 non-null  object \n",
      " 5   location_country  68092 non-null  object \n",
      " 6   age_category      68092 non-null  int64  \n",
      "dtypes: float64(1), int64(2), object(4)\n",
      "memory usage: 3.6+ MB\n"
     ]
    },
    {
     "data": {
      "text/plain": [
       "None"
      ]
     },
     "metadata": {},
     "output_type": "display_data"
    },
    {
     "data": {
      "text/plain": [
       "None"
      ]
     },
     "metadata": {},
     "output_type": "display_data"
    }
   ],
   "source": [
    "display(books_pre.info(), users_pre.info())"
   ]
  },
  {
   "cell_type": "code",
   "execution_count": 70,
   "metadata": {},
   "outputs": [],
   "source": [
    "books_final = books_pre[['isbn', 'language', 'years_category', 'publisher', 'category']]\n",
    "users_final = users_pre[['user_id', 'location_country', 'age_category']]"
   ]
  },
  {
   "cell_type": "code",
   "execution_count": 71,
   "metadata": {},
   "outputs": [
    {
     "name": "stdout",
     "output_type": "stream",
     "text": [
      "<class 'pandas.core.frame.DataFrame'>\n",
      "RangeIndex: 306795 entries, 0 to 306794\n",
      "Data columns (total 9 columns):\n",
      " #   Column            Non-Null Count   Dtype  \n",
      "---  ------            --------------   -----  \n",
      " 0   user_id           306795 non-null  int64  \n",
      " 1   location_country  306795 non-null  object \n",
      " 2   age_category      306795 non-null  int64  \n",
      " 3   isbn              306795 non-null  object \n",
      " 4   language          306795 non-null  object \n",
      " 5   years_category    306795 non-null  float64\n",
      " 6   publisher         306795 non-null  object \n",
      " 7   category          306794 non-null  object \n",
      " 8   rating            306795 non-null  float64\n",
      "dtypes: float64(2), int64(2), object(5)\n",
      "memory usage: 21.1+ MB\n"
     ]
    }
   ],
   "source": [
    "train_ratings['index'] = train_ratings.index\n",
    "train_df = pd.merge(books_final, train_ratings, how = 'left', on = 'isbn').dropna(subset = 'rating')\n",
    "train_df = pd.merge(users_final, test_df, how = 'left', on = 'user_id').dropna(subset = 'rating')\n",
    "test_df = train_df.sort_values('index').reset_index(drop = True).drop(columns = 'index')\n",
    "train_df.info()"
   ]
  },
  {
   "cell_type": "code",
   "execution_count": 104,
   "metadata": {},
   "outputs": [
    {
     "name": "stdout",
     "output_type": "stream",
     "text": [
      "<class 'pandas.core.frame.DataFrame'>\n",
      "RangeIndex: 76699 entries, 0 to 76698\n",
      "Data columns (total 9 columns):\n",
      " #   Column            Non-Null Count  Dtype  \n",
      "---  ------            --------------  -----  \n",
      " 0   user_id           76699 non-null  int64  \n",
      " 1   location_country  76699 non-null  object \n",
      " 2   age_category      76699 non-null  int64  \n",
      " 3   isbn              76699 non-null  object \n",
      " 4   language          76699 non-null  object \n",
      " 5   years_category    76699 non-null  float64\n",
      " 6   publisher         76699 non-null  object \n",
      " 7   category          76699 non-null  object \n",
      " 8   rating            76699 non-null  float64\n",
      "dtypes: float64(2), int64(2), object(5)\n",
      "memory usage: 5.3+ MB\n"
     ]
    }
   ],
   "source": [
    "test_ratings['index'] = test_ratings.index\n",
    "test_df = pd.merge(books_final, test_ratings, how = 'left', on = 'isbn').dropna(subset = 'rating')\n",
    "test_df = pd.merge(users_final, test_df, how = 'left', on = 'user_id').dropna(subset = 'rating')\n",
    "test_df = test_df.sort_values('index').reset_index(drop = True).drop(columns = 'index')\n",
    "test_df.info()"
   ]
  },
  {
   "cell_type": "code",
   "execution_count": 105,
   "metadata": {},
   "outputs": [],
   "source": [
    "train_df['user_id'] = train_df['user_id'].astype('str')\n",
    "train_df['age_category'] = train_df['age_category'].astype('category')\n",
    "train_df['years_category'] = train_df['years_category'].astype('int').astype('category')\n",
    "train_df['rating'] = train_df['rating'].astype('int')\n",
    "train_df['category'] = train_df['category'].astype('str')\n",
    "\n",
    "test_df['user_id'] = test_df['user_id'].astype('str')\n",
    "test_df['age_category'] = test_df['age_category'].astype('category')\n",
    "test_df['years_category'] = test_df['years_category'].astype('int').astype('category')\n",
    "test_df['rating'] = test_df['rating'].astype('int')\n",
    "test_df['category'] = test_df['category'].astype('str')"
   ]
  },
  {
   "cell_type": "code",
   "execution_count": 106,
   "metadata": {},
   "outputs": [
    {
     "data": {
      "text/html": [
       "<div>\n",
       "<style scoped>\n",
       "    .dataframe tbody tr th:only-of-type {\n",
       "        vertical-align: middle;\n",
       "    }\n",
       "\n",
       "    .dataframe tbody tr th {\n",
       "        vertical-align: top;\n",
       "    }\n",
       "\n",
       "    .dataframe thead th {\n",
       "        text-align: right;\n",
       "    }\n",
       "</style>\n",
       "<table border=\"1\" class=\"dataframe\">\n",
       "  <thead>\n",
       "    <tr style=\"text-align: right;\">\n",
       "      <th></th>\n",
       "      <th>user_id</th>\n",
       "      <th>location_country</th>\n",
       "      <th>age_category</th>\n",
       "      <th>isbn</th>\n",
       "      <th>language</th>\n",
       "      <th>years_category</th>\n",
       "      <th>publisher</th>\n",
       "      <th>category</th>\n",
       "      <th>rating</th>\n",
       "    </tr>\n",
       "  </thead>\n",
       "  <tbody>\n",
       "    <tr>\n",
       "      <th>0</th>\n",
       "      <td>8</td>\n",
       "      <td>canada</td>\n",
       "      <td>30</td>\n",
       "      <td>0002005018</td>\n",
       "      <td>en</td>\n",
       "      <td>2010</td>\n",
       "      <td>Collins</td>\n",
       "      <td>Actresses</td>\n",
       "      <td>4</td>\n",
       "    </tr>\n",
       "    <tr>\n",
       "      <th>1</th>\n",
       "      <td>67544</td>\n",
       "      <td>canada</td>\n",
       "      <td>30</td>\n",
       "      <td>0002005018</td>\n",
       "      <td>en</td>\n",
       "      <td>2010</td>\n",
       "      <td>Collins</td>\n",
       "      <td>Actresses</td>\n",
       "      <td>7</td>\n",
       "    </tr>\n",
       "    <tr>\n",
       "      <th>2</th>\n",
       "      <td>123629</td>\n",
       "      <td>canada</td>\n",
       "      <td>30</td>\n",
       "      <td>0002005018</td>\n",
       "      <td>en</td>\n",
       "      <td>2010</td>\n",
       "      <td>Collins</td>\n",
       "      <td>Actresses</td>\n",
       "      <td>8</td>\n",
       "    </tr>\n",
       "    <tr>\n",
       "      <th>3</th>\n",
       "      <td>200273</td>\n",
       "      <td>canada</td>\n",
       "      <td>30</td>\n",
       "      <td>0002005018</td>\n",
       "      <td>en</td>\n",
       "      <td>2010</td>\n",
       "      <td>Collins</td>\n",
       "      <td>Actresses</td>\n",
       "      <td>8</td>\n",
       "    </tr>\n",
       "    <tr>\n",
       "      <th>4</th>\n",
       "      <td>210926</td>\n",
       "      <td>canada</td>\n",
       "      <td>30</td>\n",
       "      <td>0002005018</td>\n",
       "      <td>en</td>\n",
       "      <td>2010</td>\n",
       "      <td>Collins</td>\n",
       "      <td>Actresses</td>\n",
       "      <td>9</td>\n",
       "    </tr>\n",
       "  </tbody>\n",
       "</table>\n",
       "</div>"
      ],
      "text/plain": [
       "  user_id location_country age_category        isbn language years_category  \\\n",
       "0       8           canada           30  0002005018       en           2010   \n",
       "1   67544           canada           30  0002005018       en           2010   \n",
       "2  123629           canada           30  0002005018       en           2010   \n",
       "3  200273           canada           30  0002005018       en           2010   \n",
       "4  210926           canada           30  0002005018       en           2010   \n",
       "\n",
       "  publisher   category  rating  \n",
       "0   Collins  Actresses       4  \n",
       "1   Collins  Actresses       7  \n",
       "2   Collins  Actresses       8  \n",
       "3   Collins  Actresses       8  \n",
       "4   Collins  Actresses       9  "
      ]
     },
     "execution_count": 106,
     "metadata": {},
     "output_type": "execute_result"
    }
   ],
   "source": [
    "train_df.head()"
   ]
  },
  {
   "cell_type": "code",
   "execution_count": 107,
   "metadata": {},
   "outputs": [
    {
     "name": "stdout",
     "output_type": "stream",
     "text": [
      "(245436, 8) (245436,) (61359, 8) (61359,)\n"
     ]
    }
   ],
   "source": [
    "X_train, X_valid, y_train, y_valid = train_test_split(train_df.drop(columns = 'rating'), train_df['rating'],\n",
    "                                                      test_size = 0.2, random_state = SEED)\n",
    "print(X_train.shape, y_train.shape, X_valid.shape, y_valid.shape)"
   ]
  },
  {
   "cell_type": "code",
   "execution_count": 108,
   "metadata": {},
   "outputs": [
    {
     "data": {
      "text/plain": [
       "'Fiction'"
      ]
     },
     "execution_count": 108,
     "metadata": {},
     "output_type": "execute_result"
    }
   ],
   "source": [
    "X_valid['category'][191098]"
   ]
  },
  {
   "cell_type": "code",
   "execution_count": 109,
   "metadata": {},
   "outputs": [],
   "source": [
    "from optuna.integration import CatBoostPruningCallback\n",
    "\n",
    "def objectiveCAT(trial : Trial, X_train, y_train, X_valid, y_valid) :\n",
    "    param = {\n",
    "        'learning_rate' : trial.suggest_categorical('learning_rate', [1e-3, 0.01, 0.1, 0.5]),\n",
    "        'depth' : trial.suggest_int('depth', 1, 15),\n",
    "        'colsample_bylevel' : trial.suggest_categorical('colsample_bylevel', [1e-3, 0.01, 0.1, 0.5]),\n",
    "        'boosting_type' : trial.suggest_categorical('boosting_type', ['Ordered', 'Plain']),\n",
    "        'bootstrap_type' : trial.suggest_categorical('bootstrap_type', ['Bayesian', 'Bernoulli', 'MVS']),\n",
    "    }\n",
    "\n",
    "    if param['bootstrap_type'] == 'Bayesian':\n",
    "        param['bagging_temperature'] = trial.suggest_float('bagging_temperature', 0, 10)\n",
    "    elif param['bootstrap_type'] == 'Bernoulli':\n",
    "        param['subsample'] = trial.suggest_float('subsample', 0.1, 1)\n",
    "\n",
    "    model = CatBoostRegressor(**param, loss_function = 'RMSE', eval_metric = 'RMSE',\n",
    "                              use_best_model = True, random_state = SEED, # task_type = 'GPU', devices = '0'\n",
    "                              cat_features = [0, 1, 2, 3, 4, 5, 6, 7])\n",
    "    pruning_callback = CatBoostPruningCallback(trial, 'RMSE', eval_set_index = 1)\n",
    "    cat_model = model.fit(X_train, y_train, eval_set = [(X_train, y_train), (X_valid, y_valid)], verbose = False,\n",
    "                          early_stopping_rounds = 100, callbacks = [pruning_callback])\n",
    "    pruning_callback.check_pruned()\n",
    "\n",
    "    score = mean_squared_error(y_valid, cat_model.predict(X_valid), squared = False)\n",
    "    return score"
   ]
  },
  {
   "cell_type": "code",
   "execution_count": 115,
   "metadata": {},
   "outputs": [
    {
     "name": "stderr",
     "output_type": "stream",
     "text": [
      "[I 2023-12-19 06:00:35,016] A new study created in memory with name: no-name-23fd072b-f6cf-42d9-9a87-29ec2cb2d6a5\n",
      "[I 2023-12-19 06:00:54,257] Trial 0 finished with value: 2.202207712247343 and parameters: {'learning_rate': 0.01, 'depth': 3, 'colsample_bylevel': 0.1, 'boosting_type': 'Ordered', 'bootstrap_type': 'Bayesian', 'bagging_temperature': 1.8182496720710062}. Best is trial 0 with value: 2.202207712247343.\n",
      "[I 2023-12-19 06:00:56,688] Trial 1 finished with value: 2.4327865782659766 and parameters: {'learning_rate': 0.1, 'depth': 5, 'colsample_bylevel': 0.001, 'boosting_type': 'Plain', 'bootstrap_type': 'MVS'}. Best is trial 0 with value: 2.202207712247343.\n",
      "[I 2023-12-19 06:01:07,470] Trial 2 finished with value: 2.4323014754295182 and parameters: {'learning_rate': 0.01, 'depth': 15, 'colsample_bylevel': 0.001, 'boosting_type': 'Ordered', 'bootstrap_type': 'Bernoulli', 'subsample': 0.9183883618709039}. Best is trial 0 with value: 2.202207712247343.\n",
      "[I 2023-12-19 06:01:19,071] Trial 3 finished with value: 2.4111059373173784 and parameters: {'learning_rate': 0.01, 'depth': 9, 'colsample_bylevel': 0.01, 'boosting_type': 'Ordered', 'bootstrap_type': 'Bayesian', 'bagging_temperature': 0.45227288910538066}. Best is trial 0 with value: 2.202207712247343.\n",
      "[I 2023-12-19 06:01:55,045] Trial 4 finished with value: 2.1830119708158913 and parameters: {'learning_rate': 0.5, 'depth': 6, 'colsample_bylevel': 0.5, 'boosting_type': 'Plain', 'bootstrap_type': 'Bayesian', 'bagging_temperature': 8.154614284548341}. Best is trial 4 with value: 2.1830119708158913.\n",
      "[I 2023-12-19 06:01:56,721] Trial 5 pruned. Trial was pruned at iteration 50.\n",
      "[I 2023-12-19 06:01:58,194] Trial 6 pruned. Trial was pruned at iteration 19.\n",
      "[I 2023-12-19 06:02:10,769] Trial 7 pruned. Trial was pruned at iteration 157.\n",
      "[I 2023-12-19 06:02:26,124] Trial 8 finished with value: 2.173229096237088 and parameters: {'learning_rate': 0.1, 'depth': 2, 'colsample_bylevel': 0.5, 'boosting_type': 'Plain', 'bootstrap_type': 'Bayesian', 'bagging_temperature': 3.3761517140362796}. Best is trial 8 with value: 2.173229096237088.\n",
      "[I 2023-12-19 06:02:27,485] Trial 9 pruned. Trial was pruned at iteration 0.\n",
      "[I 2023-12-19 06:02:36,758] Trial 10 finished with value: 2.184134519292147 and parameters: {'learning_rate': 0.1, 'depth': 1, 'colsample_bylevel': 0.5, 'boosting_type': 'Plain', 'bootstrap_type': 'MVS'}. Best is trial 8 with value: 2.173229096237088.\n",
      "[I 2023-12-19 06:02:48,081] Trial 11 finished with value: 2.1894411882189253 and parameters: {'learning_rate': 0.5, 'depth': 1, 'colsample_bylevel': 0.5, 'boosting_type': 'Plain', 'bootstrap_type': 'Bayesian', 'bagging_temperature': 6.292777082480612}. Best is trial 8 with value: 2.173229096237088.\n",
      "[I 2023-12-19 06:03:28,806] Trial 12 finished with value: 2.1916932120593695 and parameters: {'learning_rate': 0.5, 'depth': 12, 'colsample_bylevel': 0.5, 'boosting_type': 'Plain', 'bootstrap_type': 'Bayesian', 'bagging_temperature': 4.271123056333317}. Best is trial 8 with value: 2.173229096237088.\n",
      "[I 2023-12-19 06:03:52,587] Trial 13 finished with value: 2.191025187573851 and parameters: {'learning_rate': 0.5, 'depth': 8, 'colsample_bylevel': 0.5, 'boosting_type': 'Plain', 'bootstrap_type': 'Bayesian', 'bagging_temperature': 9.666674470691223}. Best is trial 8 with value: 2.173229096237088.\n",
      "[I 2023-12-19 06:03:53,942] Trial 14 pruned. Trial was pruned at iteration 0.\n",
      "[I 2023-12-19 06:04:29,779] Trial 15 finished with value: 2.1699243851497663 and parameters: {'learning_rate': 0.5, 'depth': 11, 'colsample_bylevel': 0.5, 'boosting_type': 'Plain', 'bootstrap_type': 'MVS'}. Best is trial 15 with value: 2.1699243851497663.\n",
      "[I 2023-12-19 06:06:16,190] Trial 16 finished with value: 2.161570532123853 and parameters: {'learning_rate': 0.1, 'depth': 12, 'colsample_bylevel': 0.5, 'boosting_type': 'Plain', 'bootstrap_type': 'MVS'}. Best is trial 16 with value: 2.161570532123853.\n",
      "[I 2023-12-19 06:06:17,756] Trial 17 pruned. Trial was pruned at iteration 0.\n",
      "[I 2023-12-19 06:06:19,097] Trial 18 pruned. Trial was pruned at iteration 0.\n",
      "[I 2023-12-19 06:06:20,435] Trial 19 pruned. Trial was pruned at iteration 0.\n",
      "[I 2023-12-19 06:07:05,042] Trial 20 finished with value: 2.174100317793163 and parameters: {'learning_rate': 0.5, 'depth': 13, 'colsample_bylevel': 0.5, 'boosting_type': 'Plain', 'bootstrap_type': 'MVS'}. Best is trial 16 with value: 2.161570532123853.\n",
      "[I 2023-12-19 06:08:47,273] Trial 21 finished with value: 2.1598779982287795 and parameters: {'learning_rate': 0.1, 'depth': 10, 'colsample_bylevel': 0.5, 'boosting_type': 'Plain', 'bootstrap_type': 'MVS'}. Best is trial 21 with value: 2.1598779982287795.\n",
      "[I 2023-12-19 06:10:29,832] Trial 22 finished with value: 2.1598779982287795 and parameters: {'learning_rate': 0.1, 'depth': 10, 'colsample_bylevel': 0.5, 'boosting_type': 'Plain', 'bootstrap_type': 'MVS'}. Best is trial 21 with value: 2.1598779982287795.\n",
      "[I 2023-12-19 06:12:12,148] Trial 23 finished with value: 2.1598779982287795 and parameters: {'learning_rate': 0.1, 'depth': 10, 'colsample_bylevel': 0.5, 'boosting_type': 'Plain', 'bootstrap_type': 'MVS'}. Best is trial 21 with value: 2.1598779982287795.\n",
      "[I 2023-12-19 06:13:54,579] Trial 24 finished with value: 2.1598779982287795 and parameters: {'learning_rate': 0.1, 'depth': 10, 'colsample_bylevel': 0.5, 'boosting_type': 'Plain', 'bootstrap_type': 'MVS'}. Best is trial 21 with value: 2.1598779982287795.\n",
      "[I 2023-12-19 06:13:56,156] Trial 25 pruned. Trial was pruned at iteration 0.\n",
      "[I 2023-12-19 06:15:38,023] Trial 26 finished with value: 2.1598779982287795 and parameters: {'learning_rate': 0.1, 'depth': 10, 'colsample_bylevel': 0.5, 'boosting_type': 'Plain', 'bootstrap_type': 'MVS'}. Best is trial 21 with value: 2.1598779982287795.\n",
      "[I 2023-12-19 06:15:39,400] Trial 27 pruned. Trial was pruned at iteration 0.\n",
      "[I 2023-12-19 06:15:40,795] Trial 28 pruned. Trial was pruned at iteration 0.\n",
      "[I 2023-12-19 06:15:42,174] Trial 29 pruned. Trial was pruned at iteration 0.\n"
     ]
    },
    {
     "name": "stdout",
     "output_type": "stream",
     "text": [
      "Best trial : score 2.1598779982287795, \n",
      " params = {'learning_rate': 0.1, 'depth': 10, 'colsample_bylevel': 0.5, 'boosting_type': 'Plain', 'bootstrap_type': 'MVS'} \n",
      "\n"
     ]
    }
   ],
   "source": [
    "# Study Optuna\n",
    "study = optuna.create_study(direction = 'minimize', sampler = TPESampler(seed = SEED))\n",
    "study.optimize(lambda trial : objectiveCAT(trial, X_train, y_train, X_valid, y_valid), n_trials = 30)\n",
    "print(f'Best trial : score {study.best_trial.value}, \\n params = {study.best_trial.params} \\n')"
   ]
  },
  {
   "cell_type": "code",
   "execution_count": 119,
   "metadata": {},
   "outputs": [],
   "source": [
    "best_params = {'learning_rate': 0.1, 'depth': 10, 'colsample_bylevel': 0.5, 'boosting_type': 'Plain', 'bootstrap_type': 'MVS'}"
   ]
  },
  {
   "cell_type": "code",
   "execution_count": 120,
   "metadata": {},
   "outputs": [
    {
     "name": "stderr",
     "output_type": "stream",
     "text": [
      "  0%|          | 0/5 [00:00<?, ?it/s]"
     ]
    },
    {
     "name": "stdout",
     "output_type": "stream",
     "text": [
      "0:\tlearn: 2.4048282\ttest: 2.3882554\ttest1: 2.3987390\tbest: 2.3987390 (0)\ttotal: 222ms\tremaining: 3m 41s\n",
      "300:\tlearn: 2.1610532\ttest: 1.8368044\ttest1: 2.1569013\tbest: 2.1568002 (296)\ttotal: 1m 15s\tremaining: 2m 54s\n",
      "Stopped by overfitting detector  (100 iterations wait)\n",
      "\n",
      "bestTest = 2.156612136\n",
      "bestIteration = 402\n",
      "\n",
      "Shrink model to first 403 iterations.\n"
     ]
    },
    {
     "name": "stderr",
     "output_type": "stream",
     "text": [
      " 20%|██        | 1/5 [02:11<08:46, 131.53s/it]"
     ]
    },
    {
     "name": "stdout",
     "output_type": "stream",
     "text": [
      "Valid Set 1 번째 Fold RMSE : 2.156612136381038\n",
      "0:\tlearn: 2.4055183\ttest: 2.3888046\ttest1: 2.4003871\tbest: 2.4003871 (0)\ttotal: 222ms\tremaining: 3m 41s\n",
      "300:\tlearn: 2.1637640\ttest: 1.8385227\ttest1: 2.1581724\tbest: 2.1580854 (295)\ttotal: 1m 14s\tremaining: 2m 53s\n",
      "Stopped by overfitting detector  (100 iterations wait)\n",
      "\n",
      "bestTest = 2.157709198\n",
      "bestIteration = 412\n",
      "\n",
      "Shrink model to first 413 iterations.\n"
     ]
    },
    {
     "name": "stderr",
     "output_type": "stream",
     "text": [
      " 40%|████      | 2/5 [04:25<06:38, 132.73s/it]"
     ]
    },
    {
     "name": "stdout",
     "output_type": "stream",
     "text": [
      "Valid Set 2 번째 Fold RMSE : 2.1577091981381855\n",
      "0:\tlearn: 2.4017994\ttest: 2.3821121\ttest1: 2.3972669\tbest: 2.3972669 (0)\ttotal: 196ms\tremaining: 3m 15s\n",
      "300:\tlearn: 2.1620198\ttest: 1.8385704\ttest1: 2.1665771\tbest: 2.1665185 (273)\ttotal: 1m 14s\tremaining: 2m 53s\n",
      "Stopped by overfitting detector  (100 iterations wait)\n",
      "\n",
      "bestTest = 2.166032577\n",
      "bestIteration = 413\n",
      "\n",
      "Shrink model to first 414 iterations.\n"
     ]
    },
    {
     "name": "stderr",
     "output_type": "stream",
     "text": [
      " 60%|██████    | 3/5 [06:38<04:26, 133.05s/it]"
     ]
    },
    {
     "name": "stdout",
     "output_type": "stream",
     "text": [
      "Valid Set 3 번째 Fold RMSE : 2.166032576983894\n",
      "0:\tlearn: 2.4016065\ttest: 2.3817772\ttest1: 2.3959102\tbest: 2.3959102 (0)\ttotal: 208ms\tremaining: 3m 27s\n",
      "300:\tlearn: 2.1617487\ttest: 1.8334521\ttest1: 2.1637622\tbest: 2.1637622 (300)\ttotal: 1m 14s\tremaining: 2m 52s\n",
      "Stopped by overfitting detector  (100 iterations wait)\n",
      "\n",
      "bestTest = 2.163244692\n",
      "bestIteration = 360\n",
      "\n",
      "Shrink model to first 361 iterations.\n"
     ]
    },
    {
     "name": "stderr",
     "output_type": "stream",
     "text": [
      " 80%|████████  | 4/5 [08:36<02:07, 127.13s/it]"
     ]
    },
    {
     "name": "stdout",
     "output_type": "stream",
     "text": [
      "Valid Set 4 번째 Fold RMSE : 2.16324469226664\n",
      "0:\tlearn: 2.4013900\ttest: 2.3822762\ttest1: 2.3957395\tbest: 2.3957395 (0)\ttotal: 240ms\tremaining: 3m 59s\n",
      "300:\tlearn: 2.1578123\ttest: 1.8317115\ttest1: 2.1600598\tbest: 2.1600598 (300)\ttotal: 1m 14s\tremaining: 2m 52s\n",
      "Stopped by overfitting detector  (100 iterations wait)\n",
      "\n",
      "bestTest = 2.159853904\n",
      "bestIteration = 310\n",
      "\n",
      "Shrink model to first 311 iterations.\n"
     ]
    },
    {
     "name": "stderr",
     "output_type": "stream",
     "text": [
      "100%|██████████| 5/5 [10:23<00:00, 124.60s/it]"
     ]
    },
    {
     "name": "stdout",
     "output_type": "stream",
     "text": [
      "Valid Set 5 번째 Fold RMSE : 2.1598539041867486\n",
      "모델 RMSE 평균 : 2.160690501591301 \n",
      "\n"
     ]
    },
    {
     "name": "stderr",
     "output_type": "stream",
     "text": [
      "\n"
     ]
    }
   ],
   "source": [
    "X_data, y_data = train_df.drop(columns = 'rating'), train_df['rating']\n",
    "\n",
    "skf = StratifiedKFold(n_splits = 5, shuffle = True, random_state = SEED)\n",
    "valid_rmse = []\n",
    "\n",
    "# Stratified K-Fold 사용하여 Best Parameter 학습\n",
    "for fold, (train_idx, valid_idx) in tqdm.tqdm(enumerate(skf.split(X_data, y_data)), total = skf.n_splits) :\n",
    "\n",
    "    # Train Set과 Valid Set 분할\n",
    "    X_train, y_train = X_data.iloc[train_idx], y_data.iloc[train_idx]\n",
    "    X_valid, y_valid = X_data.iloc[valid_idx], y_data.iloc[valid_idx]\n",
    "\n",
    "    # Best Parameter 학습\n",
    "    param = best_params # study.best_params\n",
    "\n",
    "    cat_reg = CatBoostRegressor(**param, loss_function = 'RMSE', eval_metric = 'RMSE',\n",
    "                                use_best_model = True, random_state = SEED,\n",
    "                                cat_features = [0, 1, 2, 3, 4, 5, 6, 7])\n",
    "    cat_reg.fit(X_train, y_train, eval_set = [(X_train, y_train), (X_valid, y_valid)],\n",
    "                verbose = 300, early_stopping_rounds = 100)\n",
    "\n",
    "    # 모델 RMSE 출력\n",
    "    score = mean_squared_error(y_valid, cat_reg.predict(X_valid), squared = False)\n",
    "    valid_rmse.append(score)\n",
    "    print(f'Valid Set {fold + 1} 번째 Fold RMSE : {score}')\n",
    "\n",
    "\n",
    "print(f'모델 RMSE 평균 : {np.array(valid_rmse).mean()} \\n')"
   ]
  },
  {
   "cell_type": "code",
   "execution_count": 121,
   "metadata": {},
   "outputs": [
    {
     "data": {
      "image/png": "[encoded data removed]",
      "text/plain": [
       "<Figure size 1200x600 with 1 Axes>"
      ]
     },
     "metadata": {},
     "output_type": "display_data"
    }
   ],
   "source": [
    "feature_importance = cat_reg.feature_importances_\n",
    "sorted_idx = np.argsort(feature_importance)\n",
    "fig = plt.figure(figsize = (12, 6))\n",
    "plt.barh(range(len(sorted_idx)), feature_importance[sorted_idx], align = 'center')\n",
    "plt.yticks(range(len(sorted_idx)), np.array(X_data.columns)[sorted_idx])\n",
    "plt.title('Feature Importance')\n",
    "plt.show()"
   ]
  },
  {
   "cell_type": "code",
   "execution_count": 122,
   "metadata": {},
   "outputs": [
    {
     "data": {
      "text/plain": [
       "array([6.5452465 , 6.87217026, 8.18147636, ..., 6.72409848, 5.24325266,\n",
       "       6.45450671])"
      ]
     },
     "execution_count": 122,
     "metadata": {},
     "output_type": "execute_result"
    }
   ],
   "source": [
    "test_pred = cat_reg.predict(test_df.drop(columns = 'rating'))\n",
    "test_pred"
   ]
  },
  {
   "cell_type": "code",
   "execution_count": 124,
   "metadata": {},
   "outputs": [],
   "source": [
    "test_df['rating'] = test_pred\n",
    "submit = test_df[['user_id', 'isbn', 'rating']]\n",
    "submit.to_csv('./code/submit/Catboost_Optuna.csv', index = False)"
   ]
  },
  {
   "cell_type": "code",
   "execution_count": null,
   "metadata": {},
   "outputs": [],
   "source": []
  }
 ],
 "metadata": {
  "kernelspec": {
   "display_name": "base",
   "language": "python",
   "name": "python3"
  },
  "language_info": {
   "codemirror_mode": {
    "name": "ipython",
    "version": 3
   },
   "file_extension": ".py",
   "mimetype": "text/x-python",
   "name": "python",
   "nbconvert_exporter": "python",
   "pygments_lexer": "ipython3",
   "version": "3.10.13"
  }
 },
 "nbformat": 4,
 "nbformat_minor": 2
}
