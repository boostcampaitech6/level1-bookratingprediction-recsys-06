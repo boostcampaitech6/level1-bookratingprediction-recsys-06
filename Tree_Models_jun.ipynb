{
 "cells": [
  {
   "cell_type": "code",
   "execution_count": 1,
   "metadata": {},
   "outputs": [
    {
     "name": "stdout",
     "output_type": "stream",
     "text": [
      "True 1\n",
      "/data/ephemeral/home/level1-bookratingprediction-recsys-06\n",
      "CatBoost Version : 1.2.2\n",
      "XGBoost Version  : 2.0.2\n",
      "LightGBM Version : 4.1.0\n"
     ]
    },
    {
     "name": "stderr",
     "output_type": "stream",
     "text": [
      "/opt/conda/lib/python3.10/site-packages/tqdm/auto.py:21: TqdmWarning: IProgress not found. Please update jupyter and ipywidgets. See https://ipywidgets.readthedocs.io/en/stable/user_install.html\n",
      "  from .autonotebook import tqdm as notebook_tqdm\n"
     ]
    }
   ],
   "source": [
    "import numpy as np\n",
    "import pandas as pd\n",
    "import matplotlib.pyplot as plt\n",
    "import seaborn as sns\n",
    "import tqdm\n",
    "import re\n",
    "import os\n",
    "import random\n",
    "import torch\n",
    "print(torch.cuda.is_available(), torch.cuda.device_count())\n",
    "print(os.getcwd())\n",
    "\n",
    "from sklearn.model_selection import train_test_split, StratifiedKFold\n",
    "from sklearn.preprocessing import LabelEncoder\n",
    "from sklearn.metrics import mean_squared_error\n",
    "\n",
    "import catboost\n",
    "from catboost import CatBoostRegressor\n",
    "\n",
    "import xgboost\n",
    "from xgboost import XGBRegressor\n",
    "from xgboost import plot_importance as xgb_plot_importance\n",
    "\n",
    "import lightgbm\n",
    "from lightgbm import LGBMRegressor\n",
    "from lightgbm import plot_importance as lgbm_plot_importance\n",
    "\n",
    "print(f'CatBoost Version : {catboost.__version__}')\n",
    "print(f'XGBoost Version  : {xgboost.__version__}')\n",
    "print(f'LightGBM Version : {lightgbm.__version__}')\n",
    "\n",
    "import optuna\n",
    "from optuna import Trial, visualization\n",
    "from optuna.samplers import TPESampler\n",
    "\n",
    "# 경고 메시지 숨기기\n",
    "import warnings\n",
    "warnings.filterwarnings(action = 'ignore')\n",
    "\n",
    "# Seed 고정\n",
    "SEED = 42\n",
    "def seed_everything(seed) :\n",
    "    random.seed(seed)\n",
    "    np.random.seed(seed)\n",
    "    # tf.random.set_seed(seed)\n",
    "    torch.manual_seed(seed)\n",
    "    torch.cuda.manual_seed_all(seed)\n",
    "    torch.backends.cudnn.benchmark = False\n",
    "    torch.use_deterministic_algorithms(False) # True\n",
    "    os.environ['PYTHONHASHSEED'] = str(seed)\n",
    "    os.environ['TF_ENABLE_ONEDNN_OPTS'] = '0'\n",
    "seed_everything(SEED)"
   ]
  },
  {
   "cell_type": "markdown",
   "metadata": {},
   "source": [
    "![data](./code/data/Data_Schema.png)"
   ]
  },
  {
   "cell_type": "code",
   "execution_count": 2,
   "metadata": {},
   "outputs": [
    {
     "name": "stdout",
     "output_type": "stream",
     "text": [
      "(149570, 10) (68092, 3) (306795, 3) (76699, 3)\n"
     ]
    }
   ],
   "source": [
    "books = pd.read_csv('/home/code/data/books.csv')\n",
    "users = pd.read_csv('/home/code/data/users.csv')\n",
    "rating_train = pd.read_csv('/home/code/data/train_ratings.csv')\n",
    "rating_test = pd.read_csv('/home/code/data/test_ratings.csv')\n",
    "print(books.shape, users.shape, rating_train.shape, rating_test.shape)"
   ]
  },
  {
   "cell_type": "markdown",
   "metadata": {},
   "source": [
    "## `books`"
   ]
  },
  {
   "cell_type": "code",
   "execution_count": 3,
   "metadata": {},
   "outputs": [
    {
     "name": "stdout",
     "output_type": "stream",
     "text": [
      "<class 'pandas.core.frame.DataFrame'>\n",
      "RangeIndex: 149570 entries, 0 to 149569\n",
      "Data columns (total 10 columns):\n",
      " #   Column               Non-Null Count   Dtype  \n",
      "---  ------               --------------   -----  \n",
      " 0   isbn                 149570 non-null  object \n",
      " 1   book_title           149570 non-null  object \n",
      " 2   book_author          149569 non-null  object \n",
      " 3   year_of_publication  149570 non-null  float64\n",
      " 4   publisher            149570 non-null  object \n",
      " 5   img_url              149570 non-null  object \n",
      " 6   language             82343 non-null   object \n",
      " 7   category             80719 non-null   object \n",
      " 8   summary              82343 non-null   object \n",
      " 9   img_path             149570 non-null  object \n",
      "dtypes: float64(1), object(9)\n",
      "memory usage: 11.4+ MB\n"
     ]
    }
   ],
   "source": [
    "books.info()"
   ]
  },
  {
   "cell_type": "code",
   "execution_count": 4,
   "metadata": {},
   "outputs": [],
   "source": [
    "def text_preprocessing(summary):\n",
    "    \"\"\"\n",
    "    Parameters\n",
    "    ----------\n",
    "    summary : pd.Series\n",
    "        정규화와 같은 기본적인 전처리를 하기위한 텍스트 데이터를 입력합니다.\n",
    "    ----------\n",
    "    \"\"\"\n",
    "    summary = re.sub(\"[.,\\'\\\"''\"\"!?]\", \"\", summary)\n",
    "    summary = re.sub(\"[^0-9a-zA-Z\\\\s]\", \" \", summary)\n",
    "    summary = re.sub(\"\\s+\", \" \", summary)\n",
    "    summary = summary.lower()\n",
    "    return summary\n"
   ]
  },
  {
   "cell_type": "markdown",
   "metadata": {},
   "source": [
    "### `isbn`\n",
    "- https://sciencing.com/difference-isbn-13-isbn-10-5890031.html\n",
    "- group identifier / publisher identifier / title identifier / and check digit로 구성\n",
    "- Format : X-XXX-XXXXX-X"
   ]
  },
  {
   "cell_type": "markdown",
   "metadata": {},
   "source": [
    "> **ISBN 확인**\n",
    "- URL 정보를 사용해서 ISBN이 재대로 입력됐는지 확인"
   ]
  },
  {
   "cell_type": "code",
   "execution_count": 5,
   "metadata": {},
   "outputs": [
    {
     "data": {
      "text/html": [
       "<div>\n",
       "<style scoped>\n",
       "    .dataframe tbody tr th:only-of-type {\n",
       "        vertical-align: middle;\n",
       "    }\n",
       "\n",
       "    .dataframe tbody tr th {\n",
       "        vertical-align: top;\n",
       "    }\n",
       "\n",
       "    .dataframe thead th {\n",
       "        text-align: right;\n",
       "    }\n",
       "</style>\n",
       "<table border=\"1\" class=\"dataframe\">\n",
       "  <thead>\n",
       "    <tr style=\"text-align: right;\">\n",
       "      <th></th>\n",
       "      <th>isbn</th>\n",
       "      <th>book_title</th>\n",
       "      <th>book_author</th>\n",
       "      <th>year_of_publication</th>\n",
       "      <th>publisher</th>\n",
       "      <th>img_url</th>\n",
       "      <th>language</th>\n",
       "      <th>category</th>\n",
       "      <th>summary</th>\n",
       "      <th>img_path</th>\n",
       "      <th>img_url_isbn</th>\n",
       "    </tr>\n",
       "  </thead>\n",
       "  <tbody>\n",
       "  </tbody>\n",
       "</table>\n",
       "</div>"
      ],
      "text/plain": [
       "Empty DataFrame\n",
       "Columns: [isbn, book_title, book_author, year_of_publication, publisher, img_url, language, category, summary, img_path, img_url_isbn]\n",
       "Index: []"
      ]
     },
     "execution_count": 5,
     "metadata": {},
     "output_type": "execute_result"
    }
   ],
   "source": [
    "books['img_url_isbn'] = books['img_url'].apply(lambda x : x.split('/')[5].split('.')[0])\n",
    "books[books['isbn'] != books['img_url_isbn']]"
   ]
  },
  {
   "cell_type": "code",
   "execution_count": 6,
   "metadata": {},
   "outputs": [],
   "source": [
    "books.drop(columns = 'img_url_isbn', inplace = True)"
   ]
  },
  {
   "cell_type": "markdown",
   "metadata": {},
   "source": [
    "### `book_author` 결측치 확인\n",
    "- 실제 저자가 없는 책\n",
    "- 동일한 `book_title`의 데이터도 없음\n",
    "- => 동일한 `publisher`의 최빈값으로 대체"
   ]
  },
  {
   "cell_type": "code",
   "execution_count": 7,
   "metadata": {},
   "outputs": [
    {
     "data": {
      "text/html": [
       "<div>\n",
       "<style scoped>\n",
       "    .dataframe tbody tr th:only-of-type {\n",
       "        vertical-align: middle;\n",
       "    }\n",
       "\n",
       "    .dataframe tbody tr th {\n",
       "        vertical-align: top;\n",
       "    }\n",
       "\n",
       "    .dataframe thead th {\n",
       "        text-align: right;\n",
       "    }\n",
       "</style>\n",
       "<table border=\"1\" class=\"dataframe\">\n",
       "  <thead>\n",
       "    <tr style=\"text-align: right;\">\n",
       "      <th></th>\n",
       "      <th>isbn</th>\n",
       "      <th>book_title</th>\n",
       "      <th>book_author</th>\n",
       "      <th>year_of_publication</th>\n",
       "      <th>publisher</th>\n",
       "      <th>img_url</th>\n",
       "      <th>language</th>\n",
       "      <th>category</th>\n",
       "      <th>summary</th>\n",
       "      <th>img_path</th>\n",
       "    </tr>\n",
       "  </thead>\n",
       "  <tbody>\n",
       "    <tr>\n",
       "      <th>73737</th>\n",
       "      <td>0751352497</td>\n",
       "      <td>A+ Quiz Masters:01 Earth</td>\n",
       "      <td>NaN</td>\n",
       "      <td>1999.0</td>\n",
       "      <td>Dorling Kindersley</td>\n",
       "      <td>http://images.amazon.com/images/P/0751352497.0...</td>\n",
       "      <td>NaN</td>\n",
       "      <td>NaN</td>\n",
       "      <td>NaN</td>\n",
       "      <td>images/0751352497.01.THUMBZZZ.jpg</td>\n",
       "    </tr>\n",
       "  </tbody>\n",
       "</table>\n",
       "</div>"
      ],
      "text/plain": [
       "             isbn                book_title book_author  year_of_publication  \\\n",
       "73737  0751352497  A+ Quiz Masters:01 Earth         NaN               1999.0   \n",
       "\n",
       "                publisher                                            img_url  \\\n",
       "73737  Dorling Kindersley  http://images.amazon.com/images/P/0751352497.0...   \n",
       "\n",
       "      language category summary                           img_path  \n",
       "73737      NaN      NaN     NaN  images/0751352497.01.THUMBZZZ.jpg  "
      ]
     },
     "execution_count": 7,
     "metadata": {},
     "output_type": "execute_result"
    }
   ],
   "source": [
    "books[books['book_title'] == books.loc[books['book_author'].isna(), 'book_title'].values[0]]"
   ]
  },
  {
   "cell_type": "code",
   "execution_count": 8,
   "metadata": {},
   "outputs": [
    {
     "name": "stdout",
     "output_type": "stream",
     "text": [
      "0\n"
     ]
    }
   ],
   "source": [
    "books.loc[books['book_title'] == books.loc[books['book_author'].isna(), 'book_title'].values[0], 'book_author'] = \\\n",
    "    books.loc[books['publisher'] == books.loc[books['book_author'].isna(), 'publisher'].values[0], 'book_author'].mode().values[0]\n",
    "print(books['book_author'].isna().sum())"
   ]
  },
  {
   "cell_type": "code",
   "execution_count": 9,
   "metadata": {},
   "outputs": [],
   "source": [
    "# 텍스트 전처리 진행\n",
    "books[\"book_title\"] = books[\"book_title\"].apply(lambda x : text_preprocessing(x))\n",
    "books[\"book_author\"] = books[\"book_author\"].apply(lambda x : text_preprocessing(x))\n",
    "books[\"publisher\"] = books[\"publisher\"].apply(lambda x : text_preprocessing(x))"
   ]
  },
  {
   "cell_type": "markdown",
   "metadata": {},
   "source": [
    "### `year_of_publication`\n",
    "- 10년 단위로 범주화"
   ]
  },
  {
   "cell_type": "code",
   "execution_count": 24,
   "metadata": {},
   "outputs": [
    {
     "data": {
      "text/plain": [
       "years\n",
       "2000    46463\n",
       "2006    35910\n",
       "1995    32007\n",
       "1990    17095\n",
       "1985     9905\n",
       "1980     6503\n",
       "1970     1687\n",
       "Name: count, dtype: int64"
      ]
     },
     "execution_count": 24,
     "metadata": {},
     "output_type": "execute_result"
    }
   ],
   "source": [
    "# 1970과 1980을 합침\n",
    "def preprocess_year(x) :\n",
    "    if x <= 1970 :\n",
    "        return 1970\n",
    "    elif (x > 1970) and (x <= 1980) :\n",
    "        return 1980\n",
    "    elif (x > 1980) and (x <= 1985) :\n",
    "        return 1985\n",
    "    elif (x > 1985) and (x <= 1990) :\n",
    "        return 1990\n",
    "    elif (x > 1990) and (x <= 1995) :\n",
    "        return 1995\n",
    "    elif (x > 1995) and (x <= 2000) :\n",
    "        return 2000\n",
    "    else:\n",
    "        return 2006\n",
    "    \n",
    "books['years'] = books['year_of_publication'].apply(preprocess_year)\n",
    "books['years'].value_counts()"
   ]
  },
  {
   "cell_type": "code",
   "execution_count": 26,
   "metadata": {},
   "outputs": [
    {
     "name": "stdout",
     "output_type": "stream",
     "text": [
      "149570 149570\n"
     ]
    }
   ],
   "source": [
    "print(len(books['year_of_publication']), len(books[\"years\"]))"
   ]
  },
  {
   "cell_type": "markdown",
   "metadata": {},
   "source": [
    "### `publisher`\n",
    "- `isbn`의 앞 4개의 숫자를 활용하여 `new_publisher` 생성"
   ]
  },
  {
   "cell_type": "code",
   "execution_count": 10,
   "metadata": {},
   "outputs": [
    {
     "data": {
      "text/html": [
       "<div>\n",
       "<style scoped>\n",
       "    .dataframe tbody tr th:only-of-type {\n",
       "        vertical-align: middle;\n",
       "    }\n",
       "\n",
       "    .dataframe tbody tr th {\n",
       "        vertical-align: top;\n",
       "    }\n",
       "\n",
       "    .dataframe thead th {\n",
       "        text-align: right;\n",
       "    }\n",
       "</style>\n",
       "<table border=\"1\" class=\"dataframe\">\n",
       "  <thead>\n",
       "    <tr style=\"text-align: right;\">\n",
       "      <th></th>\n",
       "      <th>publisher</th>\n",
       "      <th>count</th>\n",
       "    </tr>\n",
       "  </thead>\n",
       "  <tbody>\n",
       "    <tr>\n",
       "      <th>0</th>\n",
       "      <td>harlequin</td>\n",
       "      <td>3006</td>\n",
       "    </tr>\n",
       "    <tr>\n",
       "      <th>1</th>\n",
       "      <td>ballantine books</td>\n",
       "      <td>2322</td>\n",
       "    </tr>\n",
       "    <tr>\n",
       "      <th>2</th>\n",
       "      <td>pocket</td>\n",
       "      <td>2274</td>\n",
       "    </tr>\n",
       "    <tr>\n",
       "      <th>3</th>\n",
       "      <td>penguin books</td>\n",
       "      <td>1943</td>\n",
       "    </tr>\n",
       "    <tr>\n",
       "      <th>4</th>\n",
       "      <td>bantam books</td>\n",
       "      <td>1938</td>\n",
       "    </tr>\n",
       "  </tbody>\n",
       "</table>\n",
       "</div>"
      ],
      "text/plain": [
       "          publisher  count\n",
       "0         harlequin   3006\n",
       "1  ballantine books   2322\n",
       "2            pocket   2274\n",
       "3     penguin books   1943\n",
       "4      bantam books   1938"
      ]
     },
     "metadata": {},
     "output_type": "display_data"
    },
    {
     "data": {
      "text/plain": [
       "11189"
      ]
     },
     "metadata": {},
     "output_type": "display_data"
    }
   ],
   "source": [
    "publisher_dict = (books['publisher'].value_counts()).to_dict()\n",
    "publisher_count_df = pd.DataFrame(list(publisher_dict.items()), columns = ['publisher', 'count'])\n",
    "\n",
    "publisher_count_df = publisher_count_df.sort_values(by = ['count'], ascending = False)\n",
    "display(publisher_count_df.head(), books['publisher'].nunique())"
   ]
  },
  {
   "cell_type": "code",
   "execution_count": 11,
   "metadata": {},
   "outputs": [
    {
     "name": "stderr",
     "output_type": "stream",
     "text": [
      "100%|██████████| 5179/5179 [08:10<00:00, 10.56it/s]\n"
     ]
    },
    {
     "name": "stdout",
     "output_type": "stream",
     "text": [
      "2264\n"
     ]
    }
   ],
   "source": [
    "modify_list = publisher_count_df[publisher_count_df['count'] > 1]['publisher'].values\n",
    "\n",
    "for publisher in tqdm.tqdm(modify_list) :\n",
    "    try :\n",
    "        number = books[books['publisher'] == publisher]['isbn'].apply(lambda x : x[2:6]).value_counts().index[0]\n",
    "        right_publisher = books[books['isbn'].apply(lambda x : x[2:6]) == number]['publisher'].value_counts().index[0]\n",
    "        books.loc[books[books['isbn'].apply(lambda x : x[2:6]) == number].index, 'new_publisher'] = right_publisher\n",
    "    except :\n",
    "        pass\n",
    "books['new_publisher'] = books['new_publisher']\n",
    "print(books['new_publisher'].nunique())"
   ]
  },
  {
   "cell_type": "code",
   "execution_count": 12,
   "metadata": {},
   "outputs": [
    {
     "data": {
      "text/plain": [
       "new_publisher\n",
       "nan                           42833\n",
       "pocket                         4238\n",
       "ballantine books               2455\n",
       "penguin books                  2403\n",
       "harlequin                      2263\n",
       "                              ...  \n",
       "bahai distribution service        1\n",
       "teubner verlag                    1\n",
       "northstone publishing             1\n",
       "overlook connection press         1\n",
       "ics books                         1\n",
       "Name: count, Length: 2264, dtype: int64"
      ]
     },
     "execution_count": 12,
     "metadata": {},
     "output_type": "execute_result"
    }
   ],
   "source": [
    "books['new_publisher'].value_counts()"
   ]
  },
  {
   "cell_type": "markdown",
   "metadata": {},
   "source": [
    "### `language`, `category`, `summary`\n",
    "- `language` & `category` & `summary`가 모두 결측인 행 -> 67227행\n",
    "- `language` & `summary`만 결측인 행 -> 67227 + 1624행"
   ]
  },
  {
   "cell_type": "code",
   "execution_count": 13,
   "metadata": {},
   "outputs": [
    {
     "data": {
      "text/html": [
       "<div>\n",
       "<style scoped>\n",
       "    .dataframe tbody tr th:only-of-type {\n",
       "        vertical-align: middle;\n",
       "    }\n",
       "\n",
       "    .dataframe tbody tr th {\n",
       "        vertical-align: top;\n",
       "    }\n",
       "\n",
       "    .dataframe thead th {\n",
       "        text-align: right;\n",
       "    }\n",
       "</style>\n",
       "<table border=\"1\" class=\"dataframe\">\n",
       "  <thead>\n",
       "    <tr style=\"text-align: right;\">\n",
       "      <th></th>\n",
       "      <th>language</th>\n",
       "      <th>category</th>\n",
       "      <th>summary</th>\n",
       "    </tr>\n",
       "  </thead>\n",
       "  <tbody>\n",
       "    <tr>\n",
       "      <th>5</th>\n",
       "      <td>NaN</td>\n",
       "      <td>NaN</td>\n",
       "      <td>NaN</td>\n",
       "    </tr>\n",
       "    <tr>\n",
       "      <th>8</th>\n",
       "      <td>NaN</td>\n",
       "      <td>NaN</td>\n",
       "      <td>NaN</td>\n",
       "    </tr>\n",
       "    <tr>\n",
       "      <th>9</th>\n",
       "      <td>NaN</td>\n",
       "      <td>NaN</td>\n",
       "      <td>NaN</td>\n",
       "    </tr>\n",
       "    <tr>\n",
       "      <th>10</th>\n",
       "      <td>NaN</td>\n",
       "      <td>NaN</td>\n",
       "      <td>NaN</td>\n",
       "    </tr>\n",
       "    <tr>\n",
       "      <th>11</th>\n",
       "      <td>NaN</td>\n",
       "      <td>NaN</td>\n",
       "      <td>NaN</td>\n",
       "    </tr>\n",
       "    <tr>\n",
       "      <th>...</th>\n",
       "      <td>...</td>\n",
       "      <td>...</td>\n",
       "      <td>...</td>\n",
       "    </tr>\n",
       "    <tr>\n",
       "      <th>149560</th>\n",
       "      <td>NaN</td>\n",
       "      <td>NaN</td>\n",
       "      <td>NaN</td>\n",
       "    </tr>\n",
       "    <tr>\n",
       "      <th>149561</th>\n",
       "      <td>NaN</td>\n",
       "      <td>NaN</td>\n",
       "      <td>NaN</td>\n",
       "    </tr>\n",
       "    <tr>\n",
       "      <th>149564</th>\n",
       "      <td>NaN</td>\n",
       "      <td>NaN</td>\n",
       "      <td>NaN</td>\n",
       "    </tr>\n",
       "    <tr>\n",
       "      <th>149567</th>\n",
       "      <td>NaN</td>\n",
       "      <td>NaN</td>\n",
       "      <td>NaN</td>\n",
       "    </tr>\n",
       "    <tr>\n",
       "      <th>149569</th>\n",
       "      <td>NaN</td>\n",
       "      <td>NaN</td>\n",
       "      <td>NaN</td>\n",
       "    </tr>\n",
       "  </tbody>\n",
       "</table>\n",
       "<p>67227 rows × 3 columns</p>\n",
       "</div>"
      ],
      "text/plain": [
       "       language category summary\n",
       "5           NaN      NaN     NaN\n",
       "8           NaN      NaN     NaN\n",
       "9           NaN      NaN     NaN\n",
       "10          NaN      NaN     NaN\n",
       "11          NaN      NaN     NaN\n",
       "...         ...      ...     ...\n",
       "149560      NaN      NaN     NaN\n",
       "149561      NaN      NaN     NaN\n",
       "149564      NaN      NaN     NaN\n",
       "149567      NaN      NaN     NaN\n",
       "149569      NaN      NaN     NaN\n",
       "\n",
       "[67227 rows x 3 columns]"
      ]
     },
     "metadata": {},
     "output_type": "display_data"
    },
    {
     "data": {
      "text/html": [
       "<div>\n",
       "<style scoped>\n",
       "    .dataframe tbody tr th:only-of-type {\n",
       "        vertical-align: middle;\n",
       "    }\n",
       "\n",
       "    .dataframe tbody tr th {\n",
       "        vertical-align: top;\n",
       "    }\n",
       "\n",
       "    .dataframe thead th {\n",
       "        text-align: right;\n",
       "    }\n",
       "</style>\n",
       "<table border=\"1\" class=\"dataframe\">\n",
       "  <thead>\n",
       "    <tr style=\"text-align: right;\">\n",
       "      <th></th>\n",
       "      <th>isbn</th>\n",
       "      <th>book_title</th>\n",
       "      <th>book_author</th>\n",
       "      <th>year_of_publication</th>\n",
       "      <th>publisher</th>\n",
       "      <th>img_url</th>\n",
       "      <th>language</th>\n",
       "      <th>category</th>\n",
       "      <th>summary</th>\n",
       "      <th>img_path</th>\n",
       "      <th>new_publisher</th>\n",
       "    </tr>\n",
       "  </thead>\n",
       "  <tbody>\n",
       "  </tbody>\n",
       "</table>\n",
       "</div>"
      ],
      "text/plain": [
       "Empty DataFrame\n",
       "Columns: [isbn, book_title, book_author, year_of_publication, publisher, img_url, language, category, summary, img_path, new_publisher]\n",
       "Index: []"
      ]
     },
     "metadata": {},
     "output_type": "display_data"
    },
    {
     "data": {
      "text/html": [
       "<div>\n",
       "<style scoped>\n",
       "    .dataframe tbody tr th:only-of-type {\n",
       "        vertical-align: middle;\n",
       "    }\n",
       "\n",
       "    .dataframe tbody tr th {\n",
       "        vertical-align: top;\n",
       "    }\n",
       "\n",
       "    .dataframe thead th {\n",
       "        text-align: right;\n",
       "    }\n",
       "</style>\n",
       "<table border=\"1\" class=\"dataframe\">\n",
       "  <thead>\n",
       "    <tr style=\"text-align: right;\">\n",
       "      <th></th>\n",
       "      <th>isbn</th>\n",
       "      <th>book_title</th>\n",
       "      <th>book_author</th>\n",
       "      <th>year_of_publication</th>\n",
       "      <th>publisher</th>\n",
       "      <th>img_url</th>\n",
       "      <th>language</th>\n",
       "      <th>category</th>\n",
       "      <th>summary</th>\n",
       "      <th>img_path</th>\n",
       "      <th>new_publisher</th>\n",
       "    </tr>\n",
       "  </thead>\n",
       "  <tbody>\n",
       "  </tbody>\n",
       "</table>\n",
       "</div>"
      ],
      "text/plain": [
       "Empty DataFrame\n",
       "Columns: [isbn, book_title, book_author, year_of_publication, publisher, img_url, language, category, summary, img_path, new_publisher]\n",
       "Index: []"
      ]
     },
     "metadata": {},
     "output_type": "display_data"
    }
   ],
   "source": [
    "display(books.loc[books['language'].isna(), ['language', 'category', 'summary']])\n",
    "display(books.loc[books['language'].isna() & books['category'].notnull()])\n",
    "display(books.loc[books['language'].isna() & books['summary'].notnull()])"
   ]
  },
  {
   "cell_type": "markdown",
   "metadata": {},
   "source": [
    "- `language`는 `isbn`의 region 정보를 활용하여 결측치 대체"
   ]
  },
  {
   "cell_type": "code",
   "execution_count": 14,
   "metadata": {},
   "outputs": [
    {
     "data": {
      "text/plain": [
       "0"
      ]
     },
     "execution_count": 14,
     "metadata": {},
     "output_type": "execute_result"
    }
   ],
   "source": [
    "region_code = set([code[:2] for code in books['isbn']])\n",
    "\n",
    "for code in region_code :\n",
    "    lang = books.loc[books['isbn'].str.startswith(str(code)), 'language']\n",
    "    mode = lang.mode().iloc[0] if not lang.mode().empty else \"en\"\n",
    "    if len(mode) != 2:\n",
    "        books.loc[(books['isbn'].str.startswith(str(code))), 'language'] = \"en\"\n",
    "    #print(mode)\n",
    "    books.loc[(books['isbn'].str.startswith(str(code))) & (books['language'].isna()), 'language'] = mode\n",
    "\n",
    "books['language'].isna().sum()"
   ]
  },
  {
   "cell_type": "code",
   "execution_count": 15,
   "metadata": {},
   "outputs": [
    {
     "data": {
      "text/plain": [
       "language\n",
       "en       135034\n",
       "de         6540\n",
       "es         3724\n",
       "fr         3302\n",
       "it          478\n",
       "pt          195\n",
       "nl          192\n",
       "da           37\n",
       "ca           23\n",
       "ms           10\n",
       "no            9\n",
       "ja            6\n",
       "ru            3\n",
       "la            3\n",
       "gl            3\n",
       "ro            1\n",
       "th            1\n",
       "el            1\n",
       "fa            1\n",
       "eo            1\n",
       "gd            1\n",
       "ga            1\n",
       "vi            1\n",
       "zh-CN         1\n",
       "zh-TW         1\n",
       "ko            1\n",
       "Name: count, dtype: int64"
      ]
     },
     "execution_count": 15,
     "metadata": {},
     "output_type": "execute_result"
    }
   ],
   "source": [
    "books.language.value_counts()\n"
   ]
  },
  {
   "cell_type": "markdown",
   "metadata": {},
   "source": [
    "### `category`\n",
    "- 상위 카테고리인 `category_high`를 생성"
   ]
  },
  {
   "cell_type": "code",
   "execution_count": 27,
   "metadata": {},
   "outputs": [
    {
     "data": {
      "text/html": [
       "<div>\n",
       "<style scoped>\n",
       "    .dataframe tbody tr th:only-of-type {\n",
       "        vertical-align: middle;\n",
       "    }\n",
       "\n",
       "    .dataframe tbody tr th {\n",
       "        vertical-align: top;\n",
       "    }\n",
       "\n",
       "    .dataframe thead th {\n",
       "        text-align: right;\n",
       "    }\n",
       "</style>\n",
       "<table border=\"1\" class=\"dataframe\">\n",
       "  <thead>\n",
       "    <tr style=\"text-align: right;\">\n",
       "      <th></th>\n",
       "      <th>category</th>\n",
       "      <th>count</th>\n",
       "    </tr>\n",
       "  </thead>\n",
       "  <tbody>\n",
       "    <tr>\n",
       "      <th>0</th>\n",
       "      <td>nan</td>\n",
       "      <td>68851</td>\n",
       "    </tr>\n",
       "    <tr>\n",
       "      <th>1</th>\n",
       "      <td>fiction</td>\n",
       "      <td>33016</td>\n",
       "    </tr>\n",
       "    <tr>\n",
       "      <th>2</th>\n",
       "      <td>juvenile fiction</td>\n",
       "      <td>5835</td>\n",
       "    </tr>\n",
       "    <tr>\n",
       "      <th>3</th>\n",
       "      <td>biography autobiography</td>\n",
       "      <td>3326</td>\n",
       "    </tr>\n",
       "    <tr>\n",
       "      <th>4</th>\n",
       "      <td>history</td>\n",
       "      <td>1927</td>\n",
       "    </tr>\n",
       "  </tbody>\n",
       "</table>\n",
       "</div>"
      ],
      "text/plain": [
       "                  category  count\n",
       "0                      nan  68851\n",
       "1                  fiction  33016\n",
       "2         juvenile fiction   5835\n",
       "3  biography autobiography   3326\n",
       "4                  history   1927"
      ]
     },
     "execution_count": 27,
     "metadata": {},
     "output_type": "execute_result"
    }
   ],
   "source": [
    "# 대괄호 삭제\n",
    "books['category'] = books['category'].apply(lambda x : re.sub('[\\W_]+',  ' ', str(x).lower()).strip())\n",
    "\n",
    "category_df = pd.DataFrame(books['category'].value_counts()).reset_index()\n",
    "category_df.columns = ['category', 'count']\n",
    "category_df.head()"
   ]
  },
  {
   "cell_type": "code",
   "execution_count": 28,
   "metadata": {},
   "outputs": [],
   "source": [
    "books['category_high'] = books['category'].copy()\n",
    "\n",
    "categories = ['garden', 'crafts', 'physics', 'adventure', 'music', 'fiction', 'nonfiction', 'science', 'science fiction', 'social', 'homicide', \n",
    "              'sociology', 'disease', 'religion', 'christian', 'philosophy', 'psycholog', 'mathemat', 'agricult', 'environmental',\n",
    "              'business', 'poetry', 'drama', 'literary', 'travel', 'motion picture', 'children', 'cook', 'literature', 'electronic', \n",
    "              'humor', 'animal', 'bird', 'photograph', 'computer', 'house', 'ecology', 'family', 'architect', 'camp', 'criminal', 'language', 'india']\n",
    "\n",
    "for category in categories :\n",
    "    books.loc[books[books['category'].str.contains(category, na = False)].index, 'category_high'] = category\n",
    "books['category'] = books['category']"
   ]
  },
  {
   "cell_type": "code",
   "execution_count": 29,
   "metadata": {},
   "outputs": [
    {
     "data": {
      "text/html": [
       "<div>\n",
       "<style scoped>\n",
       "    .dataframe tbody tr th:only-of-type {\n",
       "        vertical-align: middle;\n",
       "    }\n",
       "\n",
       "    .dataframe tbody tr th {\n",
       "        vertical-align: top;\n",
       "    }\n",
       "\n",
       "    .dataframe thead th {\n",
       "        text-align: right;\n",
       "    }\n",
       "</style>\n",
       "<table border=\"1\" class=\"dataframe\">\n",
       "  <thead>\n",
       "    <tr style=\"text-align: right;\">\n",
       "      <th></th>\n",
       "      <th>category</th>\n",
       "      <th>count</th>\n",
       "    </tr>\n",
       "  </thead>\n",
       "  <tbody>\n",
       "    <tr>\n",
       "      <th>0</th>\n",
       "      <td>nan</td>\n",
       "      <td>68851</td>\n",
       "    </tr>\n",
       "    <tr>\n",
       "      <th>1</th>\n",
       "      <td>fiction</td>\n",
       "      <td>39678</td>\n",
       "    </tr>\n",
       "    <tr>\n",
       "      <th>2</th>\n",
       "      <td>biography autobiography</td>\n",
       "      <td>3326</td>\n",
       "    </tr>\n",
       "    <tr>\n",
       "      <th>3</th>\n",
       "      <td>history</td>\n",
       "      <td>1927</td>\n",
       "    </tr>\n",
       "    <tr>\n",
       "      <th>4</th>\n",
       "      <td>religion</td>\n",
       "      <td>1824</td>\n",
       "    </tr>\n",
       "    <tr>\n",
       "      <th>5</th>\n",
       "      <td>nonfiction</td>\n",
       "      <td>1427</td>\n",
       "    </tr>\n",
       "    <tr>\n",
       "      <th>6</th>\n",
       "      <td>humor</td>\n",
       "      <td>1291</td>\n",
       "    </tr>\n",
       "    <tr>\n",
       "      <th>7</th>\n",
       "      <td>social</td>\n",
       "      <td>1271</td>\n",
       "    </tr>\n",
       "    <tr>\n",
       "      <th>8</th>\n",
       "      <td>business</td>\n",
       "      <td>1146</td>\n",
       "    </tr>\n",
       "    <tr>\n",
       "      <th>9</th>\n",
       "      <td>cook</td>\n",
       "      <td>1125</td>\n",
       "    </tr>\n",
       "  </tbody>\n",
       "</table>\n",
       "</div>"
      ],
      "text/plain": [
       "                  category  count\n",
       "0                      nan  68851\n",
       "1                  fiction  39678\n",
       "2  biography autobiography   3326\n",
       "3                  history   1927\n",
       "4                 religion   1824\n",
       "5               nonfiction   1427\n",
       "6                    humor   1291\n",
       "7                   social   1271\n",
       "8                 business   1146\n",
       "9                     cook   1125"
      ]
     },
     "execution_count": 29,
     "metadata": {},
     "output_type": "execute_result"
    }
   ],
   "source": [
    "category_high_df = pd.DataFrame(books['category_high'].value_counts()).reset_index()\n",
    "category_high_df.columns = ['category', 'count']\n",
    "category_high_df.head(10)"
   ]
  },
  {
   "cell_type": "code",
   "execution_count": 30,
   "metadata": {},
   "outputs": [
    {
     "name": "stdout",
     "output_type": "stream",
     "text": [
      "2856\n"
     ]
    }
   ],
   "source": [
    "# 5개 이하인 항목은 others\n",
    "others_list = category_high_df[category_high_df['count'] < 5]['category'].values\n",
    "print(len(others_list))\n",
    "\n",
    "books.loc[books[books['category_high'].isin(others_list)].index, 'category_high'] = 'others'"
   ]
  },
  {
   "cell_type": "code",
   "execution_count": 31,
   "metadata": {},
   "outputs": [
    {
     "name": "stdout",
     "output_type": "stream",
     "text": [
      "68851\n"
     ]
    }
   ],
   "source": [
    "books['category_high'] = books['category_high'].replace('nan', np.nan)\n",
    "books['category_high'] = books['category_high'].replace('unknown', np.nan)\n",
    "print(books['category_high'].isna().sum())\n",
    "\n",
    "books['category_high'] = books['category_high'].fillna('fiction')"
   ]
  },
  {
   "cell_type": "code",
   "execution_count": 32,
   "metadata": {},
   "outputs": [],
   "source": [
    "book_df = books.copy()"
   ]
  },
  {
   "cell_type": "code",
   "execution_count": 33,
   "metadata": {},
   "outputs": [],
   "source": [
    "books.to_csv('/home/code/data/books_preprocessed.csv', index = False)"
   ]
  },
  {
   "cell_type": "code",
   "execution_count": 34,
   "metadata": {},
   "outputs": [
    {
     "name": "stdout",
     "output_type": "stream",
     "text": [
      "<class 'pandas.core.frame.DataFrame'>\n",
      "RangeIndex: 149570 entries, 0 to 149569\n",
      "Data columns (total 13 columns):\n",
      " #   Column               Non-Null Count   Dtype  \n",
      "---  ------               --------------   -----  \n",
      " 0   isbn                 149570 non-null  object \n",
      " 1   book_title           149570 non-null  object \n",
      " 2   book_author          149570 non-null  object \n",
      " 3   year_of_publication  149570 non-null  float64\n",
      " 4   publisher            149570 non-null  object \n",
      " 5   img_url              149570 non-null  object \n",
      " 6   language             149570 non-null  object \n",
      " 7   category             149570 non-null  object \n",
      " 8   summary              82343 non-null   object \n",
      " 9   img_path             149570 non-null  object \n",
      " 10  new_publisher        149570 non-null  object \n",
      " 11  years                149570 non-null  int64  \n",
      " 12  category_high        149570 non-null  object \n",
      "dtypes: float64(1), int64(1), object(11)\n",
      "memory usage: 14.8+ MB\n"
     ]
    }
   ],
   "source": [
    "books.info()"
   ]
  },
  {
   "cell_type": "code",
   "execution_count": 35,
   "metadata": {},
   "outputs": [
    {
     "name": "stdout",
     "output_type": "stream",
     "text": [
      "<class 'pandas.core.frame.DataFrame'>\n",
      "RangeIndex: 149570 entries, 0 to 149569\n",
      "Data columns (total 13 columns):\n",
      " #   Column               Non-Null Count   Dtype  \n",
      "---  ------               --------------   -----  \n",
      " 0   isbn                 149570 non-null  object \n",
      " 1   book_title           149570 non-null  object \n",
      " 2   book_author          149570 non-null  object \n",
      " 3   year_of_publication  149570 non-null  float64\n",
      " 4   publisher            149570 non-null  object \n",
      " 5   img_url              149570 non-null  object \n",
      " 6   language             149570 non-null  object \n",
      " 7   category             80719 non-null   object \n",
      " 8   summary              82343 non-null   object \n",
      " 9   img_path             149570 non-null  object \n",
      " 10  new_publisher        106737 non-null  object \n",
      " 11  years                149570 non-null  int64  \n",
      " 12  category_high        149570 non-null  object \n",
      "dtypes: float64(1), int64(1), object(11)\n",
      "memory usage: 14.8+ MB\n"
     ]
    }
   ],
   "source": [
    "ac = pd.read_csv(\"/home/code/data/books_preprocessed.csv\")\n",
    "ac.info()"
   ]
  },
  {
   "cell_type": "markdown",
   "metadata": {},
   "source": [
    "## `users`"
   ]
  },
  {
   "cell_type": "code",
   "execution_count": 36,
   "metadata": {},
   "outputs": [
    {
     "name": "stdout",
     "output_type": "stream",
     "text": [
      "<class 'pandas.core.frame.DataFrame'>\n",
      "RangeIndex: 68092 entries, 0 to 68091\n",
      "Data columns (total 3 columns):\n",
      " #   Column    Non-Null Count  Dtype  \n",
      "---  ------    --------------  -----  \n",
      " 0   user_id   68092 non-null  int64  \n",
      " 1   location  68092 non-null  object \n",
      " 2   age       40259 non-null  float64\n",
      "dtypes: float64(1), int64(1), object(1)\n",
      "memory usage: 1.6+ MB\n"
     ]
    }
   ],
   "source": [
    "users.info()"
   ]
  },
  {
   "cell_type": "markdown",
   "metadata": {},
   "source": [
    "### `city`, `state`, `country` 전처리 방법 1 (성능 best)"
   ]
  },
  {
   "cell_type": "code",
   "execution_count": 37,
   "metadata": {},
   "outputs": [
    {
     "name": "stdout",
     "output_type": "stream",
     "text": [
      "<class 'pandas.core.frame.DataFrame'>\n",
      "RangeIndex: 68092 entries, 0 to 68091\n",
      "Data columns (total 4 columns):\n",
      " #   Column    Non-Null Count  Dtype \n",
      "---  ------    --------------  ----- \n",
      " 0   location  68092 non-null  object\n",
      " 1   city      67963 non-null  object\n",
      " 2   state     64838 non-null  object\n",
      " 3   country   65968 non-null  object\n",
      "dtypes: object(4)\n",
      "memory usage: 2.1+ MB\n"
     ]
    }
   ],
   "source": [
    "users['location'] = users['location'].str.replace(r'[^a-zA-Z:,]', '', regex = True)\n",
    "\n",
    "users['city'] = users['location'].apply(lambda x : x.split(',')[0].strip())\n",
    "users['state'] = users['location'].apply(lambda x : x.split(',')[1].strip())\n",
    "users['country'] = users['location'].apply(lambda x : x.split(',')[2].strip())\n",
    "\n",
    "users = users.replace('na', np.nan)\n",
    "users = users.replace('n/a', np.nan)\n",
    "users = users.replace('', np.nan)\n",
    "\n",
    "users[['location', 'city', 'state', 'country']].info()"
   ]
  },
  {
   "cell_type": "code",
   "execution_count": 38,
   "metadata": {},
   "outputs": [
    {
     "name": "stderr",
     "output_type": "stream",
     "text": [
      "  0%|          | 0/2113 [00:00<?, ?it/s]"
     ]
    },
    {
     "name": "stderr",
     "output_type": "stream",
     "text": [
      "100%|██████████| 2113/2113 [01:09<00:00, 30.28it/s]\n",
      "100%|██████████| 1963/1963 [00:21<00:00, 91.89it/s]\n"
     ]
    }
   ],
   "source": [
    "# preprocess_loc.csv 전처리 방법\n",
    "modify_location = users[(users['country'].isna())&(users['city'].notnull())]['city'].values\n",
    "location = users[(users['location'].str.contains('seattle'))&(users['country'].notnull())]['location'].value_counts().index[0]\n",
    "\n",
    "location_list = []\n",
    "for location in tqdm.tqdm(modify_location):\n",
    "    try:\n",
    "        right_location = users[(users['location'].str.contains(location))&(users['country'].notnull())]['location'].value_counts().index[0]\n",
    "        location_list.append(right_location)\n",
    "    except:\n",
    "        pass\n",
    "\n",
    "for location in tqdm.tqdm(location_list) :\n",
    "    users.loc[users[users['city'] == location.split(',')[0]].index, 'state'] = location.split(',')[1]\n",
    "    users.loc[users[users['city'] == location.split(',')[0]].index, 'country'] = location.split(',')[2]\n",
    "\n",
    "city2idx = {v:k for k,v in enumerate(users['city'].unique())}\n",
    "state2idx = {v:k for k,v in enumerate(users['state'].unique())}\n",
    "country2idx = {v:k for k,v in enumerate(users['country'].unique())}\n",
    "\n",
    "users['city'] = users['city'].map(city2idx)\n",
    "users['state'] = users['state'].map(state2idx)\n",
    "users['country'] = users['country'].map(country2idx)"
   ]
  },
  {
   "cell_type": "markdown",
   "metadata": {},
   "source": [
    "### `city`, `state`, `country` 전처리 방법 2 (성능이 더 안좋은 듯)\n",
    "- `city`가 가장 결측치가 적지만, 고윳값이 많아서 모델링할 때 그닥 좋은 성능을 낼 것 같지 않아보임\n",
    "    - `country`의 결측치를 채워서 분석에 사용하는 쪽으로 방향을 설정"
   ]
  },
  {
   "cell_type": "code",
   "execution_count": 39,
   "metadata": {},
   "outputs": [
    {
     "name": "stdout",
     "output_type": "stream",
     "text": [
      "11959 1319 269\n"
     ]
    }
   ],
   "source": [
    "# 11959 1319 269\n",
    "print(users['city'].nunique(), users['state'].nunique(), users['country'].nunique())"
   ]
  },
  {
   "cell_type": "code",
   "execution_count": 40,
   "metadata": {},
   "outputs": [
    {
     "name": "stderr",
     "output_type": "stream",
     "text": [
      "0it [00:00, ?it/s]\n",
      "0it [00:00, ?it/s]\n",
      "100%|██████████| 269/269 [00:00<00:00, 87919.25it/s]\n"
     ]
    }
   ],
   "source": [
    "# country가 결측 / city 결측 X인 경우\n",
    "cities = users[(users['city'].notnull()) & (users['country'].isna())]['city'].values\n",
    "\n",
    "for city in tqdm.tqdm(cities) :\n",
    "    try :\n",
    "        country = users.loc[(users['location'].str.contains(city)), 'country'].value_counts().index[0]\n",
    "        users.loc[(users['location'].str.contains(city)) & (users['country'].isna()), 'country'] = country\n",
    "    except :\n",
    "        pass\n",
    "    \n",
    "# country가 결측 / state 결측 X인 경우\n",
    "states = users[(users['state'].notnull()) & (users['country'].isna())]['state'].values\n",
    "\n",
    "for state in tqdm.tqdm(states) :\n",
    "    try :\n",
    "        country = users.loc[(users['location'].str.contains(state)), 'country'].value_counts().index[0]\n",
    "        users.loc[(users['location'].str.contains(state)) & (users['country'].isna()), 'country'] = country\n",
    "    except :\n",
    "        pass\n",
    "\n",
    "# 각 나라 별로 location의 최빈값으로 대체\n",
    "countries_list = users['country'].value_counts()\n",
    "for country in tqdm.tqdm(countries_list.index) :\n",
    "    try :\n",
    "        new_country = users.loc[(users['location'].str.contains(country)), 'country'].value_counts().index[0]\n",
    "        users.loc[(users['location'].str.contains(country)) & (users['country'] == country), \n",
    "                  'country'] = new_country\n",
    "    except :\n",
    "        pass"
   ]
  },
  {
   "cell_type": "code",
   "execution_count": 41,
   "metadata": {},
   "outputs": [
    {
     "name": "stdout",
     "output_type": "stream",
     "text": [
      "[  0   1   2   3   4   5   6   7   8   9  10  11  12  13  14  15  16  17\n",
      "  18  19  20  21  22  23  24  25  26  27  28  29  30  31  32  33  34  35\n",
      "  36  37  38  39  40  41  42  43  44  45  46  47  48  49  50  51  52  53\n",
      "  54  55  56  57  58  59  60  61  62  63  64  65  66  67  68  69  70  71\n",
      "  72  73  74  75  76  77  78  79  80  81  82  83  84  85  86  87  88  89\n",
      "  90  91  92  93  94  95  96  97  98  99 100 101 102 103 104 105 106 107\n",
      " 108 109 110 111 112 113 114 115 116 117 118 119 120 121 122 123 124 125\n",
      " 126 127 128 129 130 131 132 133 134 135 136 137 138 139 140 141 142 143\n",
      " 144 145 146 147 148 149 150 151 152 153 154 155 156 157 158 159 160 161\n",
      " 162 163 164 165 166 167 168 169 170 171 172 173 174 175 176 177 178 179\n",
      " 180 181 182 183 184 185 186 187 188 189 190 191 192 193 194 195 196 197\n",
      " 198 199 200 201 202 203 204 205 206 207 208 209 210 211 212 213 214 215\n",
      " 216 217 218 219 220 221 222 223 224 225 226 227 228 229 230 231 232 233\n",
      " 234 235 236 237 238 239 240 241 242 243 244 245 246 247 248 249 250 251\n",
      " 252 253 254 255 256 257 258 259 260 261 262 263 264 265 266 267 268]\n"
     ]
    }
   ],
   "source": [
    "print(users['country'].unique())"
   ]
  },
  {
   "cell_type": "markdown",
   "metadata": {},
   "source": [
    "- `country`의 오타나 오기입되어 있는 값 처리\n",
    "- canada -> 'canada', 'cananda', 'vvh', 'lkjlj'\n",
    "- italy -> 'italia', 'italy', 'litalia', 'ineurope'\n",
    "- phillipines -> 'phillipines', 'phillippines'\n",
    "- spain -> 'catalunyaspain', 'spain'\n",
    "- unitedkingdom -> 'unitedkingdom', 'usacurrentlylivinginengland', 'unitedkindgonm', 'obviously'\n",
    "- usa -> 'unitedstates', 'unitedstaes', 'unitedstatesofamerica', 'usa', 'usanow', 'ysa', 'csa', 'anystate', 'usacanada'\n",
    "- uruguay -> 'urugua', 'uruguay'"
   ]
  },
  {
   "cell_type": "code",
   "execution_count": 42,
   "metadata": {},
   "outputs": [
    {
     "name": "stdout",
     "output_type": "stream",
     "text": [
      "Before : 269\n",
      "After : 269\n"
     ]
    }
   ],
   "source": [
    "print(f'Before : {users[\"country\"].nunique()}')\n",
    "country_mapping = {\n",
    "    'canada': ['canada', 'cananda', 'vvh', 'lkjlj'],\n",
    "    'italy': ['italia', 'italy', 'litalia', 'ineurope'],\n",
    "    'phillipines': ['phillipines', 'phillippines'],\n",
    "    'spain': ['catalunyaspain', 'spain'],\n",
    "    'unitedkingdom': ['unitedkingdom', 'usacurrentlylivinginengland', 'unitedkindgonm', 'obviously'],\n",
    "    'usa': ['unitedstates', 'unitedstaes', 'unitedsates', 'unitedstatesofamerica', 'usa', 'usanow', 'ysa', 'csa', 'anystate', 'usacanada'],\n",
    "    'uruguay': ['urugua', 'uruguay']\n",
    "}\n",
    "\n",
    "for target_country, aliases in country_mapping.items() :\n",
    "    users['country'].replace(aliases, target_country, inplace = True)\n",
    "\n",
    "print(f'After : {users[\"country\"].nunique()}')"
   ]
  },
  {
   "cell_type": "code",
   "execution_count": 43,
   "metadata": {},
   "outputs": [
    {
     "name": "stdout",
     "output_type": "stream",
     "text": [
      "0\n"
     ]
    },
    {
     "data": {
      "text/html": [
       "<div>\n",
       "<style scoped>\n",
       "    .dataframe tbody tr th:only-of-type {\n",
       "        vertical-align: middle;\n",
       "    }\n",
       "\n",
       "    .dataframe tbody tr th {\n",
       "        vertical-align: top;\n",
       "    }\n",
       "\n",
       "    .dataframe thead th {\n",
       "        text-align: right;\n",
       "    }\n",
       "</style>\n",
       "<table border=\"1\" class=\"dataframe\">\n",
       "  <thead>\n",
       "    <tr style=\"text-align: right;\">\n",
       "      <th></th>\n",
       "      <th>count</th>\n",
       "    </tr>\n",
       "    <tr>\n",
       "      <th>country</th>\n",
       "      <th></th>\n",
       "    </tr>\n",
       "  </thead>\n",
       "  <tbody>\n",
       "    <tr>\n",
       "      <th>2</th>\n",
       "      <td>45206</td>\n",
       "    </tr>\n",
       "    <tr>\n",
       "      <th>0</th>\n",
       "      <td>6525</td>\n",
       "    </tr>\n",
       "    <tr>\n",
       "      <th>9</th>\n",
       "      <td>3604</td>\n",
       "    </tr>\n",
       "    <tr>\n",
       "      <th>6</th>\n",
       "      <td>3148</td>\n",
       "    </tr>\n",
       "    <tr>\n",
       "      <th>11</th>\n",
       "      <td>1816</td>\n",
       "    </tr>\n",
       "    <tr>\n",
       "      <th>...</th>\n",
       "      <td>...</td>\n",
       "    </tr>\n",
       "    <tr>\n",
       "      <th>221</th>\n",
       "      <td>1</td>\n",
       "    </tr>\n",
       "    <tr>\n",
       "      <th>222</th>\n",
       "      <td>1</td>\n",
       "    </tr>\n",
       "    <tr>\n",
       "      <th>223</th>\n",
       "      <td>1</td>\n",
       "    </tr>\n",
       "    <tr>\n",
       "      <th>256</th>\n",
       "      <td>1</td>\n",
       "    </tr>\n",
       "    <tr>\n",
       "      <th>257</th>\n",
       "      <td>1</td>\n",
       "    </tr>\n",
       "  </tbody>\n",
       "</table>\n",
       "<p>269 rows × 1 columns</p>\n",
       "</div>"
      ],
      "text/plain": [
       "         count\n",
       "country       \n",
       "2        45206\n",
       "0         6525\n",
       "9         3604\n",
       "6         3148\n",
       "11        1816\n",
       "...        ...\n",
       "221          1\n",
       "222          1\n",
       "223          1\n",
       "256          1\n",
       "257          1\n",
       "\n",
       "[269 rows x 1 columns]"
      ]
     },
     "execution_count": 43,
     "metadata": {},
     "output_type": "execute_result"
    }
   ],
   "source": [
    "print(users['country'].isna().sum())\n",
    "users['country'].value_counts().to_frame()"
   ]
  },
  {
   "cell_type": "code",
   "execution_count": 44,
   "metadata": {},
   "outputs": [
    {
     "name": "stderr",
     "output_type": "stream",
     "text": [
      "100%|██████████| 215/215 [00:00<00:00, 220.69it/s]\n"
     ]
    }
   ],
   "source": [
    "# 10개 이하의 country를 others로 변환\n",
    "others = users['country'].value_counts()[users['country'].value_counts() < 10].index\n",
    "for country in tqdm.tqdm(others) :\n",
    "    try :\n",
    "        users.loc[(users['country'] == country), 'country'] = 'others'\n",
    "    except :\n",
    "        pass"
   ]
  },
  {
   "cell_type": "code",
   "execution_count": 45,
   "metadata": {},
   "outputs": [
    {
     "name": "stdout",
     "output_type": "stream",
     "text": [
      "55\n"
     ]
    }
   ],
   "source": [
    "# 나머지 결측치에 대해서도 others로 변환\n",
    "users['country'] = users['country'].fillna('others')\n",
    "users['state'] = users['state'].fillna('others')\n",
    "users['city'] = users['city'].fillna('others')\n",
    "print(users['country'].nunique())\n"
   ]
  },
  {
   "cell_type": "code",
   "execution_count": 46,
   "metadata": {},
   "outputs": [
    {
     "data": {
      "text/plain": [
       "'\\nusers[\"country\"] = users[\"country\"].astype(str).apply(lambda x : text_preprocessing(x))\\nusers[\"state\"] = users[\"state\"].astype(str).apply(lambda x : text_preprocessing(x))\\nusers[\"city\"] = users[\"city\"].astype(str).apply(lambda x : text_preprocessing(x))\\n'"
      ]
     },
     "execution_count": 46,
     "metadata": {},
     "output_type": "execute_result"
    }
   ],
   "source": [
    "# 텍스트 전처리 진행\n",
    "'''\n",
    "users[\"country\"] = users[\"country\"].astype(str).apply(lambda x : text_preprocessing(x))\n",
    "users[\"state\"] = users[\"state\"].astype(str).apply(lambda x : text_preprocessing(x))\n",
    "users[\"city\"] = users[\"city\"].astype(str).apply(lambda x : text_preprocessing(x))\n",
    "'''"
   ]
  },
  {
   "cell_type": "code",
   "execution_count": 47,
   "metadata": {},
   "outputs": [
    {
     "name": "stdout",
     "output_type": "stream",
     "text": [
      "<class 'pandas.core.frame.DataFrame'>\n",
      "RangeIndex: 68092 entries, 0 to 68091\n",
      "Data columns (total 6 columns):\n",
      " #   Column    Non-Null Count  Dtype  \n",
      "---  ------    --------------  -----  \n",
      " 0   user_id   68092 non-null  int64  \n",
      " 1   location  68092 non-null  object \n",
      " 2   age       40259 non-null  float64\n",
      " 3   city      68092 non-null  int64  \n",
      " 4   state     68092 non-null  int64  \n",
      " 5   country   68092 non-null  object \n",
      "dtypes: float64(1), int64(3), object(2)\n",
      "memory usage: 3.1+ MB\n"
     ]
    }
   ],
   "source": [
    "users.info()"
   ]
  },
  {
   "cell_type": "markdown",
   "metadata": {},
   "source": [
    "### `age`\n",
    "- 국가별 `age`의 중앙값으로 대체\n",
    "- 국가별 `age`의 중앙값이 존재하지 않는 경우, 전체 `age`의 중앙값으로 대체"
   ]
  },
  {
   "cell_type": "code",
   "execution_count": 48,
   "metadata": {},
   "outputs": [
    {
     "name": "stdout",
     "output_type": "stream",
     "text": [
      "0\n"
     ]
    }
   ],
   "source": [
    "country_age_median = users.groupby('country')['age'].median()\n",
    "users['age'] = users.apply(lambda x : country_age_median[x['country']] if pd.isna(x['age']) else x['age'], axis = 1)\n",
    "\n",
    "global_age_median = users['age'].median()\n",
    "users['age'].fillna(global_age_median, inplace = True)\n",
    "print(users['age'].isna().sum())"
   ]
  },
  {
   "cell_type": "markdown",
   "metadata": {},
   "source": [
    "- 10살 단위 연령대로 분할하여 `new_age` 변수 생성"
   ]
  },
  {
   "cell_type": "code",
   "execution_count": 49,
   "metadata": {},
   "outputs": [],
   "source": [
    "labels = ['3-6','6-8','8-12','12-15','15-18','18-25','25-34','35-44','45-54','55-64','65-74','75+']\n",
    "bins = [3, 6, 8, 12, 15, 18, 25, 34, 44, 54, 64, 74, 100]\n",
    "    \n",
    "users['age'] = users['age'].apply(lambda x: 100 if x>100 else x)\n",
    "users.loc[(users['age'] > 90), 'age'] = np.nan\n",
    "\n",
    "users['age'] = users['age'].fillna(users['age'].mean())\n",
    "users['age'] = users['age'].astype(np.int64)\n",
    "\n",
    "users['new_age'] = pd.cut(users.age, bins, labels = labels,include_lowest = True)"
   ]
  },
  {
   "cell_type": "code",
   "execution_count": 50,
   "metadata": {},
   "outputs": [
    {
     "data": {
      "text/plain": [
       "new_age\n",
       "35-44    29069\n",
       "25-34    18124\n",
       "18-25     6959\n",
       "45-54     5946\n",
       "55-64     3399\n",
       "15-18     2012\n",
       "65-74     1109\n",
       "12-15     1086\n",
       "75+        197\n",
       "8-12       143\n",
       "6-8         34\n",
       "3-6         14\n",
       "Name: count, dtype: int64"
      ]
     },
     "execution_count": 50,
     "metadata": {},
     "output_type": "execute_result"
    }
   ],
   "source": [
    "users['new_age'].value_counts()"
   ]
  },
  {
   "cell_type": "code",
   "execution_count": 77,
   "metadata": {},
   "outputs": [
    {
     "data": {
      "text/html": [
       "<div>\n",
       "<style scoped>\n",
       "    .dataframe tbody tr th:only-of-type {\n",
       "        vertical-align: middle;\n",
       "    }\n",
       "\n",
       "    .dataframe tbody tr th {\n",
       "        vertical-align: top;\n",
       "    }\n",
       "\n",
       "    .dataframe thead th {\n",
       "        text-align: right;\n",
       "    }\n",
       "</style>\n",
       "<table border=\"1\" class=\"dataframe\">\n",
       "  <thead>\n",
       "    <tr style=\"text-align: right;\">\n",
       "      <th></th>\n",
       "      <th>age</th>\n",
       "      <th>new_age</th>\n",
       "    </tr>\n",
       "  </thead>\n",
       "  <tbody>\n",
       "    <tr>\n",
       "      <th>0</th>\n",
       "      <td>33.0</td>\n",
       "      <td>30</td>\n",
       "    </tr>\n",
       "    <tr>\n",
       "      <th>1</th>\n",
       "      <td>49.0</td>\n",
       "      <td>40</td>\n",
       "    </tr>\n",
       "    <tr>\n",
       "      <th>2</th>\n",
       "      <td>34.0</td>\n",
       "      <td>30</td>\n",
       "    </tr>\n",
       "    <tr>\n",
       "      <th>3</th>\n",
       "      <td>30.0</td>\n",
       "      <td>30</td>\n",
       "    </tr>\n",
       "    <tr>\n",
       "      <th>4</th>\n",
       "      <td>36.0</td>\n",
       "      <td>30</td>\n",
       "    </tr>\n",
       "    <tr>\n",
       "      <th>...</th>\n",
       "      <td>...</td>\n",
       "      <td>...</td>\n",
       "    </tr>\n",
       "    <tr>\n",
       "      <th>68087</th>\n",
       "      <td>54.0</td>\n",
       "      <td>50</td>\n",
       "    </tr>\n",
       "    <tr>\n",
       "      <th>68088</th>\n",
       "      <td>74.0</td>\n",
       "      <td>70</td>\n",
       "    </tr>\n",
       "    <tr>\n",
       "      <th>68089</th>\n",
       "      <td>36.0</td>\n",
       "      <td>30</td>\n",
       "    </tr>\n",
       "    <tr>\n",
       "      <th>68090</th>\n",
       "      <td>33.0</td>\n",
       "      <td>30</td>\n",
       "    </tr>\n",
       "    <tr>\n",
       "      <th>68091</th>\n",
       "      <td>63.0</td>\n",
       "      <td>60</td>\n",
       "    </tr>\n",
       "  </tbody>\n",
       "</table>\n",
       "<p>68092 rows × 2 columns</p>\n",
       "</div>"
      ],
      "text/plain": [
       "        age  new_age\n",
       "0      33.0       30\n",
       "1      49.0       40\n",
       "2      34.0       30\n",
       "3      30.0       30\n",
       "4      36.0       30\n",
       "...     ...      ...\n",
       "68087  54.0       50\n",
       "68088  74.0       70\n",
       "68089  36.0       30\n",
       "68090  33.0       30\n",
       "68091  63.0       60\n",
       "\n",
       "[68092 rows x 2 columns]"
      ]
     },
     "execution_count": 77,
     "metadata": {},
     "output_type": "execute_result"
    }
   ],
   "source": [
    "'''\n",
    "users['new_age'] = ((users['age'] // 10) * 10).astype(int)\n",
    "users[['age', 'new_age']]\n",
    "'''"
   ]
  },
  {
   "cell_type": "markdown",
   "metadata": {},
   "source": [
    "### `user_lang`\n",
    "- 유저의 언어를 국가로 예측"
   ]
  },
  {
   "cell_type": "markdown",
   "metadata": {},
   "source": [
    "- 'en': English (영어)\n",
    "- 'de': German (독일어)\n",
    "- 'fr': French (프랑스어)\n",
    "- 'es': Spanish (스페인어)\n",
    "- 'ca': Catalan (카탈로니아어)\n",
    "- 'it': Italian (이탈리아어)\n",
    "- 'da': Danish (덴마크어)\n",
    "- 'nl': Dutch (네덜란드어)\n",
    "- 'pt': Portuguese (포르투갈어)\n",
    "- 'ro': Romanian (루마니아어)\n",
    "- 'no': Norwegian (노르웨이어)\n",
    "- 'ms': Malay (말레이어)\n",
    "- 'la': Latin (라틴어)\n",
    "- 'ru': Russian (러시아어)\n",
    "- 'el': Greek (그리스어)\n",
    "- 'zh-CN': Chinese (Simplified) (중국어 간체)\n",
    "- 'th': Thai (태국어)\n",
    "- 'gl': Galician (갈리시아어)\n",
    "- 'ja': Japanese (일본어)\n",
    "- 'fa': Persian (페르시아어)\n",
    "- 'eo': Esperanto (에스페란토)\n",
    "- 'gd': Scottish Gaelic (스코틀랜드 게일어)\n",
    "- 'ga': Irish (아일랜드어)\n",
    "- 'vi': Vietnamese (베트남어)\n",
    "- 'zh-TW': Chinese (Traditional) (중국어 번체)\n",
    "- 'ko': Korean (한국어)"
   ]
  },
  {
   "cell_type": "code",
   "execution_count": null,
   "metadata": {},
   "outputs": [],
   "source": [
    "'''\n",
    "country2lang = {'en': ['unitedkingdom','uk','arizona', 'illinois','belize','poland', 'antiguaandbarbuda','arkansas', 'aroostook', 'australiancapitalterritory', 'barbados','alaska','vanwert','auckland','unitedstate','america',  'australia','us', 'usa','california', 'texas',  'wisconsin', 'victoria','virginia', 'wales',  'scotland','washington', 'southdakota', 'slovakia', 'queensland', 'saintlucia', 'phillipines', 'philippines',],\n",
    "                'de': ['berlin','austria',],\n",
    "                'fr': [ 'quebec',],\n",
    "                'es': ['spain', 'puertorico', 'pontevedra', 'austin', 'argentina', 'andalucia', 'honduras',],\n",
    "                'ca': [ 'andorra',],\n",
    "                'it': [],\n",
    "                'da': [],\n",
    "                'nl': ['belgium','aruba',],\n",
    "                'pt': ['portugal','angola',],\n",
    "                'ro': [],\n",
    "                'no': [],\n",
    "                'ms': [],\n",
    "                'la': [],\n",
    "                'ru': [ 'russia', 'ukraine',],\n",
    "                'el': [ 'greece',],\n",
    "                'zh-CN': [],\n",
    "                'th': ['thailand',],\n",
    "                'gl': [],\n",
    "                'ja': [],\n",
    "                'fa': [],\n",
    "                'eo': [],\n",
    "                'gd': [],\n",
    "                'ga': [],\n",
    "                'vi': [ 'vietnam',],\n",
    "                'zh-TW': [],\n",
    "                'ko' : ['southkorea', 'seoul',]}\n",
    "'''"
   ]
  },
  {
   "cell_type": "code",
   "execution_count": 51,
   "metadata": {},
   "outputs": [
    {
     "name": "stdout",
     "output_type": "stream",
     "text": [
      "<class 'pandas.core.frame.DataFrame'>\n",
      "RangeIndex: 68092 entries, 0 to 68091\n",
      "Data columns (total 7 columns):\n",
      " #   Column    Non-Null Count  Dtype   \n",
      "---  ------    --------------  -----   \n",
      " 0   user_id   68092 non-null  int64   \n",
      " 1   location  68092 non-null  object  \n",
      " 2   age       68092 non-null  int64   \n",
      " 3   city      68092 non-null  int64   \n",
      " 4   state     68092 non-null  int64   \n",
      " 5   country   68092 non-null  object  \n",
      " 6   new_age   68092 non-null  category\n",
      "dtypes: category(1), int64(4), object(2)\n",
      "memory usage: 3.2+ MB\n"
     ]
    }
   ],
   "source": [
    "users.info()"
   ]
  },
  {
   "cell_type": "code",
   "execution_count": 52,
   "metadata": {},
   "outputs": [],
   "source": [
    "users.to_csv('/home/code/data/users_preprocessed.csv', index = False)"
   ]
  },
  {
   "cell_type": "markdown",
   "metadata": {},
   "source": [
    "## `ratings`와 Merge"
   ]
  },
  {
   "cell_type": "code",
   "execution_count": 94,
   "metadata": {},
   "outputs": [
    {
     "name": "stdout",
     "output_type": "stream",
     "text": [
      "(149570, 13) (68092, 7) (306795, 3) (76699, 3)\n"
     ]
    }
   ],
   "source": [
    "path = '/home/code/data/'\n",
    "books_pre = books.copy()\n",
    "# books_pre = pd.read_csv(path + 'books_preprocessed.csv')\n",
    "users_pre = pd.read_csv(path + 'users_preprocessed.csv')\n",
    "train_ratings = pd.read_csv(path + 'train_ratings.csv')\n",
    "test_ratings = pd.read_csv(path + 'test_ratings.csv')\n",
    "\n",
    "print(books_pre.shape, users_pre.shape, train_ratings.shape, test_ratings.shape)"
   ]
  },
  {
   "cell_type": "code",
   "execution_count": 95,
   "metadata": {},
   "outputs": [],
   "source": [
    "# isbn 국가 분류 추가\n",
    "books_pre['isbn_country'] = books_pre[\"isbn\"].apply(lambda x : x[:2])"
   ]
  },
  {
   "cell_type": "code",
   "execution_count": 96,
   "metadata": {},
   "outputs": [
    {
     "name": "stdout",
     "output_type": "stream",
     "text": [
      "<class 'pandas.core.frame.DataFrame'>\n",
      "RangeIndex: 149570 entries, 0 to 149569\n",
      "Data columns (total 14 columns):\n",
      " #   Column               Non-Null Count   Dtype  \n",
      "---  ------               --------------   -----  \n",
      " 0   isbn                 149570 non-null  object \n",
      " 1   book_title           149570 non-null  object \n",
      " 2   book_author          149570 non-null  object \n",
      " 3   year_of_publication  149570 non-null  float64\n",
      " 4   publisher            149570 non-null  object \n",
      " 5   img_url              149570 non-null  object \n",
      " 6   language             149570 non-null  object \n",
      " 7   category             149570 non-null  object \n",
      " 8   summary              82343 non-null   object \n",
      " 9   img_path             149570 non-null  object \n",
      " 10  new_publisher        149570 non-null  object \n",
      " 11  years                149570 non-null  int64  \n",
      " 12  category_high        149570 non-null  object \n",
      " 13  isbn_country         149570 non-null  object \n",
      "dtypes: float64(1), int64(1), object(12)\n",
      "memory usage: 16.0+ MB\n",
      "<class 'pandas.core.frame.DataFrame'>\n",
      "RangeIndex: 68092 entries, 0 to 68091\n",
      "Data columns (total 7 columns):\n",
      " #   Column    Non-Null Count  Dtype \n",
      "---  ------    --------------  ----- \n",
      " 0   user_id   68092 non-null  int64 \n",
      " 1   location  68092 non-null  object\n",
      " 2   age       68092 non-null  int64 \n",
      " 3   city      68092 non-null  int64 \n",
      " 4   state     68092 non-null  int64 \n",
      " 5   country   68092 non-null  object\n",
      " 6   new_age   68092 non-null  object\n",
      "dtypes: int64(4), object(3)\n",
      "memory usage: 3.6+ MB\n"
     ]
    },
    {
     "data": {
      "text/plain": [
       "None"
      ]
     },
     "metadata": {},
     "output_type": "display_data"
    },
    {
     "data": {
      "text/plain": [
       "None"
      ]
     },
     "metadata": {},
     "output_type": "display_data"
    }
   ],
   "source": [
    "display(books_pre.info(), users_pre.info())"
   ]
  },
  {
   "cell_type": "code",
   "execution_count": 98,
   "metadata": {},
   "outputs": [],
   "source": [
    "books_final = books_pre[['isbn', 'book_title', 'book_author', 'language', 'years', 'new_publisher', 'category_high', \"isbn_country\"]]\n",
    "users_final = users_pre[['user_id', 'city', 'state', 'country', 'new_age']] # [['user_id', 'country', 'new_age']]"
   ]
  },
  {
   "cell_type": "code",
   "execution_count": 99,
   "metadata": {},
   "outputs": [
    {
     "name": "stdout",
     "output_type": "stream",
     "text": [
      "<class 'pandas.core.frame.DataFrame'>\n",
      "RangeIndex: 306795 entries, 0 to 306794\n",
      "Data columns (total 14 columns):\n",
      " #   Column         Non-Null Count   Dtype  \n",
      "---  ------         --------------   -----  \n",
      " 0   user_id        306795 non-null  int64  \n",
      " 1   city           306795 non-null  int64  \n",
      " 2   state          306795 non-null  int64  \n",
      " 3   country        306795 non-null  object \n",
      " 4   new_age        306795 non-null  object \n",
      " 5   isbn           306795 non-null  object \n",
      " 6   book_title     306795 non-null  object \n",
      " 7   book_author    306795 non-null  object \n",
      " 8   language       306795 non-null  object \n",
      " 9   years          306795 non-null  float64\n",
      " 10  new_publisher  306795 non-null  object \n",
      " 11  category_high  306795 non-null  object \n",
      " 12  isbn_country   306795 non-null  object \n",
      " 13  rating         306795 non-null  float64\n",
      "dtypes: float64(2), int64(3), object(9)\n",
      "memory usage: 32.8+ MB\n"
     ]
    }
   ],
   "source": [
    "train_ratings['index'] = train_ratings.index\n",
    "train_df = pd.merge(books_final, train_ratings, how = 'left', on = 'isbn').dropna(subset = 'rating')\n",
    "train_df = pd.merge(users_final, train_df, how = 'left', on = 'user_id').dropna(subset = 'rating')\n",
    "train_df = train_df.sort_values('index').reset_index(drop = True).drop(columns = 'index')\n",
    "train_df.info()"
   ]
  },
  {
   "cell_type": "code",
   "execution_count": 100,
   "metadata": {},
   "outputs": [],
   "source": [
    "# 유저별 리뷰 횟수 추가\n",
    "user_id_counts = train_df['user_id'].value_counts()\n",
    "train_df['review_counts'] = train_df['user_id'].map(user_id_counts)"
   ]
  },
  {
   "cell_type": "code",
   "execution_count": 101,
   "metadata": {},
   "outputs": [
    {
     "data": {
      "text/html": [
       "<div>\n",
       "<style scoped>\n",
       "    .dataframe tbody tr th:only-of-type {\n",
       "        vertical-align: middle;\n",
       "    }\n",
       "\n",
       "    .dataframe tbody tr th {\n",
       "        vertical-align: top;\n",
       "    }\n",
       "\n",
       "    .dataframe thead th {\n",
       "        text-align: right;\n",
       "    }\n",
       "</style>\n",
       "<table border=\"1\" class=\"dataframe\">\n",
       "  <thead>\n",
       "    <tr style=\"text-align: right;\">\n",
       "      <th></th>\n",
       "      <th>user_id</th>\n",
       "      <th>city</th>\n",
       "      <th>state</th>\n",
       "      <th>country</th>\n",
       "      <th>new_age</th>\n",
       "      <th>isbn</th>\n",
       "      <th>book_title</th>\n",
       "      <th>book_author</th>\n",
       "      <th>language</th>\n",
       "      <th>years</th>\n",
       "      <th>new_publisher</th>\n",
       "      <th>category_high</th>\n",
       "      <th>isbn_country</th>\n",
       "      <th>rating</th>\n",
       "      <th>review_counts</th>\n",
       "    </tr>\n",
       "  </thead>\n",
       "  <tbody>\n",
       "    <tr>\n",
       "      <th>0</th>\n",
       "      <td>8</td>\n",
       "      <td>0</td>\n",
       "      <td>0</td>\n",
       "      <td>0</td>\n",
       "      <td>25-34</td>\n",
       "      <td>0002005018</td>\n",
       "      <td>clara callan</td>\n",
       "      <td>richard bruce wright</td>\n",
       "      <td>en</td>\n",
       "      <td>2006.0</td>\n",
       "      <td>harperflamingo canada</td>\n",
       "      <td>actresses</td>\n",
       "      <td>00</td>\n",
       "      <td>4.0</td>\n",
       "      <td>7</td>\n",
       "    </tr>\n",
       "    <tr>\n",
       "      <th>1</th>\n",
       "      <td>67544</td>\n",
       "      <td>3</td>\n",
       "      <td>0</td>\n",
       "      <td>0</td>\n",
       "      <td>25-34</td>\n",
       "      <td>0002005018</td>\n",
       "      <td>clara callan</td>\n",
       "      <td>richard bruce wright</td>\n",
       "      <td>en</td>\n",
       "      <td>2006.0</td>\n",
       "      <td>harperflamingo canada</td>\n",
       "      <td>actresses</td>\n",
       "      <td>00</td>\n",
       "      <td>7.0</td>\n",
       "      <td>7</td>\n",
       "    </tr>\n",
       "    <tr>\n",
       "      <th>2</th>\n",
       "      <td>123629</td>\n",
       "      <td>5</td>\n",
       "      <td>0</td>\n",
       "      <td>0</td>\n",
       "      <td>25-34</td>\n",
       "      <td>0002005018</td>\n",
       "      <td>clara callan</td>\n",
       "      <td>richard bruce wright</td>\n",
       "      <td>en</td>\n",
       "      <td>2006.0</td>\n",
       "      <td>harperflamingo canada</td>\n",
       "      <td>actresses</td>\n",
       "      <td>00</td>\n",
       "      <td>8.0</td>\n",
       "      <td>1</td>\n",
       "    </tr>\n",
       "    <tr>\n",
       "      <th>3</th>\n",
       "      <td>200273</td>\n",
       "      <td>6</td>\n",
       "      <td>0</td>\n",
       "      <td>0</td>\n",
       "      <td>25-34</td>\n",
       "      <td>0002005018</td>\n",
       "      <td>clara callan</td>\n",
       "      <td>richard bruce wright</td>\n",
       "      <td>en</td>\n",
       "      <td>2006.0</td>\n",
       "      <td>harperflamingo canada</td>\n",
       "      <td>actresses</td>\n",
       "      <td>00</td>\n",
       "      <td>8.0</td>\n",
       "      <td>1</td>\n",
       "    </tr>\n",
       "    <tr>\n",
       "      <th>4</th>\n",
       "      <td>210926</td>\n",
       "      <td>7</td>\n",
       "      <td>0</td>\n",
       "      <td>0</td>\n",
       "      <td>25-34</td>\n",
       "      <td>0002005018</td>\n",
       "      <td>clara callan</td>\n",
       "      <td>richard bruce wright</td>\n",
       "      <td>en</td>\n",
       "      <td>2006.0</td>\n",
       "      <td>harperflamingo canada</td>\n",
       "      <td>actresses</td>\n",
       "      <td>00</td>\n",
       "      <td>9.0</td>\n",
       "      <td>5</td>\n",
       "    </tr>\n",
       "  </tbody>\n",
       "</table>\n",
       "</div>"
      ],
      "text/plain": [
       "   user_id  city  state country new_age        isbn    book_title  \\\n",
       "0        8     0      0       0   25-34  0002005018  clara callan   \n",
       "1    67544     3      0       0   25-34  0002005018  clara callan   \n",
       "2   123629     5      0       0   25-34  0002005018  clara callan   \n",
       "3   200273     6      0       0   25-34  0002005018  clara callan   \n",
       "4   210926     7      0       0   25-34  0002005018  clara callan   \n",
       "\n",
       "            book_author language   years          new_publisher category_high  \\\n",
       "0  richard bruce wright       en  2006.0  harperflamingo canada     actresses   \n",
       "1  richard bruce wright       en  2006.0  harperflamingo canada     actresses   \n",
       "2  richard bruce wright       en  2006.0  harperflamingo canada     actresses   \n",
       "3  richard bruce wright       en  2006.0  harperflamingo canada     actresses   \n",
       "4  richard bruce wright       en  2006.0  harperflamingo canada     actresses   \n",
       "\n",
       "  isbn_country  rating  review_counts  \n",
       "0           00     4.0              7  \n",
       "1           00     7.0              7  \n",
       "2           00     8.0              1  \n",
       "3           00     8.0              1  \n",
       "4           00     9.0              5  "
      ]
     },
     "execution_count": 101,
     "metadata": {},
     "output_type": "execute_result"
    }
   ],
   "source": [
    "train_df.head()"
   ]
  },
  {
   "cell_type": "code",
   "execution_count": 102,
   "metadata": {},
   "outputs": [
    {
     "name": "stdout",
     "output_type": "stream",
     "text": [
      "<class 'pandas.core.frame.DataFrame'>\n",
      "RangeIndex: 306795 entries, 0 to 306794\n",
      "Data columns (total 15 columns):\n",
      " #   Column         Non-Null Count   Dtype  \n",
      "---  ------         --------------   -----  \n",
      " 0   user_id        306795 non-null  int64  \n",
      " 1   city           306795 non-null  int64  \n",
      " 2   state          306795 non-null  int64  \n",
      " 3   country        306795 non-null  object \n",
      " 4   new_age        306795 non-null  object \n",
      " 5   isbn           306795 non-null  object \n",
      " 6   book_title     306795 non-null  object \n",
      " 7   book_author    306795 non-null  object \n",
      " 8   language       306795 non-null  object \n",
      " 9   years          306795 non-null  float64\n",
      " 10  new_publisher  306795 non-null  object \n",
      " 11  category_high  306795 non-null  object \n",
      " 12  isbn_country   306795 non-null  object \n",
      " 13  rating         306795 non-null  float64\n",
      " 14  review_counts  306795 non-null  int64  \n",
      "dtypes: float64(2), int64(4), object(9)\n",
      "memory usage: 35.1+ MB\n"
     ]
    }
   ],
   "source": [
    "train_df.info()"
   ]
  },
  {
   "cell_type": "code",
   "execution_count": 103,
   "metadata": {},
   "outputs": [
    {
     "name": "stdout",
     "output_type": "stream",
     "text": [
      "<class 'pandas.core.frame.DataFrame'>\n",
      "RangeIndex: 76699 entries, 0 to 76698\n",
      "Data columns (total 14 columns):\n",
      " #   Column         Non-Null Count  Dtype  \n",
      "---  ------         --------------  -----  \n",
      " 0   user_id        76699 non-null  int64  \n",
      " 1   city           76699 non-null  int64  \n",
      " 2   state          76699 non-null  int64  \n",
      " 3   country        76699 non-null  object \n",
      " 4   new_age        76699 non-null  object \n",
      " 5   isbn           76699 non-null  object \n",
      " 6   book_title     76699 non-null  object \n",
      " 7   book_author    76699 non-null  object \n",
      " 8   language       76699 non-null  object \n",
      " 9   years          76699 non-null  float64\n",
      " 10  new_publisher  76699 non-null  object \n",
      " 11  category_high  76699 non-null  object \n",
      " 12  isbn_country   76699 non-null  object \n",
      " 13  rating         76699 non-null  float64\n",
      "dtypes: float64(2), int64(3), object(9)\n",
      "memory usage: 8.2+ MB\n"
     ]
    }
   ],
   "source": [
    "test_ratings['index'] = test_ratings.index\n",
    "test_df = pd.merge(books_final, test_ratings, how = 'left', on = 'isbn').dropna(subset = 'rating')\n",
    "test_df = pd.merge(users_final, test_df, how = 'left', on = 'user_id').dropna(subset = 'rating')\n",
    "test_df = test_df.sort_values('index').reset_index(drop = True).drop(columns = 'index')\n",
    "test_df.info()"
   ]
  },
  {
   "cell_type": "code",
   "execution_count": 104,
   "metadata": {},
   "outputs": [],
   "source": [
    "test_df['review_counts'] = test_df['user_id'].map(user_id_counts)\n",
    "test_df[\"review_counts\"] = test_df[\"review_counts\"].fillna(0)"
   ]
  },
  {
   "cell_type": "code",
   "execution_count": 105,
   "metadata": {},
   "outputs": [
    {
     "data": {
      "text/html": [
       "<div>\n",
       "<style scoped>\n",
       "    .dataframe tbody tr th:only-of-type {\n",
       "        vertical-align: middle;\n",
       "    }\n",
       "\n",
       "    .dataframe tbody tr th {\n",
       "        vertical-align: top;\n",
       "    }\n",
       "\n",
       "    .dataframe thead th {\n",
       "        text-align: right;\n",
       "    }\n",
       "</style>\n",
       "<table border=\"1\" class=\"dataframe\">\n",
       "  <thead>\n",
       "    <tr style=\"text-align: right;\">\n",
       "      <th></th>\n",
       "      <th>user_id</th>\n",
       "      <th>city</th>\n",
       "      <th>state</th>\n",
       "      <th>country</th>\n",
       "      <th>new_age</th>\n",
       "      <th>isbn</th>\n",
       "      <th>book_title</th>\n",
       "      <th>book_author</th>\n",
       "      <th>language</th>\n",
       "      <th>years</th>\n",
       "      <th>new_publisher</th>\n",
       "      <th>category_high</th>\n",
       "      <th>isbn_country</th>\n",
       "      <th>rating</th>\n",
       "      <th>review_counts</th>\n",
       "    </tr>\n",
       "  </thead>\n",
       "  <tbody>\n",
       "    <tr>\n",
       "      <th>0</th>\n",
       "      <td>11676</td>\n",
       "      <td>2</td>\n",
       "      <td>1</td>\n",
       "      <td>1</td>\n",
       "      <td>35-44</td>\n",
       "      <td>0002005018</td>\n",
       "      <td>clara callan</td>\n",
       "      <td>richard bruce wright</td>\n",
       "      <td>en</td>\n",
       "      <td>2006.0</td>\n",
       "      <td>harperflamingo canada</td>\n",
       "      <td>actresses</td>\n",
       "      <td>00</td>\n",
       "      <td>0.0</td>\n",
       "      <td>5520.0</td>\n",
       "    </tr>\n",
       "    <tr>\n",
       "      <th>1</th>\n",
       "      <td>116866</td>\n",
       "      <td>1</td>\n",
       "      <td>0</td>\n",
       "      <td>0</td>\n",
       "      <td>25-34</td>\n",
       "      <td>0002005018</td>\n",
       "      <td>clara callan</td>\n",
       "      <td>richard bruce wright</td>\n",
       "      <td>en</td>\n",
       "      <td>2006.0</td>\n",
       "      <td>harperflamingo canada</td>\n",
       "      <td>actresses</td>\n",
       "      <td>00</td>\n",
       "      <td>0.0</td>\n",
       "      <td>49.0</td>\n",
       "    </tr>\n",
       "    <tr>\n",
       "      <th>2</th>\n",
       "      <td>152827</td>\n",
       "      <td>1</td>\n",
       "      <td>0</td>\n",
       "      <td>0</td>\n",
       "      <td>35-44</td>\n",
       "      <td>0060973129</td>\n",
       "      <td>decision in normandy</td>\n",
       "      <td>carlo deste</td>\n",
       "      <td>en</td>\n",
       "      <td>1995.0</td>\n",
       "      <td>perennial</td>\n",
       "      <td>others</td>\n",
       "      <td>00</td>\n",
       "      <td>0.0</td>\n",
       "      <td>5.0</td>\n",
       "    </tr>\n",
       "    <tr>\n",
       "      <th>3</th>\n",
       "      <td>157969</td>\n",
       "      <td>15</td>\n",
       "      <td>10</td>\n",
       "      <td>2</td>\n",
       "      <td>25-34</td>\n",
       "      <td>0374157065</td>\n",
       "      <td>flu the story of the great influenza pandemic ...</td>\n",
       "      <td>gina bari kolata</td>\n",
       "      <td>en</td>\n",
       "      <td>2000.0</td>\n",
       "      <td>nan</td>\n",
       "      <td>medical</td>\n",
       "      <td>03</td>\n",
       "      <td>0.0</td>\n",
       "      <td>2.0</td>\n",
       "    </tr>\n",
       "    <tr>\n",
       "      <th>4</th>\n",
       "      <td>67958</td>\n",
       "      <td>25</td>\n",
       "      <td>18</td>\n",
       "      <td>2</td>\n",
       "      <td>35-44</td>\n",
       "      <td>0399135782</td>\n",
       "      <td>the kitchen gods wife</td>\n",
       "      <td>amy tan</td>\n",
       "      <td>en</td>\n",
       "      <td>1995.0</td>\n",
       "      <td>putnam pub group</td>\n",
       "      <td>fiction</td>\n",
       "      <td>03</td>\n",
       "      <td>0.0</td>\n",
       "      <td>11.0</td>\n",
       "    </tr>\n",
       "  </tbody>\n",
       "</table>\n",
       "</div>"
      ],
      "text/plain": [
       "   user_id  city  state country new_age        isbn  \\\n",
       "0    11676     2      1       1   35-44  0002005018   \n",
       "1   116866     1      0       0   25-34  0002005018   \n",
       "2   152827     1      0       0   35-44  0060973129   \n",
       "3   157969    15     10       2   25-34  0374157065   \n",
       "4    67958    25     18       2   35-44  0399135782   \n",
       "\n",
       "                                          book_title           book_author  \\\n",
       "0                                       clara callan  richard bruce wright   \n",
       "1                                       clara callan  richard bruce wright   \n",
       "2                               decision in normandy           carlo deste   \n",
       "3  flu the story of the great influenza pandemic ...      gina bari kolata   \n",
       "4                              the kitchen gods wife               amy tan   \n",
       "\n",
       "  language   years          new_publisher category_high isbn_country  rating  \\\n",
       "0       en  2006.0  harperflamingo canada     actresses           00     0.0   \n",
       "1       en  2006.0  harperflamingo canada     actresses           00     0.0   \n",
       "2       en  1995.0              perennial        others           00     0.0   \n",
       "3       en  2000.0                    nan       medical           03     0.0   \n",
       "4       en  1995.0       putnam pub group       fiction           03     0.0   \n",
       "\n",
       "   review_counts  \n",
       "0         5520.0  \n",
       "1           49.0  \n",
       "2            5.0  \n",
       "3            2.0  \n",
       "4           11.0  "
      ]
     },
     "execution_count": 105,
     "metadata": {},
     "output_type": "execute_result"
    }
   ],
   "source": [
    "test_df.head()"
   ]
  },
  {
   "cell_type": "code",
   "execution_count": 106,
   "metadata": {},
   "outputs": [
    {
     "name": "stdout",
     "output_type": "stream",
     "text": [
      "<class 'pandas.core.frame.DataFrame'>\n",
      "RangeIndex: 76699 entries, 0 to 76698\n",
      "Data columns (total 15 columns):\n",
      " #   Column         Non-Null Count  Dtype  \n",
      "---  ------         --------------  -----  \n",
      " 0   user_id        76699 non-null  int64  \n",
      " 1   city           76699 non-null  int64  \n",
      " 2   state          76699 non-null  int64  \n",
      " 3   country        76699 non-null  object \n",
      " 4   new_age        76699 non-null  object \n",
      " 5   isbn           76699 non-null  object \n",
      " 6   book_title     76699 non-null  object \n",
      " 7   book_author    76699 non-null  object \n",
      " 8   language       76699 non-null  object \n",
      " 9   years          76699 non-null  float64\n",
      " 10  new_publisher  76699 non-null  object \n",
      " 11  category_high  76699 non-null  object \n",
      " 12  isbn_country   76699 non-null  object \n",
      " 13  rating         76699 non-null  float64\n",
      " 14  review_counts  76699 non-null  float64\n",
      "dtypes: float64(3), int64(3), object(9)\n",
      "memory usage: 8.8+ MB\n"
     ]
    }
   ],
   "source": [
    "test_df.info()"
   ]
  },
  {
   "cell_type": "markdown",
   "metadata": {},
   "source": [
    "- `avg_rating`\n",
    "    - `user_id`별 평균 `rating`의 값을 계산"
   ]
  },
  {
   "cell_type": "code",
   "execution_count": 108,
   "metadata": {},
   "outputs": [],
   "source": [
    "train_df['user_id'] = train_df['user_id'].astype('str')\n",
    "train_df['city'] = train_df['city'].astype('str')\n",
    "train_df['state'] = train_df['state'].astype('str')\n",
    "train_df['country'] = train_df['country'].astype('str')\n",
    "train_df['new_age'] = train_df['new_age'].astype('str')\n",
    "train_df['years'] = train_df['years'].astype('int').astype('str')\n",
    "train_df['rating'] = train_df['rating'].astype('int')\n",
    "train_df['review_counts'] = train_df['review_counts'].astype('int')\n",
    "train_df['isbn_country'] = train_df['isbn_country'].astype('str')\n",
    "\n",
    "test_df['user_id'] = test_df['user_id'].astype('str')\n",
    "test_df['city'] = test_df['city'].astype('str')\n",
    "test_df['state'] = test_df['state'].astype('str')\n",
    "test_df['country'] = test_df['country'].astype('str')\n",
    "test_df['new_age'] = test_df['new_age'].astype('str')\n",
    "test_df['years'] = test_df['years'].astype('int').astype('str')\n",
    "test_df['rating'] = test_df['rating'].astype('int')\n",
    "test_df['review_counts'] = test_df['review_counts'].astype('int')\n",
    "test_df['isbn_country'] = test_df['isbn_country'].astype('str')"
   ]
  },
  {
   "cell_type": "code",
   "execution_count": 109,
   "metadata": {},
   "outputs": [
    {
     "name": "stdout",
     "output_type": "stream",
     "text": [
      "<class 'pandas.core.frame.DataFrame'>\n",
      "RangeIndex: 306795 entries, 0 to 306794\n",
      "Data columns (total 15 columns):\n",
      " #   Column         Non-Null Count   Dtype \n",
      "---  ------         --------------   ----- \n",
      " 0   user_id        306795 non-null  object\n",
      " 1   city           306795 non-null  object\n",
      " 2   state          306795 non-null  object\n",
      " 3   country        306795 non-null  object\n",
      " 4   new_age        306795 non-null  object\n",
      " 5   isbn           306795 non-null  object\n",
      " 6   book_title     306795 non-null  object\n",
      " 7   book_author    306795 non-null  object\n",
      " 8   language       306795 non-null  object\n",
      " 9   years          306795 non-null  object\n",
      " 10  new_publisher  306795 non-null  object\n",
      " 11  category_high  306795 non-null  object\n",
      " 12  isbn_country   306795 non-null  object\n",
      " 13  rating         306795 non-null  int64 \n",
      " 14  review_counts  306795 non-null  int64 \n",
      "dtypes: int64(2), object(13)\n",
      "memory usage: 35.1+ MB\n"
     ]
    }
   ],
   "source": [
    "train_df.info()"
   ]
  },
  {
   "cell_type": "code",
   "execution_count": 110,
   "metadata": {},
   "outputs": [
    {
     "name": "stdout",
     "output_type": "stream",
     "text": [
      "<class 'pandas.core.frame.DataFrame'>\n",
      "RangeIndex: 76699 entries, 0 to 76698\n",
      "Data columns (total 15 columns):\n",
      " #   Column         Non-Null Count  Dtype \n",
      "---  ------         --------------  ----- \n",
      " 0   user_id        76699 non-null  object\n",
      " 1   city           76699 non-null  object\n",
      " 2   state          76699 non-null  object\n",
      " 3   country        76699 non-null  object\n",
      " 4   new_age        76699 non-null  object\n",
      " 5   isbn           76699 non-null  object\n",
      " 6   book_title     76699 non-null  object\n",
      " 7   book_author    76699 non-null  object\n",
      " 8   language       76699 non-null  object\n",
      " 9   years          76699 non-null  object\n",
      " 10  new_publisher  76699 non-null  object\n",
      " 11  category_high  76699 non-null  object\n",
      " 12  isbn_country   76699 non-null  object\n",
      " 13  rating         76699 non-null  int64 \n",
      " 14  review_counts  76699 non-null  int64 \n",
      "dtypes: int64(2), object(13)\n",
      "memory usage: 8.8+ MB\n"
     ]
    }
   ],
   "source": [
    "test_df.info()"
   ]
  },
  {
   "cell_type": "markdown",
   "metadata": {},
   "source": [
    "# Model\n"
   ]
  },
  {
   "cell_type": "markdown",
   "metadata": {},
   "source": [
    "- `Catboost` 학습용 데이터"
   ]
  },
  {
   "cell_type": "markdown",
   "metadata": {},
   "source": [
    "- `LightGBM`, `XGBoost` 학습용 데이터\n",
    "    - `object`형이 들어가면 안되므로 LabelEncoding"
   ]
  },
  {
   "cell_type": "code",
   "execution_count": 113,
   "metadata": {},
   "outputs": [],
   "source": [
    "train_GB = train_df.copy()\n",
    "test_GB = test_df.copy()"
   ]
  },
  {
   "cell_type": "code",
   "execution_count": 114,
   "metadata": {},
   "outputs": [
    {
     "name": "stderr",
     "output_type": "stream",
     "text": [
      "100%|██████████| 52000/52000 [04:55<00:00, 176.03it/s]\n",
      "100%|██████████| 46938/46938 [04:25<00:00, 177.12it/s]\n",
      "100%|██████████| 23011/23011 [00:38<00:00, 592.09it/s]\n",
      "100%|██████████| 17/17 [00:00<00:00, 57688.65it/s]\n",
      "100%|██████████| 1882/1882 [00:00<00:00, 15674.29it/s]\n",
      "100%|██████████| 391/391 [00:00<00:00, 59410.70it/s]\n",
      "100%|██████████| 26167/26167 [01:09<00:00, 379.01it/s]\n",
      "100%|██████████| 12/12 [00:00<00:00, 43203.13it/s]\n",
      "100%|██████████| 7/7 [00:00<00:00, 34379.54it/s]\n",
      "100%|██████████| 6839/6839 [00:03<00:00, 2269.73it/s]\n",
      "100%|██████████| 771/771 [00:00<00:00, 19106.81it/s]\n",
      "100%|██████████| 55/55 [00:00<00:00, 84100.15it/s]\n",
      "100%|██████████| 56/56 [00:00<00:00, 76284.84it/s]\n"
     ]
    }
   ],
   "source": [
    "cat_col = ['isbn', 'book_title', 'book_author', 'language', 'new_publisher', 'category_high', 'user_id', 'new_age', 'years', 'city', 'state', 'country', \"isbn_country\"]\n",
    "\n",
    "for col in cat_col :\n",
    "    le = LabelEncoder()\n",
    "    train_GB[col] = le.fit_transform(train_GB[col])\n",
    "    for label in tqdm.tqdm((test_GB[col].unique())) :\n",
    "        if label not in le.classes_ : \n",
    "            le.classes_ = np.append(le.classes_, label)\n",
    "    test_GB[col] = le.transform(test_GB[col])\n",
    "\n"
   ]
  },
  {
   "cell_type": "code",
   "execution_count": 115,
   "metadata": {},
   "outputs": [
    {
     "name": "stdout",
     "output_type": "stream",
     "text": [
      "(291455, 14) (291455,) (15340, 14) (15340,)\n"
     ]
    }
   ],
   "source": [
    "X_train, X_valid, y_train, y_valid = train_test_split(train_GB.drop(columns = 'rating'), train_GB['rating'],\n",
    "                                                      test_size = 0.05, random_state = SEED)\n",
    "print(X_train.shape, y_train.shape, X_valid.shape, y_valid.shape)"
   ]
  },
  {
   "cell_type": "code",
   "execution_count": 116,
   "metadata": {},
   "outputs": [],
   "source": [
    "train_GB.to_csv(\"/home/code/data/merged_train.csv\", index = False)\n",
    "test_df.to_csv(\"/home/code/data/merged_test.csv\", index = False)"
   ]
  },
  {
   "cell_type": "code",
   "execution_count": 117,
   "metadata": {},
   "outputs": [
    {
     "data": {
      "text/html": [
       "<div>\n",
       "<style scoped>\n",
       "    .dataframe tbody tr th:only-of-type {\n",
       "        vertical-align: middle;\n",
       "    }\n",
       "\n",
       "    .dataframe tbody tr th {\n",
       "        vertical-align: top;\n",
       "    }\n",
       "\n",
       "    .dataframe thead th {\n",
       "        text-align: right;\n",
       "    }\n",
       "</style>\n",
       "<table border=\"1\" class=\"dataframe\">\n",
       "  <thead>\n",
       "    <tr style=\"text-align: right;\">\n",
       "      <th></th>\n",
       "      <th>user_id</th>\n",
       "      <th>city</th>\n",
       "      <th>state</th>\n",
       "      <th>country</th>\n",
       "      <th>new_age</th>\n",
       "      <th>isbn</th>\n",
       "      <th>book_title</th>\n",
       "      <th>book_author</th>\n",
       "      <th>language</th>\n",
       "      <th>years</th>\n",
       "      <th>new_publisher</th>\n",
       "      <th>category_high</th>\n",
       "      <th>isbn_country</th>\n",
       "      <th>rating</th>\n",
       "      <th>review_counts</th>\n",
       "    </tr>\n",
       "  </thead>\n",
       "  <tbody>\n",
       "    <tr>\n",
       "      <th>0</th>\n",
       "      <td>55062</td>\n",
       "      <td>0</td>\n",
       "      <td>0</td>\n",
       "      <td>0</td>\n",
       "      <td>3</td>\n",
       "      <td>31</td>\n",
       "      <td>17313</td>\n",
       "      <td>41806</td>\n",
       "      <td>4</td>\n",
       "      <td>6</td>\n",
       "      <td>929</td>\n",
       "      <td>9</td>\n",
       "      <td>0</td>\n",
       "      <td>4</td>\n",
       "      <td>7</td>\n",
       "    </tr>\n",
       "    <tr>\n",
       "      <th>1</th>\n",
       "      <td>52155</td>\n",
       "      <td>3800</td>\n",
       "      <td>0</td>\n",
       "      <td>0</td>\n",
       "      <td>3</td>\n",
       "      <td>31</td>\n",
       "      <td>17313</td>\n",
       "      <td>41806</td>\n",
       "      <td>4</td>\n",
       "      <td>6</td>\n",
       "      <td>929</td>\n",
       "      <td>9</td>\n",
       "      <td>0</td>\n",
       "      <td>7</td>\n",
       "      <td>7</td>\n",
       "    </tr>\n",
       "    <tr>\n",
       "      <th>2</th>\n",
       "      <td>5579</td>\n",
       "      <td>5979</td>\n",
       "      <td>0</td>\n",
       "      <td>0</td>\n",
       "      <td>3</td>\n",
       "      <td>31</td>\n",
       "      <td>17313</td>\n",
       "      <td>41806</td>\n",
       "      <td>4</td>\n",
       "      <td>6</td>\n",
       "      <td>929</td>\n",
       "      <td>9</td>\n",
       "      <td>0</td>\n",
       "      <td>8</td>\n",
       "      <td>1</td>\n",
       "    </tr>\n",
       "    <tr>\n",
       "      <th>3</th>\n",
       "      <td>23514</td>\n",
       "      <td>7031</td>\n",
       "      <td>0</td>\n",
       "      <td>0</td>\n",
       "      <td>3</td>\n",
       "      <td>31</td>\n",
       "      <td>17313</td>\n",
       "      <td>41806</td>\n",
       "      <td>4</td>\n",
       "      <td>6</td>\n",
       "      <td>929</td>\n",
       "      <td>9</td>\n",
       "      <td>0</td>\n",
       "      <td>8</td>\n",
       "      <td>1</td>\n",
       "    </tr>\n",
       "    <tr>\n",
       "      <th>4</th>\n",
       "      <td>26145</td>\n",
       "      <td>8060</td>\n",
       "      <td>0</td>\n",
       "      <td>0</td>\n",
       "      <td>3</td>\n",
       "      <td>31</td>\n",
       "      <td>17313</td>\n",
       "      <td>41806</td>\n",
       "      <td>4</td>\n",
       "      <td>6</td>\n",
       "      <td>929</td>\n",
       "      <td>9</td>\n",
       "      <td>0</td>\n",
       "      <td>9</td>\n",
       "      <td>5</td>\n",
       "    </tr>\n",
       "  </tbody>\n",
       "</table>\n",
       "</div>"
      ],
      "text/plain": [
       "   user_id  city  state  country  new_age  isbn  book_title  book_author  \\\n",
       "0    55062     0      0        0        3    31       17313        41806   \n",
       "1    52155  3800      0        0        3    31       17313        41806   \n",
       "2     5579  5979      0        0        3    31       17313        41806   \n",
       "3    23514  7031      0        0        3    31       17313        41806   \n",
       "4    26145  8060      0        0        3    31       17313        41806   \n",
       "\n",
       "   language  years  new_publisher  category_high  isbn_country  rating  \\\n",
       "0         4      6            929              9             0       4   \n",
       "1         4      6            929              9             0       7   \n",
       "2         4      6            929              9             0       8   \n",
       "3         4      6            929              9             0       8   \n",
       "4         4      6            929              9             0       9   \n",
       "\n",
       "   review_counts  \n",
       "0              7  \n",
       "1              7  \n",
       "2              1  \n",
       "3              1  \n",
       "4              5  "
      ]
     },
     "execution_count": 117,
     "metadata": {},
     "output_type": "execute_result"
    }
   ],
   "source": [
    "train_GB.head()"
   ]
  },
  {
   "cell_type": "markdown",
   "metadata": {},
   "source": [
    "## Catboost"
   ]
  },
  {
   "cell_type": "code",
   "execution_count": 71,
   "metadata": {},
   "outputs": [],
   "source": [
    "from optuna.integration import CatBoostPruningCallback\n",
    "\n",
    "def objectiveCAT(trial : Trial, X_train, y_train, X_valid, y_valid) :\n",
    "    param = {\n",
    "        'learning_rate' : trial.suggest_categorical('learning_rate', [1e-3, 0.01, 0.1, 0.5]),\n",
    "        'depth' : trial.suggest_int('depth', 1, 15),\n",
    "        'colsample_bylevel' : trial.suggest_categorical('colsample_bylevel', [1e-3, 0.01, 0.1, 0.5]),   \n",
    "        'boosting_type' : trial.suggest_categorical('boosting_type', ['Ordered', 'Plain']),\n",
    "        'bootstrap_type' : trial.suggest_categorical('bootstrap_type', ['Bayesian', 'Bernoulli', 'MVS']),\n",
    "    }\n",
    "\n",
    "    if param['bootstrap_type'] == 'Bayesian':\n",
    "        param['bagging_temperature'] = trial.suggest_float('bagging_temperature', 0, 10)\n",
    "    elif param['bootstrap_type'] == 'Bernoulli':\n",
    "        param['subsample'] = trial.suggest_float('subsample', 0.1, 1)\n",
    "        \n",
    "    model = CatBoostRegressor(**param, iterations = 5000, loss_function = 'RMSE', eval_metric = 'RMSE',\n",
    "                              use_best_model = True, random_state = SEED, # task_type = 'GPU', devices = '0'\n",
    "                              cat_features = [i for i in range(0, 12)])\n",
    "    pruning_callback = CatBoostPruningCallback(trial, 'RMSE', eval_set_index = 1)\n",
    "    cat_model = model.fit(X_train, y_train, eval_set = [(X_train, y_train), (X_valid, y_valid)], verbose = 500,\n",
    "                          early_stopping_rounds = 100, callbacks = [pruning_callback])\n",
    "    pruning_callback.check_pruned()\n",
    "    \n",
    "    score = mean_squared_error(y_valid, cat_model.predict(X_valid), squared = False)\n",
    "    return score"
   ]
  },
  {
   "cell_type": "code",
   "execution_count": 72,
   "metadata": {},
   "outputs": [],
   "source": [
    "def objectiveCAT_GPU(trial : Trial, X_train, y_train, X_valid, y_valid) :\n",
    "    param = {\n",
    "        'depth' : trial.suggest_int('depth', 1, 15),\n",
    "        'learning_rate' : trial.suggest_categorical('learning_rate', [1e-5, 1e-3, 0.1, 0.5]),\n",
    "        'l2_leaf_reg' : trial.suggest_categorical('l2_leaf_reg', [1e-3, 1, 3, 5]),\n",
    "        'random_strength' : trial.suggest_categorical('random_strength', [1e-5, 1e-3, 0.1, 1]),\n",
    "        'min_data_in_leaf' : trial.suggest_int('min_data_in_leaf', 1, 10),\n",
    "        'leaf_estimation_iterations' : trial.suggest_int('leaf_estimation_iterations', 1, 15),\n",
    "        'boosting_type' : trial.suggest_categorical('boosting_type', ['Ordered', 'Plain']),\n",
    "        'bootstrap_type' : trial.suggest_categorical('bootstrap_type', ['Bayesian', 'Bernoulli', 'MVS']),\n",
    "    }\n",
    "    \n",
    "    if param['bootstrap_type'] == 'Bayesian' :\n",
    "        param['bagging_temperature'] = trial.suggest_int('bagging_temperature', 0, 10)\n",
    "    elif param['bootstrap_type'] == 'Bernoulli' :\n",
    "        param['subsample'] = trial.suggest_float('subsample', 0.1, 1)\n",
    "    \n",
    "    model = CatBoostRegressor(**param, iterations = 1000,\n",
    "                              loss_function = 'RMSE', eval_metric = 'RMSE',\n",
    "                              use_best_model = True, random_state = SEED,\n",
    "                              task_type = 'GPU', devices = '0',\n",
    "                              cat_features = [0, 1, 2, 3, 4, 5, 6, 7, 8, 9, 10, 11])\n",
    "    cat_model = model.fit(X_train, y_train, eval_set = [(X_valid, y_valid)], # CatBoostError: Multiple eval sets are not supported on GPU\n",
    "                          verbose = 500, early_stopping_rounds = 100)\n",
    "    \n",
    "    score = mean_squared_error(y_valid, cat_model.predict(X_valid), squared = False)\n",
    "    return score"
   ]
  },
  {
   "cell_type": "code",
   "execution_count": 73,
   "metadata": {},
   "outputs": [
    {
     "name": "stderr",
     "output_type": "stream",
     "text": [
      "[I 2023-12-19 01:26:14,648] A new study created in memory with name: no-name-9d8db02e-bfcf-40bd-81d9-573498062a37\n"
     ]
    },
    {
     "name": "stdout",
     "output_type": "stream",
     "text": [
      "0:\tlearn: 2.4331396\ttest: 2.4321477\ttest1: 2.4249865\tbest: 2.4249865 (0)\ttotal: 221ms\tremaining: 18m 25s\n",
      "500:\tlearn: 2.2418731\ttest: 1.9711110\ttest1: 2.1954987\tbest: 2.1954987 (500)\ttotal: 22s\tremaining: 3m 17s\n",
      "1000:\tlearn: 2.2130042\ttest: 1.8682785\ttest1: 2.1572015\tbest: 2.1572015 (1000)\ttotal: 44.6s\tremaining: 2m 58s\n",
      "1500:\tlearn: 2.2056661\ttest: 1.8274975\ttest1: 2.1468838\tbest: 2.1468838 (1500)\ttotal: 1m 6s\tremaining: 2m 35s\n",
      "2000:\tlearn: 2.2018829\ttest: 1.7981450\ttest1: 2.1414050\tbest: 2.1414015 (1999)\ttotal: 1m 30s\tremaining: 2m 14s\n",
      "2500:\tlearn: 2.1993238\ttest: 1.7830795\ttest1: 2.1377585\tbest: 2.1377585 (2500)\ttotal: 1m 52s\tremaining: 1m 52s\n",
      "3000:\tlearn: 2.1977412\ttest: 1.7733225\ttest1: 2.1355791\tbest: 2.1355791 (3000)\ttotal: 2m 15s\tremaining: 1m 30s\n",
      "3500:\tlearn: 2.1964206\ttest: 1.7649680\ttest1: 2.1338225\tbest: 2.1338225 (3500)\ttotal: 2m 36s\tremaining: 1m 7s\n",
      "4000:\tlearn: 2.1954542\ttest: 1.7598762\ttest1: 2.1326668\tbest: 2.1326668 (3999)\ttotal: 2m 58s\tremaining: 44.5s\n",
      "4500:\tlearn: 2.1945643\ttest: 1.7549516\ttest1: 2.1315720\tbest: 2.1315720 (4500)\ttotal: 3m 19s\tremaining: 22.2s\n",
      "4999:\tlearn: 2.1938567\ttest: 1.7505411\ttest1: 2.1308099\tbest: 2.1308099 (4999)\ttotal: 3m 41s\tremaining: 0us\n",
      "\n",
      "bestTest = 2.130809906\n",
      "bestIteration = 4999\n",
      "\n"
     ]
    },
    {
     "name": "stderr",
     "output_type": "stream",
     "text": [
      "[I 2023-12-19 01:30:44,224] Trial 0 finished with value: 2.1308099058599352 and parameters: {'learning_rate': 0.01, 'depth': 3, 'colsample_bylevel': 0.1, 'boosting_type': 'Ordered', 'bootstrap_type': 'Bayesian', 'bagging_temperature': 1.8182496720710062}. Best is trial 0 with value: 2.1308099058599352.\n"
     ]
    },
    {
     "name": "stdout",
     "output_type": "stream",
     "text": [
      "0:\tlearn: 2.4336144\ttest: 2.4336144\ttest1: 2.4255668\tbest: 2.4255668 (0)\ttotal: 13.3ms\tremaining: 1m 6s\n",
      "Stopped by overfitting detector  (100 iterations wait)\n",
      "\n",
      "bestTest = 2.421241498\n",
      "bestIteration = 332\n",
      "\n",
      "Shrink model to first 333 iterations.\n"
     ]
    },
    {
     "name": "stderr",
     "output_type": "stream",
     "text": [
      "[I 2023-12-19 01:30:50,442] Trial 1 finished with value: 2.421241497905361 and parameters: {'learning_rate': 0.1, 'depth': 5, 'colsample_bylevel': 0.001, 'boosting_type': 'Plain', 'bootstrap_type': 'MVS'}. Best is trial 0 with value: 2.1308099058599352.\n"
     ]
    },
    {
     "name": "stdout",
     "output_type": "stream",
     "text": [
      "0:\tlearn: 2.4336144\ttest: 2.4336144\ttest1: 2.4255668\tbest: 2.4255668 (0)\ttotal: 17.4ms\tremaining: 1m 27s\n",
      "Stopped by overfitting detector  (100 iterations wait)\n",
      "\n",
      "bestTest = 2.425490318\n",
      "bestIteration = 35\n",
      "\n",
      "Shrink model to first 36 iterations.\n"
     ]
    },
    {
     "name": "stderr",
     "output_type": "stream",
     "text": [
      "[I 2023-12-19 01:30:54,282] Trial 2 finished with value: 2.425490317822909 and parameters: {'learning_rate': 0.01, 'depth': 15, 'colsample_bylevel': 0.001, 'boosting_type': 'Ordered', 'bootstrap_type': 'Bernoulli', 'subsample': 0.9183883618709039}. Best is trial 0 with value: 2.1308099058599352.\n"
     ]
    },
    {
     "name": "stdout",
     "output_type": "stream",
     "text": [
      "0:\tlearn: 2.4336144\ttest: 2.4336144\ttest1: 2.4255668\tbest: 2.4255668 (0)\ttotal: 15.4ms\tremaining: 1m 16s\n",
      "500:\tlearn: 2.4026036\ttest: 2.3705861\ttest1: 2.3901023\tbest: 2.3901023 (485)\ttotal: 5.38s\tremaining: 48.3s\n",
      "1000:\tlearn: 2.3875472\ttest: 2.3377398\ttest1: 2.3728551\tbest: 2.3728551 (1000)\ttotal: 10.3s\tremaining: 41.2s\n",
      "1500:\tlearn: 2.3743932\ttest: 2.3113533\ttest1: 2.3576062\tbest: 2.3576062 (1498)\ttotal: 15.3s\tremaining: 35.7s\n",
      "2000:\tlearn: 2.3592367\ttest: 2.2762167\ttest1: 2.3395780\tbest: 2.3395780 (1982)\ttotal: 20.2s\tremaining: 30.3s\n",
      "2500:\tlearn: 2.3435180\ttest: 2.2430215\ttest1: 2.3211995\tbest: 2.3211995 (2500)\ttotal: 25.2s\tremaining: 25.2s\n",
      "3000:\tlearn: 2.3278871\ttest: 2.2077985\ttest1: 2.3024435\tbest: 2.3024435 (3000)\ttotal: 30.4s\tremaining: 20.3s\n",
      "3500:\tlearn: 2.3157380\ttest: 2.1814396\ttest1: 2.2874411\tbest: 2.2874411 (3500)\ttotal: 35.7s\tremaining: 15.3s\n",
      "4000:\tlearn: 2.3073865\ttest: 2.1650335\ttest1: 2.2776797\tbest: 2.2776797 (4000)\ttotal: 41.1s\tremaining: 10.3s\n",
      "4500:\tlearn: 2.2991977\ttest: 2.1447888\ttest1: 2.2676117\tbest: 2.2676117 (4500)\ttotal: 47s\tremaining: 5.21s\n",
      "4999:\tlearn: 2.2925457\ttest: 2.1312073\ttest1: 2.2598467\tbest: 2.2598467 (4999)\ttotal: 52.9s\tremaining: 0us\n",
      "\n",
      "bestTest = 2.259846717\n",
      "bestIteration = 4999\n",
      "\n"
     ]
    },
    {
     "name": "stderr",
     "output_type": "stream",
     "text": [
      "[I 2023-12-19 01:32:33,967] Trial 3 finished with value: 2.2598467167334584 and parameters: {'learning_rate': 0.01, 'depth': 9, 'colsample_bylevel': 0.01, 'boosting_type': 'Ordered', 'bootstrap_type': 'Bayesian', 'bagging_temperature': 0.45227288910538066}. Best is trial 0 with value: 2.1308099058599352.\n"
     ]
    },
    {
     "name": "stdout",
     "output_type": "stream",
     "text": [
      "0:\tlearn: 2.3650722\ttest: 2.3180310\ttest1: 2.3380117\tbest: 2.3380117 (0)\ttotal: 348ms\tremaining: 28m 58s\n",
      "Stopped by overfitting detector  (100 iterations wait)\n",
      "\n",
      "bestTest = 2.154259433\n",
      "bestIteration = 265\n",
      "\n",
      "Shrink model to first 266 iterations.\n"
     ]
    },
    {
     "name": "stderr",
     "output_type": "stream",
     "text": [
      "[I 2023-12-19 01:34:07,885] Trial 4 finished with value: 2.154259433066316 and parameters: {'learning_rate': 0.5, 'depth': 6, 'colsample_bylevel': 0.5, 'boosting_type': 'Plain', 'bootstrap_type': 'Bayesian', 'bagging_temperature': 8.154614284548341}. Best is trial 0 with value: 2.1308099058599352.\n",
      "[I 2023-12-19 01:34:10,330] Trial 5 pruned. Trial was pruned at iteration 0.\n"
     ]
    },
    {
     "name": "stdout",
     "output_type": "stream",
     "text": [
      "0:\tlearn: 2.4336144\ttest: 2.4336144\ttest1: 2.4255668\tbest: 2.4255668 (0)\ttotal: 12.3ms\tremaining: 1m 1s\n",
      "\n",
      "bestTest = 2.425566826\n",
      "bestIteration = 0\n",
      "\n",
      "Shrink model to first 1 iterations.\n"
     ]
    },
    {
     "name": "stderr",
     "output_type": "stream",
     "text": [
      "[I 2023-12-19 01:34:12,746] Trial 6 pruned. Trial was pruned at iteration 0.\n"
     ]
    },
    {
     "name": "stdout",
     "output_type": "stream",
     "text": [
      "0:\tlearn: 2.4336144\ttest: 2.4336144\ttest1: 2.4255668\tbest: 2.4255668 (0)\ttotal: 12.4ms\tremaining: 1m 1s\n",
      "\n",
      "bestTest = 2.425566827\n",
      "bestIteration = 0\n",
      "\n",
      "Shrink model to first 1 iterations.\n",
      "0:\tlearn: 2.4333508\ttest: 2.4332493\ttest1: 2.4252602\tbest: 2.4252602 (0)\ttotal: 180ms\tremaining: 14m 59s\n",
      "\n",
      "bestTest = 2.398160983\n",
      "bestIteration = 136\n",
      "\n",
      "Shrink model to first 137 iterations.\n"
     ]
    },
    {
     "name": "stderr",
     "output_type": "stream",
     "text": [
      "[I 2023-12-19 01:34:36,907] Trial 7 pruned. Trial was pruned at iteration 136.\n"
     ]
    },
    {
     "name": "stdout",
     "output_type": "stream",
     "text": [
      "0:\tlearn: 2.4289602\ttest: 2.4200573\ttest1: 2.4202756\tbest: 2.4202756 (0)\ttotal: 98.2ms\tremaining: 8m 11s\n",
      "500:\tlearn: 2.1992227\ttest: 1.7909274\ttest1: 2.1364488\tbest: 2.1364488 (500)\ttotal: 20.9s\tremaining: 3m 7s\n",
      "1000:\tlearn: 2.1948863\ttest: 1.7761186\ttest1: 2.1320688\tbest: 2.1320688 (1000)\ttotal: 42.3s\tremaining: 2m 48s\n",
      "1500:\tlearn: 2.1924663\ttest: 1.7681783\ttest1: 2.1300873\tbest: 2.1300873 (1500)\ttotal: 1m 3s\tremaining: 2m 28s\n",
      "2000:\tlearn: 2.1906903\ttest: 1.7596553\ttest1: 2.1287301\tbest: 2.1287275 (1988)\ttotal: 1m 25s\tremaining: 2m 8s\n",
      "2500:\tlearn: 2.1893496\ttest: 1.7509135\ttest1: 2.1276555\tbest: 2.1276264 (2482)\ttotal: 1m 47s\tremaining: 1m 47s\n",
      "Stopped by overfitting detector  (100 iterations wait)\n",
      "\n",
      "bestTest = 2.127199345\n",
      "bestIteration = 2830\n",
      "\n",
      "Shrink model to first 2831 iterations.\n"
     ]
    },
    {
     "name": "stderr",
     "output_type": "stream",
     "text": [
      "[I 2023-12-19 01:37:04,189] Trial 8 finished with value: 2.1271993454561446 and parameters: {'learning_rate': 0.1, 'depth': 2, 'colsample_bylevel': 0.5, 'boosting_type': 'Plain', 'bootstrap_type': 'Bayesian', 'bagging_temperature': 3.3761517140362796}. Best is trial 8 with value: 2.1271993454561446.\n",
      "[I 2023-12-19 01:37:06,559] Trial 9 pruned. Trial was pruned at iteration 0.\n"
     ]
    },
    {
     "name": "stdout",
     "output_type": "stream",
     "text": [
      "0:\tlearn: 2.4336144\ttest: 2.4336144\ttest1: 2.4255668\tbest: 2.4255668 (0)\ttotal: 13ms\tremaining: 1m 4s\n",
      "\n",
      "bestTest = 2.425566826\n",
      "bestIteration = 0\n",
      "\n",
      "Shrink model to first 1 iterations.\n",
      "0:\tlearn: 2.4310844\ttest: 2.4217904\ttest1: 2.4222345\tbest: 2.4222345 (0)\ttotal: 42.3ms\tremaining: 3m 31s\n",
      "500:\tlearn: 2.2135150\ttest: 1.9880856\ttest1: 2.1559685\tbest: 2.1559685 (500)\ttotal: 5.46s\tremaining: 49s\n",
      "1000:\tlearn: 2.2119959\ttest: 1.9894392\ttest1: 2.1543972\tbest: 2.1543805 (996)\ttotal: 10.6s\tremaining: 42.4s\n",
      "\n",
      "bestTest = 2.154174716\n",
      "bestIteration = 1093\n",
      "\n",
      "Shrink model to first 1094 iterations.\n"
     ]
    },
    {
     "name": "stderr",
     "output_type": "stream",
     "text": [
      "[I 2023-12-19 01:37:23,417] Trial 10 pruned. Trial was pruned at iteration 1097.\n"
     ]
    },
    {
     "name": "stdout",
     "output_type": "stream",
     "text": [
      "0:\tlearn: 2.4333767\ttest: 2.4323831\ttest1: 2.4252311\tbest: 2.4252311 (0)\ttotal: 44.8ms\tremaining: 3m 43s\n",
      "\n",
      "bestTest = 2.424797731\n",
      "bestIteration = 1\n",
      "\n",
      "Shrink model to first 2 iterations.\n"
     ]
    },
    {
     "name": "stderr",
     "output_type": "stream",
     "text": [
      "[I 2023-12-19 01:37:26,074] Trial 11 pruned. Trial was pruned at iteration 2.\n"
     ]
    },
    {
     "name": "stdout",
     "output_type": "stream",
     "text": [
      "0:\tlearn: 2.4331483\ttest: 2.4321490\ttest1: 2.4250169\tbest: 2.4250169 (0)\ttotal: 129ms\tremaining: 10m 43s\n",
      "\n",
      "bestTest = 2.309094331\n",
      "bestIteration = 136\n",
      "\n",
      "Shrink model to first 137 iterations.\n"
     ]
    },
    {
     "name": "stderr",
     "output_type": "stream",
     "text": [
      "[I 2023-12-19 01:37:34,791] Trial 12 pruned. Trial was pruned at iteration 136.\n"
     ]
    },
    {
     "name": "stdout",
     "output_type": "stream",
     "text": [
      "0:\tlearn: 2.4120382\ttest: 2.4093766\ttest1: 2.4048993\tbest: 2.4048993 (0)\ttotal: 538ms\tremaining: 44m 49s\n",
      "Stopped by overfitting detector  (100 iterations wait)\n",
      "\n",
      "bestTest = 2.131742335\n",
      "bestIteration = 366\n",
      "\n",
      "Shrink model to first 367 iterations.\n"
     ]
    },
    {
     "name": "stderr",
     "output_type": "stream",
     "text": [
      "[I 2023-12-19 01:40:27,364] Trial 13 finished with value: 2.131742335431475 and parameters: {'learning_rate': 0.1, 'depth': 13, 'colsample_bylevel': 0.1, 'boosting_type': 'Plain', 'bootstrap_type': 'Bayesian', 'bagging_temperature': 5.1771336775041785}. Best is trial 8 with value: 2.1271993454561446.\n"
     ]
    },
    {
     "name": "stdout",
     "output_type": "stream",
     "text": [
      "0:\tlearn: 2.4315245\ttest: 2.4296365\ttest1: 2.4233126\tbest: 2.4233126 (0)\ttotal: 171ms\tremaining: 14m 14s\n",
      "500:\tlearn: 2.2104942\ttest: 1.8450324\ttest1: 2.1492956\tbest: 2.1492956 (500)\ttotal: 38.5s\tremaining: 5m 45s\n",
      "1000:\tlearn: 2.2026360\ttest: 1.8045571\ttest1: 2.1393452\tbest: 2.1393452 (1000)\ttotal: 1m 23s\tremaining: 5m 35s\n",
      "1500:\tlearn: 2.1998226\ttest: 1.7932561\ttest1: 2.1361394\tbest: 2.1361394 (1500)\ttotal: 2m 11s\tremaining: 5m 5s\n",
      "2000:\tlearn: 2.1980191\ttest: 1.7847006\ttest1: 2.1342479\tbest: 2.1342476 (1998)\ttotal: 2m 59s\tremaining: 4m 28s\n",
      "2500:\tlearn: 2.1965460\ttest: 1.7768852\ttest1: 2.1327750\tbest: 2.1327750 (2500)\ttotal: 3m 47s\tremaining: 3m 47s\n",
      "3000:\tlearn: 2.1954188\ttest: 1.7719833\ttest1: 2.1317814\tbest: 2.1317814 (3000)\ttotal: 4m 35s\tremaining: 3m 3s\n",
      "3500:\tlearn: 2.1944881\ttest: 1.7668419\ttest1: 2.1309832\tbest: 2.1309832 (3500)\ttotal: 5m 24s\tremaining: 2m 18s\n",
      "4000:\tlearn: 2.1935666\ttest: 1.7615807\ttest1: 2.1301675\tbest: 2.1301641 (3994)\ttotal: 6m 13s\tremaining: 1m 33s\n",
      "4500:\tlearn: 2.1927785\ttest: 1.7563486\ttest1: 2.1295479\tbest: 2.1295479 (4500)\ttotal: 7m 3s\tremaining: 47s\n",
      "4999:\tlearn: 2.1920584\ttest: 1.7530751\ttest1: 2.1290630\tbest: 2.1290630 (4999)\ttotal: 7m 53s\tremaining: 0us\n",
      "\n",
      "bestTest = 2.129062975\n",
      "bestIteration = 4999\n",
      "\n"
     ]
    },
    {
     "name": "stderr",
     "output_type": "stream",
     "text": [
      "[I 2023-12-19 01:49:16,364] Trial 14 finished with value: 2.129062975322059 and parameters: {'learning_rate': 0.01, 'depth': 3, 'colsample_bylevel': 0.5, 'boosting_type': 'Plain', 'bootstrap_type': 'Bayesian', 'bagging_temperature': 3.329554465478351}. Best is trial 8 with value: 2.1271993454561446.\n",
      "[I 2023-12-19 01:49:18,895] Trial 15 pruned. Trial was pruned at iteration 0.\n"
     ]
    },
    {
     "name": "stdout",
     "output_type": "stream",
     "text": [
      "0:\tlearn: 2.4328392\ttest: 2.4328392\ttest1: 2.4248571\tbest: 2.4248571 (0)\ttotal: 37.1ms\tremaining: 3m 5s\n",
      "\n",
      "bestTest = 2.424857124\n",
      "bestIteration = 0\n",
      "\n",
      "Shrink model to first 1 iterations.\n"
     ]
    },
    {
     "name": "stderr",
     "output_type": "stream",
     "text": [
      "[I 2023-12-19 01:49:21,945] Trial 16 pruned. Trial was pruned at iteration 0.\n"
     ]
    },
    {
     "name": "stdout",
     "output_type": "stream",
     "text": [
      "0:\tlearn: 2.4332601\ttest: 2.4330367\ttest1: 2.4251637\tbest: 2.4251637 (0)\ttotal: 559ms\tremaining: 46m 32s\n",
      "\n",
      "bestTest = 2.425163693\n",
      "bestIteration = 0\n",
      "\n",
      "Shrink model to first 1 iterations.\n",
      "0:\tlearn: 2.3535647\ttest: 2.2588798\ttest1: 2.3367112\tbest: 2.3367112 (0)\ttotal: 135ms\tremaining: 11m 16s\n",
      "500:\tlearn: 2.1854906\ttest: 1.7399414\ttest1: 2.1277958\tbest: 2.1277216 (436)\ttotal: 44.7s\tremaining: 6m 41s\n",
      "Stopped by overfitting detector  (100 iterations wait)\n",
      "\n",
      "bestTest = 2.125030434\n",
      "bestIteration = 864\n",
      "\n",
      "Shrink model to first 865 iterations.\n"
     ]
    },
    {
     "name": "stderr",
     "output_type": "stream",
     "text": [
      "[I 2023-12-19 01:50:56,026] Trial 17 finished with value: 2.1250304341934405 and parameters: {'learning_rate': 0.5, 'depth': 3, 'colsample_bylevel': 0.5, 'boosting_type': 'Plain', 'bootstrap_type': 'Bayesian', 'bagging_temperature': 3.41516731535004}. Best is trial 17 with value: 2.1250304341934405.\n"
     ]
    },
    {
     "name": "stdout",
     "output_type": "stream",
     "text": [
      "0:\tlearn: 2.3722968\ttest: 2.3259764\ttest1: 2.3482962\tbest: 2.3482962 (0)\ttotal: 91.4ms\tremaining: 7m 37s\n",
      "500:\tlearn: 2.2000133\ttest: 1.9009086\ttest1: 2.1415502\tbest: 2.1415502 (500)\ttotal: 20.8s\tremaining: 3m 6s\n",
      "1000:\tlearn: 2.1914873\ttest: 1.8240592\ttest1: 2.1341518\tbest: 2.1341518 (1000)\ttotal: 41.5s\tremaining: 2m 45s\n",
      "1500:\tlearn: 2.1872993\ttest: 1.7880118\ttest1: 2.1314741\tbest: 2.1312960 (1464)\ttotal: 1m 2s\tremaining: 2m 25s\n",
      "Stopped by overfitting detector  (100 iterations wait)\n",
      "\n",
      "bestTest = 2.131295971\n",
      "bestIteration = 1464\n",
      "\n",
      "Shrink model to first 1465 iterations.\n"
     ]
    },
    {
     "name": "stderr",
     "output_type": "stream",
     "text": [
      "[I 2023-12-19 01:52:09,367] Trial 18 finished with value: 2.1312959708212733 and parameters: {'learning_rate': 0.5, 'depth': 2, 'colsample_bylevel': 0.5, 'boosting_type': 'Plain', 'bootstrap_type': 'Bayesian', 'bagging_temperature': 6.787431379175639}. Best is trial 17 with value: 2.1250304341934405.\n"
     ]
    },
    {
     "name": "stdout",
     "output_type": "stream",
     "text": [
      "0:\tlearn: 2.3077473\ttest: 2.1975288\ttest1: 2.2783331\tbest: 2.2783331 (0)\ttotal: 339ms\tremaining: 28m 13s\n",
      "Stopped by overfitting detector  (100 iterations wait)\n",
      "\n",
      "bestTest = 2.121353667\n",
      "bestIteration = 145\n",
      "\n",
      "Shrink model to first 146 iterations.\n"
     ]
    },
    {
     "name": "stderr",
     "output_type": "stream",
     "text": [
      "[I 2023-12-19 01:53:39,733] Trial 19 finished with value: 2.121353667402962 and parameters: {'learning_rate': 0.5, 'depth': 7, 'colsample_bylevel': 0.5, 'boosting_type': 'Plain', 'bootstrap_type': 'MVS'}. Best is trial 19 with value: 2.121353667402962.\n",
      "[I 2023-12-19 01:53:42,233] Trial 20 pruned. Trial was pruned at iteration 0.\n"
     ]
    },
    {
     "name": "stdout",
     "output_type": "stream",
     "text": [
      "0:\tlearn: 2.4336144\ttest: 2.4336144\ttest1: 2.4255668\tbest: 2.4255668 (0)\ttotal: 13.4ms\tremaining: 1m 6s\n",
      "\n",
      "bestTest = 2.425566827\n",
      "bestIteration = 0\n",
      "\n",
      "Shrink model to first 1 iterations.\n",
      "0:\tlearn: 2.3015984\ttest: 2.1903782\ttest1: 2.2724138\tbest: 2.2724138 (0)\ttotal: 381ms\tremaining: 31m 45s\n",
      "Stopped by overfitting detector  (100 iterations wait)\n",
      "\n",
      "bestTest = 2.121446187\n",
      "bestIteration = 60\n",
      "\n",
      "Shrink model to first 61 iterations.\n"
     ]
    },
    {
     "name": "stderr",
     "output_type": "stream",
     "text": [
      "[I 2023-12-19 01:54:51,778] Trial 21 finished with value: 2.1214461872898878 and parameters: {'learning_rate': 0.5, 'depth': 8, 'colsample_bylevel': 0.5, 'boosting_type': 'Plain', 'bootstrap_type': 'MVS'}. Best is trial 19 with value: 2.121353667402962.\n"
     ]
    },
    {
     "name": "stdout",
     "output_type": "stream",
     "text": [
      "0:\tlearn: 2.3015984\ttest: 2.1903782\ttest1: 2.2724138\tbest: 2.2724138 (0)\ttotal: 370ms\tremaining: 30m 48s\n",
      "Stopped by overfitting detector  (100 iterations wait)\n",
      "\n",
      "bestTest = 2.121446187\n",
      "bestIteration = 60\n",
      "\n",
      "Shrink model to first 61 iterations.\n"
     ]
    },
    {
     "name": "stderr",
     "output_type": "stream",
     "text": [
      "[I 2023-12-19 01:56:01,759] Trial 22 finished with value: 2.1214461872898878 and parameters: {'learning_rate': 0.5, 'depth': 8, 'colsample_bylevel': 0.5, 'boosting_type': 'Plain', 'bootstrap_type': 'MVS'}. Best is trial 19 with value: 2.121353667402962.\n"
     ]
    },
    {
     "name": "stdout",
     "output_type": "stream",
     "text": [
      "0:\tlearn: 2.2967122\ttest: 2.1873882\ttest1: 2.2667795\tbest: 2.2667795 (0)\ttotal: 471ms\tremaining: 39m 14s\n",
      "Stopped by overfitting detector  (100 iterations wait)\n",
      "\n",
      "bestTest = 2.130556337\n",
      "bestIteration = 22\n",
      "\n",
      "Shrink model to first 23 iterations.\n"
     ]
    },
    {
     "name": "stderr",
     "output_type": "stream",
     "text": [
      "[I 2023-12-19 01:57:21,033] Trial 23 finished with value: 2.130556336641639 and parameters: {'learning_rate': 0.5, 'depth': 11, 'colsample_bylevel': 0.5, 'boosting_type': 'Plain', 'bootstrap_type': 'MVS'}. Best is trial 19 with value: 2.121353667402962.\n"
     ]
    },
    {
     "name": "stdout",
     "output_type": "stream",
     "text": [
      "0:\tlearn: 2.3015984\ttest: 2.1903782\ttest1: 2.2724138\tbest: 2.2724138 (0)\ttotal: 361ms\tremaining: 30m 6s\n",
      "Stopped by overfitting detector  (100 iterations wait)\n",
      "\n",
      "bestTest = 2.121446187\n",
      "bestIteration = 60\n",
      "\n",
      "Shrink model to first 61 iterations.\n"
     ]
    },
    {
     "name": "stderr",
     "output_type": "stream",
     "text": [
      "[I 2023-12-19 01:58:30,426] Trial 24 finished with value: 2.1214461872898878 and parameters: {'learning_rate': 0.5, 'depth': 8, 'colsample_bylevel': 0.5, 'boosting_type': 'Plain', 'bootstrap_type': 'MVS'}. Best is trial 19 with value: 2.121353667402962.\n"
     ]
    },
    {
     "name": "stdout",
     "output_type": "stream",
     "text": [
      "0:\tlearn: 2.2971102\ttest: 2.1874972\ttest1: 2.2672275\tbest: 2.2672275 (0)\ttotal: 483ms\tremaining: 40m 15s\n",
      "Stopped by overfitting detector  (100 iterations wait)\n",
      "\n",
      "bestTest = 2.127192411\n",
      "bestIteration = 36\n",
      "\n",
      "Shrink model to first 37 iterations.\n"
     ]
    },
    {
     "name": "stderr",
     "output_type": "stream",
     "text": [
      "[I 2023-12-19 01:59:50,378] Trial 25 finished with value: 2.127192411268527 and parameters: {'learning_rate': 0.5, 'depth': 10, 'colsample_bylevel': 0.5, 'boosting_type': 'Plain', 'bootstrap_type': 'MVS'}. Best is trial 19 with value: 2.121353667402962.\n"
     ]
    },
    {
     "name": "stdout",
     "output_type": "stream",
     "text": [
      "0:\tlearn: 2.3077473\ttest: 2.1975288\ttest1: 2.2783331\tbest: 2.2783331 (0)\ttotal: 357ms\tremaining: 29m 45s\n",
      "Stopped by overfitting detector  (100 iterations wait)\n",
      "\n",
      "bestTest = 2.121353667\n",
      "bestIteration = 145\n",
      "\n",
      "Shrink model to first 146 iterations.\n"
     ]
    },
    {
     "name": "stderr",
     "output_type": "stream",
     "text": [
      "[I 2023-12-19 02:01:20,878] Trial 26 finished with value: 2.121353667402962 and parameters: {'learning_rate': 0.5, 'depth': 7, 'colsample_bylevel': 0.5, 'boosting_type': 'Plain', 'bootstrap_type': 'MVS'}. Best is trial 19 with value: 2.121353667402962.\n"
     ]
    },
    {
     "name": "stdout",
     "output_type": "stream",
     "text": [
      "0:\tlearn: 2.3077473\ttest: 2.1975288\ttest1: 2.2783331\tbest: 2.2783331 (0)\ttotal: 352ms\tremaining: 29m 22s\n",
      "Stopped by overfitting detector  (100 iterations wait)\n",
      "\n",
      "bestTest = 2.121353667\n",
      "bestIteration = 145\n",
      "\n",
      "Shrink model to first 146 iterations.\n"
     ]
    },
    {
     "name": "stderr",
     "output_type": "stream",
     "text": [
      "[I 2023-12-19 02:02:51,228] Trial 27 finished with value: 2.121353667402962 and parameters: {'learning_rate': 0.5, 'depth': 7, 'colsample_bylevel': 0.5, 'boosting_type': 'Plain', 'bootstrap_type': 'MVS'}. Best is trial 19 with value: 2.121353667402962.\n",
      "[I 2023-12-19 02:02:53,649] Trial 28 pruned. Trial was pruned at iteration 0.\n"
     ]
    },
    {
     "name": "stdout",
     "output_type": "stream",
     "text": [
      "0:\tlearn: 2.4336144\ttest: 2.4336144\ttest1: 2.4255668\tbest: 2.4255668 (0)\ttotal: 11.2ms\tremaining: 56.2s\n",
      "\n",
      "bestTest = 2.425566827\n",
      "bestIteration = 0\n",
      "\n",
      "Shrink model to first 1 iterations.\n"
     ]
    },
    {
     "name": "stderr",
     "output_type": "stream",
     "text": [
      "[I 2023-12-19 02:02:56,338] Trial 29 pruned. Trial was pruned at iteration 0.\n"
     ]
    },
    {
     "name": "stdout",
     "output_type": "stream",
     "text": [
      "0:\tlearn: 2.3987006\ttest: 2.3477784\ttest1: 2.3868366\tbest: 2.3868366 (0)\ttotal: 160ms\tremaining: 13m 21s\n",
      "\n",
      "bestTest = 2.386836571\n",
      "bestIteration = 0\n",
      "\n",
      "Shrink model to first 1 iterations.\n",
      "0:\tlearn: 2.3077473\ttest: 2.1975288\ttest1: 2.2783331\tbest: 2.2783331 (0)\ttotal: 372ms\tremaining: 30m 58s\n",
      "Stopped by overfitting detector  (100 iterations wait)\n",
      "\n",
      "bestTest = 2.121353667\n",
      "bestIteration = 145\n",
      "\n",
      "Shrink model to first 146 iterations.\n"
     ]
    },
    {
     "name": "stderr",
     "output_type": "stream",
     "text": [
      "[I 2023-12-19 02:04:26,941] Trial 30 finished with value: 2.121353667402962 and parameters: {'learning_rate': 0.5, 'depth': 7, 'colsample_bylevel': 0.5, 'boosting_type': 'Plain', 'bootstrap_type': 'MVS'}. Best is trial 19 with value: 2.121353667402962.\n"
     ]
    },
    {
     "name": "stdout",
     "output_type": "stream",
     "text": [
      "0:\tlearn: 2.3077473\ttest: 2.1975288\ttest1: 2.2783331\tbest: 2.2783331 (0)\ttotal: 338ms\tremaining: 28m 9s\n",
      "Stopped by overfitting detector  (100 iterations wait)\n",
      "\n",
      "bestTest = 2.121353667\n",
      "bestIteration = 145\n",
      "\n",
      "Shrink model to first 146 iterations.\n"
     ]
    },
    {
     "name": "stderr",
     "output_type": "stream",
     "text": [
      "[I 2023-12-19 02:05:57,543] Trial 31 finished with value: 2.121353667402962 and parameters: {'learning_rate': 0.5, 'depth': 7, 'colsample_bylevel': 0.5, 'boosting_type': 'Plain', 'bootstrap_type': 'MVS'}. Best is trial 19 with value: 2.121353667402962.\n"
     ]
    },
    {
     "name": "stdout",
     "output_type": "stream",
     "text": [
      "0:\tlearn: 2.3167981\ttest: 2.2093695\ttest1: 2.2891231\tbest: 2.2891231 (0)\ttotal: 229ms\tremaining: 19m 7s\n",
      "\n",
      "bestTest = 2.231651109\n",
      "bestIteration = 1\n",
      "\n",
      "Shrink model to first 2 iterations.\n"
     ]
    },
    {
     "name": "stderr",
     "output_type": "stream",
     "text": [
      "[I 2023-12-19 02:06:00,536] Trial 32 pruned. Trial was pruned at iteration 1.\n"
     ]
    },
    {
     "name": "stdout",
     "output_type": "stream",
     "text": [
      "0:\tlearn: 2.3077473\ttest: 2.1975288\ttest1: 2.2783331\tbest: 2.2783331 (0)\ttotal: 329ms\tremaining: 27m 24s\n",
      "Stopped by overfitting detector  (100 iterations wait)\n",
      "\n",
      "bestTest = 2.121353667\n",
      "bestIteration = 145\n",
      "\n",
      "Shrink model to first 146 iterations.\n"
     ]
    },
    {
     "name": "stderr",
     "output_type": "stream",
     "text": [
      "[I 2023-12-19 02:07:30,681] Trial 33 finished with value: 2.121353667402962 and parameters: {'learning_rate': 0.5, 'depth': 7, 'colsample_bylevel': 0.5, 'boosting_type': 'Plain', 'bootstrap_type': 'MVS'}. Best is trial 19 with value: 2.121353667402962.\n",
      "[I 2023-12-19 02:07:33,190] Trial 34 pruned. Trial was pruned at iteration 0.\n"
     ]
    },
    {
     "name": "stdout",
     "output_type": "stream",
     "text": [
      "0:\tlearn: 2.4336144\ttest: 2.4336144\ttest1: 2.4255668\tbest: 2.4255668 (0)\ttotal: 13.2ms\tremaining: 1m 6s\n",
      "\n",
      "bestTest = 2.425566827\n",
      "bestIteration = 0\n",
      "\n",
      "Shrink model to first 1 iterations.\n"
     ]
    },
    {
     "name": "stderr",
     "output_type": "stream",
     "text": [
      "[I 2023-12-19 02:07:36,046] Trial 35 pruned. Trial was pruned at iteration 0.\n"
     ]
    },
    {
     "name": "stdout",
     "output_type": "stream",
     "text": [
      "0:\tlearn: 2.3077880\ttest: 2.1975394\ttest1: 2.2783753\tbest: 2.2783753 (0)\ttotal: 319ms\tremaining: 26m 35s\n",
      "\n",
      "bestTest = 2.278375284\n",
      "bestIteration = 0\n",
      "\n",
      "Shrink model to first 1 iterations.\n",
      "0:\tlearn: 2.4332609\ttest: 2.4330369\ttest1: 2.4251646\tbest: 2.4251646 (0)\ttotal: 526ms\tremaining: 43m 50s\n",
      "\n",
      "bestTest = 2.42516465\n",
      "bestIteration = 0\n",
      "\n",
      "Shrink model to first 1 iterations.\n"
     ]
    },
    {
     "name": "stderr",
     "output_type": "stream",
     "text": [
      "[I 2023-12-19 02:07:39,119] Trial 36 pruned. Trial was pruned at iteration 0.\n",
      "[I 2023-12-19 02:07:41,714] Trial 37 pruned. Trial was pruned at iteration 0.\n"
     ]
    },
    {
     "name": "stdout",
     "output_type": "stream",
     "text": [
      "0:\tlearn: 2.4336144\ttest: 2.4336144\ttest1: 2.4255668\tbest: 2.4255668 (0)\ttotal: 10.8ms\tremaining: 54.1s\n",
      "\n",
      "bestTest = 2.425566827\n",
      "bestIteration = 0\n",
      "\n",
      "Shrink model to first 1 iterations.\n"
     ]
    },
    {
     "name": "stderr",
     "output_type": "stream",
     "text": [
      "[I 2023-12-19 02:07:44,265] Trial 38 pruned. Trial was pruned at iteration 0.\n"
     ]
    },
    {
     "name": "stdout",
     "output_type": "stream",
     "text": [
      "0:\tlearn: 2.4336144\ttest: 2.4336144\ttest1: 2.4255668\tbest: 2.4255668 (0)\ttotal: 13.4ms\tremaining: 1m 7s\n",
      "\n",
      "bestTest = 2.425566827\n",
      "bestIteration = 0\n",
      "\n",
      "Shrink model to first 1 iterations.\n"
     ]
    },
    {
     "name": "stderr",
     "output_type": "stream",
     "text": [
      "[I 2023-12-19 02:07:47,073] Trial 39 pruned. Trial was pruned at iteration 0.\n"
     ]
    },
    {
     "name": "stdout",
     "output_type": "stream",
     "text": [
      "0:\tlearn: 2.3167981\ttest: 2.2093695\ttest1: 2.2891231\tbest: 2.2891231 (0)\ttotal: 263ms\tremaining: 21m 56s\n",
      "\n",
      "bestTest = 2.289123051\n",
      "bestIteration = 0\n",
      "\n",
      "Shrink model to first 1 iterations.\n",
      "0:\tlearn: 2.4301794\ttest: 2.4285367\ttest1: 2.4216489\tbest: 2.4216489 (0)\ttotal: 847ms\tremaining: 1h 10m 36s\n",
      "\n",
      "bestTest = 2.421648864\n",
      "bestIteration = 0\n",
      "\n",
      "Shrink model to first 1 iterations.\n"
     ]
    },
    {
     "name": "stderr",
     "output_type": "stream",
     "text": [
      "[I 2023-12-19 02:07:50,486] Trial 40 pruned. Trial was pruned at iteration 0.\n"
     ]
    },
    {
     "name": "stdout",
     "output_type": "stream",
     "text": [
      "0:\tlearn: 2.3077473\ttest: 2.1975288\ttest1: 2.2783331\tbest: 2.2783331 (0)\ttotal: 341ms\tremaining: 28m 24s\n",
      "Stopped by overfitting detector  (100 iterations wait)\n",
      "\n",
      "bestTest = 2.121353667\n",
      "bestIteration = 145\n",
      "\n",
      "Shrink model to first 146 iterations.\n"
     ]
    },
    {
     "name": "stderr",
     "output_type": "stream",
     "text": [
      "[I 2023-12-19 02:09:20,488] Trial 41 finished with value: 2.121353667402962 and parameters: {'learning_rate': 0.5, 'depth': 7, 'colsample_bylevel': 0.5, 'boosting_type': 'Plain', 'bootstrap_type': 'MVS'}. Best is trial 19 with value: 2.121353667402962.\n"
     ]
    },
    {
     "name": "stdout",
     "output_type": "stream",
     "text": [
      "0:\tlearn: 2.3077880\ttest: 2.1975394\ttest1: 2.2783753\tbest: 2.2783753 (0)\ttotal: 306ms\tremaining: 25m 28s\n",
      "\n",
      "bestTest = 2.278375284\n",
      "bestIteration = 0\n",
      "\n",
      "Shrink model to first 1 iterations.\n"
     ]
    },
    {
     "name": "stderr",
     "output_type": "stream",
     "text": [
      "[I 2023-12-19 02:09:23,312] Trial 42 pruned. Trial was pruned at iteration 0.\n"
     ]
    },
    {
     "name": "stdout",
     "output_type": "stream",
     "text": [
      "0:\tlearn: 2.3001193\ttest: 2.1893014\ttest1: 2.2711033\tbest: 2.2711033 (0)\ttotal: 402ms\tremaining: 33m 30s\n",
      "\n",
      "bestTest = 2.125684948\n",
      "bestIteration = 56\n",
      "\n",
      "Shrink model to first 57 iterations.\n"
     ]
    },
    {
     "name": "stderr",
     "output_type": "stream",
     "text": [
      "[I 2023-12-19 02:10:34,036] Trial 43 pruned. Trial was pruned at iteration 137.\n",
      "[I 2023-12-19 02:10:36,875] Trial 44 pruned. Trial was pruned at iteration 0.\n"
     ]
    },
    {
     "name": "stdout",
     "output_type": "stream",
     "text": [
      "0:\tlearn: 2.4332876\ttest: 2.4330613\ttest1: 2.4251919\tbest: 2.4251919 (0)\ttotal: 320ms\tremaining: 26m 40s\n",
      "\n",
      "bestTest = 2.425191919\n",
      "bestIteration = 0\n",
      "\n",
      "Shrink model to first 1 iterations.\n"
     ]
    },
    {
     "name": "stderr",
     "output_type": "stream",
     "text": [
      "[I 2023-12-19 02:10:39,454] Trial 45 pruned. Trial was pruned at iteration 0.\n"
     ]
    },
    {
     "name": "stdout",
     "output_type": "stream",
     "text": [
      "0:\tlearn: 2.4336144\ttest: 2.4336144\ttest1: 2.4255668\tbest: 2.4255668 (0)\ttotal: 19.5ms\tremaining: 1m 37s\n",
      "\n",
      "bestTest = 2.425566827\n",
      "bestIteration = 0\n",
      "\n",
      "Shrink model to first 1 iterations.\n",
      "0:\tlearn: 2.3064009\ttest: 2.2182041\ttest1: 2.2723294\tbest: 2.2723294 (0)\ttotal: 270ms\tremaining: 22m 27s\n"
     ]
    },
    {
     "name": "stderr",
     "output_type": "stream",
     "text": [
      "[I 2023-12-19 02:10:42,504] Trial 46 pruned. Trial was pruned at iteration 1.\n"
     ]
    },
    {
     "name": "stdout",
     "output_type": "stream",
     "text": [
      "\n",
      "bestTest = 2.216920269\n",
      "bestIteration = 1\n",
      "\n",
      "Shrink model to first 2 iterations.\n"
     ]
    },
    {
     "name": "stderr",
     "output_type": "stream",
     "text": [
      "[I 2023-12-19 02:10:45,522] Trial 47 pruned. Trial was pruned at iteration 0.\n"
     ]
    },
    {
     "name": "stdout",
     "output_type": "stream",
     "text": [
      "0:\tlearn: 2.4068842\ttest: 2.3869747\ttest1: 2.3960974\tbest: 2.3960974 (0)\ttotal: 483ms\tremaining: 40m 15s\n",
      "\n",
      "bestTest = 2.396097418\n",
      "bestIteration = 0\n",
      "\n",
      "Shrink model to first 1 iterations.\n"
     ]
    },
    {
     "name": "stderr",
     "output_type": "stream",
     "text": [
      "[I 2023-12-19 02:10:48,045] Trial 48 pruned. Trial was pruned at iteration 0.\n"
     ]
    },
    {
     "name": "stdout",
     "output_type": "stream",
     "text": [
      "0:\tlearn: 2.4336144\ttest: 2.4336144\ttest1: 2.4255668\tbest: 2.4255668 (0)\ttotal: 16.8ms\tremaining: 1m 24s\n",
      "\n",
      "bestTest = 2.425566826\n",
      "bestIteration = 0\n",
      "\n",
      "Shrink model to first 1 iterations.\n",
      "0:\tlearn: 2.3015984\ttest: 2.1903782\ttest1: 2.2724138\tbest: 2.2724138 (0)\ttotal: 588ms\tremaining: 49m\n",
      "\n",
      "bestTest = 2.14034596\n",
      "bestIteration = 8\n",
      "\n",
      "Shrink model to first 9 iterations.\n"
     ]
    },
    {
     "name": "stderr",
     "output_type": "stream",
     "text": [
      "[I 2023-12-19 02:10:54,406] Trial 49 pruned. Trial was pruned at iteration 9.\n"
     ]
    },
    {
     "name": "stdout",
     "output_type": "stream",
     "text": [
      "Best trial : score 2.121353667402962, \n",
      " params = {'learning_rate': 0.5, 'depth': 7, 'colsample_bylevel': 0.5, 'boosting_type': 'Plain', 'bootstrap_type': 'MVS'} \n",
      "\n"
     ]
    }
   ],
   "source": [
    "'''\n",
    "# Study Optuna\n",
    "study = optuna.create_study(direction = 'minimize', sampler = TPESampler(seed = SEED))\n",
    "study.optimize(lambda trial : objectiveCAT(trial, X_train, y_train, X_valid, y_valid), n_trials = 50)\n",
    "print(f'Best trial : score {study.best_trial.value}, \\n params = {study.best_trial.params} \\n') \n",
    "'''"
   ]
  },
  {
   "cell_type": "code",
   "execution_count": 118,
   "metadata": {},
   "outputs": [
    {
     "name": "stdout",
     "output_type": "stream",
     "text": [
      "<class 'pandas.core.frame.DataFrame'>\n",
      "RangeIndex: 76699 entries, 0 to 76698\n",
      "Data columns (total 15 columns):\n",
      " #   Column         Non-Null Count  Dtype\n",
      "---  ------         --------------  -----\n",
      " 0   user_id        76699 non-null  int64\n",
      " 1   city           76699 non-null  int64\n",
      " 2   state          76699 non-null  int64\n",
      " 3   country        76699 non-null  int64\n",
      " 4   new_age        76699 non-null  int64\n",
      " 5   isbn           76699 non-null  int64\n",
      " 6   book_title     76699 non-null  int64\n",
      " 7   book_author    76699 non-null  int64\n",
      " 8   language       76699 non-null  int64\n",
      " 9   years          76699 non-null  int64\n",
      " 10  new_publisher  76699 non-null  int64\n",
      " 11  category_high  76699 non-null  int64\n",
      " 12  isbn_country   76699 non-null  int64\n",
      " 13  rating         76699 non-null  int64\n",
      " 14  review_counts  76699 non-null  int64\n",
      "dtypes: int64(15)\n",
      "memory usage: 8.8 MB\n"
     ]
    }
   ],
   "source": [
    "test_GB.info()"
   ]
  },
  {
   "cell_type": "code",
   "execution_count": 119,
   "metadata": {},
   "outputs": [
    {
     "name": "stderr",
     "output_type": "stream",
     "text": [
      "  0%|          | 0/10 [00:00<?, ?it/s]"
     ]
    },
    {
     "name": "stdout",
     "output_type": "stream",
     "text": [
      "0:\tlearn: 2.4018339\ttest: 2.3861068\ttest1: 2.3973673\tbest: 2.3973673 (0)\ttotal: 611ms\tremaining: 50m 54s\n"
     ]
    },
    {
     "name": "stdout",
     "output_type": "stream",
     "text": [
      "Stopped by overfitting detector  (100 iterations wait)\n",
      "\n",
      "bestTest = 2.125411388\n",
      "bestIteration = 355\n",
      "\n",
      "Shrink model to first 356 iterations.\n",
      "Valid Set 1 번째 Fold RMSE : 2.12541\n"
     ]
    },
    {
     "name": "stderr",
     "output_type": "stream",
     "text": [
      " 10%|█         | 1/10 [05:01<45:12, 301.38s/it]"
     ]
    },
    {
     "name": "stdout",
     "output_type": "stream",
     "text": [
      "0:\tlearn: 2.4022668\ttest: 2.3869523\ttest1: 2.3960262\tbest: 2.3960262 (0)\ttotal: 472ms\tremaining: 39m 21s\n",
      "500:\tlearn: 2.0208739\ttest: 1.6808437\ttest1: 2.1213286\tbest: 2.1211437 (412)\ttotal: 5m 31s\tremaining: 49m 32s\n",
      "Stopped by overfitting detector  (100 iterations wait)\n",
      "\n",
      "bestTest = 2.120979787\n",
      "bestIteration = 526\n",
      "\n",
      "Shrink model to first 527 iterations.\n",
      "Valid Set 2 번째 Fold RMSE : 2.12098\n"
     ]
    },
    {
     "name": "stderr",
     "output_type": "stream",
     "text": [
      " 20%|██        | 2/10 [12:01<49:29, 371.23s/it]"
     ]
    },
    {
     "name": "stdout",
     "output_type": "stream",
     "text": [
      "0:\tlearn: 2.4013956\ttest: 2.3865267\ttest1: 2.3962129\tbest: 2.3962129 (0)\ttotal: 485ms\tremaining: 40m 26s\n",
      "500:\tlearn: 2.0276372\ttest: 1.6792080\ttest1: 2.1232312\tbest: 2.1230018 (483)\ttotal: 5m 29s\tremaining: 49m 21s\n",
      "Stopped by overfitting detector  (100 iterations wait)\n",
      "\n",
      "bestTest = 2.122936377\n",
      "bestIteration = 574\n",
      "\n",
      "Shrink model to first 575 iterations.\n",
      "Valid Set 3 번째 Fold RMSE : 2.12294\n"
     ]
    },
    {
     "name": "stderr",
     "output_type": "stream",
     "text": [
      " 30%|███       | 3/10 [19:33<47:36, 408.14s/it]"
     ]
    },
    {
     "name": "stdout",
     "output_type": "stream",
     "text": [
      "0:\tlearn: 2.4022039\ttest: 2.3858918\ttest1: 2.3965489\tbest: 2.3965489 (0)\ttotal: 565ms\tremaining: 47m 5s\n",
      "500:\tlearn: 2.0241077\ttest: 1.6678404\ttest1: 2.1283164\tbest: 2.1279498 (430)\ttotal: 5m 33s\tremaining: 49m 50s\n",
      "Stopped by overfitting detector  (100 iterations wait)\n",
      "\n",
      "bestTest = 2.12794978\n",
      "bestIteration = 430\n",
      "\n",
      "Shrink model to first 431 iterations.\n",
      "Valid Set 4 번째 Fold RMSE : 2.12795\n"
     ]
    },
    {
     "name": "stderr",
     "output_type": "stream",
     "text": [
      " 40%|████      | 4/10 [25:31<38:49, 388.33s/it]"
     ]
    },
    {
     "name": "stdout",
     "output_type": "stream",
     "text": [
      "0:\tlearn: 2.4021273\ttest: 2.3878241\ttest1: 2.3983347\tbest: 2.3983347 (0)\ttotal: 532ms\tremaining: 44m 18s\n",
      "500:\tlearn: 2.0196247\ttest: 1.6693767\ttest1: 2.1309515\tbest: 2.1304661 (432)\ttotal: 5m 31s\tremaining: 49m 35s\n",
      "Stopped by overfitting detector  (100 iterations wait)\n",
      "\n",
      "bestTest = 2.130256425\n",
      "bestIteration = 550\n",
      "\n",
      "Shrink model to first 551 iterations.\n",
      "Valid Set 5 번째 Fold RMSE : 2.13026\n"
     ]
    },
    {
     "name": "stderr",
     "output_type": "stream",
     "text": [
      " 50%|█████     | 5/10 [32:50<33:52, 406.55s/it]"
     ]
    },
    {
     "name": "stdout",
     "output_type": "stream",
     "text": [
      "0:\tlearn: 2.4005442\ttest: 2.3823726\ttest1: 2.3947720\tbest: 2.3947720 (0)\ttotal: 489ms\tremaining: 40m 45s\n",
      "500:\tlearn: 2.0284398\ttest: 1.6746769\ttest1: 2.1307230\tbest: 2.1306859 (497)\ttotal: 5m 30s\tremaining: 49m 26s\n",
      "Stopped by overfitting detector  (100 iterations wait)\n",
      "\n",
      "bestTest = 2.130394978\n",
      "bestIteration = 516\n",
      "\n",
      "Shrink model to first 517 iterations.\n",
      "Valid Set 6 번째 Fold RMSE : 2.13039\n"
     ]
    },
    {
     "name": "stderr",
     "output_type": "stream",
     "text": [
      " 60%|██████    | 6/10 [39:45<27:17, 409.33s/it]"
     ]
    },
    {
     "name": "stdout",
     "output_type": "stream",
     "text": [
      "0:\tlearn: 2.4013014\ttest: 2.3829263\ttest1: 2.3951905\tbest: 2.3951905 (0)\ttotal: 386ms\tremaining: 32m 7s\n",
      "Stopped by overfitting detector  (100 iterations wait)\n",
      "\n",
      "bestTest = 2.127178558\n",
      "bestIteration = 341\n",
      "\n",
      "Shrink model to first 342 iterations.\n",
      "Valid Set 7 번째 Fold RMSE : 2.12718\n"
     ]
    },
    {
     "name": "stderr",
     "output_type": "stream",
     "text": [
      " 70%|███████   | 7/10 [44:35<18:31, 370.53s/it]"
     ]
    },
    {
     "name": "stdout",
     "output_type": "stream",
     "text": [
      "0:\tlearn: 2.4013481\ttest: 2.3831215\ttest1: 2.3961092\tbest: 2.3961092 (0)\ttotal: 549ms\tremaining: 45m 43s\n",
      "Stopped by overfitting detector  (100 iterations wait)\n",
      "\n",
      "bestTest = 2.135201264\n",
      "bestIteration = 350\n",
      "\n",
      "Shrink model to first 351 iterations.\n",
      "Valid Set 8 번째 Fold RMSE : 2.13520\n"
     ]
    },
    {
     "name": "stderr",
     "output_type": "stream",
     "text": [
      " 80%|████████  | 8/10 [49:39<11:38, 349.34s/it]"
     ]
    },
    {
     "name": "stdout",
     "output_type": "stream",
     "text": [
      "0:\tlearn: 2.4009507\ttest: 2.3831549\ttest1: 2.3952153\tbest: 2.3952153 (0)\ttotal: 495ms\tremaining: 41m 13s\n",
      "500:\tlearn: 2.0227748\ttest: 1.6726462\ttest1: 2.1274131\tbest: 2.1271256 (440)\ttotal: 5m 29s\tremaining: 49m 16s\n",
      "Stopped by overfitting detector  (100 iterations wait)\n",
      "\n",
      "bestTest = 2.127125632\n",
      "bestIteration = 440\n",
      "\n",
      "Shrink model to first 441 iterations.\n",
      "Valid Set 9 번째 Fold RMSE : 2.12713\n"
     ]
    },
    {
     "name": "stderr",
     "output_type": "stream",
     "text": [
      " 90%|█████████ | 9/10 [55:39<05:52, 352.73s/it]"
     ]
    },
    {
     "name": "stdout",
     "output_type": "stream",
     "text": [
      "0:\tlearn: 2.4007995\ttest: 2.3832501\ttest1: 2.3948019\tbest: 2.3948019 (0)\ttotal: 468ms\tremaining: 39m 1s\n",
      "500:\tlearn: 2.0159295\ttest: 1.6776924\ttest1: 2.1293925\tbest: 2.1287970 (472)\ttotal: 5m 30s\tremaining: 49m 27s\n",
      "Stopped by overfitting detector  (100 iterations wait)\n",
      "\n",
      "bestTest = 2.12879697\n",
      "bestIteration = 472\n",
      "\n",
      "Shrink model to first 473 iterations.\n",
      "Valid Set 10 번째 Fold RMSE : 2.12880\n"
     ]
    },
    {
     "name": "stderr",
     "output_type": "stream",
     "text": [
      "100%|██████████| 10/10 [1:02:01<00:00, 372.13s/it]"
     ]
    },
    {
     "name": "stdout",
     "output_type": "stream",
     "text": [
      "CatBoost RMSE 평균 : 2.12762 \n",
      "\n"
     ]
    },
    {
     "name": "stderr",
     "output_type": "stream",
     "text": [
      "\n"
     ]
    }
   ],
   "source": [
    "X_data, y_data = train_GB.drop(columns = 'rating'), train_df['rating']\n",
    "\n",
    "skf = StratifiedKFold(n_splits = 10, shuffle = True, random_state = SEED)\n",
    "valid_rmse = []\n",
    "pred_df = pd.DataFrame()\n",
    "\n",
    "# Stratified K-Fold 사용하여 Best Parameter 학습\n",
    "for fold, (train_idx, valid_idx) in tqdm.tqdm(enumerate(skf.split(X_data, y_data)), total = skf.n_splits) : \n",
    "    \n",
    "    # Train Set과 Valid Set 분할    \n",
    "    X_train, y_train = X_data.iloc[train_idx], y_data.iloc[train_idx]\n",
    "    X_valid, y_valid = X_data.iloc[valid_idx], y_data.iloc[valid_idx]\n",
    "    \n",
    "    # Best Parameter 학습\n",
    "    # {'learning_rate': 0.1, 'depth': 11, 'colsample_bylevel': 0.5, 'boosting_type': 'Plain', 'bootstrap_type': 'MVS'} \n",
    "    # param = study.best_params\n",
    "    param = {'learning_rate': 0.1, 'depth': 11, 'colsample_bylevel': 0.5, 'boosting_type': 'Plain', 'bootstrap_type': 'MVS'} # 2.152나온 모델\n",
    "    #param = {'learning_rate': 0.5, 'depth': 7, 'colsample_bylevel': 0.5, 'boosting_type': 'Plain', 'bootstrap_type': 'MVS'} # 2.189나온 모델    \n",
    "    cat_reg = CatBoostRegressor(**param, iterations = 5000, \n",
    "                                loss_function = 'RMSE', eval_metric = 'RMSE', \n",
    "                                use_best_model = True, random_state = SEED,\n",
    "                                cat_features = [i for i in range(0, 13)])\n",
    "    cat_reg.fit(X_train, y_train, eval_set = [(X_train, y_train), (X_valid, y_valid)],\n",
    "                verbose = 500, early_stopping_rounds = 100)\n",
    "    \n",
    "    # 모델 RMSE 출력\n",
    "    score = mean_squared_error(y_valid, cat_reg.predict(X_valid), squared = False)\n",
    "    valid_rmse.append(score)\n",
    "    print(f'Valid Set {fold + 1} 번째 Fold RMSE : {score:.5f}')\n",
    "    \n",
    "    # Predict\n",
    "    pred = cat_reg.predict(test_GB.drop(['rating'], axis = 1))\n",
    "    pred_df[f'pred_{fold}'] = pred\n",
    "    \n",
    "print(f'CatBoost RMSE 평균 : {np.array(valid_rmse).mean():.5f} \\n')"
   ]
  },
  {
   "cell_type": "code",
   "execution_count": 120,
   "metadata": {},
   "outputs": [
    {
     "data": {
      "image/png": "[encoded data removed]",
      "text/plain": [
       "<Figure size 1200x600 with 1 Axes>"
      ]
     },
     "metadata": {},
     "output_type": "display_data"
    }
   ],
   "source": [
    "feature_importance = cat_reg.feature_importances_\n",
    "sorted_idx = np.argsort(feature_importance)\n",
    "fig = plt.figure(figsize = (12, 6))\n",
    "plt.barh(range(len(sorted_idx)), feature_importance[sorted_idx], align = 'center')\n",
    "plt.yticks(range(len(sorted_idx)), np.array(X_data.columns)[sorted_idx])\n",
    "plt.title('Feature Importance')\n",
    "plt.show()"
   ]
  },
  {
   "cell_type": "code",
   "execution_count": 121,
   "metadata": {},
   "outputs": [
    {
     "data": {
      "text/html": [
       "<div>\n",
       "<style scoped>\n",
       "    .dataframe tbody tr th:only-of-type {\n",
       "        vertical-align: middle;\n",
       "    }\n",
       "\n",
       "    .dataframe tbody tr th {\n",
       "        vertical-align: top;\n",
       "    }\n",
       "\n",
       "    .dataframe thead th {\n",
       "        text-align: right;\n",
       "    }\n",
       "</style>\n",
       "<table border=\"1\" class=\"dataframe\">\n",
       "  <thead>\n",
       "    <tr style=\"text-align: right;\">\n",
       "      <th></th>\n",
       "      <th>user_id</th>\n",
       "      <th>isbn</th>\n",
       "      <th>rating</th>\n",
       "    </tr>\n",
       "  </thead>\n",
       "  <tbody>\n",
       "    <tr>\n",
       "      <th>0</th>\n",
       "      <td>11676</td>\n",
       "      <td>0002005018</td>\n",
       "      <td>7.186019</td>\n",
       "    </tr>\n",
       "    <tr>\n",
       "      <th>1</th>\n",
       "      <td>116866</td>\n",
       "      <td>0002005018</td>\n",
       "      <td>7.323220</td>\n",
       "    </tr>\n",
       "    <tr>\n",
       "      <th>2</th>\n",
       "      <td>152827</td>\n",
       "      <td>0060973129</td>\n",
       "      <td>7.492669</td>\n",
       "    </tr>\n",
       "    <tr>\n",
       "      <th>3</th>\n",
       "      <td>157969</td>\n",
       "      <td>0374157065</td>\n",
       "      <td>7.708619</td>\n",
       "    </tr>\n",
       "    <tr>\n",
       "      <th>4</th>\n",
       "      <td>67958</td>\n",
       "      <td>0399135782</td>\n",
       "      <td>7.885596</td>\n",
       "    </tr>\n",
       "    <tr>\n",
       "      <th>...</th>\n",
       "      <td>...</td>\n",
       "      <td>...</td>\n",
       "      <td>...</td>\n",
       "    </tr>\n",
       "    <tr>\n",
       "      <th>76694</th>\n",
       "      <td>278543</td>\n",
       "      <td>1576734218</td>\n",
       "      <td>6.031556</td>\n",
       "    </tr>\n",
       "    <tr>\n",
       "      <th>76695</th>\n",
       "      <td>278563</td>\n",
       "      <td>3492223710</td>\n",
       "      <td>6.153912</td>\n",
       "    </tr>\n",
       "    <tr>\n",
       "      <th>76696</th>\n",
       "      <td>278633</td>\n",
       "      <td>1896095186</td>\n",
       "      <td>6.373546</td>\n",
       "    </tr>\n",
       "    <tr>\n",
       "      <th>76697</th>\n",
       "      <td>278668</td>\n",
       "      <td>8408044079</td>\n",
       "      <td>5.262761</td>\n",
       "    </tr>\n",
       "    <tr>\n",
       "      <th>76698</th>\n",
       "      <td>278851</td>\n",
       "      <td>0767907566</td>\n",
       "      <td>5.787611</td>\n",
       "    </tr>\n",
       "  </tbody>\n",
       "</table>\n",
       "<p>76699 rows × 3 columns</p>\n",
       "</div>"
      ],
      "text/plain": [
       "       user_id        isbn    rating\n",
       "0        11676  0002005018  7.186019\n",
       "1       116866  0002005018  7.323220\n",
       "2       152827  0060973129  7.492669\n",
       "3       157969  0374157065  7.708619\n",
       "4        67958  0399135782  7.885596\n",
       "...        ...         ...       ...\n",
       "76694   278543  1576734218  6.031556\n",
       "76695   278563  3492223710  6.153912\n",
       "76696   278633  1896095186  6.373546\n",
       "76697   278668  8408044079  5.262761\n",
       "76698   278851  0767907566  5.787611\n",
       "\n",
       "[76699 rows x 3 columns]"
      ]
     },
     "execution_count": 121,
     "metadata": {},
     "output_type": "execute_result"
    }
   ],
   "source": [
    "test_ratings['rating'] = (pred_df['pred_0'] + pred_df['pred_1'] + pred_df['pred_2'] + pred_df['pred_3'] + pred_df['pred_4'] + \n",
    "                     pred_df['pred_5'] + pred_df['pred_6'] + pred_df['pred_7'] + pred_df['pred_8'] + pred_df['pred_9']) / 10\n",
    "submit = test_ratings[['user_id', 'isbn', 'rating']]\n",
    "submit"
   ]
  },
  {
   "cell_type": "code",
   "execution_count": 122,
   "metadata": {},
   "outputs": [],
   "source": [
    "submit.to_csv('/home/code/submit/CB_HPO_Pred_isbn_country_review_cnt_segmentation_age_and_pubyear_jun.csv', index = False)"
   ]
  },
  {
   "cell_type": "code",
   "execution_count": 123,
   "metadata": {},
   "outputs": [],
   "source": [
    "'''\n",
    "submit['rating'] = submit['rating'].round().astype(int)\n",
    "submit.to_csv('/home/code/submit/CB_HPO_Pred_isbn_country_review_cnt_segmentation_age_and_pubyear_AVG_round_jun.csv', index = False)\n",
    "'''"
   ]
  },
  {
   "cell_type": "markdown",
   "metadata": {},
   "source": [
    "- best_params = {'learning_rate': 0.1, 'depth': 10, 'colsample_bylevel': 0.5, 'boosting_type': 'Plain', 'bootstrap_type': 'MVS'}\n",
    "    - LB : 2.2369 / CV : 1.7941\n",
    "\n",
    "- best_params = {'learning_rate': 0.1, 'reg_lambda': 10, 'random_strength': 26, 'depth': 9, 'min_data_in_leaf': 2, 'leaf_estimation_iterations': 10, 'boosting_type': 'Ordered', 'bootstrap_type': 'Bernoulli', 'subsample': 0.3741523922560336}\n",
    "    - LB : 2.2479 / CV : 1.7941\n",
    "\n",
    "- best_params = {'depth': 11, 'learning_rate': 0.1, 'l2_leaf_reg': 3, 'random_strength': 0.001, 'min_data_in_leaf': 3, 'leaf_estimation_iterations': 9, 'boosting_type': 'Ordered', 'bootstrap_type': 'Bernoulli', 'subsample': 0.739458755076581} \n",
    "    - LB : 2.2444 / CV : 1.78230\n",
    "\n",
    "- best_params = {'learning_rate': 0.1, 'depth': 11, 'colsample_bylevel': 0.5, 'boosting_type': 'Plain', 'bootstrap_type': 'MVS'}\n",
    "    - LB : / CV : 1.76569 "
   ]
  },
  {
   "cell_type": "markdown",
   "metadata": {},
   "source": [
    "## LightGBM"
   ]
  },
  {
   "cell_type": "code",
   "execution_count": 124,
   "metadata": {},
   "outputs": [],
   "source": [
    "def objectiveLGBM(trial : Trial, X_train, y_train, X_valid, y_valid) :\n",
    "    param = {\n",
    "        'boosting_type' : trial.suggest_categorical('boosting_type', ['gbdt', 'dart']),\n",
    "        'num_leaves' : trial.suggest_int('num_leaves', 30, 50),\n",
    "        'max_depth' : trial.suggest_int('max_depth', 1, 15),\n",
    "        'learning_rate' : trial.suggest_categorical('learning_rate', [1e-5, 1e-3, 0.1, 0.5]),\n",
    "        'colsample_bytree' : trial.suggest_categorical('colsample_bytree', [0.1, 0.3, 0.5, 0.7, 1.0]),\n",
    "        'subsample' : trial.suggest_categorical('subsample', [0.1, 0.3, 0.5, 0.7, 1.0]),\n",
    "        'reg_alpha' : trial.suggest_categorical('reg_alpha', [1e-3, 0.1, 1, 5, 10]),\n",
    "        'reg_lambda' : trial.suggest_categorical('reg_lambda', [1e-3, 0.1, 1, 5, 10]),\n",
    "        'min_child_weight': trial.suggest_categorical('min_child_weight', [1e-3, 0.1, 1, 5, 10]),\n",
    "    }\n",
    "    lgbm_model = LGBMRegressor(**param, n_estimators = 5000, objective = 'regression', metric = 'rmse',\n",
    "                               n_jobs = -1, verbose = -1, random_state = SEED)\n",
    "    callback = lightgbm.early_stopping(stopping_rounds = 100)\n",
    "    lgbm_model.fit(X_train, y_train, eval_set = [(X_train, y_train), (X_valid, y_valid)],\n",
    "                   eval_metric = 'rmse', callbacks = [callback])\n",
    "    \n",
    "    score = mean_squared_error(y_valid, lgbm_model.predict(X_valid), squared = False)\n",
    "    return score"
   ]
  },
  {
   "cell_type": "code",
   "execution_count": 125,
   "metadata": {},
   "outputs": [
    {
     "name": "stderr",
     "output_type": "stream",
     "text": [
      "[I 2023-12-19 06:30:46,402] A new study created in memory with name: no-name-3f603dd2-a98f-4281-8131-e36ebd12c0bf\n",
      "[I 2023-12-19 06:36:28,067] Trial 0 finished with value: 2.2781384634276476 and parameters: {'boosting_type': 'dart', 'num_leaves': 45, 'max_depth': 9, 'learning_rate': 0.5, 'colsample_bytree': 0.7, 'subsample': 1.0, 'reg_alpha': 1, 'reg_lambda': 1, 'min_child_weight': 1}. Best is trial 0 with value: 2.2781384634276476.\n",
      "[I 2023-12-19 06:45:34,617] Trial 1 finished with value: 3.038379553847241 and parameters: {'boosting_type': 'dart', 'num_leaves': 46, 'max_depth': 5, 'learning_rate': 0.001, 'colsample_bytree': 0.5, 'subsample': 1.0, 'reg_alpha': 0.1, 'reg_lambda': 10, 'min_child_weight': 0.1}. Best is trial 0 with value: 2.2781384634276476.\n",
      "[I 2023-12-19 06:51:00,152] Trial 2 finished with value: 2.406063888471692 and parameters: {'boosting_type': 'dart', 'num_leaves': 31, 'max_depth': 15, 'learning_rate': 0.5, 'colsample_bytree': 0.5, 'subsample': 0.3, 'reg_alpha': 10, 'reg_lambda': 5, 'min_child_weight': 0.001}. Best is trial 0 with value: 2.2781384634276476.\n"
     ]
    },
    {
     "name": "stdout",
     "output_type": "stream",
     "text": [
      "Training until validation scores don't improve for 100 rounds\n",
      "Did not meet early stopping. Best iteration is:\n",
      "[5000]\ttraining's rmse: 2.38468\tvalid_1's rmse: 2.38936\n"
     ]
    },
    {
     "name": "stderr",
     "output_type": "stream",
     "text": [
      "[I 2023-12-19 06:51:18,662] Trial 3 finished with value: 2.389356353895803 and parameters: {'boosting_type': 'gbdt', 'num_leaves': 43, 'max_depth': 5, 'learning_rate': 0.001, 'colsample_bytree': 0.1, 'subsample': 0.1, 'reg_alpha': 10, 'reg_lambda': 10, 'min_child_weight': 0.001}. Best is trial 0 with value: 2.2781384634276476.\n",
      "[I 2023-12-19 06:54:29,629] Trial 4 finished with value: 6.0252833834773325 and parameters: {'boosting_type': 'dart', 'num_leaves': 49, 'max_depth': 5, 'learning_rate': 0.5, 'colsample_bytree': 0.1, 'subsample': 0.3, 'reg_alpha': 10, 'reg_lambda': 1, 'min_child_weight': 1}. Best is trial 0 with value: 2.2781384634276476.\n"
     ]
    },
    {
     "name": "stdout",
     "output_type": "stream",
     "text": [
      "Training until validation scores don't improve for 100 rounds\n",
      "Did not meet early stopping. Best iteration is:\n",
      "[5000]\ttraining's rmse: 2.41659\tvalid_1's rmse: 2.41825\n"
     ]
    },
    {
     "name": "stderr",
     "output_type": "stream",
     "text": [
      "[I 2023-12-19 06:54:42,797] Trial 5 finished with value: 2.4182481729491303 and parameters: {'boosting_type': 'gbdt', 'num_leaves': 33, 'max_depth': 1, 'learning_rate': 0.001, 'colsample_bytree': 0.7, 'subsample': 0.1, 'reg_alpha': 0.001, 'reg_lambda': 10, 'min_child_weight': 10}. Best is trial 0 with value: 2.2781384634276476.\n"
     ]
    },
    {
     "name": "stdout",
     "output_type": "stream",
     "text": [
      "Training until validation scores don't improve for 100 rounds\n",
      "Did not meet early stopping. Best iteration is:\n",
      "[5000]\ttraining's rmse: 2.40383\tvalid_1's rmse: 2.407\n"
     ]
    },
    {
     "name": "stderr",
     "output_type": "stream",
     "text": [
      "[I 2023-12-19 06:54:56,676] Trial 6 finished with value: 2.4069950638049122 and parameters: {'boosting_type': 'gbdt', 'num_leaves': 43, 'max_depth': 2, 'learning_rate': 0.001, 'colsample_bytree': 0.3, 'subsample': 0.7, 'reg_alpha': 5, 'reg_lambda': 0.001, 'min_child_weight': 0.001}. Best is trial 0 with value: 2.2781384634276476.\n",
      "[I 2023-12-19 07:00:40,073] Trial 7 finished with value: 7.036528952981942 and parameters: {'boosting_type': 'dart', 'num_leaves': 40, 'max_depth': 3, 'learning_rate': 1e-05, 'colsample_bytree': 0.5, 'subsample': 0.7, 'reg_alpha': 0.001, 'reg_lambda': 1, 'min_child_weight': 1}. Best is trial 0 with value: 2.2781384634276476.\n"
     ]
    },
    {
     "name": "stdout",
     "output_type": "stream",
     "text": [
      "Training until validation scores don't improve for 100 rounds\n"
     ]
    },
    {
     "name": "stderr",
     "output_type": "stream",
     "text": [
      "[I 2023-12-19 07:00:42,230] Trial 8 finished with value: 2.2563479214403213 and parameters: {'boosting_type': 'gbdt', 'num_leaves': 44, 'max_depth': 11, 'learning_rate': 0.5, 'colsample_bytree': 0.3, 'subsample': 0.7, 'reg_alpha': 1, 'reg_lambda': 1, 'min_child_weight': 0.001}. Best is trial 8 with value: 2.2563479214403213.\n"
     ]
    },
    {
     "name": "stdout",
     "output_type": "stream",
     "text": [
      "Early stopping, best iteration is:\n",
      "[330]\ttraining's rmse: 2.05614\tvalid_1's rmse: 2.25635\n"
     ]
    },
    {
     "name": "stderr",
     "output_type": "stream",
     "text": [
      "[I 2023-12-19 07:02:42,187] Trial 9 finished with value: 7.06327528334384 and parameters: {'boosting_type': 'dart', 'num_leaves': 31, 'max_depth': 1, 'learning_rate': 0.5, 'colsample_bytree': 0.1, 'subsample': 0.7, 'reg_alpha': 0.001, 'reg_lambda': 10, 'min_child_weight': 0.001}. Best is trial 8 with value: 2.2563479214403213.\n"
     ]
    },
    {
     "name": "stdout",
     "output_type": "stream",
     "text": [
      "Training until validation scores don't improve for 100 rounds\n",
      "Early stopping, best iteration is:\n",
      "[3991]\ttraining's rmse: 1.87165\tvalid_1's rmse: 2.1997\n"
     ]
    },
    {
     "name": "stderr",
     "output_type": "stream",
     "text": [
      "[I 2023-12-19 07:02:58,830] Trial 10 finished with value: 2.1996991259538237 and parameters: {'boosting_type': 'gbdt', 'num_leaves': 37, 'max_depth': 12, 'learning_rate': 0.1, 'colsample_bytree': 0.3, 'subsample': 0.5, 'reg_alpha': 1, 'reg_lambda': 0.1, 'min_child_weight': 5}. Best is trial 10 with value: 2.1996991259538237.\n"
     ]
    },
    {
     "name": "stdout",
     "output_type": "stream",
     "text": [
      "Training until validation scores don't improve for 100 rounds\n",
      "Early stopping, best iteration is:\n",
      "[3991]\ttraining's rmse: 1.87165\tvalid_1's rmse: 2.1997\n"
     ]
    },
    {
     "name": "stderr",
     "output_type": "stream",
     "text": [
      "[I 2023-12-19 07:03:17,716] Trial 11 finished with value: 2.1996991259538237 and parameters: {'boosting_type': 'gbdt', 'num_leaves': 37, 'max_depth': 12, 'learning_rate': 0.1, 'colsample_bytree': 0.3, 'subsample': 0.5, 'reg_alpha': 1, 'reg_lambda': 0.1, 'min_child_weight': 5}. Best is trial 10 with value: 2.1996991259538237.\n"
     ]
    },
    {
     "name": "stdout",
     "output_type": "stream",
     "text": [
      "Training until validation scores don't improve for 100 rounds\n",
      "Early stopping, best iteration is:\n",
      "[2068]\ttraining's rmse: 1.92315\tvalid_1's rmse: 2.20475\n"
     ]
    },
    {
     "name": "stderr",
     "output_type": "stream",
     "text": [
      "[I 2023-12-19 07:03:28,442] Trial 12 finished with value: 2.204749844685019 and parameters: {'boosting_type': 'gbdt', 'num_leaves': 36, 'max_depth': 13, 'learning_rate': 0.1, 'colsample_bytree': 1.0, 'subsample': 0.5, 'reg_alpha': 1, 'reg_lambda': 0.1, 'min_child_weight': 5}. Best is trial 10 with value: 2.1996991259538237.\n"
     ]
    },
    {
     "name": "stdout",
     "output_type": "stream",
     "text": [
      "Training until validation scores don't improve for 100 rounds\n",
      "Early stopping, best iteration is:\n",
      "[3306]\ttraining's rmse: 1.92019\tvalid_1's rmse: 2.20924\n"
     ]
    },
    {
     "name": "stderr",
     "output_type": "stream",
     "text": [
      "[I 2023-12-19 07:03:43,486] Trial 13 finished with value: 2.2092375346656334 and parameters: {'boosting_type': 'gbdt', 'num_leaves': 37, 'max_depth': 11, 'learning_rate': 0.1, 'colsample_bytree': 0.3, 'subsample': 0.5, 'reg_alpha': 1, 'reg_lambda': 0.1, 'min_child_weight': 5}. Best is trial 10 with value: 2.1996991259538237.\n"
     ]
    },
    {
     "name": "stdout",
     "output_type": "stream",
     "text": [
      "Training until validation scores don't improve for 100 rounds\n",
      "Early stopping, best iteration is:\n",
      "[3443]\ttraining's rmse: 1.88968\tvalid_1's rmse: 2.20337\n"
     ]
    },
    {
     "name": "stderr",
     "output_type": "stream",
     "text": [
      "[I 2023-12-19 07:03:59,286] Trial 14 finished with value: 2.2033680562178426 and parameters: {'boosting_type': 'gbdt', 'num_leaves': 39, 'max_depth': 15, 'learning_rate': 0.1, 'colsample_bytree': 0.3, 'subsample': 0.5, 'reg_alpha': 1, 'reg_lambda': 0.1, 'min_child_weight': 5}. Best is trial 10 with value: 2.1996991259538237.\n"
     ]
    },
    {
     "name": "stdout",
     "output_type": "stream",
     "text": [
      "Training until validation scores don't improve for 100 rounds\n",
      "Early stopping, best iteration is:\n",
      "[4759]\ttraining's rmse: 1.85394\tvalid_1's rmse: 2.20291\n"
     ]
    },
    {
     "name": "stderr",
     "output_type": "stream",
     "text": [
      "[I 2023-12-19 07:04:19,031] Trial 15 finished with value: 2.2029086461620055 and parameters: {'boosting_type': 'gbdt', 'num_leaves': 34, 'max_depth': 9, 'learning_rate': 0.1, 'colsample_bytree': 0.3, 'subsample': 0.5, 'reg_alpha': 0.1, 'reg_lambda': 0.1, 'min_child_weight': 5}. Best is trial 10 with value: 2.1996991259538237.\n"
     ]
    },
    {
     "name": "stdout",
     "output_type": "stream",
     "text": [
      "Training until validation scores don't improve for 100 rounds\n",
      "Early stopping, best iteration is:\n",
      "[2714]\ttraining's rmse: 1.84362\tvalid_1's rmse: 2.1986\n"
     ]
    },
    {
     "name": "stderr",
     "output_type": "stream",
     "text": [
      "[I 2023-12-19 07:04:32,774] Trial 16 finished with value: 2.1986026323284085 and parameters: {'boosting_type': 'gbdt', 'num_leaves': 38, 'max_depth': 12, 'learning_rate': 0.1, 'colsample_bytree': 1.0, 'subsample': 0.5, 'reg_alpha': 5, 'reg_lambda': 0.1, 'min_child_weight': 5}. Best is trial 16 with value: 2.1986026323284085.\n"
     ]
    },
    {
     "name": "stdout",
     "output_type": "stream",
     "text": [
      "Training until validation scores don't improve for 100 rounds\n",
      "Did not meet early stopping. Best iteration is:\n",
      "[5000]\ttraining's rmse: 2.42785\tvalid_1's rmse: 2.42824\n"
     ]
    },
    {
     "name": "stderr",
     "output_type": "stream",
     "text": [
      "[I 2023-12-19 07:05:12,863] Trial 17 finished with value: 2.428238710683573 and parameters: {'boosting_type': 'gbdt', 'num_leaves': 40, 'max_depth': 7, 'learning_rate': 1e-05, 'colsample_bytree': 1.0, 'subsample': 0.5, 'reg_alpha': 5, 'reg_lambda': 0.001, 'min_child_weight': 0.1}. Best is trial 16 with value: 2.1986026323284085.\n"
     ]
    },
    {
     "name": "stdout",
     "output_type": "stream",
     "text": [
      "Training until validation scores don't improve for 100 rounds\n",
      "Early stopping, best iteration is:\n",
      "[3212]\ttraining's rmse: 1.84056\tvalid_1's rmse: 2.19963\n"
     ]
    },
    {
     "name": "stderr",
     "output_type": "stream",
     "text": [
      "[I 2023-12-19 07:05:29,428] Trial 18 finished with value: 2.1996321394528087 and parameters: {'boosting_type': 'gbdt', 'num_leaves': 35, 'max_depth': 13, 'learning_rate': 0.1, 'colsample_bytree': 1.0, 'subsample': 0.5, 'reg_alpha': 5, 'reg_lambda': 5, 'min_child_weight': 10}. Best is trial 16 with value: 2.1986026323284085.\n"
     ]
    },
    {
     "name": "stdout",
     "output_type": "stream",
     "text": [
      "Training until validation scores don't improve for 100 rounds\n",
      "Early stopping, best iteration is:\n",
      "[3853]\ttraining's rmse: 1.78466\tvalid_1's rmse: 2.19679\n"
     ]
    },
    {
     "name": "stderr",
     "output_type": "stream",
     "text": [
      "[I 2023-12-19 07:05:49,541] Trial 19 finished with value: 2.1967876601423613 and parameters: {'boosting_type': 'gbdt', 'num_leaves': 35, 'max_depth': 14, 'learning_rate': 0.1, 'colsample_bytree': 1.0, 'subsample': 0.5, 'reg_alpha': 5, 'reg_lambda': 5, 'min_child_weight': 10}. Best is trial 19 with value: 2.1967876601423613.\n"
     ]
    },
    {
     "name": "stdout",
     "output_type": "stream",
     "text": [
      "Training until validation scores don't improve for 100 rounds\n",
      "Early stopping, best iteration is:\n",
      "[3166]\ttraining's rmse: 1.88945\tvalid_1's rmse: 2.2\n"
     ]
    },
    {
     "name": "stderr",
     "output_type": "stream",
     "text": [
      "[I 2023-12-19 07:06:05,551] Trial 20 finished with value: 2.2000046912614106 and parameters: {'boosting_type': 'gbdt', 'num_leaves': 30, 'max_depth': 14, 'learning_rate': 0.1, 'colsample_bytree': 1.0, 'subsample': 1.0, 'reg_alpha': 5, 'reg_lambda': 5, 'min_child_weight': 10}. Best is trial 19 with value: 2.1967876601423613.\n"
     ]
    },
    {
     "name": "stdout",
     "output_type": "stream",
     "text": [
      "Training until validation scores don't improve for 100 rounds\n",
      "Early stopping, best iteration is:\n",
      "[2924]\ttraining's rmse: 1.87884\tvalid_1's rmse: 2.20052\n"
     ]
    },
    {
     "name": "stderr",
     "output_type": "stream",
     "text": [
      "[I 2023-12-19 07:06:20,309] Trial 21 finished with value: 2.2005226424835675 and parameters: {'boosting_type': 'gbdt', 'num_leaves': 34, 'max_depth': 13, 'learning_rate': 0.1, 'colsample_bytree': 1.0, 'subsample': 0.5, 'reg_alpha': 5, 'reg_lambda': 5, 'min_child_weight': 10}. Best is trial 19 with value: 2.1967876601423613.\n"
     ]
    },
    {
     "name": "stdout",
     "output_type": "stream",
     "text": [
      "Training until validation scores don't improve for 100 rounds\n",
      "Early stopping, best iteration is:\n",
      "[3167]\ttraining's rmse: 1.85037\tvalid_1's rmse: 2.20255\n"
     ]
    },
    {
     "name": "stderr",
     "output_type": "stream",
     "text": [
      "[I 2023-12-19 07:06:37,199] Trial 22 finished with value: 2.202551860383848 and parameters: {'boosting_type': 'gbdt', 'num_leaves': 35, 'max_depth': 11, 'learning_rate': 0.1, 'colsample_bytree': 1.0, 'subsample': 0.5, 'reg_alpha': 5, 'reg_lambda': 5, 'min_child_weight': 10}. Best is trial 19 with value: 2.1967876601423613.\n"
     ]
    },
    {
     "name": "stdout",
     "output_type": "stream",
     "text": [
      "Training until validation scores don't improve for 100 rounds\n",
      "Early stopping, best iteration is:\n",
      "[3000]\ttraining's rmse: 1.87736\tvalid_1's rmse: 2.19814\n"
     ]
    },
    {
     "name": "stderr",
     "output_type": "stream",
     "text": [
      "[I 2023-12-19 07:06:52,375] Trial 23 finished with value: 2.198141355060563 and parameters: {'boosting_type': 'gbdt', 'num_leaves': 33, 'max_depth': 14, 'learning_rate': 0.1, 'colsample_bytree': 1.0, 'subsample': 0.5, 'reg_alpha': 5, 'reg_lambda': 5, 'min_child_weight': 10}. Best is trial 19 with value: 2.1967876601423613.\n"
     ]
    },
    {
     "name": "stdout",
     "output_type": "stream",
     "text": [
      "Training until validation scores don't improve for 100 rounds\n",
      "Did not meet early stopping. Best iteration is:\n",
      "[5000]\ttraining's rmse: 2.42663\tvalid_1's rmse: 2.42691\n"
     ]
    },
    {
     "name": "stderr",
     "output_type": "stream",
     "text": [
      "[I 2023-12-19 07:07:33,913] Trial 24 finished with value: 2.4269111252215336 and parameters: {'boosting_type': 'gbdt', 'num_leaves': 32, 'max_depth': 15, 'learning_rate': 1e-05, 'colsample_bytree': 1.0, 'subsample': 0.5, 'reg_alpha': 5, 'reg_lambda': 5, 'min_child_weight': 10}. Best is trial 19 with value: 2.1967876601423613.\n"
     ]
    },
    {
     "name": "stdout",
     "output_type": "stream",
     "text": [
      "Training until validation scores don't improve for 100 rounds\n",
      "Early stopping, best iteration is:\n",
      "[4250]\ttraining's rmse: 1.78054\tvalid_1's rmse: 2.19687\n"
     ]
    },
    {
     "name": "stderr",
     "output_type": "stream",
     "text": [
      "[I 2023-12-19 07:07:54,941] Trial 25 finished with value: 2.196866823271903 and parameters: {'boosting_type': 'gbdt', 'num_leaves': 33, 'max_depth': 10, 'learning_rate': 0.1, 'colsample_bytree': 1.0, 'subsample': 0.1, 'reg_alpha': 5, 'reg_lambda': 5, 'min_child_weight': 10}. Best is trial 19 with value: 2.1967876601423613.\n"
     ]
    },
    {
     "name": "stdout",
     "output_type": "stream",
     "text": [
      "Training until validation scores don't improve for 100 rounds\n",
      "Early stopping, best iteration is:\n",
      "[3548]\ttraining's rmse: 1.85252\tvalid_1's rmse: 2.19735\n"
     ]
    },
    {
     "name": "stderr",
     "output_type": "stream",
     "text": [
      "[I 2023-12-19 07:08:12,551] Trial 26 finished with value: 2.1973478972049842 and parameters: {'boosting_type': 'gbdt', 'num_leaves': 33, 'max_depth': 8, 'learning_rate': 0.1, 'colsample_bytree': 1.0, 'subsample': 0.1, 'reg_alpha': 5, 'reg_lambda': 5, 'min_child_weight': 10}. Best is trial 19 with value: 2.1967876601423613.\n"
     ]
    },
    {
     "name": "stdout",
     "output_type": "stream",
     "text": [
      "Training until validation scores don't improve for 100 rounds\n",
      "Early stopping, best iteration is:\n",
      "[2801]\ttraining's rmse: 1.94889\tvalid_1's rmse: 2.20632\n"
     ]
    },
    {
     "name": "stderr",
     "output_type": "stream",
     "text": [
      "[I 2023-12-19 07:08:26,232] Trial 27 finished with value: 2.2063195656288026 and parameters: {'boosting_type': 'gbdt', 'num_leaves': 30, 'max_depth': 7, 'learning_rate': 0.1, 'colsample_bytree': 1.0, 'subsample': 0.1, 'reg_alpha': 5, 'reg_lambda': 5, 'min_child_weight': 10}. Best is trial 19 with value: 2.1967876601423613.\n"
     ]
    },
    {
     "name": "stdout",
     "output_type": "stream",
     "text": [
      "Training until validation scores don't improve for 100 rounds\n",
      "Early stopping, best iteration is:\n",
      "[4177]\ttraining's rmse: 1.80138\tvalid_1's rmse: 2.19652\n"
     ]
    },
    {
     "name": "stderr",
     "output_type": "stream",
     "text": [
      "[I 2023-12-19 07:08:46,542] Trial 28 finished with value: 2.1965177887215948 and parameters: {'boosting_type': 'gbdt', 'num_leaves': 32, 'max_depth': 9, 'learning_rate': 0.1, 'colsample_bytree': 1.0, 'subsample': 0.1, 'reg_alpha': 5, 'reg_lambda': 5, 'min_child_weight': 10}. Best is trial 28 with value: 2.1965177887215948.\n"
     ]
    }
   ],
   "source": [
    "# Study Optuna\n",
    "study = optuna.create_study(direction = 'minimize', sampler = TPESampler(seed = SEED))\n",
    "study.optimize(lambda trial : objectiveLGBM(trial, X_train, y_train, X_valid, y_valid), n_trials = 50)\n",
    "print(f'Best trial : score {study.best_trial.value}, \\n params = {study.best_trial.params} \\n') "
   ]
  },
  {
   "cell_type": "code",
   "execution_count": null,
   "metadata": {},
   "outputs": [
    {
     "name": "stderr",
     "output_type": "stream",
     "text": [
      "  0%|          | 0/10 [00:00<?, ?it/s]"
     ]
    },
    {
     "name": "stdout",
     "output_type": "stream",
     "text": [
      "Training until validation scores don't improve for 100 rounds\n",
      "Early stopping, best iteration is:\n",
      "[669]\ttraining's rmse: 1.77124\tvalid_1's rmse: 1.84505\n",
      "Valid Set 1 번째 Fold RMSE : 1.84505\n"
     ]
    },
    {
     "name": "stderr",
     "output_type": "stream",
     "text": [
      " 10%|█         | 1/10 [00:04<00:39,  4.36s/it]"
     ]
    },
    {
     "name": "stdout",
     "output_type": "stream",
     "text": [
      "Training until validation scores don't improve for 100 rounds\n",
      "Early stopping, best iteration is:\n",
      "[709]\ttraining's rmse: 1.76938\tvalid_1's rmse: 1.84211\n",
      "Valid Set 2 번째 Fold RMSE : 1.84211\n"
     ]
    },
    {
     "name": "stderr",
     "output_type": "stream",
     "text": [
      " 20%|██        | 2/10 [00:08<00:35,  4.46s/it]"
     ]
    },
    {
     "name": "stdout",
     "output_type": "stream",
     "text": [
      "Training until validation scores don't improve for 100 rounds\n",
      "Early stopping, best iteration is:\n",
      "[750]\ttraining's rmse: 1.76591\tvalid_1's rmse: 1.83455\n",
      "Valid Set 3 번째 Fold RMSE : 1.83455\n"
     ]
    },
    {
     "name": "stderr",
     "output_type": "stream",
     "text": [
      " 30%|███       | 3/10 [00:13<00:32,  4.58s/it]"
     ]
    },
    {
     "name": "stdout",
     "output_type": "stream",
     "text": [
      "Training until validation scores don't improve for 100 rounds\n",
      "Early stopping, best iteration is:\n",
      "[723]\ttraining's rmse: 1.76602\tvalid_1's rmse: 1.84613\n",
      "Valid Set 4 번째 Fold RMSE : 1.84613\n"
     ]
    },
    {
     "name": "stderr",
     "output_type": "stream",
     "text": [
      " 40%|████      | 4/10 [00:17<00:26,  4.46s/it]"
     ]
    },
    {
     "name": "stdout",
     "output_type": "stream",
     "text": [
      "Training until validation scores don't improve for 100 rounds\n",
      "Early stopping, best iteration is:\n",
      "[955]\ttraining's rmse: 1.74373\tvalid_1's rmse: 1.84995\n",
      "Valid Set 5 번째 Fold RMSE : 1.84995\n"
     ]
    },
    {
     "name": "stderr",
     "output_type": "stream",
     "text": [
      " 50%|█████     | 5/10 [00:23<00:24,  4.96s/it]"
     ]
    },
    {
     "name": "stdout",
     "output_type": "stream",
     "text": [
      "Training until validation scores don't improve for 100 rounds\n",
      "Early stopping, best iteration is:\n",
      "[919]\ttraining's rmse: 1.74868\tvalid_1's rmse: 1.85163\n",
      "Valid Set 6 번째 Fold RMSE : 1.85163\n"
     ]
    },
    {
     "name": "stderr",
     "output_type": "stream",
     "text": [
      " 60%|██████    | 6/10 [00:29<00:20,  5.22s/it]"
     ]
    },
    {
     "name": "stdout",
     "output_type": "stream",
     "text": [
      "Training until validation scores don't improve for 100 rounds\n",
      "Early stopping, best iteration is:\n",
      "[691]\ttraining's rmse: 1.76928\tvalid_1's rmse: 1.84911\n",
      "Valid Set 7 번째 Fold RMSE : 1.84911\n"
     ]
    },
    {
     "name": "stderr",
     "output_type": "stream",
     "text": [
      " 70%|███████   | 7/10 [00:33<00:14,  4.92s/it]"
     ]
    },
    {
     "name": "stdout",
     "output_type": "stream",
     "text": [
      "Training until validation scores don't improve for 100 rounds\n",
      "Early stopping, best iteration is:\n",
      "[877]\ttraining's rmse: 1.75255\tvalid_1's rmse: 1.85598\n",
      "Valid Set 8 번째 Fold RMSE : 1.85598\n"
     ]
    },
    {
     "name": "stderr",
     "output_type": "stream",
     "text": [
      " 80%|████████  | 8/10 [00:39<00:10,  5.08s/it]"
     ]
    },
    {
     "name": "stdout",
     "output_type": "stream",
     "text": [
      "Training until validation scores don't improve for 100 rounds\n",
      "Early stopping, best iteration is:\n",
      "[813]\ttraining's rmse: 1.76037\tvalid_1's rmse: 1.84043\n",
      "Valid Set 9 번째 Fold RMSE : 1.84043\n"
     ]
    },
    {
     "name": "stderr",
     "output_type": "stream",
     "text": [
      " 90%|█████████ | 9/10 [00:44<00:05,  5.06s/it]"
     ]
    },
    {
     "name": "stdout",
     "output_type": "stream",
     "text": [
      "Training until validation scores don't improve for 100 rounds\n",
      "Early stopping, best iteration is:\n",
      "[651]\ttraining's rmse: 1.77385\tvalid_1's rmse: 1.85223\n",
      "Valid Set 10 번째 Fold RMSE : 1.85223\n"
     ]
    },
    {
     "name": "stderr",
     "output_type": "stream",
     "text": [
      "100%|██████████| 10/10 [00:48<00:00,  4.83s/it]"
     ]
    },
    {
     "name": "stdout",
     "output_type": "stream",
     "text": [
      "LGBM RMSE 평균 : 1.84672 \n",
      "\n"
     ]
    },
    {
     "name": "stderr",
     "output_type": "stream",
     "text": [
      "\n"
     ]
    }
   ],
   "source": [
    "X_data, y_data = train_GB.drop(columns = 'rating'), train_GB['rating']\n",
    "\n",
    "skf = StratifiedKFold(n_splits = 10, shuffle = True, random_state = SEED)\n",
    "valid_rmse = []\n",
    "pred_df = pd.DataFrame()\n",
    "\n",
    "# Stratified K-Fold 사용하여 Best Parameter 학습\n",
    "for fold, (train_idx, valid_idx) in tqdm.tqdm(enumerate(skf.split(X_data, y_data)), total = skf.n_splits) :\n",
    "    \n",
    "    # Train Set과 Valid Set 분할    \n",
    "    X_train, y_train = X_data.iloc[train_idx], y_data.iloc[train_idx]\n",
    "    X_valid, y_valid = X_data.iloc[valid_idx], y_data.iloc[valid_idx]\n",
    "    \n",
    "    # Best Parameter 학습\n",
    "    param = study.best_params # lgbm_best_params\n",
    "    \n",
    "    lgbm_reg = LGBMRegressor(**param, n_estimators = 5000, objective = 'regression', metric = 'rmse',\n",
    "                             n_jobs = -1, verbose = -1, random_state = SEED)\n",
    "    callback = lightgbm.early_stopping(stopping_rounds = 100)\n",
    "    lgbm_reg.fit(X_train, y_train, eval_set = [(X_train, y_train), (X_valid, y_valid)],\n",
    "                   eval_metric = 'rmse', callbacks = [callback])\n",
    "    \n",
    "    # 모델 RMSE 출력\n",
    "    score = mean_squared_error(y_valid, lgbm_reg.predict(X_valid), squared = False)\n",
    "    valid_rmse.append(score)\n",
    "    print(f'Valid Set {fold + 1} 번째 Fold RMSE : {score:.5f}')\n",
    "\n",
    "    # Predict\n",
    "    pred = lgbm_reg.predict(test_GB.drop(['rating'], axis = 1))\n",
    "    pred_df[f'pred_{fold}'] = pred\n",
    "\n",
    "print(f'LGBM RMSE 평균 : {np.array(valid_rmse).mean():.5f} \\n')"
   ]
  },
  {
   "cell_type": "code",
   "execution_count": null,
   "metadata": {},
   "outputs": [
    {
     "data": {
      "text/plain": [
       "<Axes: title={'center': 'Feature importance'}, xlabel='Feature importance', ylabel='Features'>"
      ]
     },
     "execution_count": 17,
     "metadata": {},
     "output_type": "execute_result"
    },
    {
     "data": {
      "image/png": "[encoded data removed]",
      "text/plain": [
       "<Figure size 800x600 with 1 Axes>"
      ]
     },
     "metadata": {},
     "output_type": "display_data"
    }
   ],
   "source": [
    "# Feature Importance\n",
    "fig, ax = plt.subplots(figsize = (8, 6))\n",
    "lgbm_plot_importance(lgbm_reg, ax = ax)"
   ]
  },
  {
   "cell_type": "code",
   "execution_count": null,
   "metadata": {},
   "outputs": [
    {
     "data": {
      "text/html": [
       "<div>\n",
       "<style scoped>\n",
       "    .dataframe tbody tr th:only-of-type {\n",
       "        vertical-align: middle;\n",
       "    }\n",
       "\n",
       "    .dataframe tbody tr th {\n",
       "        vertical-align: top;\n",
       "    }\n",
       "\n",
       "    .dataframe thead th {\n",
       "        text-align: right;\n",
       "    }\n",
       "</style>\n",
       "<table border=\"1\" class=\"dataframe\">\n",
       "  <thead>\n",
       "    <tr style=\"text-align: right;\">\n",
       "      <th></th>\n",
       "      <th>user_id</th>\n",
       "      <th>isbn</th>\n",
       "      <th>rating</th>\n",
       "    </tr>\n",
       "  </thead>\n",
       "  <tbody>\n",
       "    <tr>\n",
       "      <th>0</th>\n",
       "      <td>11676</td>\n",
       "      <td>0002005018</td>\n",
       "      <td>6.949023</td>\n",
       "    </tr>\n",
       "    <tr>\n",
       "      <th>1</th>\n",
       "      <td>116866</td>\n",
       "      <td>0002005018</td>\n",
       "      <td>7.718842</td>\n",
       "    </tr>\n",
       "    <tr>\n",
       "      <th>2</th>\n",
       "      <td>152827</td>\n",
       "      <td>0060973129</td>\n",
       "      <td>8.618080</td>\n",
       "    </tr>\n",
       "    <tr>\n",
       "      <th>3</th>\n",
       "      <td>157969</td>\n",
       "      <td>0374157065</td>\n",
       "      <td>7.926602</td>\n",
       "    </tr>\n",
       "    <tr>\n",
       "      <th>4</th>\n",
       "      <td>67958</td>\n",
       "      <td>0399135782</td>\n",
       "      <td>8.120157</td>\n",
       "    </tr>\n",
       "    <tr>\n",
       "      <th>...</th>\n",
       "      <td>...</td>\n",
       "      <td>...</td>\n",
       "      <td>...</td>\n",
       "    </tr>\n",
       "    <tr>\n",
       "      <th>76694</th>\n",
       "      <td>278543</td>\n",
       "      <td>1576734218</td>\n",
       "      <td>6.351776</td>\n",
       "    </tr>\n",
       "    <tr>\n",
       "      <th>76695</th>\n",
       "      <td>278563</td>\n",
       "      <td>3492223710</td>\n",
       "      <td>7.332121</td>\n",
       "    </tr>\n",
       "    <tr>\n",
       "      <th>76696</th>\n",
       "      <td>278633</td>\n",
       "      <td>1896095186</td>\n",
       "      <td>7.038254</td>\n",
       "    </tr>\n",
       "    <tr>\n",
       "      <th>76697</th>\n",
       "      <td>278668</td>\n",
       "      <td>8408044079</td>\n",
       "      <td>3.432230</td>\n",
       "    </tr>\n",
       "    <tr>\n",
       "      <th>76698</th>\n",
       "      <td>278851</td>\n",
       "      <td>0767907566</td>\n",
       "      <td>6.352556</td>\n",
       "    </tr>\n",
       "  </tbody>\n",
       "</table>\n",
       "<p>76699 rows × 3 columns</p>\n",
       "</div>"
      ],
      "text/plain": [
       "       user_id        isbn    rating\n",
       "0        11676  0002005018  6.949023\n",
       "1       116866  0002005018  7.718842\n",
       "2       152827  0060973129  8.618080\n",
       "3       157969  0374157065  7.926602\n",
       "4        67958  0399135782  8.120157\n",
       "...        ...         ...       ...\n",
       "76694   278543  1576734218  6.351776\n",
       "76695   278563  3492223710  7.332121\n",
       "76696   278633  1896095186  7.038254\n",
       "76697   278668  8408044079  3.432230\n",
       "76698   278851  0767907566  6.352556\n",
       "\n",
       "[76699 rows x 3 columns]"
      ]
     },
     "execution_count": 18,
     "metadata": {},
     "output_type": "execute_result"
    }
   ],
   "source": [
    "test_ratings['rating'] = (pred_df['pred_0'] + pred_df['pred_1'] + pred_df['pred_2'] + pred_df['pred_3'] + pred_df['pred_4'] + \n",
    "                          pred_df['pred_5'] + pred_df['pred_6'] + pred_df['pred_7'] + pred_df['pred_8'] + pred_df['pred_9']) / 10\n",
    "submit = test_ratings[['user_id', 'isbn', 'rating']]\n",
    "submit"
   ]
  },
  {
   "cell_type": "code",
   "execution_count": null,
   "metadata": {},
   "outputs": [],
   "source": [
    "submit.to_csv('/home/code/submit/LGBM_HPO_Pred_AVG.csv', index = False)"
   ]
  },
  {
   "cell_type": "code",
   "execution_count": 20,
   "metadata": {},
   "outputs": [],
   "source": [
    "'''\n",
    "submit['rating'] = submit['rating'].round().astype(int)\n",
    "submit.to_csv('/home/code/submit/LGBM_HPO_Pred_AVG_round.csv', index = False)\n",
    "'''"
   ]
  },
  {
   "cell_type": "markdown",
   "metadata": {},
   "source": [
    "- {'boosting_type': 'gbdt', 'num_leaves': 33, 'max_depth': 3, 'learning_rate': 0.5, 'colsample_bytree': 0.7, 'subsample': 0.3, 'reg_alpha': 5, 'reg_lambda': 5, 'min_child_weight': 1}\n",
    "    - LB : 2.2771 / CV : 1.85789"
   ]
  },
  {
   "cell_type": "markdown",
   "metadata": {},
   "source": [
    "## XGBoost"
   ]
  },
  {
   "cell_type": "code",
   "execution_count": null,
   "metadata": {},
   "outputs": [],
   "source": [
    "def objectiveXGB(trial : Trial, X_train, y_train, X_valid, y_valid) :\n",
    "    param = {\n",
    "        'booster' : trial.suggest_categorical('booster', ['gbtree', 'dart']),\n",
    "        'max_depth' : trial.suggest_int('max_depth', 1, 15),\n",
    "        'learning_rate' : trial.suggest_categorical('learning_rate', [1e-3, 0.01, 0.05, 0.1, 0.5]), # 1e-5,\n",
    "        'min_child_weight' : trial.suggest_int('min_child_weight', 1, 10),\n",
    "        'gamma' : trial.suggest_categorical('alpha', [1e-5, 1e-3, 1, 5, 10]),\n",
    "        'colsample_bytree' : trial.suggest_categorical('colsample_bytree', [0.1, 0.5, 1]),\n",
    "        'lambda' : trial.suggest_categorical('lambda', [1e-5, 1e-3, 1, 5, 10]),\n",
    "        'alpha' : trial.suggest_categorical('alpha', [1e-5, 1e-3, 1, 5, 10]),\n",
    "        'subsample' : trial.suggest_categorical('subsample', [0.6, 0.7, 0.8, 1.0]),\n",
    "        'max_delta_step' : trial.suggest_categorical('max_delta_step', [0.1, 0.5, 1, 5, 10]),\n",
    "    }\n",
    "    \n",
    "    # XGBRegressor 사용\n",
    "    model = XGBRegressor(**param, n_estimators = 5000, objective = 'reg:squarederror', eval_metric = 'rmse',\n",
    "                         nthread = -1, gpu_id = 0, tree_method = 'gpu_hist', predictor = 'gpu_predictor',\n",
    "                         early_stopping_rounds = 100, random_state = SEED)\n",
    "    xgb_model = model.fit(X_train, y_train, eval_set = [(X_train, y_train), (X_valid, y_valid)], verbose = 300)\n",
    "    \n",
    "    # Valid Set RMSE 계산\n",
    "    score = mean_squared_error(y_valid, xgb_model.predict(X_valid), squared = False)\n",
    "    return score"
   ]
  },
  {
   "cell_type": "code",
   "execution_count": null,
   "metadata": {},
   "outputs": [
    {
     "name": "stderr",
     "output_type": "stream",
     "text": [
      "[I 2023-12-16 02:39:55,880] A new study created in memory with name: no-name-2467daf9-4961-47e2-a2f4-d566c45aeef2\n"
     ]
    },
    {
     "name": "stdout",
     "output_type": "stream",
     "text": [
      "[0]\tvalidation_0-rmse:2.00523\tvalidation_1-rmse:2.03346\n",
      "[105]\tvalidation_0-rmse:1.38723\tvalidation_1-rmse:1.95045\n"
     ]
    },
    {
     "name": "stderr",
     "output_type": "stream",
     "text": [
      "[I 2023-12-16 02:40:02,689] Trial 0 finished with value: 1.887207962657868 and parameters: {'booster': 'dart', 'max_depth': 11, 'learning_rate': 0.5, 'min_child_weight': 7, 'alpha': 1, 'colsample_bytree': 1, 'lambda': 5, 'subsample': 1.0, 'max_delta_step': 10}. Best is trial 0 with value: 1.887207962657868.\n"
     ]
    },
    {
     "name": "stdout",
     "output_type": "stream",
     "text": [
      "[0]\tvalidation_0-rmse:2.43202\tvalidation_1-rmse:2.43406\n",
      "[300]\tvalidation_0-rmse:2.40486\tvalidation_1-rmse:2.40755\n",
      "[600]\tvalidation_0-rmse:2.37566\tvalidation_1-rmse:2.37906\n",
      "[900]\tvalidation_0-rmse:2.34489\tvalidation_1-rmse:2.34903\n",
      "[1200]\tvalidation_0-rmse:2.31603\tvalidation_1-rmse:2.32088\n",
      "[1500]\tvalidation_0-rmse:2.29553\tvalidation_1-rmse:2.30102\n",
      "[1800]\tvalidation_0-rmse:2.27405\tvalidation_1-rmse:2.28017\n",
      "[2100]\tvalidation_0-rmse:2.24965\tvalidation_1-rmse:2.25647\n",
      "[2400]\tvalidation_0-rmse:2.23270\tvalidation_1-rmse:2.24004\n",
      "[2700]\tvalidation_0-rmse:2.21629\tvalidation_1-rmse:2.22413\n",
      "[3000]\tvalidation_0-rmse:2.20240\tvalidation_1-rmse:2.21075\n",
      "[3300]\tvalidation_0-rmse:2.18910\tvalidation_1-rmse:2.19790\n",
      "[3600]\tvalidation_0-rmse:2.17755\tvalidation_1-rmse:2.18678\n",
      "[3900]\tvalidation_0-rmse:2.16438\tvalidation_1-rmse:2.17405\n",
      "[4200]\tvalidation_0-rmse:2.15394\tvalidation_1-rmse:2.16399\n",
      "[4500]\tvalidation_0-rmse:2.13821\tvalidation_1-rmse:2.14877\n",
      "[4800]\tvalidation_0-rmse:2.12192\tvalidation_1-rmse:2.13298\n",
      "[4999]\tvalidation_0-rmse:2.11444\tvalidation_1-rmse:2.12576\n"
     ]
    },
    {
     "name": "stderr",
     "output_type": "stream",
     "text": [
      "[I 2023-12-16 02:40:29,997] Trial 1 finished with value: 2.1257598934600197 and parameters: {'booster': 'gbtree', 'max_depth': 15, 'learning_rate': 0.001, 'min_child_weight': 5, 'alpha': 5, 'colsample_bytree': 0.1, 'lambda': 1, 'subsample': 0.8, 'max_delta_step': 5}. Best is trial 0 with value: 1.887207962657868.\n"
     ]
    },
    {
     "name": "stdout",
     "output_type": "stream",
     "text": [
      "[0]\tvalidation_0-rmse:2.40945\tvalidation_1-rmse:2.41180\n",
      "[300]\tvalidation_0-rmse:2.02143\tvalidation_1-rmse:2.03950\n",
      "[600]\tvalidation_0-rmse:1.88665\tvalidation_1-rmse:1.90704\n",
      "[900]\tvalidation_0-rmse:1.85113\tvalidation_1-rmse:1.87454\n",
      "[1200]\tvalidation_0-rmse:1.84652\tvalidation_1-rmse:1.87085\n",
      "[1322]\tvalidation_0-rmse:1.84637\tvalidation_1-rmse:1.87082\n"
     ]
    },
    {
     "name": "stderr",
     "output_type": "stream",
     "text": [
      "[I 2023-12-16 02:40:34,130] Trial 2 finished with value: 1.8705904401754743 and parameters: {'booster': 'gbtree', 'max_depth': 5, 'learning_rate': 0.5, 'min_child_weight': 8, 'alpha': 1, 'colsample_bytree': 0.1, 'lambda': 0.001, 'subsample': 0.8, 'max_delta_step': 0.1}. Best is trial 2 with value: 1.8705904401754743.\n"
     ]
    },
    {
     "name": "stdout",
     "output_type": "stream",
     "text": [
      "[0]\tvalidation_0-rmse:2.43257\tvalidation_1-rmse:2.43460\n",
      "[300]\tvalidation_0-rmse:2.41860\tvalidation_1-rmse:2.42100\n",
      "[600]\tvalidation_0-rmse:2.40350\tvalidation_1-rmse:2.40629\n",
      "[900]\tvalidation_0-rmse:2.38703\tvalidation_1-rmse:2.39023\n",
      "[1200]\tvalidation_0-rmse:2.37125\tvalidation_1-rmse:2.37483\n",
      "[1500]\tvalidation_0-rmse:2.35926\tvalidation_1-rmse:2.36321\n",
      "[1800]\tvalidation_0-rmse:2.34674\tvalidation_1-rmse:2.35102\n",
      "[2100]\tvalidation_0-rmse:2.33232\tvalidation_1-rmse:2.33697\n",
      "[2400]\tvalidation_0-rmse:2.32172\tvalidation_1-rmse:2.32665\n"
     ]
    }
   ],
   "source": [
    "# Study Optuna\n",
    "study = optuna.create_study(direction = 'minimize', sampler = TPESampler(seed = SEED))\n",
    "study.optimize(lambda trial : objectiveXGB(trial, X_train, y_train, X_valid, y_valid), n_trials = 50)\n",
    "print(f'Best trial : score {study.best_trial.value}, \\n params = {study.best_trial.params} \\n')"
   ]
  },
  {
   "cell_type": "code",
   "execution_count": null,
   "metadata": {},
   "outputs": [
    {
     "name": "stderr",
     "output_type": "stream",
     "text": [
      " 10%|█         | 1/10 [07:27<1:07:10, 447.87s/it]"
     ]
    },
    {
     "name": "stdout",
     "output_type": "stream",
     "text": [
      "Valid Set 1 번째 Fold RMSE : 1.85683\n"
     ]
    },
    {
     "name": "stderr",
     "output_type": "stream",
     "text": [
      " 20%|██        | 2/10 [14:43<58:46, 440.80s/it]  "
     ]
    },
    {
     "name": "stdout",
     "output_type": "stream",
     "text": [
      "Valid Set 2 번째 Fold RMSE : 1.85320\n"
     ]
    },
    {
     "name": "stderr",
     "output_type": "stream",
     "text": [
      " 30%|███       | 3/10 [22:06<51:30, 441.50s/it]"
     ]
    },
    {
     "name": "stdout",
     "output_type": "stream",
     "text": [
      "Valid Set 3 번째 Fold RMSE : 1.84803\n"
     ]
    },
    {
     "name": "stderr",
     "output_type": "stream",
     "text": [
      " 40%|████      | 4/10 [29:07<43:22, 433.73s/it]"
     ]
    },
    {
     "name": "stdout",
     "output_type": "stream",
     "text": [
      "Valid Set 4 번째 Fold RMSE : 1.85734\n"
     ]
    },
    {
     "name": "stderr",
     "output_type": "stream",
     "text": [
      " 50%|█████     | 5/10 [36:33<36:29, 437.86s/it]"
     ]
    },
    {
     "name": "stdout",
     "output_type": "stream",
     "text": [
      "Valid Set 5 번째 Fold RMSE : 1.86337\n"
     ]
    },
    {
     "name": "stderr",
     "output_type": "stream",
     "text": [
      " 60%|██████    | 6/10 [43:45<29:04, 436.14s/it]"
     ]
    },
    {
     "name": "stdout",
     "output_type": "stream",
     "text": [
      "Valid Set 6 번째 Fold RMSE : 1.86145\n"
     ]
    },
    {
     "name": "stderr",
     "output_type": "stream",
     "text": [
      " 70%|███████   | 7/10 [50:33<21:20, 426.67s/it]"
     ]
    },
    {
     "name": "stdout",
     "output_type": "stream",
     "text": [
      "Valid Set 7 번째 Fold RMSE : 1.86348\n"
     ]
    },
    {
     "name": "stderr",
     "output_type": "stream",
     "text": [
      " 80%|████████  | 8/10 [57:53<14:22, 431.13s/it]"
     ]
    },
    {
     "name": "stdout",
     "output_type": "stream",
     "text": [
      "Valid Set 8 번째 Fold RMSE : 1.86570\n"
     ]
    },
    {
     "name": "stderr",
     "output_type": "stream",
     "text": [
      " 90%|█████████ | 9/10 [1:05:10<07:12, 432.80s/it]"
     ]
    },
    {
     "name": "stdout",
     "output_type": "stream",
     "text": [
      "Valid Set 9 번째 Fold RMSE : 1.85662\n"
     ]
    },
    {
     "name": "stderr",
     "output_type": "stream",
     "text": [
      "100%|██████████| 10/10 [1:12:25<00:00, 434.53s/it]"
     ]
    },
    {
     "name": "stdout",
     "output_type": "stream",
     "text": [
      "Valid Set 10 번째 Fold RMSE : 1.86556\n",
      "XGBoost RMSE 평균 : 1.85916 \n",
      "\n"
     ]
    },
    {
     "name": "stderr",
     "output_type": "stream",
     "text": [
      "\n"
     ]
    }
   ],
   "source": [
    "X_data, y_data = train_GB.drop(columns = 'rating'), train_GB['rating']\n",
    "\n",
    "skf = StratifiedKFold(n_splits = 10, shuffle = True, random_state = SEED)\n",
    "valid_rmse = []\n",
    "pred_df = pd.DataFrame()\n",
    "\n",
    "# Stratified K-Fold 사용하여 Best Parameter 학습\n",
    "for fold, (train_idx, valid_idx) in tqdm.tqdm(enumerate(skf.split(X_data, y_data)), total = skf.n_splits) :\n",
    "    \n",
    "    # Train Set과 Valid Set 분할    \n",
    "    X_train, y_train = X_data.iloc[train_idx], y_data.iloc[train_idx]\n",
    "    X_valid, y_valid = X_data.iloc[valid_idx], y_data.iloc[valid_idx]\n",
    "    \n",
    "    # Best Parameter 학습\n",
    "    param = study.best_params # xgb_best_params\n",
    "    \n",
    "    # Best Parameter 학습\n",
    "    xgb_reg = XGBRegressor(**param, n_estimators = 5000, objective = 'reg:squarederror', eval_metric = 'rmse', \n",
    "                           nthread = -1, gpu_id = 0, tree_method = 'gpu_hist', predictor = 'gpu_predictor',\n",
    "                           early_stopping_rounds = 100, random_state = SEED)\n",
    "    xgb_reg.fit(X_train, y_train, eval_set = [(X_train, y_train), (X_valid, y_valid)], verbose = False)\n",
    "    \n",
    "    # 모델 RMSE 출력\n",
    "    score = mean_squared_error(y_valid, xgb_reg.predict(X_valid), squared = False)\n",
    "    valid_rmse.append(score)\n",
    "    print(f'Valid Set {fold + 1} 번째 Fold RMSE : {score:.5f}')\n",
    "    \n",
    "    # Predict\n",
    "    pred = xgb_reg.predict(test_GB.drop(['rating'], axis = 1))\n",
    "    pred_df[f'pred_{fold}'] = pred\n",
    "\n",
    "print(f'XGBoost RMSE 평균 : {np.array(valid_rmse).mean():.5f} \\n')"
   ]
  },
  {
   "cell_type": "code",
   "execution_count": null,
   "metadata": {},
   "outputs": [
    {
     "data": {
      "text/plain": [
       "<Axes: title={'center': 'Feature importance'}, xlabel='F score', ylabel='Features'>"
      ]
     },
     "execution_count": 19,
     "metadata": {},
     "output_type": "execute_result"
    },
    {
     "data": {
      "image/png": "[encoded data removed]",
      "text/plain": [
       "<Figure size 800x600 with 1 Axes>"
      ]
     },
     "metadata": {},
     "output_type": "display_data"
    }
   ],
   "source": [
    "# Feature Importance\n",
    "fig, ax = plt.subplots(figsize = (8, 6))\n",
    "xgb_plot_importance(xgb_reg, ax = ax)"
   ]
  },
  {
   "cell_type": "code",
   "execution_count": null,
   "metadata": {},
   "outputs": [
    {
     "data": {
      "text/html": [
       "<div>\n",
       "<style scoped>\n",
       "    .dataframe tbody tr th:only-of-type {\n",
       "        vertical-align: middle;\n",
       "    }\n",
       "\n",
       "    .dataframe tbody tr th {\n",
       "        vertical-align: top;\n",
       "    }\n",
       "\n",
       "    .dataframe thead th {\n",
       "        text-align: right;\n",
       "    }\n",
       "</style>\n",
       "<table border=\"1\" class=\"dataframe\">\n",
       "  <thead>\n",
       "    <tr style=\"text-align: right;\">\n",
       "      <th></th>\n",
       "      <th>user_id</th>\n",
       "      <th>isbn</th>\n",
       "      <th>rating</th>\n",
       "    </tr>\n",
       "  </thead>\n",
       "  <tbody>\n",
       "    <tr>\n",
       "      <th>0</th>\n",
       "      <td>11676</td>\n",
       "      <td>0002005018</td>\n",
       "      <td>7.066980</td>\n",
       "    </tr>\n",
       "    <tr>\n",
       "      <th>1</th>\n",
       "      <td>116866</td>\n",
       "      <td>0002005018</td>\n",
       "      <td>7.668482</td>\n",
       "    </tr>\n",
       "    <tr>\n",
       "      <th>2</th>\n",
       "      <td>152827</td>\n",
       "      <td>0060973129</td>\n",
       "      <td>8.320372</td>\n",
       "    </tr>\n",
       "    <tr>\n",
       "      <th>3</th>\n",
       "      <td>157969</td>\n",
       "      <td>0374157065</td>\n",
       "      <td>7.769433</td>\n",
       "    </tr>\n",
       "    <tr>\n",
       "      <th>4</th>\n",
       "      <td>67958</td>\n",
       "      <td>0399135782</td>\n",
       "      <td>8.436759</td>\n",
       "    </tr>\n",
       "    <tr>\n",
       "      <th>...</th>\n",
       "      <td>...</td>\n",
       "      <td>...</td>\n",
       "      <td>...</td>\n",
       "    </tr>\n",
       "    <tr>\n",
       "      <th>76694</th>\n",
       "      <td>278543</td>\n",
       "      <td>1576734218</td>\n",
       "      <td>6.505219</td>\n",
       "    </tr>\n",
       "    <tr>\n",
       "      <th>76695</th>\n",
       "      <td>278563</td>\n",
       "      <td>3492223710</td>\n",
       "      <td>6.650600</td>\n",
       "    </tr>\n",
       "    <tr>\n",
       "      <th>76696</th>\n",
       "      <td>278633</td>\n",
       "      <td>1896095186</td>\n",
       "      <td>6.597798</td>\n",
       "    </tr>\n",
       "    <tr>\n",
       "      <th>76697</th>\n",
       "      <td>278668</td>\n",
       "      <td>8408044079</td>\n",
       "      <td>2.813656</td>\n",
       "    </tr>\n",
       "    <tr>\n",
       "      <th>76698</th>\n",
       "      <td>278851</td>\n",
       "      <td>0767907566</td>\n",
       "      <td>6.122128</td>\n",
       "    </tr>\n",
       "  </tbody>\n",
       "</table>\n",
       "<p>76699 rows × 3 columns</p>\n",
       "</div>"
      ],
      "text/plain": [
       "      user_id        isbn    rating\n",
       "0       11676  0002005018  7.066980\n",
       "1      116866  0002005018  7.668482\n",
       "2      152827  0060973129  8.320372\n",
       "3      157969  0374157065  7.769433\n",
       "4       67958  0399135782  8.436759\n",
       "...       ...         ...       ...\n",
       "76694  278543  1576734218  6.505219\n",
       "76695  278563  3492223710  6.650600\n",
       "76696  278633  1896095186  6.597798\n",
       "76697  278668  8408044079  2.813656\n",
       "76698  278851  0767907566  6.122128\n",
       "\n",
       "[76699 rows x 3 columns]"
      ]
     },
     "metadata": {},
     "output_type": "display_data"
    }
   ],
   "source": [
    "test_ratings['rating'] = (pred_df['pred_0'] + pred_df['pred_1'] + pred_df['pred_2'] + pred_df['pred_3'] + pred_df['pred_4'] + \n",
    "                          pred_df['pred_5'] + pred_df['pred_6'] + pred_df['pred_7'] + pred_df['pred_8'] + pred_df['pred_9']) / 10\n",
    "submit = test_ratings[['user_id', 'isbn', 'rating']]\n",
    "submit"
   ]
  },
  {
   "cell_type": "code",
   "execution_count": null,
   "metadata": {},
   "outputs": [],
   "source": [
    "submit.to_csv('/home/code/submit/XGB_HPO_Pred_AVG.csv', index = False)"
   ]
  },
  {
   "cell_type": "code",
   "execution_count": null,
   "metadata": {},
   "outputs": [],
   "source": [
    "'''\n",
    "submit['rating'] = submit['rating'].round().astype(int)\n",
    "submit.to_csv('/home/code/submit/XGB_HPO_Pred_AVG_round.csv', index = False)\n",
    "'''"
   ]
  },
  {
   "cell_type": "markdown",
   "metadata": {},
   "source": [
    "# Ensemble"
   ]
  },
  {
   "cell_type": "code",
   "execution_count": 51,
   "metadata": {},
   "outputs": [
    {
     "data": {
      "text/plain": [
       "['20231214_141423_DeepCoNN.csv',\n",
       " 'Catboost_Optuna_withGPU_fold10.csv',\n",
       " '20231215_031836_DCN.csv',\n",
       " '20231212_225413_FM.csv',\n",
       " 'Catboost_Optuna_fold10_loc_round.csv',\n",
       " 'XGBoost_Optuna_withGPU_fold10.csv',\n",
       " '20231215_080141_DCN.csv',\n",
       " '20231215_075938_DCN.csv',\n",
       " 'LGBM_Optuna_withGPU_fold10.csv',\n",
       " 'Catboost_Optuna_withGPU.csv',\n",
       " 'Catboost_Optuna.csv',\n",
       " 'Catboost_Optuna_fold10_loc.csv',\n",
       " '20231215_082021_DCN.csv',\n",
       " '20231215_062520_DCN.csv']"
      ]
     },
     "execution_count": 51,
     "metadata": {},
     "output_type": "execute_result"
    }
   ],
   "source": [
    "os.listdir('/home/code/submit/')"
   ]
  }
 ],
 "metadata": {
  "kernelspec": {
   "display_name": "base",
   "language": "python",
   "name": "python3"
  },
  "language_info": {
   "codemirror_mode": {
    "name": "ipython",
    "version": 3
   },
   "file_extension": ".py",
   "mimetype": "text/x-python",
   "name": "python",
   "nbconvert_exporter": "python",
   "pygments_lexer": "ipython3",
   "version": "3.10.13"
  }
 },
 "nbformat": 4,
 "nbformat_minor": 2
}
