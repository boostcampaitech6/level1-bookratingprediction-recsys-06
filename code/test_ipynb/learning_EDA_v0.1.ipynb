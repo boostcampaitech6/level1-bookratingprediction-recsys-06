{
 "cells": [
  {
   "cell_type": "code",
   "execution_count": 2,
   "metadata": {},
   "outputs": [],
   "source": [
    "import pandas as pd\n",
    "import numpy as np"
   ]
  },
  {
   "cell_type": "code",
   "execution_count": 3,
   "metadata": {},
   "outputs": [],
   "source": [
    "path = '../data/'\n",
    "books = pd.read_csv(path + 'books_m1.csv')\n",
    "users = pd.read_csv(path + 'users_m1.csv')\n",
    "train = pd.read_csv(path + 'train_ratings.csv.bak')\n",
    "test = pd.read_csv(path + 'test_ratings.csv.bak')\n",
    "sub = pd.read_csv(path + 'sample_submission.csv.bak')\n",
    "\n",
    "ratings = pd.concat([train, test, sub], axis=0)"
   ]
  },
  {
   "cell_type": "markdown",
   "metadata": {},
   "source": [
    "### 인덱싱"
   ]
  },
  {
   "cell_type": "markdown",
   "metadata": {},
   "source": [
    "### location 인덱스"
   ]
  },
  {
   "cell_type": "code",
   "execution_count": 4,
   "metadata": {},
   "outputs": [],
   "source": [
    "locations = [i for i in users.columns if 'location_' in i]"
   ]
  },
  {
   "cell_type": "code",
   "execution_count": 5,
   "metadata": {},
   "outputs": [
    {
     "data": {
      "text/html": [
       "<div>\n",
       "<style scoped>\n",
       "    .dataframe tbody tr th:only-of-type {\n",
       "        vertical-align: middle;\n",
       "    }\n",
       "\n",
       "    .dataframe tbody tr th {\n",
       "        vertical-align: top;\n",
       "    }\n",
       "\n",
       "    .dataframe thead th {\n",
       "        text-align: right;\n",
       "    }\n",
       "</style>\n",
       "<table border=\"1\" class=\"dataframe\">\n",
       "  <thead>\n",
       "    <tr style=\"text-align: right;\">\n",
       "      <th></th>\n",
       "      <th>location_part1</th>\n",
       "      <th>location_part2</th>\n",
       "      <th>location_part3</th>\n",
       "      <th>location_part4</th>\n",
       "      <th>location_part5</th>\n",
       "    </tr>\n",
       "  </thead>\n",
       "  <tbody>\n",
       "    <tr>\n",
       "      <th>0</th>\n",
       "      <td>unknown</td>\n",
       "      <td>unknown</td>\n",
       "      <td>timmins</td>\n",
       "      <td>ontario</td>\n",
       "      <td>canada</td>\n",
       "    </tr>\n",
       "    <tr>\n",
       "      <th>1</th>\n",
       "      <td>unknown</td>\n",
       "      <td>unknown</td>\n",
       "      <td>ottawa</td>\n",
       "      <td>ontario</td>\n",
       "      <td>canada</td>\n",
       "    </tr>\n",
       "    <tr>\n",
       "      <th>2</th>\n",
       "      <td>unknown</td>\n",
       "      <td>unknown</td>\n",
       "      <td>unknown</td>\n",
       "      <td>n/a</td>\n",
       "      <td>n/a</td>\n",
       "    </tr>\n",
       "    <tr>\n",
       "      <th>3</th>\n",
       "      <td>unknown</td>\n",
       "      <td>unknown</td>\n",
       "      <td>toronto</td>\n",
       "      <td>ontario</td>\n",
       "      <td>canada</td>\n",
       "    </tr>\n",
       "    <tr>\n",
       "      <th>4</th>\n",
       "      <td>unknown</td>\n",
       "      <td>unknown</td>\n",
       "      <td>victoria</td>\n",
       "      <td>british columbia</td>\n",
       "      <td>canada</td>\n",
       "    </tr>\n",
       "    <tr>\n",
       "      <th>...</th>\n",
       "      <td>...</td>\n",
       "      <td>...</td>\n",
       "      <td>...</td>\n",
       "      <td>...</td>\n",
       "      <td>...</td>\n",
       "    </tr>\n",
       "    <tr>\n",
       "      <th>68087</th>\n",
       "      <td>unknown</td>\n",
       "      <td>unknown</td>\n",
       "      <td>danville</td>\n",
       "      <td>pennsylvania</td>\n",
       "      <td>usa</td>\n",
       "    </tr>\n",
       "    <tr>\n",
       "      <th>68088</th>\n",
       "      <td>unknown</td>\n",
       "      <td>unknown</td>\n",
       "      <td>victoria</td>\n",
       "      <td>delaware</td>\n",
       "      <td>canada</td>\n",
       "    </tr>\n",
       "    <tr>\n",
       "      <th>68089</th>\n",
       "      <td>unknown</td>\n",
       "      <td>unknown</td>\n",
       "      <td>irvington</td>\n",
       "      <td>alabama</td>\n",
       "      <td>usa</td>\n",
       "    </tr>\n",
       "    <tr>\n",
       "      <th>68090</th>\n",
       "      <td>unknown</td>\n",
       "      <td>unknown</td>\n",
       "      <td>vancouver</td>\n",
       "      <td>washington</td>\n",
       "      <td>usa</td>\n",
       "    </tr>\n",
       "    <tr>\n",
       "      <th>68091</th>\n",
       "      <td>unknown</td>\n",
       "      <td>unknown</td>\n",
       "      <td>albuquerque</td>\n",
       "      <td>new mexico</td>\n",
       "      <td>usa</td>\n",
       "    </tr>\n",
       "  </tbody>\n",
       "</table>\n",
       "<p>68092 rows × 5 columns</p>\n",
       "</div>"
      ],
      "text/plain": [
       "      location_part1 location_part2 location_part3     location_part4  \\\n",
       "0            unknown        unknown        timmins            ontario   \n",
       "1            unknown        unknown         ottawa            ontario   \n",
       "2            unknown        unknown        unknown                n/a   \n",
       "3            unknown        unknown        toronto            ontario   \n",
       "4            unknown        unknown       victoria   british columbia   \n",
       "...              ...            ...            ...                ...   \n",
       "68087        unknown        unknown       danville       pennsylvania   \n",
       "68088        unknown        unknown       victoria           delaware   \n",
       "68089        unknown        unknown      irvington            alabama   \n",
       "68090        unknown        unknown      vancouver         washington   \n",
       "68091        unknown        unknown    albuquerque         new mexico   \n",
       "\n",
       "      location_part5  \n",
       "0             canada  \n",
       "1             canada  \n",
       "2                n/a  \n",
       "3             canada  \n",
       "4             canada  \n",
       "...              ...  \n",
       "68087            usa  \n",
       "68088         canada  \n",
       "68089            usa  \n",
       "68090            usa  \n",
       "68091            usa  \n",
       "\n",
       "[68092 rows x 5 columns]"
      ]
     },
     "execution_count": 5,
     "metadata": {},
     "output_type": "execute_result"
    }
   ],
   "source": [
    "users[locations] = users[locations].fillna('unknown')\n",
    "users[locations]"
   ]
  },
  {
   "cell_type": "code",
   "execution_count": 6,
   "metadata": {},
   "outputs": [],
   "source": [
    "users.to_csv('../data/users_m1.csv', index=False)\n",
    "!cp ../data/users_m1.csv ../data/users.csv"
   ]
  },
  {
   "cell_type": "code",
   "execution_count": 7,
   "metadata": {},
   "outputs": [],
   "source": [
    "test = test.merge(users[['user_id', *locations]], on='user_id', how='left')\n",
    "train = train.merge(users[['user_id', *locations]], on='user_id', how='left')\n",
    "sub = sub.merge(users[['user_id', *locations]], on='user_id', how='left')\n"
   ]
  },
  {
   "cell_type": "code",
   "execution_count": 8,
   "metadata": {},
   "outputs": [],
   "source": [
    "train.to_csv('../data/train_ratings_m1.csv', index=False)\n",
    "test.to_csv('../data/test_ratings_m1.csv', index=False)\n",
    "sub.to_csv('../data/sample_submission_m1.csv', index=False)"
   ]
  },
  {
   "cell_type": "code",
   "execution_count": 9,
   "metadata": {},
   "outputs": [],
   "source": [
    "!cp ../data/train_ratings_m1.csv ../data/train_ratings.csv\n",
    "!cp ../data/test_ratings_m1.csv ../data/test_ratings.csv\n",
    "!cp ../data/sample_submission_m1.csv ../data/sample_submission.csv"
   ]
  },
  {
   "cell_type": "markdown",
   "metadata": {},
   "source": [
    "### user 수치"
   ]
  },
  {
   "cell_type": "code",
   "execution_count": 10,
   "metadata": {},
   "outputs": [
    {
     "data": {
      "text/plain": [
       "['user_rating_count', 'user_rating_mode', 'user_rating_median']"
      ]
     },
     "execution_count": 10,
     "metadata": {},
     "output_type": "execute_result"
    }
   ],
   "source": [
    "user_ratings = [i for i in users.columns if 'user_rating' in i]\n",
    "user_ratings"
   ]
  },
  {
   "cell_type": "code",
   "execution_count": 11,
   "metadata": {},
   "outputs": [
    {
     "data": {
      "text/html": [
       "<div>\n",
       "<style scoped>\n",
       "    .dataframe tbody tr th:only-of-type {\n",
       "        vertical-align: middle;\n",
       "    }\n",
       "\n",
       "    .dataframe tbody tr th {\n",
       "        vertical-align: top;\n",
       "    }\n",
       "\n",
       "    .dataframe thead th {\n",
       "        text-align: right;\n",
       "    }\n",
       "</style>\n",
       "<table border=\"1\" class=\"dataframe\">\n",
       "  <thead>\n",
       "    <tr style=\"text-align: right;\">\n",
       "      <th></th>\n",
       "      <th>user_rating_count</th>\n",
       "      <th>user_rating_mode</th>\n",
       "      <th>user_rating_median</th>\n",
       "    </tr>\n",
       "  </thead>\n",
       "  <tbody>\n",
       "    <tr>\n",
       "      <th>0</th>\n",
       "      <td>7</td>\n",
       "      <td>2</td>\n",
       "      <td>4</td>\n",
       "    </tr>\n",
       "    <tr>\n",
       "      <th>1</th>\n",
       "      <td>12</td>\n",
       "      <td>7</td>\n",
       "      <td>7</td>\n",
       "    </tr>\n",
       "    <tr>\n",
       "      <th>2</th>\n",
       "      <td>5520</td>\n",
       "      <td>8</td>\n",
       "      <td>7</td>\n",
       "    </tr>\n",
       "    <tr>\n",
       "      <th>3</th>\n",
       "      <td>7</td>\n",
       "      <td>7</td>\n",
       "      <td>7</td>\n",
       "    </tr>\n",
       "    <tr>\n",
       "      <th>4</th>\n",
       "      <td>120</td>\n",
       "      <td>8</td>\n",
       "      <td>8</td>\n",
       "    </tr>\n",
       "    <tr>\n",
       "      <th>...</th>\n",
       "      <td>...</td>\n",
       "      <td>...</td>\n",
       "      <td>...</td>\n",
       "    </tr>\n",
       "    <tr>\n",
       "      <th>68087</th>\n",
       "      <td>1</td>\n",
       "      <td>7</td>\n",
       "      <td>7</td>\n",
       "    </tr>\n",
       "    <tr>\n",
       "      <th>68088</th>\n",
       "      <td>1</td>\n",
       "      <td>8</td>\n",
       "      <td>8</td>\n",
       "    </tr>\n",
       "    <tr>\n",
       "      <th>68089</th>\n",
       "      <td>1</td>\n",
       "      <td>2</td>\n",
       "      <td>2</td>\n",
       "    </tr>\n",
       "    <tr>\n",
       "      <th>68090</th>\n",
       "      <td>1</td>\n",
       "      <td>10</td>\n",
       "      <td>10</td>\n",
       "    </tr>\n",
       "    <tr>\n",
       "      <th>68091</th>\n",
       "      <td>1</td>\n",
       "      <td>7</td>\n",
       "      <td>7</td>\n",
       "    </tr>\n",
       "  </tbody>\n",
       "</table>\n",
       "<p>68092 rows × 3 columns</p>\n",
       "</div>"
      ],
      "text/plain": [
       "       user_rating_count  user_rating_mode  user_rating_median\n",
       "0                      7                 2                   4\n",
       "1                     12                 7                   7\n",
       "2                   5520                 8                   7\n",
       "3                      7                 7                   7\n",
       "4                    120                 8                   8\n",
       "...                  ...               ...                 ...\n",
       "68087                  1                 7                   7\n",
       "68088                  1                 8                   8\n",
       "68089                  1                 2                   2\n",
       "68090                  1                10                  10\n",
       "68091                  1                 7                   7\n",
       "\n",
       "[68092 rows x 3 columns]"
      ]
     },
     "execution_count": 11,
     "metadata": {},
     "output_type": "execute_result"
    }
   ],
   "source": [
    "users[user_ratings] = users[user_ratings].fillna(0)\n",
    "users['user_rating_count'] = users['user_rating_count'].astype('int')\n",
    "users['user_rating_mode'] = users['user_rating_mode'].astype('int')\n",
    "users['user_rating_median'] = users['user_rating_median'].astype('int')\n",
    "users[user_ratings]"
   ]
  },
  {
   "cell_type": "code",
   "execution_count": 12,
   "metadata": {},
   "outputs": [
    {
     "data": {
      "text/plain": [
       "5520"
      ]
     },
     "execution_count": 12,
     "metadata": {},
     "output_type": "execute_result"
    }
   ],
   "source": [
    "max(users['user_rating_count'].values)"
   ]
  },
  {
   "cell_type": "code",
   "execution_count": 13,
   "metadata": {},
   "outputs": [
    {
     "name": "stdout",
     "output_type": "stream",
     "text": [
      "<class 'pandas.core.frame.DataFrame'>\n",
      "RangeIndex: 68092 entries, 0 to 68091\n",
      "Data columns (total 11 columns):\n",
      " #   Column              Non-Null Count  Dtype  \n",
      "---  ------              --------------  -----  \n",
      " 0   user_id             68092 non-null  int64  \n",
      " 1   location            68092 non-null  object \n",
      " 2   age                 40259 non-null  float64\n",
      " 3   location_part1      68092 non-null  object \n",
      " 4   location_part2      68092 non-null  object \n",
      " 5   location_part3      68092 non-null  object \n",
      " 6   location_part4      68092 non-null  object \n",
      " 7   location_part5      68092 non-null  object \n",
      " 8   user_rating_count   68092 non-null  int64  \n",
      " 9   user_rating_mode    68092 non-null  int64  \n",
      " 10  user_rating_median  68092 non-null  int64  \n",
      "dtypes: float64(1), int64(4), object(6)\n",
      "memory usage: 5.7+ MB\n"
     ]
    }
   ],
   "source": [
    "users.info(0)"
   ]
  },
  {
   "cell_type": "code",
   "execution_count": 14,
   "metadata": {},
   "outputs": [],
   "source": [
    "users.to_csv('../data/users_m1.csv', index=False)\n",
    "!cp ../data/users_m1.csv ../data/users.csv"
   ]
  },
  {
   "cell_type": "code",
   "execution_count": 15,
   "metadata": {},
   "outputs": [],
   "source": [
    "test = test.merge(users[['user_id', *user_ratings]], on='user_id', how='left')\n",
    "train = train.merge(users[['user_id', *user_ratings]], on='user_id', how='left')\n",
    "sub = sub.merge(users[['user_id', *user_ratings]], on='user_id', how='left')"
   ]
  },
  {
   "cell_type": "code",
   "execution_count": 16,
   "metadata": {},
   "outputs": [],
   "source": [
    "train.to_csv('../data/train_ratings_m1.csv', index=False)\n",
    "test.to_csv('../data/test_ratings_m1.csv', index=False)\n",
    "sub.to_csv('../data/sample_submission_m1.csv', index=False)"
   ]
  },
  {
   "cell_type": "code",
   "execution_count": 17,
   "metadata": {},
   "outputs": [],
   "source": [
    "!cp ../data/train_ratings_m1.csv ../data/train_ratings.csv\n",
    "!cp ../data/test_ratings_m1.csv ../data/test_ratings.csv\n",
    "!cp ../data/sample_submission_m1.csv ../data/sample_submission.csv"
   ]
  },
  {
   "cell_type": "code",
   "execution_count": 18,
   "metadata": {},
   "outputs": [],
   "source": [
    "# !conda install scipy -y\n",
    "# !conda install scikit-learn -y"
   ]
  },
  {
   "cell_type": "code",
   "execution_count": 26,
   "metadata": {},
   "outputs": [],
   "source": [
    "from sklearn.model_selection import train_test_split\n",
    "\n",
    "seed=42\n",
    "\n",
    "X_train, X_test_tmp, y_train, y_test_tmp = train_test_split(ratings[['user_id', 'isbn']], ratings['rating'], test_size=0.4, random_state=seed)\n",
    "X_valid, X_test, y_valid, y_test = train_test_split(X_test_tmp, y_test_tmp, test_size=0.5, random_state=seed)"
   ]
  },
  {
   "cell_type": "code",
   "execution_count": 30,
   "metadata": {},
   "outputs": [],
   "source": [
    "def df_to_arr(X: pd.DataFrame, y: pd.Series, arr: np.ndarray) -> np.ndarray:\n",
    "  for i, value in enumerate(X.values):\n",
    "    arr[value[0], value[1]] += y.values[i]\n",
    "\n",
    "  return arr\n",
    "\n",
    "train = np.zeros((len(user2idx), len(book2idx)))\n",
    "valid = np.zeros((len(user2idx), len(book2idx)))\n",
    "test = np.zeros((len(user2idx), len(book2idx)))\n",
    "\n",
    "train = df_to_arr(X_train, y_train, train)\n",
    "valid = df_to_arr(X_valid, y_valid, valid)\n",
    "test = df_to_arr(X_test, y_test, test)"
   ]
  },
  {
   "cell_type": "code",
   "execution_count": 34,
   "metadata": {},
   "outputs": [],
   "source": [
    "from scipy.sparse import csr_matrix, linalg\n",
    "\n",
    "def truncated_svd(mat: np.ndarray, k: int=100):\n",
    "  u, s, vh = linalg.svds(csr_matrix(train), k)\n",
    "  return u @ np.diag(s) @ vh"
   ]
  },
  {
   "cell_type": "code",
   "execution_count": 35,
   "metadata": {},
   "outputs": [
    {
     "ename": "",
     "evalue": "",
     "output_type": "error",
     "traceback": [
      "\u001b[1;31mThe Kernel crashed while executing code in the the current cell or a previous cell. Please review the code in the cell(s) to identify a possible cause of the failure. Click <a href='https://aka.ms/vscodeJupyterKernelCrash'>here</a> for more info. View Jupyter <a href='command:jupyter.viewOutput'>log</a> for further details."
     ]
    }
   ],
   "source": [
    "svd_output2 = truncated_svd(train, k=2)\n",
    "svd_output5 = truncated_svd(train, k=5)\n",
    "svd_output10 = truncated_svd(train, k=10)"
   ]
  },
  {
   "cell_type": "code",
   "execution_count": null,
   "metadata": {},
   "outputs": [],
   "source": [
    "def modify_range(rating: float) -> float:\n",
    "  if rating < 0:\n",
    "    return 0\n",
    "  elif rating > 10:\n",
    "    return 10\n",
    "  else:\n",
    "    return rating\n",
    "  \n",
    "def matrix_rmse(real_mat: np.ndarray, predict_mat: np.ndarray) -> float:\n",
    "  indicator = np.stack(real_mat.nonzero(), axis=1)\n",
    "\n",
    "  cost = 0\n",
    "  for i, ind in enumerate(indicator):\n",
    "    pred = predict_mat[ind[0], ind[1]]\n",
    "    real = real_mat[ind[0], ind[1]]\n",
    "    cost += pow(real - modify_range(pred), 2)\n",
    "\n",
    "  return np.sqrt(cost/ len(indicator))"
   ]
  },
  {
   "cell_type": "code",
   "execution_count": null,
   "metadata": {},
   "outputs": [],
   "source": [
    "print(\"k=2 : \", matrix_rmse(test, svd_output2))\n",
    "print(\"k=5 : \", matrix_rmse(test, svd_output5))\n",
    "print(\"k=10 : \", matrix_rmse(test, svd_output10))"
   ]
  }
 ],
 "metadata": {
  "kernelspec": {
   "display_name": "p1",
   "language": "python",
   "name": "python3"
  },
  "language_info": {
   "codemirror_mode": {
    "name": "ipython",
    "version": 3
   },
   "file_extension": ".py",
   "mimetype": "text/x-python",
   "name": "python",
   "nbconvert_exporter": "python",
   "pygments_lexer": "ipython3",
   "version": "3.10.13"
  }
 },
 "nbformat": 4,
 "nbformat_minor": 2
}
