{
 "cells": [
  {
   "cell_type": "code",
   "execution_count": 1,
   "metadata": {},
   "outputs": [],
   "source": [
    "import pandas as pd\n",
    "import matplotlib.pyplot as plt\n",
    "import seaborn as sns\n",
    "import numpy as np\n",
    "import tqdm\n",
    "import time\n",
    "import fasttext"
   ]
  },
  {
   "cell_type": "code",
   "execution_count": 2,
   "metadata": {},
   "outputs": [],
   "source": [
    "books = pd.read_csv('../data/books.csv.bak')"
   ]
  },
  {
   "cell_type": "code",
   "execution_count": 3,
   "metadata": {},
   "outputs": [
    {
     "name": "stdout",
     "output_type": "stream",
     "text": [
      "<class 'pandas.core.frame.DataFrame'>\n",
      "RangeIndex: 149570 entries, 0 to 149569\n",
      "Data columns (total 10 columns):\n",
      " #   Column               Non-Null Count   Dtype  \n",
      "---  ------               --------------   -----  \n",
      " 0   isbn                 149570 non-null  object \n",
      " 1   book_title           149570 non-null  object \n",
      " 2   book_author          149569 non-null  object \n",
      " 3   year_of_publication  149570 non-null  float64\n",
      " 4   publisher            149570 non-null  object \n",
      " 5   img_url              149570 non-null  object \n",
      " 6   language             82343 non-null   object \n",
      " 7   category             80719 non-null   object \n",
      " 8   summary              82343 non-null   object \n",
      " 9   img_path             149570 non-null  object \n",
      "dtypes: float64(1), object(9)\n",
      "memory usage: 11.4+ MB\n"
     ]
    }
   ],
   "source": [
    "books.info()"
   ]
  },
  {
   "cell_type": "code",
   "execution_count": 4,
   "metadata": {},
   "outputs": [
    {
     "data": {
      "text/html": [
       "<div>\n",
       "<style scoped>\n",
       "    .dataframe tbody tr th:only-of-type {\n",
       "        vertical-align: middle;\n",
       "    }\n",
       "\n",
       "    .dataframe tbody tr th {\n",
       "        vertical-align: top;\n",
       "    }\n",
       "\n",
       "    .dataframe thead th {\n",
       "        text-align: right;\n",
       "    }\n",
       "</style>\n",
       "<table border=\"1\" class=\"dataframe\">\n",
       "  <thead>\n",
       "    <tr style=\"text-align: right;\">\n",
       "      <th></th>\n",
       "      <th>isbn</th>\n",
       "      <th>book_title</th>\n",
       "      <th>book_author</th>\n",
       "      <th>year_of_publication</th>\n",
       "      <th>publisher</th>\n",
       "      <th>img_url</th>\n",
       "      <th>language</th>\n",
       "      <th>category</th>\n",
       "      <th>summary</th>\n",
       "      <th>img_path</th>\n",
       "    </tr>\n",
       "  </thead>\n",
       "  <tbody>\n",
       "    <tr>\n",
       "      <th>0</th>\n",
       "      <td>0002005018</td>\n",
       "      <td>Clara Callan</td>\n",
       "      <td>Richard Bruce Wright</td>\n",
       "      <td>2001.0</td>\n",
       "      <td>HarperFlamingo Canada</td>\n",
       "      <td>http://images.amazon.com/images/P/0002005018.0...</td>\n",
       "      <td>en</td>\n",
       "      <td>['Actresses']</td>\n",
       "      <td>In a small town in Canada, Clara Callan reluct...</td>\n",
       "      <td>images/0002005018.01.THUMBZZZ.jpg</td>\n",
       "    </tr>\n",
       "    <tr>\n",
       "      <th>1</th>\n",
       "      <td>0060973129</td>\n",
       "      <td>Decision in Normandy</td>\n",
       "      <td>Carlo D'Este</td>\n",
       "      <td>1991.0</td>\n",
       "      <td>HarperPerennial</td>\n",
       "      <td>http://images.amazon.com/images/P/0060973129.0...</td>\n",
       "      <td>en</td>\n",
       "      <td>['1940-1949']</td>\n",
       "      <td>Here, for the first time in paperback, is an o...</td>\n",
       "      <td>images/0060973129.01.THUMBZZZ.jpg</td>\n",
       "    </tr>\n",
       "    <tr>\n",
       "      <th>2</th>\n",
       "      <td>0374157065</td>\n",
       "      <td>Flu: The Story of the Great Influenza Pandemic...</td>\n",
       "      <td>Gina Bari Kolata</td>\n",
       "      <td>1999.0</td>\n",
       "      <td>Farrar Straus Giroux</td>\n",
       "      <td>http://images.amazon.com/images/P/0374157065.0...</td>\n",
       "      <td>en</td>\n",
       "      <td>['Medical']</td>\n",
       "      <td>Describes the great flu epidemic of 1918, an o...</td>\n",
       "      <td>images/0374157065.01.THUMBZZZ.jpg</td>\n",
       "    </tr>\n",
       "    <tr>\n",
       "      <th>3</th>\n",
       "      <td>0399135782</td>\n",
       "      <td>The Kitchen God's Wife</td>\n",
       "      <td>Amy Tan</td>\n",
       "      <td>1991.0</td>\n",
       "      <td>Putnam Pub Group</td>\n",
       "      <td>http://images.amazon.com/images/P/0399135782.0...</td>\n",
       "      <td>en</td>\n",
       "      <td>['Fiction']</td>\n",
       "      <td>A Chinese immigrant who is convinced she is dy...</td>\n",
       "      <td>images/0399135782.01.THUMBZZZ.jpg</td>\n",
       "    </tr>\n",
       "    <tr>\n",
       "      <th>4</th>\n",
       "      <td>0425176428</td>\n",
       "      <td>What If?: The World's Foremost Military Histor...</td>\n",
       "      <td>Robert Cowley</td>\n",
       "      <td>2000.0</td>\n",
       "      <td>Berkley Publishing Group</td>\n",
       "      <td>http://images.amazon.com/images/P/0425176428.0...</td>\n",
       "      <td>en</td>\n",
       "      <td>['History']</td>\n",
       "      <td>Essays by respected military historians, inclu...</td>\n",
       "      <td>images/0425176428.01.THUMBZZZ.jpg</td>\n",
       "    </tr>\n",
       "  </tbody>\n",
       "</table>\n",
       "</div>"
      ],
      "text/plain": [
       "         isbn                                         book_title  \\\n",
       "0  0002005018                                       Clara Callan   \n",
       "1  0060973129                               Decision in Normandy   \n",
       "2  0374157065  Flu: The Story of the Great Influenza Pandemic...   \n",
       "3  0399135782                             The Kitchen God's Wife   \n",
       "4  0425176428  What If?: The World's Foremost Military Histor...   \n",
       "\n",
       "            book_author  year_of_publication                 publisher  \\\n",
       "0  Richard Bruce Wright               2001.0     HarperFlamingo Canada   \n",
       "1          Carlo D'Este               1991.0           HarperPerennial   \n",
       "2      Gina Bari Kolata               1999.0      Farrar Straus Giroux   \n",
       "3               Amy Tan               1991.0          Putnam Pub Group   \n",
       "4         Robert Cowley               2000.0  Berkley Publishing Group   \n",
       "\n",
       "                                             img_url language       category  \\\n",
       "0  http://images.amazon.com/images/P/0002005018.0...       en  ['Actresses']   \n",
       "1  http://images.amazon.com/images/P/0060973129.0...       en  ['1940-1949']   \n",
       "2  http://images.amazon.com/images/P/0374157065.0...       en    ['Medical']   \n",
       "3  http://images.amazon.com/images/P/0399135782.0...       en    ['Fiction']   \n",
       "4  http://images.amazon.com/images/P/0425176428.0...       en    ['History']   \n",
       "\n",
       "                                             summary  \\\n",
       "0  In a small town in Canada, Clara Callan reluct...   \n",
       "1  Here, for the first time in paperback, is an o...   \n",
       "2  Describes the great flu epidemic of 1918, an o...   \n",
       "3  A Chinese immigrant who is convinced she is dy...   \n",
       "4  Essays by respected military historians, inclu...   \n",
       "\n",
       "                            img_path  \n",
       "0  images/0002005018.01.THUMBZZZ.jpg  \n",
       "1  images/0060973129.01.THUMBZZZ.jpg  \n",
       "2  images/0374157065.01.THUMBZZZ.jpg  \n",
       "3  images/0399135782.01.THUMBZZZ.jpg  \n",
       "4  images/0425176428.01.THUMBZZZ.jpg  "
      ]
     },
     "execution_count": 4,
     "metadata": {},
     "output_type": "execute_result"
    }
   ],
   "source": [
    "books.head()"
   ]
  },
  {
   "cell_type": "code",
   "execution_count": 5,
   "metadata": {},
   "outputs": [
    {
     "name": "stdout",
     "output_type": "stream",
     "text": [
      "<class 'pandas.core.frame.DataFrame'>\n",
      "RangeIndex: 149570 entries, 0 to 149569\n",
      "Data columns (total 10 columns):\n",
      " #   Column               Non-Null Count   Dtype \n",
      "---  ------               --------------   ----- \n",
      " 0   isbn                 149570 non-null  object\n",
      " 1   book_title           149570 non-null  object\n",
      " 2   book_author          149569 non-null  object\n",
      " 3   year_of_publication  149570 non-null  int64 \n",
      " 4   publisher            149570 non-null  object\n",
      " 5   img_url              149570 non-null  object\n",
      " 6   language             82343 non-null   object\n",
      " 7   category             80719 non-null   object\n",
      " 8   summary              82343 non-null   object\n",
      " 9   img_path             149570 non-null  object\n",
      "dtypes: int64(1), object(9)\n",
      "memory usage: 11.4+ MB\n"
     ]
    }
   ],
   "source": [
    "books['year_of_publication'] = books['year_of_publication'].astype('int')\n",
    "books.info()"
   ]
  },
  {
   "cell_type": "code",
   "execution_count": 6,
   "metadata": {},
   "outputs": [],
   "source": [
    "books.drop('img_url', axis=1, inplace=True)"
   ]
  },
  {
   "cell_type": "code",
   "execution_count": 7,
   "metadata": {},
   "outputs": [
    {
     "name": "stdout",
     "output_type": "stream",
     "text": [
      "<class 'pandas.core.frame.DataFrame'>\n",
      "RangeIndex: 149570 entries, 0 to 149569\n",
      "Data columns (total 9 columns):\n",
      " #   Column               Non-Null Count   Dtype \n",
      "---  ------               --------------   ----- \n",
      " 0   isbn                 149570 non-null  object\n",
      " 1   book_title           149570 non-null  object\n",
      " 2   book_author          149569 non-null  object\n",
      " 3   year_of_publication  149570 non-null  int64 \n",
      " 4   publisher            149570 non-null  object\n",
      " 5   language             82343 non-null   object\n",
      " 6   category             80719 non-null   object\n",
      " 7   summary              82343 non-null   object\n",
      " 8   img_path             149570 non-null  object\n",
      "dtypes: int64(1), object(8)\n",
      "memory usage: 10.3+ MB\n"
     ]
    }
   ],
   "source": [
    "books.info()"
   ]
  },
  {
   "cell_type": "code",
   "execution_count": 8,
   "metadata": {},
   "outputs": [
    {
     "data": {
      "image/png": "[encoded data removed]",
      "text/plain": [
       "<Figure size 1100x600 with 1 Axes>"
      ]
     },
     "metadata": {},
     "output_type": "display_data"
    }
   ],
   "source": [
    "my_dict=(books['year_of_publication'].value_counts()).to_dict()\n",
    "count = pd.DataFrame(list(my_dict.items()), columns = ['year', 'count'])\n",
    "f = count.sort_values(by=['count'], ascending = False)\n",
    "f = f.head(15)\n",
    "\n",
    "fig = plt.figure(figsize=(11,6))\n",
    "ax = sns.barplot(y = 'count', x= 'year', data = f)\n",
    "ax.set_xticklabels(ax.get_xticklabels(), rotation=60, horizontalalignment='center')\n",
    "for bar in ax.patches:\n",
    "    ax.annotate(format(bar.get_height(), '.0f'),\n",
    "                (bar.get_x() + bar.get_width() / 2,\n",
    "                 bar.get_height()), ha='center', va='center',\n",
    "                 size=8, xytext=(0, 8),\n",
    "                 textcoords='offset points')\n",
    "\n",
    "plt.show()"
   ]
  },
  {
   "cell_type": "markdown",
   "metadata": {},
   "source": [
    "# book_author가 nan인 부분 채워넣기"
   ]
  },
  {
   "cell_type": "code",
   "execution_count": 9,
   "metadata": {},
   "outputs": [
    {
     "data": {
      "text/html": [
       "<div>\n",
       "<style scoped>\n",
       "    .dataframe tbody tr th:only-of-type {\n",
       "        vertical-align: middle;\n",
       "    }\n",
       "\n",
       "    .dataframe tbody tr th {\n",
       "        vertical-align: top;\n",
       "    }\n",
       "\n",
       "    .dataframe thead th {\n",
       "        text-align: right;\n",
       "    }\n",
       "</style>\n",
       "<table border=\"1\" class=\"dataframe\">\n",
       "  <thead>\n",
       "    <tr style=\"text-align: right;\">\n",
       "      <th></th>\n",
       "      <th>isbn</th>\n",
       "      <th>book_title</th>\n",
       "      <th>book_author</th>\n",
       "      <th>year_of_publication</th>\n",
       "      <th>publisher</th>\n",
       "      <th>language</th>\n",
       "      <th>category</th>\n",
       "      <th>summary</th>\n",
       "      <th>img_path</th>\n",
       "    </tr>\n",
       "  </thead>\n",
       "  <tbody>\n",
       "    <tr>\n",
       "      <th>73737</th>\n",
       "      <td>0751352497</td>\n",
       "      <td>A+ Quiz Masters:01 Earth</td>\n",
       "      <td>NaN</td>\n",
       "      <td>1999</td>\n",
       "      <td>Dorling Kindersley</td>\n",
       "      <td>NaN</td>\n",
       "      <td>NaN</td>\n",
       "      <td>NaN</td>\n",
       "      <td>images/0751352497.01.THUMBZZZ.jpg</td>\n",
       "    </tr>\n",
       "  </tbody>\n",
       "</table>\n",
       "</div>"
      ],
      "text/plain": [
       "             isbn                book_title book_author  year_of_publication  \\\n",
       "73737  0751352497  A+ Quiz Masters:01 Earth         NaN                 1999   \n",
       "\n",
       "                publisher language category summary  \\\n",
       "73737  Dorling Kindersley      NaN      NaN     NaN   \n",
       "\n",
       "                                img_path  \n",
       "73737  images/0751352497.01.THUMBZZZ.jpg  "
      ]
     },
     "execution_count": 9,
     "metadata": {},
     "output_type": "execute_result"
    }
   ],
   "source": [
    "books[books['book_author'].isnull()]"
   ]
  },
  {
   "cell_type": "code",
   "execution_count": 10,
   "metadata": {},
   "outputs": [
    {
     "name": "stdout",
     "output_type": "stream",
     "text": [
      "<class 'pandas.core.frame.DataFrame'>\n",
      "RangeIndex: 149570 entries, 0 to 149569\n",
      "Data columns (total 9 columns):\n",
      " #   Column               Non-Null Count   Dtype \n",
      "---  ------               --------------   ----- \n",
      " 0   isbn                 149570 non-null  object\n",
      " 1   book_title           149570 non-null  object\n",
      " 2   book_author          149570 non-null  object\n",
      " 3   year_of_publication  149570 non-null  int64 \n",
      " 4   publisher            149570 non-null  object\n",
      " 5   language             82343 non-null   object\n",
      " 6   category             80719 non-null   object\n",
      " 7   summary              82343 non-null   object\n",
      " 8   img_path             149570 non-null  object\n",
      "dtypes: int64(1), object(8)\n",
      "memory usage: 10.3+ MB\n"
     ]
    }
   ],
   "source": [
    "books['book_author'].fillna('unknown', inplace=True)\n",
    "books.info()"
   ]
  },
  {
   "cell_type": "markdown",
   "metadata": {},
   "source": [
    "# language가 nan인 부분 채워넣기"
   ]
  },
  {
   "cell_type": "code",
   "execution_count": 11,
   "metadata": {},
   "outputs": [
    {
     "data": {
      "text/html": [
       "<div>\n",
       "<style scoped>\n",
       "    .dataframe tbody tr th:only-of-type {\n",
       "        vertical-align: middle;\n",
       "    }\n",
       "\n",
       "    .dataframe tbody tr th {\n",
       "        vertical-align: top;\n",
       "    }\n",
       "\n",
       "    .dataframe thead th {\n",
       "        text-align: right;\n",
       "    }\n",
       "</style>\n",
       "<table border=\"1\" class=\"dataframe\">\n",
       "  <thead>\n",
       "    <tr style=\"text-align: right;\">\n",
       "      <th></th>\n",
       "      <th>isbn</th>\n",
       "      <th>book_title</th>\n",
       "      <th>book_author</th>\n",
       "      <th>year_of_publication</th>\n",
       "      <th>publisher</th>\n",
       "      <th>language</th>\n",
       "      <th>category</th>\n",
       "      <th>summary</th>\n",
       "      <th>img_path</th>\n",
       "    </tr>\n",
       "  </thead>\n",
       "  <tbody>\n",
       "    <tr>\n",
       "      <th>5</th>\n",
       "      <td>0671870432</td>\n",
       "      <td>PLEADING GUILTY</td>\n",
       "      <td>Scott Turow</td>\n",
       "      <td>1993</td>\n",
       "      <td>Audioworks</td>\n",
       "      <td>NaN</td>\n",
       "      <td>NaN</td>\n",
       "      <td>NaN</td>\n",
       "      <td>images/0671870432.01.THUMBZZZ.jpg</td>\n",
       "    </tr>\n",
       "    <tr>\n",
       "      <th>8</th>\n",
       "      <td>0887841740</td>\n",
       "      <td>The Middle Stories</td>\n",
       "      <td>Sheila Heti</td>\n",
       "      <td>2004</td>\n",
       "      <td>House of Anansi Press</td>\n",
       "      <td>NaN</td>\n",
       "      <td>NaN</td>\n",
       "      <td>NaN</td>\n",
       "      <td>images/0887841740.01.THUMBZZZ.jpg</td>\n",
       "    </tr>\n",
       "    <tr>\n",
       "      <th>9</th>\n",
       "      <td>1552041778</td>\n",
       "      <td>Jane Doe</td>\n",
       "      <td>R. J. Kaiser</td>\n",
       "      <td>1999</td>\n",
       "      <td>Mira Books</td>\n",
       "      <td>NaN</td>\n",
       "      <td>NaN</td>\n",
       "      <td>NaN</td>\n",
       "      <td>images/1552041778.01.THUMBZZZ.jpg</td>\n",
       "    </tr>\n",
       "    <tr>\n",
       "      <th>10</th>\n",
       "      <td>1558746218</td>\n",
       "      <td>A Second Chicken Soup for the Woman's Soul (Ch...</td>\n",
       "      <td>Jack Canfield</td>\n",
       "      <td>1998</td>\n",
       "      <td>Health Communications</td>\n",
       "      <td>NaN</td>\n",
       "      <td>NaN</td>\n",
       "      <td>NaN</td>\n",
       "      <td>images/1558746218.01.THUMBZZZ.jpg</td>\n",
       "    </tr>\n",
       "    <tr>\n",
       "      <th>11</th>\n",
       "      <td>1567407781</td>\n",
       "      <td>The Witchfinder (Amos Walker Mystery Series)</td>\n",
       "      <td>Loren D. Estleman</td>\n",
       "      <td>1998</td>\n",
       "      <td>Brilliance Audio - Trade</td>\n",
       "      <td>NaN</td>\n",
       "      <td>NaN</td>\n",
       "      <td>NaN</td>\n",
       "      <td>images/1567407781.01.THUMBZZZ.jpg</td>\n",
       "    </tr>\n",
       "    <tr>\n",
       "      <th>...</th>\n",
       "      <td>...</td>\n",
       "      <td>...</td>\n",
       "      <td>...</td>\n",
       "      <td>...</td>\n",
       "      <td>...</td>\n",
       "      <td>...</td>\n",
       "      <td>...</td>\n",
       "      <td>...</td>\n",
       "      <td>...</td>\n",
       "    </tr>\n",
       "    <tr>\n",
       "      <th>149560</th>\n",
       "      <td>0345330293</td>\n",
       "      <td>Town Like Alice</td>\n",
       "      <td>Nevil Shute</td>\n",
       "      <td>1981</td>\n",
       "      <td>Ballantine Books</td>\n",
       "      <td>NaN</td>\n",
       "      <td>NaN</td>\n",
       "      <td>NaN</td>\n",
       "      <td>images/0345330293.01.THUMBZZZ.jpg</td>\n",
       "    </tr>\n",
       "    <tr>\n",
       "      <th>149561</th>\n",
       "      <td>8408044079</td>\n",
       "      <td>LA Muerte Del Decano</td>\n",
       "      <td>Gonzalo Torrrente Ballester</td>\n",
       "      <td>2002</td>\n",
       "      <td>Planeta Publishing Corporation</td>\n",
       "      <td>NaN</td>\n",
       "      <td>NaN</td>\n",
       "      <td>NaN</td>\n",
       "      <td>images/8408044079.01.THUMBZZZ.jpg</td>\n",
       "    </tr>\n",
       "    <tr>\n",
       "      <th>149564</th>\n",
       "      <td>0743525493</td>\n",
       "      <td>The Motley Fool's What To Do with Your Money N...</td>\n",
       "      <td>David Gardner</td>\n",
       "      <td>2002</td>\n",
       "      <td>Simon &amp; Schuster Audio</td>\n",
       "      <td>NaN</td>\n",
       "      <td>NaN</td>\n",
       "      <td>NaN</td>\n",
       "      <td>images/0743525493.01.THUMBZZZ.jpg</td>\n",
       "    </tr>\n",
       "    <tr>\n",
       "      <th>149567</th>\n",
       "      <td>0884159221</td>\n",
       "      <td>Why stop?: A guide to Texas historical roadsid...</td>\n",
       "      <td>Claude Dooley</td>\n",
       "      <td>1985</td>\n",
       "      <td>Lone Star Books</td>\n",
       "      <td>NaN</td>\n",
       "      <td>NaN</td>\n",
       "      <td>NaN</td>\n",
       "      <td>images/0884159221.01.THUMBZZZ.jpg</td>\n",
       "    </tr>\n",
       "    <tr>\n",
       "      <th>149569</th>\n",
       "      <td>1569661057</td>\n",
       "      <td>Dallas Street Map Guide and Directory, 2000 Ed...</td>\n",
       "      <td>Mapsco</td>\n",
       "      <td>1999</td>\n",
       "      <td>American Map Corporation</td>\n",
       "      <td>NaN</td>\n",
       "      <td>NaN</td>\n",
       "      <td>NaN</td>\n",
       "      <td>images/1569661057.01.THUMBZZZ.jpg</td>\n",
       "    </tr>\n",
       "  </tbody>\n",
       "</table>\n",
       "<p>67227 rows × 9 columns</p>\n",
       "</div>"
      ],
      "text/plain": [
       "              isbn                                         book_title  \\\n",
       "5       0671870432                                    PLEADING GUILTY   \n",
       "8       0887841740                                 The Middle Stories   \n",
       "9       1552041778                                           Jane Doe   \n",
       "10      1558746218  A Second Chicken Soup for the Woman's Soul (Ch...   \n",
       "11      1567407781       The Witchfinder (Amos Walker Mystery Series)   \n",
       "...            ...                                                ...   \n",
       "149560  0345330293                                    Town Like Alice   \n",
       "149561  8408044079                               LA Muerte Del Decano   \n",
       "149564  0743525493  The Motley Fool's What To Do with Your Money N...   \n",
       "149567  0884159221  Why stop?: A guide to Texas historical roadsid...   \n",
       "149569  1569661057  Dallas Street Map Guide and Directory, 2000 Ed...   \n",
       "\n",
       "                        book_author  year_of_publication  \\\n",
       "5                       Scott Turow                 1993   \n",
       "8                       Sheila Heti                 2004   \n",
       "9                      R. J. Kaiser                 1999   \n",
       "10                    Jack Canfield                 1998   \n",
       "11                Loren D. Estleman                 1998   \n",
       "...                             ...                  ...   \n",
       "149560                  Nevil Shute                 1981   \n",
       "149561  Gonzalo Torrrente Ballester                 2002   \n",
       "149564                David Gardner                 2002   \n",
       "149567                Claude Dooley                 1985   \n",
       "149569                       Mapsco                 1999   \n",
       "\n",
       "                             publisher language category summary  \\\n",
       "5                           Audioworks      NaN      NaN     NaN   \n",
       "8                House of Anansi Press      NaN      NaN     NaN   \n",
       "9                           Mira Books      NaN      NaN     NaN   \n",
       "10               Health Communications      NaN      NaN     NaN   \n",
       "11            Brilliance Audio - Trade      NaN      NaN     NaN   \n",
       "...                                ...      ...      ...     ...   \n",
       "149560                Ballantine Books      NaN      NaN     NaN   \n",
       "149561  Planeta Publishing Corporation      NaN      NaN     NaN   \n",
       "149564          Simon & Schuster Audio      NaN      NaN     NaN   \n",
       "149567                 Lone Star Books      NaN      NaN     NaN   \n",
       "149569        American Map Corporation      NaN      NaN     NaN   \n",
       "\n",
       "                                 img_path  \n",
       "5       images/0671870432.01.THUMBZZZ.jpg  \n",
       "8       images/0887841740.01.THUMBZZZ.jpg  \n",
       "9       images/1552041778.01.THUMBZZZ.jpg  \n",
       "10      images/1558746218.01.THUMBZZZ.jpg  \n",
       "11      images/1567407781.01.THUMBZZZ.jpg  \n",
       "...                                   ...  \n",
       "149560  images/0345330293.01.THUMBZZZ.jpg  \n",
       "149561  images/8408044079.01.THUMBZZZ.jpg  \n",
       "149564  images/0743525493.01.THUMBZZZ.jpg  \n",
       "149567  images/0884159221.01.THUMBZZZ.jpg  \n",
       "149569  images/1569661057.01.THUMBZZZ.jpg  \n",
       "\n",
       "[67227 rows x 9 columns]"
      ]
     },
     "execution_count": 11,
     "metadata": {},
     "output_type": "execute_result"
    }
   ],
   "source": [
    "lang_nul = books[books['language'].isnull()]\n",
    "lang_nul"
   ]
  },
  {
   "cell_type": "code",
   "execution_count": 12,
   "metadata": {},
   "outputs": [
    {
     "data": {
      "text/html": [
       "<div>\n",
       "<style scoped>\n",
       "    .dataframe tbody tr th:only-of-type {\n",
       "        vertical-align: middle;\n",
       "    }\n",
       "\n",
       "    .dataframe tbody tr th {\n",
       "        vertical-align: top;\n",
       "    }\n",
       "\n",
       "    .dataframe thead th {\n",
       "        text-align: right;\n",
       "    }\n",
       "</style>\n",
       "<table border=\"1\" class=\"dataframe\">\n",
       "  <thead>\n",
       "    <tr style=\"text-align: right;\">\n",
       "      <th></th>\n",
       "      <th>isbn</th>\n",
       "      <th>book_title</th>\n",
       "      <th>book_author</th>\n",
       "      <th>year_of_publication</th>\n",
       "      <th>publisher</th>\n",
       "      <th>language</th>\n",
       "      <th>category</th>\n",
       "      <th>summary</th>\n",
       "      <th>img_path</th>\n",
       "    </tr>\n",
       "  </thead>\n",
       "  <tbody>\n",
       "  </tbody>\n",
       "</table>\n",
       "</div>"
      ],
      "text/plain": [
       "Empty DataFrame\n",
       "Columns: [isbn, book_title, book_author, year_of_publication, publisher, language, category, summary, img_path]\n",
       "Index: []"
      ]
     },
     "execution_count": 12,
     "metadata": {},
     "output_type": "execute_result"
    }
   ],
   "source": [
    "### 언어가 가 없는 책은 summary도 존재하지않음\n",
    "lang_nul[~lang_nul['summary'].isnull()]"
   ]
  },
  {
   "cell_type": "markdown",
   "metadata": {},
   "source": [
    "### title로 language 추측"
   ]
  },
  {
   "cell_type": "code",
   "execution_count": 13,
   "metadata": {},
   "outputs": [
    {
     "name": "stderr",
     "output_type": "stream",
     "text": [
      "Warning : `load_model` does not return WordVectorModel or SupervisedModel any more, but a `FastText` object which is very similar.\n"
     ]
    }
   ],
   "source": [
    "model = fasttext.load_model(\"lid.176.ftz\")\n",
    "\n",
    "def language_p1(x):\n",
    "    label, rel = model.predict(x)\n",
    "    return label[0].split('__')[2], rel[0]\n",
    "\n",
    "tem = lang_nul['book_title'].apply(language_p1).apply(pd.Series)"
   ]
  },
  {
   "cell_type": "code",
   "execution_count": 14,
   "metadata": {},
   "outputs": [
    {
     "data": {
      "text/html": [
       "<div>\n",
       "<style scoped>\n",
       "    .dataframe tbody tr th:only-of-type {\n",
       "        vertical-align: middle;\n",
       "    }\n",
       "\n",
       "    .dataframe tbody tr th {\n",
       "        vertical-align: top;\n",
       "    }\n",
       "\n",
       "    .dataframe thead th {\n",
       "        text-align: right;\n",
       "    }\n",
       "</style>\n",
       "<table border=\"1\" class=\"dataframe\">\n",
       "  <thead>\n",
       "    <tr style=\"text-align: right;\">\n",
       "      <th></th>\n",
       "      <th>0</th>\n",
       "      <th>1</th>\n",
       "    </tr>\n",
       "  </thead>\n",
       "  <tbody>\n",
       "    <tr>\n",
       "      <th>5</th>\n",
       "      <td>en</td>\n",
       "      <td>0.462294</td>\n",
       "    </tr>\n",
       "    <tr>\n",
       "      <th>8</th>\n",
       "      <td>en</td>\n",
       "      <td>0.547843</td>\n",
       "    </tr>\n",
       "    <tr>\n",
       "      <th>9</th>\n",
       "      <td>en</td>\n",
       "      <td>0.526549</td>\n",
       "    </tr>\n",
       "    <tr>\n",
       "      <th>10</th>\n",
       "      <td>en</td>\n",
       "      <td>0.875083</td>\n",
       "    </tr>\n",
       "    <tr>\n",
       "      <th>11</th>\n",
       "      <td>en</td>\n",
       "      <td>0.794063</td>\n",
       "    </tr>\n",
       "    <tr>\n",
       "      <th>...</th>\n",
       "      <td>...</td>\n",
       "      <td>...</td>\n",
       "    </tr>\n",
       "    <tr>\n",
       "      <th>149560</th>\n",
       "      <td>en</td>\n",
       "      <td>0.489432</td>\n",
       "    </tr>\n",
       "    <tr>\n",
       "      <th>149561</th>\n",
       "      <td>es</td>\n",
       "      <td>0.408248</td>\n",
       "    </tr>\n",
       "    <tr>\n",
       "      <th>149564</th>\n",
       "      <td>en</td>\n",
       "      <td>0.760895</td>\n",
       "    </tr>\n",
       "    <tr>\n",
       "      <th>149567</th>\n",
       "      <td>en</td>\n",
       "      <td>0.362029</td>\n",
       "    </tr>\n",
       "    <tr>\n",
       "      <th>149569</th>\n",
       "      <td>en</td>\n",
       "      <td>0.644074</td>\n",
       "    </tr>\n",
       "  </tbody>\n",
       "</table>\n",
       "<p>67227 rows × 2 columns</p>\n",
       "</div>"
      ],
      "text/plain": [
       "         0         1\n",
       "5       en  0.462294\n",
       "8       en  0.547843\n",
       "9       en  0.526549\n",
       "10      en  0.875083\n",
       "11      en  0.794063\n",
       "...     ..       ...\n",
       "149560  en  0.489432\n",
       "149561  es  0.408248\n",
       "149564  en  0.760895\n",
       "149567  en  0.362029\n",
       "149569  en  0.644074\n",
       "\n",
       "[67227 rows x 2 columns]"
      ]
     },
     "execution_count": 14,
     "metadata": {},
     "output_type": "execute_result"
    }
   ],
   "source": [
    "tem"
   ]
  },
  {
   "cell_type": "code",
   "execution_count": 15,
   "metadata": {},
   "outputs": [],
   "source": [
    "books.loc[lang_nul.index, 'book_language_p1_val'] = tem[0]\n",
    "books.loc[lang_nul.index, 'book_language_p1_rel'] = tem[1]\n",
    "books['book_language_p1_rel'] = books['book_language_p1_rel'].astype('float')"
   ]
  },
  {
   "cell_type": "code",
   "execution_count": 16,
   "metadata": {},
   "outputs": [
    {
     "name": "stdout",
     "output_type": "stream",
     "text": [
      "<class 'pandas.core.frame.DataFrame'>\n",
      "RangeIndex: 149570 entries, 0 to 149569\n",
      "Data columns (total 11 columns):\n",
      " #   Column                Non-Null Count   Dtype  \n",
      "---  ------                --------------   -----  \n",
      " 0   isbn                  149570 non-null  object \n",
      " 1   book_title            149570 non-null  object \n",
      " 2   book_author           149570 non-null  object \n",
      " 3   year_of_publication   149570 non-null  int64  \n",
      " 4   publisher             149570 non-null  object \n",
      " 5   language              82343 non-null   object \n",
      " 6   category              80719 non-null   object \n",
      " 7   summary               82343 non-null   object \n",
      " 8   img_path              149570 non-null  object \n",
      " 9   book_language_p1_val  67227 non-null   object \n",
      " 10  book_language_p1_rel  67227 non-null   float64\n",
      "dtypes: float64(1), int64(1), object(9)\n",
      "memory usage: 12.6+ MB\n"
     ]
    }
   ],
   "source": [
    "books.info()"
   ]
  },
  {
   "cell_type": "code",
   "execution_count": 17,
   "metadata": {},
   "outputs": [
    {
     "data": {
      "text/plain": [
       "book_language_p1_val\n",
       "en    54033\n",
       "de     5004\n",
       "fr     3020\n",
       "es     2399\n",
       "it      725\n",
       "      ...  \n",
       "tg        1\n",
       "bo        1\n",
       "is        1\n",
       "el        1\n",
       "ga        1\n",
       "Name: count, Length: 92, dtype: int64"
      ]
     },
     "execution_count": 17,
     "metadata": {},
     "output_type": "execute_result"
    }
   ],
   "source": [
    "books['book_language_p1_val'].value_counts()"
   ]
  },
  {
   "cell_type": "code",
   "execution_count": 19,
   "metadata": {},
   "outputs": [],
   "source": [
    "books.to_csv('../data/books_m1.csv', index=False)\n",
    "!cp ../data/books_m1.csv ../data/books.csv"
   ]
  },
  {
   "cell_type": "markdown",
   "metadata": {},
   "source": [
    "### publisher가 1개의 언어만 출했을 때 language 추측"
   ]
  },
  {
   "cell_type": "code",
   "execution_count": 18,
   "metadata": {},
   "outputs": [
    {
     "data": {
      "text/plain": [
       "array(['Audioworks', 'House of Anansi Press', 'Mira Books', ...,\n",
       "       'Hitchcock Pub Co', 'Lone Star Books', 'American Map Corporation'],\n",
       "      dtype=object)"
      ]
     },
     "execution_count": 18,
     "metadata": {},
     "output_type": "execute_result"
    }
   ],
   "source": [
    "LngNulPub = lang_nul['publisher'].unique()\n",
    "LngNulPub"
   ]
  },
  {
   "cell_type": "code",
   "execution_count": 19,
   "metadata": {},
   "outputs": [],
   "source": [
    "def language_p2(group):\n",
    "    x = group['language'].dropna()\n",
    "    if len(x) == 1:    \n",
    "        return group['language'].fillna(x.iloc[0])\n",
    "    else:\n",
    "        return group['language']\n",
    "\n",
    "books['book_language_p2'] = books.groupby('publisher').apply(language_p2).reset_index(level=0, drop=True)"
   ]
  },
  {
   "cell_type": "code",
   "execution_count": 20,
   "metadata": {},
   "outputs": [
    {
     "data": {
      "text/plain": [
       "book_language_p2\n",
       "en       80934\n",
       "de        1463\n",
       "es        1188\n",
       "fr        1039\n",
       "it         179\n",
       "nl          88\n",
       "pt          66\n",
       "da          41\n",
       "ca          33\n",
       "no          11\n",
       "ms          11\n",
       "gl           5\n",
       "zh-CN        4\n",
       "ru           3\n",
       "ja           3\n",
       "la           3\n",
       "ro           1\n",
       "el           1\n",
       "th           1\n",
       "fa           1\n",
       "eo           1\n",
       "gd           1\n",
       "ga           1\n",
       "vi           1\n",
       "zh-TW        1\n",
       "ko           1\n",
       "Name: count, dtype: int64"
      ]
     },
     "execution_count": 20,
     "metadata": {},
     "output_type": "execute_result"
    }
   ],
   "source": [
    "books['book_language_p2'].value_counts()"
   ]
  },
  {
   "cell_type": "markdown",
   "metadata": {},
   "source": [
    "### publisher의 최빈 언어로 예측 및, 최빈 비율추가"
   ]
  },
  {
   "cell_type": "code",
   "execution_count": 21,
   "metadata": {},
   "outputs": [],
   "source": [
    "def language_p3(group):\n",
    "    langs = group['language'].dropna()\n",
    "    if not langs.empty:\n",
    "        mode = langs.mode().iloc[0]\n",
    "        mode_proportion = (langs == mode).sum() / len(langs)\n",
    "\n",
    "        group.loc[group['language'].isnull(), 'book_language_p3_rel'] = mode_proportion\n",
    "\n",
    "        group.loc[group['language'].isnull(), 'book_language_p3_val'] = group['language'].fillna(mode)\n",
    "    \n",
    "    return group\n",
    "\n",
    "books = books.groupby('publisher').apply(language_p3)"
   ]
  },
  {
   "cell_type": "code",
   "execution_count": 22,
   "metadata": {},
   "outputs": [
    {
     "name": "stdout",
     "output_type": "stream",
     "text": [
      "<class 'pandas.core.frame.DataFrame'>\n",
      "MultiIndex: 149570 entries, (' Editions P. Terrail', 139088) to ('Ã?lbaum', 97402)\n",
      "Data columns (total 14 columns):\n",
      " #   Column                Non-Null Count   Dtype  \n",
      "---  ------                --------------   -----  \n",
      " 0   isbn                  149570 non-null  object \n",
      " 1   book_title            149570 non-null  object \n",
      " 2   book_author           149570 non-null  object \n",
      " 3   year_of_publication   149570 non-null  int64  \n",
      " 4   publisher             149570 non-null  object \n",
      " 5   language              82343 non-null   object \n",
      " 6   category              80719 non-null   object \n",
      " 7   summary               82343 non-null   object \n",
      " 8   img_path              149570 non-null  object \n",
      " 9   book_language_p1_val  67227 non-null   object \n",
      " 10  book_language_p1_rel  67227 non-null   float64\n",
      " 11  book_language_p2      85081 non-null   object \n",
      " 12  book_language_p3_rel  59127 non-null   float64\n",
      " 13  book_language_p3_val  59127 non-null   object \n",
      "dtypes: float64(2), int64(1), object(11)\n",
      "memory usage: 22.3+ MB\n"
     ]
    }
   ],
   "source": [
    "books.info()"
   ]
  },
  {
   "cell_type": "markdown",
   "metadata": {},
   "source": [
    "# publisher_code 추가"
   ]
  },
  {
   "cell_type": "code",
   "execution_count": 23,
   "metadata": {},
   "outputs": [
    {
     "data": {
      "text/plain": [
       "publisher_code\n",
       "0373    5268\n",
       "0671    5260\n",
       "0553    4753\n",
       "0312    4043\n",
       "0140    3518\n",
       "        ... \n",
       "4385       1\n",
       "9571       1\n",
       "4403       1\n",
       "4095       1\n",
       "4091       1\n",
       "Name: count, Length: 1525, dtype: int64"
      ]
     },
     "execution_count": 23,
     "metadata": {},
     "output_type": "execute_result"
    }
   ],
   "source": [
    "books['publisher_code'] = books['isbn'].apply(lambda x: x[:4])\n",
    "books['publisher_code'].value_counts()"
   ]
  },
  {
   "cell_type": "markdown",
   "metadata": {},
   "source": [
    "# category 추가"
   ]
  },
  {
   "cell_type": "code",
   "execution_count": 24,
   "metadata": {},
   "outputs": [
    {
     "data": {
      "text/plain": [
       "publisher                               \n",
       " Editions P. Terrail              139088                                NaN\n",
       " Tri-State Press                  92335                                 NaN\n",
       "'K' Pub                           33285                                 NaN\n",
       "10-18                             23864          ['Aboriginal Australians']\n",
       "                                  27852                                 NaN\n",
       "                                                         ...               \n",
       "Ã?ditions du Seuil                91230     ['Amour - Aspect sociologique']\n",
       "                                  99382                                 NaN\n",
       "                                  118086                                NaN\n",
       "Ã?ditions la Matze : Guy Gessler  115555                                NaN\n",
       "Ã?lbaum                           97402                                 NaN\n",
       "Name: category, Length: 149570, dtype: object"
      ]
     },
     "execution_count": 24,
     "metadata": {},
     "output_type": "execute_result"
    }
   ],
   "source": [
    "books['category']"
   ]
  },
  {
   "cell_type": "code",
   "execution_count": 25,
   "metadata": {},
   "outputs": [],
   "source": [
    "import re\n",
    "\n",
    "books.loc[books['category'].notnull().index, 'category'] = books[books['category'].notnull()]['category'].apply(lambda x: re.sub(r'[\\W_]+', ' ', x))"
   ]
  },
  {
   "cell_type": "code",
   "execution_count": 26,
   "metadata": {},
   "outputs": [
    {
     "data": {
      "text/plain": [
       "category\n",
       " Fiction                     32956\n",
       " Juvenile Fiction             5804\n",
       " Biography Autobiography      3320\n",
       " History                      1925\n",
       " Religion                     1818\n",
       "                             ...  \n",
       " Chinese language                1\n",
       " Apostasy                        1\n",
       " Camels                          1\n",
       " Tennis                          1\n",
       " Summer                          1\n",
       "Name: count, Length: 4137, dtype: int64"
      ]
     },
     "execution_count": 26,
     "metadata": {},
     "output_type": "execute_result"
    }
   ],
   "source": [
    "books['category'].value_counts()"
   ]
  },
  {
   "cell_type": "code",
   "execution_count": 27,
   "metadata": {},
   "outputs": [
    {
     "data": {
      "text/plain": [
       "category\n",
       " fiction                        33016\n",
       " juvenile fiction                5835\n",
       " biography autobiography         3326\n",
       " history                         1927\n",
       " religion                        1818\n",
       "                                ...  \n",
       " horse shows                        1\n",
       " emigration and immigration         1\n",
       " ciphers                            1\n",
       " baths                              1\n",
       " americanization                    1\n",
       "Name: count, Length: 4105, dtype: int64"
      ]
     },
     "execution_count": 27,
     "metadata": {},
     "output_type": "execute_result"
    }
   ],
   "source": [
    "books['category'] = books['category'].str.lower()\n",
    "books['category'].value_counts()"
   ]
  },
  {
   "cell_type": "code",
   "execution_count": 28,
   "metadata": {},
   "outputs": [
    {
     "data": {
      "text/html": [
       "<div>\n",
       "<style scoped>\n",
       "    .dataframe tbody tr th:only-of-type {\n",
       "        vertical-align: middle;\n",
       "    }\n",
       "\n",
       "    .dataframe tbody tr th {\n",
       "        vertical-align: top;\n",
       "    }\n",
       "\n",
       "    .dataframe thead th {\n",
       "        text-align: right;\n",
       "    }\n",
       "</style>\n",
       "<table border=\"1\" class=\"dataframe\">\n",
       "  <thead>\n",
       "    <tr style=\"text-align: right;\">\n",
       "      <th></th>\n",
       "      <th>category</th>\n",
       "      <th>count</th>\n",
       "    </tr>\n",
       "  </thead>\n",
       "  <tbody>\n",
       "    <tr>\n",
       "      <th>0</th>\n",
       "      <td>fiction</td>\n",
       "      <td>33016</td>\n",
       "    </tr>\n",
       "    <tr>\n",
       "      <th>1</th>\n",
       "      <td>juvenile fiction</td>\n",
       "      <td>5835</td>\n",
       "    </tr>\n",
       "    <tr>\n",
       "      <th>2</th>\n",
       "      <td>biography autobiography</td>\n",
       "      <td>3326</td>\n",
       "    </tr>\n",
       "    <tr>\n",
       "      <th>3</th>\n",
       "      <td>history</td>\n",
       "      <td>1927</td>\n",
       "    </tr>\n",
       "    <tr>\n",
       "      <th>4</th>\n",
       "      <td>religion</td>\n",
       "      <td>1818</td>\n",
       "    </tr>\n",
       "    <tr>\n",
       "      <th>...</th>\n",
       "      <td>...</td>\n",
       "      <td>...</td>\n",
       "    </tr>\n",
       "    <tr>\n",
       "      <th>4100</th>\n",
       "      <td>horse shows</td>\n",
       "      <td>1</td>\n",
       "    </tr>\n",
       "    <tr>\n",
       "      <th>4101</th>\n",
       "      <td>emigration and immigration</td>\n",
       "      <td>1</td>\n",
       "    </tr>\n",
       "    <tr>\n",
       "      <th>4102</th>\n",
       "      <td>ciphers</td>\n",
       "      <td>1</td>\n",
       "    </tr>\n",
       "    <tr>\n",
       "      <th>4103</th>\n",
       "      <td>baths</td>\n",
       "      <td>1</td>\n",
       "    </tr>\n",
       "    <tr>\n",
       "      <th>4104</th>\n",
       "      <td>americanization</td>\n",
       "      <td>1</td>\n",
       "    </tr>\n",
       "  </tbody>\n",
       "</table>\n",
       "<p>4105 rows × 2 columns</p>\n",
       "</div>"
      ],
      "text/plain": [
       "                          category  count\n",
       "0                         fiction   33016\n",
       "1                juvenile fiction    5835\n",
       "2         biography autobiography    3326\n",
       "3                         history    1927\n",
       "4                        religion    1818\n",
       "...                            ...    ...\n",
       "4100                  horse shows       1\n",
       "4101   emigration and immigration       1\n",
       "4102                      ciphers       1\n",
       "4103                        baths       1\n",
       "4104              americanization       1\n",
       "\n",
       "[4105 rows x 2 columns]"
      ]
     },
     "execution_count": 28,
     "metadata": {},
     "output_type": "execute_result"
    }
   ],
   "source": [
    "category_df = pd.DataFrame(books['category'].value_counts()).reset_index()\n",
    "category_df.columns = ['category', 'count']\n",
    "category_df"
   ]
  },
  {
   "cell_type": "code",
   "execution_count": 29,
   "metadata": {},
   "outputs": [
    {
     "data": {
      "text/html": [
       "<div>\n",
       "<style scoped>\n",
       "    .dataframe tbody tr th:only-of-type {\n",
       "        vertical-align: middle;\n",
       "    }\n",
       "\n",
       "    .dataframe tbody tr th {\n",
       "        vertical-align: top;\n",
       "    }\n",
       "\n",
       "    .dataframe thead th {\n",
       "        text-align: right;\n",
       "    }\n",
       "</style>\n",
       "<table border=\"1\" class=\"dataframe\">\n",
       "  <thead>\n",
       "    <tr style=\"text-align: right;\">\n",
       "      <th></th>\n",
       "      <th>category</th>\n",
       "      <th>count</th>\n",
       "    </tr>\n",
       "  </thead>\n",
       "  <tbody>\n",
       "    <tr>\n",
       "      <th>0</th>\n",
       "      <td>fiction</td>\n",
       "      <td>33016</td>\n",
       "    </tr>\n",
       "    <tr>\n",
       "      <th>1</th>\n",
       "      <td>juvenile fiction</td>\n",
       "      <td>5835</td>\n",
       "    </tr>\n",
       "    <tr>\n",
       "      <th>2</th>\n",
       "      <td>biography autobiography</td>\n",
       "      <td>3326</td>\n",
       "    </tr>\n",
       "    <tr>\n",
       "      <th>3</th>\n",
       "      <td>history</td>\n",
       "      <td>1927</td>\n",
       "    </tr>\n",
       "    <tr>\n",
       "      <th>4</th>\n",
       "      <td>religion</td>\n",
       "      <td>1818</td>\n",
       "    </tr>\n",
       "    <tr>\n",
       "      <th>...</th>\n",
       "      <td>...</td>\n",
       "      <td>...</td>\n",
       "    </tr>\n",
       "    <tr>\n",
       "      <th>253</th>\n",
       "      <td>college students</td>\n",
       "      <td>10</td>\n",
       "    </tr>\n",
       "    <tr>\n",
       "      <th>254</th>\n",
       "      <td>intelligence service</td>\n",
       "      <td>10</td>\n",
       "    </tr>\n",
       "    <tr>\n",
       "      <th>255</th>\n",
       "      <td>beauty personal</td>\n",
       "      <td>10</td>\n",
       "    </tr>\n",
       "    <tr>\n",
       "      <th>256</th>\n",
       "      <td>diary fiction</td>\n",
       "      <td>10</td>\n",
       "    </tr>\n",
       "    <tr>\n",
       "      <th>257</th>\n",
       "      <td>abused children</td>\n",
       "      <td>10</td>\n",
       "    </tr>\n",
       "  </tbody>\n",
       "</table>\n",
       "<p>258 rows × 2 columns</p>\n",
       "</div>"
      ],
      "text/plain": [
       "                      category  count\n",
       "0                     fiction   33016\n",
       "1            juvenile fiction    5835\n",
       "2     biography autobiography    3326\n",
       "3                     history    1927\n",
       "4                    religion    1818\n",
       "..                         ...    ...\n",
       "253          college students      10\n",
       "254      intelligence service      10\n",
       "255           beauty personal      10\n",
       "256             diary fiction      10\n",
       "257           abused children      10\n",
       "\n",
       "[258 rows x 2 columns]"
      ]
     },
     "execution_count": 29,
     "metadata": {},
     "output_type": "execute_result"
    }
   ],
   "source": [
    "category_df[category_df['count'] >= 10]"
   ]
  },
  {
   "cell_type": "code",
   "execution_count": 30,
   "metadata": {},
   "outputs": [],
   "source": [
    "categories = ['garden','crafts','physics','adventure','music','fiction','nonfiction','science','science fiction','social','homicide',\n",
    " 'sociology','disease','religion','christian','philosophy','psycholog','mathemat','agricult','environmental',\n",
    " 'business','poetry','drama','literary','travel','motion picture','children','cook','literature','electronic',\n",
    " 'humor','animal','bird','photograph','computer','house','ecology','family','architect','camp','criminal','language','india']\n",
    "\n",
    "for category in categories:\n",
    "    books.loc[books[books['category'].str.contains(category,na=False)].index,'category_p1'] = category"
   ]
  },
  {
   "cell_type": "code",
   "execution_count": 31,
   "metadata": {},
   "outputs": [
    {
     "data": {
      "text/plain": [
       "category_p1\n",
       "nan                90691\n",
       "fiction            39678\n",
       "religion            1824\n",
       "nonfiction          1427\n",
       "humor               1291\n",
       "social              1271\n",
       "business            1146\n",
       "cook                1125\n",
       "science             1063\n",
       "family               988\n",
       "literary             848\n",
       "computer             806\n",
       "language             804\n",
       "poetry               740\n",
       "psycholog            729\n",
       "travel               672\n",
       "drama                537\n",
       "children             525\n",
       "philosophy           491\n",
       "crafts               413\n",
       "music                365\n",
       "garden               294\n",
       "animal               225\n",
       "adventure            208\n",
       "house                203\n",
       "photograph           175\n",
       "literature           174\n",
       "christian            138\n",
       "architect            129\n",
       "science fiction      128\n",
       "india                 98\n",
       "motion picture        76\n",
       "mathemat              73\n",
       "criminal              39\n",
       "camp                  38\n",
       "disease               32\n",
       "bird                  26\n",
       "electronic            25\n",
       "ecology               17\n",
       "environmental         13\n",
       "physics                9\n",
       "homicide               7\n",
       "sociology              6\n",
       "agricult               3\n",
       "Name: count, dtype: int64"
      ]
     },
     "execution_count": 31,
     "metadata": {},
     "output_type": "execute_result"
    }
   ],
   "source": [
    "books['category_p1'].value_counts()"
   ]
  },
  {
   "cell_type": "code",
   "execution_count": 32,
   "metadata": {},
   "outputs": [
    {
     "name": "stdout",
     "output_type": "stream",
     "text": [
      "<class 'pandas.core.frame.DataFrame'>\n",
      "MultiIndex: 149570 entries, (' Editions P. Terrail', 139088) to ('Ã?lbaum', 97402)\n",
      "Data columns (total 16 columns):\n",
      " #   Column                Non-Null Count   Dtype  \n",
      "---  ------                --------------   -----  \n",
      " 0   isbn                  149570 non-null  object \n",
      " 1   book_title            149570 non-null  object \n",
      " 2   book_author           149570 non-null  object \n",
      " 3   year_of_publication   149570 non-null  int64  \n",
      " 4   publisher             149570 non-null  object \n",
      " 5   language              82343 non-null   object \n",
      " 6   category              80719 non-null   object \n",
      " 7   summary               82343 non-null   object \n",
      " 8   img_path              149570 non-null  object \n",
      " 9   book_language_p1_val  67227 non-null   object \n",
      " 10  book_language_p1_rel  67227 non-null   float64\n",
      " 11  book_language_p2      85081 non-null   object \n",
      " 12  book_language_p3_rel  59127 non-null   float64\n",
      " 13  book_language_p3_val  59127 non-null   object \n",
      " 14  publisher_code        149570 non-null  object \n",
      " 15  category_p1           149570 non-null  object \n",
      "dtypes: float64(2), int64(1), object(13)\n",
      "memory usage: 28.7+ MB\n"
     ]
    }
   ],
   "source": [
    "books.info()"
   ]
  },
  {
   "cell_type": "markdown",
   "metadata": {},
   "source": [
    "### rating_count, mean, mode, std 계산"
   ]
  },
  {
   "cell_type": "code",
   "execution_count": 33,
   "metadata": {},
   "outputs": [
    {
     "name": "stdout",
     "output_type": "stream",
     "text": [
      "<class 'pandas.core.frame.DataFrame'>\n",
      "RangeIndex: 306795 entries, 0 to 306794\n",
      "Data columns (total 3 columns):\n",
      " #   Column   Non-Null Count   Dtype \n",
      "---  ------   --------------   ----- \n",
      " 0   user_id  306795 non-null  int64 \n",
      " 1   isbn     306795 non-null  object\n",
      " 2   rating   306795 non-null  int64 \n",
      "dtypes: int64(2), object(1)\n",
      "memory usage: 7.0+ MB\n"
     ]
    }
   ],
   "source": [
    "train_ratings = pd.read_csv('../data/train_ratings.csv.bak')\n",
    "train_ratings.info()"
   ]
  },
  {
   "cell_type": "code",
   "execution_count": 34,
   "metadata": {},
   "outputs": [
    {
     "data": {
      "text/plain": [
       "isbn\n",
       "0000913154    1\n",
       "000104687X    1\n",
       "0001047213    1\n",
       "0001047973    2\n",
       "000104799X    1\n",
       "             ..\n",
       "B0001FZGBC    1\n",
       "B0001FZGPI    1\n",
       "B0001FZGRQ    1\n",
       "B0001GMSV2    2\n",
       "B000234N3A    1\n",
       "Name: rating, Length: 129777, dtype: int64"
      ]
     },
     "execution_count": 34,
     "metadata": {},
     "output_type": "execute_result"
    }
   ],
   "source": [
    "book_rating_counts = train_ratings.groupby('isbn')['rating'].count()\n",
    "book_rating_counts"
   ]
  },
  {
   "cell_type": "code",
   "execution_count": 35,
   "metadata": {},
   "outputs": [
    {
     "name": "stdout",
     "output_type": "stream",
     "text": [
      "<class 'pandas.core.frame.DataFrame'>\n",
      "RangeIndex: 149570 entries, 0 to 149569\n",
      "Data columns (total 17 columns):\n",
      " #   Column                Non-Null Count   Dtype  \n",
      "---  ------                --------------   -----  \n",
      " 0   isbn                  149570 non-null  object \n",
      " 1   book_title            149570 non-null  object \n",
      " 2   book_author           149570 non-null  object \n",
      " 3   year_of_publication   149570 non-null  int64  \n",
      " 4   publisher             149570 non-null  object \n",
      " 5   language              82343 non-null   object \n",
      " 6   category              80719 non-null   object \n",
      " 7   summary               82343 non-null   object \n",
      " 8   img_path              149570 non-null  object \n",
      " 9   book_language_p1_val  67227 non-null   object \n",
      " 10  book_language_p1_rel  67227 non-null   float64\n",
      " 11  book_language_p2      85081 non-null   object \n",
      " 12  book_language_p3_rel  59127 non-null   float64\n",
      " 13  book_language_p3_val  59127 non-null   object \n",
      " 14  publisher_code        149570 non-null  object \n",
      " 15  category_p1           149570 non-null  object \n",
      " 16  book_rating_count     129777 non-null  float64\n",
      "dtypes: float64(3), int64(1), object(13)\n",
      "memory usage: 19.4+ MB\n"
     ]
    }
   ],
   "source": [
    "books = books.merge(book_rating_counts, on='isbn', how='left')\n",
    "books = books.rename(columns={'rating': 'book_rating_count'})\n",
    "books.info()\n"
   ]
  },
  {
   "cell_type": "code",
   "execution_count": 36,
   "metadata": {},
   "outputs": [
    {
     "name": "stdout",
     "output_type": "stream",
     "text": [
      "<class 'pandas.core.frame.DataFrame'>\n",
      "RangeIndex: 149570 entries, 0 to 149569\n",
      "Data columns (total 18 columns):\n",
      " #   Column                Non-Null Count   Dtype  \n",
      "---  ------                --------------   -----  \n",
      " 0   isbn                  149570 non-null  object \n",
      " 1   book_title            149570 non-null  object \n",
      " 2   book_author           149570 non-null  object \n",
      " 3   year_of_publication   149570 non-null  int64  \n",
      " 4   publisher             149570 non-null  object \n",
      " 5   language              82343 non-null   object \n",
      " 6   category              80719 non-null   object \n",
      " 7   summary               82343 non-null   object \n",
      " 8   img_path              149570 non-null  object \n",
      " 9   book_language_p1_val  67227 non-null   object \n",
      " 10  book_language_p1_rel  67227 non-null   float64\n",
      " 11  book_language_p2      85081 non-null   object \n",
      " 12  book_language_p3_rel  59127 non-null   float64\n",
      " 13  book_language_p3_val  59127 non-null   object \n",
      " 14  publisher_code        149570 non-null  object \n",
      " 15  category_p1           149570 non-null  object \n",
      " 16  book_rating_count     129777 non-null  float64\n",
      " 17  book_rating_mean      129777 non-null  float64\n",
      "dtypes: float64(4), int64(1), object(13)\n",
      "memory usage: 20.5+ MB\n"
     ]
    }
   ],
   "source": [
    "book_rating_means = train_ratings.groupby('isbn')['rating'].mean()\n",
    "books = books.merge(book_rating_means, on='isbn', how='left')\n",
    "books = books.rename(columns={'rating': 'book_rating_mean'})\n",
    "books.info()\n"
   ]
  },
  {
   "cell_type": "code",
   "execution_count": 37,
   "metadata": {},
   "outputs": [
    {
     "name": "stdout",
     "output_type": "stream",
     "text": [
      "<class 'pandas.core.frame.DataFrame'>\n",
      "RangeIndex: 149570 entries, 0 to 149569\n",
      "Data columns (total 19 columns):\n",
      " #   Column                Non-Null Count   Dtype  \n",
      "---  ------                --------------   -----  \n",
      " 0   isbn                  149570 non-null  object \n",
      " 1   book_title            149570 non-null  object \n",
      " 2   book_author           149570 non-null  object \n",
      " 3   year_of_publication   149570 non-null  int64  \n",
      " 4   publisher             149570 non-null  object \n",
      " 5   language              82343 non-null   object \n",
      " 6   category              80719 non-null   object \n",
      " 7   summary               82343 non-null   object \n",
      " 8   img_path              149570 non-null  object \n",
      " 9   book_language_p1_val  67227 non-null   object \n",
      " 10  book_language_p1_rel  67227 non-null   float64\n",
      " 11  book_language_p2      85081 non-null   object \n",
      " 12  book_language_p3_rel  59127 non-null   float64\n",
      " 13  book_language_p3_val  59127 non-null   object \n",
      " 14  publisher_code        149570 non-null  object \n",
      " 15  category_p1           149570 non-null  object \n",
      " 16  book_rating_count     129777 non-null  float64\n",
      " 17  book_rating_mean      129777 non-null  float64\n",
      " 18  book_rating_mode      129777 non-null  float64\n",
      "dtypes: float64(5), int64(1), object(13)\n",
      "memory usage: 21.7+ MB\n"
     ]
    }
   ],
   "source": [
    "book_rating_modes = train_ratings.groupby('isbn')['rating'].agg(lambda x: x.mode().iloc[0])\n",
    "books = books.merge(book_rating_modes, on='isbn', how='left')\n",
    "books = books.rename(columns={'rating': 'book_rating_mode'})\n",
    "books.info()"
   ]
  },
  {
   "cell_type": "code",
   "execution_count": 38,
   "metadata": {},
   "outputs": [
    {
     "name": "stdout",
     "output_type": "stream",
     "text": [
      "<class 'pandas.core.frame.DataFrame'>\n",
      "RangeIndex: 149570 entries, 0 to 149569\n",
      "Data columns (total 20 columns):\n",
      " #   Column                Non-Null Count   Dtype  \n",
      "---  ------                --------------   -----  \n",
      " 0   isbn                  149570 non-null  object \n",
      " 1   book_title            149570 non-null  object \n",
      " 2   book_author           149570 non-null  object \n",
      " 3   year_of_publication   149570 non-null  int64  \n",
      " 4   publisher             149570 non-null  object \n",
      " 5   language              82343 non-null   object \n",
      " 6   category              80719 non-null   object \n",
      " 7   summary               82343 non-null   object \n",
      " 8   img_path              149570 non-null  object \n",
      " 9   book_language_p1_val  67227 non-null   object \n",
      " 10  book_language_p1_rel  67227 non-null   float64\n",
      " 11  book_language_p2      85081 non-null   object \n",
      " 12  book_language_p3_rel  59127 non-null   float64\n",
      " 13  book_language_p3_val  59127 non-null   object \n",
      " 14  publisher_code        149570 non-null  object \n",
      " 15  category_p1           149570 non-null  object \n",
      " 16  book_rating_count     129777 non-null  float64\n",
      " 17  book_rating_mean      129777 non-null  float64\n",
      " 18  book_rating_mode      129777 non-null  float64\n",
      " 19  book_rating_median    129777 non-null  float64\n",
      "dtypes: float64(6), int64(1), object(13)\n",
      "memory usage: 22.8+ MB\n"
     ]
    }
   ],
   "source": [
    "book_rating_median = train_ratings.groupby('isbn')['rating'].median()\n",
    "books = books.merge(book_rating_median, on='isbn', how='left')\n",
    "books = books.rename(columns={'rating': 'book_rating_median'})\n",
    "books.info()"
   ]
  },
  {
   "cell_type": "code",
   "execution_count": 39,
   "metadata": {},
   "outputs": [
    {
     "name": "stdout",
     "output_type": "stream",
     "text": [
      "<class 'pandas.core.frame.DataFrame'>\n",
      "RangeIndex: 149570 entries, 0 to 149569\n",
      "Data columns (total 21 columns):\n",
      " #   Column                Non-Null Count   Dtype  \n",
      "---  ------                --------------   -----  \n",
      " 0   isbn                  149570 non-null  object \n",
      " 1   book_title            149570 non-null  object \n",
      " 2   book_author           149570 non-null  object \n",
      " 3   year_of_publication   149570 non-null  int64  \n",
      " 4   publisher             149570 non-null  object \n",
      " 5   language              82343 non-null   object \n",
      " 6   category              80719 non-null   object \n",
      " 7   summary               82343 non-null   object \n",
      " 8   img_path              149570 non-null  object \n",
      " 9   book_language_p1_val  67227 non-null   object \n",
      " 10  book_language_p1_rel  67227 non-null   float64\n",
      " 11  book_language_p2      85081 non-null   object \n",
      " 12  book_language_p3_rel  59127 non-null   float64\n",
      " 13  book_language_p3_val  59127 non-null   object \n",
      " 14  publisher_code        149570 non-null  object \n",
      " 15  category_p1           149570 non-null  object \n",
      " 16  book_rating_count     129777 non-null  float64\n",
      " 17  book_rating_mean      129777 non-null  float64\n",
      " 18  book_rating_mode      129777 non-null  float64\n",
      " 19  book_rating_median    129777 non-null  float64\n",
      " 20  book_rating_std       41385 non-null   float64\n",
      "dtypes: float64(7), int64(1), object(13)\n",
      "memory usage: 24.0+ MB\n"
     ]
    }
   ],
   "source": [
    "book_rating_stds = train_ratings.groupby('isbn')['rating'].std()\n",
    "books = books.merge(book_rating_stds, on='isbn', how='left')\n",
    "books = books.rename(columns={'rating': 'book_rating_std'})\n",
    "books.info()"
   ]
  },
  {
   "cell_type": "code",
   "execution_count": null,
   "metadata": {},
   "outputs": [],
   "source": []
  },
  {
   "cell_type": "code",
   "execution_count": 40,
   "metadata": {},
   "outputs": [],
   "source": [
    "fill_zeros = ['book_language_p1_rel', 'book_language_p3_rel', 'book_rating_count', 'book_rating_mean', 'book_rating_mode', 'book_rating_median', 'book_rating_std']\n",
    "for i in fill_zeros:\n",
    "    books[i].fillna(0, inplace=True)"
   ]
  },
  {
   "cell_type": "code",
   "execution_count": 41,
   "metadata": {},
   "outputs": [],
   "source": [
    "fill_blank = ['language', 'category', 'summary', 'book_language_p1_val', 'book_language_p2', 'book_language_p3_val', 'category_p1']\n",
    "for i in fill_blank:\n",
    "    books[i].fillna('unknown', inplace=True)"
   ]
  },
  {
   "cell_type": "code",
   "execution_count": 42,
   "metadata": {},
   "outputs": [],
   "source": [
    "# books['category_p1'] = books['category_p1'].cat.add_categories(['unknown'])\n",
    "books.loc[books['category_p1'] == 'nan', 'category_p1'] = 'unknown'"
   ]
  },
  {
   "cell_type": "code",
   "execution_count": 43,
   "metadata": {},
   "outputs": [],
   "source": [
    "change_type = ['language', 'category', 'book_language_p1_val', 'book_language_p2', 'book_language_p3_val', 'publisher_code', 'category_p1']\n",
    "for i in change_type:\n",
    "    books[i] = books[i].astype('category')"
   ]
  },
  {
   "cell_type": "code",
   "execution_count": 44,
   "metadata": {},
   "outputs": [
    {
     "name": "stdout",
     "output_type": "stream",
     "text": [
      "<class 'pandas.core.frame.DataFrame'>\n",
      "RangeIndex: 149570 entries, 0 to 149569\n",
      "Data columns (total 21 columns):\n",
      " #   Column                Non-Null Count   Dtype   \n",
      "---  ------                --------------   -----   \n",
      " 0   isbn                  149570 non-null  object  \n",
      " 1   book_title            149570 non-null  object  \n",
      " 2   book_author           149570 non-null  object  \n",
      " 3   year_of_publication   149570 non-null  int64   \n",
      " 4   publisher             149570 non-null  object  \n",
      " 5   language              149570 non-null  category\n",
      " 6   category              149570 non-null  category\n",
      " 7   summary               149570 non-null  object  \n",
      " 8   img_path              149570 non-null  object  \n",
      " 9   book_language_p1_val  149570 non-null  category\n",
      " 10  book_language_p1_rel  149570 non-null  float64 \n",
      " 11  book_language_p2      149570 non-null  category\n",
      " 12  book_language_p3_rel  149570 non-null  float64 \n",
      " 13  book_language_p3_val  149570 non-null  category\n",
      " 14  publisher_code        149570 non-null  category\n",
      " 15  category_p1           149570 non-null  category\n",
      " 16  book_rating_count     149570 non-null  float64 \n",
      " 17  book_rating_mean      149570 non-null  float64 \n",
      " 18  book_rating_mode      149570 non-null  float64 \n",
      " 19  book_rating_median    149570 non-null  float64 \n",
      " 20  book_rating_std       149570 non-null  float64 \n",
      "dtypes: category(7), float64(7), int64(1), object(6)\n",
      "memory usage: 17.5+ MB\n"
     ]
    }
   ],
   "source": [
    "books.info()"
   ]
  },
  {
   "cell_type": "code",
   "execution_count": 45,
   "metadata": {},
   "outputs": [],
   "source": [
    "books.to_csv('../data/books_m1.csv', index=False)"
   ]
  },
  {
   "cell_type": "code",
   "execution_count": null,
   "metadata": {},
   "outputs": [],
   "source": []
  }
 ],
 "metadata": {
  "kernelspec": {
   "display_name": "p1",
   "language": "python",
   "name": "python3"
  },
  "language_info": {
   "codemirror_mode": {
    "name": "ipython",
    "version": 3
   },
   "file_extension": ".py",
   "mimetype": "text/x-python",
   "name": "python",
   "nbconvert_exporter": "python",
   "pygments_lexer": "ipython3",
   "version": "3.10.13"
  }
 },
 "nbformat": 4,
 "nbformat_minor": 2
}
