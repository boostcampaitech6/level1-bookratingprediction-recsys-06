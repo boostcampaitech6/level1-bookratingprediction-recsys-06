{
 "cells": [
  {
   "cell_type": "code",
   "execution_count": 1,
   "metadata": {},
   "outputs": [],
   "source": [
    "import pandas as pd"
   ]
  },
  {
   "cell_type": "code",
   "execution_count": 2,
   "metadata": {},
   "outputs": [
    {
     "name": "stdout",
     "output_type": "stream",
     "text": [
      "(149570, 21) (68092, 13) (306795, 3) (76699, 3)\n"
     ]
    }
   ],
   "source": [
    "path = '../data/'\n",
    "books_pre = pd.read_csv(path + 'books_m1.csv')\n",
    "users_pre = pd.read_csv(path + 'users_m1.csv')\n",
    "train_ratings = pd.read_csv(path + 'train_ratings.csv.bak')\n",
    "test_ratings = pd.read_csv(path + 'test_ratings.csv.bak')\n",
    "\n",
    "print(books_pre.shape, users_pre.shape, train_ratings.shape, test_ratings.shape)"
   ]
  },
  {
   "cell_type": "code",
   "execution_count": 3,
   "metadata": {},
   "outputs": [],
   "source": [
    "train_df = pd.merge(train_ratings, books_pre, how = 'left', on = 'isbn')\n",
    "train_df = pd.merge(train_df, users_pre, how = 'left', on = 'user_id')"
   ]
  },
  {
   "cell_type": "code",
   "execution_count": 4,
   "metadata": {},
   "outputs": [
    {
     "name": "stdout",
     "output_type": "stream",
     "text": [
      "<class 'pandas.core.frame.DataFrame'>\n",
      "RangeIndex: 306795 entries, 0 to 306794\n",
      "Data columns (total 35 columns):\n",
      " #   Column                Non-Null Count   Dtype  \n",
      "---  ------                --------------   -----  \n",
      " 0   user_id               306795 non-null  int64  \n",
      " 1   isbn                  306795 non-null  object \n",
      " 2   rating                306795 non-null  int64  \n",
      " 3   book_title            306795 non-null  object \n",
      " 4   book_author           306795 non-null  object \n",
      " 5   year_of_publication   306795 non-null  int64  \n",
      " 6   publisher             306795 non-null  object \n",
      " 7   language              306795 non-null  object \n",
      " 8   category              306795 non-null  object \n",
      " 9   summary               306795 non-null  object \n",
      " 10  img_path              306795 non-null  object \n",
      " 11  book_language_p1_val  306795 non-null  object \n",
      " 12  book_language_p1_rel  306795 non-null  float64\n",
      " 13  book_language_p2      306795 non-null  object \n",
      " 14  book_language_p3_rel  306795 non-null  float64\n",
      " 15  book_language_p3_val  306795 non-null  object \n",
      " 16  publisher_code        306795 non-null  object \n",
      " 17  category_p1           306795 non-null  object \n",
      " 18  book_rating_count     306795 non-null  float64\n",
      " 19  book_rating_mean      306795 non-null  float64\n",
      " 20  book_rating_mode      306795 non-null  float64\n",
      " 21  book_rating_median    306795 non-null  float64\n",
      " 22  book_rating_std       306795 non-null  float64\n",
      " 23  location              306795 non-null  object \n",
      " 24  age                   306795 non-null  int64  \n",
      " 25  location_part1        306795 non-null  object \n",
      " 26  location_part2        306795 non-null  object \n",
      " 27  location_part3        299617 non-null  object \n",
      " 28  location_part4        306709 non-null  object \n",
      " 29  location_part5        298352 non-null  object \n",
      " 30  user_rating_count     306795 non-null  float64\n",
      " 31  user_rating_mean      306795 non-null  float64\n",
      " 32  user_rating_mode      306795 non-null  float64\n",
      " 33  user_rating_median    306795 non-null  float64\n",
      " 34  user_rating_std       306795 non-null  float64\n",
      "dtypes: float64(12), int64(4), object(19)\n",
      "memory usage: 81.9+ MB\n",
      "None\n"
     ]
    }
   ],
   "source": [
    "print(train_df.info())"
   ]
  },
  {
   "cell_type": "code",
   "execution_count": 5,
   "metadata": {},
   "outputs": [],
   "source": [
    "test_df = pd.merge(test_ratings, books_pre, how = 'left', on = 'isbn')\n",
    "test_df = pd.merge(test_df, users_pre, how = 'left', on = 'user_id')"
   ]
  },
  {
   "cell_type": "code",
   "execution_count": 6,
   "metadata": {},
   "outputs": [
    {
     "name": "stdout",
     "output_type": "stream",
     "text": [
      "<class 'pandas.core.frame.DataFrame'>\n",
      "RangeIndex: 76699 entries, 0 to 76698\n",
      "Data columns (total 35 columns):\n",
      " #   Column                Non-Null Count  Dtype  \n",
      "---  ------                --------------  -----  \n",
      " 0   user_id               76699 non-null  int64  \n",
      " 1   isbn                  76699 non-null  object \n",
      " 2   rating                76699 non-null  int64  \n",
      " 3   book_title            76699 non-null  object \n",
      " 4   book_author           76699 non-null  object \n",
      " 5   year_of_publication   76699 non-null  int64  \n",
      " 6   publisher             76699 non-null  object \n",
      " 7   language              76699 non-null  object \n",
      " 8   category              76699 non-null  object \n",
      " 9   summary               76699 non-null  object \n",
      " 10  img_path              76699 non-null  object \n",
      " 11  book_language_p1_val  76699 non-null  object \n",
      " 12  book_language_p1_rel  76699 non-null  float64\n",
      " 13  book_language_p2      76699 non-null  object \n",
      " 14  book_language_p3_rel  76699 non-null  float64\n",
      " 15  book_language_p3_val  76699 non-null  object \n",
      " 16  publisher_code        76699 non-null  object \n",
      " 17  category_p1           76699 non-null  object \n",
      " 18  book_rating_count     76699 non-null  float64\n",
      " 19  book_rating_mean      76699 non-null  float64\n",
      " 20  book_rating_mode      76699 non-null  float64\n",
      " 21  book_rating_median    76699 non-null  float64\n",
      " 22  book_rating_std       76699 non-null  float64\n",
      " 23  location              76699 non-null  object \n",
      " 24  age                   76699 non-null  int64  \n",
      " 25  location_part1        76699 non-null  object \n",
      " 26  location_part2        76698 non-null  object \n",
      " 27  location_part3        74844 non-null  object \n",
      " 28  location_part4        76683 non-null  object \n",
      " 29  location_part5        74642 non-null  object \n",
      " 30  user_rating_count     76699 non-null  float64\n",
      " 31  user_rating_mean      76699 non-null  float64\n",
      " 32  user_rating_mode      76699 non-null  float64\n",
      " 33  user_rating_median    76699 non-null  float64\n",
      " 34  user_rating_std       76699 non-null  float64\n",
      "dtypes: float64(12), int64(4), object(19)\n",
      "memory usage: 20.5+ MB\n"
     ]
    }
   ],
   "source": [
    "test_df.info()"
   ]
  },
  {
   "cell_type": "code",
   "execution_count": 7,
   "metadata": {},
   "outputs": [
    {
     "data": {
      "text/plain": [
       "array(['unknown', 'fiction', 'humor', 'cook', 'psycholog', 'science',\n",
       "       'business', 'literary', 'religion', 'india', 'social', 'animal',\n",
       "       'children', 'poetry', 'music', 'nonfiction', 'family', 'computer',\n",
       "       'literature', 'criminal', 'christian', 'philosophy', 'adventure',\n",
       "       'drama', 'language', 'science fiction', 'travel', 'crafts',\n",
       "       'environmental', 'house', 'motion picture', 'architect', 'disease',\n",
       "       'photograph', 'camp', 'ecology', 'mathemat', 'garden', 'bird',\n",
       "       'physics', 'electronic', 'homicide', 'sociology', 'agricult'],\n",
       "      dtype=object)"
      ]
     },
     "execution_count": 7,
     "metadata": {},
     "output_type": "execute_result"
    }
   ],
   "source": [
    "train_df['category_p1'].unique()"
   ]
  },
  {
   "cell_type": "code",
   "execution_count": 8,
   "metadata": {},
   "outputs": [],
   "source": [
    "train_df['category_p1'] = train_df['category_p1'].astype(str)\n",
    "test_df['category_p1'] = test_df['category_p1'].astype(str)"
   ]
  },
  {
   "cell_type": "code",
   "execution_count": 14,
   "metadata": {},
   "outputs": [
    {
     "name": "stdout",
     "output_type": "stream",
     "text": [
      "<class 'pandas.core.frame.DataFrame'>\n",
      "RangeIndex: 76699 entries, 0 to 76698\n",
      "Data columns (total 35 columns):\n",
      " #   Column                Non-Null Count  Dtype  \n",
      "---  ------                --------------  -----  \n",
      " 0   user_id               76699 non-null  int64  \n",
      " 1   isbn                  76699 non-null  object \n",
      " 2   rating                76699 non-null  int64  \n",
      " 3   book_title            76699 non-null  object \n",
      " 4   book_author           76699 non-null  object \n",
      " 5   year_of_publication   76699 non-null  int64  \n",
      " 6   publisher             76699 non-null  object \n",
      " 7   language              76699 non-null  object \n",
      " 8   category              76699 non-null  object \n",
      " 9   summary               76699 non-null  object \n",
      " 10  img_path              76699 non-null  object \n",
      " 11  book_language_p1_val  76699 non-null  object \n",
      " 12  book_language_p1_rel  76699 non-null  float64\n",
      " 13  book_language_p2      76699 non-null  object \n",
      " 14  book_language_p3_rel  76699 non-null  float64\n",
      " 15  book_language_p3_val  76699 non-null  object \n",
      " 16  publisher_code        76699 non-null  object \n",
      " 17  category_p1           76699 non-null  object \n",
      " 18  book_rating_count     76699 non-null  float64\n",
      " 19  book_rating_mean      76699 non-null  float64\n",
      " 20  book_rating_mode      76699 non-null  float64\n",
      " 21  book_rating_median    76699 non-null  float64\n",
      " 22  book_rating_std       76699 non-null  float64\n",
      " 23  location              76699 non-null  object \n",
      " 24  age                   76699 non-null  int64  \n",
      " 25  location_part1        76699 non-null  object \n",
      " 26  location_part2        76698 non-null  object \n",
      " 27  location_part3        74844 non-null  object \n",
      " 28  location_part4        76683 non-null  object \n",
      " 29  location_part5        74642 non-null  object \n",
      " 30  user_rating_count     76699 non-null  float64\n",
      " 31  user_rating_mean      76699 non-null  float64\n",
      " 32  user_rating_mode      76699 non-null  float64\n",
      " 33  user_rating_median    76699 non-null  float64\n",
      " 34  user_rating_std       76699 non-null  float64\n",
      "dtypes: float64(12), int64(4), object(19)\n",
      "memory usage: 20.5+ MB\n"
     ]
    }
   ],
   "source": [
    "test_df.info()"
   ]
  },
  {
   "cell_type": "code",
   "execution_count": 15,
   "metadata": {},
   "outputs": [],
   "source": [
    "train_df.to_csv('../data/train_df_m1.csv', index=False)\n",
    "test_df.to_csv('../data/test_df_m1.csv', index=False)"
   ]
  },
  {
   "cell_type": "code",
   "execution_count": 9,
   "metadata": {},
   "outputs": [],
   "source": [
    "t = pd.read_csv('../data/train_df_m1.csv', low_memory=False)"
   ]
  },
  {
   "cell_type": "code",
   "execution_count": 50,
   "metadata": {},
   "outputs": [],
   "source": [
    "t.iloc[150000:180000].to_csv('../data/sam.csv')"
   ]
  },
  {
   "cell_type": "code",
   "execution_count": 53,
   "metadata": {},
   "outputs": [],
   "source": [
    "t2 = pd.read_csv('../data/sam.csv', index_col=0, dtype={17: str})"
   ]
  },
  {
   "cell_type": "code",
   "execution_count": 52,
   "metadata": {},
   "outputs": [
    {
     "name": "stdout",
     "output_type": "stream",
     "text": [
      "<class 'pandas.core.frame.DataFrame'>\n",
      "Index: 30000 entries, 150000 to 179999\n",
      "Data columns (total 35 columns):\n",
      " #   Column                Non-Null Count  Dtype  \n",
      "---  ------                --------------  -----  \n",
      " 0   user_id               30000 non-null  int64  \n",
      " 1   isbn                  30000 non-null  object \n",
      " 2   rating                30000 non-null  int64  \n",
      " 3   book_title            30000 non-null  object \n",
      " 4   book_author           30000 non-null  object \n",
      " 5   year_of_publication   30000 non-null  int64  \n",
      " 6   publisher             30000 non-null  object \n",
      " 7   language              30000 non-null  object \n",
      " 8   category              30000 non-null  object \n",
      " 9   summary               30000 non-null  object \n",
      " 10  img_path              30000 non-null  object \n",
      " 11  book_language_p1_val  30000 non-null  object \n",
      " 12  book_language_p1_rel  30000 non-null  float64\n",
      " 13  book_language_p2      30000 non-null  object \n",
      " 14  book_language_p3_rel  30000 non-null  float64\n",
      " 15  book_language_p3_val  30000 non-null  object \n",
      " 16  publisher_code        30000 non-null  object \n",
      " 17  category_p1           30000 non-null  object \n",
      " 18  book_rating_count     30000 non-null  float64\n",
      " 19  book_rating_mean      30000 non-null  float64\n",
      " 20  book_rating_mode      30000 non-null  float64\n",
      " 21  book_rating_median    30000 non-null  float64\n",
      " 22  book_rating_std       30000 non-null  float64\n",
      " 23  location              30000 non-null  object \n",
      " 24  age                   30000 non-null  int64  \n",
      " 25  location_part1        30000 non-null  object \n",
      " 26  location_part2        30000 non-null  object \n",
      " 27  location_part3        29891 non-null  object \n",
      " 28  location_part4        29998 non-null  object \n",
      " 29  location_part5        29156 non-null  object \n",
      " 30  user_rating_count     30000 non-null  float64\n",
      " 31  user_rating_mean      30000 non-null  float64\n",
      " 32  user_rating_mode      30000 non-null  float64\n",
      " 33  user_rating_median    30000 non-null  float64\n",
      " 34  user_rating_std       30000 non-null  float64\n",
      "dtypes: float64(12), int64(4), object(19)\n",
      "memory usage: 8.2+ MB\n"
     ]
    }
   ],
   "source": [
    "t2.info()"
   ]
  },
  {
   "cell_type": "code",
   "execution_count": null,
   "metadata": {},
   "outputs": [],
   "source": []
  }
 ],
 "metadata": {
  "kernelspec": {
   "display_name": "p1",
   "language": "python",
   "name": "p1"
  },
  "language_info": {
   "codemirror_mode": {
    "name": "ipython",
    "version": 3
   },
   "file_extension": ".py",
   "mimetype": "text/x-python",
   "name": "python",
   "nbconvert_exporter": "python",
   "pygments_lexer": "ipython3",
   "version": "3.10.13"
  }
 },
 "nbformat": 4,
 "nbformat_minor": 2
}
