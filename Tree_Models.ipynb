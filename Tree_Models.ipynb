{
 "cells": [
  {
   "cell_type": "code",
   "execution_count": 6,
   "metadata": {},
   "outputs": [
    {
     "name": "stdout",
     "output_type": "stream",
     "text": [
      "True 1\n",
      "/data/ephemeral/Project\n",
      "CatBoost Version : 1.2.2\n",
      "XGBoost Version  : 2.0.2\n",
      "LightGBM Version : 4.1.0\n"
     ]
    }
   ],
   "source": [
    "import numpy as np\n",
    "import pandas as pd\n",
    "import matplotlib.pyplot as plt\n",
    "import seaborn as sns\n",
    "import tqdm\n",
    "import re\n",
    "import os\n",
    "import random\n",
    "import torch\n",
    "print(torch.cuda.is_available(), torch.cuda.device_count())\n",
    "print(os.getcwd())\n",
    "\n",
    "from sklearn.model_selection import train_test_split, StratifiedKFold\n",
    "from sklearn.preprocessing import LabelEncoder\n",
    "from sklearn.metrics import mean_squared_error\n",
    "\n",
    "import catboost\n",
    "from catboost import CatBoostRegressor\n",
    "\n",
    "import xgboost\n",
    "from xgboost import XGBRegressor\n",
    "from xgboost import plot_importance as xgb_plot_importance\n",
    "\n",
    "import lightgbm\n",
    "from lightgbm import LGBMRegressor\n",
    "from lightgbm import plot_importance as lgbm_plot_importance\n",
    "\n",
    "print(f'CatBoost Version : {catboost.__version__}')\n",
    "print(f'XGBoost Version  : {xgboost.__version__}')\n",
    "print(f'LightGBM Version : {lightgbm.__version__}')\n",
    "\n",
    "import optuna\n",
    "from optuna import Trial, visualization\n",
    "from optuna.samplers import TPESampler\n",
    "\n",
    "# 경고 메시지 숨기기\n",
    "import warnings\n",
    "warnings.filterwarnings(action = 'ignore')\n",
    "\n",
    "# Seed 고정\n",
    "SEED = 42\n",
    "def seed_everything(seed) :\n",
    "    random.seed(seed)\n",
    "    np.random.seed(seed)\n",
    "    # tf.random.set_seed(seed)\n",
    "    torch.manual_seed(seed)\n",
    "    torch.cuda.manual_seed_all(seed)\n",
    "    torch.backends.cudnn.benchmark = False\n",
    "    torch.use_deterministic_algorithms(False) # True\n",
    "    os.environ['PYTHONHASHSEED'] = str(seed)\n",
    "    os.environ['TF_ENABLE_ONEDNN_OPTS'] = '0'\n",
    "seed_everything(SEED)"
   ]
  },
  {
   "cell_type": "markdown",
   "metadata": {},
   "source": [
    "![data](./code/data/Data_Schema.png)"
   ]
  },
  {
   "cell_type": "code",
   "execution_count": 2,
   "metadata": {},
   "outputs": [
    {
     "name": "stdout",
     "output_type": "stream",
     "text": [
      "(149570, 10) (68092, 3) (306795, 3) (76699, 3)\n"
     ]
    }
   ],
   "source": [
    "books = pd.read_csv('./code/data/books.csv')\n",
    "users = pd.read_csv('./code/data/users.csv')\n",
    "rating_train = pd.read_csv('./code/data/train_ratings.csv')\n",
    "rating_test = pd.read_csv('./code/data/test_ratings.csv')\n",
    "print(books.shape, users.shape, rating_train.shape, rating_test.shape)"
   ]
  },
  {
   "cell_type": "markdown",
   "metadata": {},
   "source": [
    "## `books`"
   ]
  },
  {
   "cell_type": "code",
   "execution_count": 3,
   "metadata": {},
   "outputs": [
    {
     "name": "stdout",
     "output_type": "stream",
     "text": [
      "<class 'pandas.core.frame.DataFrame'>\n",
      "RangeIndex: 149570 entries, 0 to 149569\n",
      "Data columns (total 10 columns):\n",
      " #   Column               Non-Null Count   Dtype  \n",
      "---  ------               --------------   -----  \n",
      " 0   isbn                 149570 non-null  object \n",
      " 1   book_title           149570 non-null  object \n",
      " 2   book_author          149569 non-null  object \n",
      " 3   year_of_publication  149570 non-null  float64\n",
      " 4   publisher            149570 non-null  object \n",
      " 5   img_url              149570 non-null  object \n",
      " 6   language             82343 non-null   object \n",
      " 7   category             80719 non-null   object \n",
      " 8   summary              82343 non-null   object \n",
      " 9   img_path             149570 non-null  object \n",
      "dtypes: float64(1), object(9)\n",
      "memory usage: 11.4+ MB\n"
     ]
    }
   ],
   "source": [
    "books.info()"
   ]
  },
  {
   "cell_type": "markdown",
   "metadata": {},
   "source": [
    "### `isbn`\n",
    "- https://sciencing.com/difference-isbn-13-isbn-10-5890031.html\n",
    "- group identifier / publisher identifier / title identifier / and check digit로 구성\n",
    "- Format : X-XXX-XXXXX-X"
   ]
  },
  {
   "cell_type": "markdown",
   "metadata": {},
   "source": [
    "> **ISBN 확인**\n",
    "- URL 정보를 사용해서 ISBN이 재대로 입력됐는지 확인"
   ]
  },
  {
   "cell_type": "code",
   "execution_count": 4,
   "metadata": {},
   "outputs": [
    {
     "data": {
      "text/html": [
       "<div>\n",
       "<style scoped>\n",
       "    .dataframe tbody tr th:only-of-type {\n",
       "        vertical-align: middle;\n",
       "    }\n",
       "\n",
       "    .dataframe tbody tr th {\n",
       "        vertical-align: top;\n",
       "    }\n",
       "\n",
       "    .dataframe thead th {\n",
       "        text-align: right;\n",
       "    }\n",
       "</style>\n",
       "<table border=\"1\" class=\"dataframe\">\n",
       "  <thead>\n",
       "    <tr style=\"text-align: right;\">\n",
       "      <th></th>\n",
       "      <th>isbn</th>\n",
       "      <th>book_title</th>\n",
       "      <th>book_author</th>\n",
       "      <th>year_of_publication</th>\n",
       "      <th>publisher</th>\n",
       "      <th>img_url</th>\n",
       "      <th>language</th>\n",
       "      <th>category</th>\n",
       "      <th>summary</th>\n",
       "      <th>img_path</th>\n",
       "      <th>img_url_isbn</th>\n",
       "    </tr>\n",
       "  </thead>\n",
       "  <tbody>\n",
       "  </tbody>\n",
       "</table>\n",
       "</div>"
      ],
      "text/plain": [
       "Empty DataFrame\n",
       "Columns: [isbn, book_title, book_author, year_of_publication, publisher, img_url, language, category, summary, img_path, img_url_isbn]\n",
       "Index: []"
      ]
     },
     "execution_count": 4,
     "metadata": {},
     "output_type": "execute_result"
    }
   ],
   "source": [
    "books['img_url_isbn'] = books['img_url'].apply(lambda x : x.split('/')[5].split('.')[0])\n",
    "books[books['isbn'] != books['img_url_isbn']]"
   ]
  },
  {
   "cell_type": "code",
   "execution_count": 5,
   "metadata": {},
   "outputs": [],
   "source": [
    "books.drop(columns = 'img_url_isbn', inplace = True)"
   ]
  },
  {
   "cell_type": "markdown",
   "metadata": {},
   "source": [
    "### `book_author` 결측치 확인\n",
    "- 실제 저자가 없는 책\n",
    "- 동일한 `book_title`의 데이터도 없음\n",
    "- => 동일한 `publisher`의 최빈값으로 대체"
   ]
  },
  {
   "cell_type": "code",
   "execution_count": 6,
   "metadata": {},
   "outputs": [
    {
     "data": {
      "text/html": [
       "<div>\n",
       "<style scoped>\n",
       "    .dataframe tbody tr th:only-of-type {\n",
       "        vertical-align: middle;\n",
       "    }\n",
       "\n",
       "    .dataframe tbody tr th {\n",
       "        vertical-align: top;\n",
       "    }\n",
       "\n",
       "    .dataframe thead th {\n",
       "        text-align: right;\n",
       "    }\n",
       "</style>\n",
       "<table border=\"1\" class=\"dataframe\">\n",
       "  <thead>\n",
       "    <tr style=\"text-align: right;\">\n",
       "      <th></th>\n",
       "      <th>isbn</th>\n",
       "      <th>book_title</th>\n",
       "      <th>book_author</th>\n",
       "      <th>year_of_publication</th>\n",
       "      <th>publisher</th>\n",
       "      <th>img_url</th>\n",
       "      <th>language</th>\n",
       "      <th>category</th>\n",
       "      <th>summary</th>\n",
       "      <th>img_path</th>\n",
       "    </tr>\n",
       "  </thead>\n",
       "  <tbody>\n",
       "    <tr>\n",
       "      <th>73737</th>\n",
       "      <td>0751352497</td>\n",
       "      <td>A+ Quiz Masters:01 Earth</td>\n",
       "      <td>NaN</td>\n",
       "      <td>1999.0</td>\n",
       "      <td>Dorling Kindersley</td>\n",
       "      <td>http://images.amazon.com/images/P/0751352497.0...</td>\n",
       "      <td>NaN</td>\n",
       "      <td>NaN</td>\n",
       "      <td>NaN</td>\n",
       "      <td>images/0751352497.01.THUMBZZZ.jpg</td>\n",
       "    </tr>\n",
       "  </tbody>\n",
       "</table>\n",
       "</div>"
      ],
      "text/plain": [
       "             isbn                book_title book_author  year_of_publication  \\\n",
       "73737  0751352497  A+ Quiz Masters:01 Earth         NaN               1999.0   \n",
       "\n",
       "                publisher                                            img_url  \\\n",
       "73737  Dorling Kindersley  http://images.amazon.com/images/P/0751352497.0...   \n",
       "\n",
       "      language category summary                           img_path  \n",
       "73737      NaN      NaN     NaN  images/0751352497.01.THUMBZZZ.jpg  "
      ]
     },
     "execution_count": 6,
     "metadata": {},
     "output_type": "execute_result"
    }
   ],
   "source": [
    "books[books['book_title'] == books.loc[books['book_author'].isna(), 'book_title'].values[0]]"
   ]
  },
  {
   "cell_type": "code",
   "execution_count": 7,
   "metadata": {},
   "outputs": [
    {
     "name": "stdout",
     "output_type": "stream",
     "text": [
      "0\n"
     ]
    }
   ],
   "source": [
    "books.loc[books['book_title'] == books.loc[books['book_author'].isna(), 'book_title'].values[0], 'book_author'] = \\\n",
    "    books.loc[books['publisher'] == books.loc[books['book_author'].isna(), 'publisher'].values[0], 'book_author'].mode().values[0]\n",
    "print(books['book_author'].isna().sum())"
   ]
  },
  {
   "cell_type": "markdown",
   "metadata": {},
   "source": [
    "### `year_of_publication`\n",
    "- 10년 단위로 범주화"
   ]
  },
  {
   "cell_type": "code",
   "execution_count": 8,
   "metadata": {},
   "outputs": [
    {
     "data": {
      "text/plain": [
       "years\n",
       "2000    72358\n",
       "2010    46301\n",
       "1990    23809\n",
       "1980     5636\n",
       "1970     1466\n",
       "Name: count, dtype: int64"
      ]
     },
     "execution_count": 8,
     "metadata": {},
     "output_type": "execute_result"
    }
   ],
   "source": [
    "def preprocess_year(x) :\n",
    "    if x < 1970 :\n",
    "        return 1970\n",
    "    elif (x >= 1970) and (x < 1980) :\n",
    "        return 1980\n",
    "    elif (x >= 1980) and (x < 1990) :\n",
    "        return 1990\n",
    "    elif (x >= 1990) and (x < 2000) :\n",
    "        return 2000\n",
    "    else :\n",
    "        return 2010\n",
    "    \n",
    "books['years'] = books['year_of_publication'].apply(preprocess_year)\n",
    "books['years'].value_counts()"
   ]
  },
  {
   "cell_type": "markdown",
   "metadata": {},
   "source": [
    "### `publisher`\n",
    "- `isbn`의 앞 4개의 숫자를 활용하여 `new_publisher` 생성"
   ]
  },
  {
   "cell_type": "code",
   "execution_count": 9,
   "metadata": {},
   "outputs": [
    {
     "data": {
      "text/html": [
       "<div>\n",
       "<style scoped>\n",
       "    .dataframe tbody tr th:only-of-type {\n",
       "        vertical-align: middle;\n",
       "    }\n",
       "\n",
       "    .dataframe tbody tr th {\n",
       "        vertical-align: top;\n",
       "    }\n",
       "\n",
       "    .dataframe thead th {\n",
       "        text-align: right;\n",
       "    }\n",
       "</style>\n",
       "<table border=\"1\" class=\"dataframe\">\n",
       "  <thead>\n",
       "    <tr style=\"text-align: right;\">\n",
       "      <th></th>\n",
       "      <th>publisher</th>\n",
       "      <th>count</th>\n",
       "    </tr>\n",
       "  </thead>\n",
       "  <tbody>\n",
       "    <tr>\n",
       "      <th>0</th>\n",
       "      <td>Harlequin</td>\n",
       "      <td>3005</td>\n",
       "    </tr>\n",
       "    <tr>\n",
       "      <th>1</th>\n",
       "      <td>Ballantine Books</td>\n",
       "      <td>2322</td>\n",
       "    </tr>\n",
       "    <tr>\n",
       "      <th>2</th>\n",
       "      <td>Pocket</td>\n",
       "      <td>2274</td>\n",
       "    </tr>\n",
       "    <tr>\n",
       "      <th>3</th>\n",
       "      <td>Penguin Books</td>\n",
       "      <td>1943</td>\n",
       "    </tr>\n",
       "    <tr>\n",
       "      <th>4</th>\n",
       "      <td>Bantam Books</td>\n",
       "      <td>1938</td>\n",
       "    </tr>\n",
       "  </tbody>\n",
       "</table>\n",
       "</div>"
      ],
      "text/plain": [
       "          publisher  count\n",
       "0         Harlequin   3005\n",
       "1  Ballantine Books   2322\n",
       "2            Pocket   2274\n",
       "3     Penguin Books   1943\n",
       "4      Bantam Books   1938"
      ]
     },
     "metadata": {},
     "output_type": "display_data"
    },
    {
     "data": {
      "text/plain": [
       "11571"
      ]
     },
     "metadata": {},
     "output_type": "display_data"
    }
   ],
   "source": [
    "publisher_dict = (books['publisher'].value_counts()).to_dict()\n",
    "publisher_count_df = pd.DataFrame(list(publisher_dict.items()), columns = ['publisher', 'count'])\n",
    "\n",
    "publisher_count_df = publisher_count_df.sort_values(by = ['count'], ascending = False)\n",
    "display(publisher_count_df.head(), books['publisher'].nunique())"
   ]
  },
  {
   "cell_type": "code",
   "execution_count": 10,
   "metadata": {},
   "outputs": [
    {
     "name": "stderr",
     "output_type": "stream",
     "text": [
      "100%|██████████| 5276/5276 [07:42<00:00, 11.41it/s]"
     ]
    },
    {
     "name": "stdout",
     "output_type": "stream",
     "text": [
      "875\n"
     ]
    },
    {
     "name": "stderr",
     "output_type": "stream",
     "text": [
      "\n"
     ]
    }
   ],
   "source": [
    "modify_list = publisher_count_df[publisher_count_df['count'] > 1]['publisher'].values\n",
    "\n",
    "for publisher in tqdm.tqdm(modify_list) :\n",
    "    try :\n",
    "        number = books[books['publisher'] == publisher]['isbn'].apply(lambda x : x[:4]).value_counts().index[0]\n",
    "        right_publisher = books[books['isbn'].apply(lambda x : x[:4]) == number]['publisher'].value_counts().index[0]\n",
    "        books.loc[books[books['isbn'].apply(lambda x : x[:4]) == number].index, 'new_publisher'] = right_publisher\n",
    "    except :\n",
    "        pass\n",
    "    \n",
    "print(books['new_publisher'].nunique())"
   ]
  },
  {
   "cell_type": "code",
   "execution_count": 51,
   "metadata": {},
   "outputs": [
    {
     "data": {
      "text/plain": [
       "new_publisher\n",
       "Pocket                  7306\n",
       "Harlequin               5268\n",
       "Bantam Books            4816\n",
       "St. Martin's Press      4043\n",
       "Vintage Books USA       3822\n",
       "                        ... \n",
       "Cornelsen Lernhilfen       1\n",
       "Ecco (HarperCollins)       1\n",
       "Verlag am Goetheanum       1\n",
       "Janus                      1\n",
       "Iceland Review             1\n",
       "Name: count, Length: 1767, dtype: int64"
      ]
     },
     "execution_count": 51,
     "metadata": {},
     "output_type": "execute_result"
    }
   ],
   "source": [
    "books['new_publisher'].value_counts()"
   ]
  },
  {
   "cell_type": "markdown",
   "metadata": {},
   "source": [
    "### `language`, `category`, `summary`\n",
    "- `language` & `category` & `summary`가 모두 결측인 행 -> 67227행\n",
    "- `language` & `summary`만 결측인 행 -> 67227 + 1624행"
   ]
  },
  {
   "cell_type": "code",
   "execution_count": 11,
   "metadata": {},
   "outputs": [
    {
     "data": {
      "text/html": [
       "<div>\n",
       "<style scoped>\n",
       "    .dataframe tbody tr th:only-of-type {\n",
       "        vertical-align: middle;\n",
       "    }\n",
       "\n",
       "    .dataframe tbody tr th {\n",
       "        vertical-align: top;\n",
       "    }\n",
       "\n",
       "    .dataframe thead th {\n",
       "        text-align: right;\n",
       "    }\n",
       "</style>\n",
       "<table border=\"1\" class=\"dataframe\">\n",
       "  <thead>\n",
       "    <tr style=\"text-align: right;\">\n",
       "      <th></th>\n",
       "      <th>language</th>\n",
       "      <th>category</th>\n",
       "      <th>summary</th>\n",
       "    </tr>\n",
       "  </thead>\n",
       "  <tbody>\n",
       "    <tr>\n",
       "      <th>5</th>\n",
       "      <td>NaN</td>\n",
       "      <td>NaN</td>\n",
       "      <td>NaN</td>\n",
       "    </tr>\n",
       "    <tr>\n",
       "      <th>8</th>\n",
       "      <td>NaN</td>\n",
       "      <td>NaN</td>\n",
       "      <td>NaN</td>\n",
       "    </tr>\n",
       "    <tr>\n",
       "      <th>9</th>\n",
       "      <td>NaN</td>\n",
       "      <td>NaN</td>\n",
       "      <td>NaN</td>\n",
       "    </tr>\n",
       "    <tr>\n",
       "      <th>10</th>\n",
       "      <td>NaN</td>\n",
       "      <td>NaN</td>\n",
       "      <td>NaN</td>\n",
       "    </tr>\n",
       "    <tr>\n",
       "      <th>11</th>\n",
       "      <td>NaN</td>\n",
       "      <td>NaN</td>\n",
       "      <td>NaN</td>\n",
       "    </tr>\n",
       "    <tr>\n",
       "      <th>...</th>\n",
       "      <td>...</td>\n",
       "      <td>...</td>\n",
       "      <td>...</td>\n",
       "    </tr>\n",
       "    <tr>\n",
       "      <th>149560</th>\n",
       "      <td>NaN</td>\n",
       "      <td>NaN</td>\n",
       "      <td>NaN</td>\n",
       "    </tr>\n",
       "    <tr>\n",
       "      <th>149561</th>\n",
       "      <td>NaN</td>\n",
       "      <td>NaN</td>\n",
       "      <td>NaN</td>\n",
       "    </tr>\n",
       "    <tr>\n",
       "      <th>149564</th>\n",
       "      <td>NaN</td>\n",
       "      <td>NaN</td>\n",
       "      <td>NaN</td>\n",
       "    </tr>\n",
       "    <tr>\n",
       "      <th>149567</th>\n",
       "      <td>NaN</td>\n",
       "      <td>NaN</td>\n",
       "      <td>NaN</td>\n",
       "    </tr>\n",
       "    <tr>\n",
       "      <th>149569</th>\n",
       "      <td>NaN</td>\n",
       "      <td>NaN</td>\n",
       "      <td>NaN</td>\n",
       "    </tr>\n",
       "  </tbody>\n",
       "</table>\n",
       "<p>67227 rows × 3 columns</p>\n",
       "</div>"
      ],
      "text/plain": [
       "       language category summary\n",
       "5           NaN      NaN     NaN\n",
       "8           NaN      NaN     NaN\n",
       "9           NaN      NaN     NaN\n",
       "10          NaN      NaN     NaN\n",
       "11          NaN      NaN     NaN\n",
       "...         ...      ...     ...\n",
       "149560      NaN      NaN     NaN\n",
       "149561      NaN      NaN     NaN\n",
       "149564      NaN      NaN     NaN\n",
       "149567      NaN      NaN     NaN\n",
       "149569      NaN      NaN     NaN\n",
       "\n",
       "[67227 rows x 3 columns]"
      ]
     },
     "metadata": {},
     "output_type": "display_data"
    },
    {
     "data": {
      "text/html": [
       "<div>\n",
       "<style scoped>\n",
       "    .dataframe tbody tr th:only-of-type {\n",
       "        vertical-align: middle;\n",
       "    }\n",
       "\n",
       "    .dataframe tbody tr th {\n",
       "        vertical-align: top;\n",
       "    }\n",
       "\n",
       "    .dataframe thead th {\n",
       "        text-align: right;\n",
       "    }\n",
       "</style>\n",
       "<table border=\"1\" class=\"dataframe\">\n",
       "  <thead>\n",
       "    <tr style=\"text-align: right;\">\n",
       "      <th></th>\n",
       "      <th>isbn</th>\n",
       "      <th>book_title</th>\n",
       "      <th>book_author</th>\n",
       "      <th>year_of_publication</th>\n",
       "      <th>publisher</th>\n",
       "      <th>img_url</th>\n",
       "      <th>language</th>\n",
       "      <th>category</th>\n",
       "      <th>summary</th>\n",
       "      <th>img_path</th>\n",
       "      <th>years</th>\n",
       "      <th>new_publisher</th>\n",
       "    </tr>\n",
       "  </thead>\n",
       "  <tbody>\n",
       "  </tbody>\n",
       "</table>\n",
       "</div>"
      ],
      "text/plain": [
       "Empty DataFrame\n",
       "Columns: [isbn, book_title, book_author, year_of_publication, publisher, img_url, language, category, summary, img_path, years, new_publisher]\n",
       "Index: []"
      ]
     },
     "metadata": {},
     "output_type": "display_data"
    },
    {
     "data": {
      "text/html": [
       "<div>\n",
       "<style scoped>\n",
       "    .dataframe tbody tr th:only-of-type {\n",
       "        vertical-align: middle;\n",
       "    }\n",
       "\n",
       "    .dataframe tbody tr th {\n",
       "        vertical-align: top;\n",
       "    }\n",
       "\n",
       "    .dataframe thead th {\n",
       "        text-align: right;\n",
       "    }\n",
       "</style>\n",
       "<table border=\"1\" class=\"dataframe\">\n",
       "  <thead>\n",
       "    <tr style=\"text-align: right;\">\n",
       "      <th></th>\n",
       "      <th>isbn</th>\n",
       "      <th>book_title</th>\n",
       "      <th>book_author</th>\n",
       "      <th>year_of_publication</th>\n",
       "      <th>publisher</th>\n",
       "      <th>img_url</th>\n",
       "      <th>language</th>\n",
       "      <th>category</th>\n",
       "      <th>summary</th>\n",
       "      <th>img_path</th>\n",
       "      <th>years</th>\n",
       "      <th>new_publisher</th>\n",
       "    </tr>\n",
       "  </thead>\n",
       "  <tbody>\n",
       "  </tbody>\n",
       "</table>\n",
       "</div>"
      ],
      "text/plain": [
       "Empty DataFrame\n",
       "Columns: [isbn, book_title, book_author, year_of_publication, publisher, img_url, language, category, summary, img_path, years, new_publisher]\n",
       "Index: []"
      ]
     },
     "metadata": {},
     "output_type": "display_data"
    }
   ],
   "source": [
    "display(books.loc[books['language'].isna(), ['language', 'category', 'summary']])\n",
    "display(books.loc[books['language'].isna() & books['category'].notnull()])\n",
    "display(books.loc[books['language'].isna() & books['summary'].notnull()])"
   ]
  },
  {
   "cell_type": "markdown",
   "metadata": {},
   "source": [
    "- `language`는 `isbn`의 region 정보를 활용하여 결측치 대체"
   ]
  },
  {
   "cell_type": "code",
   "execution_count": 12,
   "metadata": {},
   "outputs": [
    {
     "data": {
      "text/plain": [
       "0"
      ]
     },
     "execution_count": 12,
     "metadata": {},
     "output_type": "execute_result"
    }
   ],
   "source": [
    "region_code = set([code[:1] for code in books['isbn']])\n",
    "\n",
    "region_lang = dict()\n",
    "\n",
    "for code in region_code :\n",
    "    lang = books.loc[books['isbn'].str.startswith(str(code)), 'language']\n",
    "    mode = lang.mode()[0] if not code == 'B' else 'en' # 'B'로 시작하는 행들은 모두 NaN여서, 'en'으로 대체\n",
    "    books.loc[(books['isbn'].str.startswith(str(code))) & (books['language'].isna()), 'language'] = mode\n",
    "\n",
    "books['language'].isna().sum()"
   ]
  },
  {
   "cell_type": "markdown",
   "metadata": {},
   "source": [
    "### `category`\n",
    "- 상위 카테고리인 `category_high`를 생성"
   ]
  },
  {
   "cell_type": "code",
   "execution_count": 13,
   "metadata": {},
   "outputs": [
    {
     "data": {
      "text/html": [
       "<div>\n",
       "<style scoped>\n",
       "    .dataframe tbody tr th:only-of-type {\n",
       "        vertical-align: middle;\n",
       "    }\n",
       "\n",
       "    .dataframe tbody tr th {\n",
       "        vertical-align: top;\n",
       "    }\n",
       "\n",
       "    .dataframe thead th {\n",
       "        text-align: right;\n",
       "    }\n",
       "</style>\n",
       "<table border=\"1\" class=\"dataframe\">\n",
       "  <thead>\n",
       "    <tr style=\"text-align: right;\">\n",
       "      <th></th>\n",
       "      <th>category</th>\n",
       "      <th>count</th>\n",
       "    </tr>\n",
       "  </thead>\n",
       "  <tbody>\n",
       "    <tr>\n",
       "      <th>0</th>\n",
       "      <td>nan</td>\n",
       "      <td>68851</td>\n",
       "    </tr>\n",
       "    <tr>\n",
       "      <th>1</th>\n",
       "      <td>fiction</td>\n",
       "      <td>33016</td>\n",
       "    </tr>\n",
       "    <tr>\n",
       "      <th>2</th>\n",
       "      <td>juvenile fiction</td>\n",
       "      <td>5835</td>\n",
       "    </tr>\n",
       "    <tr>\n",
       "      <th>3</th>\n",
       "      <td>biography autobiography</td>\n",
       "      <td>3326</td>\n",
       "    </tr>\n",
       "    <tr>\n",
       "      <th>4</th>\n",
       "      <td>history</td>\n",
       "      <td>1927</td>\n",
       "    </tr>\n",
       "  </tbody>\n",
       "</table>\n",
       "</div>"
      ],
      "text/plain": [
       "                  category  count\n",
       "0                      nan  68851\n",
       "1                  fiction  33016\n",
       "2         juvenile fiction   5835\n",
       "3  biography autobiography   3326\n",
       "4                  history   1927"
      ]
     },
     "execution_count": 13,
     "metadata": {},
     "output_type": "execute_result"
    }
   ],
   "source": [
    "# 대괄호 삭제\n",
    "books['category'] = books['category'].apply(lambda x : re.sub('[\\W_]+',  ' ', str(x).lower()).strip())\n",
    "\n",
    "category_df = pd.DataFrame(books['category'].value_counts()).reset_index()\n",
    "category_df.columns = ['category', 'count']\n",
    "category_df.head()"
   ]
  },
  {
   "cell_type": "code",
   "execution_count": 14,
   "metadata": {},
   "outputs": [],
   "source": [
    "books['category_high'] = books['category'].copy()\n",
    "\n",
    "categories = ['garden', 'crafts', 'physics', 'adventure', 'music', 'fiction', 'nonfiction', 'science', 'science fiction', 'social', 'homicide', \n",
    "              'sociology', 'disease', 'religion', 'christian', 'philosophy', 'psycholog', 'mathemat', 'agricult', 'environmental',\n",
    "              'business', 'poetry', 'drama', 'literary', 'travel', 'motion picture', 'children', 'cook', 'literature', 'electronic', \n",
    "              'humor', 'animal', 'bird', 'photograph', 'computer', 'house', 'ecology', 'family', 'architect', 'camp', 'criminal', 'language', 'india']\n",
    "\n",
    "for category in categories :\n",
    "    books.loc[books[books['category'].str.contains(category, na = False)].index, 'category_high'] = category"
   ]
  },
  {
   "cell_type": "code",
   "execution_count": 15,
   "metadata": {},
   "outputs": [
    {
     "data": {
      "text/html": [
       "<div>\n",
       "<style scoped>\n",
       "    .dataframe tbody tr th:only-of-type {\n",
       "        vertical-align: middle;\n",
       "    }\n",
       "\n",
       "    .dataframe tbody tr th {\n",
       "        vertical-align: top;\n",
       "    }\n",
       "\n",
       "    .dataframe thead th {\n",
       "        text-align: right;\n",
       "    }\n",
       "</style>\n",
       "<table border=\"1\" class=\"dataframe\">\n",
       "  <thead>\n",
       "    <tr style=\"text-align: right;\">\n",
       "      <th></th>\n",
       "      <th>category</th>\n",
       "      <th>count</th>\n",
       "    </tr>\n",
       "  </thead>\n",
       "  <tbody>\n",
       "    <tr>\n",
       "      <th>0</th>\n",
       "      <td>nan</td>\n",
       "      <td>68851</td>\n",
       "    </tr>\n",
       "    <tr>\n",
       "      <th>1</th>\n",
       "      <td>fiction</td>\n",
       "      <td>39678</td>\n",
       "    </tr>\n",
       "    <tr>\n",
       "      <th>2</th>\n",
       "      <td>biography autobiography</td>\n",
       "      <td>3326</td>\n",
       "    </tr>\n",
       "    <tr>\n",
       "      <th>3</th>\n",
       "      <td>history</td>\n",
       "      <td>1927</td>\n",
       "    </tr>\n",
       "    <tr>\n",
       "      <th>4</th>\n",
       "      <td>religion</td>\n",
       "      <td>1824</td>\n",
       "    </tr>\n",
       "    <tr>\n",
       "      <th>5</th>\n",
       "      <td>nonfiction</td>\n",
       "      <td>1427</td>\n",
       "    </tr>\n",
       "    <tr>\n",
       "      <th>6</th>\n",
       "      <td>humor</td>\n",
       "      <td>1291</td>\n",
       "    </tr>\n",
       "    <tr>\n",
       "      <th>7</th>\n",
       "      <td>social</td>\n",
       "      <td>1271</td>\n",
       "    </tr>\n",
       "    <tr>\n",
       "      <th>8</th>\n",
       "      <td>business</td>\n",
       "      <td>1146</td>\n",
       "    </tr>\n",
       "    <tr>\n",
       "      <th>9</th>\n",
       "      <td>cook</td>\n",
       "      <td>1125</td>\n",
       "    </tr>\n",
       "  </tbody>\n",
       "</table>\n",
       "</div>"
      ],
      "text/plain": [
       "                  category  count\n",
       "0                      nan  68851\n",
       "1                  fiction  39678\n",
       "2  biography autobiography   3326\n",
       "3                  history   1927\n",
       "4                 religion   1824\n",
       "5               nonfiction   1427\n",
       "6                    humor   1291\n",
       "7                   social   1271\n",
       "8                 business   1146\n",
       "9                     cook   1125"
      ]
     },
     "execution_count": 15,
     "metadata": {},
     "output_type": "execute_result"
    }
   ],
   "source": [
    "category_high_df = pd.DataFrame(books['category_high'].value_counts()).reset_index()\n",
    "category_high_df.columns = ['category', 'count']\n",
    "category_high_df.head(10)"
   ]
  },
  {
   "cell_type": "code",
   "execution_count": 16,
   "metadata": {},
   "outputs": [
    {
     "name": "stdout",
     "output_type": "stream",
     "text": [
      "2856\n"
     ]
    }
   ],
   "source": [
    "# 5개 이하인 항목은 others\n",
    "others_list = category_high_df[category_high_df['count'] < 5]['category'].values\n",
    "print(len(others_list))\n",
    "\n",
    "books.loc[books[books['category_high'].isin(others_list)].index, 'category_high'] = 'others'"
   ]
  },
  {
   "cell_type": "code",
   "execution_count": 17,
   "metadata": {},
   "outputs": [
    {
     "name": "stdout",
     "output_type": "stream",
     "text": [
      "68851\n"
     ]
    }
   ],
   "source": [
    "books['category_high'] = books['category_high'].replace('nan', np.nan)\n",
    "books['category_high'] = books['category_high'].replace('unknown', np.nan)\n",
    "print(books['category_high'].isna().sum())\n",
    "\n",
    "books['category_high'].fillna('fiction', inplace = True)"
   ]
  },
  {
   "cell_type": "code",
   "execution_count": 52,
   "metadata": {},
   "outputs": [
    {
     "name": "stdout",
     "output_type": "stream",
     "text": [
      "<class 'pandas.core.frame.DataFrame'>\n",
      "RangeIndex: 149570 entries, 0 to 149569\n",
      "Data columns (total 13 columns):\n",
      " #   Column               Non-Null Count   Dtype  \n",
      "---  ------               --------------   -----  \n",
      " 0   isbn                 149570 non-null  object \n",
      " 1   book_title           149570 non-null  object \n",
      " 2   book_author          149570 non-null  object \n",
      " 3   year_of_publication  149570 non-null  float64\n",
      " 4   publisher            149570 non-null  object \n",
      " 5   img_url              149570 non-null  object \n",
      " 6   language             149570 non-null  object \n",
      " 7   category             149570 non-null  object \n",
      " 8   summary              82343 non-null   object \n",
      " 9   img_path             149570 non-null  object \n",
      " 10  years                149570 non-null  int64  \n",
      " 11  new_publisher        149570 non-null  object \n",
      " 12  category_high        149570 non-null  object \n",
      "dtypes: float64(1), int64(1), object(11)\n",
      "memory usage: 14.8+ MB\n"
     ]
    }
   ],
   "source": [
    "books.info()"
   ]
  },
  {
   "cell_type": "code",
   "execution_count": 53,
   "metadata": {},
   "outputs": [],
   "source": [
    "books.to_csv('./code/data/books_preprocessed.csv', index = False)"
   ]
  },
  {
   "cell_type": "markdown",
   "metadata": {},
   "source": [
    "## `users`"
   ]
  },
  {
   "cell_type": "code",
   "execution_count": 17,
   "metadata": {},
   "outputs": [
    {
     "name": "stdout",
     "output_type": "stream",
     "text": [
      "<class 'pandas.core.frame.DataFrame'>\n",
      "RangeIndex: 68092 entries, 0 to 68091\n",
      "Data columns (total 6 columns):\n",
      " #   Column    Non-Null Count  Dtype  \n",
      "---  ------    --------------  -----  \n",
      " 0   user_id   68092 non-null  int64  \n",
      " 1   location  68092 non-null  object \n",
      " 2   age       40259 non-null  float64\n",
      " 3   city      68092 non-null  int64  \n",
      " 4   state     68092 non-null  int64  \n",
      " 5   country   68092 non-null  int64  \n",
      "dtypes: float64(1), int64(4), object(1)\n",
      "memory usage: 3.1+ MB\n"
     ]
    }
   ],
   "source": [
    "users.info()"
   ]
  },
  {
   "cell_type": "markdown",
   "metadata": {},
   "source": [
    "### `city`, `state`, `country` 전처리 방법 1 (성능 best)"
   ]
  },
  {
   "cell_type": "code",
   "execution_count": 18,
   "metadata": {},
   "outputs": [
    {
     "name": "stdout",
     "output_type": "stream",
     "text": [
      "<class 'pandas.core.frame.DataFrame'>\n",
      "RangeIndex: 68092 entries, 0 to 68091\n",
      "Data columns (total 4 columns):\n",
      " #   Column    Non-Null Count  Dtype \n",
      "---  ------    --------------  ----- \n",
      " 0   location  68092 non-null  object\n",
      " 1   city      67963 non-null  object\n",
      " 2   state     64838 non-null  object\n",
      " 3   country   65968 non-null  object\n",
      "dtypes: object(4)\n",
      "memory usage: 2.1+ MB\n"
     ]
    }
   ],
   "source": [
    "users['location'] = users['location'].str.replace(r'[^a-zA-Z:,]', '', regex = True)\n",
    "\n",
    "users['city'] = users['location'].apply(lambda x : x.split(',')[0].strip())\n",
    "users['state'] = users['location'].apply(lambda x : x.split(',')[1].strip())\n",
    "users['country'] = users['location'].apply(lambda x : x.split(',')[2].strip())\n",
    "\n",
    "users = users.replace('na', np.nan)\n",
    "users = users.replace('', np.nan)\n",
    "\n",
    "users[['location', 'city', 'state', 'country']].info()"
   ]
  },
  {
   "cell_type": "code",
   "execution_count": 19,
   "metadata": {},
   "outputs": [
    {
     "name": "stderr",
     "output_type": "stream",
     "text": [
      "  0%|          | 0/2113 [00:00<?, ?it/s]"
     ]
    },
    {
     "name": "stderr",
     "output_type": "stream",
     "text": [
      "100%|██████████| 2113/2113 [00:57<00:00, 36.84it/s]\n",
      "100%|██████████| 1963/1963 [00:20<00:00, 97.56it/s] \n"
     ]
    }
   ],
   "source": [
    "# preprocess_loc.csv 전처리 방법\n",
    "modify_location = users[(users['country'].isna())&(users['city'].notnull())]['city'].values\n",
    "location = users[(users['location'].str.contains('seattle'))&(users['country'].notnull())]['location'].value_counts().index[0]\n",
    "\n",
    "location_list = []\n",
    "for location in tqdm.tqdm(modify_location):\n",
    "    try:\n",
    "        right_location = users[(users['location'].str.contains(location))&(users['country'].notnull())]['location'].value_counts().index[0]\n",
    "        location_list.append(right_location)\n",
    "    except:\n",
    "        pass\n",
    "\n",
    "for location in tqdm.tqdm(location_list) :\n",
    "    users.loc[users[users['city'] == location.split(',')[0]].index, 'state'] = location.split(',')[1]\n",
    "    users.loc[users[users['city'] == location.split(',')[0]].index, 'country'] = location.split(',')[2]\n",
    "\n",
    "city2idx = {v:k for k,v in enumerate(users['city'].unique())}\n",
    "state2idx = {v:k for k,v in enumerate(users['state'].unique())}\n",
    "country2idx = {v:k for k,v in enumerate(users['country'].unique())}\n",
    "\n",
    "users['city'] = users['city'].map(city2idx)\n",
    "users['state'] = users['state'].map(state2idx)\n",
    "users['country'] = users['country'].map(country2idx)"
   ]
  },
  {
   "cell_type": "markdown",
   "metadata": {},
   "source": [
    "### `city`, `state`, `country` 전처리 방법 2 (성능이 더 안좋은 듯)\n",
    "- `city`가 가장 결측치가 적지만, 고윳값이 많아서 모델링할 때 그닥 좋은 성능을 낼 것 같지 않아보임\n",
    "    - `country`의 결측치를 채워서 분석에 사용하는 쪽으로 방향을 설정"
   ]
  },
  {
   "cell_type": "code",
   "execution_count": 22,
   "metadata": {},
   "outputs": [
    {
     "name": "stdout",
     "output_type": "stream",
     "text": [
      "11958 1499 316\n"
     ]
    }
   ],
   "source": [
    "print(users['city'].nunique(), users['state'].nunique(), users['country'].nunique())"
   ]
  },
  {
   "cell_type": "code",
   "execution_count": 23,
   "metadata": {},
   "outputs": [
    {
     "name": "stderr",
     "output_type": "stream",
     "text": [
      "  0%|          | 0/623 [00:00<?, ?it/s]"
     ]
    },
    {
     "name": "stderr",
     "output_type": "stream",
     "text": [
      "100%|██████████| 623/623 [00:32<00:00, 19.41it/s]\n",
      "100%|██████████| 1308/1308 [01:04<00:00, 20.14it/s]\n",
      "100%|██████████| 316/316 [00:16<00:00, 18.74it/s]\n"
     ]
    }
   ],
   "source": [
    "# country가 결측 / city 결측 X인 경우\n",
    "cities = users[(users['city'].notnull()) & (users['country'].isna())]['city'].values\n",
    "\n",
    "for city in tqdm.tqdm(cities) :\n",
    "    try :\n",
    "        country = users.loc[(users['location'].str.contains(city)), 'country'].value_counts().index[0]\n",
    "        users.loc[(users['location'].str.contains(city)) & (users['country'].isna()), 'country'] = country\n",
    "    except :\n",
    "        pass\n",
    "    \n",
    "# country가 결측 / state 결측 X인 경우\n",
    "states = users[(users['state'].notnull()) & (users['country'].isna())]['state'].values\n",
    "\n",
    "for state in tqdm.tqdm(states) :\n",
    "    try :\n",
    "        country = users.loc[(users['location'].str.contains(state)), 'country'].value_counts().index[0]\n",
    "        users.loc[(users['location'].str.contains(state)) & (users['country'].isna()), 'country'] = country\n",
    "    except :\n",
    "        pass\n",
    "\n",
    "# 각 나라 별로 location의 최빈값으로 대체\n",
    "countries_list = users['country'].value_counts()\n",
    "for country in tqdm.tqdm(countries_list.index) :\n",
    "    try :\n",
    "        new_country = users.loc[(users['location'].str.contains(country)), 'country'].value_counts().index[0]\n",
    "        users.loc[(users['location'].str.contains(country)) & (users['country'] == country), \n",
    "                  'country'] = new_country\n",
    "    except :\n",
    "        pass"
   ]
  },
  {
   "cell_type": "code",
   "execution_count": 24,
   "metadata": {},
   "outputs": [
    {
     "name": "stdout",
     "output_type": "stream",
     "text": [
      "['canada' nan 'usa' 'malaysia' 'newzealand' 'finland' 'unitedkingdom'\n",
      " 'portugal' 'brazil' 'germany' 'austria' 'italy' 'australia' 'france'\n",
      " 'costarica' 'netherlands' 'poland' 'iran' 'aruba' 'spain' 'taiwan'\n",
      " 'singapore' 'argentina' 'romania' 'greece' 'ireland' 'belgium'\n",
      " 'philippines' 'southafrica' 'switzerland' 'yugoslavia' 'turkey' 'japan'\n",
      " 'china' 'qatar' 'sweden' 'kuwait' 'indonesia' 'nepal' 'unitedstates'\n",
      " 'slovakia' 'norway' 'dominicanrepublic' 'southkorea' 'macedonia' 'kenya'\n",
      " 'mauritius' 'madagascar' 'israel' 'egypt' 'denmark' 'guatemala'\n",
      " 'euskalherria' 'palau' 'czechrepublic' 'venezuela' 'faraway' 'antarctica'\n",
      " 'andorra' 'bulgaria' 'nigeria' 'everywhereandanywhere' 'slovenia' 'chile'\n",
      " 'kcb' 'hongkong' 'luxembourg' 'iceland' 'honduras' 'zambia' 'zimbabwe'\n",
      " 'phillipines' 'trinidadandtobago' 'belize' 'algeria' 'vanwert' 'bermuda'\n",
      " 'bahamas' 'saudiarabia' 'cyprus' 'universe' 'albania' 'mozambique'\n",
      " 'ukraine' 'pakistan' 'guinea' 'caymanislands' 'tdzimi' 'tonga' 'srilanka'\n",
      " 'saintlucia' 'mexico' 'canaryislands' 'stthomasi' 'malta' 'cocarlow'\n",
      " 'turkmenistan' 'vvh' 'barbados' 'naontheroad' 'laos' 'tunisia'\n",
      " 'caribbeansea' 'burma' 'tanzania' 'guernsey' 'latvia' 'hungary'\n",
      " 'republicofpanama' 'deutschland' 'unitedarabemirates' 'ysa' 'thailand'\n",
      " 'obviously' 'bahrain' 'moldova' 'etelsuomi' 'unitedstaes' 'mongolia'\n",
      " 'ecuador' 'richmondcountry' 'bolivia' 'ghana' 'alderney'\n",
      " 'districtofcolumbia' 'estonia' 'afghanistan' 'papuanewguinea' 'uruguay'\n",
      " 'csa' 'orense' 'kazakhstan' 'paraguay' 'italia' 'space' 'colombia'\n",
      " 'usofa' 'aroostook' 'grenada' 'unitedstatesofamerica' 'croatia' 'lkjlj'\n",
      " 'monaco' 'alachua' 'lachineternelle' 'almera' 'benin' 'uae' 'vietnam'\n",
      " 'unitedkindgonm' 'franciscomorazan' 'antiguaandbarbuda' 'cambodia'\n",
      " 'capeverde' 'uganda' 'tajikistan' 'catalunyaspain' 'litalia' 'brunei'\n",
      " 'losestadosunidosdenorteamerica' 'petrolwarnation' 'morocco' 'maricopa'\n",
      " 'lithuania' 'uzbekistan' 'cameroon' 'labelgique' 'ineurope' 'anystate'\n",
      " 'lafrance' 'saintloius' 'hereandthere' 'lasuisse' 'disritofederal'\n",
      " 'bangladesh' 'guineabissau' 'fortbend' 'unitedsates' 'fiji' 'usacanada'\n",
      " 'gabon' 'usanow' 'usacurrentlylivinginengland' 'maracopa' 'elsalvador']\n"
     ]
    }
   ],
   "source": [
    "print(users['country'].unique())"
   ]
  },
  {
   "cell_type": "markdown",
   "metadata": {},
   "source": [
    "- `country`의 오타나 오기입되어 있는 값 처리\n",
    "- canada -> 'canada', 'cananda', 'vvh', 'lkjlj'\n",
    "- italy -> 'italia', 'italy', 'litalia', 'ineurope'\n",
    "- phillipines -> 'phillipines', 'phillippines'\n",
    "- spain -> 'catalunyaspain', 'spain'\n",
    "- unitedkingdom -> 'unitedkingdom', 'usacurrentlylivinginengland', 'unitedkindgonm', 'obviously'\n",
    "- usa -> 'unitedstates', 'unitedstaes', 'unitedstatesofamerica', 'usa', 'usanow', 'ysa', 'csa', 'anystate', 'usacanada'\n",
    "- uruguay -> 'urugua', 'uruguay'"
   ]
  },
  {
   "cell_type": "code",
   "execution_count": 25,
   "metadata": {},
   "outputs": [
    {
     "name": "stdout",
     "output_type": "stream",
     "text": [
      "Before : 184\n",
      "After : 166\n"
     ]
    }
   ],
   "source": [
    "print(f'Before : {users[\"country\"].nunique()}')\n",
    "country_mapping = {\n",
    "    'canada': ['canada', 'cananda', 'vvh', 'lkjlj'],\n",
    "    'italy': ['italia', 'italy', 'litalia', 'ineurope'],\n",
    "    'phillipines': ['phillipines', 'phillippines'],\n",
    "    'spain': ['catalunyaspain', 'spain'],\n",
    "    'unitedkingdom': ['unitedkingdom', 'usacurrentlylivinginengland', 'unitedkindgonm', 'obviously'],\n",
    "    'usa': ['unitedstates', 'unitedstaes', 'unitedsates', 'unitedstatesofamerica', 'usa', 'usanow', 'ysa', 'csa', 'anystate', 'usacanada'],\n",
    "    'uruguay': ['urugua', 'uruguay']\n",
    "}\n",
    "\n",
    "for target_country, aliases in country_mapping.items() :\n",
    "    users['country'].replace(aliases, target_country, inplace = True)\n",
    "\n",
    "print(f'After : {users[\"country\"].nunique()}')"
   ]
  },
  {
   "cell_type": "code",
   "execution_count": 26,
   "metadata": {},
   "outputs": [
    {
     "name": "stdout",
     "output_type": "stream",
     "text": [
      "94\n"
     ]
    },
    {
     "data": {
      "text/html": [
       "<div>\n",
       "<style scoped>\n",
       "    .dataframe tbody tr th:only-of-type {\n",
       "        vertical-align: middle;\n",
       "    }\n",
       "\n",
       "    .dataframe tbody tr th {\n",
       "        vertical-align: top;\n",
       "    }\n",
       "\n",
       "    .dataframe thead th {\n",
       "        text-align: right;\n",
       "    }\n",
       "</style>\n",
       "<table border=\"1\" class=\"dataframe\">\n",
       "  <thead>\n",
       "    <tr style=\"text-align: right;\">\n",
       "      <th></th>\n",
       "      <th>count</th>\n",
       "    </tr>\n",
       "    <tr>\n",
       "      <th>country</th>\n",
       "      <th></th>\n",
       "    </tr>\n",
       "  </thead>\n",
       "  <tbody>\n",
       "    <tr>\n",
       "      <th>usa</th>\n",
       "      <td>45756</td>\n",
       "    </tr>\n",
       "    <tr>\n",
       "      <th>canada</th>\n",
       "      <td>6490</td>\n",
       "    </tr>\n",
       "    <tr>\n",
       "      <th>germany</th>\n",
       "      <td>3591</td>\n",
       "    </tr>\n",
       "    <tr>\n",
       "      <th>unitedkingdom</th>\n",
       "      <td>3026</td>\n",
       "    </tr>\n",
       "    <tr>\n",
       "      <th>australia</th>\n",
       "      <td>1834</td>\n",
       "    </tr>\n",
       "    <tr>\n",
       "      <th>...</th>\n",
       "      <td>...</td>\n",
       "    </tr>\n",
       "    <tr>\n",
       "      <th>labelgique</th>\n",
       "      <td>1</td>\n",
       "    </tr>\n",
       "    <tr>\n",
       "      <th>lafrance</th>\n",
       "      <td>1</td>\n",
       "    </tr>\n",
       "    <tr>\n",
       "      <th>gabon</th>\n",
       "      <td>1</td>\n",
       "    </tr>\n",
       "    <tr>\n",
       "      <th>maracopa</th>\n",
       "      <td>1</td>\n",
       "    </tr>\n",
       "    <tr>\n",
       "      <th>elsalvador</th>\n",
       "      <td>1</td>\n",
       "    </tr>\n",
       "  </tbody>\n",
       "</table>\n",
       "<p>166 rows × 1 columns</p>\n",
       "</div>"
      ],
      "text/plain": [
       "               count\n",
       "country             \n",
       "usa            45756\n",
       "canada          6490\n",
       "germany         3591\n",
       "unitedkingdom   3026\n",
       "australia       1834\n",
       "...              ...\n",
       "labelgique         1\n",
       "lafrance           1\n",
       "gabon              1\n",
       "maracopa           1\n",
       "elsalvador         1\n",
       "\n",
       "[166 rows x 1 columns]"
      ]
     },
     "execution_count": 26,
     "metadata": {},
     "output_type": "execute_result"
    }
   ],
   "source": [
    "print(users['country'].isna().sum())\n",
    "users['country'].value_counts().to_frame()"
   ]
  },
  {
   "cell_type": "code",
   "execution_count": 27,
   "metadata": {},
   "outputs": [
    {
     "name": "stderr",
     "output_type": "stream",
     "text": [
      "100%|██████████| 118/118 [00:00<00:00, 226.39it/s]\n"
     ]
    }
   ],
   "source": [
    "# 10개 이하의 country를 others로 변환\n",
    "others = users['country'].value_counts()[users['country'].value_counts() < 10].index\n",
    "for country in tqdm.tqdm(others) :\n",
    "    try :\n",
    "        users.loc[(users['country'] == country), 'country'] = 'others'\n",
    "    except :\n",
    "        pass"
   ]
  },
  {
   "cell_type": "code",
   "execution_count": 28,
   "metadata": {},
   "outputs": [
    {
     "name": "stdout",
     "output_type": "stream",
     "text": [
      "49\n"
     ]
    }
   ],
   "source": [
    "# 나머지 결측치에 대해서도 others로 변환\n",
    "users['country'] = users['country'].fillna('others')\n",
    "print(users['country'].nunique())"
   ]
  },
  {
   "cell_type": "markdown",
   "metadata": {},
   "source": [
    "### `age`\n",
    "- 국가별 `age`의 중앙값으로 대체\n",
    "- 국가별 `age`의 중앙값이 존재하지 않는 경우, 전체 `age`의 중앙값으로 대체"
   ]
  },
  {
   "cell_type": "code",
   "execution_count": 20,
   "metadata": {},
   "outputs": [
    {
     "name": "stdout",
     "output_type": "stream",
     "text": [
      "0\n"
     ]
    }
   ],
   "source": [
    "country_age_median = users.groupby('country')['age'].median()\n",
    "users['age'] = users.apply(lambda x : country_age_median[x['country']] if pd.isna(x['age']) else x['age'], axis = 1)\n",
    "\n",
    "global_age_median = users['age'].median()\n",
    "users['age'].fillna(global_age_median, inplace = True)\n",
    "print(users['age'].isna().sum())"
   ]
  },
  {
   "cell_type": "markdown",
   "metadata": {},
   "source": [
    "- 10살 단위 연령대로 분할하여 `new_age` 변수 생성"
   ]
  },
  {
   "cell_type": "code",
   "execution_count": 21,
   "metadata": {},
   "outputs": [
    {
     "data": {
      "text/html": [
       "<div>\n",
       "<style scoped>\n",
       "    .dataframe tbody tr th:only-of-type {\n",
       "        vertical-align: middle;\n",
       "    }\n",
       "\n",
       "    .dataframe tbody tr th {\n",
       "        vertical-align: top;\n",
       "    }\n",
       "\n",
       "    .dataframe thead th {\n",
       "        text-align: right;\n",
       "    }\n",
       "</style>\n",
       "<table border=\"1\" class=\"dataframe\">\n",
       "  <thead>\n",
       "    <tr style=\"text-align: right;\">\n",
       "      <th></th>\n",
       "      <th>age</th>\n",
       "      <th>new_age</th>\n",
       "    </tr>\n",
       "  </thead>\n",
       "  <tbody>\n",
       "    <tr>\n",
       "      <th>0</th>\n",
       "      <td>33.0</td>\n",
       "      <td>30</td>\n",
       "    </tr>\n",
       "    <tr>\n",
       "      <th>1</th>\n",
       "      <td>49.0</td>\n",
       "      <td>40</td>\n",
       "    </tr>\n",
       "    <tr>\n",
       "      <th>2</th>\n",
       "      <td>35.0</td>\n",
       "      <td>30</td>\n",
       "    </tr>\n",
       "    <tr>\n",
       "      <th>3</th>\n",
       "      <td>30.0</td>\n",
       "      <td>30</td>\n",
       "    </tr>\n",
       "    <tr>\n",
       "      <th>4</th>\n",
       "      <td>36.0</td>\n",
       "      <td>30</td>\n",
       "    </tr>\n",
       "    <tr>\n",
       "      <th>...</th>\n",
       "      <td>...</td>\n",
       "      <td>...</td>\n",
       "    </tr>\n",
       "    <tr>\n",
       "      <th>68087</th>\n",
       "      <td>54.0</td>\n",
       "      <td>50</td>\n",
       "    </tr>\n",
       "    <tr>\n",
       "      <th>68088</th>\n",
       "      <td>74.0</td>\n",
       "      <td>70</td>\n",
       "    </tr>\n",
       "    <tr>\n",
       "      <th>68089</th>\n",
       "      <td>36.0</td>\n",
       "      <td>30</td>\n",
       "    </tr>\n",
       "    <tr>\n",
       "      <th>68090</th>\n",
       "      <td>33.0</td>\n",
       "      <td>30</td>\n",
       "    </tr>\n",
       "    <tr>\n",
       "      <th>68091</th>\n",
       "      <td>63.0</td>\n",
       "      <td>60</td>\n",
       "    </tr>\n",
       "  </tbody>\n",
       "</table>\n",
       "<p>68092 rows × 2 columns</p>\n",
       "</div>"
      ],
      "text/plain": [
       "        age  new_age\n",
       "0      33.0       30\n",
       "1      49.0       40\n",
       "2      35.0       30\n",
       "3      30.0       30\n",
       "4      36.0       30\n",
       "...     ...      ...\n",
       "68087  54.0       50\n",
       "68088  74.0       70\n",
       "68089  36.0       30\n",
       "68090  33.0       30\n",
       "68091  63.0       60\n",
       "\n",
       "[68092 rows x 2 columns]"
      ]
     },
     "execution_count": 21,
     "metadata": {},
     "output_type": "execute_result"
    }
   ],
   "source": [
    "users['new_age'] = ((users['age'] // 10) * 10).astype(int)\n",
    "users[['age', 'new_age']]"
   ]
  },
  {
   "cell_type": "code",
   "execution_count": 22,
   "metadata": {},
   "outputs": [
    {
     "name": "stdout",
     "output_type": "stream",
     "text": [
      "<class 'pandas.core.frame.DataFrame'>\n",
      "RangeIndex: 68092 entries, 0 to 68091\n",
      "Data columns (total 7 columns):\n",
      " #   Column    Non-Null Count  Dtype  \n",
      "---  ------    --------------  -----  \n",
      " 0   user_id   68092 non-null  int64  \n",
      " 1   location  68092 non-null  object \n",
      " 2   age       68092 non-null  float64\n",
      " 3   city      68092 non-null  int64  \n",
      " 4   state     68092 non-null  int64  \n",
      " 5   country   68092 non-null  int64  \n",
      " 6   new_age   68092 non-null  int64  \n",
      "dtypes: float64(1), int64(5), object(1)\n",
      "memory usage: 3.6+ MB\n"
     ]
    }
   ],
   "source": [
    "users.info()"
   ]
  },
  {
   "cell_type": "code",
   "execution_count": 23,
   "metadata": {},
   "outputs": [],
   "source": [
    "users.to_csv('./code/data/users_preprocessed.csv', index = False)"
   ]
  },
  {
   "cell_type": "markdown",
   "metadata": {},
   "source": [
    "## `ratings`와 Merge"
   ]
  },
  {
   "cell_type": "code",
   "execution_count": 7,
   "metadata": {},
   "outputs": [
    {
     "name": "stdout",
     "output_type": "stream",
     "text": [
      "(149570, 13) (68092, 7) (306795, 3) (76699, 3)\n"
     ]
    }
   ],
   "source": [
    "path = './code/data/'\n",
    "books_pre = pd.read_csv(path + 'books_preprocessed.csv')\n",
    "users_pre = pd.read_csv(path + 'users_preprocessed.csv')\n",
    "train_ratings = pd.read_csv(path + 'train_ratings.csv')\n",
    "test_ratings = pd.read_csv(path + 'test_ratings.csv')\n",
    "\n",
    "print(books_pre.shape, users_pre.shape, train_ratings.shape, test_ratings.shape)"
   ]
  },
  {
   "cell_type": "code",
   "execution_count": 8,
   "metadata": {},
   "outputs": [
    {
     "name": "stdout",
     "output_type": "stream",
     "text": [
      "<class 'pandas.core.frame.DataFrame'>\n",
      "RangeIndex: 149570 entries, 0 to 149569\n",
      "Data columns (total 13 columns):\n",
      " #   Column               Non-Null Count   Dtype  \n",
      "---  ------               --------------   -----  \n",
      " 0   isbn                 149570 non-null  object \n",
      " 1   book_title           149570 non-null  object \n",
      " 2   book_author          149570 non-null  object \n",
      " 3   year_of_publication  149570 non-null  float64\n",
      " 4   publisher            149570 non-null  object \n",
      " 5   img_url              149570 non-null  object \n",
      " 6   language             149570 non-null  object \n",
      " 7   category             80719 non-null   object \n",
      " 8   summary              82343 non-null   object \n",
      " 9   img_path             149570 non-null  object \n",
      " 10  years                149570 non-null  int64  \n",
      " 11  new_publisher        149570 non-null  object \n",
      " 12  category_high        149570 non-null  object \n",
      "dtypes: float64(1), int64(1), object(11)\n",
      "memory usage: 14.8+ MB\n",
      "<class 'pandas.core.frame.DataFrame'>\n",
      "RangeIndex: 68092 entries, 0 to 68091\n",
      "Data columns (total 7 columns):\n",
      " #   Column    Non-Null Count  Dtype  \n",
      "---  ------    --------------  -----  \n",
      " 0   user_id   68092 non-null  int64  \n",
      " 1   location  68092 non-null  object \n",
      " 2   age       68092 non-null  float64\n",
      " 3   city      68092 non-null  int64  \n",
      " 4   state     68092 non-null  int64  \n",
      " 5   country   68092 non-null  int64  \n",
      " 6   new_age   68092 non-null  int64  \n",
      "dtypes: float64(1), int64(5), object(1)\n",
      "memory usage: 3.6+ MB\n"
     ]
    },
    {
     "data": {
      "text/plain": [
       "None"
      ]
     },
     "metadata": {},
     "output_type": "display_data"
    },
    {
     "data": {
      "text/plain": [
       "None"
      ]
     },
     "metadata": {},
     "output_type": "display_data"
    }
   ],
   "source": [
    "display(books_pre.info(), users_pre.info())"
   ]
  },
  {
   "cell_type": "code",
   "execution_count": 9,
   "metadata": {},
   "outputs": [],
   "source": [
    "books_final = books_pre[['isbn', 'book_title', 'book_author', 'language', 'years', 'new_publisher', 'category_high']]\n",
    "users_final = users_pre[['user_id', 'city', 'state', 'country', 'new_age']] # [['user_id', 'country', 'new_age']]"
   ]
  },
  {
   "cell_type": "code",
   "execution_count": 10,
   "metadata": {},
   "outputs": [
    {
     "name": "stdout",
     "output_type": "stream",
     "text": [
      "<class 'pandas.core.frame.DataFrame'>\n",
      "RangeIndex: 306795 entries, 0 to 306794\n",
      "Data columns (total 13 columns):\n",
      " #   Column         Non-Null Count   Dtype  \n",
      "---  ------         --------------   -----  \n",
      " 0   user_id        306795 non-null  int64  \n",
      " 1   city           306795 non-null  int64  \n",
      " 2   state          306795 non-null  int64  \n",
      " 3   country        306795 non-null  int64  \n",
      " 4   new_age        306795 non-null  int64  \n",
      " 5   isbn           306795 non-null  object \n",
      " 6   book_title     306795 non-null  object \n",
      " 7   book_author    306795 non-null  object \n",
      " 8   language       306795 non-null  object \n",
      " 9   years          306795 non-null  float64\n",
      " 10  new_publisher  306795 non-null  object \n",
      " 11  category_high  306795 non-null  object \n",
      " 12  rating         306795 non-null  float64\n",
      "dtypes: float64(2), int64(5), object(6)\n",
      "memory usage: 30.4+ MB\n"
     ]
    }
   ],
   "source": [
    "train_ratings['index'] = train_ratings.index\n",
    "train_df = pd.merge(books_final, train_ratings, how = 'left', on = 'isbn').dropna(subset = 'rating')\n",
    "train_df = pd.merge(users_final, train_df, how = 'left', on = 'user_id').dropna(subset = 'rating')\n",
    "train_df = train_df.sort_values('index').reset_index(drop = True).drop(columns = 'index')\n",
    "train_df.info()"
   ]
  },
  {
   "cell_type": "code",
   "execution_count": 11,
   "metadata": {},
   "outputs": [
    {
     "name": "stdout",
     "output_type": "stream",
     "text": [
      "<class 'pandas.core.frame.DataFrame'>\n",
      "RangeIndex: 76699 entries, 0 to 76698\n",
      "Data columns (total 13 columns):\n",
      " #   Column         Non-Null Count  Dtype  \n",
      "---  ------         --------------  -----  \n",
      " 0   user_id        76699 non-null  int64  \n",
      " 1   city           76699 non-null  int64  \n",
      " 2   state          76699 non-null  int64  \n",
      " 3   country        76699 non-null  int64  \n",
      " 4   new_age        76699 non-null  int64  \n",
      " 5   isbn           76699 non-null  object \n",
      " 6   book_title     76699 non-null  object \n",
      " 7   book_author    76699 non-null  object \n",
      " 8   language       76699 non-null  object \n",
      " 9   years          76699 non-null  float64\n",
      " 10  new_publisher  76699 non-null  object \n",
      " 11  category_high  76699 non-null  object \n",
      " 12  rating         76699 non-null  float64\n",
      "dtypes: float64(2), int64(5), object(6)\n",
      "memory usage: 7.6+ MB\n"
     ]
    }
   ],
   "source": [
    "test_ratings['index'] = test_ratings.index\n",
    "test_df = pd.merge(books_final, test_ratings, how = 'left', on = 'isbn').dropna(subset = 'rating')\n",
    "test_df = pd.merge(users_final, test_df, how = 'left', on = 'user_id').dropna(subset = 'rating')\n",
    "test_df = test_df.sort_values('index').reset_index(drop = True).drop(columns = 'index')\n",
    "test_df.info()"
   ]
  },
  {
   "cell_type": "markdown",
   "metadata": {},
   "source": [
    "- `avg_rating`\n",
    "    - `user_id`별 평균 `rating`의 값을 계산"
   ]
  },
  {
   "cell_type": "code",
   "execution_count": 12,
   "metadata": {},
   "outputs": [],
   "source": [
    "rating_avg = train_df.groupby('user_id', as_index = False)['rating'].mean().rename({'rating' : 'rating_avg'}, axis = 1)\n",
    "train_df = pd.merge(train_df, rating_avg, how = 'left', on = 'user_id')\n",
    "test_df = pd.merge(test_df, rating_avg, how = 'left', on = 'user_id')\n",
    "test_df['rating_avg'].fillna(train_df['rating'].mean(), inplace = True)"
   ]
  },
  {
   "cell_type": "code",
   "execution_count": 13,
   "metadata": {},
   "outputs": [],
   "source": [
    "train_df['user_id'] = train_df['user_id'].astype('str')\n",
    "train_df['city'] = train_df['city'].astype('str')\n",
    "train_df['state'] = train_df['state'].astype('str')\n",
    "train_df['country'] = train_df['country'].astype('str')\n",
    "train_df['new_age'] = train_df['new_age'].astype('str')\n",
    "train_df['years'] = train_df['years'].astype('int').astype('str')\n",
    "train_df['rating'] = train_df['rating'].astype('int')\n",
    "\n",
    "test_df['user_id'] = test_df['user_id'].astype('str')\n",
    "test_df['city'] = test_df['city'].astype('str')\n",
    "test_df['state'] = test_df['state'].astype('str')\n",
    "test_df['country'] = test_df['country'].astype('str')\n",
    "test_df['new_age'] = test_df['new_age'].astype('str')\n",
    "test_df['years'] = test_df['years'].astype('int').astype('str')\n",
    "test_df['rating'] = test_df['rating'].astype('int')"
   ]
  },
  {
   "cell_type": "code",
   "execution_count": 14,
   "metadata": {},
   "outputs": [
    {
     "name": "stdout",
     "output_type": "stream",
     "text": [
      "<class 'pandas.core.frame.DataFrame'>\n",
      "RangeIndex: 306795 entries, 0 to 306794\n",
      "Data columns (total 14 columns):\n",
      " #   Column         Non-Null Count   Dtype  \n",
      "---  ------         --------------   -----  \n",
      " 0   user_id        306795 non-null  object \n",
      " 1   city           306795 non-null  object \n",
      " 2   state          306795 non-null  object \n",
      " 3   country        306795 non-null  object \n",
      " 4   new_age        306795 non-null  object \n",
      " 5   isbn           306795 non-null  object \n",
      " 6   book_title     306795 non-null  object \n",
      " 7   book_author    306795 non-null  object \n",
      " 8   language       306795 non-null  object \n",
      " 9   years          306795 non-null  object \n",
      " 10  new_publisher  306795 non-null  object \n",
      " 11  category_high  306795 non-null  object \n",
      " 12  rating         306795 non-null  int64  \n",
      " 13  rating_avg     306795 non-null  float64\n",
      "dtypes: float64(1), int64(1), object(12)\n",
      "memory usage: 32.8+ MB\n"
     ]
    }
   ],
   "source": [
    "train_df.info()"
   ]
  },
  {
   "cell_type": "markdown",
   "metadata": {},
   "source": [
    "# Model\n"
   ]
  },
  {
   "cell_type": "markdown",
   "metadata": {},
   "source": [
    "- `Catboost` 학습용 데이터"
   ]
  },
  {
   "cell_type": "code",
   "execution_count": 10,
   "metadata": {},
   "outputs": [
    {
     "name": "stdout",
     "output_type": "stream",
     "text": [
      "(276115, 13) (276115,) (30680, 13) (30680,)\n"
     ]
    }
   ],
   "source": [
    "X_train, X_valid, y_train, y_valid = train_test_split(train_df.drop(columns = 'rating'), train_df['rating'],\n",
    "                                                      test_size = 0.1, random_state = SEED)\n",
    "print(X_train.shape, y_train.shape, X_valid.shape, y_valid.shape)"
   ]
  },
  {
   "cell_type": "markdown",
   "metadata": {},
   "source": [
    "- `LightGBM`, `XGBoost` 학습용 데이터\n",
    "    - `object`형이 들어가면 안되므로 LabelEncoding"
   ]
  },
  {
   "cell_type": "code",
   "execution_count": 15,
   "metadata": {},
   "outputs": [],
   "source": [
    "train_GB = train_df.copy()\n",
    "test_GB = test_df.copy()"
   ]
  },
  {
   "cell_type": "code",
   "execution_count": 16,
   "metadata": {},
   "outputs": [
    {
     "name": "stderr",
     "output_type": "stream",
     "text": [
      "100%|██████████| 52000/52000 [03:44<00:00, 231.15it/s]\n",
      "100%|██████████| 47721/47721 [03:00<00:00, 264.26it/s]\n",
      "100%|██████████| 23981/23981 [00:32<00:00, 734.79it/s]\n",
      "100%|██████████| 17/17 [00:00<00:00, 58159.19it/s]\n",
      "100%|██████████| 1024/1024 [00:00<00:00, 22483.21it/s]\n",
      "100%|██████████| 391/391 [00:00<00:00, 68973.08it/s]\n"
     ]
    }
   ],
   "source": [
    "cat_col = ['isbn', 'book_title', 'book_author', 'language', 'new_publisher', 'category_high']\n",
    "num_col = ['user_id', 'new_age', 'years', 'city', 'state', 'country']\n",
    "\n",
    "for col in cat_col :\n",
    "    le = LabelEncoder()\n",
    "    train_GB[col] = le.fit_transform(train_GB[col])\n",
    "    for label in tqdm.tqdm((test_GB[col].unique())) :\n",
    "        if label not in le.classes_ : \n",
    "            le.classes_ = np.append(le.classes_, label)\n",
    "    test_GB[col] = le.transform(test_GB[col])\n",
    "\n",
    "for col in num_col :\n",
    "    train_GB[col] = train_GB[col].astype(int)\n",
    "    test_GB[col] = test_GB[col].astype(int)"
   ]
  },
  {
   "cell_type": "code",
   "execution_count": 17,
   "metadata": {},
   "outputs": [
    {
     "name": "stdout",
     "output_type": "stream",
     "text": [
      "(276115, 13) (276115,) (30680, 13) (30680,)\n"
     ]
    }
   ],
   "source": [
    "X_train, X_valid, y_train, y_valid = train_test_split(train_GB.drop(columns = 'rating'), train_GB['rating'],\n",
    "                                                      test_size = 0.1, random_state = SEED)\n",
    "print(X_train.shape, y_train.shape, X_valid.shape, y_valid.shape)"
   ]
  },
  {
   "cell_type": "markdown",
   "metadata": {},
   "source": [
    "## Catboost"
   ]
  },
  {
   "cell_type": "code",
   "execution_count": 41,
   "metadata": {},
   "outputs": [],
   "source": [
    "from optuna.integration import CatBoostPruningCallback\n",
    "\n",
    "def objectiveCAT(trial : Trial, X_train, y_train, X_valid, y_valid) :\n",
    "    param = {\n",
    "        'learning_rate' : trial.suggest_categorical('learning_rate', [1e-3, 0.01, 0.1, 0.5]),\n",
    "        'depth' : trial.suggest_int('depth', 1, 15),\n",
    "        'colsample_bylevel' : trial.suggest_categorical('colsample_bylevel', [1e-3, 0.01, 0.1, 0.5]),   \n",
    "        'boosting_type' : trial.suggest_categorical('boosting_type', ['Ordered', 'Plain']),\n",
    "        'bootstrap_type' : trial.suggest_categorical('bootstrap_type', ['Bayesian', 'Bernoulli', 'MVS']),\n",
    "    }\n",
    "\n",
    "    if param['bootstrap_type'] == 'Bayesian':\n",
    "        param['bagging_temperature'] = trial.suggest_float('bagging_temperature', 0, 10)\n",
    "    elif param['bootstrap_type'] == 'Bernoulli':\n",
    "        param['subsample'] = trial.suggest_float('subsample', 0.1, 1)\n",
    "        \n",
    "    model = CatBoostRegressor(**param, iterations = 5000, loss_function = 'RMSE', eval_metric = 'RMSE',\n",
    "                              use_best_model = True, random_state = SEED, # task_type = 'GPU', devices = '0'\n",
    "                              cat_features = [i for i in range(0, 12)])\n",
    "    pruning_callback = CatBoostPruningCallback(trial, 'RMSE', eval_set_index = 1)\n",
    "    cat_model = model.fit(X_train, y_train, eval_set = [(X_train, y_train), (X_valid, y_valid)], verbose = 500,\n",
    "                          early_stopping_rounds = 100, callbacks = [pruning_callback])\n",
    "    pruning_callback.check_pruned()\n",
    "    \n",
    "    score = mean_squared_error(y_valid, cat_model.predict(X_valid), squared = False)\n",
    "    return score"
   ]
  },
  {
   "cell_type": "code",
   "execution_count": 37,
   "metadata": {},
   "outputs": [],
   "source": [
    "def objectiveCAT_GPU(trial : Trial, X_train, y_train, X_valid, y_valid) :\n",
    "    param = {\n",
    "        'depth' : trial.suggest_int('depth', 1, 15),\n",
    "        'learning_rate' : trial.suggest_categorical('learning_rate', [1e-5, 1e-3, 0.1, 0.5]),\n",
    "        'l2_leaf_reg' : trial.suggest_categorical('l2_leaf_reg', [1e-3, 1, 3, 5]),\n",
    "        'random_strength' : trial.suggest_categorical('random_strength', [1e-5, 1e-3, 0.1, 1]),\n",
    "        'min_data_in_leaf' : trial.suggest_int('min_data_in_leaf', 1, 10),\n",
    "        'leaf_estimation_iterations' : trial.suggest_int('leaf_estimation_iterations', 1, 15),\n",
    "        'boosting_type' : trial.suggest_categorical('boosting_type', ['Ordered', 'Plain']),\n",
    "        'bootstrap_type' : trial.suggest_categorical('bootstrap_type', ['Bayesian', 'Bernoulli', 'MVS']),\n",
    "    }\n",
    "    \n",
    "    if param['bootstrap_type'] == 'Bayesian' :\n",
    "        param['bagging_temperature'] = trial.suggest_int('bagging_temperature', 0, 10)\n",
    "    elif param['bootstrap_type'] == 'Bernoulli' :\n",
    "        param['subsample'] = trial.suggest_float('subsample', 0.1, 1)\n",
    "    \n",
    "    model = CatBoostRegressor(**param, iterations = 1000,\n",
    "                              loss_function = 'RMSE', eval_metric = 'RMSE',\n",
    "                              use_best_model = True, random_state = SEED,\n",
    "                              task_type = 'GPU', devices = '0',\n",
    "                              cat_features = [0, 1, 2, 3, 4, 5, 6, 7, 8, 9])\n",
    "    cat_model = model.fit(X_train, y_train, eval_set = [(X_valid, y_valid)], # CatBoostError: Multiple eval sets are not supported on GPU\n",
    "                          verbose = 500, early_stopping_rounds = 100)\n",
    "    \n",
    "    score = mean_squared_error(y_valid, cat_model.predict(X_valid), squared = False)\n",
    "    return score"
   ]
  },
  {
   "cell_type": "code",
   "execution_count": 42,
   "metadata": {},
   "outputs": [
    {
     "name": "stderr",
     "output_type": "stream",
     "text": [
      "[I 2023-12-15 09:18:37,458] A new study created in memory with name: no-name-fab9994b-8e71-4096-8c8e-52d7a1827570\n"
     ]
    },
    {
     "name": "stdout",
     "output_type": "stream",
     "text": [
      "0:\tlearn: 2.4268021\ttest: 2.4267926\ttest1: 2.4289534\tbest: 2.4289534 (0)\ttotal: 61.9ms\tremaining: 5m 9s\n",
      "500:\tlearn: 2.0049017\ttest: 1.8532447\ttest1: 2.0005135\tbest: 2.0005135 (500)\ttotal: 19.8s\tremaining: 2m 57s\n",
      "1000:\tlearn: 1.9168741\ttest: 1.7401416\ttest1: 1.9174239\tbest: 1.9174239 (1000)\ttotal: 39.2s\tremaining: 2m 36s\n",
      "1500:\tlearn: 1.8779562\ttest: 1.6914820\ttest1: 1.8798658\tbest: 1.8798658 (1500)\ttotal: 58.3s\tremaining: 2m 15s\n",
      "2000:\tlearn: 1.8556781\ttest: 1.6630487\ttest1: 1.8572525\tbest: 1.8572525 (1998)\ttotal: 1m 17s\tremaining: 1m 56s\n",
      "2500:\tlearn: 1.8423977\ttest: 1.6437202\ttest1: 1.8427748\tbest: 1.8427748 (2500)\ttotal: 1m 38s\tremaining: 1m 38s\n",
      "3000:\tlearn: 1.8336952\ttest: 1.6312449\ttest1: 1.8328209\tbest: 1.8328209 (3000)\ttotal: 1m 58s\tremaining: 1m 19s\n",
      "3500:\tlearn: 1.8286893\ttest: 1.6244503\ttest1: 1.8264614\tbest: 1.8264614 (3500)\ttotal: 2m 19s\tremaining: 59.6s\n",
      "4000:\tlearn: 1.8252648\ttest: 1.6158669\ttest1: 1.8216740\tbest: 1.8216740 (4000)\ttotal: 2m 38s\tremaining: 39.6s\n",
      "4500:\tlearn: 1.8227174\ttest: 1.6083101\ttest1: 1.8179274\tbest: 1.8179274 (4500)\ttotal: 2m 58s\tremaining: 19.8s\n",
      "4999:\tlearn: 1.8209112\ttest: 1.6042182\ttest1: 1.8150552\tbest: 1.8150552 (4999)\ttotal: 3m 17s\tremaining: 0us\n",
      "\n",
      "bestTest = 1.815055171\n",
      "bestIteration = 4999\n",
      "\n"
     ]
    },
    {
     "name": "stderr",
     "output_type": "stream",
     "text": [
      "[I 2023-12-15 09:22:44,831] Trial 0 finished with value: 1.8150551708876415 and parameters: {'learning_rate': 0.01, 'depth': 3, 'colsample_bylevel': 0.1, 'boosting_type': 'Ordered', 'bootstrap_type': 'Bayesian', 'bagging_temperature': 1.8182496720710062}. Best is trial 0 with value: 1.8150551708876415.\n"
     ]
    },
    {
     "name": "stdout",
     "output_type": "stream",
     "text": [
      "0:\tlearn: 2.4330099\ttest: 2.4330099\ttest1: 2.4350364\tbest: 2.4350364 (0)\ttotal: 13.5ms\tremaining: 1m 7s\n",
      "Stopped by overfitting detector  (100 iterations wait)\n",
      "\n",
      "bestTest = 2.400082769\n",
      "bestIteration = 395\n",
      "\n",
      "Shrink model to first 396 iterations.\n"
     ]
    },
    {
     "name": "stderr",
     "output_type": "stream",
     "text": [
      "[I 2023-12-15 09:22:51,530] Trial 1 finished with value: 2.4000827691932023 and parameters: {'learning_rate': 0.1, 'depth': 5, 'colsample_bylevel': 0.001, 'boosting_type': 'Plain', 'bootstrap_type': 'MVS'}. Best is trial 0 with value: 1.8150551708876415.\n"
     ]
    },
    {
     "name": "stdout",
     "output_type": "stream",
     "text": [
      "0:\tlearn: 2.4330099\ttest: 2.4330099\ttest1: 2.4350364\tbest: 2.4350364 (0)\ttotal: 16.6ms\tremaining: 1m 23s\n",
      "Stopped by overfitting detector  (100 iterations wait)\n",
      "\n",
      "bestTest = 2.434994074\n",
      "bestIteration = 84\n",
      "\n",
      "Shrink model to first 85 iterations.\n"
     ]
    },
    {
     "name": "stderr",
     "output_type": "stream",
     "text": [
      "[I 2023-12-15 09:22:55,938] Trial 2 finished with value: 2.434994073695323 and parameters: {'learning_rate': 0.01, 'depth': 15, 'colsample_bylevel': 0.001, 'boosting_type': 'Ordered', 'bootstrap_type': 'Bernoulli', 'subsample': 0.9183883618709039}. Best is trial 0 with value: 1.8150551708876415.\n"
     ]
    },
    {
     "name": "stdout",
     "output_type": "stream",
     "text": [
      "0:\tlearn: 2.4330099\ttest: 2.4330099\ttest1: 2.4350364\tbest: 2.4350364 (0)\ttotal: 16.7ms\tremaining: 1m 23s\n",
      "500:\tlearn: 2.3855774\ttest: 2.3593852\ttest1: 2.3834089\tbest: 2.3834089 (500)\ttotal: 4.78s\tremaining: 42.9s\n",
      "1000:\tlearn: 2.3303361\ttest: 2.2829149\ttest1: 2.3259085\tbest: 2.3259085 (1000)\ttotal: 9.35s\tremaining: 37.3s\n",
      "1500:\tlearn: 2.3010250\ttest: 2.2384464\ttest1: 2.2951706\tbest: 2.2951706 (1500)\ttotal: 13.9s\tremaining: 32.5s\n",
      "2000:\tlearn: 2.2716439\ttest: 2.2015185\ttest1: 2.2652632\tbest: 2.2652632 (2000)\ttotal: 18.5s\tremaining: 27.7s\n",
      "2500:\tlearn: 2.2444716\ttest: 2.1597715\ttest1: 2.2365068\tbest: 2.2365068 (2500)\ttotal: 22.8s\tremaining: 22.8s\n",
      "3000:\tlearn: 2.1974401\ttest: 2.1020745\ttest1: 2.1894233\tbest: 2.1894233 (3000)\ttotal: 27.3s\tremaining: 18.2s\n",
      "3500:\tlearn: 2.1714535\ttest: 2.0671967\ttest1: 2.1628908\tbest: 2.1628908 (3500)\ttotal: 32.5s\tremaining: 13.9s\n",
      "4000:\tlearn: 2.1527364\ttest: 2.0403941\ttest1: 2.1430196\tbest: 2.1430196 (4000)\ttotal: 37.6s\tremaining: 9.39s\n",
      "4500:\tlearn: 2.1236061\ttest: 2.0085880\ttest1: 2.1144752\tbest: 2.1144752 (4500)\ttotal: 43.3s\tremaining: 4.8s\n",
      "4999:\tlearn: 2.1034558\ttest: 1.9851003\ttest1: 2.0947466\tbest: 2.0947466 (4999)\ttotal: 48.8s\tremaining: 0us\n",
      "\n",
      "bestTest = 2.094746611\n",
      "bestIteration = 4999\n",
      "\n"
     ]
    },
    {
     "name": "stderr",
     "output_type": "stream",
     "text": [
      "[I 2023-12-15 09:24:31,113] Trial 3 finished with value: 2.094746611142796 and parameters: {'learning_rate': 0.01, 'depth': 9, 'colsample_bylevel': 0.01, 'boosting_type': 'Ordered', 'bootstrap_type': 'Bayesian', 'bagging_temperature': 0.45227288910538066}. Best is trial 0 with value: 1.8150551708876415.\n"
     ]
    },
    {
     "name": "stdout",
     "output_type": "stream",
     "text": [
      "0:\tlearn: 2.1284396\ttest: 2.1281082\ttest1: 2.1324790\tbest: 2.1324790 (0)\ttotal: 252ms\tremaining: 20m 59s\n",
      "500:\tlearn: 1.7743201\ttest: 1.7663947\ttest1: 1.8191665\tbest: 1.8191148 (435)\ttotal: 1m 52s\tremaining: 16m 49s\n",
      "Stopped by overfitting detector  (100 iterations wait)\n",
      "\n",
      "bestTest = 1.818646592\n",
      "bestIteration = 539\n",
      "\n",
      "Shrink model to first 540 iterations.\n"
     ]
    },
    {
     "name": "stderr",
     "output_type": "stream",
     "text": [
      "[I 2023-12-15 09:26:58,443] Trial 4 finished with value: 1.8186465915967613 and parameters: {'learning_rate': 0.5, 'depth': 6, 'colsample_bylevel': 0.5, 'boosting_type': 'Plain', 'bootstrap_type': 'Bayesian', 'bagging_temperature': 8.154614284548341}. Best is trial 0 with value: 1.8150551708876415.\n",
      "[I 2023-12-15 09:27:01,169] Trial 5 pruned. Trial was pruned at iteration 0.\n"
     ]
    },
    {
     "name": "stdout",
     "output_type": "stream",
     "text": [
      "0:\tlearn: 2.4330099\ttest: 2.4330099\ttest1: 2.4350364\tbest: 2.4350364 (0)\ttotal: 10.4ms\tremaining: 52s\n",
      "\n",
      "bestTest = 2.435036412\n",
      "bestIteration = 0\n",
      "\n",
      "Shrink model to first 1 iterations.\n"
     ]
    },
    {
     "name": "stderr",
     "output_type": "stream",
     "text": [
      "[I 2023-12-15 09:27:03,893] Trial 6 pruned. Trial was pruned at iteration 0.\n"
     ]
    },
    {
     "name": "stdout",
     "output_type": "stream",
     "text": [
      "0:\tlearn: 2.4330099\ttest: 2.4330099\ttest1: 2.4350364\tbest: 2.4350364 (0)\ttotal: 10.8ms\tremaining: 54.2s\n",
      "\n",
      "bestTest = 2.435036413\n",
      "bestIteration = 0\n",
      "\n",
      "Shrink model to first 1 iterations.\n",
      "0:\tlearn: 2.4322343\ttest: 2.4322342\ttest1: 2.4342651\tbest: 2.4342651 (0)\ttotal: 142ms\tremaining: 11m 47s\n",
      "\n",
      "bestTest = 2.321849363\n",
      "bestIteration = 185\n",
      "\n",
      "Shrink model to first 186 iterations.\n"
     ]
    },
    {
     "name": "stderr",
     "output_type": "stream",
     "text": [
      "[I 2023-12-15 09:27:33,318] Trial 7 pruned. Trial was pruned at iteration 185.\n"
     ]
    },
    {
     "name": "stdout",
     "output_type": "stream",
     "text": [
      "0:\tlearn: 2.3595712\ttest: 2.3595712\ttest1: 2.3627048\tbest: 2.3627048 (0)\ttotal: 51.2ms\tremaining: 4m 16s\n",
      "500:\tlearn: 1.8176844\ttest: 1.6259661\ttest1: 1.8065721\tbest: 1.8065527 (494)\ttotal: 20s\tremaining: 2m 59s\n",
      "1000:\tlearn: 1.8130855\ttest: 1.5849848\ttest1: 1.7990449\tbest: 1.7990449 (1000)\ttotal: 39.7s\tremaining: 2m 38s\n",
      "1500:\tlearn: 1.8109271\ttest: 1.5721710\ttest1: 1.7960285\tbest: 1.7960187 (1497)\ttotal: 59.3s\tremaining: 2m 18s\n",
      "2000:\tlearn: 1.8092761\ttest: 1.5631635\ttest1: 1.7936240\tbest: 1.7936227 (1998)\ttotal: 1m 19s\tremaining: 1m 59s\n",
      "2500:\tlearn: 1.8079935\ttest: 1.5537499\ttest1: 1.7918029\tbest: 1.7918021 (2495)\ttotal: 1m 39s\tremaining: 1m 39s\n",
      "3000:\tlearn: 1.8068671\ttest: 1.5471587\ttest1: 1.7903687\tbest: 1.7903686 (2999)\ttotal: 1m 58s\tremaining: 1m 18s\n",
      "3500:\tlearn: 1.8057812\ttest: 1.5451196\ttest1: 1.7891958\tbest: 1.7891921 (3493)\ttotal: 2m 18s\tremaining: 59.3s\n",
      "4000:\tlearn: 1.8048975\ttest: 1.5431054\ttest1: 1.7881584\tbest: 1.7881479 (3990)\ttotal: 2m 38s\tremaining: 39.6s\n",
      "4500:\tlearn: 1.8042194\ttest: 1.5413640\ttest1: 1.7876063\tbest: 1.7876063 (4500)\ttotal: 2m 59s\tremaining: 19.9s\n",
      "4999:\tlearn: 1.8036291\ttest: 1.5345205\ttest1: 1.7869974\tbest: 1.7869959 (4998)\ttotal: 3m 19s\tremaining: 0us\n",
      "\n",
      "bestTest = 1.786995946\n",
      "bestIteration = 4998\n",
      "\n",
      "Shrink model to first 4999 iterations.\n"
     ]
    },
    {
     "name": "stderr",
     "output_type": "stream",
     "text": [
      "[I 2023-12-15 09:31:48,811] Trial 8 finished with value: 1.7869959459545286 and parameters: {'learning_rate': 0.1, 'depth': 2, 'colsample_bylevel': 0.5, 'boosting_type': 'Plain', 'bootstrap_type': 'Bayesian', 'bagging_temperature': 3.3761517140362796}. Best is trial 8 with value: 1.7869959459545286.\n"
     ]
    },
    {
     "name": "stdout",
     "output_type": "stream",
     "text": [
      "0:\tlearn: 2.4330099\ttest: 2.4330099\ttest1: 2.4350364\tbest: 2.4350364 (0)\ttotal: 13.6ms\tremaining: 1m 7s\n",
      "\n",
      "bestTest = 2.435036412\n",
      "bestIteration = 0\n",
      "\n",
      "Shrink model to first 1 iterations.\n"
     ]
    },
    {
     "name": "stderr",
     "output_type": "stream",
     "text": [
      "[I 2023-12-15 09:31:51,493] Trial 9 pruned. Trial was pruned at iteration 0.\n"
     ]
    },
    {
     "name": "stdout",
     "output_type": "stream",
     "text": [
      "0:\tlearn: 2.3735821\ttest: 2.3735821\ttest1: 2.3767712\tbest: 2.3767712 (0)\ttotal: 21.9ms\tremaining: 1m 49s\n",
      "500:\tlearn: 1.8343926\ttest: 1.8025933\ttest1: 1.8359859\tbest: 1.8359859 (500)\ttotal: 4.85s\tremaining: 43.5s\n",
      "1000:\tlearn: 1.8327487\ttest: 1.8049763\ttest1: 1.8328708\tbest: 1.8328641 (997)\ttotal: 9.48s\tremaining: 37.9s\n",
      "1500:\tlearn: 1.8321001\ttest: 1.8064333\ttest1: 1.8316307\tbest: 1.8316291 (1498)\ttotal: 14.2s\tremaining: 33s\n",
      "2000:\tlearn: 1.8316883\ttest: 1.8071236\ttest1: 1.8308722\tbest: 1.8308722 (2000)\ttotal: 18.8s\tremaining: 28.2s\n",
      "2500:\tlearn: 1.8313919\ttest: 1.8073588\ttest1: 1.8304367\tbest: 1.8304361 (2496)\ttotal: 23.5s\tremaining: 23.5s\n",
      "3000:\tlearn: 1.8311722\ttest: 1.8072662\ttest1: 1.8300242\tbest: 1.8300242 (3000)\ttotal: 28.5s\tremaining: 19s\n",
      "\n",
      "bestTest = 1.829944758\n",
      "bestIteration = 3194\n",
      "\n",
      "Shrink model to first 3195 iterations.\n"
     ]
    },
    {
     "name": "stderr",
     "output_type": "stream",
     "text": [
      "[I 2023-12-15 09:32:44,907] Trial 10 pruned. Trial was pruned at iteration 3198.\n",
      "[I 2023-12-15 09:32:47,594] Trial 11 pruned. Trial was pruned at iteration 0.\n"
     ]
    },
    {
     "name": "stdout",
     "output_type": "stream",
     "text": [
      "0:\tlearn: 2.4329936\ttest: 2.4329933\ttest1: 2.4350244\tbest: 2.4350244 (0)\ttotal: 25.4ms\tremaining: 2m 6s\n",
      "\n",
      "bestTest = 2.435024399\n",
      "bestIteration = 0\n",
      "\n",
      "Shrink model to first 1 iterations.\n",
      "0:\tlearn: 2.4268141\ttest: 2.4268023\ttest1: 2.4289519\tbest: 2.4289519 (0)\ttotal: 64.6ms\tremaining: 5m 22s\n",
      "\n",
      "bestTest = 2.16916112\n",
      "bestIteration = 185\n",
      "\n",
      "Shrink model to first 186 iterations.\n"
     ]
    },
    {
     "name": "stderr",
     "output_type": "stream",
     "text": [
      "[I 2023-12-15 09:32:57,236] Trial 12 pruned. Trial was pruned at iteration 185.\n"
     ]
    },
    {
     "name": "stdout",
     "output_type": "stream",
     "text": [
      "0:\tlearn: 2.3570862\ttest: 2.3568528\ttest1: 2.3596714\tbest: 2.3596714 (0)\ttotal: 372ms\tremaining: 31m\n",
      "500:\tlearn: 1.4819682\ttest: 1.5861359\ttest1: 1.8085451\tbest: 1.8083916 (497)\ttotal: 2m 37s\tremaining: 23m 30s\n",
      "Stopped by overfitting detector  (100 iterations wait)\n",
      "\n",
      "bestTest = 1.808391623\n",
      "bestIteration = 497\n",
      "\n",
      "Shrink model to first 498 iterations.\n"
     ]
    },
    {
     "name": "stderr",
     "output_type": "stream",
     "text": [
      "[I 2023-12-15 09:36:08,367] Trial 13 finished with value: 1.8083916234429878 and parameters: {'learning_rate': 0.1, 'depth': 13, 'colsample_bylevel': 0.1, 'boosting_type': 'Plain', 'bootstrap_type': 'Bayesian', 'bagging_temperature': 5.1771336775041785}. Best is trial 8 with value: 1.7869959459545286.\n"
     ]
    },
    {
     "name": "stdout",
     "output_type": "stream",
     "text": [
      "0:\tlearn: 2.3405156\ttest: 2.3403435\ttest1: 2.3434893\tbest: 2.3434893 (0)\ttotal: 712ms\tremaining: 59m 18s\n",
      "Stopped by overfitting detector  (100 iterations wait)\n",
      "\n",
      "bestTest = 1.821530358\n",
      "bestIteration = 223\n",
      "\n",
      "Shrink model to first 224 iterations.\n"
     ]
    },
    {
     "name": "stderr",
     "output_type": "stream",
     "text": [
      "[I 2023-12-15 09:40:11,950] Trial 14 finished with value: 1.821530357540358 and parameters: {'learning_rate': 0.1, 'depth': 13, 'colsample_bylevel': 0.5, 'boosting_type': 'Plain', 'bootstrap_type': 'Bayesian', 'bagging_temperature': 5.893376103380813}. Best is trial 8 with value: 1.7869959459545286.\n"
     ]
    },
    {
     "name": "stdout",
     "output_type": "stream",
     "text": [
      "0:\tlearn: 2.3568118\ttest: 2.3563069\ttest1: 2.3591183\tbest: 2.3591183 (0)\ttotal: 302ms\tremaining: 25m 10s\n",
      "500:\tlearn: 1.6804495\ttest: 1.5987295\ttest1: 1.8007099\tbest: 1.8007099 (500)\ttotal: 1m 52s\tremaining: 16m 53s\n",
      "Stopped by overfitting detector  (100 iterations wait)\n",
      "\n",
      "bestTest = 1.796118925\n",
      "bestIteration = 896\n",
      "\n",
      "Shrink model to first 897 iterations.\n"
     ]
    },
    {
     "name": "stderr",
     "output_type": "stream",
     "text": [
      "[I 2023-12-15 09:44:04,379] Trial 15 finished with value: 1.796118925160058 and parameters: {'learning_rate': 0.1, 'depth': 11, 'colsample_bylevel': 0.1, 'boosting_type': 'Plain', 'bootstrap_type': 'Bayesian', 'bagging_temperature': 5.475439486695015}. Best is trial 8 with value: 1.7869959459545286.\n"
     ]
    },
    {
     "name": "stdout",
     "output_type": "stream",
     "text": [
      "0:\tlearn: 2.3421169\ttest: 2.3420576\ttest1: 2.3448698\tbest: 2.3448698 (0)\ttotal: 575ms\tremaining: 47m 55s\n",
      "500:\tlearn: 1.6859214\ttest: 1.4879397\ttest1: 1.7740359\tbest: 1.7736739 (477)\ttotal: 4m 47s\tremaining: 42m 59s\n",
      "Stopped by overfitting detector  (100 iterations wait)\n",
      "\n",
      "bestTest = 1.773641388\n",
      "bestIteration = 512\n",
      "\n",
      "Shrink model to first 513 iterations.\n"
     ]
    },
    {
     "name": "stderr",
     "output_type": "stream",
     "text": [
      "[I 2023-12-15 09:50:02,786] Trial 16 finished with value: 1.7736413877726087 and parameters: {'learning_rate': 0.1, 'depth': 11, 'colsample_bylevel': 0.5, 'boosting_type': 'Plain', 'bootstrap_type': 'MVS'}. Best is trial 16 with value: 1.7736413877726087.\n"
     ]
    },
    {
     "name": "stdout",
     "output_type": "stream",
     "text": [
      "0:\tlearn: 2.3421169\ttest: 2.3420576\ttest1: 2.3448698\tbest: 2.3448698 (0)\ttotal: 538ms\tremaining: 44m 47s\n",
      "500:\tlearn: 1.6859214\ttest: 1.4879397\ttest1: 1.7740359\tbest: 1.7736739 (477)\ttotal: 4m 48s\tremaining: 43m 10s\n",
      "Stopped by overfitting detector  (100 iterations wait)\n",
      "\n",
      "bestTest = 1.773641388\n",
      "bestIteration = 512\n",
      "\n",
      "Shrink model to first 513 iterations.\n"
     ]
    },
    {
     "name": "stderr",
     "output_type": "stream",
     "text": [
      "[I 2023-12-15 09:56:03,079] Trial 17 finished with value: 1.7736413877726087 and parameters: {'learning_rate': 0.1, 'depth': 11, 'colsample_bylevel': 0.5, 'boosting_type': 'Plain', 'bootstrap_type': 'MVS'}. Best is trial 16 with value: 1.7736413877726087.\n"
     ]
    },
    {
     "name": "stdout",
     "output_type": "stream",
     "text": [
      "0:\tlearn: 2.3421169\ttest: 2.3420576\ttest1: 2.3448698\tbest: 2.3448698 (0)\ttotal: 509ms\tremaining: 42m 23s\n",
      "500:\tlearn: 1.6859214\ttest: 1.4879397\ttest1: 1.7740359\tbest: 1.7736739 (477)\ttotal: 4m 47s\tremaining: 43m 3s\n",
      "Stopped by overfitting detector  (100 iterations wait)\n",
      "\n",
      "bestTest = 1.773641388\n",
      "bestIteration = 512\n",
      "\n",
      "Shrink model to first 513 iterations.\n"
     ]
    },
    {
     "name": "stderr",
     "output_type": "stream",
     "text": [
      "[I 2023-12-15 10:02:02,860] Trial 18 finished with value: 1.7736413877726087 and parameters: {'learning_rate': 0.1, 'depth': 11, 'colsample_bylevel': 0.5, 'boosting_type': 'Plain', 'bootstrap_type': 'MVS'}. Best is trial 16 with value: 1.7736413877726087.\n"
     ]
    },
    {
     "name": "stdout",
     "output_type": "stream",
     "text": [
      "0:\tlearn: 2.0508001\ttest: 2.0505532\ttest1: 2.0568831\tbest: 2.0568831 (0)\ttotal: 537ms\tremaining: 44m 44s\n",
      "Stopped by overfitting detector  (100 iterations wait)\n",
      "\n",
      "bestTest = 1.790193749\n",
      "bestIteration = 41\n",
      "\n",
      "Shrink model to first 42 iterations.\n"
     ]
    },
    {
     "name": "stderr",
     "output_type": "stream",
     "text": [
      "[I 2023-12-15 10:03:25,073] Trial 19 finished with value: 1.7901937485708732 and parameters: {'learning_rate': 0.5, 'depth': 11, 'colsample_bylevel': 0.5, 'boosting_type': 'Plain', 'bootstrap_type': 'MVS'}. Best is trial 16 with value: 1.7736413877726087.\n",
      "[I 2023-12-15 10:03:28,052] Trial 20 pruned. Trial was pruned at iteration 0.\n"
     ]
    },
    {
     "name": "stdout",
     "output_type": "stream",
     "text": [
      "0:\tlearn: 2.4321221\ttest: 2.4321216\ttest1: 2.4341560\tbest: 2.4341560 (0)\ttotal: 351ms\tremaining: 29m 17s\n",
      "\n",
      "bestTest = 2.434156003\n",
      "bestIteration = 0\n",
      "\n",
      "Shrink model to first 1 iterations.\n",
      "0:\tlearn: 2.3421169\ttest: 2.3420576\ttest1: 2.3448698\tbest: 2.3448698 (0)\ttotal: 544ms\tremaining: 45m 20s\n",
      "500:\tlearn: 1.6859214\ttest: 1.4879397\ttest1: 1.7740359\tbest: 1.7736739 (477)\ttotal: 4m 46s\tremaining: 42m 56s\n",
      "Stopped by overfitting detector  (100 iterations wait)\n",
      "\n",
      "bestTest = 1.773641388\n",
      "bestIteration = 512\n",
      "\n",
      "Shrink model to first 513 iterations.\n"
     ]
    },
    {
     "name": "stderr",
     "output_type": "stream",
     "text": [
      "[I 2023-12-15 10:09:26,254] Trial 21 finished with value: 1.7736413877726087 and parameters: {'learning_rate': 0.1, 'depth': 11, 'colsample_bylevel': 0.5, 'boosting_type': 'Plain', 'bootstrap_type': 'MVS'}. Best is trial 16 with value: 1.7736413877726087.\n"
     ]
    },
    {
     "name": "stdout",
     "output_type": "stream",
     "text": [
      "0:\tlearn: 2.3394753\ttest: 2.3394120\ttest1: 2.3425761\tbest: 2.3425761 (0)\ttotal: 677ms\tremaining: 56m 24s\n",
      "Stopped by overfitting detector  (100 iterations wait)\n",
      "\n",
      "bestTest = 1.780126668\n",
      "bestIteration = 238\n",
      "\n",
      "Shrink model to first 239 iterations.\n"
     ]
    },
    {
     "name": "stderr",
     "output_type": "stream",
     "text": [
      "[I 2023-12-15 10:13:41,257] Trial 22 finished with value: 1.7801266678897376 and parameters: {'learning_rate': 0.1, 'depth': 13, 'colsample_bylevel': 0.5, 'boosting_type': 'Plain', 'bootstrap_type': 'MVS'}. Best is trial 16 with value: 1.7736413877726087.\n"
     ]
    },
    {
     "name": "stdout",
     "output_type": "stream",
     "text": [
      "0:\tlearn: 2.3449499\ttest: 2.3448904\ttest1: 2.3478343\tbest: 2.3478343 (0)\ttotal: 463ms\tremaining: 38m 34s\n",
      "\n",
      "bestTest = 2.347834308\n",
      "bestIteration = 0\n",
      "\n",
      "Shrink model to first 1 iterations.\n"
     ]
    },
    {
     "name": "stderr",
     "output_type": "stream",
     "text": [
      "[I 2023-12-15 10:13:44,382] Trial 23 pruned. Trial was pruned at iteration 0.\n",
      "[I 2023-12-15 10:13:47,017] Trial 24 pruned. Trial was pruned at iteration 0.\n"
     ]
    },
    {
     "name": "stdout",
     "output_type": "stream",
     "text": [
      "0:\tlearn: 2.4330099\ttest: 2.4330099\ttest1: 2.4350364\tbest: 2.4350364 (0)\ttotal: 9.88ms\tremaining: 49.4s\n",
      "\n",
      "bestTest = 2.435036412\n",
      "bestIteration = 0\n",
      "\n",
      "Shrink model to first 1 iterations.\n",
      "0:\tlearn: 2.3394809\ttest: 2.3394206\ttest1: 2.3425893\tbest: 2.3425893 (0)\ttotal: 988ms\tremaining: 1h 22m 19s\n",
      "\n",
      "bestTest = 2.080136891\n",
      "bestIteration = 5\n",
      "\n",
      "Shrink model to first 6 iterations.\n"
     ]
    },
    {
     "name": "stderr",
     "output_type": "stream",
     "text": [
      "[I 2023-12-15 10:13:53,552] Trial 25 pruned. Trial was pruned at iteration 5.\n",
      "[I 2023-12-15 10:13:56,535] Trial 26 pruned. Trial was pruned at iteration 0.\n"
     ]
    },
    {
     "name": "stdout",
     "output_type": "stream",
     "text": [
      "0:\tlearn: 2.3471180\ttest: 2.3470701\ttest1: 2.3499087\tbest: 2.3499087 (0)\ttotal: 314ms\tremaining: 26m 10s\n",
      "\n",
      "bestTest = 2.349908729\n",
      "bestIteration = 0\n",
      "\n",
      "Shrink model to first 1 iterations.\n",
      "0:\tlearn: 2.3449499\ttest: 2.3448904\ttest1: 2.3478343\tbest: 2.3478343 (0)\ttotal: 481ms\tremaining: 40m 4s\n",
      "\n",
      "bestTest = 2.347834308\n",
      "bestIteration = 0\n",
      "\n",
      "Shrink model to first 1 iterations.\n"
     ]
    },
    {
     "name": "stderr",
     "output_type": "stream",
     "text": [
      "[I 2023-12-15 10:13:59,727] Trial 27 pruned. Trial was pruned at iteration 0.\n"
     ]
    },
    {
     "name": "stdout",
     "output_type": "stream",
     "text": [
      "0:\tlearn: 2.0387944\ttest: 2.0385372\ttest1: 2.0465387\tbest: 2.0465387 (0)\ttotal: 815ms\tremaining: 1h 7m 53s\n",
      "Stopped by overfitting detector  (100 iterations wait)\n",
      "\n",
      "bestTest = 1.797826799\n",
      "bestIteration = 14\n",
      "\n",
      "Shrink model to first 15 iterations.\n"
     ]
    },
    {
     "name": "stderr",
     "output_type": "stream",
     "text": [
      "[I 2023-12-15 10:15:41,796] Trial 28 finished with value: 1.797826798858883 and parameters: {'learning_rate': 0.5, 'depth': 14, 'colsample_bylevel': 0.5, 'boosting_type': 'Plain', 'bootstrap_type': 'MVS'}. Best is trial 16 with value: 1.7736413877726087.\n",
      "[I 2023-12-15 10:15:44,531] Trial 29 pruned. Trial was pruned at iteration 0.\n"
     ]
    },
    {
     "name": "stdout",
     "output_type": "stream",
     "text": [
      "0:\tlearn: 2.4330099\ttest: 2.4330099\ttest1: 2.4350364\tbest: 2.4350364 (0)\ttotal: 9.95ms\tremaining: 49.7s\n",
      "\n",
      "bestTest = 2.435036412\n",
      "bestIteration = 0\n",
      "\n",
      "Shrink model to first 1 iterations.\n",
      "0:\tlearn: 2.3449380\ttest: 2.3448927\ttest1: 2.3478332\tbest: 2.3478332 (0)\ttotal: 418ms\tremaining: 34m 52s\n",
      "\n",
      "bestTest = 2.347833152\n",
      "bestIteration = 0\n",
      "\n",
      "Shrink model to first 1 iterations.\n"
     ]
    },
    {
     "name": "stderr",
     "output_type": "stream",
     "text": [
      "[I 2023-12-15 10:15:47,616] Trial 30 pruned. Trial was pruned at iteration 0.\n"
     ]
    },
    {
     "name": "stdout",
     "output_type": "stream",
     "text": [
      "0:\tlearn: 2.3421169\ttest: 2.3420576\ttest1: 2.3448698\tbest: 2.3448698 (0)\ttotal: 536ms\tremaining: 44m 37s\n",
      "500:\tlearn: 1.6859214\ttest: 1.4879397\ttest1: 1.7740359\tbest: 1.7736739 (477)\ttotal: 4m 46s\tremaining: 42m 49s\n",
      "Stopped by overfitting detector  (100 iterations wait)\n",
      "\n",
      "bestTest = 1.773641388\n",
      "bestIteration = 512\n",
      "\n",
      "Shrink model to first 513 iterations.\n"
     ]
    },
    {
     "name": "stderr",
     "output_type": "stream",
     "text": [
      "[I 2023-12-15 10:21:45,147] Trial 31 finished with value: 1.7736413877726087 and parameters: {'learning_rate': 0.1, 'depth': 11, 'colsample_bylevel': 0.5, 'boosting_type': 'Plain', 'bootstrap_type': 'MVS'}. Best is trial 16 with value: 1.7736413877726087.\n"
     ]
    },
    {
     "name": "stdout",
     "output_type": "stream",
     "text": [
      "0:\tlearn: 2.3405485\ttest: 2.3404822\ttest1: 2.3436484\tbest: 2.3436484 (0)\ttotal: 595ms\tremaining: 49m 32s\n"
     ]
    },
    {
     "name": "stderr",
     "output_type": "stream",
     "text": [
      "[I 2023-12-15 10:21:49,204] Trial 32 pruned. Trial was pruned at iteration 2.\n"
     ]
    },
    {
     "name": "stdout",
     "output_type": "stream",
     "text": [
      "\n",
      "bestTest = 2.218707357\n",
      "bestIteration = 2\n",
      "\n",
      "Shrink model to first 3 iterations.\n",
      "0:\tlearn: 2.3449499\ttest: 2.3448904\ttest1: 2.3478343\tbest: 2.3478343 (0)\ttotal: 468ms\tremaining: 39m 1s\n",
      "\n",
      "bestTest = 2.347834308\n",
      "bestIteration = 0\n",
      "\n",
      "Shrink model to first 1 iterations.\n"
     ]
    },
    {
     "name": "stderr",
     "output_type": "stream",
     "text": [
      "[I 2023-12-15 10:21:52,311] Trial 33 pruned. Trial was pruned at iteration 0.\n",
      "[I 2023-12-15 10:21:55,058] Trial 34 pruned. Trial was pruned at iteration 0.\n"
     ]
    },
    {
     "name": "stdout",
     "output_type": "stream",
     "text": [
      "0:\tlearn: 2.4330099\ttest: 2.4330099\ttest1: 2.4350364\tbest: 2.4350364 (0)\ttotal: 10.9ms\tremaining: 54.4s\n",
      "\n",
      "bestTest = 2.435036412\n",
      "bestIteration = 0\n",
      "\n",
      "Shrink model to first 1 iterations.\n"
     ]
    },
    {
     "name": "stderr",
     "output_type": "stream",
     "text": [
      "[I 2023-12-15 10:21:58,277] Trial 35 pruned. Trial was pruned at iteration 0.\n"
     ]
    },
    {
     "name": "stdout",
     "output_type": "stream",
     "text": [
      "0:\tlearn: 2.4241672\ttest: 2.4241656\ttest1: 2.4262687\tbest: 2.4262687 (0)\ttotal: 499ms\tremaining: 41m 33s\n",
      "\n",
      "bestTest = 2.426268693\n",
      "bestIteration = 0\n",
      "\n",
      "Shrink model to first 1 iterations.\n",
      "0:\tlearn: 2.3427469\ttest: 2.3481433\ttest1: 2.3475373\tbest: 2.3475373 (0)\ttotal: 473ms\tremaining: 39m 25s\n",
      "\n",
      "bestTest = 2.3475373\n",
      "bestIteration = 0\n",
      "\n",
      "Shrink model to first 1 iterations.\n"
     ]
    },
    {
     "name": "stderr",
     "output_type": "stream",
     "text": [
      "[I 2023-12-15 10:22:01,442] Trial 36 pruned. Trial was pruned at iteration 0.\n",
      "[I 2023-12-15 10:22:04,146] Trial 37 pruned. Trial was pruned at iteration 0.\n"
     ]
    },
    {
     "name": "stdout",
     "output_type": "stream",
     "text": [
      "0:\tlearn: 2.4330099\ttest: 2.4330099\ttest1: 2.4350364\tbest: 2.4350364 (0)\ttotal: 11ms\tremaining: 55.2s\n",
      "\n",
      "bestTest = 2.435036412\n",
      "bestIteration = 0\n",
      "\n",
      "Shrink model to first 1 iterations.\n"
     ]
    },
    {
     "name": "stderr",
     "output_type": "stream",
     "text": [
      "[I 2023-12-15 10:22:06,762] Trial 38 pruned. Trial was pruned at iteration 0.\n"
     ]
    },
    {
     "name": "stdout",
     "output_type": "stream",
     "text": [
      "0:\tlearn: 2.4330099\ttest: 2.4330099\ttest1: 2.4350364\tbest: 2.4350364 (0)\ttotal: 10.1ms\tremaining: 50.3s\n",
      "\n",
      "bestTest = 2.435036413\n",
      "bestIteration = 0\n",
      "\n",
      "Shrink model to first 1 iterations.\n"
     ]
    },
    {
     "name": "stderr",
     "output_type": "stream",
     "text": [
      "[I 2023-12-15 10:22:09,690] Trial 39 pruned. Trial was pruned at iteration 0.\n"
     ]
    },
    {
     "name": "stdout",
     "output_type": "stream",
     "text": [
      "0:\tlearn: 2.4012213\ttest: 2.3825582\ttest1: 2.3972509\tbest: 2.3972509 (0)\ttotal: 273ms\tremaining: 22m 43s\n",
      "\n",
      "bestTest = 2.397250865\n",
      "bestIteration = 0\n",
      "\n",
      "Shrink model to first 1 iterations.\n",
      "0:\tlearn: 2.4233835\ttest: 2.4233771\ttest1: 2.4255161\tbest: 2.4255161 (0)\ttotal: 810ms\tremaining: 1h 7m 27s\n",
      "\n",
      "bestTest = 2.425516088\n",
      "bestIteration = 0\n",
      "\n",
      "Shrink model to first 1 iterations.\n"
     ]
    },
    {
     "name": "stderr",
     "output_type": "stream",
     "text": [
      "[I 2023-12-15 10:22:13,138] Trial 40 pruned. Trial was pruned at iteration 0.\n"
     ]
    },
    {
     "name": "stdout",
     "output_type": "stream",
     "text": [
      "0:\tlearn: 2.3421169\ttest: 2.3420576\ttest1: 2.3448698\tbest: 2.3448698 (0)\ttotal: 532ms\tremaining: 44m 21s\n",
      "500:\tlearn: 1.6859214\ttest: 1.4879397\ttest1: 1.7740359\tbest: 1.7736739 (477)\ttotal: 4m 46s\tremaining: 42m 51s\n",
      "Stopped by overfitting detector  (100 iterations wait)\n",
      "\n",
      "bestTest = 1.773641388\n",
      "bestIteration = 512\n",
      "\n",
      "Shrink model to first 513 iterations.\n"
     ]
    },
    {
     "name": "stderr",
     "output_type": "stream",
     "text": [
      "[I 2023-12-15 10:28:11,193] Trial 41 finished with value: 1.7736413877726087 and parameters: {'learning_rate': 0.1, 'depth': 11, 'colsample_bylevel': 0.5, 'boosting_type': 'Plain', 'bootstrap_type': 'MVS'}. Best is trial 16 with value: 1.7736413877726087.\n"
     ]
    },
    {
     "name": "stdout",
     "output_type": "stream",
     "text": [
      "0:\tlearn: 2.3405485\ttest: 2.3404822\ttest1: 2.3436484\tbest: 2.3436484 (0)\ttotal: 582ms\tremaining: 48m 27s\n",
      "\n",
      "bestTest = 2.218707357\n",
      "bestIteration = 2\n",
      "\n",
      "Shrink model to first 3 iterations.\n"
     ]
    },
    {
     "name": "stderr",
     "output_type": "stream",
     "text": [
      "[I 2023-12-15 10:28:15,231] Trial 42 pruned. Trial was pruned at iteration 2.\n"
     ]
    },
    {
     "name": "stdout",
     "output_type": "stream",
     "text": [
      "0:\tlearn: 2.3421169\ttest: 2.3420576\ttest1: 2.3448698\tbest: 2.3448698 (0)\ttotal: 516ms\tremaining: 42m 59s\n",
      "500:\tlearn: 1.6859214\ttest: 1.4879397\ttest1: 1.7740359\tbest: 1.7736739 (477)\ttotal: 4m 46s\tremaining: 42m 57s\n",
      "Stopped by overfitting detector  (100 iterations wait)\n",
      "\n",
      "bestTest = 1.773641388\n",
      "bestIteration = 512\n",
      "\n",
      "Shrink model to first 513 iterations.\n"
     ]
    },
    {
     "name": "stderr",
     "output_type": "stream",
     "text": [
      "[I 2023-12-15 10:34:13,270] Trial 43 finished with value: 1.7736413877726087 and parameters: {'learning_rate': 0.1, 'depth': 11, 'colsample_bylevel': 0.5, 'boosting_type': 'Plain', 'bootstrap_type': 'MVS'}. Best is trial 16 with value: 1.7736413877726087.\n",
      "[I 2023-12-15 10:34:16,346] Trial 44 pruned. Trial was pruned at iteration 0.\n"
     ]
    },
    {
     "name": "stdout",
     "output_type": "stream",
     "text": [
      "0:\tlearn: 2.4321000\ttest: 2.4320995\ttest1: 2.4341349\tbest: 2.4341349 (0)\ttotal: 410ms\tremaining: 34m 8s\n",
      "\n",
      "bestTest = 2.434134881\n",
      "bestIteration = 0\n",
      "\n",
      "Shrink model to first 1 iterations.\n",
      "0:\tlearn: 2.4330099\ttest: 2.4330099\ttest1: 2.4350364\tbest: 2.4350364 (0)\ttotal: 14.8ms\tremaining: 1m 14s\n",
      "\n",
      "bestTest = 2.435036412\n",
      "bestIteration = 0\n",
      "\n",
      "Shrink model to first 1 iterations.\n"
     ]
    },
    {
     "name": "stderr",
     "output_type": "stream",
     "text": [
      "[I 2023-12-15 10:34:19,036] Trial 45 pruned. Trial was pruned at iteration 0.\n",
      "[I 2023-12-15 10:34:22,101] Trial 46 pruned. Trial was pruned at iteration 0.\n"
     ]
    },
    {
     "name": "stdout",
     "output_type": "stream",
     "text": [
      "0:\tlearn: 2.3471737\ttest: 2.3470764\ttest1: 2.3502109\tbest: 2.3502109 (0)\ttotal: 362ms\tremaining: 30m 10s\n",
      "\n",
      "bestTest = 2.350210933\n",
      "bestIteration = 0\n",
      "\n",
      "Shrink model to first 1 iterations.\n",
      "0:\tlearn: 2.3405485\ttest: 2.3404822\ttest1: 2.3436484\tbest: 2.3436484 (0)\ttotal: 583ms\tremaining: 48m 35s\n",
      "\n",
      "bestTest = 2.218707357\n",
      "bestIteration = 2\n",
      "\n",
      "Shrink model to first 3 iterations.\n"
     ]
    },
    {
     "name": "stderr",
     "output_type": "stream",
     "text": [
      "[I 2023-12-15 10:34:26,222] Trial 47 pruned. Trial was pruned at iteration 2.\n"
     ]
    },
    {
     "name": "stdout",
     "output_type": "stream",
     "text": [
      "0:\tlearn: 2.4330099\ttest: 2.4330099\ttest1: 2.4350364\tbest: 2.4350364 (0)\ttotal: 10.1ms\tremaining: 50.5s\n",
      "\n",
      "bestTest = 2.435036413\n",
      "bestIteration = 0\n",
      "\n",
      "Shrink model to first 1 iterations.\n"
     ]
    },
    {
     "name": "stderr",
     "output_type": "stream",
     "text": [
      "[I 2023-12-15 10:34:28,961] Trial 48 pruned. Trial was pruned at iteration 0.\n",
      "[I 2023-12-15 10:34:31,993] Trial 49 pruned. Trial was pruned at iteration 0.\n"
     ]
    },
    {
     "name": "stdout",
     "output_type": "stream",
     "text": [
      "0:\tlearn: 2.4296832\ttest: 2.4278047\ttest1: 2.4310837\tbest: 2.4310837 (0)\ttotal: 304ms\tremaining: 25m 21s\n",
      "\n",
      "bestTest = 2.4310837\n",
      "bestIteration = 0\n",
      "\n",
      "Shrink model to first 1 iterations.\n",
      "Best trial : score 1.7736413877726087, \n",
      " params = {'learning_rate': 0.1, 'depth': 11, 'colsample_bylevel': 0.5, 'boosting_type': 'Plain', 'bootstrap_type': 'MVS'} \n",
      "\n"
     ]
    }
   ],
   "source": [
    "# Study Optuna\n",
    "study = optuna.create_study(direction = 'minimize', sampler = TPESampler(seed = SEED))\n",
    "study.optimize(lambda trial : objectiveCAT(trial, X_train, y_train, X_valid, y_valid), n_trials = 50)\n",
    "print(f'Best trial : score {study.best_trial.value}, \\n params = {study.best_trial.params} \\n') "
   ]
  },
  {
   "cell_type": "code",
   "execution_count": 46,
   "metadata": {},
   "outputs": [
    {
     "name": "stderr",
     "output_type": "stream",
     "text": [
      "  0%|          | 0/10 [00:00<?, ?it/s]"
     ]
    },
    {
     "name": "stdout",
     "output_type": "stream",
     "text": [
      "0:\tlearn: 2.3586828\ttest: 2.3586828\ttest1: 2.3587182\tbest: 2.3587182 (0)\ttotal: 198ms\tremaining: 3m 17s\n",
      "500:\tlearn: 1.6878775\ttest: 1.4848305\ttest1: 1.7671428\tbest: 1.7669015 (418)\ttotal: 4m 46s\tremaining: 4m 45s\n",
      "Stopped by overfitting detector  (100 iterations wait)\n",
      "\n",
      "bestTest = 1.766901543\n",
      "bestIteration = 418\n",
      "\n",
      "Shrink model to first 419 iterations.\n",
      "Valid Set 1 번째 Fold RMSE : 1.76690\n"
     ]
    },
    {
     "name": "stderr",
     "output_type": "stream",
     "text": [
      " 10%|█         | 1/10 [05:00<45:08, 300.90s/it]"
     ]
    },
    {
     "name": "stdout",
     "output_type": "stream",
     "text": [
      "0:\tlearn: 2.3476359\ttest: 2.3475857\ttest1: 2.3466629\tbest: 2.3466629 (0)\ttotal: 511ms\tremaining: 8m 30s\n",
      "500:\tlearn: 1.6876330\ttest: 1.4841290\ttest1: 1.7589785\tbest: 1.7587917 (433)\ttotal: 4m 46s\tremaining: 4m 45s\n",
      "Stopped by overfitting detector  (100 iterations wait)\n",
      "\n",
      "bestTest = 1.758677779\n",
      "bestIteration = 543\n",
      "\n",
      "Shrink model to first 544 iterations.\n",
      "Valid Set 2 번째 Fold RMSE : 1.75868\n"
     ]
    },
    {
     "name": "stderr",
     "output_type": "stream",
     "text": [
      " 20%|██        | 2/10 [11:15<45:54, 344.34s/it]"
     ]
    },
    {
     "name": "stdout",
     "output_type": "stream",
     "text": [
      "0:\tlearn: 2.3476093\ttest: 2.3475319\ttest1: 2.3464069\tbest: 2.3464069 (0)\ttotal: 509ms\tremaining: 8m 28s\n",
      "500:\tlearn: 1.6823380\ttest: 1.4807042\ttest1: 1.7508953\tbest: 1.7508565 (485)\ttotal: 4m 50s\tremaining: 4m 49s\n",
      "Stopped by overfitting detector  (100 iterations wait)\n",
      "\n",
      "bestTest = 1.750334967\n",
      "bestIteration = 546\n",
      "\n",
      "Shrink model to first 547 iterations.\n",
      "Valid Set 3 번째 Fold RMSE : 1.75033\n"
     ]
    },
    {
     "name": "stderr",
     "output_type": "stream",
     "text": [
      " 30%|███       | 3/10 [17:41<42:22, 363.24s/it]"
     ]
    },
    {
     "name": "stdout",
     "output_type": "stream",
     "text": [
      "0:\tlearn: 2.3424480\ttest: 2.3424150\ttest1: 2.3421911\tbest: 2.3421911 (0)\ttotal: 568ms\tremaining: 9m 27s\n",
      "500:\tlearn: 1.6859260\ttest: 1.4777232\ttest1: 1.7694265\tbest: 1.7694265 (500)\ttotal: 4m 47s\tremaining: 4m 46s\n",
      "Stopped by overfitting detector  (100 iterations wait)\n",
      "\n",
      "bestTest = 1.769296582\n",
      "bestIteration = 541\n",
      "\n",
      "Shrink model to first 542 iterations.\n",
      "Valid Set 4 번째 Fold RMSE : 1.76930\n"
     ]
    },
    {
     "name": "stderr",
     "output_type": "stream",
     "text": [
      " 40%|████      | 4/10 [23:55<36:46, 367.69s/it]"
     ]
    },
    {
     "name": "stdout",
     "output_type": "stream",
     "text": [
      "0:\tlearn: 2.3585867\ttest: 2.3585867\ttest1: 2.3595140\tbest: 2.3595140 (0)\ttotal: 164ms\tremaining: 2m 44s\n",
      "500:\tlearn: 1.6798980\ttest: 1.4876994\ttest1: 1.7625553\tbest: 1.7623072 (443)\ttotal: 4m 44s\tremaining: 4m 43s\n",
      "Stopped by overfitting detector  (100 iterations wait)\n",
      "\n",
      "bestTest = 1.762176672\n",
      "bestIteration = 589\n",
      "\n",
      "Shrink model to first 590 iterations.\n",
      "Valid Set 5 번째 Fold RMSE : 1.76218\n"
     ]
    },
    {
     "name": "stderr",
     "output_type": "stream",
     "text": [
      " 50%|█████     | 5/10 [30:35<31:35, 379.02s/it]"
     ]
    },
    {
     "name": "stdout",
     "output_type": "stream",
     "text": [
      "0:\tlearn: 2.3432784\ttest: 2.3433623\ttest1: 2.3440296\tbest: 2.3440296 (0)\ttotal: 484ms\tremaining: 8m 3s\n",
      "Stopped by overfitting detector  (100 iterations wait)\n",
      "\n",
      "bestTest = 1.771335144\n",
      "bestIteration = 393\n",
      "\n",
      "Shrink model to first 394 iterations.\n",
      "Valid Set 6 번째 Fold RMSE : 1.77134\n"
     ]
    },
    {
     "name": "stderr",
     "output_type": "stream",
     "text": [
      " 60%|██████    | 6/10 [35:23<23:12, 348.12s/it]"
     ]
    },
    {
     "name": "stdout",
     "output_type": "stream",
     "text": [
      "0:\tlearn: 2.3435019\ttest: 2.3435739\ttest1: 2.3437244\tbest: 2.3437244 (0)\ttotal: 479ms\tremaining: 7m 58s\n",
      "500:\tlearn: 1.6809349\ttest: 1.4825016\ttest1: 1.7684416\tbest: 1.7681115 (439)\ttotal: 4m 45s\tremaining: 4m 44s\n",
      "Stopped by overfitting detector  (100 iterations wait)\n",
      "\n",
      "bestTest = 1.767900446\n",
      "bestIteration = 573\n",
      "\n",
      "Shrink model to first 574 iterations.\n",
      "Valid Set 7 번째 Fold RMSE : 1.76790\n"
     ]
    },
    {
     "name": "stderr",
     "output_type": "stream",
     "text": [
      " 70%|███████   | 7/10 [41:53<18:06, 362.09s/it]"
     ]
    },
    {
     "name": "stdout",
     "output_type": "stream",
     "text": [
      "0:\tlearn: 2.3412642\ttest: 2.3412419\ttest1: 2.3422013\tbest: 2.3422013 (0)\ttotal: 457ms\tremaining: 7m 37s\n",
      "500:\tlearn: 1.6845905\ttest: 1.4877280\ttest1: 1.7775549\tbest: 1.7772096 (454)\ttotal: 4m 46s\tremaining: 4m 45s\n",
      "Stopped by overfitting detector  (100 iterations wait)\n",
      "\n",
      "bestTest = 1.776680688\n",
      "bestIteration = 612\n",
      "\n",
      "Shrink model to first 613 iterations.\n",
      "Valid Set 8 번째 Fold RMSE : 1.77668\n"
     ]
    },
    {
     "name": "stderr",
     "output_type": "stream",
     "text": [
      " 80%|████████  | 8/10 [48:50<12:38, 379.26s/it]"
     ]
    },
    {
     "name": "stdout",
     "output_type": "stream",
     "text": [
      "0:\tlearn: 2.3430394\ttest: 2.3431304\ttest1: 2.3429349\tbest: 2.3429349 (0)\ttotal: 503ms\tremaining: 8m 22s\n",
      "500:\tlearn: 1.6851059\ttest: 1.4773720\ttest1: 1.7626172\tbest: 1.7624415 (433)\ttotal: 4m 49s\tremaining: 4m 48s\n",
      "Stopped by overfitting detector  (100 iterations wait)\n",
      "\n",
      "bestTest = 1.762441538\n",
      "bestIteration = 433\n",
      "\n",
      "Shrink model to first 434 iterations.\n",
      "Valid Set 9 번째 Fold RMSE : 1.76244\n"
     ]
    },
    {
     "name": "stderr",
     "output_type": "stream",
     "text": [
      " 90%|█████████ | 9/10 [54:03<05:58, 358.59s/it]"
     ]
    },
    {
     "name": "stdout",
     "output_type": "stream",
     "text": [
      "0:\tlearn: 2.3433643\ttest: 2.3434014\ttest1: 2.3439404\tbest: 2.3439404 (0)\ttotal: 467ms\tremaining: 7m 47s\n",
      "Stopped by overfitting detector  (100 iterations wait)\n",
      "\n",
      "bestTest = 1.771153066\n",
      "bestIteration = 262\n",
      "\n",
      "Shrink model to first 263 iterations.\n",
      "Valid Set 10 번째 Fold RMSE : 1.77115\n"
     ]
    },
    {
     "name": "stderr",
     "output_type": "stream",
     "text": [
      "100%|██████████| 10/10 [57:29<00:00, 344.93s/it]"
     ]
    },
    {
     "name": "stdout",
     "output_type": "stream",
     "text": [
      "모델 RMSE 평균 : 1.76569 \n",
      "\n"
     ]
    },
    {
     "name": "stderr",
     "output_type": "stream",
     "text": [
      "\n"
     ]
    }
   ],
   "source": [
    "X_data, y_data = train_df.drop(columns = 'rating'), train_df['rating']\n",
    "\n",
    "skf = StratifiedKFold(n_splits = 10, shuffle = True, random_state = SEED)\n",
    "valid_rmse = []\n",
    "pred_df = pd.DataFrame()\n",
    "\n",
    "# Stratified K-Fold 사용하여 Best Parameter 학습\n",
    "for fold, (train_idx, valid_idx) in tqdm.tqdm(enumerate(skf.split(X_data, y_data)), total = skf.n_splits) : \n",
    "    \n",
    "    # Train Set과 Valid Set 분할    \n",
    "    X_train, y_train = X_data.iloc[train_idx], y_data.iloc[train_idx]\n",
    "    X_valid, y_valid = X_data.iloc[valid_idx], y_data.iloc[valid_idx]\n",
    "    \n",
    "    # Best Parameter 학습\n",
    "    param = study.best_params\n",
    "    \n",
    "    cat_reg = CatBoostRegressor(**param, iterations = 5000, \n",
    "                                loss_function = 'RMSE', eval_metric = 'RMSE', \n",
    "                                use_best_model = True, random_state = SEED,\n",
    "                                cat_features = [i for i in range(0, 12)])\n",
    "    cat_reg.fit(X_train, y_train, eval_set = [(X_train, y_train), (X_valid, y_valid)],\n",
    "                verbose = 500, early_stopping_rounds = 100)\n",
    "    \n",
    "    # 모델 RMSE 출력\n",
    "    score = mean_squared_error(y_valid, cat_reg.predict(X_valid), squared = False)\n",
    "    valid_rmse.append(score)\n",
    "    print(f'Valid Set {fold + 1} 번째 Fold RMSE : {score:.5f}')\n",
    "    \n",
    "    # Predict\n",
    "    pred = cat_reg.predict(test_df.drop(['rating'], axis = 1))\n",
    "    pred_df[f'pred_{fold}'] = pred\n",
    "    \n",
    "print(f'CatBoost RMSE 평균 : {np.array(valid_rmse).mean():.5f} \\n')"
   ]
  },
  {
   "cell_type": "code",
   "execution_count": 39,
   "metadata": {},
   "outputs": [
    {
     "name": "stderr",
     "output_type": "stream",
     "text": [
      "  0%|          | 0/10 [00:00<?, ?it/s]"
     ]
    },
    {
     "name": "stdout",
     "output_type": "stream",
     "text": [
      "0:\tlearn: 2.3373260\ttest: 2.3371625\tbest: 2.3371625 (0)\ttotal: 742ms\tremaining: 12m 21s\n",
      "300:\tlearn: 1.8072065\ttest: 1.7842630\tbest: 1.7842613 (298)\ttotal: 3m 33s\tremaining: 8m 16s\n",
      "600:\tlearn: 1.8002130\ttest: 1.7815329\tbest: 1.7815322 (599)\ttotal: 6m 52s\tremaining: 4m 33s\n",
      "900:\tlearn: 1.7955144\ttest: 1.7807715\tbest: 1.7807521 (884)\ttotal: 9m 59s\tremaining: 1m 5s\n",
      "999:\tlearn: 1.7941479\ttest: 1.7807268\tbest: 1.7806914 (947)\ttotal: 11m 2s\tremaining: 0us\n",
      "bestTest = 1.780691374\n",
      "bestIteration = 947\n",
      "Shrink model to first 948 iterations.\n"
     ]
    },
    {
     "name": "stderr",
     "output_type": "stream",
     "text": [
      " 10%|█         | 1/10 [11:06<1:39:56, 666.31s/it]"
     ]
    },
    {
     "name": "stdout",
     "output_type": "stream",
     "text": [
      "Valid Set 1 번째 Fold RMSE : 1.78069\n",
      "0:\tlearn: 2.3374788\ttest: 2.3367177\tbest: 2.3367177 (0)\ttotal: 738ms\tremaining: 12m 17s\n",
      "300:\tlearn: 1.8062695\ttest: 1.7783646\tbest: 1.7783646 (300)\ttotal: 3m 44s\tremaining: 8m 42s\n",
      "600:\tlearn: 1.7985887\ttest: 1.7759618\tbest: 1.7759618 (600)\ttotal: 7m 21s\tremaining: 4m 53s\n",
      "bestTest = 1.775851643\n",
      "bestIteration = 642\n",
      "Shrink model to first 643 iterations.\n"
     ]
    },
    {
     "name": "stderr",
     "output_type": "stream",
     "text": [
      " 20%|██        | 2/10 [20:11<1:19:20, 595.01s/it]"
     ]
    },
    {
     "name": "stdout",
     "output_type": "stream",
     "text": [
      "Valid Set 2 번째 Fold RMSE : 1.77585\n",
      "0:\tlearn: 2.3374692\ttest: 2.3355838\tbest: 2.3355838 (0)\ttotal: 746ms\tremaining: 12m 24s\n",
      "300:\tlearn: 1.8081901\ttest: 1.7729986\tbest: 1.7729986 (300)\ttotal: 3m 49s\tremaining: 8m 52s\n",
      "600:\tlearn: 1.8014810\ttest: 1.7708216\tbest: 1.7708007 (586)\ttotal: 7m 10s\tremaining: 4m 45s\n",
      "900:\tlearn: 1.7985673\ttest: 1.7700004\tbest: 1.7699979 (892)\ttotal: 9m 57s\tremaining: 1m 5s\n",
      "999:\tlearn: 1.7978372\ttest: 1.7699504\tbest: 1.7699010 (918)\ttotal: 10m 53s\tremaining: 0us\n",
      "bestTest = 1.769900972\n",
      "bestIteration = 918\n",
      "Shrink model to first 919 iterations.\n"
     ]
    },
    {
     "name": "stderr",
     "output_type": "stream",
     "text": [
      " 30%|███       | 3/10 [31:07<1:12:41, 623.07s/it]"
     ]
    },
    {
     "name": "stdout",
     "output_type": "stream",
     "text": [
      "Valid Set 3 번째 Fold RMSE : 1.76990\n",
      "0:\tlearn: 2.3374063\ttest: 2.3369728\tbest: 2.3369728 (0)\ttotal: 741ms\tremaining: 12m 19s\n",
      "300:\tlearn: 1.8063597\ttest: 1.7862561\tbest: 1.7862279 (298)\ttotal: 3m 53s\tremaining: 9m 1s\n",
      "600:\tlearn: 1.7988206\ttest: 1.7843567\tbest: 1.7843521 (597)\ttotal: 7m 8s\tremaining: 4m 44s\n",
      "bestTest = 1.783804765\n",
      "bestIteration = 767\n",
      "Shrink model to first 768 iterations.\n"
     ]
    },
    {
     "name": "stderr",
     "output_type": "stream",
     "text": [
      " 40%|████      | 4/10 [40:20<59:32, 595.36s/it]  "
     ]
    },
    {
     "name": "stdout",
     "output_type": "stream",
     "text": [
      "Valid Set 4 번째 Fold RMSE : 1.78380\n",
      "0:\tlearn: 2.3372831\ttest: 2.3384398\tbest: 2.3384398 (0)\ttotal: 738ms\tremaining: 12m 17s\n",
      "300:\tlearn: 1.8075963\ttest: 1.7876686\tbest: 1.7876686 (300)\ttotal: 3m 56s\tremaining: 9m 8s\n",
      "600:\tlearn: 1.7998334\ttest: 1.7844440\tbest: 1.7844440 (600)\ttotal: 7m 25s\tremaining: 4m 55s\n",
      "900:\tlearn: 1.7983311\ttest: 1.7838254\tbest: 1.7838251 (899)\ttotal: 11m 11s\tremaining: 1m 13s\n",
      "999:\tlearn: 1.7968517\ttest: 1.7834554\tbest: 1.7834554 (999)\ttotal: 12m 16s\tremaining: 0us\n",
      "bestTest = 1.783455413\n",
      "bestIteration = 999\n"
     ]
    },
    {
     "name": "stderr",
     "output_type": "stream",
     "text": [
      " 50%|█████     | 5/10 [52:40<53:58, 647.61s/it]"
     ]
    },
    {
     "name": "stdout",
     "output_type": "stream",
     "text": [
      "Valid Set 5 번째 Fold RMSE : 1.78346\n",
      "0:\tlearn: 2.3372582\ttest: 2.3378665\tbest: 2.3378665 (0)\ttotal: 740ms\tremaining: 12m 19s\n",
      "300:\tlearn: 1.8059517\ttest: 1.7905688\tbest: 1.7905688 (299)\ttotal: 4m 8s\tremaining: 9m 37s\n",
      "600:\tlearn: 1.7989451\ttest: 1.7883252\tbest: 1.7883252 (600)\ttotal: 7m 8s\tremaining: 4m 44s\n",
      "900:\tlearn: 1.7953115\ttest: 1.7874822\tbest: 1.7874134 (823)\ttotal: 10m 7s\tremaining: 1m 6s\n",
      "bestTest = 1.787413422\n",
      "bestIteration = 823\n",
      "Shrink model to first 824 iterations.\n"
     ]
    },
    {
     "name": "stderr",
     "output_type": "stream",
     "text": [
      " 60%|██████    | 6/10 [1:03:07<42:41, 640.47s/it]"
     ]
    },
    {
     "name": "stdout",
     "output_type": "stream",
     "text": [
      "Valid Set 6 번째 Fold RMSE : 1.78741\n",
      "0:\tlearn: 2.3372678\ttest: 2.3372324\tbest: 2.3372324 (0)\ttotal: 737ms\tremaining: 12m 16s\n",
      "300:\tlearn: 1.8055615\ttest: 1.7869329\tbest: 1.7869100 (296)\ttotal: 3m 37s\tremaining: 8m 25s\n",
      "600:\tlearn: 1.7983313\ttest: 1.7854412\tbest: 1.7854123 (586)\ttotal: 6m 15s\tremaining: 4m 9s\n",
      "900:\tlearn: 1.7931136\ttest: 1.7843571\tbest: 1.7842843 (871)\ttotal: 9m 1s\tremaining: 59.5s\n",
      "999:\tlearn: 1.7919846\ttest: 1.7842546\tbest: 1.7842309 (972)\ttotal: 9m 55s\tremaining: 0us\n",
      "bestTest = 1.784230869\n",
      "bestIteration = 972\n",
      "Shrink model to first 973 iterations.\n"
     ]
    },
    {
     "name": "stderr",
     "output_type": "stream",
     "text": [
      " 70%|███████   | 7/10 [1:13:06<31:21, 627.02s/it]"
     ]
    },
    {
     "name": "stdout",
     "output_type": "stream",
     "text": [
      "Valid Set 7 번째 Fold RMSE : 1.78423\n",
      "0:\tlearn: 2.3371825\ttest: 2.3382321\tbest: 2.3382321 (0)\ttotal: 739ms\tremaining: 12m 18s\n",
      "300:\tlearn: 1.8102048\ttest: 1.7966328\tbest: 1.7966328 (300)\ttotal: 3m 37s\tremaining: 8m 24s\n",
      "600:\tlearn: 1.8050125\ttest: 1.7935650\tbest: 1.7935314 (586)\ttotal: 7m 5s\tremaining: 4m 42s\n",
      "900:\tlearn: 1.7997461\ttest: 1.7912642\tbest: 1.7912642 (900)\ttotal: 10m 28s\tremaining: 1m 9s\n",
      "999:\tlearn: 1.7984841\ttest: 1.7908503\tbest: 1.7908498 (998)\ttotal: 11m 36s\tremaining: 0us\n",
      "bestTest = 1.790849775\n",
      "bestIteration = 998\n",
      "Shrink model to first 999 iterations.\n"
     ]
    },
    {
     "name": "stderr",
     "output_type": "stream",
     "text": [
      " 80%|████████  | 8/10 [1:24:47<21:41, 650.54s/it]"
     ]
    },
    {
     "name": "stdout",
     "output_type": "stream",
     "text": [
      "Valid Set 8 번째 Fold RMSE : 1.79085\n",
      "0:\tlearn: 2.3374424\ttest: 2.3374652\tbest: 2.3374652 (0)\ttotal: 747ms\tremaining: 12m 25s\n",
      "300:\tlearn: 1.8083925\ttest: 1.7812723\tbest: 1.7812669 (298)\ttotal: 3m 34s\tremaining: 8m 17s\n",
      "600:\tlearn: 1.8024959\ttest: 1.7782038\tbest: 1.7781764 (597)\ttotal: 7m 12s\tremaining: 4m 47s\n",
      "900:\tlearn: 1.7983068\ttest: 1.7774715\tbest: 1.7773186 (855)\ttotal: 10m 38s\tremaining: 1m 10s\n",
      "bestTest = 1.777318617\n",
      "bestIteration = 855\n",
      "Shrink model to first 856 iterations.\n"
     ]
    },
    {
     "name": "stderr",
     "output_type": "stream",
     "text": [
      " 90%|█████████ | 9/10 [1:36:07<10:59, 659.66s/it]"
     ]
    },
    {
     "name": "stdout",
     "output_type": "stream",
     "text": [
      "Valid Set 9 번째 Fold RMSE : 1.77732\n",
      "0:\tlearn: 2.3373229\ttest: 2.3384375\tbest: 2.3384375 (0)\ttotal: 743ms\tremaining: 12m 22s\n",
      "300:\tlearn: 1.8067563\ttest: 1.7924557\tbest: 1.7924557 (300)\ttotal: 3m 35s\tremaining: 8m 19s\n",
      "600:\tlearn: 1.8011902\ttest: 1.7902382\tbest: 1.7902192 (590)\ttotal: 6m 1s\tremaining: 4m\n",
      "900:\tlearn: 1.7972565\ttest: 1.7894731\tbest: 1.7894409 (866)\ttotal: 8m 13s\tremaining: 54.2s\n",
      "bestTest = 1.789440904\n",
      "bestIteration = 866\n",
      "Shrink model to first 867 iterations.\n"
     ]
    },
    {
     "name": "stderr",
     "output_type": "stream",
     "text": [
      "100%|██████████| 10/10 [1:44:51<00:00, 629.14s/it]"
     ]
    },
    {
     "name": "stdout",
     "output_type": "stream",
     "text": [
      "Valid Set 10 번째 Fold RMSE : 1.78944\n",
      "모델 RMSE 평균 : 1.78230 \n",
      "\n"
     ]
    },
    {
     "name": "stderr",
     "output_type": "stream",
     "text": [
      "\n"
     ]
    }
   ],
   "source": [
    "X_data, y_data = train_df.drop(columns = 'rating'), train_df['rating']\n",
    "\n",
    "skf = StratifiedKFold(n_splits = 10, shuffle = True, random_state = SEED)\n",
    "valid_rmse = []\n",
    "\n",
    "# Stratified K-Fold 사용하여 Best Parameter 학습\n",
    "for fold, (train_idx, valid_idx) in tqdm.tqdm(enumerate(skf.split(X_data, y_data)), total = skf.n_splits) :\n",
    "    \n",
    "    # Train Set과 Valid Set 분할    \n",
    "    X_train, y_train = X_data.iloc[train_idx], y_data.iloc[train_idx]\n",
    "    X_valid, y_valid = X_data.iloc[valid_idx], y_data.iloc[valid_idx]\n",
    "    \n",
    "    # Best Parameter 학습\n",
    "    param = study.best_params # cb_best_params\n",
    "    \n",
    "    cat_reg = CatBoostRegressor(**param, loss_function = 'RMSE', eval_metric = 'RMSE', \n",
    "                                use_best_model = True, random_state = SEED,\n",
    "                                task_type = 'GPU', devices = '0',\n",
    "                                cat_features = [0, 1, 2, 3, 4, 5, 6, 7, 8, 9])\n",
    "    cat_reg.fit(X_train, y_train, eval_set = [(X_valid, y_valid)],\n",
    "                verbose = 300, early_stopping_rounds = 100)\n",
    "    \n",
    "    # 모델 RMSE 출력\n",
    "    score = mean_squared_error(y_valid, cat_reg.predict(X_valid), squared = False)\n",
    "    valid_rmse.append(score)\n",
    "    print(f'Valid Set {fold + 1} 번째 Fold RMSE : {score:.5f}')\n",
    "\n",
    "print(f'모델 RMSE 평균 : {np.array(valid_rmse).mean():.5f} \\n')"
   ]
  },
  {
   "cell_type": "code",
   "execution_count": 47,
   "metadata": {},
   "outputs": [
    {
     "data": {
      "image/png": "[encoded data removed]",
      "text/plain": [
       "<Figure size 1200x600 with 1 Axes>"
      ]
     },
     "metadata": {},
     "output_type": "display_data"
    }
   ],
   "source": [
    "feature_importance = cat_reg.feature_importances_\n",
    "sorted_idx = np.argsort(feature_importance)\n",
    "fig = plt.figure(figsize = (12, 6))\n",
    "plt.barh(range(len(sorted_idx)), feature_importance[sorted_idx], align = 'center')\n",
    "plt.yticks(range(len(sorted_idx)), np.array(X_data.columns)[sorted_idx])\n",
    "plt.title('Feature Importance')\n",
    "plt.show()"
   ]
  },
  {
   "cell_type": "code",
   "execution_count": 49,
   "metadata": {},
   "outputs": [
    {
     "data": {
      "text/html": [
       "<div>\n",
       "<style scoped>\n",
       "    .dataframe tbody tr th:only-of-type {\n",
       "        vertical-align: middle;\n",
       "    }\n",
       "\n",
       "    .dataframe tbody tr th {\n",
       "        vertical-align: top;\n",
       "    }\n",
       "\n",
       "    .dataframe thead th {\n",
       "        text-align: right;\n",
       "    }\n",
       "</style>\n",
       "<table border=\"1\" class=\"dataframe\">\n",
       "  <thead>\n",
       "    <tr style=\"text-align: right;\">\n",
       "      <th></th>\n",
       "      <th>user_id</th>\n",
       "      <th>isbn</th>\n",
       "      <th>rating</th>\n",
       "    </tr>\n",
       "  </thead>\n",
       "  <tbody>\n",
       "    <tr>\n",
       "      <th>0</th>\n",
       "      <td>11676</td>\n",
       "      <td>0002005018</td>\n",
       "      <td>7.066980</td>\n",
       "    </tr>\n",
       "    <tr>\n",
       "      <th>1</th>\n",
       "      <td>116866</td>\n",
       "      <td>0002005018</td>\n",
       "      <td>7.668482</td>\n",
       "    </tr>\n",
       "    <tr>\n",
       "      <th>2</th>\n",
       "      <td>152827</td>\n",
       "      <td>0060973129</td>\n",
       "      <td>8.320372</td>\n",
       "    </tr>\n",
       "    <tr>\n",
       "      <th>3</th>\n",
       "      <td>157969</td>\n",
       "      <td>0374157065</td>\n",
       "      <td>7.769433</td>\n",
       "    </tr>\n",
       "    <tr>\n",
       "      <th>4</th>\n",
       "      <td>67958</td>\n",
       "      <td>0399135782</td>\n",
       "      <td>8.436759</td>\n",
       "    </tr>\n",
       "    <tr>\n",
       "      <th>...</th>\n",
       "      <td>...</td>\n",
       "      <td>...</td>\n",
       "      <td>...</td>\n",
       "    </tr>\n",
       "    <tr>\n",
       "      <th>76694</th>\n",
       "      <td>278543</td>\n",
       "      <td>1576734218</td>\n",
       "      <td>6.505219</td>\n",
       "    </tr>\n",
       "    <tr>\n",
       "      <th>76695</th>\n",
       "      <td>278563</td>\n",
       "      <td>3492223710</td>\n",
       "      <td>6.650600</td>\n",
       "    </tr>\n",
       "    <tr>\n",
       "      <th>76696</th>\n",
       "      <td>278633</td>\n",
       "      <td>1896095186</td>\n",
       "      <td>6.597798</td>\n",
       "    </tr>\n",
       "    <tr>\n",
       "      <th>76697</th>\n",
       "      <td>278668</td>\n",
       "      <td>8408044079</td>\n",
       "      <td>2.813656</td>\n",
       "    </tr>\n",
       "    <tr>\n",
       "      <th>76698</th>\n",
       "      <td>278851</td>\n",
       "      <td>0767907566</td>\n",
       "      <td>6.122128</td>\n",
       "    </tr>\n",
       "  </tbody>\n",
       "</table>\n",
       "<p>76699 rows × 3 columns</p>\n",
       "</div>"
      ],
      "text/plain": [
       "      user_id        isbn    rating\n",
       "0       11676  0002005018  7.066980\n",
       "1      116866  0002005018  7.668482\n",
       "2      152827  0060973129  8.320372\n",
       "3      157969  0374157065  7.769433\n",
       "4       67958  0399135782  8.436759\n",
       "...       ...         ...       ...\n",
       "76694  278543  1576734218  6.505219\n",
       "76695  278563  3492223710  6.650600\n",
       "76696  278633  1896095186  6.597798\n",
       "76697  278668  8408044079  2.813656\n",
       "76698  278851  0767907566  6.122128\n",
       "\n",
       "[76699 rows x 3 columns]"
      ]
     },
     "execution_count": 49,
     "metadata": {},
     "output_type": "execute_result"
    }
   ],
   "source": [
    "test_ratings['rating'] = (pred_df['pred_0'] + pred_df['pred_1'] + pred_df['pred_2'] + pred_df['pred_3'] + pred_df['pred_4'] + \n",
    "                     pred_df['pred_5'] + pred_df['pred_6'] + pred_df['pred_7'] + pred_df['pred_8'] + pred_df['pred_9']) / 10\n",
    "submit = test_ratings[['user_id', 'isbn', 'rating']]\n",
    "submit"
   ]
  },
  {
   "cell_type": "code",
   "execution_count": 50,
   "metadata": {},
   "outputs": [],
   "source": [
    "submit.to_csv('./code/submit/CB_HPO_Pred_AVG.csv', index = False)"
   ]
  },
  {
   "cell_type": "code",
   "execution_count": 52,
   "metadata": {},
   "outputs": [],
   "source": [
    "submit['rating'] = submit['rating'].round().astype(int)\n",
    "submit.to_csv('./code/submit/CB_HPO_Pred_AVG_round.csv', index = False)"
   ]
  },
  {
   "cell_type": "markdown",
   "metadata": {},
   "source": [
    "- best_params = {'learning_rate': 0.1, 'depth': 10, 'colsample_bylevel': 0.5, 'boosting_type': 'Plain', 'bootstrap_type': 'MVS'}\n",
    "    - LB : 2.2369 / CV : 1.7941\n",
    "\n",
    "- best_params = {'learning_rate': 0.1, 'reg_lambda': 10, 'random_strength': 26, 'depth': 9, 'min_data_in_leaf': 2, 'leaf_estimation_iterations': 10, 'boosting_type': 'Ordered', 'bootstrap_type': 'Bernoulli', 'subsample': 0.3741523922560336}\n",
    "    - LB : 2.2479 / CV : 1.7941\n",
    "\n",
    "- best_params = {'depth': 11, 'learning_rate': 0.1, 'l2_leaf_reg': 3, 'random_strength': 0.001, 'min_data_in_leaf': 3, 'leaf_estimation_iterations': 9, 'boosting_type': 'Ordered', 'bootstrap_type': 'Bernoulli', 'subsample': 0.739458755076581} \n",
    "    - LB : 2.2444 / CV : 1.78230\n",
    "\n",
    "- best_params = {'learning_rate': 0.1, 'depth': 11, 'colsample_bylevel': 0.5, 'boosting_type': 'Plain', 'bootstrap_type': 'MVS'}\n",
    "    - LB : / CV : 1.76569 "
   ]
  },
  {
   "cell_type": "markdown",
   "metadata": {},
   "source": [
    "## LightGBM"
   ]
  },
  {
   "cell_type": "code",
   "execution_count": 14,
   "metadata": {},
   "outputs": [],
   "source": [
    "def objectiveLGBM(trial : Trial, X_train, y_train, X_valid, y_valid) :\n",
    "    param = {\n",
    "        'boosting_type' : trial.suggest_categorical('boosting_type', ['gbdt', 'dart']),\n",
    "        'num_leaves' : trial.suggest_int('num_leaves', 30, 50),\n",
    "        'max_depth' : trial.suggest_int('max_depth', 1, 15),\n",
    "        'learning_rate' : trial.suggest_categorical('learning_rate', [1e-5, 1e-3, 0.1, 0.5]),\n",
    "        'colsample_bytree' : trial.suggest_categorical('colsample_bytree', [0.1, 0.3, 0.5, 0.7, 1.0]),\n",
    "        'subsample' : trial.suggest_categorical('subsample', [0.1, 0.3, 0.5, 0.7, 1.0]),\n",
    "        'reg_alpha' : trial.suggest_categorical('reg_alpha', [1e-3, 0.1, 1, 5, 10]),\n",
    "        'reg_lambda' : trial.suggest_categorical('reg_lambda', [1e-3, 0.1, 1, 5, 10]),\n",
    "        'min_child_weight': trial.suggest_categorical('min_child_weight', [1e-3, 0.1, 1, 5, 10]),\n",
    "    }\n",
    "    lgbm_model = LGBMRegressor(**param, n_estimators = 5000, objective = 'regression', metric = 'rmse',\n",
    "                               n_jobs = -1, verbose = -1, random_state = SEED)\n",
    "    callback = lightgbm.early_stopping(stopping_rounds = 100)\n",
    "    lgbm_model.fit(X_train, y_train, eval_set = [(X_train, y_train), (X_valid, y_valid)],\n",
    "                   eval_metric = 'rmse', callbacks = [callback])\n",
    "    \n",
    "    score = mean_squared_error(y_valid, lgbm_model.predict(X_valid), squared = False)\n",
    "    return score"
   ]
  },
  {
   "cell_type": "code",
   "execution_count": 15,
   "metadata": {},
   "outputs": [
    {
     "name": "stderr",
     "output_type": "stream",
     "text": [
      "[I 2023-12-15 13:08:07,509] A new study created in memory with name: no-name-2b5465e9-b405-46d5-8a39-a72bff979798\n",
      "[I 2023-12-15 13:13:22,558] Trial 0 finished with value: 1.9462932670262931 and parameters: {'boosting_type': 'dart', 'num_leaves': 45, 'max_depth': 9, 'learning_rate': 0.5, 'colsample_bytree': 0.7, 'subsample': 1.0, 'reg_alpha': 1, 'reg_lambda': 1, 'min_child_weight': 1}. Best is trial 0 with value: 1.9462932670262931.\n",
      "[I 2023-12-15 13:23:04,161] Trial 1 finished with value: 2.7512655857240094 and parameters: {'boosting_type': 'dart', 'num_leaves': 46, 'max_depth': 5, 'learning_rate': 0.001, 'colsample_bytree': 0.5, 'subsample': 1.0, 'reg_alpha': 0.1, 'reg_lambda': 10, 'min_child_weight': 0.1}. Best is trial 0 with value: 1.9462932670262931.\n",
      "[I 2023-12-15 13:27:42,611] Trial 2 finished with value: 7.630890264743444 and parameters: {'boosting_type': 'dart', 'num_leaves': 31, 'max_depth': 15, 'learning_rate': 0.5, 'colsample_bytree': 0.5, 'subsample': 0.3, 'reg_alpha': 10, 'reg_lambda': 5, 'min_child_weight': 0.001}. Best is trial 0 with value: 1.9462932670262931.\n"
     ]
    },
    {
     "name": "stdout",
     "output_type": "stream",
     "text": [
      "Training until validation scores don't improve for 100 rounds\n",
      "Did not meet early stopping. Best iteration is:\n",
      "[5000]\ttraining's rmse: 2.12043\tvalid_1's rmse: 2.1288\n"
     ]
    },
    {
     "name": "stderr",
     "output_type": "stream",
     "text": [
      "[I 2023-12-15 13:28:02,097] Trial 3 finished with value: 2.1288043693622063 and parameters: {'boosting_type': 'gbdt', 'num_leaves': 43, 'max_depth': 5, 'learning_rate': 0.001, 'colsample_bytree': 0.1, 'subsample': 0.1, 'reg_alpha': 10, 'reg_lambda': 10, 'min_child_weight': 0.001}. Best is trial 0 with value: 1.9462932670262931.\n",
      "[I 2023-12-15 13:31:12,186] Trial 4 finished with value: 7.395880250694369 and parameters: {'boosting_type': 'dart', 'num_leaves': 49, 'max_depth': 5, 'learning_rate': 0.5, 'colsample_bytree': 0.1, 'subsample': 0.3, 'reg_alpha': 10, 'reg_lambda': 1, 'min_child_weight': 1}. Best is trial 0 with value: 1.9462932670262931.\n"
     ]
    },
    {
     "name": "stdout",
     "output_type": "stream",
     "text": [
      "Training until validation scores don't improve for 100 rounds\n",
      "Did not meet early stopping. Best iteration is:\n",
      "[5000]\ttraining's rmse: 1.89957\tvalid_1's rmse: 1.9121\n"
     ]
    },
    {
     "name": "stderr",
     "output_type": "stream",
     "text": [
      "[I 2023-12-15 13:31:24,501] Trial 5 finished with value: 1.912103023622258 and parameters: {'boosting_type': 'gbdt', 'num_leaves': 33, 'max_depth': 1, 'learning_rate': 0.001, 'colsample_bytree': 0.7, 'subsample': 0.1, 'reg_alpha': 0.001, 'reg_lambda': 10, 'min_child_weight': 10}. Best is trial 5 with value: 1.912103023622258.\n"
     ]
    },
    {
     "name": "stdout",
     "output_type": "stream",
     "text": [
      "Training until validation scores don't improve for 100 rounds\n",
      "Did not meet early stopping. Best iteration is:\n",
      "[5000]\ttraining's rmse: 1.91529\tvalid_1's rmse: 1.92689\n"
     ]
    },
    {
     "name": "stderr",
     "output_type": "stream",
     "text": [
      "[I 2023-12-15 13:31:37,414] Trial 6 finished with value: 1.9268898092436648 and parameters: {'boosting_type': 'gbdt', 'num_leaves': 43, 'max_depth': 2, 'learning_rate': 0.001, 'colsample_bytree': 0.3, 'subsample': 0.7, 'reg_alpha': 5, 'reg_lambda': 0.001, 'min_child_weight': 0.001}. Best is trial 5 with value: 1.912103023622258.\n",
      "[I 2023-12-15 13:37:40,556] Trial 7 finished with value: 7.040715559633694 and parameters: {'boosting_type': 'dart', 'num_leaves': 40, 'max_depth': 3, 'learning_rate': 1e-05, 'colsample_bytree': 0.5, 'subsample': 0.7, 'reg_alpha': 0.001, 'reg_lambda': 1, 'min_child_weight': 1}. Best is trial 5 with value: 1.912103023622258.\n"
     ]
    },
    {
     "name": "stdout",
     "output_type": "stream",
     "text": [
      "Training until validation scores don't improve for 100 rounds\n"
     ]
    },
    {
     "name": "stderr",
     "output_type": "stream",
     "text": [
      "[I 2023-12-15 13:37:41,548] Trial 8 finished with value: 1.8746150189688395 and parameters: {'boosting_type': 'gbdt', 'num_leaves': 44, 'max_depth': 11, 'learning_rate': 0.5, 'colsample_bytree': 0.3, 'subsample': 0.7, 'reg_alpha': 1, 'reg_lambda': 1, 'min_child_weight': 0.001}. Best is trial 8 with value: 1.8746150189688395.\n"
     ]
    },
    {
     "name": "stdout",
     "output_type": "stream",
     "text": [
      "Early stopping, best iteration is:\n",
      "[60]\ttraining's rmse: 1.82236\tvalid_1's rmse: 1.87462\n"
     ]
    },
    {
     "name": "stderr",
     "output_type": "stream",
     "text": [
      "[I 2023-12-15 13:39:44,804] Trial 9 finished with value: 7.143864739495544 and parameters: {'boosting_type': 'dart', 'num_leaves': 31, 'max_depth': 1, 'learning_rate': 0.5, 'colsample_bytree': 0.1, 'subsample': 0.7, 'reg_alpha': 0.001, 'reg_lambda': 10, 'min_child_weight': 0.001}. Best is trial 8 with value: 1.8746150189688395.\n"
     ]
    },
    {
     "name": "stdout",
     "output_type": "stream",
     "text": [
      "Training until validation scores don't improve for 100 rounds\n",
      "Early stopping, best iteration is:\n",
      "[723]\ttraining's rmse: 1.77405\tvalid_1's rmse: 1.85849\n"
     ]
    },
    {
     "name": "stderr",
     "output_type": "stream",
     "text": [
      "[I 2023-12-15 13:39:48,696] Trial 10 finished with value: 1.8584892610762904 and parameters: {'boosting_type': 'gbdt', 'num_leaves': 37, 'max_depth': 12, 'learning_rate': 0.1, 'colsample_bytree': 0.3, 'subsample': 0.5, 'reg_alpha': 1, 'reg_lambda': 0.1, 'min_child_weight': 5}. Best is trial 10 with value: 1.8584892610762904.\n"
     ]
    },
    {
     "name": "stdout",
     "output_type": "stream",
     "text": [
      "Training until validation scores don't improve for 100 rounds\n",
      "Early stopping, best iteration is:\n",
      "[723]\ttraining's rmse: 1.77405\tvalid_1's rmse: 1.85849\n"
     ]
    },
    {
     "name": "stderr",
     "output_type": "stream",
     "text": [
      "[I 2023-12-15 13:39:52,377] Trial 11 finished with value: 1.8584892610762904 and parameters: {'boosting_type': 'gbdt', 'num_leaves': 37, 'max_depth': 12, 'learning_rate': 0.1, 'colsample_bytree': 0.3, 'subsample': 0.5, 'reg_alpha': 1, 'reg_lambda': 0.1, 'min_child_weight': 5}. Best is trial 10 with value: 1.8584892610762904.\n"
     ]
    },
    {
     "name": "stdout",
     "output_type": "stream",
     "text": [
      "Training until validation scores don't improve for 100 rounds\n"
     ]
    },
    {
     "name": "stderr",
     "output_type": "stream",
     "text": [
      "[I 2023-12-15 13:39:55,595] Trial 12 finished with value: 1.857775242096866 and parameters: {'boosting_type': 'gbdt', 'num_leaves': 36, 'max_depth': 13, 'learning_rate': 0.1, 'colsample_bytree': 1.0, 'subsample': 0.5, 'reg_alpha': 1, 'reg_lambda': 0.1, 'min_child_weight': 5}. Best is trial 12 with value: 1.857775242096866.\n"
     ]
    },
    {
     "name": "stdout",
     "output_type": "stream",
     "text": [
      "Early stopping, best iteration is:\n",
      "[552]\ttraining's rmse: 1.7623\tvalid_1's rmse: 1.85778\n",
      "Training until validation scores don't improve for 100 rounds\n"
     ]
    },
    {
     "name": "stderr",
     "output_type": "stream",
     "text": [
      "[I 2023-12-15 13:39:58,378] Trial 13 finished with value: 1.8585193975128478 and parameters: {'boosting_type': 'gbdt', 'num_leaves': 36, 'max_depth': 15, 'learning_rate': 0.1, 'colsample_bytree': 1.0, 'subsample': 0.5, 'reg_alpha': 1, 'reg_lambda': 0.1, 'min_child_weight': 5}. Best is trial 12 with value: 1.857775242096866.\n"
     ]
    },
    {
     "name": "stdout",
     "output_type": "stream",
     "text": [
      "Early stopping, best iteration is:\n",
      "[425]\ttraining's rmse: 1.77931\tvalid_1's rmse: 1.85852\n",
      "Training until validation scores don't improve for 100 rounds\n"
     ]
    },
    {
     "name": "stderr",
     "output_type": "stream",
     "text": [
      "[I 2023-12-15 13:40:01,583] Trial 14 finished with value: 1.857775242096866 and parameters: {'boosting_type': 'gbdt', 'num_leaves': 36, 'max_depth': 13, 'learning_rate': 0.1, 'colsample_bytree': 1.0, 'subsample': 0.5, 'reg_alpha': 1, 'reg_lambda': 0.1, 'min_child_weight': 5}. Best is trial 12 with value: 1.857775242096866.\n"
     ]
    },
    {
     "name": "stdout",
     "output_type": "stream",
     "text": [
      "Early stopping, best iteration is:\n",
      "[552]\ttraining's rmse: 1.7623\tvalid_1's rmse: 1.85778\n",
      "Training until validation scores don't improve for 100 rounds\n"
     ]
    },
    {
     "name": "stderr",
     "output_type": "stream",
     "text": [
      "[I 2023-12-15 13:40:04,694] Trial 15 finished with value: 1.8589018676501479 and parameters: {'boosting_type': 'gbdt', 'num_leaves': 34, 'max_depth': 9, 'learning_rate': 0.1, 'colsample_bytree': 1.0, 'subsample': 0.5, 'reg_alpha': 0.1, 'reg_lambda': 0.1, 'min_child_weight': 5}. Best is trial 12 with value: 1.857775242096866.\n"
     ]
    },
    {
     "name": "stdout",
     "output_type": "stream",
     "text": [
      "Early stopping, best iteration is:\n",
      "[528]\ttraining's rmse: 1.7728\tvalid_1's rmse: 1.8589\n",
      "Training until validation scores don't improve for 100 rounds\n"
     ]
    },
    {
     "name": "stderr",
     "output_type": "stream",
     "text": [
      "[I 2023-12-15 13:40:07,616] Trial 16 finished with value: 1.8577964842982615 and parameters: {'boosting_type': 'gbdt', 'num_leaves': 40, 'max_depth': 13, 'learning_rate': 0.1, 'colsample_bytree': 1.0, 'subsample': 0.5, 'reg_alpha': 5, 'reg_lambda': 0.1, 'min_child_weight': 5}. Best is trial 12 with value: 1.857775242096866.\n"
     ]
    },
    {
     "name": "stdout",
     "output_type": "stream",
     "text": [
      "Early stopping, best iteration is:\n",
      "[423]\ttraining's rmse: 1.77454\tvalid_1's rmse: 1.8578\n",
      "Training until validation scores don't improve for 100 rounds\n",
      "Did not meet early stopping. Best iteration is:\n",
      "[5000]\ttraining's rmse: 2.38464\tvalid_1's rmse: 2.38748\n"
     ]
    },
    {
     "name": "stderr",
     "output_type": "stream",
     "text": [
      "[I 2023-12-15 13:40:54,741] Trial 17 finished with value: 2.387477835090298 and parameters: {'boosting_type': 'gbdt', 'num_leaves': 40, 'max_depth': 10, 'learning_rate': 1e-05, 'colsample_bytree': 1.0, 'subsample': 0.5, 'reg_alpha': 1, 'reg_lambda': 0.001, 'min_child_weight': 0.1}. Best is trial 12 with value: 1.857775242096866.\n"
     ]
    },
    {
     "name": "stdout",
     "output_type": "stream",
     "text": [
      "Training until validation scores don't improve for 100 rounds\n"
     ]
    },
    {
     "name": "stderr",
     "output_type": "stream",
     "text": [
      "[I 2023-12-15 13:40:57,363] Trial 18 finished with value: 1.8587716897589244 and parameters: {'boosting_type': 'gbdt', 'num_leaves': 35, 'max_depth': 14, 'learning_rate': 0.1, 'colsample_bytree': 1.0, 'subsample': 0.5, 'reg_alpha': 1, 'reg_lambda': 5, 'min_child_weight': 10}. Best is trial 12 with value: 1.857775242096866.\n"
     ]
    },
    {
     "name": "stdout",
     "output_type": "stream",
     "text": [
      "Early stopping, best iteration is:\n",
      "[377]\ttraining's rmse: 1.7925\tvalid_1's rmse: 1.85877\n",
      "Training until validation scores don't improve for 100 rounds\n"
     ]
    },
    {
     "name": "stderr",
     "output_type": "stream",
     "text": [
      "[I 2023-12-15 13:41:01,099] Trial 19 finished with value: 1.8582821669272167 and parameters: {'boosting_type': 'gbdt', 'num_leaves': 38, 'max_depth': 7, 'learning_rate': 0.1, 'colsample_bytree': 1.0, 'subsample': 0.5, 'reg_alpha': 1, 'reg_lambda': 0.1, 'min_child_weight': 5}. Best is trial 12 with value: 1.857775242096866.\n"
     ]
    },
    {
     "name": "stdout",
     "output_type": "stream",
     "text": [
      "Early stopping, best iteration is:\n",
      "[573]\ttraining's rmse: 1.76466\tvalid_1's rmse: 1.85828\n",
      "Training until validation scores don't improve for 100 rounds\n"
     ]
    },
    {
     "name": "stderr",
     "output_type": "stream",
     "text": [
      "[I 2023-12-15 13:41:04,206] Trial 20 finished with value: 1.8588447516713684 and parameters: {'boosting_type': 'gbdt', 'num_leaves': 33, 'max_depth': 7, 'learning_rate': 0.1, 'colsample_bytree': 1.0, 'subsample': 1.0, 'reg_alpha': 5, 'reg_lambda': 0.1, 'min_child_weight': 5}. Best is trial 12 with value: 1.857775242096866.\n"
     ]
    },
    {
     "name": "stdout",
     "output_type": "stream",
     "text": [
      "Early stopping, best iteration is:\n",
      "[539]\ttraining's rmse: 1.78037\tvalid_1's rmse: 1.85884\n",
      "Training until validation scores don't improve for 100 rounds\n"
     ]
    },
    {
     "name": "stderr",
     "output_type": "stream",
     "text": [
      "[I 2023-12-15 13:41:07,260] Trial 21 finished with value: 1.8587113110373277 and parameters: {'boosting_type': 'gbdt', 'num_leaves': 39, 'max_depth': 13, 'learning_rate': 0.1, 'colsample_bytree': 1.0, 'subsample': 0.5, 'reg_alpha': 5, 'reg_lambda': 0.1, 'min_child_weight': 5}. Best is trial 12 with value: 1.857775242096866.\n"
     ]
    },
    {
     "name": "stdout",
     "output_type": "stream",
     "text": [
      "Early stopping, best iteration is:\n",
      "[518]\ttraining's rmse: 1.76278\tvalid_1's rmse: 1.85871\n",
      "Training until validation scores don't improve for 100 rounds\n"
     ]
    },
    {
     "name": "stderr",
     "output_type": "stream",
     "text": [
      "[I 2023-12-15 13:41:11,075] Trial 22 finished with value: 1.8575745931789833 and parameters: {'boosting_type': 'gbdt', 'num_leaves': 41, 'max_depth': 12, 'learning_rate': 0.1, 'colsample_bytree': 1.0, 'subsample': 0.5, 'reg_alpha': 5, 'reg_lambda': 0.1, 'min_child_weight': 5}. Best is trial 22 with value: 1.8575745931789833.\n"
     ]
    },
    {
     "name": "stdout",
     "output_type": "stream",
     "text": [
      "Early stopping, best iteration is:\n",
      "[650]\ttraining's rmse: 1.73984\tvalid_1's rmse: 1.85757\n",
      "Training until validation scores don't improve for 100 rounds\n"
     ]
    },
    {
     "name": "stderr",
     "output_type": "stream",
     "text": [
      "[I 2023-12-15 13:41:14,329] Trial 23 finished with value: 1.85818538329485 and parameters: {'boosting_type': 'gbdt', 'num_leaves': 42, 'max_depth': 11, 'learning_rate': 0.1, 'colsample_bytree': 1.0, 'subsample': 0.5, 'reg_alpha': 5, 'reg_lambda': 0.1, 'min_child_weight': 5}. Best is trial 22 with value: 1.8575745931789833.\n"
     ]
    },
    {
     "name": "stdout",
     "output_type": "stream",
     "text": [
      "Early stopping, best iteration is:\n",
      "[522]\ttraining's rmse: 1.75685\tvalid_1's rmse: 1.85819\n",
      "Training until validation scores don't improve for 100 rounds\n",
      "Did not meet early stopping. Best iteration is:\n",
      "[5000]\ttraining's rmse: 2.38463\tvalid_1's rmse: 2.38747\n"
     ]
    },
    {
     "name": "stderr",
     "output_type": "stream",
     "text": [
      "[I 2023-12-15 13:42:01,821] Trial 24 finished with value: 2.3874743996148307 and parameters: {'boosting_type': 'gbdt', 'num_leaves': 41, 'max_depth': 13, 'learning_rate': 1e-05, 'colsample_bytree': 1.0, 'subsample': 0.5, 'reg_alpha': 0.1, 'reg_lambda': 0.1, 'min_child_weight': 5}. Best is trial 22 with value: 1.8575745931789833.\n"
     ]
    },
    {
     "name": "stdout",
     "output_type": "stream",
     "text": [
      "Training until validation scores don't improve for 100 rounds\n"
     ]
    },
    {
     "name": "stderr",
     "output_type": "stream",
     "text": [
      "[I 2023-12-15 13:42:04,560] Trial 25 finished with value: 1.8585842402412496 and parameters: {'boosting_type': 'gbdt', 'num_leaves': 35, 'max_depth': 14, 'learning_rate': 0.1, 'colsample_bytree': 1.0, 'subsample': 0.1, 'reg_alpha': 5, 'reg_lambda': 0.001, 'min_child_weight': 10}. Best is trial 22 with value: 1.8575745931789833.\n"
     ]
    },
    {
     "name": "stdout",
     "output_type": "stream",
     "text": [
      "Early stopping, best iteration is:\n",
      "[409]\ttraining's rmse: 1.78549\tvalid_1's rmse: 1.85858\n",
      "Training until validation scores don't improve for 100 rounds\n"
     ]
    },
    {
     "name": "stderr",
     "output_type": "stream",
     "text": [
      "[I 2023-12-15 13:42:08,033] Trial 26 finished with value: 1.8584412191840736 and parameters: {'boosting_type': 'gbdt', 'num_leaves': 47, 'max_depth': 11, 'learning_rate': 0.1, 'colsample_bytree': 0.7, 'subsample': 0.3, 'reg_alpha': 1, 'reg_lambda': 0.1, 'min_child_weight': 0.1}. Best is trial 22 with value: 1.8575745931789833.\n"
     ]
    },
    {
     "name": "stdout",
     "output_type": "stream",
     "text": [
      "Early stopping, best iteration is:\n",
      "[524]\ttraining's rmse: 1.75144\tvalid_1's rmse: 1.85844\n",
      "Training until validation scores don't improve for 100 rounds\n"
     ]
    },
    {
     "name": "stderr",
     "output_type": "stream",
     "text": [
      "[I 2023-12-15 13:42:10,480] Trial 27 finished with value: 1.8600474860038052 and parameters: {'boosting_type': 'gbdt', 'num_leaves': 38, 'max_depth': 14, 'learning_rate': 0.1, 'colsample_bytree': 1.0, 'subsample': 0.5, 'reg_alpha': 1, 'reg_lambda': 0.1, 'min_child_weight': 5}. Best is trial 22 with value: 1.8575745931789833.\n"
     ]
    },
    {
     "name": "stdout",
     "output_type": "stream",
     "text": [
      "Early stopping, best iteration is:\n",
      "[350]\ttraining's rmse: 1.78709\tvalid_1's rmse: 1.86005\n",
      "Training until validation scores don't improve for 100 rounds\n"
     ]
    },
    {
     "name": "stderr",
     "output_type": "stream",
     "text": [
      "[I 2023-12-15 13:42:14,359] Trial 28 finished with value: 1.8574871315861985 and parameters: {'boosting_type': 'gbdt', 'num_leaves': 30, 'max_depth': 12, 'learning_rate': 0.1, 'colsample_bytree': 1.0, 'subsample': 0.5, 'reg_alpha': 5, 'reg_lambda': 5, 'min_child_weight': 5}. Best is trial 28 with value: 1.8574871315861985.\n"
     ]
    },
    {
     "name": "stdout",
     "output_type": "stream",
     "text": [
      "Early stopping, best iteration is:\n",
      "[736]\ttraining's rmse: 1.76218\tvalid_1's rmse: 1.85749\n"
     ]
    },
    {
     "name": "stderr",
     "output_type": "stream",
     "text": [
      "[I 2023-12-15 13:52:56,996] Trial 29 finished with value: 7.039681670015834 and parameters: {'boosting_type': 'dart', 'num_leaves': 30, 'max_depth': 10, 'learning_rate': 1e-05, 'colsample_bytree': 0.7, 'subsample': 1.0, 'reg_alpha': 5, 'reg_lambda': 5, 'min_child_weight': 1}. Best is trial 28 with value: 1.8574871315861985.\n"
     ]
    },
    {
     "name": "stdout",
     "output_type": "stream",
     "text": [
      "Training until validation scores don't improve for 100 rounds\n"
     ]
    },
    {
     "name": "stderr",
     "output_type": "stream",
     "text": [
      "[I 2023-12-15 13:53:00,438] Trial 30 finished with value: 1.8585056496616352 and parameters: {'boosting_type': 'gbdt', 'num_leaves': 32, 'max_depth': 9, 'learning_rate': 0.1, 'colsample_bytree': 1.0, 'subsample': 0.5, 'reg_alpha': 5, 'reg_lambda': 5, 'min_child_weight': 5}. Best is trial 28 with value: 1.8574871315861985.\n"
     ]
    },
    {
     "name": "stdout",
     "output_type": "stream",
     "text": [
      "Early stopping, best iteration is:\n",
      "[577]\ttraining's rmse: 1.77664\tvalid_1's rmse: 1.85851\n",
      "Training until validation scores don't improve for 100 rounds\n"
     ]
    },
    {
     "name": "stderr",
     "output_type": "stream",
     "text": [
      "[I 2023-12-15 13:53:03,316] Trial 31 finished with value: 1.8587658341672764 and parameters: {'boosting_type': 'gbdt', 'num_leaves': 35, 'max_depth': 12, 'learning_rate': 0.1, 'colsample_bytree': 1.0, 'subsample': 0.5, 'reg_alpha': 5, 'reg_lambda': 5, 'min_child_weight': 5}. Best is trial 28 with value: 1.8574871315861985.\n"
     ]
    },
    {
     "name": "stdout",
     "output_type": "stream",
     "text": [
      "Early stopping, best iteration is:\n",
      "[460]\ttraining's rmse: 1.78252\tvalid_1's rmse: 1.85877\n",
      "Training until validation scores don't improve for 100 rounds\n"
     ]
    },
    {
     "name": "stderr",
     "output_type": "stream",
     "text": [
      "[I 2023-12-15 13:53:06,052] Trial 32 finished with value: 1.8582679416830166 and parameters: {'boosting_type': 'gbdt', 'num_leaves': 30, 'max_depth': 13, 'learning_rate': 0.1, 'colsample_bytree': 1.0, 'subsample': 0.5, 'reg_alpha': 0.1, 'reg_lambda': 5, 'min_child_weight': 5}. Best is trial 28 with value: 1.8574871315861985.\n"
     ]
    },
    {
     "name": "stdout",
     "output_type": "stream",
     "text": [
      "Early stopping, best iteration is:\n",
      "[474]\ttraining's rmse: 1.78822\tvalid_1's rmse: 1.85827\n",
      "Training until validation scores don't improve for 100 rounds\n"
     ]
    },
    {
     "name": "stderr",
     "output_type": "stream",
     "text": [
      "[I 2023-12-15 13:53:09,461] Trial 33 finished with value: 1.8582230064307186 and parameters: {'boosting_type': 'gbdt', 'num_leaves': 45, 'max_depth': 15, 'learning_rate': 0.1, 'colsample_bytree': 0.5, 'subsample': 1.0, 'reg_alpha': 5, 'reg_lambda': 5, 'min_child_weight': 0.1}. Best is trial 28 with value: 1.8574871315861985.\n"
     ]
    },
    {
     "name": "stdout",
     "output_type": "stream",
     "text": [
      "Early stopping, best iteration is:\n",
      "[505]\ttraining's rmse: 1.76928\tvalid_1's rmse: 1.85822\n"
     ]
    },
    {
     "name": "stderr",
     "output_type": "stream",
     "text": [
      "[I 2023-12-15 14:04:53,433] Trial 34 finished with value: 2.6918320047613067 and parameters: {'boosting_type': 'dart', 'num_leaves': 33, 'max_depth': 10, 'learning_rate': 0.001, 'colsample_bytree': 1.0, 'subsample': 0.3, 'reg_alpha': 10, 'reg_lambda': 0.1, 'min_child_weight': 5}. Best is trial 28 with value: 1.8574871315861985.\n"
     ]
    },
    {
     "name": "stdout",
     "output_type": "stream",
     "text": [
      "Training until validation scores don't improve for 100 rounds\n",
      "Early stopping, best iteration is:\n",
      "[755]\ttraining's rmse: 1.8458\tvalid_1's rmse: 1.8692\n"
     ]
    },
    {
     "name": "stderr",
     "output_type": "stream",
     "text": [
      "[I 2023-12-15 14:04:57,793] Trial 35 finished with value: 1.869200286893409 and parameters: {'boosting_type': 'gbdt', 'num_leaves': 42, 'max_depth': 12, 'learning_rate': 0.1, 'colsample_bytree': 0.1, 'subsample': 0.5, 'reg_alpha': 1, 'reg_lambda': 1, 'min_child_weight': 5}. Best is trial 28 with value: 1.8574871315861985.\n",
      "[I 2023-12-15 14:09:39,168] Trial 36 finished with value: 6.48642594539177 and parameters: {'boosting_type': 'dart', 'num_leaves': 38, 'max_depth': 14, 'learning_rate': 0.5, 'colsample_bytree': 0.5, 'subsample': 0.1, 'reg_alpha': 10, 'reg_lambda': 10, 'min_child_weight': 1}. Best is trial 28 with value: 1.8574871315861985.\n"
     ]
    },
    {
     "name": "stdout",
     "output_type": "stream",
     "text": [
      "Training until validation scores don't improve for 100 rounds\n",
      "Did not meet early stopping. Best iteration is:\n",
      "[5000]\ttraining's rmse: 1.84985\tvalid_1's rmse: 1.87116\n"
     ]
    },
    {
     "name": "stderr",
     "output_type": "stream",
     "text": [
      "[I 2023-12-15 14:10:17,376] Trial 37 finished with value: 1.871155010870594 and parameters: {'boosting_type': 'gbdt', 'num_leaves': 36, 'max_depth': 7, 'learning_rate': 0.001, 'colsample_bytree': 0.7, 'subsample': 0.5, 'reg_alpha': 0.001, 'reg_lambda': 0.001, 'min_child_weight': 10}. Best is trial 28 with value: 1.8574871315861985.\n"
     ]
    },
    {
     "name": "stdout",
     "output_type": "stream",
     "text": [
      "Training until validation scores don't improve for 100 rounds\n",
      "Early stopping, best iteration is:\n",
      "[786]\ttraining's rmse: 1.75786\tvalid_1's rmse: 1.85858\n"
     ]
    },
    {
     "name": "stderr",
     "output_type": "stream",
     "text": [
      "[I 2023-12-15 14:10:21,593] Trial 38 finished with value: 1.858578974238592 and parameters: {'boosting_type': 'gbdt', 'num_leaves': 32, 'max_depth': 8, 'learning_rate': 0.1, 'colsample_bytree': 1.0, 'subsample': 0.3, 'reg_alpha': 5, 'reg_lambda': 5, 'min_child_weight': 5}. Best is trial 28 with value: 1.8574871315861985.\n",
      "[I 2023-12-15 14:19:13,978] Trial 39 finished with value: 5.036427020323276 and parameters: {'boosting_type': 'dart', 'num_leaves': 47, 'max_depth': 11, 'learning_rate': 0.5, 'colsample_bytree': 0.1, 'subsample': 0.1, 'reg_alpha': 1, 'reg_lambda': 0.1, 'min_child_weight': 5}. Best is trial 28 with value: 1.8574871315861985.\n"
     ]
    },
    {
     "name": "stdout",
     "output_type": "stream",
     "text": [
      "Training until validation scores don't improve for 100 rounds\n",
      "Did not meet early stopping. Best iteration is:\n",
      "[5000]\ttraining's rmse: 1.86132\tvalid_1's rmse: 1.8763\n"
     ]
    },
    {
     "name": "stderr",
     "output_type": "stream",
     "text": [
      "[I 2023-12-15 14:19:38,249] Trial 40 finished with value: 1.8763005927508853 and parameters: {'boosting_type': 'gbdt', 'num_leaves': 50, 'max_depth': 4, 'learning_rate': 0.001, 'colsample_bytree': 0.5, 'subsample': 0.7, 'reg_alpha': 10, 'reg_lambda': 10, 'min_child_weight': 0.001}. Best is trial 28 with value: 1.8574871315861985.\n"
     ]
    },
    {
     "name": "stdout",
     "output_type": "stream",
     "text": [
      "Training until validation scores don't improve for 100 rounds\n"
     ]
    },
    {
     "name": "stderr",
     "output_type": "stream",
     "text": [
      "[I 2023-12-15 14:19:42,482] Trial 41 finished with value: 1.857660253962212 and parameters: {'boosting_type': 'gbdt', 'num_leaves': 41, 'max_depth': 13, 'learning_rate': 0.1, 'colsample_bytree': 1.0, 'subsample': 0.5, 'reg_alpha': 5, 'reg_lambda': 0.1, 'min_child_weight': 5}. Best is trial 28 with value: 1.8574871315861985.\n"
     ]
    },
    {
     "name": "stdout",
     "output_type": "stream",
     "text": [
      "Early stopping, best iteration is:\n",
      "[697]\ttraining's rmse: 1.73274\tvalid_1's rmse: 1.85766\n",
      "Training until validation scores don't improve for 100 rounds\n"
     ]
    },
    {
     "name": "stderr",
     "output_type": "stream",
     "text": [
      "[I 2023-12-15 14:19:47,268] Trial 42 finished with value: 1.8570557359879565 and parameters: {'boosting_type': 'gbdt', 'num_leaves': 42, 'max_depth': 13, 'learning_rate': 0.1, 'colsample_bytree': 1.0, 'subsample': 0.5, 'reg_alpha': 5, 'reg_lambda': 0.1, 'min_child_weight': 5}. Best is trial 42 with value: 1.8570557359879565.\n"
     ]
    },
    {
     "name": "stdout",
     "output_type": "stream",
     "text": [
      "Early stopping, best iteration is:\n",
      "[728]\ttraining's rmse: 1.72591\tvalid_1's rmse: 1.85706\n",
      "Training until validation scores don't improve for 100 rounds\n"
     ]
    },
    {
     "name": "stderr",
     "output_type": "stream",
     "text": [
      "[I 2023-12-15 14:19:50,756] Trial 43 finished with value: 1.8584288407622231 and parameters: {'boosting_type': 'gbdt', 'num_leaves': 42, 'max_depth': 15, 'learning_rate': 0.1, 'colsample_bytree': 1.0, 'subsample': 0.5, 'reg_alpha': 5, 'reg_lambda': 0.1, 'min_child_weight': 5}. Best is trial 42 with value: 1.8570557359879565.\n"
     ]
    },
    {
     "name": "stdout",
     "output_type": "stream",
     "text": [
      "Early stopping, best iteration is:\n",
      "[527]\ttraining's rmse: 1.7551\tvalid_1's rmse: 1.85843\n",
      "Training until validation scores don't improve for 100 rounds\n",
      "Early stopping, best iteration is:\n",
      "[737]\ttraining's rmse: 1.76437\tvalid_1's rmse: 1.85693\n"
     ]
    },
    {
     "name": "stderr",
     "output_type": "stream",
     "text": [
      "[I 2023-12-15 14:19:54,867] Trial 44 finished with value: 1.8569333368094627 and parameters: {'boosting_type': 'gbdt', 'num_leaves': 44, 'max_depth': 12, 'learning_rate': 0.1, 'colsample_bytree': 0.3, 'subsample': 0.5, 'reg_alpha': 5, 'reg_lambda': 1, 'min_child_weight': 1}. Best is trial 44 with value: 1.8569333368094627.\n"
     ]
    },
    {
     "name": "stdout",
     "output_type": "stream",
     "text": [
      "Training until validation scores don't improve for 100 rounds\n",
      "Early stopping, best iteration is:\n",
      "[737]\ttraining's rmse: 1.76437\tvalid_1's rmse: 1.85693\n"
     ]
    },
    {
     "name": "stderr",
     "output_type": "stream",
     "text": [
      "[I 2023-12-15 14:19:59,063] Trial 45 finished with value: 1.8569333368094627 and parameters: {'boosting_type': 'gbdt', 'num_leaves': 44, 'max_depth': 12, 'learning_rate': 0.1, 'colsample_bytree': 0.3, 'subsample': 0.5, 'reg_alpha': 5, 'reg_lambda': 1, 'min_child_weight': 1}. Best is trial 44 with value: 1.8569333368094627.\n"
     ]
    },
    {
     "name": "stdout",
     "output_type": "stream",
     "text": [
      "Training until validation scores don't improve for 100 rounds\n",
      "Did not meet early stopping. Best iteration is:\n",
      "[5000]\ttraining's rmse: 2.41605\tvalid_1's rmse: 2.41838\n"
     ]
    },
    {
     "name": "stderr",
     "output_type": "stream",
     "text": [
      "[I 2023-12-15 14:20:34,207] Trial 46 finished with value: 2.418384658168914 and parameters: {'boosting_type': 'gbdt', 'num_leaves': 44, 'max_depth': 12, 'learning_rate': 1e-05, 'colsample_bytree': 0.3, 'subsample': 0.7, 'reg_alpha': 5, 'reg_lambda': 1, 'min_child_weight': 1}. Best is trial 44 with value: 1.8569333368094627.\n"
     ]
    },
    {
     "name": "stdout",
     "output_type": "stream",
     "text": [
      "Training until validation scores don't improve for 100 rounds\n",
      "Early stopping, best iteration is:\n",
      "[623]\ttraining's rmse: 1.77565\tvalid_1's rmse: 1.85765\n"
     ]
    },
    {
     "name": "stderr",
     "output_type": "stream",
     "text": [
      "[I 2023-12-15 14:20:37,907] Trial 47 finished with value: 1.8576454680744567 and parameters: {'boosting_type': 'gbdt', 'num_leaves': 44, 'max_depth': 11, 'learning_rate': 0.1, 'colsample_bytree': 0.3, 'subsample': 0.5, 'reg_alpha': 5, 'reg_lambda': 1, 'min_child_weight': 1}. Best is trial 44 with value: 1.8569333368094627.\n",
      "[I 2023-12-15 14:25:54,759] Trial 48 finished with value: 6.307307968382457 and parameters: {'boosting_type': 'dart', 'num_leaves': 43, 'max_depth': 10, 'learning_rate': 0.5, 'colsample_bytree': 0.3, 'subsample': 1.0, 'reg_alpha': 5, 'reg_lambda': 1, 'min_child_weight': 1}. Best is trial 44 with value: 1.8569333368094627.\n"
     ]
    },
    {
     "name": "stdout",
     "output_type": "stream",
     "text": [
      "Training until validation scores don't improve for 100 rounds\n"
     ]
    },
    {
     "name": "stderr",
     "output_type": "stream",
     "text": [
      "[I 2023-12-15 14:25:58,069] Trial 49 finished with value: 1.8577011339968028 and parameters: {'boosting_type': 'gbdt', 'num_leaves': 46, 'max_depth': 12, 'learning_rate': 0.1, 'colsample_bytree': 0.3, 'subsample': 0.5, 'reg_alpha': 5, 'reg_lambda': 1, 'min_child_weight': 1}. Best is trial 44 with value: 1.8569333368094627.\n"
     ]
    },
    {
     "name": "stdout",
     "output_type": "stream",
     "text": [
      "Early stopping, best iteration is:\n",
      "[517]\ttraining's rmse: 1.78368\tvalid_1's rmse: 1.8577\n",
      "Best trial : score 1.8569333368094627, \n",
      " params = {'boosting_type': 'gbdt', 'num_leaves': 44, 'max_depth': 12, 'learning_rate': 0.1, 'colsample_bytree': 0.3, 'subsample': 0.5, 'reg_alpha': 5, 'reg_lambda': 1, 'min_child_weight': 1} \n",
      "\n"
     ]
    }
   ],
   "source": [
    "# Study Optuna\n",
    "study = optuna.create_study(direction = 'minimize', sampler = TPESampler(seed = SEED))\n",
    "study.optimize(lambda trial : objectiveLGBM(trial, X_train, y_train, X_valid, y_valid), n_trials = 50)\n",
    "print(f'Best trial : score {study.best_trial.value}, \\n params = {study.best_trial.params} \\n') "
   ]
  },
  {
   "cell_type": "code",
   "execution_count": 16,
   "metadata": {},
   "outputs": [
    {
     "name": "stderr",
     "output_type": "stream",
     "text": [
      "  0%|          | 0/10 [00:00<?, ?it/s]"
     ]
    },
    {
     "name": "stdout",
     "output_type": "stream",
     "text": [
      "Training until validation scores don't improve for 100 rounds\n",
      "Early stopping, best iteration is:\n",
      "[669]\ttraining's rmse: 1.77124\tvalid_1's rmse: 1.84505\n",
      "Valid Set 1 번째 Fold RMSE : 1.84505\n"
     ]
    },
    {
     "name": "stderr",
     "output_type": "stream",
     "text": [
      " 10%|█         | 1/10 [00:04<00:39,  4.36s/it]"
     ]
    },
    {
     "name": "stdout",
     "output_type": "stream",
     "text": [
      "Training until validation scores don't improve for 100 rounds\n",
      "Early stopping, best iteration is:\n",
      "[709]\ttraining's rmse: 1.76938\tvalid_1's rmse: 1.84211\n",
      "Valid Set 2 번째 Fold RMSE : 1.84211\n"
     ]
    },
    {
     "name": "stderr",
     "output_type": "stream",
     "text": [
      " 20%|██        | 2/10 [00:08<00:35,  4.46s/it]"
     ]
    },
    {
     "name": "stdout",
     "output_type": "stream",
     "text": [
      "Training until validation scores don't improve for 100 rounds\n",
      "Early stopping, best iteration is:\n",
      "[750]\ttraining's rmse: 1.76591\tvalid_1's rmse: 1.83455\n",
      "Valid Set 3 번째 Fold RMSE : 1.83455\n"
     ]
    },
    {
     "name": "stderr",
     "output_type": "stream",
     "text": [
      " 30%|███       | 3/10 [00:13<00:32,  4.58s/it]"
     ]
    },
    {
     "name": "stdout",
     "output_type": "stream",
     "text": [
      "Training until validation scores don't improve for 100 rounds\n",
      "Early stopping, best iteration is:\n",
      "[723]\ttraining's rmse: 1.76602\tvalid_1's rmse: 1.84613\n",
      "Valid Set 4 번째 Fold RMSE : 1.84613\n"
     ]
    },
    {
     "name": "stderr",
     "output_type": "stream",
     "text": [
      " 40%|████      | 4/10 [00:17<00:26,  4.46s/it]"
     ]
    },
    {
     "name": "stdout",
     "output_type": "stream",
     "text": [
      "Training until validation scores don't improve for 100 rounds\n",
      "Early stopping, best iteration is:\n",
      "[955]\ttraining's rmse: 1.74373\tvalid_1's rmse: 1.84995\n",
      "Valid Set 5 번째 Fold RMSE : 1.84995\n"
     ]
    },
    {
     "name": "stderr",
     "output_type": "stream",
     "text": [
      " 50%|█████     | 5/10 [00:23<00:24,  4.96s/it]"
     ]
    },
    {
     "name": "stdout",
     "output_type": "stream",
     "text": [
      "Training until validation scores don't improve for 100 rounds\n",
      "Early stopping, best iteration is:\n",
      "[919]\ttraining's rmse: 1.74868\tvalid_1's rmse: 1.85163\n",
      "Valid Set 6 번째 Fold RMSE : 1.85163\n"
     ]
    },
    {
     "name": "stderr",
     "output_type": "stream",
     "text": [
      " 60%|██████    | 6/10 [00:29<00:20,  5.22s/it]"
     ]
    },
    {
     "name": "stdout",
     "output_type": "stream",
     "text": [
      "Training until validation scores don't improve for 100 rounds\n",
      "Early stopping, best iteration is:\n",
      "[691]\ttraining's rmse: 1.76928\tvalid_1's rmse: 1.84911\n",
      "Valid Set 7 번째 Fold RMSE : 1.84911\n"
     ]
    },
    {
     "name": "stderr",
     "output_type": "stream",
     "text": [
      " 70%|███████   | 7/10 [00:33<00:14,  4.92s/it]"
     ]
    },
    {
     "name": "stdout",
     "output_type": "stream",
     "text": [
      "Training until validation scores don't improve for 100 rounds\n",
      "Early stopping, best iteration is:\n",
      "[877]\ttraining's rmse: 1.75255\tvalid_1's rmse: 1.85598\n",
      "Valid Set 8 번째 Fold RMSE : 1.85598\n"
     ]
    },
    {
     "name": "stderr",
     "output_type": "stream",
     "text": [
      " 80%|████████  | 8/10 [00:39<00:10,  5.08s/it]"
     ]
    },
    {
     "name": "stdout",
     "output_type": "stream",
     "text": [
      "Training until validation scores don't improve for 100 rounds\n",
      "Early stopping, best iteration is:\n",
      "[813]\ttraining's rmse: 1.76037\tvalid_1's rmse: 1.84043\n",
      "Valid Set 9 번째 Fold RMSE : 1.84043\n"
     ]
    },
    {
     "name": "stderr",
     "output_type": "stream",
     "text": [
      " 90%|█████████ | 9/10 [00:44<00:05,  5.06s/it]"
     ]
    },
    {
     "name": "stdout",
     "output_type": "stream",
     "text": [
      "Training until validation scores don't improve for 100 rounds\n",
      "Early stopping, best iteration is:\n",
      "[651]\ttraining's rmse: 1.77385\tvalid_1's rmse: 1.85223\n",
      "Valid Set 10 번째 Fold RMSE : 1.85223\n"
     ]
    },
    {
     "name": "stderr",
     "output_type": "stream",
     "text": [
      "100%|██████████| 10/10 [00:48<00:00,  4.83s/it]"
     ]
    },
    {
     "name": "stdout",
     "output_type": "stream",
     "text": [
      "LGBM RMSE 평균 : 1.84672 \n",
      "\n"
     ]
    },
    {
     "name": "stderr",
     "output_type": "stream",
     "text": [
      "\n"
     ]
    }
   ],
   "source": [
    "X_data, y_data = train_GB.drop(columns = 'rating'), train_GB['rating']\n",
    "\n",
    "skf = StratifiedKFold(n_splits = 10, shuffle = True, random_state = SEED)\n",
    "valid_rmse = []\n",
    "pred_df = pd.DataFrame()\n",
    "\n",
    "# Stratified K-Fold 사용하여 Best Parameter 학습\n",
    "for fold, (train_idx, valid_idx) in tqdm.tqdm(enumerate(skf.split(X_data, y_data)), total = skf.n_splits) :\n",
    "    \n",
    "    # Train Set과 Valid Set 분할    \n",
    "    X_train, y_train = X_data.iloc[train_idx], y_data.iloc[train_idx]\n",
    "    X_valid, y_valid = X_data.iloc[valid_idx], y_data.iloc[valid_idx]\n",
    "    \n",
    "    # Best Parameter 학습\n",
    "    param = study.best_params # lgbm_best_params\n",
    "    \n",
    "    lgbm_reg = LGBMRegressor(**param, n_estimators = 5000, objective = 'regression', metric = 'rmse',\n",
    "                             n_jobs = -1, verbose = -1, random_state = SEED)\n",
    "    callback = lightgbm.early_stopping(stopping_rounds = 100)\n",
    "    lgbm_reg.fit(X_train, y_train, eval_set = [(X_train, y_train), (X_valid, y_valid)],\n",
    "                   eval_metric = 'rmse', callbacks = [callback])\n",
    "    \n",
    "    # 모델 RMSE 출력\n",
    "    score = mean_squared_error(y_valid, lgbm_reg.predict(X_valid), squared = False)\n",
    "    valid_rmse.append(score)\n",
    "    print(f'Valid Set {fold + 1} 번째 Fold RMSE : {score:.5f}')\n",
    "\n",
    "    # Predict\n",
    "    pred = lgbm_reg.predict(test_GB.drop(['rating'], axis = 1))\n",
    "    pred_df[f'pred_{fold}'] = pred\n",
    "\n",
    "print(f'LGBM RMSE 평균 : {np.array(valid_rmse).mean():.5f} \\n')"
   ]
  },
  {
   "cell_type": "code",
   "execution_count": 17,
   "metadata": {},
   "outputs": [
    {
     "data": {
      "text/plain": [
       "<Axes: title={'center': 'Feature importance'}, xlabel='Feature importance', ylabel='Features'>"
      ]
     },
     "execution_count": 17,
     "metadata": {},
     "output_type": "execute_result"
    },
    {
     "data": {
      "image/png": "[encoded data removed]",
      "text/plain": [
       "<Figure size 800x600 with 1 Axes>"
      ]
     },
     "metadata": {},
     "output_type": "display_data"
    }
   ],
   "source": [
    "# Feature Importance\n",
    "fig, ax = plt.subplots(figsize = (8, 6))\n",
    "lgbm_plot_importance(lgbm_reg, ax = ax)"
   ]
  },
  {
   "cell_type": "code",
   "execution_count": 18,
   "metadata": {},
   "outputs": [
    {
     "data": {
      "text/html": [
       "<div>\n",
       "<style scoped>\n",
       "    .dataframe tbody tr th:only-of-type {\n",
       "        vertical-align: middle;\n",
       "    }\n",
       "\n",
       "    .dataframe tbody tr th {\n",
       "        vertical-align: top;\n",
       "    }\n",
       "\n",
       "    .dataframe thead th {\n",
       "        text-align: right;\n",
       "    }\n",
       "</style>\n",
       "<table border=\"1\" class=\"dataframe\">\n",
       "  <thead>\n",
       "    <tr style=\"text-align: right;\">\n",
       "      <th></th>\n",
       "      <th>user_id</th>\n",
       "      <th>isbn</th>\n",
       "      <th>rating</th>\n",
       "    </tr>\n",
       "  </thead>\n",
       "  <tbody>\n",
       "    <tr>\n",
       "      <th>0</th>\n",
       "      <td>11676</td>\n",
       "      <td>0002005018</td>\n",
       "      <td>6.949023</td>\n",
       "    </tr>\n",
       "    <tr>\n",
       "      <th>1</th>\n",
       "      <td>116866</td>\n",
       "      <td>0002005018</td>\n",
       "      <td>7.718842</td>\n",
       "    </tr>\n",
       "    <tr>\n",
       "      <th>2</th>\n",
       "      <td>152827</td>\n",
       "      <td>0060973129</td>\n",
       "      <td>8.618080</td>\n",
       "    </tr>\n",
       "    <tr>\n",
       "      <th>3</th>\n",
       "      <td>157969</td>\n",
       "      <td>0374157065</td>\n",
       "      <td>7.926602</td>\n",
       "    </tr>\n",
       "    <tr>\n",
       "      <th>4</th>\n",
       "      <td>67958</td>\n",
       "      <td>0399135782</td>\n",
       "      <td>8.120157</td>\n",
       "    </tr>\n",
       "    <tr>\n",
       "      <th>...</th>\n",
       "      <td>...</td>\n",
       "      <td>...</td>\n",
       "      <td>...</td>\n",
       "    </tr>\n",
       "    <tr>\n",
       "      <th>76694</th>\n",
       "      <td>278543</td>\n",
       "      <td>1576734218</td>\n",
       "      <td>6.351776</td>\n",
       "    </tr>\n",
       "    <tr>\n",
       "      <th>76695</th>\n",
       "      <td>278563</td>\n",
       "      <td>3492223710</td>\n",
       "      <td>7.332121</td>\n",
       "    </tr>\n",
       "    <tr>\n",
       "      <th>76696</th>\n",
       "      <td>278633</td>\n",
       "      <td>1896095186</td>\n",
       "      <td>7.038254</td>\n",
       "    </tr>\n",
       "    <tr>\n",
       "      <th>76697</th>\n",
       "      <td>278668</td>\n",
       "      <td>8408044079</td>\n",
       "      <td>3.432230</td>\n",
       "    </tr>\n",
       "    <tr>\n",
       "      <th>76698</th>\n",
       "      <td>278851</td>\n",
       "      <td>0767907566</td>\n",
       "      <td>6.352556</td>\n",
       "    </tr>\n",
       "  </tbody>\n",
       "</table>\n",
       "<p>76699 rows × 3 columns</p>\n",
       "</div>"
      ],
      "text/plain": [
       "       user_id        isbn    rating\n",
       "0        11676  0002005018  6.949023\n",
       "1       116866  0002005018  7.718842\n",
       "2       152827  0060973129  8.618080\n",
       "3       157969  0374157065  7.926602\n",
       "4        67958  0399135782  8.120157\n",
       "...        ...         ...       ...\n",
       "76694   278543  1576734218  6.351776\n",
       "76695   278563  3492223710  7.332121\n",
       "76696   278633  1896095186  7.038254\n",
       "76697   278668  8408044079  3.432230\n",
       "76698   278851  0767907566  6.352556\n",
       "\n",
       "[76699 rows x 3 columns]"
      ]
     },
     "execution_count": 18,
     "metadata": {},
     "output_type": "execute_result"
    }
   ],
   "source": [
    "test_ratings['rating'] = (pred_df['pred_0'] + pred_df['pred_1'] + pred_df['pred_2'] + pred_df['pred_3'] + pred_df['pred_4'] + \n",
    "                          pred_df['pred_5'] + pred_df['pred_6'] + pred_df['pred_7'] + pred_df['pred_8'] + pred_df['pred_9']) / 10\n",
    "submit = test_ratings[['user_id', 'isbn', 'rating']]\n",
    "submit"
   ]
  },
  {
   "cell_type": "code",
   "execution_count": 19,
   "metadata": {},
   "outputs": [],
   "source": [
    "submit.to_csv('./code/submit/LGBM_HPO_Pred_AVG.csv', index = False)"
   ]
  },
  {
   "cell_type": "code",
   "execution_count": 20,
   "metadata": {},
   "outputs": [],
   "source": [
    "submit['rating'] = submit['rating'].round().astype(int)\n",
    "submit.to_csv('./code/submit/LGBM_HPO_Pred_AVG_round.csv', index = False)"
   ]
  },
  {
   "cell_type": "markdown",
   "metadata": {},
   "source": [
    "- {'boosting_type': 'gbdt', 'num_leaves': 33, 'max_depth': 3, 'learning_rate': 0.5, 'colsample_bytree': 0.7, 'subsample': 0.3, 'reg_alpha': 5, 'reg_lambda': 5, 'min_child_weight': 1}\n",
    "    - LB : 2.2771 / CV : 1.85789"
   ]
  },
  {
   "cell_type": "markdown",
   "metadata": {},
   "source": [
    "## XGBoost"
   ]
  },
  {
   "cell_type": "code",
   "execution_count": 18,
   "metadata": {},
   "outputs": [],
   "source": [
    "def objectiveXGB(trial : Trial, X_train, y_train, X_valid, y_valid) :\n",
    "    param = {\n",
    "        'booster' : trial.suggest_categorical('booster', ['gbtree', 'dart']),\n",
    "        'max_depth' : trial.suggest_int('max_depth', 1, 15),\n",
    "        'learning_rate' : trial.suggest_categorical('learning_rate', [1e-3, 0.01, 0.05, 0.1, 0.5]), # 1e-5,\n",
    "        'min_child_weight' : trial.suggest_int('min_child_weight', 1, 10),\n",
    "        'gamma' : trial.suggest_categorical('alpha', [1e-5, 1e-3, 1, 5, 10]),\n",
    "        'colsample_bytree' : trial.suggest_categorical('colsample_bytree', [0.1, 0.5, 1]),\n",
    "        'lambda' : trial.suggest_categorical('lambda', [1e-5, 1e-3, 1, 5, 10]),\n",
    "        'alpha' : trial.suggest_categorical('alpha', [1e-5, 1e-3, 1, 5, 10]),\n",
    "        'subsample' : trial.suggest_categorical('subsample', [0.6, 0.7, 0.8, 1.0]),\n",
    "        'max_delta_step' : trial.suggest_categorical('max_delta_step', [0.1, 0.5, 1, 5, 10]),\n",
    "    }\n",
    "    \n",
    "    # XGBRegressor 사용\n",
    "    model = XGBRegressor(**param, n_estimators = 5000, objective = 'reg:squarederror', eval_metric = 'rmse',\n",
    "                         nthread = -1, gpu_id = 0, tree_method = 'gpu_hist', predictor = 'gpu_predictor',\n",
    "                         early_stopping_rounds = 100, random_state = SEED)\n",
    "    xgb_model = model.fit(X_train, y_train, eval_set = [(X_train, y_train), (X_valid, y_valid)], verbose = 300)\n",
    "    \n",
    "    # Valid Set RMSE 계산\n",
    "    score = mean_squared_error(y_valid, xgb_model.predict(X_valid), squared = False)\n",
    "    return score"
   ]
  },
  {
   "cell_type": "code",
   "execution_count": 19,
   "metadata": {},
   "outputs": [
    {
     "name": "stderr",
     "output_type": "stream",
     "text": [
      "[I 2023-12-16 02:39:55,880] A new study created in memory with name: no-name-2467daf9-4961-47e2-a2f4-d566c45aeef2\n"
     ]
    },
    {
     "name": "stdout",
     "output_type": "stream",
     "text": [
      "[0]\tvalidation_0-rmse:2.00523\tvalidation_1-rmse:2.03346\n",
      "[105]\tvalidation_0-rmse:1.38723\tvalidation_1-rmse:1.95045\n"
     ]
    },
    {
     "name": "stderr",
     "output_type": "stream",
     "text": [
      "[I 2023-12-16 02:40:02,689] Trial 0 finished with value: 1.887207962657868 and parameters: {'booster': 'dart', 'max_depth': 11, 'learning_rate': 0.5, 'min_child_weight': 7, 'alpha': 1, 'colsample_bytree': 1, 'lambda': 5, 'subsample': 1.0, 'max_delta_step': 10}. Best is trial 0 with value: 1.887207962657868.\n"
     ]
    },
    {
     "name": "stdout",
     "output_type": "stream",
     "text": [
      "[0]\tvalidation_0-rmse:2.43202\tvalidation_1-rmse:2.43406\n",
      "[300]\tvalidation_0-rmse:2.40486\tvalidation_1-rmse:2.40755\n",
      "[600]\tvalidation_0-rmse:2.37566\tvalidation_1-rmse:2.37906\n",
      "[900]\tvalidation_0-rmse:2.34489\tvalidation_1-rmse:2.34903\n",
      "[1200]\tvalidation_0-rmse:2.31603\tvalidation_1-rmse:2.32088\n",
      "[1500]\tvalidation_0-rmse:2.29553\tvalidation_1-rmse:2.30102\n",
      "[1800]\tvalidation_0-rmse:2.27405\tvalidation_1-rmse:2.28017\n",
      "[2100]\tvalidation_0-rmse:2.24965\tvalidation_1-rmse:2.25647\n",
      "[2400]\tvalidation_0-rmse:2.23270\tvalidation_1-rmse:2.24004\n",
      "[2700]\tvalidation_0-rmse:2.21629\tvalidation_1-rmse:2.22413\n",
      "[3000]\tvalidation_0-rmse:2.20240\tvalidation_1-rmse:2.21075\n",
      "[3300]\tvalidation_0-rmse:2.18910\tvalidation_1-rmse:2.19790\n",
      "[3600]\tvalidation_0-rmse:2.17755\tvalidation_1-rmse:2.18678\n",
      "[3900]\tvalidation_0-rmse:2.16438\tvalidation_1-rmse:2.17405\n",
      "[4200]\tvalidation_0-rmse:2.15394\tvalidation_1-rmse:2.16399\n",
      "[4500]\tvalidation_0-rmse:2.13821\tvalidation_1-rmse:2.14877\n",
      "[4800]\tvalidation_0-rmse:2.12192\tvalidation_1-rmse:2.13298\n",
      "[4999]\tvalidation_0-rmse:2.11444\tvalidation_1-rmse:2.12576\n"
     ]
    },
    {
     "name": "stderr",
     "output_type": "stream",
     "text": [
      "[I 2023-12-16 02:40:29,997] Trial 1 finished with value: 2.1257598934600197 and parameters: {'booster': 'gbtree', 'max_depth': 15, 'learning_rate': 0.001, 'min_child_weight': 5, 'alpha': 5, 'colsample_bytree': 0.1, 'lambda': 1, 'subsample': 0.8, 'max_delta_step': 5}. Best is trial 0 with value: 1.887207962657868.\n"
     ]
    },
    {
     "name": "stdout",
     "output_type": "stream",
     "text": [
      "[0]\tvalidation_0-rmse:2.40945\tvalidation_1-rmse:2.41180\n",
      "[300]\tvalidation_0-rmse:2.02143\tvalidation_1-rmse:2.03950\n",
      "[600]\tvalidation_0-rmse:1.88665\tvalidation_1-rmse:1.90704\n",
      "[900]\tvalidation_0-rmse:1.85113\tvalidation_1-rmse:1.87454\n",
      "[1200]\tvalidation_0-rmse:1.84652\tvalidation_1-rmse:1.87085\n",
      "[1322]\tvalidation_0-rmse:1.84637\tvalidation_1-rmse:1.87082\n"
     ]
    },
    {
     "name": "stderr",
     "output_type": "stream",
     "text": [
      "[I 2023-12-16 02:40:34,130] Trial 2 finished with value: 1.8705904401754743 and parameters: {'booster': 'gbtree', 'max_depth': 5, 'learning_rate': 0.5, 'min_child_weight': 8, 'alpha': 1, 'colsample_bytree': 0.1, 'lambda': 0.001, 'subsample': 0.8, 'max_delta_step': 0.1}. Best is trial 2 with value: 1.8705904401754743.\n"
     ]
    },
    {
     "name": "stdout",
     "output_type": "stream",
     "text": [
      "[0]\tvalidation_0-rmse:2.43257\tvalidation_1-rmse:2.43460\n",
      "[300]\tvalidation_0-rmse:2.41860\tvalidation_1-rmse:2.42100\n",
      "[600]\tvalidation_0-rmse:2.40350\tvalidation_1-rmse:2.40629\n",
      "[900]\tvalidation_0-rmse:2.38703\tvalidation_1-rmse:2.39023\n",
      "[1200]\tvalidation_0-rmse:2.37125\tvalidation_1-rmse:2.37483\n",
      "[1500]\tvalidation_0-rmse:2.35926\tvalidation_1-rmse:2.36321\n",
      "[1800]\tvalidation_0-rmse:2.34674\tvalidation_1-rmse:2.35102\n",
      "[2100]\tvalidation_0-rmse:2.33232\tvalidation_1-rmse:2.33697\n",
      "[2400]\tvalidation_0-rmse:2.32172\tvalidation_1-rmse:2.32665\n"
     ]
    }
   ],
   "source": [
    "# Study Optuna\n",
    "study = optuna.create_study(direction = 'minimize', sampler = TPESampler(seed = SEED))\n",
    "study.optimize(lambda trial : objectiveXGB(trial, X_train, y_train, X_valid, y_valid), n_trials = 50)\n",
    "print(f'Best trial : score {study.best_trial.value}, \\n params = {study.best_trial.params} \\n')"
   ]
  },
  {
   "cell_type": "code",
   "execution_count": null,
   "metadata": {},
   "outputs": [
    {
     "name": "stderr",
     "output_type": "stream",
     "text": [
      " 10%|█         | 1/10 [07:27<1:07:10, 447.87s/it]"
     ]
    },
    {
     "name": "stdout",
     "output_type": "stream",
     "text": [
      "Valid Set 1 번째 Fold RMSE : 1.85683\n"
     ]
    },
    {
     "name": "stderr",
     "output_type": "stream",
     "text": [
      " 20%|██        | 2/10 [14:43<58:46, 440.80s/it]  "
     ]
    },
    {
     "name": "stdout",
     "output_type": "stream",
     "text": [
      "Valid Set 2 번째 Fold RMSE : 1.85320\n"
     ]
    },
    {
     "name": "stderr",
     "output_type": "stream",
     "text": [
      " 30%|███       | 3/10 [22:06<51:30, 441.50s/it]"
     ]
    },
    {
     "name": "stdout",
     "output_type": "stream",
     "text": [
      "Valid Set 3 번째 Fold RMSE : 1.84803\n"
     ]
    },
    {
     "name": "stderr",
     "output_type": "stream",
     "text": [
      " 40%|████      | 4/10 [29:07<43:22, 433.73s/it]"
     ]
    },
    {
     "name": "stdout",
     "output_type": "stream",
     "text": [
      "Valid Set 4 번째 Fold RMSE : 1.85734\n"
     ]
    },
    {
     "name": "stderr",
     "output_type": "stream",
     "text": [
      " 50%|█████     | 5/10 [36:33<36:29, 437.86s/it]"
     ]
    },
    {
     "name": "stdout",
     "output_type": "stream",
     "text": [
      "Valid Set 5 번째 Fold RMSE : 1.86337\n"
     ]
    },
    {
     "name": "stderr",
     "output_type": "stream",
     "text": [
      " 60%|██████    | 6/10 [43:45<29:04, 436.14s/it]"
     ]
    },
    {
     "name": "stdout",
     "output_type": "stream",
     "text": [
      "Valid Set 6 번째 Fold RMSE : 1.86145\n"
     ]
    },
    {
     "name": "stderr",
     "output_type": "stream",
     "text": [
      " 70%|███████   | 7/10 [50:33<21:20, 426.67s/it]"
     ]
    },
    {
     "name": "stdout",
     "output_type": "stream",
     "text": [
      "Valid Set 7 번째 Fold RMSE : 1.86348\n"
     ]
    },
    {
     "name": "stderr",
     "output_type": "stream",
     "text": [
      " 80%|████████  | 8/10 [57:53<14:22, 431.13s/it]"
     ]
    },
    {
     "name": "stdout",
     "output_type": "stream",
     "text": [
      "Valid Set 8 번째 Fold RMSE : 1.86570\n"
     ]
    },
    {
     "name": "stderr",
     "output_type": "stream",
     "text": [
      " 90%|█████████ | 9/10 [1:05:10<07:12, 432.80s/it]"
     ]
    },
    {
     "name": "stdout",
     "output_type": "stream",
     "text": [
      "Valid Set 9 번째 Fold RMSE : 1.85662\n"
     ]
    },
    {
     "name": "stderr",
     "output_type": "stream",
     "text": [
      "100%|██████████| 10/10 [1:12:25<00:00, 434.53s/it]"
     ]
    },
    {
     "name": "stdout",
     "output_type": "stream",
     "text": [
      "Valid Set 10 번째 Fold RMSE : 1.86556\n",
      "XGBoost RMSE 평균 : 1.85916 \n",
      "\n"
     ]
    },
    {
     "name": "stderr",
     "output_type": "stream",
     "text": [
      "\n"
     ]
    }
   ],
   "source": [
    "X_data, y_data = train_GB.drop(columns = 'rating'), train_GB['rating']\n",
    "\n",
    "skf = StratifiedKFold(n_splits = 10, shuffle = True, random_state = SEED)\n",
    "valid_rmse = []\n",
    "pred_df = pd.DataFrame()\n",
    "\n",
    "# Stratified K-Fold 사용하여 Best Parameter 학습\n",
    "for fold, (train_idx, valid_idx) in tqdm.tqdm(enumerate(skf.split(X_data, y_data)), total = skf.n_splits) :\n",
    "    \n",
    "    # Train Set과 Valid Set 분할    \n",
    "    X_train, y_train = X_data.iloc[train_idx], y_data.iloc[train_idx]\n",
    "    X_valid, y_valid = X_data.iloc[valid_idx], y_data.iloc[valid_idx]\n",
    "    \n",
    "    # Best Parameter 학습\n",
    "    param = study.best_params # xgb_best_params\n",
    "    \n",
    "    # Best Parameter 학습\n",
    "    xgb_reg = XGBRegressor(**param, n_estimators = 5000, objective = 'reg:squarederror', eval_metric = 'rmse', \n",
    "                           nthread = -1, gpu_id = 0, tree_method = 'gpu_hist', predictor = 'gpu_predictor',\n",
    "                           early_stopping_rounds = 100, random_state = SEED)\n",
    "    xgb_reg.fit(X_train, y_train, eval_set = [(X_train, y_train), (X_valid, y_valid)], verbose = False)\n",
    "    \n",
    "    # 모델 RMSE 출력\n",
    "    score = mean_squared_error(y_valid, xgb_reg.predict(X_valid), squared = False)\n",
    "    valid_rmse.append(score)\n",
    "    print(f'Valid Set {fold + 1} 번째 Fold RMSE : {score:.5f}')\n",
    "    \n",
    "    # Predict\n",
    "    pred = xgb_reg.predict(test_GB.drop(['rating'], axis = 1))\n",
    "    pred_df[f'pred_{fold}'] = pred\n",
    "\n",
    "print(f'XGBoost RMSE 평균 : {np.array(valid_rmse).mean():.5f} \\n')"
   ]
  },
  {
   "cell_type": "code",
   "execution_count": null,
   "metadata": {},
   "outputs": [
    {
     "data": {
      "text/plain": [
       "<Axes: title={'center': 'Feature importance'}, xlabel='F score', ylabel='Features'>"
      ]
     },
     "execution_count": 19,
     "metadata": {},
     "output_type": "execute_result"
    },
    {
     "data": {
      "image/png": "[encoded data removed]",
      "text/plain": [
       "<Figure size 800x600 with 1 Axes>"
      ]
     },
     "metadata": {},
     "output_type": "display_data"
    }
   ],
   "source": [
    "# Feature Importance\n",
    "fig, ax = plt.subplots(figsize = (8, 6))\n",
    "xgb_plot_importance(xgb_reg, ax = ax)"
   ]
  },
  {
   "cell_type": "code",
   "execution_count": null,
   "metadata": {},
   "outputs": [
    {
     "data": {
      "text/html": [
       "<div>\n",
       "<style scoped>\n",
       "    .dataframe tbody tr th:only-of-type {\n",
       "        vertical-align: middle;\n",
       "    }\n",
       "\n",
       "    .dataframe tbody tr th {\n",
       "        vertical-align: top;\n",
       "    }\n",
       "\n",
       "    .dataframe thead th {\n",
       "        text-align: right;\n",
       "    }\n",
       "</style>\n",
       "<table border=\"1\" class=\"dataframe\">\n",
       "  <thead>\n",
       "    <tr style=\"text-align: right;\">\n",
       "      <th></th>\n",
       "      <th>user_id</th>\n",
       "      <th>isbn</th>\n",
       "      <th>rating</th>\n",
       "    </tr>\n",
       "  </thead>\n",
       "  <tbody>\n",
       "    <tr>\n",
       "      <th>0</th>\n",
       "      <td>11676</td>\n",
       "      <td>0002005018</td>\n",
       "      <td>7.066980</td>\n",
       "    </tr>\n",
       "    <tr>\n",
       "      <th>1</th>\n",
       "      <td>116866</td>\n",
       "      <td>0002005018</td>\n",
       "      <td>7.668482</td>\n",
       "    </tr>\n",
       "    <tr>\n",
       "      <th>2</th>\n",
       "      <td>152827</td>\n",
       "      <td>0060973129</td>\n",
       "      <td>8.320372</td>\n",
       "    </tr>\n",
       "    <tr>\n",
       "      <th>3</th>\n",
       "      <td>157969</td>\n",
       "      <td>0374157065</td>\n",
       "      <td>7.769433</td>\n",
       "    </tr>\n",
       "    <tr>\n",
       "      <th>4</th>\n",
       "      <td>67958</td>\n",
       "      <td>0399135782</td>\n",
       "      <td>8.436759</td>\n",
       "    </tr>\n",
       "    <tr>\n",
       "      <th>...</th>\n",
       "      <td>...</td>\n",
       "      <td>...</td>\n",
       "      <td>...</td>\n",
       "    </tr>\n",
       "    <tr>\n",
       "      <th>76694</th>\n",
       "      <td>278543</td>\n",
       "      <td>1576734218</td>\n",
       "      <td>6.505219</td>\n",
       "    </tr>\n",
       "    <tr>\n",
       "      <th>76695</th>\n",
       "      <td>278563</td>\n",
       "      <td>3492223710</td>\n",
       "      <td>6.650600</td>\n",
       "    </tr>\n",
       "    <tr>\n",
       "      <th>76696</th>\n",
       "      <td>278633</td>\n",
       "      <td>1896095186</td>\n",
       "      <td>6.597798</td>\n",
       "    </tr>\n",
       "    <tr>\n",
       "      <th>76697</th>\n",
       "      <td>278668</td>\n",
       "      <td>8408044079</td>\n",
       "      <td>2.813656</td>\n",
       "    </tr>\n",
       "    <tr>\n",
       "      <th>76698</th>\n",
       "      <td>278851</td>\n",
       "      <td>0767907566</td>\n",
       "      <td>6.122128</td>\n",
       "    </tr>\n",
       "  </tbody>\n",
       "</table>\n",
       "<p>76699 rows × 3 columns</p>\n",
       "</div>"
      ],
      "text/plain": [
       "      user_id        isbn    rating\n",
       "0       11676  0002005018  7.066980\n",
       "1      116866  0002005018  7.668482\n",
       "2      152827  0060973129  8.320372\n",
       "3      157969  0374157065  7.769433\n",
       "4       67958  0399135782  8.436759\n",
       "...       ...         ...       ...\n",
       "76694  278543  1576734218  6.505219\n",
       "76695  278563  3492223710  6.650600\n",
       "76696  278633  1896095186  6.597798\n",
       "76697  278668  8408044079  2.813656\n",
       "76698  278851  0767907566  6.122128\n",
       "\n",
       "[76699 rows x 3 columns]"
      ]
     },
     "metadata": {},
     "output_type": "display_data"
    }
   ],
   "source": [
    "test_ratings['rating'] = (pred_df['pred_0'] + pred_df['pred_1'] + pred_df['pred_2'] + pred_df['pred_3'] + pred_df['pred_4'] + \n",
    "                          pred_df['pred_5'] + pred_df['pred_6'] + pred_df['pred_7'] + pred_df['pred_8'] + pred_df['pred_9']) / 10\n",
    "submit = test_ratings[['user_id', 'isbn', 'rating']]\n",
    "submit"
   ]
  },
  {
   "cell_type": "code",
   "execution_count": null,
   "metadata": {},
   "outputs": [],
   "source": [
    "submit.to_csv('./code/submit/XGB_HPO_Pred_AVG.csv', index = False)"
   ]
  },
  {
   "cell_type": "code",
   "execution_count": null,
   "metadata": {},
   "outputs": [],
   "source": [
    "submit['rating'] = submit['rating'].round().astype(int)\n",
    "submit.to_csv('./code/submit/XGB_HPO_Pred_AVG_round.csv', index = False)"
   ]
  },
  {
   "cell_type": "markdown",
   "metadata": {},
   "source": [
    "# Ensemble"
   ]
  },
  {
   "cell_type": "code",
   "execution_count": 51,
   "metadata": {},
   "outputs": [
    {
     "data": {
      "text/plain": [
       "['20231214_141423_DeepCoNN.csv',\n",
       " 'Catboost_Optuna_withGPU_fold10.csv',\n",
       " '20231215_031836_DCN.csv',\n",
       " '20231212_225413_FM.csv',\n",
       " 'Catboost_Optuna_fold10_loc_round.csv',\n",
       " 'XGBoost_Optuna_withGPU_fold10.csv',\n",
       " '20231215_080141_DCN.csv',\n",
       " '20231215_075938_DCN.csv',\n",
       " 'LGBM_Optuna_withGPU_fold10.csv',\n",
       " 'Catboost_Optuna_withGPU.csv',\n",
       " 'Catboost_Optuna.csv',\n",
       " 'Catboost_Optuna_fold10_loc.csv',\n",
       " '20231215_082021_DCN.csv',\n",
       " '20231215_062520_DCN.csv']"
      ]
     },
     "execution_count": 51,
     "metadata": {},
     "output_type": "execute_result"
    }
   ],
   "source": [
    "os.listdir('./code/submit/')"
   ]
  }
 ],
 "metadata": {
  "kernelspec": {
   "display_name": "base",
   "language": "python",
   "name": "python3"
  },
  "language_info": {
   "codemirror_mode": {
    "name": "ipython",
    "version": 3
   },
   "file_extension": ".py",
   "mimetype": "text/x-python",
   "name": "python",
   "nbconvert_exporter": "python",
   "pygments_lexer": "ipython3",
   "version": "3.10.13"
  }
 },
 "nbformat": 4,
 "nbformat_minor": 2
}
