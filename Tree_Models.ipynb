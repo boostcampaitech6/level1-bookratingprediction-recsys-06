{
 "cells": [
  {
   "cell_type": "code",
   "execution_count": 1,
   "metadata": {},
   "outputs": [
    {
     "name": "stdout",
     "output_type": "stream",
     "text": [
      "True 1\n",
      "/data/ephemeral/Project\n",
      "CatBoost Version : 1.2.2\n",
      "XGBoost Version  : 2.0.2\n",
      "LightGBM Version : 4.1.0\n"
     ]
    }
   ],
   "source": [
    "import numpy as np\n",
    "import pandas as pd\n",
    "import matplotlib.pyplot as plt\n",
    "import seaborn as sns\n",
    "import tqdm\n",
    "import re\n",
    "import os\n",
    "import random\n",
    "import torch\n",
    "print(torch.cuda.is_available(), torch.cuda.device_count())\n",
    "print(os.getcwd())\n",
    "\n",
    "from sklearn.model_selection import train_test_split, StratifiedKFold\n",
    "from sklearn.preprocessing import LabelEncoder\n",
    "from sklearn.metrics import mean_squared_error\n",
    "\n",
    "import catboost\n",
    "from catboost import CatBoostRegressor, Pool\n",
    "\n",
    "import xgboost\n",
    "from xgboost import XGBRegressor\n",
    "from xgboost import plot_importance as xgb_plot_importance\n",
    "\n",
    "import lightgbm\n",
    "from lightgbm import LGBMRegressor\n",
    "from lightgbm import plot_importance as lgbm_plot_importance\n",
    "\n",
    "print(f'CatBoost Version : {catboost.__version__}')\n",
    "print(f'XGBoost Version  : {xgboost.__version__}')\n",
    "print(f'LightGBM Version : {lightgbm.__version__}')\n",
    "\n",
    "import optuna\n",
    "from optuna import Trial, visualization\n",
    "from optuna.samplers import TPESampler\n",
    "from optuna.integration import CatBoostPruningCallback\n",
    "\n",
    "# 경고 메시지 숨기기\n",
    "import warnings\n",
    "warnings.filterwarnings(action = 'ignore')\n",
    "\n",
    "# Seed 고정\n",
    "SEED = 42\n",
    "def seed_everything(seed) :\n",
    "    random.seed(seed)\n",
    "    np.random.seed(seed)\n",
    "    # tf.random.set_seed(seed)\n",
    "    torch.manual_seed(seed)\n",
    "    torch.cuda.manual_seed_all(seed)\n",
    "    torch.backends.cudnn.benchmark = True\n",
    "    torch.use_deterministic_algorithms(True)\n",
    "    os.environ['PYTHONHASHSEED'] = str(seed)\n",
    "    os.environ['TF_ENABLE_ONEDNN_OPTS'] = '0'\n",
    "seed_everything(SEED)"
   ]
  },
  {
   "cell_type": "markdown",
   "metadata": {},
   "source": [
    "![data](./code/data/Data_Schema.png)"
   ]
  },
  {
   "cell_type": "code",
   "execution_count": 2,
   "metadata": {},
   "outputs": [
    {
     "name": "stdout",
     "output_type": "stream",
     "text": [
      "(149570, 10) (68092, 3) (306795, 3) (76699, 3)\n"
     ]
    }
   ],
   "source": [
    "books = pd.read_csv('./code/data/books.csv')\n",
    "users = pd.read_csv('./code/data/users.csv')\n",
    "rating_train = pd.read_csv('./code/data/train_ratings.csv')\n",
    "rating_test = pd.read_csv('./code/data/test_ratings.csv')\n",
    "print(books.shape, users.shape, rating_train.shape, rating_test.shape)"
   ]
  },
  {
   "cell_type": "markdown",
   "metadata": {},
   "source": [
    "## `books`"
   ]
  },
  {
   "cell_type": "code",
   "execution_count": 3,
   "metadata": {},
   "outputs": [
    {
     "name": "stdout",
     "output_type": "stream",
     "text": [
      "<class 'pandas.core.frame.DataFrame'>\n",
      "RangeIndex: 149570 entries, 0 to 149569\n",
      "Data columns (total 10 columns):\n",
      " #   Column               Non-Null Count   Dtype  \n",
      "---  ------               --------------   -----  \n",
      " 0   isbn                 149570 non-null  object \n",
      " 1   book_title           149570 non-null  object \n",
      " 2   book_author          149569 non-null  object \n",
      " 3   year_of_publication  149570 non-null  float64\n",
      " 4   publisher            149570 non-null  object \n",
      " 5   img_url              149570 non-null  object \n",
      " 6   language             82343 non-null   object \n",
      " 7   category             80719 non-null   object \n",
      " 8   summary              82343 non-null   object \n",
      " 9   img_path             149570 non-null  object \n",
      "dtypes: float64(1), object(9)\n",
      "memory usage: 11.4+ MB\n"
     ]
    }
   ],
   "source": [
    "books.info()"
   ]
  },
  {
   "cell_type": "markdown",
   "metadata": {},
   "source": [
    "### `isbn`\n",
    "- https://sciencing.com/difference-isbn-13-isbn-10-5890031.html\n",
    "- group identifier / publisher identifier / title identifier / and check digit로 구성\n",
    "- Format : X-XXX-XXXXX-X"
   ]
  },
  {
   "cell_type": "markdown",
   "metadata": {},
   "source": [
    "> **ISBN 확인**\n",
    "- URL 정보를 사용해서 ISBN이 재대로 입력됐는지 확인"
   ]
  },
  {
   "cell_type": "code",
   "execution_count": 4,
   "metadata": {},
   "outputs": [
    {
     "data": {
      "text/html": [
       "<div>\n",
       "<style scoped>\n",
       "    .dataframe tbody tr th:only-of-type {\n",
       "        vertical-align: middle;\n",
       "    }\n",
       "\n",
       "    .dataframe tbody tr th {\n",
       "        vertical-align: top;\n",
       "    }\n",
       "\n",
       "    .dataframe thead th {\n",
       "        text-align: right;\n",
       "    }\n",
       "</style>\n",
       "<table border=\"1\" class=\"dataframe\">\n",
       "  <thead>\n",
       "    <tr style=\"text-align: right;\">\n",
       "      <th></th>\n",
       "      <th>isbn</th>\n",
       "      <th>book_title</th>\n",
       "      <th>book_author</th>\n",
       "      <th>year_of_publication</th>\n",
       "      <th>publisher</th>\n",
       "      <th>img_url</th>\n",
       "      <th>language</th>\n",
       "      <th>category</th>\n",
       "      <th>summary</th>\n",
       "      <th>img_path</th>\n",
       "      <th>img_url_isbn</th>\n",
       "    </tr>\n",
       "  </thead>\n",
       "  <tbody>\n",
       "  </tbody>\n",
       "</table>\n",
       "</div>"
      ],
      "text/plain": [
       "Empty DataFrame\n",
       "Columns: [isbn, book_title, book_author, year_of_publication, publisher, img_url, language, category, summary, img_path, img_url_isbn]\n",
       "Index: []"
      ]
     },
     "execution_count": 4,
     "metadata": {},
     "output_type": "execute_result"
    }
   ],
   "source": [
    "books['img_url_isbn'] = books['img_url'].apply(lambda x : x.split('/')[5].split('.')[0])\n",
    "books[books['isbn'] != books['img_url_isbn']]"
   ]
  },
  {
   "cell_type": "code",
   "execution_count": 5,
   "metadata": {},
   "outputs": [],
   "source": [
    "books.drop(columns = 'img_url_isbn', inplace = True)"
   ]
  },
  {
   "cell_type": "markdown",
   "metadata": {},
   "source": [
    "### `book_author` 결측치 확인\n",
    "- 실제 저자가 없는 책\n",
    "- 동일한 `book_title`의 데이터도 없음\n",
    "- => 동일한 `publisher`의 최빈값으로 대체"
   ]
  },
  {
   "cell_type": "code",
   "execution_count": 6,
   "metadata": {},
   "outputs": [
    {
     "data": {
      "text/html": [
       "<div>\n",
       "<style scoped>\n",
       "    .dataframe tbody tr th:only-of-type {\n",
       "        vertical-align: middle;\n",
       "    }\n",
       "\n",
       "    .dataframe tbody tr th {\n",
       "        vertical-align: top;\n",
       "    }\n",
       "\n",
       "    .dataframe thead th {\n",
       "        text-align: right;\n",
       "    }\n",
       "</style>\n",
       "<table border=\"1\" class=\"dataframe\">\n",
       "  <thead>\n",
       "    <tr style=\"text-align: right;\">\n",
       "      <th></th>\n",
       "      <th>isbn</th>\n",
       "      <th>book_title</th>\n",
       "      <th>book_author</th>\n",
       "      <th>year_of_publication</th>\n",
       "      <th>publisher</th>\n",
       "      <th>img_url</th>\n",
       "      <th>language</th>\n",
       "      <th>category</th>\n",
       "      <th>summary</th>\n",
       "      <th>img_path</th>\n",
       "    </tr>\n",
       "  </thead>\n",
       "  <tbody>\n",
       "    <tr>\n",
       "      <th>73737</th>\n",
       "      <td>0751352497</td>\n",
       "      <td>A+ Quiz Masters:01 Earth</td>\n",
       "      <td>NaN</td>\n",
       "      <td>1999.0</td>\n",
       "      <td>Dorling Kindersley</td>\n",
       "      <td>http://images.amazon.com/images/P/0751352497.0...</td>\n",
       "      <td>NaN</td>\n",
       "      <td>NaN</td>\n",
       "      <td>NaN</td>\n",
       "      <td>images/0751352497.01.THUMBZZZ.jpg</td>\n",
       "    </tr>\n",
       "  </tbody>\n",
       "</table>\n",
       "</div>"
      ],
      "text/plain": [
       "             isbn                book_title book_author  year_of_publication  \\\n",
       "73737  0751352497  A+ Quiz Masters:01 Earth         NaN               1999.0   \n",
       "\n",
       "                publisher                                            img_url  \\\n",
       "73737  Dorling Kindersley  http://images.amazon.com/images/P/0751352497.0...   \n",
       "\n",
       "      language category summary                           img_path  \n",
       "73737      NaN      NaN     NaN  images/0751352497.01.THUMBZZZ.jpg  "
      ]
     },
     "execution_count": 6,
     "metadata": {},
     "output_type": "execute_result"
    }
   ],
   "source": [
    "books[books['book_title'] == books.loc[books['book_author'].isna(), 'book_title'].values[0]]"
   ]
  },
  {
   "cell_type": "code",
   "execution_count": 7,
   "metadata": {},
   "outputs": [
    {
     "name": "stdout",
     "output_type": "stream",
     "text": [
      "0\n"
     ]
    }
   ],
   "source": [
    "books.loc[books['book_title'] == books.loc[books['book_author'].isna(), 'book_title'].values[0], 'book_author'] = \\\n",
    "    books.loc[books['publisher'] == books.loc[books['book_author'].isna(), 'publisher'].values[0], 'book_author'].mode().values[0]\n",
    "print(books['book_author'].isna().sum())"
   ]
  },
  {
   "cell_type": "code",
   "execution_count": 8,
   "metadata": {},
   "outputs": [],
   "source": [
    "# 텍스트 전처리 진행\n",
    "def text_preprocessing(summary) :\n",
    "    summary = re.sub(\"[.,\\'\\\"''\"\"!?]\", \"\", summary)\n",
    "    summary = re.sub(\"[^0-9a-zA-Z\\\\s]\", \" \", summary)\n",
    "    summary = re.sub(\"\\s+\", \" \", summary)\n",
    "    summary = summary.lower()\n",
    "    return summary\n",
    "\n",
    "books['book_title'] = books['book_title'].apply(lambda x : text_preprocessing(x))\n",
    "books['book_author'] = books['book_author'].apply(lambda x : text_preprocessing(x))\n",
    "books['publisher'] = books['publisher'].apply(lambda x : text_preprocessing(x))"
   ]
  },
  {
   "cell_type": "markdown",
   "metadata": {},
   "source": [
    "### `year_of_publication`\n",
    "- 10년 단위로 범주화"
   ]
  },
  {
   "cell_type": "code",
   "execution_count": 9,
   "metadata": {},
   "outputs": [
    {
     "data": {
      "text/plain": [
       "years\n",
       "2000    72358\n",
       "2010    46301\n",
       "1990    23809\n",
       "1980     5636\n",
       "1970     1466\n",
       "Name: count, dtype: int64"
      ]
     },
     "execution_count": 9,
     "metadata": {},
     "output_type": "execute_result"
    }
   ],
   "source": [
    "def preprocess_year(x) :\n",
    "    if x < 1970 :\n",
    "        return 1970\n",
    "    elif (x >= 1970) and (x < 1980) :\n",
    "        return 1980\n",
    "    elif (x >= 1980) and (x < 1990) :\n",
    "        return 1990\n",
    "    elif (x >= 1990) and (x < 2000) :\n",
    "        return 2000\n",
    "    else :\n",
    "        return 2010\n",
    "    \n",
    "books['years'] = books['year_of_publication'].apply(preprocess_year)\n",
    "books['years'].value_counts()"
   ]
  },
  {
   "cell_type": "markdown",
   "metadata": {},
   "source": [
    "### `publisher`\n",
    "- `isbn`의 앞 4개의 숫자를 활용하여 `new_publisher` 생성"
   ]
  },
  {
   "cell_type": "code",
   "execution_count": 10,
   "metadata": {},
   "outputs": [
    {
     "data": {
      "text/html": [
       "<div>\n",
       "<style scoped>\n",
       "    .dataframe tbody tr th:only-of-type {\n",
       "        vertical-align: middle;\n",
       "    }\n",
       "\n",
       "    .dataframe tbody tr th {\n",
       "        vertical-align: top;\n",
       "    }\n",
       "\n",
       "    .dataframe thead th {\n",
       "        text-align: right;\n",
       "    }\n",
       "</style>\n",
       "<table border=\"1\" class=\"dataframe\">\n",
       "  <thead>\n",
       "    <tr style=\"text-align: right;\">\n",
       "      <th></th>\n",
       "      <th>publisher</th>\n",
       "      <th>count</th>\n",
       "    </tr>\n",
       "  </thead>\n",
       "  <tbody>\n",
       "    <tr>\n",
       "      <th>0</th>\n",
       "      <td>harlequin</td>\n",
       "      <td>3006</td>\n",
       "    </tr>\n",
       "    <tr>\n",
       "      <th>1</th>\n",
       "      <td>ballantine books</td>\n",
       "      <td>2322</td>\n",
       "    </tr>\n",
       "    <tr>\n",
       "      <th>2</th>\n",
       "      <td>pocket</td>\n",
       "      <td>2274</td>\n",
       "    </tr>\n",
       "    <tr>\n",
       "      <th>3</th>\n",
       "      <td>penguin books</td>\n",
       "      <td>1943</td>\n",
       "    </tr>\n",
       "    <tr>\n",
       "      <th>4</th>\n",
       "      <td>bantam books</td>\n",
       "      <td>1938</td>\n",
       "    </tr>\n",
       "  </tbody>\n",
       "</table>\n",
       "</div>"
      ],
      "text/plain": [
       "          publisher  count\n",
       "0         harlequin   3006\n",
       "1  ballantine books   2322\n",
       "2            pocket   2274\n",
       "3     penguin books   1943\n",
       "4      bantam books   1938"
      ]
     },
     "metadata": {},
     "output_type": "display_data"
    },
    {
     "data": {
      "text/plain": [
       "11189"
      ]
     },
     "metadata": {},
     "output_type": "display_data"
    }
   ],
   "source": [
    "publisher_dict = (books['publisher'].value_counts()).to_dict()\n",
    "publisher_count_df = pd.DataFrame(list(publisher_dict.items()), columns = ['publisher', 'count'])\n",
    "\n",
    "publisher_count_df = publisher_count_df.sort_values(by = ['count'], ascending = False)\n",
    "display(publisher_count_df.head(), books['publisher'].nunique())"
   ]
  },
  {
   "cell_type": "code",
   "execution_count": 11,
   "metadata": {},
   "outputs": [
    {
     "name": "stderr",
     "output_type": "stream",
     "text": [
      "  0%|          | 0/5179 [00:00<?, ?it/s]"
     ]
    },
    {
     "name": "stderr",
     "output_type": "stream",
     "text": [
      "100%|██████████| 5179/5179 [07:35<00:00, 11.36it/s]"
     ]
    },
    {
     "name": "stdout",
     "output_type": "stream",
     "text": [
      "873\n"
     ]
    },
    {
     "name": "stderr",
     "output_type": "stream",
     "text": [
      "\n"
     ]
    }
   ],
   "source": [
    "modify_list = publisher_count_df[publisher_count_df['count'] > 1]['publisher'].values\n",
    "\n",
    "for publisher in tqdm.tqdm(modify_list) :\n",
    "    try :\n",
    "        number = books[books['publisher'] == publisher]['isbn'].apply(lambda x : x[:4]).value_counts().index[0]\n",
    "        right_publisher = books[books['isbn'].apply(lambda x : x[:4]) == number]['publisher'].value_counts().index[0]\n",
    "        books.loc[books[books['isbn'].apply(lambda x : x[:4]) == number].index, 'new_publisher'] = right_publisher\n",
    "    except :\n",
    "        pass\n",
    "    \n",
    "print(books['new_publisher'].nunique())"
   ]
  },
  {
   "cell_type": "code",
   "execution_count": 101,
   "metadata": {},
   "outputs": [
    {
     "data": {
      "text/plain": [
       "1747"
      ]
     },
     "execution_count": 101,
     "metadata": {},
     "output_type": "execute_result"
    }
   ],
   "source": [
    "books.loc[books['new_publisher'] == 'nan', 'new_publisher'] = books['publisher']\n",
    "books['new_publisher'].nunique()"
   ]
  },
  {
   "cell_type": "markdown",
   "metadata": {},
   "source": [
    "### `language`, `category`, `summary`\n",
    "- `language` & `category` & `summary`가 모두 결측인 행 -> 67227행\n",
    "- `language` & `summary`만 결측인 행 -> 67227 + 1624행"
   ]
  },
  {
   "cell_type": "code",
   "execution_count": 102,
   "metadata": {},
   "outputs": [
    {
     "data": {
      "text/html": [
       "<div>\n",
       "<style scoped>\n",
       "    .dataframe tbody tr th:only-of-type {\n",
       "        vertical-align: middle;\n",
       "    }\n",
       "\n",
       "    .dataframe tbody tr th {\n",
       "        vertical-align: top;\n",
       "    }\n",
       "\n",
       "    .dataframe thead th {\n",
       "        text-align: right;\n",
       "    }\n",
       "</style>\n",
       "<table border=\"1\" class=\"dataframe\">\n",
       "  <thead>\n",
       "    <tr style=\"text-align: right;\">\n",
       "      <th></th>\n",
       "      <th>language</th>\n",
       "      <th>category</th>\n",
       "      <th>summary</th>\n",
       "    </tr>\n",
       "  </thead>\n",
       "  <tbody>\n",
       "  </tbody>\n",
       "</table>\n",
       "</div>"
      ],
      "text/plain": [
       "Empty DataFrame\n",
       "Columns: [language, category, summary]\n",
       "Index: []"
      ]
     },
     "metadata": {},
     "output_type": "display_data"
    },
    {
     "data": {
      "text/html": [
       "<div>\n",
       "<style scoped>\n",
       "    .dataframe tbody tr th:only-of-type {\n",
       "        vertical-align: middle;\n",
       "    }\n",
       "\n",
       "    .dataframe tbody tr th {\n",
       "        vertical-align: top;\n",
       "    }\n",
       "\n",
       "    .dataframe thead th {\n",
       "        text-align: right;\n",
       "    }\n",
       "</style>\n",
       "<table border=\"1\" class=\"dataframe\">\n",
       "  <thead>\n",
       "    <tr style=\"text-align: right;\">\n",
       "      <th></th>\n",
       "      <th>isbn</th>\n",
       "      <th>book_title</th>\n",
       "      <th>book_author</th>\n",
       "      <th>year_of_publication</th>\n",
       "      <th>publisher</th>\n",
       "      <th>img_url</th>\n",
       "      <th>language</th>\n",
       "      <th>category</th>\n",
       "      <th>summary</th>\n",
       "      <th>img_path</th>\n",
       "      <th>years</th>\n",
       "      <th>new_publisher</th>\n",
       "      <th>category_high</th>\n",
       "    </tr>\n",
       "  </thead>\n",
       "  <tbody>\n",
       "  </tbody>\n",
       "</table>\n",
       "</div>"
      ],
      "text/plain": [
       "Empty DataFrame\n",
       "Columns: [isbn, book_title, book_author, year_of_publication, publisher, img_url, language, category, summary, img_path, years, new_publisher, category_high]\n",
       "Index: []"
      ]
     },
     "metadata": {},
     "output_type": "display_data"
    },
    {
     "data": {
      "text/html": [
       "<div>\n",
       "<style scoped>\n",
       "    .dataframe tbody tr th:only-of-type {\n",
       "        vertical-align: middle;\n",
       "    }\n",
       "\n",
       "    .dataframe tbody tr th {\n",
       "        vertical-align: top;\n",
       "    }\n",
       "\n",
       "    .dataframe thead th {\n",
       "        text-align: right;\n",
       "    }\n",
       "</style>\n",
       "<table border=\"1\" class=\"dataframe\">\n",
       "  <thead>\n",
       "    <tr style=\"text-align: right;\">\n",
       "      <th></th>\n",
       "      <th>isbn</th>\n",
       "      <th>book_title</th>\n",
       "      <th>book_author</th>\n",
       "      <th>year_of_publication</th>\n",
       "      <th>publisher</th>\n",
       "      <th>img_url</th>\n",
       "      <th>language</th>\n",
       "      <th>category</th>\n",
       "      <th>summary</th>\n",
       "      <th>img_path</th>\n",
       "      <th>years</th>\n",
       "      <th>new_publisher</th>\n",
       "      <th>category_high</th>\n",
       "    </tr>\n",
       "  </thead>\n",
       "  <tbody>\n",
       "  </tbody>\n",
       "</table>\n",
       "</div>"
      ],
      "text/plain": [
       "Empty DataFrame\n",
       "Columns: [isbn, book_title, book_author, year_of_publication, publisher, img_url, language, category, summary, img_path, years, new_publisher, category_high]\n",
       "Index: []"
      ]
     },
     "metadata": {},
     "output_type": "display_data"
    }
   ],
   "source": [
    "display(books.loc[books['language'].isna(), ['language', 'category', 'summary']])\n",
    "display(books.loc[books['language'].isna() & books['category'].notnull()])\n",
    "display(books.loc[books['language'].isna() & books['summary'].notnull()])"
   ]
  },
  {
   "cell_type": "markdown",
   "metadata": {},
   "source": [
    "- `language`는 `isbn`의 region 정보를 활용하여 결측치 대체"
   ]
  },
  {
   "cell_type": "code",
   "execution_count": 14,
   "metadata": {},
   "outputs": [
    {
     "data": {
      "text/plain": [
       "0"
      ]
     },
     "execution_count": 14,
     "metadata": {},
     "output_type": "execute_result"
    }
   ],
   "source": [
    "region_code = set([code[:1] for code in books['isbn']])\n",
    "\n",
    "region_lang = dict()\n",
    "\n",
    "for code in region_code :\n",
    "    lang = books.loc[books['isbn'].str.startswith(str(code)), 'language']\n",
    "    mode = lang.mode()[0] if not code == 'B' else 'en' # 'B'로 시작하는 행들은 모두 NaN여서, 'en'으로 대체\n",
    "    books.loc[(books['isbn'].str.startswith(str(code))) & (books['language'].isna()), 'language'] = mode\n",
    "\n",
    "books['language'].isna().sum()"
   ]
  },
  {
   "cell_type": "markdown",
   "metadata": {},
   "source": [
    "### `category`\n",
    "- 상위 카테고리인 `category_high`를 생성"
   ]
  },
  {
   "cell_type": "code",
   "execution_count": 15,
   "metadata": {},
   "outputs": [
    {
     "data": {
      "text/html": [
       "<div>\n",
       "<style scoped>\n",
       "    .dataframe tbody tr th:only-of-type {\n",
       "        vertical-align: middle;\n",
       "    }\n",
       "\n",
       "    .dataframe tbody tr th {\n",
       "        vertical-align: top;\n",
       "    }\n",
       "\n",
       "    .dataframe thead th {\n",
       "        text-align: right;\n",
       "    }\n",
       "</style>\n",
       "<table border=\"1\" class=\"dataframe\">\n",
       "  <thead>\n",
       "    <tr style=\"text-align: right;\">\n",
       "      <th></th>\n",
       "      <th>category</th>\n",
       "      <th>count</th>\n",
       "    </tr>\n",
       "  </thead>\n",
       "  <tbody>\n",
       "    <tr>\n",
       "      <th>0</th>\n",
       "      <td>nan</td>\n",
       "      <td>68851</td>\n",
       "    </tr>\n",
       "    <tr>\n",
       "      <th>1</th>\n",
       "      <td>fiction</td>\n",
       "      <td>33016</td>\n",
       "    </tr>\n",
       "    <tr>\n",
       "      <th>2</th>\n",
       "      <td>juvenile fiction</td>\n",
       "      <td>5835</td>\n",
       "    </tr>\n",
       "    <tr>\n",
       "      <th>3</th>\n",
       "      <td>biography autobiography</td>\n",
       "      <td>3326</td>\n",
       "    </tr>\n",
       "    <tr>\n",
       "      <th>4</th>\n",
       "      <td>history</td>\n",
       "      <td>1927</td>\n",
       "    </tr>\n",
       "  </tbody>\n",
       "</table>\n",
       "</div>"
      ],
      "text/plain": [
       "                  category  count\n",
       "0                      nan  68851\n",
       "1                  fiction  33016\n",
       "2         juvenile fiction   5835\n",
       "3  biography autobiography   3326\n",
       "4                  history   1927"
      ]
     },
     "execution_count": 15,
     "metadata": {},
     "output_type": "execute_result"
    }
   ],
   "source": [
    "# 대괄호 삭제\n",
    "books['category'] = books['category'].apply(lambda x : re.sub('[\\W_]+',  ' ', str(x).lower()).strip())\n",
    "\n",
    "category_df = pd.DataFrame(books['category'].value_counts()).reset_index()\n",
    "category_df.columns = ['category', 'count']\n",
    "category_df.head()"
   ]
  },
  {
   "cell_type": "code",
   "execution_count": 16,
   "metadata": {},
   "outputs": [],
   "source": [
    "books['category_high'] = books['category'].copy()\n",
    "\n",
    "categories = ['garden', 'crafts', 'physics', 'adventure', 'music', 'fiction', 'nonfiction', 'science', 'science fiction', 'social', 'homicide', \n",
    "              'sociology', 'disease', 'religion', 'christian', 'philosophy', 'psycholog', 'mathemat', 'agricult', 'environmental',\n",
    "              'business', 'poetry', 'drama', 'literary', 'travel', 'motion picture', 'children', 'cook', 'literature', 'electronic', \n",
    "              'humor', 'animal', 'bird', 'photograph', 'computer', 'house', 'ecology', 'family', 'architect', 'camp', 'criminal', 'language', 'india']\n",
    "\n",
    "for category in categories :\n",
    "    books.loc[books[books['category'].str.contains(category, na = False)].index, 'category_high'] = category"
   ]
  },
  {
   "cell_type": "code",
   "execution_count": 17,
   "metadata": {},
   "outputs": [
    {
     "data": {
      "text/html": [
       "<div>\n",
       "<style scoped>\n",
       "    .dataframe tbody tr th:only-of-type {\n",
       "        vertical-align: middle;\n",
       "    }\n",
       "\n",
       "    .dataframe tbody tr th {\n",
       "        vertical-align: top;\n",
       "    }\n",
       "\n",
       "    .dataframe thead th {\n",
       "        text-align: right;\n",
       "    }\n",
       "</style>\n",
       "<table border=\"1\" class=\"dataframe\">\n",
       "  <thead>\n",
       "    <tr style=\"text-align: right;\">\n",
       "      <th></th>\n",
       "      <th>category</th>\n",
       "      <th>count</th>\n",
       "    </tr>\n",
       "  </thead>\n",
       "  <tbody>\n",
       "    <tr>\n",
       "      <th>0</th>\n",
       "      <td>nan</td>\n",
       "      <td>68851</td>\n",
       "    </tr>\n",
       "    <tr>\n",
       "      <th>1</th>\n",
       "      <td>fiction</td>\n",
       "      <td>39678</td>\n",
       "    </tr>\n",
       "    <tr>\n",
       "      <th>2</th>\n",
       "      <td>biography autobiography</td>\n",
       "      <td>3326</td>\n",
       "    </tr>\n",
       "    <tr>\n",
       "      <th>3</th>\n",
       "      <td>history</td>\n",
       "      <td>1927</td>\n",
       "    </tr>\n",
       "    <tr>\n",
       "      <th>4</th>\n",
       "      <td>religion</td>\n",
       "      <td>1824</td>\n",
       "    </tr>\n",
       "    <tr>\n",
       "      <th>5</th>\n",
       "      <td>nonfiction</td>\n",
       "      <td>1427</td>\n",
       "    </tr>\n",
       "    <tr>\n",
       "      <th>6</th>\n",
       "      <td>humor</td>\n",
       "      <td>1291</td>\n",
       "    </tr>\n",
       "    <tr>\n",
       "      <th>7</th>\n",
       "      <td>social</td>\n",
       "      <td>1271</td>\n",
       "    </tr>\n",
       "    <tr>\n",
       "      <th>8</th>\n",
       "      <td>business</td>\n",
       "      <td>1146</td>\n",
       "    </tr>\n",
       "    <tr>\n",
       "      <th>9</th>\n",
       "      <td>cook</td>\n",
       "      <td>1125</td>\n",
       "    </tr>\n",
       "  </tbody>\n",
       "</table>\n",
       "</div>"
      ],
      "text/plain": [
       "                  category  count\n",
       "0                      nan  68851\n",
       "1                  fiction  39678\n",
       "2  biography autobiography   3326\n",
       "3                  history   1927\n",
       "4                 religion   1824\n",
       "5               nonfiction   1427\n",
       "6                    humor   1291\n",
       "7                   social   1271\n",
       "8                 business   1146\n",
       "9                     cook   1125"
      ]
     },
     "execution_count": 17,
     "metadata": {},
     "output_type": "execute_result"
    }
   ],
   "source": [
    "category_high_df = pd.DataFrame(books['category_high'].value_counts()).reset_index()\n",
    "category_high_df.columns = ['category', 'count']\n",
    "category_high_df.head(10)"
   ]
  },
  {
   "cell_type": "code",
   "execution_count": 18,
   "metadata": {},
   "outputs": [
    {
     "name": "stdout",
     "output_type": "stream",
     "text": [
      "2856\n"
     ]
    }
   ],
   "source": [
    "# 5개 이하인 항목은 others\n",
    "others_list = category_high_df[category_high_df['count'] < 5]['category'].values\n",
    "print(len(others_list))\n",
    "\n",
    "books.loc[books[books['category_high'].isin(others_list)].index, 'category_high'] = 'others'"
   ]
  },
  {
   "cell_type": "code",
   "execution_count": 19,
   "metadata": {},
   "outputs": [
    {
     "name": "stdout",
     "output_type": "stream",
     "text": [
      "68851\n"
     ]
    }
   ],
   "source": [
    "books['category_high'] = books['category_high'].replace('nan', np.nan)\n",
    "books['category_high'] = books['category_high'].replace('unknown', np.nan)\n",
    "print(books['category_high'].isna().sum())\n",
    "\n",
    "books['category_high'].fillna('fiction', inplace = True)"
   ]
  },
  {
   "cell_type": "code",
   "execution_count": 20,
   "metadata": {},
   "outputs": [
    {
     "name": "stdout",
     "output_type": "stream",
     "text": [
      "<class 'pandas.core.frame.DataFrame'>\n",
      "RangeIndex: 149570 entries, 0 to 149569\n",
      "Data columns (total 13 columns):\n",
      " #   Column               Non-Null Count   Dtype  \n",
      "---  ------               --------------   -----  \n",
      " 0   isbn                 149570 non-null  object \n",
      " 1   book_title           149570 non-null  object \n",
      " 2   book_author          149570 non-null  object \n",
      " 3   year_of_publication  149570 non-null  float64\n",
      " 4   publisher            149570 non-null  object \n",
      " 5   img_url              149570 non-null  object \n",
      " 6   language             149570 non-null  object \n",
      " 7   category             149570 non-null  object \n",
      " 8   summary              82343 non-null   object \n",
      " 9   img_path             149570 non-null  object \n",
      " 10  years                149570 non-null  int64  \n",
      " 11  new_publisher        149570 non-null  object \n",
      " 12  category_high        149570 non-null  object \n",
      "dtypes: float64(1), int64(1), object(11)\n",
      "memory usage: 14.8+ MB\n"
     ]
    }
   ],
   "source": [
    "books.info()"
   ]
  },
  {
   "cell_type": "code",
   "execution_count": 103,
   "metadata": {},
   "outputs": [],
   "source": [
    "books.to_csv('./code/data/books_text_preprocessed.csv', index = False)"
   ]
  },
  {
   "cell_type": "markdown",
   "metadata": {},
   "source": [
    "## `users`"
   ]
  },
  {
   "cell_type": "code",
   "execution_count": 22,
   "metadata": {},
   "outputs": [
    {
     "name": "stdout",
     "output_type": "stream",
     "text": [
      "<class 'pandas.core.frame.DataFrame'>\n",
      "RangeIndex: 68092 entries, 0 to 68091\n",
      "Data columns (total 3 columns):\n",
      " #   Column    Non-Null Count  Dtype  \n",
      "---  ------    --------------  -----  \n",
      " 0   user_id   68092 non-null  int64  \n",
      " 1   location  68092 non-null  object \n",
      " 2   age       40259 non-null  float64\n",
      "dtypes: float64(1), int64(1), object(1)\n",
      "memory usage: 1.6+ MB\n"
     ]
    }
   ],
   "source": [
    "users.info()"
   ]
  },
  {
   "cell_type": "markdown",
   "metadata": {},
   "source": [
    "### `city`, `state`, `country` 전처리"
   ]
  },
  {
   "cell_type": "code",
   "execution_count": 23,
   "metadata": {},
   "outputs": [
    {
     "name": "stdout",
     "output_type": "stream",
     "text": [
      "<class 'pandas.core.frame.DataFrame'>\n",
      "RangeIndex: 68092 entries, 0 to 68091\n",
      "Data columns (total 4 columns):\n",
      " #   Column    Non-Null Count  Dtype \n",
      "---  ------    --------------  ----- \n",
      " 0   location  68092 non-null  object\n",
      " 1   city      67963 non-null  object\n",
      " 2   state     64838 non-null  object\n",
      " 3   country   65968 non-null  object\n",
      "dtypes: object(4)\n",
      "memory usage: 2.1+ MB\n"
     ]
    }
   ],
   "source": [
    "users['location'] = users['location'].str.replace(r'[^a-zA-Z:,]', '', regex = True)\n",
    "\n",
    "users['city'] = users['location'].apply(lambda x : x.split(',')[0].strip())\n",
    "users['state'] = users['location'].apply(lambda x : x.split(',')[1].strip())\n",
    "users['country'] = users['location'].apply(lambda x : x.split(',')[2].strip())\n",
    "\n",
    "users = users.replace('na', np.nan)\n",
    "users = users.replace('', np.nan)\n",
    "\n",
    "users[['location', 'city', 'state', 'country']].info()"
   ]
  },
  {
   "cell_type": "code",
   "execution_count": 24,
   "metadata": {},
   "outputs": [
    {
     "name": "stderr",
     "output_type": "stream",
     "text": [
      "  0%|          | 0/2113 [00:00<?, ?it/s]"
     ]
    },
    {
     "name": "stderr",
     "output_type": "stream",
     "text": [
      "100%|██████████| 2113/2113 [00:58<00:00, 36.41it/s]\n",
      "100%|██████████| 1963/1963 [00:19<00:00, 100.94it/s]\n"
     ]
    }
   ],
   "source": [
    "modify_location = users[(users['country'].isna())&(users['city'].notnull())]['city'].values\n",
    "location = users[(users['location'].str.contains('seattle'))&(users['country'].notnull())]['location'].value_counts().index[0]\n",
    "\n",
    "location_list = []\n",
    "for location in tqdm.tqdm(modify_location) :\n",
    "    try :\n",
    "        right_location = users[(users['location'].str.contains(location))&(users['country'].notnull())]['location'].value_counts().index[0]\n",
    "        location_list.append(right_location)\n",
    "    except :\n",
    "        pass\n",
    "\n",
    "for location in tqdm.tqdm(location_list) :\n",
    "    users.loc[users[users['city'] == location.split(',')[0]].index, 'state'] = location.split(',')[1]\n",
    "    users.loc[users[users['city'] == location.split(',')[0]].index, 'country'] = location.split(',')[2]"
   ]
  },
  {
   "cell_type": "markdown",
   "metadata": {},
   "source": [
    "- `country`의 오타나 오기입되어 있는 값 처리\n",
    "    - canada -> 'canada', 'cananda', 'vvh', 'lkjlj'\n",
    "    - italy -> 'italia', 'italy', 'litalia', 'ineurope'\n",
    "    - phillipines -> 'phillipines', 'phillippines'\n",
    "    - spain -> 'catalunyaspain', 'spain'\n",
    "    - unitedkingdom -> 'unitedkingdom', 'usacurrentlylivinginengland', 'unitedkindgonm',    'obviously'\n",
    "    - usa -> 'unitedstates', 'unitedstaes', 'unitedstatesofamerica', 'usa', 'usanow', 'ysa',    'csa', 'anystate', 'usacanada'\n",
    "    - uruguay -> 'urugua', 'uruguay'"
   ]
  },
  {
   "cell_type": "code",
   "execution_count": 25,
   "metadata": {},
   "outputs": [
    {
     "name": "stdout",
     "output_type": "stream",
     "text": [
      "Before : 268\n",
      "After  : 258\n"
     ]
    }
   ],
   "source": [
    "print(f'Before : {users[\"country\"].nunique()}')\n",
    "country_mapping = {\n",
    "    'canada': ['canada', 'cananda', 'vvh', 'lkjlj'],\n",
    "    'italy': ['italia', 'italy', 'litalia', 'ineurope'],\n",
    "    'phillipines': ['phillipines', 'phillippines'],\n",
    "    'spain': ['catalunyaspain', 'spain'],\n",
    "    'unitedkingdom': ['unitedkingdom', 'usacurrentlylivinginengland', 'unitedkindgonm', 'obviously'],\n",
    "    'usa': ['unitedstates', 'unitedstaes', 'unitedsates', 'unitedstatesofamerica', 'usa', 'usanow', 'ysa', 'csa', 'anystate', 'usacanada'],\n",
    "    'uruguay': ['urugua', 'uruguay']\n",
    "}\n",
    "\n",
    "for target_country, aliases in country_mapping.items() :\n",
    "    users['country'].replace(aliases, target_country, inplace = True)\n",
    "\n",
    "print(f'After  : {users[\"country\"].nunique()}')"
   ]
  },
  {
   "cell_type": "code",
   "execution_count": 26,
   "metadata": {},
   "outputs": [
    {
     "name": "stderr",
     "output_type": "stream",
     "text": [
      "100%|██████████| 205/205 [00:00<00:00, 220.85it/s]\n"
     ]
    }
   ],
   "source": [
    "# 10개 이하의 country를 others로 변환\n",
    "others = users['country'].value_counts()[users['country'].value_counts() < 10].index\n",
    "for country in tqdm.tqdm(others) :\n",
    "    try :\n",
    "        users.loc[(users['country'] == country), 'country'] = 'others'\n",
    "    except :\n",
    "        pass"
   ]
  },
  {
   "cell_type": "code",
   "execution_count": 27,
   "metadata": {},
   "outputs": [
    {
     "name": "stdout",
     "output_type": "stream",
     "text": [
      "54\n"
     ]
    }
   ],
   "source": [
    "# 나머지 결측치에 대해서도 others로 변환\n",
    "users['country'] = users['country'].fillna('others')\n",
    "print(users['country'].nunique())"
   ]
  },
  {
   "cell_type": "code",
   "execution_count": 28,
   "metadata": {},
   "outputs": [],
   "source": [
    "city2idx = {v:k for k,v in enumerate(users['city'].unique())}\n",
    "state2idx = {v:k for k,v in enumerate(users['state'].unique())}\n",
    "country2idx = {v:k for k,v in enumerate(users['country'].unique())}\n",
    "\n",
    "users['city'] = users['city'].map(city2idx)\n",
    "users['state'] = users['state'].map(state2idx)\n",
    "users['country'] = users['country'].map(country2idx)"
   ]
  },
  {
   "cell_type": "markdown",
   "metadata": {},
   "source": [
    "### `age`\n",
    "- 국가별 `age`의 중앙값으로 대체\n",
    "- 국가별 `age`의 중앙값이 존재하지 않는 경우, 전체 `age`의 중앙값으로 대체"
   ]
  },
  {
   "cell_type": "code",
   "execution_count": 29,
   "metadata": {},
   "outputs": [
    {
     "name": "stdout",
     "output_type": "stream",
     "text": [
      "0\n"
     ]
    }
   ],
   "source": [
    "country_age_median = users.groupby('country')['age'].median()\n",
    "users['age'] = users.apply(lambda x : country_age_median[x['country']] if pd.isna(x['age']) else x['age'], axis = 1)\n",
    "\n",
    "global_age_median = users['age'].median()\n",
    "users['age'].fillna(global_age_median, inplace = True)\n",
    "print(users['age'].isna().sum())"
   ]
  },
  {
   "cell_type": "markdown",
   "metadata": {},
   "source": [
    "- 10살 단위 연령대로 분할하여 `new_age` 변수 생성"
   ]
  },
  {
   "cell_type": "code",
   "execution_count": 30,
   "metadata": {},
   "outputs": [
    {
     "data": {
      "text/html": [
       "<div>\n",
       "<style scoped>\n",
       "    .dataframe tbody tr th:only-of-type {\n",
       "        vertical-align: middle;\n",
       "    }\n",
       "\n",
       "    .dataframe tbody tr th {\n",
       "        vertical-align: top;\n",
       "    }\n",
       "\n",
       "    .dataframe thead th {\n",
       "        text-align: right;\n",
       "    }\n",
       "</style>\n",
       "<table border=\"1\" class=\"dataframe\">\n",
       "  <thead>\n",
       "    <tr style=\"text-align: right;\">\n",
       "      <th></th>\n",
       "      <th>age</th>\n",
       "      <th>new_age</th>\n",
       "    </tr>\n",
       "  </thead>\n",
       "  <tbody>\n",
       "    <tr>\n",
       "      <th>0</th>\n",
       "      <td>33.0</td>\n",
       "      <td>30</td>\n",
       "    </tr>\n",
       "    <tr>\n",
       "      <th>1</th>\n",
       "      <td>49.0</td>\n",
       "      <td>40</td>\n",
       "    </tr>\n",
       "    <tr>\n",
       "      <th>2</th>\n",
       "      <td>34.0</td>\n",
       "      <td>30</td>\n",
       "    </tr>\n",
       "    <tr>\n",
       "      <th>3</th>\n",
       "      <td>30.0</td>\n",
       "      <td>30</td>\n",
       "    </tr>\n",
       "    <tr>\n",
       "      <th>4</th>\n",
       "      <td>36.0</td>\n",
       "      <td>30</td>\n",
       "    </tr>\n",
       "    <tr>\n",
       "      <th>...</th>\n",
       "      <td>...</td>\n",
       "      <td>...</td>\n",
       "    </tr>\n",
       "    <tr>\n",
       "      <th>68087</th>\n",
       "      <td>54.0</td>\n",
       "      <td>50</td>\n",
       "    </tr>\n",
       "    <tr>\n",
       "      <th>68088</th>\n",
       "      <td>74.0</td>\n",
       "      <td>70</td>\n",
       "    </tr>\n",
       "    <tr>\n",
       "      <th>68089</th>\n",
       "      <td>36.0</td>\n",
       "      <td>30</td>\n",
       "    </tr>\n",
       "    <tr>\n",
       "      <th>68090</th>\n",
       "      <td>33.0</td>\n",
       "      <td>30</td>\n",
       "    </tr>\n",
       "    <tr>\n",
       "      <th>68091</th>\n",
       "      <td>63.0</td>\n",
       "      <td>60</td>\n",
       "    </tr>\n",
       "  </tbody>\n",
       "</table>\n",
       "<p>68092 rows × 2 columns</p>\n",
       "</div>"
      ],
      "text/plain": [
       "        age  new_age\n",
       "0      33.0       30\n",
       "1      49.0       40\n",
       "2      34.0       30\n",
       "3      30.0       30\n",
       "4      36.0       30\n",
       "...     ...      ...\n",
       "68087  54.0       50\n",
       "68088  74.0       70\n",
       "68089  36.0       30\n",
       "68090  33.0       30\n",
       "68091  63.0       60\n",
       "\n",
       "[68092 rows x 2 columns]"
      ]
     },
     "execution_count": 30,
     "metadata": {},
     "output_type": "execute_result"
    }
   ],
   "source": [
    "users['new_age'] = ((users['age'] // 10) * 10).astype(int)\n",
    "users[['age', 'new_age']]"
   ]
  },
  {
   "cell_type": "code",
   "execution_count": 31,
   "metadata": {},
   "outputs": [
    {
     "name": "stdout",
     "output_type": "stream",
     "text": [
      "<class 'pandas.core.frame.DataFrame'>\n",
      "RangeIndex: 68092 entries, 0 to 68091\n",
      "Data columns (total 7 columns):\n",
      " #   Column    Non-Null Count  Dtype  \n",
      "---  ------    --------------  -----  \n",
      " 0   user_id   68092 non-null  int64  \n",
      " 1   location  68092 non-null  object \n",
      " 2   age       68092 non-null  float64\n",
      " 3   city      68092 non-null  int64  \n",
      " 4   state     68092 non-null  int64  \n",
      " 5   country   68092 non-null  int64  \n",
      " 6   new_age   68092 non-null  int64  \n",
      "dtypes: float64(1), int64(5), object(1)\n",
      "memory usage: 3.6+ MB\n"
     ]
    }
   ],
   "source": [
    "users.info()"
   ]
  },
  {
   "cell_type": "code",
   "execution_count": 32,
   "metadata": {},
   "outputs": [],
   "source": [
    "users.to_csv('./code/data/users_preprocessed_1219.csv', index = False)"
   ]
  },
  {
   "cell_type": "markdown",
   "metadata": {},
   "source": [
    "## `ratings`와 Merge"
   ]
  },
  {
   "cell_type": "code",
   "execution_count": 104,
   "metadata": {},
   "outputs": [
    {
     "name": "stdout",
     "output_type": "stream",
     "text": [
      "(149570, 13) (68092, 7) (306795, 3) (76699, 3)\n"
     ]
    }
   ],
   "source": [
    "path = './code/data/'\n",
    "books_pre = pd.read_csv(path + 'books_text_preprocessed.csv') # books_preprocessed\n",
    "users_pre = pd.read_csv(path + 'users_preprocessed_1219.csv') # users_preprocessed\n",
    "train_ratings = pd.read_csv(path + 'train_ratings.csv')\n",
    "test_ratings = pd.read_csv(path + 'test_ratings.csv')\n",
    "\n",
    "print(books_pre.shape, users_pre.shape, train_ratings.shape, test_ratings.shape)"
   ]
  },
  {
   "cell_type": "code",
   "execution_count": 105,
   "metadata": {},
   "outputs": [
    {
     "name": "stdout",
     "output_type": "stream",
     "text": [
      "<class 'pandas.core.frame.DataFrame'>\n",
      "RangeIndex: 149570 entries, 0 to 149569\n",
      "Data columns (total 13 columns):\n",
      " #   Column               Non-Null Count   Dtype  \n",
      "---  ------               --------------   -----  \n",
      " 0   isbn                 149570 non-null  object \n",
      " 1   book_title           149570 non-null  object \n",
      " 2   book_author          149570 non-null  object \n",
      " 3   year_of_publication  149570 non-null  float64\n",
      " 4   publisher            149570 non-null  object \n",
      " 5   img_url              149570 non-null  object \n",
      " 6   language             149570 non-null  object \n",
      " 7   category             80719 non-null   object \n",
      " 8   summary              82343 non-null   object \n",
      " 9   img_path             149570 non-null  object \n",
      " 10  years                149570 non-null  int64  \n",
      " 11  new_publisher        149570 non-null  object \n",
      " 12  category_high        149570 non-null  object \n",
      "dtypes: float64(1), int64(1), object(11)\n",
      "memory usage: 14.8+ MB\n",
      "<class 'pandas.core.frame.DataFrame'>\n",
      "RangeIndex: 68092 entries, 0 to 68091\n",
      "Data columns (total 7 columns):\n",
      " #   Column    Non-Null Count  Dtype  \n",
      "---  ------    --------------  -----  \n",
      " 0   user_id   68092 non-null  int64  \n",
      " 1   location  68092 non-null  object \n",
      " 2   age       68092 non-null  float64\n",
      " 3   city      68092 non-null  int64  \n",
      " 4   state     68092 non-null  int64  \n",
      " 5   country   68092 non-null  int64  \n",
      " 6   new_age   68092 non-null  int64  \n",
      "dtypes: float64(1), int64(5), object(1)\n",
      "memory usage: 3.6+ MB\n"
     ]
    },
    {
     "data": {
      "text/plain": [
       "None"
      ]
     },
     "metadata": {},
     "output_type": "display_data"
    },
    {
     "data": {
      "text/plain": [
       "None"
      ]
     },
     "metadata": {},
     "output_type": "display_data"
    }
   ],
   "source": [
    "display(books_pre.info(), users_pre.info())"
   ]
  },
  {
   "cell_type": "code",
   "execution_count": 106,
   "metadata": {},
   "outputs": [],
   "source": [
    "books_final = books_pre[['isbn', 'book_title', 'book_author', 'language', 'years', 'new_publisher', 'category_high']]\n",
    "users_final = users_pre[['user_id', 'city', 'state', 'country', 'new_age']] # [['user_id', 'country', 'new_age']]"
   ]
  },
  {
   "cell_type": "code",
   "execution_count": 107,
   "metadata": {},
   "outputs": [
    {
     "name": "stdout",
     "output_type": "stream",
     "text": [
      "<class 'pandas.core.frame.DataFrame'>\n",
      "RangeIndex: 306795 entries, 0 to 306794\n",
      "Data columns (total 13 columns):\n",
      " #   Column         Non-Null Count   Dtype  \n",
      "---  ------         --------------   -----  \n",
      " 0   user_id        306795 non-null  int64  \n",
      " 1   city           306795 non-null  int64  \n",
      " 2   state          306795 non-null  int64  \n",
      " 3   country        306795 non-null  int64  \n",
      " 4   new_age        306795 non-null  int64  \n",
      " 5   isbn           306795 non-null  object \n",
      " 6   book_title     306795 non-null  object \n",
      " 7   book_author    306795 non-null  object \n",
      " 8   language       306795 non-null  object \n",
      " 9   years          306795 non-null  float64\n",
      " 10  new_publisher  306795 non-null  object \n",
      " 11  category_high  306795 non-null  object \n",
      " 12  rating         306795 non-null  float64\n",
      "dtypes: float64(2), int64(5), object(6)\n",
      "memory usage: 30.4+ MB\n"
     ]
    }
   ],
   "source": [
    "train_ratings['index'] = train_ratings.index\n",
    "train_df = pd.merge(books_final, train_ratings, how = 'left', on = 'isbn').dropna(subset = 'rating')\n",
    "train_df = pd.merge(users_final, train_df, how = 'left', on = 'user_id').dropna(subset = 'rating')\n",
    "train_df = train_df.sort_values('index').reset_index(drop = True).drop(columns = 'index')\n",
    "train_df.info()"
   ]
  },
  {
   "cell_type": "code",
   "execution_count": 108,
   "metadata": {},
   "outputs": [
    {
     "name": "stdout",
     "output_type": "stream",
     "text": [
      "<class 'pandas.core.frame.DataFrame'>\n",
      "RangeIndex: 76699 entries, 0 to 76698\n",
      "Data columns (total 13 columns):\n",
      " #   Column         Non-Null Count  Dtype  \n",
      "---  ------         --------------  -----  \n",
      " 0   user_id        76699 non-null  int64  \n",
      " 1   city           76699 non-null  int64  \n",
      " 2   state          76699 non-null  int64  \n",
      " 3   country        76699 non-null  int64  \n",
      " 4   new_age        76699 non-null  int64  \n",
      " 5   isbn           76699 non-null  object \n",
      " 6   book_title     76699 non-null  object \n",
      " 7   book_author    76699 non-null  object \n",
      " 8   language       76699 non-null  object \n",
      " 9   years          76699 non-null  float64\n",
      " 10  new_publisher  76699 non-null  object \n",
      " 11  category_high  76699 non-null  object \n",
      " 12  rating         76699 non-null  float64\n",
      "dtypes: float64(2), int64(5), object(6)\n",
      "memory usage: 7.6+ MB\n"
     ]
    }
   ],
   "source": [
    "test_ratings['index'] = test_ratings.index\n",
    "test_df = pd.merge(books_final, test_ratings, how = 'left', on = 'isbn').dropna(subset = 'rating')\n",
    "test_df = pd.merge(users_final, test_df, how = 'left', on = 'user_id').dropna(subset = 'rating')\n",
    "test_df = test_df.sort_values('index').reset_index(drop = True).drop(columns = 'index')\n",
    "test_df.info()"
   ]
  },
  {
   "cell_type": "markdown",
   "metadata": {},
   "source": [
    "### `user_rating_avg`\n",
    "- `user_id`별 평균 `rating`의 값을 계산"
   ]
  },
  {
   "cell_type": "code",
   "execution_count": 109,
   "metadata": {},
   "outputs": [],
   "source": [
    "user_rating_avg = train_df.groupby('user_id', as_index = False)['rating'].mean().rename({'rating' : 'user_rating_avg'}, axis = 1)\n",
    "train_df = pd.merge(train_df, user_rating_avg, how = 'left', on = 'user_id')\n",
    "test_df = pd.merge(test_df, user_rating_avg, how = 'left', on = 'user_id')\n",
    "test_df['user_rating_avg'].fillna(train_df['rating'].mean(), inplace = True)"
   ]
  },
  {
   "cell_type": "markdown",
   "metadata": {},
   "source": [
    "### `book_rating_avg`\n",
    "- `isbn`별 평균 `rating`의 값을 계산"
   ]
  },
  {
   "cell_type": "code",
   "execution_count": 110,
   "metadata": {},
   "outputs": [],
   "source": [
    "book_rating_avg = train_df.groupby('isbn', as_index = False)['rating'].mean().rename({'rating' : 'book_rating_avg'}, axis = 1)\n",
    "train_df = pd.merge(train_df, book_rating_avg, how = 'left', on = 'isbn')\n",
    "test_df = pd.merge(test_df, book_rating_avg, how = 'left', on = 'isbn')\n",
    "test_df['book_rating_avg'].fillna(train_df['rating'].mean(), inplace = True)"
   ]
  },
  {
   "cell_type": "markdown",
   "metadata": {},
   "source": [
    "### `user_rating_cnt`\n",
    "- `user_id`별 `rating`의 수를 계산"
   ]
  },
  {
   "cell_type": "code",
   "execution_count": 111,
   "metadata": {},
   "outputs": [],
   "source": [
    "user_rating_cnt = train_df.groupby('user_id', as_index = False)['rating'].count().rename({'rating' : 'user_rating_cnt'}, axis = 1)\n",
    "train_df = pd.merge(train_df, user_rating_cnt, how = 'left', on = 'user_id')\n",
    "test_df = pd.merge(test_df, user_rating_cnt, how = 'left', on = 'user_id')\n",
    "test_df['user_rating_cnt'].fillna(train_df['rating'].mean(), inplace = True)"
   ]
  },
  {
   "cell_type": "code",
   "execution_count": 112,
   "metadata": {},
   "outputs": [],
   "source": [
    "train_df['user_id'] = train_df['user_id'].astype('str')\n",
    "train_df['city'] = train_df['city'].astype('str')\n",
    "train_df['state'] = train_df['state'].astype('str')\n",
    "train_df['country'] = train_df['country'].astype('str')\n",
    "train_df['new_age'] = train_df['new_age'].astype('category')\n",
    "train_df['years'] = train_df['years'].astype('int').astype('category')\n",
    "train_df['rating'] = train_df['rating'].astype('int')\n",
    "\n",
    "test_df['user_id'] = test_df['user_id'].astype('str')\n",
    "test_df['city'] = test_df['city'].astype('str')\n",
    "test_df['state'] = test_df['state'].astype('str')\n",
    "test_df['country'] = test_df['country'].astype('str')\n",
    "test_df['new_age'] = test_df['new_age'].astype('category')\n",
    "test_df['years'] = test_df['years'].astype('int').astype('category')\n",
    "test_df['rating'] = test_df['rating'].astype('int')"
   ]
  },
  {
   "cell_type": "code",
   "execution_count": 113,
   "metadata": {},
   "outputs": [
    {
     "name": "stdout",
     "output_type": "stream",
     "text": [
      "<class 'pandas.core.frame.DataFrame'>\n",
      "RangeIndex: 306795 entries, 0 to 306794\n",
      "Data columns (total 16 columns):\n",
      " #   Column           Non-Null Count   Dtype   \n",
      "---  ------           --------------   -----   \n",
      " 0   user_id          306795 non-null  object  \n",
      " 1   city             306795 non-null  object  \n",
      " 2   state            306795 non-null  object  \n",
      " 3   country          306795 non-null  object  \n",
      " 4   new_age          306795 non-null  category\n",
      " 5   isbn             306795 non-null  object  \n",
      " 6   book_title       306795 non-null  object  \n",
      " 7   book_author      306795 non-null  object  \n",
      " 8   language         306795 non-null  object  \n",
      " 9   years            306795 non-null  category\n",
      " 10  new_publisher    306795 non-null  object  \n",
      " 11  category_high    306795 non-null  object  \n",
      " 12  rating           306795 non-null  int64   \n",
      " 13  user_rating_avg  306795 non-null  float64 \n",
      " 14  book_rating_avg  306795 non-null  float64 \n",
      " 15  user_rating_cnt  306795 non-null  int64   \n",
      "dtypes: category(2), float64(2), int64(2), object(10)\n",
      "memory usage: 33.4+ MB\n"
     ]
    }
   ],
   "source": [
    "train_df.info()"
   ]
  },
  {
   "cell_type": "markdown",
   "metadata": {},
   "source": [
    "# Model\n"
   ]
  },
  {
   "cell_type": "markdown",
   "metadata": {},
   "source": [
    "- `Catboost` 학습용 데이터"
   ]
  },
  {
   "cell_type": "code",
   "execution_count": 123,
   "metadata": {},
   "outputs": [
    {
     "name": "stdout",
     "output_type": "stream",
     "text": [
      "(276115, 13) (276115,) (30680, 13) (30680,)\n"
     ]
    }
   ],
   "source": [
    "X_train, X_valid, y_train, y_valid = train_test_split(train_df.drop(columns = ['rating', 'user_rating_avg', 'book_rating_avg']), train_df['rating'],\n",
    "                                                      test_size = 0.1, random_state = SEED)\n",
    "print(X_train.shape, y_train.shape, X_valid.shape, y_valid.shape)"
   ]
  },
  {
   "cell_type": "markdown",
   "metadata": {},
   "source": [
    "- `LightGBM`, `XGBoost` 학습용 데이터\n",
    "    - `object`형이 들어가면 안되므로 LabelEncoding"
   ]
  },
  {
   "cell_type": "code",
   "execution_count": 11,
   "metadata": {},
   "outputs": [],
   "source": [
    "train_GB = train_df.copy()\n",
    "test_GB = test_df.copy()"
   ]
  },
  {
   "cell_type": "code",
   "execution_count": 12,
   "metadata": {},
   "outputs": [
    {
     "name": "stderr",
     "output_type": "stream",
     "text": [
      "100%|██████████| 52000/52000 [03:31<00:00, 245.40it/s]\n",
      "100%|██████████| 47721/47721 [02:43<00:00, 292.66it/s]\n",
      "100%|██████████| 23981/23981 [00:31<00:00, 761.14it/s]\n",
      "100%|██████████| 17/17 [00:00<00:00, 56951.41it/s]\n",
      "100%|██████████| 1024/1024 [00:00<00:00, 22252.79it/s]\n",
      "100%|██████████| 391/391 [00:00<00:00, 72651.97it/s]\n"
     ]
    }
   ],
   "source": [
    "cat_col = ['isbn', 'book_title', 'book_author', 'language', 'new_publisher', 'category_high']\n",
    "num_col = ['user_id', 'new_age', 'years', 'city', 'state', 'country']\n",
    "\n",
    "for col in cat_col :\n",
    "    le = LabelEncoder()\n",
    "    train_GB[col] = le.fit_transform(train_GB[col])\n",
    "    for label in tqdm.tqdm((test_GB[col].unique())) :\n",
    "        if label not in le.classes_ : \n",
    "            le.classes_ = np.append(le.classes_, label)\n",
    "    test_GB[col] = le.transform(test_GB[col])\n",
    "\n",
    "for col in num_col :\n",
    "    train_GB[col] = train_GB[col].astype(int)\n",
    "    test_GB[col] = test_GB[col].astype(int)"
   ]
  },
  {
   "cell_type": "code",
   "execution_count": null,
   "metadata": {},
   "outputs": [],
   "source": [
    "X_train, X_valid, y_train, y_valid = train_test_split(train_GB.drop(columns = 'rating'), train_GB['rating'],\n",
    "                                                      test_size = 0.1, random_state = SEED)\n",
    "print(X_train.shape, y_train.shape, X_valid.shape, y_valid.shape)"
   ]
  },
  {
   "cell_type": "markdown",
   "metadata": {},
   "source": [
    "## Catboost"
   ]
  },
  {
   "cell_type": "code",
   "execution_count": 127,
   "metadata": {},
   "outputs": [],
   "source": [
    "cat_col = train_df.columns[[i for i in range(0, 12)]].tolist()\n",
    "\n",
    "def objectiveCAT(trial : Trial, X_train, y_train, X_valid, y_valid) :\n",
    "    param = {\n",
    "        'depth' : trial.suggest_int('depth', 4, 15),\n",
    "        'learning_rate' : trial.suggest_categorical('learning_rate', [1e-3, 0.01, 0.1, 0.5]),\n",
    "        'colsample_bylevel' : trial.suggest_categorical('colsample_bylevel', [1e-3, 0.01, 0.1, 0.5, 1.0]),   \n",
    "        'boosting_type' : trial.suggest_categorical('boosting_type', ['Ordered', 'Plain']),\n",
    "        'bootstrap_type' : trial.suggest_categorical('bootstrap_type', ['Bayesian', 'Bernoulli', 'MVS'])\n",
    "    }\n",
    "\n",
    "    if param['bootstrap_type'] == 'Bayesian':\n",
    "        param['bagging_temperature'] = trial.suggest_float('bagging_temperature', 0, 10)\n",
    "        print(f'bagging_temperautre : {param[\"bagging_temperature\"]}')\n",
    "    elif param['bootstrap_type'] == 'Bernoulli':\n",
    "        param['subsample'] = trial.suggest_float('subsample', 0.1, 1)\n",
    "        print(f'subsample : {param[\"subsample\"]}')\n",
    "    \n",
    "    train_data = Pool(data = X_train, label = y_train, cat_features = cat_col)\n",
    "    valid_data = Pool(data = X_valid, label = y_valid, cat_features = cat_col)\n",
    "    \n",
    "    model = CatBoostRegressor(**param, iterations = 5000, loss_function = 'RMSE', eval_metric = 'RMSE',\n",
    "                              use_best_model = True, random_state = SEED, # task_type = 'GPU', devices = '0'\n",
    "                              cat_features = [i for i in range(0, 12)])\n",
    "    pruning_callback = CatBoostPruningCallback(trial, 'RMSE', eval_set_index = 1)\n",
    "    cat_model = model.fit(train_data, eval_set = [train_data, valid_data], verbose = 500, use_best_model = True,\n",
    "                          early_stopping_rounds = 100, callbacks = [pruning_callback])\n",
    "    pruning_callback.check_pruned()\n",
    "    \n",
    "    score = mean_squared_error(y_valid, cat_model.predict(X_valid), squared = False)\n",
    "    return score"
   ]
  },
  {
   "cell_type": "code",
   "execution_count": 128,
   "metadata": {},
   "outputs": [
    {
     "name": "stderr",
     "output_type": "stream",
     "text": [
      "[I 2023-12-19 16:58:06,128] A new study created in memory with name: no-name-69acdddc-c1ef-4d63-a4e5-6ed4a6372e98\n"
     ]
    },
    {
     "name": "stdout",
     "output_type": "stream",
     "text": [
      "bagging_temperautre : 1.8340450985343382\n",
      "0:\tlearn: 2.4327710\ttest: 2.4326651\ttest1: 2.4347743\tbest: 2.4347743 (0)\ttotal: 158ms\tremaining: 13m 7s\n",
      "500:\tlearn: 2.3506435\ttest: 2.2645343\ttest1: 2.3372405\tbest: 2.3372405 (500)\ttotal: 1m 12s\tremaining: 10m 53s\n",
      "1000:\tlearn: 2.2979366\ttest: 2.1293432\ttest1: 2.2728769\tbest: 2.2728769 (1000)\ttotal: 2m 28s\tremaining: 9m 51s\n",
      "1500:\tlearn: 2.2647802\ttest: 2.0328896\ttest1: 2.2319211\tbest: 2.2319211 (1500)\ttotal: 3m 42s\tremaining: 8m 39s\n",
      "2000:\tlearn: 2.2425798\ttest: 1.9578500\ttest1: 2.2040219\tbest: 2.2040219 (2000)\ttotal: 5m 2s\tremaining: 7m 33s\n",
      "2500:\tlearn: 2.2282150\ttest: 1.9012195\ttest1: 2.1858264\tbest: 2.1858264 (2500)\ttotal: 6m 22s\tremaining: 6m 22s\n",
      "3000:\tlearn: 2.2183715\ttest: 1.8609896\ttest1: 2.1734387\tbest: 2.1734387 (3000)\ttotal: 7m 45s\tremaining: 5m 10s\n",
      "3500:\tlearn: 2.2118291\ttest: 1.8312756\ttest1: 2.1651898\tbest: 2.1651898 (3500)\ttotal: 9m 5s\tremaining: 3m 53s\n",
      "4000:\tlearn: 2.2069630\ttest: 1.8075060\ttest1: 2.1591709\tbest: 2.1591709 (4000)\ttotal: 10m 25s\tremaining: 2m 36s\n",
      "4500:\tlearn: 2.2033497\ttest: 1.7888319\ttest1: 2.1547222\tbest: 2.1547222 (4500)\ttotal: 11m 45s\tremaining: 1m 18s\n",
      "4999:\tlearn: 2.2007315\ttest: 1.7766137\ttest1: 2.1516812\tbest: 2.1516812 (4999)\ttotal: 13m\tremaining: 0us\n",
      "\n",
      "bestTest = 2.151681184\n",
      "bestIteration = 4999\n",
      "\n"
     ]
    },
    {
     "name": "stderr",
     "output_type": "stream",
     "text": [
      "[I 2023-12-19 17:11:54,793] Trial 0 finished with value: 2.151681183968729 and parameters: {'depth': 8, 'learning_rate': 0.001, 'colsample_bylevel': 0.1, 'boosting_type': 'Plain', 'bootstrap_type': 'Bayesian', 'bagging_temperature': 1.8340450985343382}. Best is trial 0 with value: 2.151681183968729.\n"
     ]
    },
    {
     "name": "stdout",
     "output_type": "stream",
     "text": [
      "0:\tlearn: 2.3058975\ttest: 2.2155787\ttest1: 2.2824648\tbest: 2.2824648 (0)\ttotal: 163ms\tremaining: 13m 36s\n",
      "Stopped by overfitting detector  (100 iterations wait)\n",
      "\n",
      "bestTest = 2.132245867\n",
      "bestIteration = 136\n",
      "\n",
      "Shrink model to first 137 iterations.\n"
     ]
    },
    {
     "name": "stderr",
     "output_type": "stream",
     "text": [
      "[I 2023-12-19 17:13:21,202] Trial 1 finished with value: 2.1322458669261937 and parameters: {'depth': 7, 'learning_rate': 0.5, 'colsample_bylevel': 1.0, 'boosting_type': 'Plain', 'bootstrap_type': 'MVS'}. Best is trial 1 with value: 2.1322458669261937.\n"
     ]
    },
    {
     "name": "stdout",
     "output_type": "stream",
     "text": [
      "bagging_temperautre : 3.1171107608941098\n",
      "0:\tlearn: 2.4109997\ttest: 2.4015588\ttest1: 2.4107093\tbest: 2.4107093 (0)\ttotal: 157ms\tremaining: 13m 2s\n",
      "500:\tlearn: 2.1869598\ttest: 1.7356086\ttest1: 2.1389918\tbest: 2.1389790 (491)\ttotal: 42.8s\tremaining: 6m 23s\n",
      "1000:\tlearn: 2.1797164\ttest: 1.7170169\ttest1: 2.1353843\tbest: 2.1353747 (996)\ttotal: 1m 26s\tremaining: 5m 46s\n",
      "1500:\tlearn: 2.1753845\ttest: 1.6997372\ttest1: 2.1338707\tbest: 2.1338707 (1500)\ttotal: 2m 10s\tremaining: 5m 4s\n",
      "2000:\tlearn: 2.1713822\ttest: 1.6905048\ttest1: 2.1324423\tbest: 2.1324280 (1992)\ttotal: 2m 53s\tremaining: 4m 20s\n",
      "2500:\tlearn: 2.1685165\ttest: 1.6829002\ttest1: 2.1318841\tbest: 2.1318841 (2497)\ttotal: 3m 33s\tremaining: 3m 33s\n",
      "3000:\tlearn: 2.1653009\ttest: 1.6783390\ttest1: 2.1312761\tbest: 2.1312597 (2972)\ttotal: 4m 18s\tremaining: 2m 51s\n",
      "3500:\tlearn: 2.1628268\ttest: 1.6740158\ttest1: 2.1309582\tbest: 2.1308993 (3465)\ttotal: 4m 58s\tremaining: 2m 7s\n",
      "Stopped by overfitting detector  (100 iterations wait)\n",
      "\n",
      "bestTest = 2.130899267\n",
      "bestIteration = 3465\n",
      "\n",
      "Shrink model to first 3466 iterations.\n"
     ]
    },
    {
     "name": "stderr",
     "output_type": "stream",
     "text": [
      "[I 2023-12-19 17:18:52,486] Trial 2 finished with value: 2.130899267012221 and parameters: {'depth': 6, 'learning_rate': 0.1, 'colsample_bylevel': 0.1, 'boosting_type': 'Ordered', 'bootstrap_type': 'Bayesian', 'bagging_temperature': 3.1171107608941098}. Best is trial 2 with value: 2.130899267012221.\n"
     ]
    },
    {
     "name": "stdout",
     "output_type": "stream",
     "text": [
      "subsample : 0.8458637582367364\n",
      "0:\tlearn: 2.4330099\ttest: 2.4330099\ttest1: 2.4350364\tbest: 2.4350364 (0)\ttotal: 12.6ms\tremaining: 1m 3s\n",
      "Stopped by overfitting detector  (100 iterations wait)\n",
      "\n",
      "bestTest = 2.434708763\n",
      "bestIteration = 84\n",
      "\n",
      "Shrink model to first 85 iterations.\n"
     ]
    },
    {
     "name": "stderr",
     "output_type": "stream",
     "text": [
      "[I 2023-12-19 17:18:55,743] Trial 3 finished with value: 2.434708762866734 and parameters: {'depth': 10, 'learning_rate': 0.1, 'colsample_bylevel': 0.001, 'boosting_type': 'Ordered', 'bootstrap_type': 'Bernoulli', 'subsample': 0.8458637582367364}. Best is trial 2 with value: 2.130899267012221.\n"
     ]
    },
    {
     "name": "stdout",
     "output_type": "stream",
     "text": [
      "subsample : 0.4226191556898453\n",
      "0:\tlearn: 2.4330099\ttest: 2.4330099\ttest1: 2.4350364\tbest: 2.4350364 (0)\ttotal: 15.4ms\tremaining: 1m 16s\n",
      "500:\tlearn: 2.2256931\ttest: 2.0177565\ttest1: 2.1877384\tbest: 2.1877384 (500)\ttotal: 4.48s\tremaining: 40.2s\n",
      "1000:\tlearn: 2.2148958\ttest: 1.9798379\ttest1: 2.1738311\tbest: 2.1738309 (992)\ttotal: 8.84s\tremaining: 35.3s\n",
      "1500:\tlearn: 2.2109967\ttest: 1.9494745\ttest1: 2.1695965\tbest: 2.1695965 (1500)\ttotal: 13.2s\tremaining: 30.8s\n",
      "2000:\tlearn: 2.2039426\ttest: 1.8782545\ttest1: 2.1583775\tbest: 2.1583775 (1992)\ttotal: 17.4s\tremaining: 26.1s\n",
      "2500:\tlearn: 2.2025586\ttest: 1.8660076\ttest1: 2.1558703\tbest: 2.1558682 (2493)\ttotal: 21.9s\tremaining: 21.9s\n",
      "3000:\tlearn: 2.2012495\ttest: 1.8614560\ttest1: 2.1543681\tbest: 2.1543681 (2985)\ttotal: 26.4s\tremaining: 17.6s\n",
      "Stopped by overfitting detector  (100 iterations wait)\n",
      "\n",
      "bestTest = 2.154368095\n",
      "bestIteration = 2985\n",
      "\n",
      "Shrink model to first 2986 iterations.\n"
     ]
    },
    {
     "name": "stderr",
     "output_type": "stream",
     "text": [
      "[I 2023-12-19 17:19:40,486] Trial 4 finished with value: 2.1543680946450023 and parameters: {'depth': 8, 'learning_rate': 0.5, 'colsample_bylevel': 0.01, 'boosting_type': 'Ordered', 'bootstrap_type': 'Bernoulli', 'subsample': 0.4226191556898453}. Best is trial 2 with value: 2.130899267012221.\n"
     ]
    },
    {
     "name": "stdout",
     "output_type": "stream",
     "text": [
      "subsample : 0.7938704619591049\n",
      "0:\tlearn: 2.4326908\ttest: 2.4325202\ttest1: 2.4346524\tbest: 2.4346524 (0)\ttotal: 156ms\tremaining: 12m 57s\n"
     ]
    },
    {
     "name": "stderr",
     "output_type": "stream",
     "text": [
      "[I 2023-12-19 17:19:43,155] Trial 5 pruned. Trial was pruned at iteration 11.\n"
     ]
    },
    {
     "name": "stdout",
     "output_type": "stream",
     "text": [
      "\n",
      "bestTest = 2.430482947\n",
      "bestIteration = 11\n",
      "\n",
      "Shrink model to first 12 iterations.\n",
      "bagging_temperautre : 2.8975145291376805\n",
      "0:\tlearn: 2.4326671\ttest: 2.4324947\ttest1: 2.4346402\tbest: 2.4346402 (0)\ttotal: 253ms\tremaining: 21m 3s\n"
     ]
    },
    {
     "name": "stderr",
     "output_type": "stream",
     "text": [
      "[I 2023-12-19 17:19:46,839] Trial 6 pruned. Trial was pruned at iteration 11.\n"
     ]
    },
    {
     "name": "stdout",
     "output_type": "stream",
     "text": [
      "\n",
      "bestTest = 2.430341967\n",
      "bestIteration = 11\n",
      "\n",
      "Shrink model to first 12 iterations.\n"
     ]
    },
    {
     "name": "stderr",
     "output_type": "stream",
     "text": [
      "[I 2023-12-19 17:19:48,454] Trial 7 pruned. Trial was pruned at iteration 0.\n"
     ]
    },
    {
     "name": "stdout",
     "output_type": "stream",
     "text": [
      "0:\tlearn: 2.4327780\ttest: 2.4326665\ttest1: 2.4347808\tbest: 2.4347808 (0)\ttotal: 140ms\tremaining: 11m 38s\n",
      "\n",
      "bestTest = 2.43478078\n",
      "bestIteration = 0\n",
      "\n",
      "Shrink model to first 1 iterations.\n",
      "subsample : 0.3266040662428278\n",
      "0:\tlearn: 2.4326612\ttest: 2.4324984\ttest1: 2.4346380\tbest: 2.4346380 (0)\ttotal: 532ms\tremaining: 44m 20s\n"
     ]
    },
    {
     "name": "stderr",
     "output_type": "stream",
     "text": [
      "[I 2023-12-19 17:19:55,466] Trial 8 pruned. Trial was pruned at iteration 11.\n"
     ]
    },
    {
     "name": "stdout",
     "output_type": "stream",
     "text": [
      "\n",
      "bestTest = 2.430370788\n",
      "bestIteration = 11\n",
      "\n",
      "Shrink model to first 12 iterations.\n",
      "bagging_temperautre : 7.616196153287175\n",
      "0:\tlearn: 2.3634759\ttest: 2.3479772\ttest1: 2.3629348\tbest: 2.3629348 (0)\ttotal: 317ms\tremaining: 26m 23s\n",
      "Stopped by overfitting detector  (100 iterations wait)\n",
      "\n",
      "bestTest = 2.174341747\n",
      "bestIteration = 63\n",
      "\n",
      "Shrink model to first 64 iterations.\n"
     ]
    },
    {
     "name": "stderr",
     "output_type": "stream",
     "text": [
      "[I 2023-12-19 17:21:03,560] Trial 9 finished with value: 2.1743417473770097 and parameters: {'depth': 9, 'learning_rate': 0.5, 'colsample_bylevel': 0.5, 'boosting_type': 'Plain', 'bootstrap_type': 'Bayesian', 'bagging_temperature': 7.616196153287175}. Best is trial 2 with value: 2.130899267012221.\n"
     ]
    },
    {
     "name": "stdout",
     "output_type": "stream",
     "text": [
      "bagging_temperautre : 5.7520806681527255\n"
     ]
    },
    {
     "name": "stderr",
     "output_type": "stream",
     "text": [
      "[I 2023-12-19 17:21:08,033] Trial 10 pruned. Trial was pruned at iteration 2.\n"
     ]
    },
    {
     "name": "stdout",
     "output_type": "stream",
     "text": [
      "0:\tlearn: 2.4053438\ttest: 2.3926429\ttest1: 2.4031940\tbest: 2.4031940 (0)\ttotal: 2.63s\tremaining: 3h 39m\n",
      "\n",
      "bestTest = 2.403194036\n",
      "bestIteration = 0\n",
      "\n",
      "Shrink model to first 1 iterations.\n"
     ]
    },
    {
     "name": "stderr",
     "output_type": "stream",
     "text": [
      "[I 2023-12-19 17:21:09,647] Trial 11 pruned. Trial was pruned at iteration 0.\n"
     ]
    },
    {
     "name": "stdout",
     "output_type": "stream",
     "text": [
      "0:\tlearn: 2.4299843\ttest: 2.4283092\ttest1: 2.4314320\tbest: 2.4314320 (0)\ttotal: 124ms\tremaining: 10m 18s\n",
      "\n",
      "bestTest = 2.43143204\n",
      "bestIteration = 0\n",
      "\n",
      "Shrink model to first 1 iterations.\n"
     ]
    },
    {
     "name": "stderr",
     "output_type": "stream",
     "text": [
      "[I 2023-12-19 17:21:11,227] Trial 12 pruned. Trial was pruned at iteration 0.\n"
     ]
    },
    {
     "name": "stdout",
     "output_type": "stream",
     "text": [
      "0:\tlearn: 2.4330099\ttest: 2.4330099\ttest1: 2.4350364\tbest: 2.4350364 (0)\ttotal: 10.2ms\tremaining: 51s\n",
      "\n",
      "bestTest = 2.435036413\n",
      "bestIteration = 0\n",
      "\n",
      "Shrink model to first 1 iterations.\n"
     ]
    },
    {
     "name": "stderr",
     "output_type": "stream",
     "text": [
      "[I 2023-12-19 17:21:12,887] Trial 13 pruned. Trial was pruned at iteration 0.\n"
     ]
    },
    {
     "name": "stdout",
     "output_type": "stream",
     "text": [
      "0:\tlearn: 2.4330099\ttest: 2.4330099\ttest1: 2.4350364\tbest: 2.4350364 (0)\ttotal: 15.2ms\tremaining: 1m 15s\n",
      "\n",
      "bestTest = 2.435036412\n",
      "bestIteration = 0\n",
      "\n",
      "Shrink model to first 1 iterations.\n"
     ]
    },
    {
     "name": "stderr",
     "output_type": "stream",
     "text": [
      "[I 2023-12-19 17:21:14,839] Trial 14 pruned. Trial was pruned at iteration 0.\n"
     ]
    },
    {
     "name": "stdout",
     "output_type": "stream",
     "text": [
      "0:\tlearn: 2.4299255\ttest: 2.4286223\ttest1: 2.4316241\tbest: 2.4316241 (0)\ttotal: 378ms\tremaining: 31m 27s\n",
      "\n",
      "bestTest = 2.431624112\n",
      "bestIteration = 0\n",
      "\n",
      "Shrink model to first 1 iterations.\n",
      "bagging_temperautre : 0.07798021980756209\n",
      "0:\tlearn: 2.3083628\ttest: 2.2179189\ttest1: 2.2853375\tbest: 2.2853375 (0)\ttotal: 221ms\tremaining: 18m 23s\n",
      "500:\tlearn: 2.1726449\ttest: 1.6928575\ttest1: 2.1292346\tbest: 2.1291267 (412)\ttotal: 2m 45s\tremaining: 24m 48s\n",
      "Stopped by overfitting detector  (100 iterations wait)\n",
      "\n",
      "bestTest = 2.129126695\n",
      "bestIteration = 412\n",
      "\n",
      "Shrink model to first 413 iterations.\n"
     ]
    },
    {
     "name": "stderr",
     "output_type": "stream",
     "text": [
      "[I 2023-12-19 17:24:06,817] Trial 15 finished with value: 2.1291266953231833 and parameters: {'depth': 6, 'learning_rate': 0.5, 'colsample_bylevel': 1.0, 'boosting_type': 'Ordered', 'bootstrap_type': 'Bayesian', 'bagging_temperature': 0.07798021980756209}. Best is trial 15 with value: 2.1291266953231833.\n"
     ]
    },
    {
     "name": "stdout",
     "output_type": "stream",
     "text": [
      "bagging_temperautre : 0.08133331339276108\n",
      "0:\tlearn: 2.4039662\ttest: 2.3872889\ttest1: 2.4003665\tbest: 2.4003665 (0)\ttotal: 179ms\tremaining: 14m 55s\n",
      "500:\tlearn: 2.1847667\ttest: 1.7052871\ttest1: 2.1327647\tbest: 2.1327647 (500)\ttotal: 1m 37s\tremaining: 14m 33s\n",
      "1000:\tlearn: 2.1816947\ttest: 1.6984299\ttest1: 2.1304389\tbest: 2.1304376 (991)\ttotal: 2m 57s\tremaining: 11m 47s\n",
      "Stopped by overfitting detector  (100 iterations wait)\n",
      "\n",
      "bestTest = 2.130122815\n",
      "bestIteration = 1367\n",
      "\n",
      "Shrink model to first 1368 iterations.\n"
     ]
    },
    {
     "name": "stderr",
     "output_type": "stream",
     "text": [
      "[I 2023-12-19 17:28:07,366] Trial 16 finished with value: 2.1301228153911445 and parameters: {'depth': 4, 'learning_rate': 0.1, 'colsample_bylevel': 1.0, 'boosting_type': 'Ordered', 'bootstrap_type': 'Bayesian', 'bagging_temperature': 0.08133331339276108}. Best is trial 15 with value: 2.1291266953231833.\n"
     ]
    },
    {
     "name": "stdout",
     "output_type": "stream",
     "text": [
      "bagging_temperautre : 0.45324558911159935\n",
      "0:\tlearn: 2.3162377\ttest: 2.2356755\ttest1: 2.2942734\tbest: 2.2942734 (0)\ttotal: 165ms\tremaining: 13m 46s\n",
      "500:\tlearn: 2.1775916\ttest: 1.7001252\ttest1: 2.1319810\tbest: 2.1319301 (443)\ttotal: 1m 37s\tremaining: 14m 32s\n",
      "Stopped by overfitting detector  (100 iterations wait)\n",
      "\n",
      "bestTest = 2.131930083\n",
      "bestIteration = 443\n",
      "\n",
      "Shrink model to first 444 iterations.\n"
     ]
    },
    {
     "name": "stderr",
     "output_type": "stream",
     "text": [
      "[I 2023-12-19 17:29:53,722] Trial 17 finished with value: 2.1319300831913184 and parameters: {'depth': 4, 'learning_rate': 0.5, 'colsample_bylevel': 1.0, 'boosting_type': 'Ordered', 'bootstrap_type': 'Bayesian', 'bagging_temperature': 0.45324558911159935}. Best is trial 15 with value: 2.1291266953231833.\n"
     ]
    },
    {
     "name": "stdout",
     "output_type": "stream",
     "text": [
      "bagging_temperautre : 0.15208955238241248\n",
      "0:\tlearn: 2.4039662\ttest: 2.3872889\ttest1: 2.4003665\tbest: 2.4003665 (0)\ttotal: 164ms\tremaining: 13m 41s\n"
     ]
    },
    {
     "name": "stderr",
     "output_type": "stream",
     "text": [
      "[I 2023-12-19 17:29:56,785] Trial 18 pruned. Trial was pruned at iteration 14.\n"
     ]
    },
    {
     "name": "stdout",
     "output_type": "stream",
     "text": [
      "\n",
      "bestTest = 2.216056652\n",
      "bestIteration = 14\n",
      "\n",
      "Shrink model to first 15 iterations.\n",
      "bagging_temperautre : 0.04719272677899547\n"
     ]
    },
    {
     "name": "stderr",
     "output_type": "stream",
     "text": [
      "[I 2023-12-19 17:29:58,956] Trial 19 pruned. Trial was pruned at iteration 0.\n"
     ]
    },
    {
     "name": "stdout",
     "output_type": "stream",
     "text": [
      "0:\tlearn: 2.4296669\ttest: 2.4278100\ttest1: 2.4311012\tbest: 2.4311012 (0)\ttotal: 640ms\tremaining: 53m 21s\n",
      "\n",
      "bestTest = 2.431101201\n",
      "bestIteration = 0\n",
      "\n",
      "Shrink model to first 1 iterations.\n",
      "bagging_temperautre : 9.432351155839946\n"
     ]
    },
    {
     "name": "stderr",
     "output_type": "stream",
     "text": [
      "[I 2023-12-19 17:30:00,766] Trial 20 pruned. Trial was pruned at iteration 0.\n"
     ]
    },
    {
     "name": "stdout",
     "output_type": "stream",
     "text": [
      "0:\tlearn: 2.4260271\ttest: 2.4236734\ttest1: 2.4276301\tbest: 2.4276301 (0)\ttotal: 248ms\tremaining: 20m 40s\n",
      "\n",
      "bestTest = 2.427630143\n",
      "bestIteration = 0\n",
      "\n",
      "Shrink model to first 1 iterations.\n",
      "bagging_temperautre : 3.199910760028959\n"
     ]
    },
    {
     "name": "stderr",
     "output_type": "stream",
     "text": [
      "[I 2023-12-19 17:30:02,477] Trial 21 pruned. Trial was pruned at iteration 0.\n"
     ]
    },
    {
     "name": "stdout",
     "output_type": "stream",
     "text": [
      "0:\tlearn: 2.4109997\ttest: 2.4015588\ttest1: 2.4107093\tbest: 2.4107093 (0)\ttotal: 148ms\tremaining: 12m 19s\n",
      "\n",
      "bestTest = 2.410709349\n",
      "bestIteration = 0\n",
      "\n",
      "Shrink model to first 1 iterations.\n",
      "bagging_temperautre : 2.368102898889613\n"
     ]
    },
    {
     "name": "stderr",
     "output_type": "stream",
     "text": [
      "[I 2023-12-19 17:30:04,046] Trial 22 pruned. Trial was pruned at iteration 0.\n"
     ]
    },
    {
     "name": "stdout",
     "output_type": "stream",
     "text": [
      "0:\tlearn: 2.4330099\ttest: 2.4330099\ttest1: 2.4350364\tbest: 2.4350364 (0)\ttotal: 12.3ms\tremaining: 1m 1s\n",
      "\n",
      "bestTest = 2.435036412\n",
      "bestIteration = 0\n",
      "\n",
      "Shrink model to first 1 iterations.\n",
      "bagging_temperautre : 4.680249297514132\n",
      "0:\tlearn: 2.4029125\ttest: 2.3851826\ttest1: 2.4008817\tbest: 2.4008817 (0)\ttotal: 359ms\tremaining: 29m 52s\n",
      "\n",
      "bestTest = 2.400881716\n",
      "bestIteration = 0\n",
      "\n",
      "Shrink model to first 1 iterations.\n"
     ]
    },
    {
     "name": "stderr",
     "output_type": "stream",
     "text": [
      "[I 2023-12-19 17:30:06,478] Trial 23 pruned. Trial was pruned at iteration 0.\n"
     ]
    },
    {
     "name": "stdout",
     "output_type": "stream",
     "text": [
      "bagging_temperautre : 1.1718144470138676\n"
     ]
    },
    {
     "name": "stderr",
     "output_type": "stream",
     "text": [
      "[I 2023-12-19 17:30:08,118] Trial 24 pruned. Trial was pruned at iteration 0.\n"
     ]
    },
    {
     "name": "stdout",
     "output_type": "stream",
     "text": [
      "0:\tlearn: 2.4330099\ttest: 2.4330099\ttest1: 2.4350364\tbest: 2.4350364 (0)\ttotal: 13.5ms\tremaining: 1m 7s\n",
      "\n",
      "bestTest = 2.435036413\n",
      "bestIteration = 0\n",
      "\n",
      "Shrink model to first 1 iterations.\n",
      "bagging_temperautre : 4.612554897094995\n"
     ]
    },
    {
     "name": "stderr",
     "output_type": "stream",
     "text": [
      "[I 2023-12-19 17:30:10,131] Trial 25 pruned. Trial was pruned at iteration 0.\n"
     ]
    },
    {
     "name": "stdout",
     "output_type": "stream",
     "text": [
      "0:\tlearn: 2.4142290\ttest: 2.4004835\ttest1: 2.4128064\tbest: 2.4128064 (0)\ttotal: 229ms\tremaining: 19m 3s\n",
      "\n",
      "bestTest = 2.41280642\n",
      "bestIteration = 0\n",
      "\n",
      "Shrink model to first 1 iterations.\n",
      "bagging_temperautre : 1.5854348719832752\n",
      "0:\tlearn: 2.4020467\ttest: 2.3832725\ttest1: 2.3981280\tbest: 2.3981280 (0)\ttotal: 202ms\tremaining: 16m 51s\n",
      "500:\tlearn: 2.1803675\ttest: 1.7055767\ttest1: 2.1324006\tbest: 2.1324006 (500)\ttotal: 3m 17s\tremaining: 29m 32s\n",
      "1000:\tlearn: 2.1743923\ttest: 1.6944649\ttest1: 2.1305142\tbest: 2.1304921 (986)\ttotal: 6m 35s\tremaining: 26m 19s\n",
      "1500:\tlearn: 2.1705751\ttest: 1.6858156\ttest1: 2.1299844\tbest: 2.1299270 (1409)\ttotal: 9m 45s\tremaining: 22m 44s\n",
      "Stopped by overfitting detector  (100 iterations wait)\n",
      "\n",
      "bestTest = 2.129926999\n",
      "bestIteration = 1409\n",
      "\n",
      "Shrink model to first 1410 iterations.\n"
     ]
    },
    {
     "name": "stderr",
     "output_type": "stream",
     "text": [
      "[I 2023-12-19 17:40:06,636] Trial 26 finished with value: 2.129926999408731 and parameters: {'depth': 6, 'learning_rate': 0.1, 'colsample_bylevel': 1.0, 'boosting_type': 'Ordered', 'bootstrap_type': 'Bayesian', 'bagging_temperature': 1.5854348719832752}. Best is trial 15 with value: 2.1291266953231833.\n"
     ]
    },
    {
     "name": "stdout",
     "output_type": "stream",
     "text": [
      "bagging_temperautre : 1.448920329253454\n",
      "0:\tlearn: 2.3162377\ttest: 2.2356755\ttest1: 2.2942734\tbest: 2.2942734 (0)\ttotal: 160ms\tremaining: 13m 22s\n",
      "\n",
      "bestTest = 2.135286114\n",
      "bestIteration = 232\n",
      "\n",
      "Shrink model to first 233 iterations.\n"
     ]
    },
    {
     "name": "stderr",
     "output_type": "stream",
     "text": [
      "[I 2023-12-19 17:41:12,211] Trial 27 pruned. Trial was pruned at iteration 318.\n"
     ]
    },
    {
     "name": "stdout",
     "output_type": "stream",
     "text": [
      "bagging_temperautre : 1.0081694553589846\n"
     ]
    },
    {
     "name": "stderr",
     "output_type": "stream",
     "text": [
      "[I 2023-12-19 17:41:13,994] Trial 28 pruned. Trial was pruned at iteration 0.\n"
     ]
    },
    {
     "name": "stdout",
     "output_type": "stream",
     "text": [
      "0:\tlearn: 2.4297237\ttest: 2.4278419\ttest1: 2.4311337\tbest: 2.4311337 (0)\ttotal: 257ms\tremaining: 21m 26s\n",
      "\n",
      "bestTest = 2.431133669\n",
      "bestIteration = 0\n",
      "\n",
      "Shrink model to first 1 iterations.\n",
      "bagging_temperautre : 1.8630101685933074\n",
      "0:\tlearn: 2.4008041\ttest: 2.3818831\ttest1: 2.3966062\tbest: 2.3966062 (0)\ttotal: 309ms\tremaining: 25m 42s\n",
      "500:\tlearn: 2.1745409\ttest: 1.6978138\ttest1: 2.1317116\tbest: 2.1317094 (498)\ttotal: 4m 59s\tremaining: 44m 46s\n",
      "1000:\tlearn: 2.1666606\ttest: 1.6886388\ttest1: 2.1299779\tbest: 2.1299403 (931)\ttotal: 9m 49s\tremaining: 39m 15s\n",
      "1500:\tlearn: 2.1611703\ttest: 1.6859133\ttest1: 2.1293839\tbest: 2.1293298 (1406)\ttotal: 14m 32s\tremaining: 33m 54s\n",
      "Stopped by overfitting detector  (100 iterations wait)\n",
      "\n",
      "bestTest = 2.129329796\n",
      "bestIteration = 1406\n",
      "\n",
      "Shrink model to first 1407 iterations.\n"
     ]
    },
    {
     "name": "stderr",
     "output_type": "stream",
     "text": [
      "[I 2023-12-19 17:55:58,868] Trial 29 finished with value: 2.1293297959325224 and parameters: {'depth': 8, 'learning_rate': 0.1, 'colsample_bylevel': 1.0, 'boosting_type': 'Ordered', 'bootstrap_type': 'Bayesian', 'bagging_temperature': 1.8630101685933074}. Best is trial 15 with value: 2.1291266953231833.\n"
     ]
    },
    {
     "name": "stdout",
     "output_type": "stream",
     "text": [
      "subsample : 0.11624692077757404\n",
      "0:\tlearn: 2.3083112\ttest: 2.2200959\ttest1: 2.2863642\tbest: 2.2863642 (0)\ttotal: 396ms\tremaining: 32m 59s\n",
      "\n",
      "bestTest = 2.139905778\n",
      "bestIteration = 111\n",
      "\n",
      "Shrink model to first 112 iterations.\n"
     ]
    },
    {
     "name": "stderr",
     "output_type": "stream",
     "text": [
      "[I 2023-12-19 17:57:30,399] Trial 30 pruned. Trial was pruned at iteration 163.\n"
     ]
    },
    {
     "name": "stdout",
     "output_type": "stream",
     "text": [
      "bagging_temperautre : 0.008498690088857619\n",
      "0:\tlearn: 2.4011969\ttest: 2.3823364\ttest1: 2.3971488\tbest: 2.3971488 (0)\ttotal: 287ms\tremaining: 23m 53s\n"
     ]
    },
    {
     "name": "stderr",
     "output_type": "stream",
     "text": [
      "[I 2023-12-19 17:57:33,563] Trial 31 pruned. Trial was pruned at iteration 5.\n"
     ]
    },
    {
     "name": "stdout",
     "output_type": "stream",
     "text": [
      "\n",
      "bestTest = 2.284859093\n",
      "bestIteration = 5\n",
      "\n",
      "Shrink model to first 6 iterations.\n",
      "bagging_temperautre : 1.847092396596867\n",
      "0:\tlearn: 2.4018721\ttest: 2.3831021\ttest1: 2.3977994\tbest: 2.3977994 (0)\ttotal: 216ms\tremaining: 17m 59s\n"
     ]
    },
    {
     "name": "stderr",
     "output_type": "stream",
     "text": [
      "[I 2023-12-19 17:57:36,240] Trial 32 pruned. Trial was pruned at iteration 5.\n"
     ]
    },
    {
     "name": "stdout",
     "output_type": "stream",
     "text": [
      "\n",
      "bestTest = 2.283010539\n",
      "bestIteration = 5\n",
      "\n",
      "Shrink model to first 6 iterations.\n",
      "bagging_temperautre : 0.9972420123085286\n",
      "0:\tlearn: 2.4014491\ttest: 2.3827167\ttest1: 2.3974842\tbest: 2.3974842 (0)\ttotal: 253ms\tremaining: 21m 7s\n",
      "\n",
      "bestTest = 2.282743121\n",
      "bestIteration = 5\n",
      "\n",
      "Shrink model to first 6 iterations.\n"
     ]
    },
    {
     "name": "stderr",
     "output_type": "stream",
     "text": [
      "[I 2023-12-19 17:57:39,717] Trial 33 pruned. Trial was pruned at iteration 5.\n"
     ]
    },
    {
     "name": "stdout",
     "output_type": "stream",
     "text": [
      "bagging_temperautre : 4.004530042092448\n"
     ]
    },
    {
     "name": "stderr",
     "output_type": "stream",
     "text": [
      "[I 2023-12-19 17:57:41,543] Trial 34 pruned. Trial was pruned at iteration 0.\n"
     ]
    },
    {
     "name": "stdout",
     "output_type": "stream",
     "text": [
      "0:\tlearn: 2.4021229\ttest: 2.3831845\ttest1: 2.3986433\tbest: 2.3986433 (0)\ttotal: 187ms\tremaining: 15m 35s\n",
      "\n",
      "bestTest = 2.398643261\n",
      "bestIteration = 0\n",
      "\n",
      "Shrink model to first 1 iterations.\n",
      "bagging_temperautre : 2.3337549703335094\n",
      "0:\tlearn: 2.4003148\ttest: 2.3814329\ttest1: 2.3962193\tbest: 2.3962193 (0)\ttotal: 279ms\tremaining: 23m 14s\n",
      "\n",
      "bestTest = 2.13702552\n",
      "bestIteration = 183\n",
      "\n",
      "Shrink model to first 184 iterations.\n"
     ]
    },
    {
     "name": "stderr",
     "output_type": "stream",
     "text": [
      "[I 2023-12-19 17:59:26,089] Trial 35 pruned. Trial was pruned at iteration 185.\n"
     ]
    },
    {
     "name": "stdout",
     "output_type": "stream",
     "text": [
      "bagging_temperautre : 0.7616104872394438\n"
     ]
    },
    {
     "name": "stderr",
     "output_type": "stream",
     "text": [
      "[I 2023-12-19 17:59:27,607] Trial 36 pruned. Trial was pruned at iteration 0.\n"
     ]
    },
    {
     "name": "stdout",
     "output_type": "stream",
     "text": [
      "0:\tlearn: 2.4330099\ttest: 2.4330099\ttest1: 2.4350364\tbest: 2.4350364 (0)\ttotal: 13.7ms\tremaining: 1m 8s\n",
      "\n",
      "bestTest = 2.435036412\n",
      "bestIteration = 0\n",
      "\n",
      "Shrink model to first 1 iterations.\n",
      "subsample : 0.9738981585202802\n",
      "0:\tlearn: 2.3056001\ttest: 2.2143014\ttest1: 2.2817672\tbest: 2.2817672 (0)\ttotal: 222ms\tremaining: 18m 27s\n",
      "500:\tlearn: 2.1598483\ttest: 1.6690622\ttest1: 2.1280584\tbest: 2.1279581 (481)\ttotal: 3m 15s\tremaining: 29m 17s\n",
      "Stopped by overfitting detector  (100 iterations wait)\n",
      "\n",
      "bestTest = 2.127958066\n",
      "bestIteration = 481\n",
      "\n",
      "Shrink model to first 482 iterations.\n"
     ]
    },
    {
     "name": "stderr",
     "output_type": "stream",
     "text": [
      "[I 2023-12-19 18:03:19,954] Trial 37 finished with value: 2.1279580660025434 and parameters: {'depth': 6, 'learning_rate': 0.5, 'colsample_bylevel': 1.0, 'boosting_type': 'Ordered', 'bootstrap_type': 'Bernoulli', 'subsample': 0.9738981585202802}. Best is trial 37 with value: 2.1279580660025434.\n"
     ]
    },
    {
     "name": "stdout",
     "output_type": "stream",
     "text": [
      "subsample : 0.9736629981251036\n"
     ]
    },
    {
     "name": "stderr",
     "output_type": "stream",
     "text": [
      "[I 2023-12-19 18:03:21,570] Trial 38 pruned. Trial was pruned at iteration 0.\n"
     ]
    },
    {
     "name": "stdout",
     "output_type": "stream",
     "text": [
      "0:\tlearn: 2.4330099\ttest: 2.4330099\ttest1: 2.4350364\tbest: 2.4350364 (0)\ttotal: 14.4ms\tremaining: 1m 11s\n",
      "\n",
      "bestTest = 2.435036413\n",
      "bestIteration = 0\n",
      "\n",
      "Shrink model to first 1 iterations.\n",
      "subsample : 0.6587808884748423\n",
      "0:\tlearn: 2.3069431\ttest: 2.2158339\ttest1: 2.2830354\tbest: 2.2830354 (0)\ttotal: 175ms\tremaining: 14m 37s\n",
      "Stopped by overfitting detector  (100 iterations wait)\n",
      "\n",
      "bestTest = 2.12896852\n",
      "bestIteration = 250\n",
      "\n",
      "Shrink model to first 251 iterations.\n"
     ]
    },
    {
     "name": "stderr",
     "output_type": "stream",
     "text": [
      "[I 2023-12-19 18:05:23,703] Trial 39 finished with value: 2.1289685196209764 and parameters: {'depth': 6, 'learning_rate': 0.5, 'colsample_bylevel': 1.0, 'boosting_type': 'Ordered', 'bootstrap_type': 'Bernoulli', 'subsample': 0.6587808884748423}. Best is trial 37 with value: 2.1279580660025434.\n"
     ]
    },
    {
     "name": "stdout",
     "output_type": "stream",
     "text": [
      "subsample : 0.6283729805233785\n",
      "0:\tlearn: 2.3028081\ttest: 2.2131453\ttest1: 2.2793504\tbest: 2.2793504 (0)\ttotal: 267ms\tremaining: 22m 13s\n",
      "Stopped by overfitting detector  (100 iterations wait)\n",
      "\n",
      "bestTest = 2.135284203\n",
      "bestIteration = 48\n",
      "\n",
      "Shrink model to first 49 iterations.\n"
     ]
    },
    {
     "name": "stderr",
     "output_type": "stream",
     "text": [
      "[I 2023-12-19 18:06:18,829] Trial 40 finished with value: 2.1352842033100887 and parameters: {'depth': 8, 'learning_rate': 0.5, 'colsample_bylevel': 0.5, 'boosting_type': 'Plain', 'bootstrap_type': 'Bernoulli', 'subsample': 0.6283729805233785}. Best is trial 37 with value: 2.1279580660025434.\n"
     ]
    },
    {
     "name": "stdout",
     "output_type": "stream",
     "text": [
      "subsample : 0.6436206073042068\n",
      "0:\tlearn: 2.3069431\ttest: 2.2158339\ttest1: 2.2830354\tbest: 2.2830354 (0)\ttotal: 178ms\tremaining: 14m 51s\n",
      "Stopped by overfitting detector  (100 iterations wait)\n",
      "\n",
      "bestTest = 2.130918545\n",
      "bestIteration = 322\n",
      "\n",
      "Shrink model to first 323 iterations.\n"
     ]
    },
    {
     "name": "stderr",
     "output_type": "stream",
     "text": [
      "[I 2023-12-19 18:08:48,694] Trial 41 finished with value: 2.1309185454139876 and parameters: {'depth': 6, 'learning_rate': 0.5, 'colsample_bylevel': 1.0, 'boosting_type': 'Ordered', 'bootstrap_type': 'Bernoulli', 'subsample': 0.6436206073042068}. Best is trial 37 with value: 2.1279580660025434.\n"
     ]
    },
    {
     "name": "stdout",
     "output_type": "stream",
     "text": [
      "subsample : 0.9784868854505778\n",
      "0:\tlearn: 2.3088227\ttest: 2.2283104\ttest1: 2.2851325\tbest: 2.2851325 (0)\ttotal: 181ms\tremaining: 15m 5s\n",
      "Stopped by overfitting detector  (100 iterations wait)\n",
      "\n",
      "bestTest = 2.128645901\n",
      "bestIteration = 333\n",
      "\n",
      "Shrink model to first 334 iterations.\n"
     ]
    },
    {
     "name": "stderr",
     "output_type": "stream",
     "text": [
      "[I 2023-12-19 18:10:46,626] Trial 42 finished with value: 2.1286459010998593 and parameters: {'depth': 5, 'learning_rate': 0.5, 'colsample_bylevel': 1.0, 'boosting_type': 'Ordered', 'bootstrap_type': 'Bernoulli', 'subsample': 0.9784868854505778}. Best is trial 37 with value: 2.1279580660025434.\n"
     ]
    },
    {
     "name": "stdout",
     "output_type": "stream",
     "text": [
      "subsample : 0.9457673422423802\n",
      "0:\tlearn: 2.3088227\ttest: 2.2283104\ttest1: 2.2851325\tbest: 2.2851325 (0)\ttotal: 183ms\tremaining: 15m 12s\n",
      "Stopped by overfitting detector  (100 iterations wait)\n",
      "\n",
      "bestTest = 2.129517387\n",
      "bestIteration = 376\n",
      "\n",
      "Shrink model to first 377 iterations.\n"
     ]
    },
    {
     "name": "stderr",
     "output_type": "stream",
     "text": [
      "[I 2023-12-19 18:12:53,403] Trial 43 finished with value: 2.1295173869016866 and parameters: {'depth': 5, 'learning_rate': 0.5, 'colsample_bylevel': 1.0, 'boosting_type': 'Ordered', 'bootstrap_type': 'Bernoulli', 'subsample': 0.9457673422423802}. Best is trial 37 with value: 2.1279580660025434.\n"
     ]
    },
    {
     "name": "stdout",
     "output_type": "stream",
     "text": [
      "subsample : 0.7873996949499029\n",
      "0:\tlearn: 2.3101639\ttest: 2.2298334\ttest1: 2.2863988\tbest: 2.2863988 (0)\ttotal: 191ms\tremaining: 15m 54s\n",
      "Stopped by overfitting detector  (100 iterations wait)\n",
      "\n",
      "bestTest = 2.129670222\n",
      "bestIteration = 294\n",
      "\n",
      "Shrink model to first 295 iterations.\n"
     ]
    },
    {
     "name": "stderr",
     "output_type": "stream",
     "text": [
      "[I 2023-12-19 18:14:34,902] Trial 44 finished with value: 2.129670222156236 and parameters: {'depth': 5, 'learning_rate': 0.5, 'colsample_bylevel': 1.0, 'boosting_type': 'Ordered', 'bootstrap_type': 'Bernoulli', 'subsample': 0.7873996949499029}. Best is trial 37 with value: 2.1279580660025434.\n"
     ]
    },
    {
     "name": "stdout",
     "output_type": "stream",
     "text": [
      "subsample : 0.9645687596984135\n",
      "0:\tlearn: 2.3028697\ttest: 2.2113422\ttest1: 2.2786873\tbest: 2.2786873 (0)\ttotal: 242ms\tremaining: 20m 10s\n",
      "Stopped by overfitting detector  (100 iterations wait)\n",
      "\n",
      "bestTest = 2.129016587\n",
      "bestIteration = 149\n",
      "\n",
      "Shrink model to first 150 iterations.\n"
     ]
    },
    {
     "name": "stderr",
     "output_type": "stream",
     "text": [
      "[I 2023-12-19 18:16:35,710] Trial 45 finished with value: 2.1290165868876674 and parameters: {'depth': 7, 'learning_rate': 0.5, 'colsample_bylevel': 1.0, 'boosting_type': 'Ordered', 'bootstrap_type': 'Bernoulli', 'subsample': 0.9645687596984135}. Best is trial 37 with value: 2.1279580660025434.\n"
     ]
    },
    {
     "name": "stdout",
     "output_type": "stream",
     "text": [
      "subsample : 0.9945181264323885\n",
      "0:\tlearn: 2.3028697\ttest: 2.2113422\ttest1: 2.2786873\tbest: 2.2786873 (0)\ttotal: 147ms\tremaining: 12m 15s\n",
      "\n",
      "bestTest = 2.132285144\n",
      "bestIteration = 130\n",
      "\n",
      "Shrink model to first 131 iterations.\n"
     ]
    },
    {
     "name": "stderr",
     "output_type": "stream",
     "text": [
      "[I 2023-12-19 18:17:47,257] Trial 46 pruned. Trial was pruned at iteration 185.\n"
     ]
    },
    {
     "name": "stdout",
     "output_type": "stream",
     "text": [
      "subsample : 0.8745854675561267\n"
     ]
    },
    {
     "name": "stderr",
     "output_type": "stream",
     "text": [
      "[I 2023-12-19 18:17:48,922] Trial 47 pruned. Trial was pruned at iteration 0.\n"
     ]
    },
    {
     "name": "stdout",
     "output_type": "stream",
     "text": [
      "0:\tlearn: 2.4330099\ttest: 2.4330099\ttest1: 2.4350364\tbest: 2.4350364 (0)\ttotal: 13.9ms\tremaining: 1m 9s\n",
      "\n",
      "bestTest = 2.435036413\n",
      "bestIteration = 0\n",
      "\n",
      "Shrink model to first 1 iterations.\n",
      "subsample : 0.7262981248939868\n"
     ]
    },
    {
     "name": "stderr",
     "output_type": "stream",
     "text": [
      "[I 2023-12-19 18:17:50,909] Trial 48 pruned. Trial was pruned at iteration 0.\n"
     ]
    },
    {
     "name": "stdout",
     "output_type": "stream",
     "text": [
      "0:\tlearn: 2.4326782\ttest: 2.4324885\ttest1: 2.4346409\tbest: 2.4346409 (0)\ttotal: 273ms\tremaining: 22m 43s\n",
      "\n",
      "bestTest = 2.434640912\n",
      "bestIteration = 0\n",
      "\n",
      "Shrink model to first 1 iterations.\n",
      "subsample : 0.9077181211679728\n"
     ]
    },
    {
     "name": "stderr",
     "output_type": "stream",
     "text": [
      "[I 2023-12-19 18:17:52,733] Trial 49 pruned. Trial was pruned at iteration 0.\n"
     ]
    },
    {
     "name": "stdout",
     "output_type": "stream",
     "text": [
      "0:\tlearn: 2.4330099\ttest: 2.4330099\ttest1: 2.4350364\tbest: 2.4350364 (0)\ttotal: 9.23ms\tremaining: 46.1s\n",
      "\n",
      "bestTest = 2.435036413\n",
      "bestIteration = 0\n",
      "\n",
      "Shrink model to first 1 iterations.\n",
      "subsample : 0.9873632267143091\n",
      "0:\tlearn: 2.3028697\ttest: 2.2113422\ttest1: 2.2786873\tbest: 2.2786873 (0)\ttotal: 382ms\tremaining: 31m 50s\n",
      "Stopped by overfitting detector  (100 iterations wait)\n",
      "\n",
      "bestTest = 2.130048304\n",
      "bestIteration = 154\n",
      "\n",
      "Shrink model to first 155 iterations.\n"
     ]
    },
    {
     "name": "stderr",
     "output_type": "stream",
     "text": [
      "[I 2023-12-19 18:20:49,392] Trial 50 finished with value: 2.1300483035962454 and parameters: {'depth': 9, 'learning_rate': 0.5, 'colsample_bylevel': 1.0, 'boosting_type': 'Ordered', 'bootstrap_type': 'Bernoulli', 'subsample': 0.9873632267143091}. Best is trial 37 with value: 2.1279580660025434.\n"
     ]
    },
    {
     "name": "stdout",
     "output_type": "stream",
     "text": [
      "subsample : 0.48102124549940073\n",
      "0:\tlearn: 2.3041533\ttest: 2.2128108\ttest1: 2.2798685\tbest: 2.2798685 (0)\ttotal: 182ms\tremaining: 15m 11s\n"
     ]
    },
    {
     "name": "stderr",
     "output_type": "stream",
     "text": [
      "[I 2023-12-19 18:20:55,678] Trial 51 pruned. Trial was pruned at iteration 14.\n"
     ]
    },
    {
     "name": "stdout",
     "output_type": "stream",
     "text": [
      "\n",
      "bestTest = 2.150420952\n",
      "bestIteration = 14\n",
      "\n",
      "Shrink model to first 15 iterations.\n",
      "subsample : 0.7065033986728902\n",
      "0:\tlearn: 2.3041533\ttest: 2.2128108\ttest1: 2.2798685\tbest: 2.2798685 (0)\ttotal: 271ms\tremaining: 22m 33s\n",
      "\n",
      "bestTest = 2.131759296\n",
      "bestIteration = 101\n",
      "\n",
      "Shrink model to first 102 iterations.\n"
     ]
    },
    {
     "name": "stderr",
     "output_type": "stream",
     "text": [
      "[I 2023-12-19 18:22:34,428] Trial 52 pruned. Trial was pruned at iteration 185.\n"
     ]
    },
    {
     "name": "stdout",
     "output_type": "stream",
     "text": [
      "subsample : 0.8824511293932199\n"
     ]
    },
    {
     "name": "stderr",
     "output_type": "stream",
     "text": [
      "[I 2023-12-19 18:22:36,195] Trial 53 pruned. Trial was pruned at iteration 0.\n"
     ]
    },
    {
     "name": "stdout",
     "output_type": "stream",
     "text": [
      "0:\tlearn: 2.4326792\ttest: 2.4324873\ttest1: 2.4346414\tbest: 2.4346414 (0)\ttotal: 215ms\tremaining: 17m 54s\n",
      "\n",
      "bestTest = 2.434641428\n",
      "bestIteration = 0\n",
      "\n",
      "Shrink model to first 1 iterations.\n",
      "0:\tlearn: 2.3048587\ttest: 2.2137292\ttest1: 2.2807939\tbest: 2.2807939 (0)\ttotal: 283ms\tremaining: 23m 33s\n"
     ]
    },
    {
     "name": "stderr",
     "output_type": "stream",
     "text": [
      "[I 2023-12-19 18:22:41,376] Trial 54 pruned. Trial was pruned at iteration 12.\n"
     ]
    },
    {
     "name": "stdout",
     "output_type": "stream",
     "text": [
      "\n",
      "bestTest = 2.153053504\n",
      "bestIteration = 12\n",
      "\n",
      "Shrink model to first 13 iterations.\n",
      "subsample : 0.7901839524203652\n",
      "0:\tlearn: 2.3069431\ttest: 2.2158339\ttest1: 2.2830354\tbest: 2.2830354 (0)\ttotal: 208ms\tremaining: 17m 17s\n",
      "Stopped by overfitting detector  (100 iterations wait)\n",
      "\n",
      "bestTest = 2.129272381\n",
      "bestIteration = 194\n",
      "\n",
      "Shrink model to first 195 iterations.\n"
     ]
    },
    {
     "name": "stderr",
     "output_type": "stream",
     "text": [
      "[I 2023-12-19 18:24:32,195] Trial 55 finished with value: 2.129272380952069 and parameters: {'depth': 6, 'learning_rate': 0.5, 'colsample_bylevel': 1.0, 'boosting_type': 'Ordered', 'bootstrap_type': 'Bernoulli', 'subsample': 0.7901839524203652}. Best is trial 37 with value: 2.1279580660025434.\n"
     ]
    },
    {
     "name": "stdout",
     "output_type": "stream",
     "text": [
      "subsample : 0.7976417752275896\n"
     ]
    },
    {
     "name": "stderr",
     "output_type": "stream",
     "text": [
      "[I 2023-12-19 18:24:34,945] Trial 56 pruned. Trial was pruned at iteration 0.\n"
     ]
    },
    {
     "name": "stdout",
     "output_type": "stream",
     "text": [
      "0:\tlearn: 2.3140083\ttest: 2.2369717\ttest1: 2.2911474\tbest: 2.2911474 (0)\ttotal: 166ms\tremaining: 13m 51s\n",
      "\n",
      "bestTest = 2.291147435\n",
      "bestIteration = 0\n",
      "\n",
      "Shrink model to first 1 iterations.\n",
      "subsample : 0.5835401781728493\n"
     ]
    },
    {
     "name": "stderr",
     "output_type": "stream",
     "text": [
      "[I 2023-12-19 18:24:36,906] Trial 57 pruned. Trial was pruned at iteration 0.\n"
     ]
    },
    {
     "name": "stdout",
     "output_type": "stream",
     "text": [
      "0:\tlearn: 2.3288764\ttest: 2.2586815\ttest1: 2.3177211\tbest: 2.3177211 (0)\ttotal: 179ms\tremaining: 14m 52s\n",
      "\n",
      "bestTest = 2.317721124\n",
      "bestIteration = 0\n",
      "\n",
      "Shrink model to first 1 iterations.\n",
      "subsample : 0.9099438587713948\n",
      "0:\tlearn: 2.3056001\ttest: 2.2143014\ttest1: 2.2817672\tbest: 2.2817672 (0)\ttotal: 137ms\tremaining: 11m 27s\n",
      "Stopped by overfitting detector  (100 iterations wait)\n",
      "\n",
      "bestTest = 2.129726217\n",
      "bestIteration = 213\n",
      "\n",
      "Shrink model to first 214 iterations.\n"
     ]
    },
    {
     "name": "stderr",
     "output_type": "stream",
     "text": [
      "[I 2023-12-19 18:26:13,217] Trial 58 finished with value: 2.1297262174192446 and parameters: {'depth': 6, 'learning_rate': 0.5, 'colsample_bylevel': 1.0, 'boosting_type': 'Plain', 'bootstrap_type': 'Bernoulli', 'subsample': 0.9099438587713948}. Best is trial 37 with value: 2.1279580660025434.\n"
     ]
    },
    {
     "name": "stdout",
     "output_type": "stream",
     "text": [
      "subsample : 0.7215611479881942\n"
     ]
    },
    {
     "name": "stderr",
     "output_type": "stream",
     "text": [
      "[I 2023-12-19 18:26:14,889] Trial 59 pruned. Trial was pruned at iteration 0.\n"
     ]
    },
    {
     "name": "stdout",
     "output_type": "stream",
     "text": [
      "0:\tlearn: 2.4330099\ttest: 2.4330099\ttest1: 2.4350364\tbest: 2.4350364 (0)\ttotal: 12.3ms\tremaining: 1m 1s\n",
      "\n",
      "bestTest = 2.435036413\n",
      "bestIteration = 0\n",
      "\n",
      "Shrink model to first 1 iterations.\n",
      "subsample : 0.8370354152272703\n"
     ]
    },
    {
     "name": "stderr",
     "output_type": "stream",
     "text": [
      "[I 2023-12-19 18:26:16,587] Trial 60 pruned. Trial was pruned at iteration 0.\n"
     ]
    },
    {
     "name": "stdout",
     "output_type": "stream",
     "text": [
      "0:\tlearn: 2.4298309\ttest: 2.4281266\ttest1: 2.4312112\tbest: 2.4312112 (0)\ttotal: 165ms\tremaining: 13m 45s\n",
      "\n",
      "bestTest = 2.431211179\n",
      "bestIteration = 0\n",
      "\n",
      "Shrink model to first 1 iterations.\n",
      "subsample : 0.9333742220002161\n",
      "0:\tlearn: 2.3028697\ttest: 2.2113422\ttest1: 2.2786873\tbest: 2.2786873 (0)\ttotal: 232ms\tremaining: 19m 19s\n",
      "Stopped by overfitting detector  (100 iterations wait)\n",
      "\n",
      "bestTest = 2.128906783\n",
      "bestIteration = 222\n",
      "\n",
      "Shrink model to first 223 iterations.\n"
     ]
    },
    {
     "name": "stderr",
     "output_type": "stream",
     "text": [
      "[I 2023-12-19 18:28:49,865] Trial 61 finished with value: 2.1289067828816766 and parameters: {'depth': 7, 'learning_rate': 0.5, 'colsample_bylevel': 1.0, 'boosting_type': 'Ordered', 'bootstrap_type': 'Bernoulli', 'subsample': 0.9333742220002161}. Best is trial 37 with value: 2.1279580660025434.\n"
     ]
    },
    {
     "name": "stdout",
     "output_type": "stream",
     "text": [
      "subsample : 0.9276180529363122\n",
      "0:\tlearn: 2.3028697\ttest: 2.2113422\ttest1: 2.2786873\tbest: 2.2786873 (0)\ttotal: 227ms\tremaining: 18m 55s\n"
     ]
    },
    {
     "name": "stderr",
     "output_type": "stream",
     "text": [
      "[I 2023-12-19 18:29:12,446] Trial 62 pruned. Trial was pruned at iteration 48.\n"
     ]
    },
    {
     "name": "stdout",
     "output_type": "stream",
     "text": [
      "\n",
      "bestTest = 2.136936297\n",
      "bestIteration = 48\n",
      "\n",
      "Shrink model to first 49 iterations.\n",
      "subsample : 0.9996502831485136\n",
      "0:\tlearn: 2.3056001\ttest: 2.2143014\ttest1: 2.2817672\tbest: 2.2817672 (0)\ttotal: 216ms\tremaining: 18m 1s\n",
      "\n",
      "bestTest = 2.131221284\n",
      "bestIteration = 159\n",
      "\n",
      "Shrink model to first 160 iterations.\n"
     ]
    },
    {
     "name": "stderr",
     "output_type": "stream",
     "text": [
      "[I 2023-12-19 18:30:12,070] Trial 63 pruned. Trial was pruned at iteration 164.\n",
      "[I 2023-12-19 18:30:13,787] Trial 64 pruned. Trial was pruned at iteration 0.\n"
     ]
    },
    {
     "name": "stdout",
     "output_type": "stream",
     "text": [
      "0:\tlearn: 2.3120166\ttest: 2.2195410\ttest1: 2.2901438\tbest: 2.2901438 (0)\ttotal: 167ms\tremaining: 13m 55s\n",
      "\n",
      "bestTest = 2.290143812\n",
      "bestIteration = 0\n",
      "\n",
      "Shrink model to first 1 iterations.\n",
      "subsample : 0.9275074704680838\n",
      "0:\tlearn: 2.3024402\ttest: 2.2129668\ttest1: 2.2787745\tbest: 2.2787745 (0)\ttotal: 442ms\tremaining: 36m 50s\n",
      "\n",
      "bestTest = 2.131289797\n",
      "bestIteration = 114\n",
      "\n",
      "Shrink model to first 115 iterations.\n"
     ]
    },
    {
     "name": "stderr",
     "output_type": "stream",
     "text": [
      "[I 2023-12-19 18:31:49,697] Trial 65 pruned. Trial was pruned at iteration 164.\n"
     ]
    },
    {
     "name": "stdout",
     "output_type": "stream",
     "text": [
      "subsample : 0.8394946077952057\n",
      "0:\tlearn: 2.3041533\ttest: 2.2128108\ttest1: 2.2798685\tbest: 2.2798685 (0)\ttotal: 226ms\tremaining: 18m 51s\n",
      "Stopped by overfitting detector  (100 iterations wait)\n",
      "\n",
      "bestTest = 2.130211827\n",
      "bestIteration = 280\n",
      "\n",
      "Shrink model to first 281 iterations.\n"
     ]
    },
    {
     "name": "stderr",
     "output_type": "stream",
     "text": [
      "[I 2023-12-19 18:34:53,114] Trial 66 finished with value: 2.1302118271293007 and parameters: {'depth': 7, 'learning_rate': 0.5, 'colsample_bylevel': 1.0, 'boosting_type': 'Ordered', 'bootstrap_type': 'Bernoulli', 'subsample': 0.8394946077952057}. Best is trial 37 with value: 2.1279580660025434.\n"
     ]
    },
    {
     "name": "stdout",
     "output_type": "stream",
     "text": [
      "subsample : 0.8474117202596214\n"
     ]
    },
    {
     "name": "stderr",
     "output_type": "stream",
     "text": [
      "[I 2023-12-19 18:34:54,708] Trial 67 pruned. Trial was pruned at iteration 0.\n"
     ]
    },
    {
     "name": "stdout",
     "output_type": "stream",
     "text": [
      "0:\tlearn: 2.4330099\ttest: 2.4330099\ttest1: 2.4350364\tbest: 2.4350364 (0)\ttotal: 12.6ms\tremaining: 1m 3s\n",
      "\n",
      "bestTest = 2.435036412\n",
      "bestIteration = 0\n",
      "\n",
      "Shrink model to first 1 iterations.\n",
      "subsample : 0.9367450976216117\n",
      "0:\tlearn: 2.3056001\ttest: 2.2143014\ttest1: 2.2817672\tbest: 2.2817672 (0)\ttotal: 206ms\tremaining: 17m 10s\n"
     ]
    },
    {
     "name": "stderr",
     "output_type": "stream",
     "text": [
      "[I 2023-12-19 18:34:59,519] Trial 68 pruned. Trial was pruned at iteration 10.\n"
     ]
    },
    {
     "name": "stdout",
     "output_type": "stream",
     "text": [
      "\n",
      "bestTest = 2.152060951\n",
      "bestIteration = 10\n",
      "\n",
      "Shrink model to first 11 iterations.\n"
     ]
    },
    {
     "name": "stderr",
     "output_type": "stream",
     "text": [
      "[I 2023-12-19 18:35:01,432] Trial 69 pruned. Trial was pruned at iteration 0.\n"
     ]
    },
    {
     "name": "stdout",
     "output_type": "stream",
     "text": [
      "0:\tlearn: 2.4300736\ttest: 2.4286840\ttest1: 2.4317560\tbest: 2.4317560 (0)\ttotal: 180ms\tremaining: 15m\n",
      "\n",
      "bestTest = 2.43175605\n",
      "bestIteration = 0\n",
      "\n",
      "Shrink model to first 1 iterations.\n",
      "subsample : 0.7834301939323118\n",
      "0:\tlearn: 2.3069431\ttest: 2.2158339\ttest1: 2.2830354\tbest: 2.2830354 (0)\ttotal: 139ms\tremaining: 11m 35s\n",
      "Stopped by overfitting detector  (100 iterations wait)\n",
      "\n",
      "bestTest = 2.12905523\n",
      "bestIteration = 201\n",
      "\n",
      "Shrink model to first 202 iterations.\n"
     ]
    },
    {
     "name": "stderr",
     "output_type": "stream",
     "text": [
      "[I 2023-12-19 18:36:32,663] Trial 70 finished with value: 2.1290552298680336 and parameters: {'depth': 6, 'learning_rate': 0.5, 'colsample_bylevel': 1.0, 'boosting_type': 'Plain', 'bootstrap_type': 'Bernoulli', 'subsample': 0.7834301939323118}. Best is trial 37 with value: 2.1279580660025434.\n"
     ]
    },
    {
     "name": "stdout",
     "output_type": "stream",
     "text": [
      "subsample : 0.7701145441791967\n",
      "0:\tlearn: 2.3069431\ttest: 2.2158339\ttest1: 2.2830354\tbest: 2.2830354 (0)\ttotal: 141ms\tremaining: 11m 43s\n"
     ]
    },
    {
     "name": "stderr",
     "output_type": "stream",
     "text": [
      "[I 2023-12-19 18:36:35,680] Trial 71 pruned. Trial was pruned at iteration 6.\n"
     ]
    },
    {
     "name": "stdout",
     "output_type": "stream",
     "text": [
      "\n",
      "bestTest = 2.157233026\n",
      "bestIteration = 6\n",
      "\n",
      "Shrink model to first 7 iterations.\n",
      "subsample : 0.6932379220378448\n",
      "0:\tlearn: 2.3001146\ttest: 2.2157046\ttest1: 2.2783219\tbest: 2.2783219 (0)\ttotal: 417ms\tremaining: 34m 44s\n"
     ]
    },
    {
     "name": "stderr",
     "output_type": "stream",
     "text": [
      "[I 2023-12-19 18:36:51,607] Trial 72 pruned. Trial was pruned at iteration 21.\n"
     ]
    },
    {
     "name": "stdout",
     "output_type": "stream",
     "text": [
      "\n",
      "bestTest = 2.145891359\n",
      "bestIteration = 12\n",
      "\n",
      "Shrink model to first 13 iterations.\n",
      "subsample : 0.8754582158221466\n",
      "0:\tlearn: 2.3028697\ttest: 2.2113422\ttest1: 2.2786873\tbest: 2.2786873 (0)\ttotal: 165ms\tremaining: 13m 46s\n",
      "\n",
      "bestTest = 2.131054614\n",
      "bestIteration = 111\n",
      "\n",
      "Shrink model to first 112 iterations.\n"
     ]
    },
    {
     "name": "stderr",
     "output_type": "stream",
     "text": [
      "[I 2023-12-19 18:37:52,962] Trial 73 pruned. Trial was pruned at iteration 164.\n"
     ]
    },
    {
     "name": "stdout",
     "output_type": "stream",
     "text": [
      "subsample : 0.5007377144823479\n",
      "0:\tlearn: 2.3082774\ttest: 2.2163032\ttest1: 2.2846401\tbest: 2.2846401 (0)\ttotal: 127ms\tremaining: 10m 35s\n"
     ]
    },
    {
     "name": "stderr",
     "output_type": "stream",
     "text": [
      "[I 2023-12-19 18:37:54,894] Trial 74 pruned. Trial was pruned at iteration 2.\n"
     ]
    },
    {
     "name": "stdout",
     "output_type": "stream",
     "text": [
      "\n",
      "bestTest = 2.201263634\n",
      "bestIteration = 2\n",
      "\n",
      "Shrink model to first 3 iterations.\n",
      "subsample : 0.9579073560192595\n",
      "0:\tlearn: 2.3088227\ttest: 2.2283104\ttest1: 2.2851325\tbest: 2.2851325 (0)\ttotal: 130ms\tremaining: 10m 50s\n",
      "\n",
      "bestTest = 2.223631333\n",
      "bestIteration = 1\n",
      "\n",
      "Shrink model to first 2 iterations.\n"
     ]
    },
    {
     "name": "stderr",
     "output_type": "stream",
     "text": [
      "[I 2023-12-19 18:37:56,706] Trial 75 pruned. Trial was pruned at iteration 1.\n"
     ]
    },
    {
     "name": "stdout",
     "output_type": "stream",
     "text": [
      "subsample : 0.647573475638538\n"
     ]
    },
    {
     "name": "stderr",
     "output_type": "stream",
     "text": [
      "[I 2023-12-19 18:37:59,136] Trial 76 pruned. Trial was pruned at iteration 0.\n"
     ]
    },
    {
     "name": "stdout",
     "output_type": "stream",
     "text": [
      "0:\tlearn: 2.3101639\ttest: 2.2298334\ttest1: 2.2863988\tbest: 2.2863988 (0)\ttotal: 161ms\tremaining: 13m 23s\n",
      "\n",
      "bestTest = 2.286398817\n",
      "bestIteration = 0\n",
      "\n",
      "Shrink model to first 1 iterations.\n",
      "subsample : 0.2748342902859647\n"
     ]
    },
    {
     "name": "stderr",
     "output_type": "stream",
     "text": [
      "[I 2023-12-19 18:38:00,919] Trial 77 pruned. Trial was pruned at iteration 0.\n"
     ]
    },
    {
     "name": "stdout",
     "output_type": "stream",
     "text": [
      "0:\tlearn: 2.3153386\ttest: 2.2374365\ttest1: 2.2927465\tbest: 2.2927465 (0)\ttotal: 127ms\tremaining: 10m 36s\n",
      "\n",
      "bestTest = 2.292746501\n",
      "bestIteration = 0\n",
      "\n",
      "Shrink model to first 1 iterations.\n",
      "subsample : 0.8347776368442387\n",
      "0:\tlearn: 2.3041533\ttest: 2.2128108\ttest1: 2.2798685\tbest: 2.2798685 (0)\ttotal: 247ms\tremaining: 20m 32s\n"
     ]
    },
    {
     "name": "stderr",
     "output_type": "stream",
     "text": [
      "[I 2023-12-19 18:38:11,714] Trial 78 pruned. Trial was pruned at iteration 30.\n"
     ]
    },
    {
     "name": "stdout",
     "output_type": "stream",
     "text": [
      "\n",
      "bestTest = 2.141452705\n",
      "bestIteration = 29\n",
      "\n",
      "Shrink model to first 30 iterations.\n",
      "subsample : 0.7744952951163706\n"
     ]
    },
    {
     "name": "stderr",
     "output_type": "stream",
     "text": [
      "[I 2023-12-19 18:38:13,466] Trial 79 pruned. Trial was pruned at iteration 0.\n"
     ]
    },
    {
     "name": "stdout",
     "output_type": "stream",
     "text": [
      "0:\tlearn: 2.4330099\ttest: 2.4330099\ttest1: 2.4350364\tbest: 2.4350364 (0)\ttotal: 8.44ms\tremaining: 42.2s\n",
      "\n",
      "bestTest = 2.435036413\n",
      "bestIteration = 0\n",
      "\n",
      "Shrink model to first 1 iterations.\n"
     ]
    },
    {
     "name": "stderr",
     "output_type": "stream",
     "text": [
      "[I 2023-12-19 18:38:15,292] Trial 80 pruned. Trial was pruned at iteration 0.\n"
     ]
    },
    {
     "name": "stdout",
     "output_type": "stream",
     "text": [
      "0:\tlearn: 2.4297855\ttest: 2.4278991\ttest1: 2.4311993\tbest: 2.4311993 (0)\ttotal: 186ms\tremaining: 15m 29s\n",
      "\n",
      "bestTest = 2.431199317\n",
      "bestIteration = 0\n",
      "\n",
      "Shrink model to first 1 iterations.\n",
      "bagging_temperautre : 6.048791656644408\n"
     ]
    },
    {
     "name": "stderr",
     "output_type": "stream",
     "text": [
      "[I 2023-12-19 18:38:17,468] Trial 81 pruned. Trial was pruned at iteration 0.\n"
     ]
    },
    {
     "name": "stdout",
     "output_type": "stream",
     "text": [
      "0:\tlearn: 2.4327582\ttest: 2.4326492\ttest1: 2.4347576\tbest: 2.4347576 (0)\ttotal: 668ms\tremaining: 55m 38s\n",
      "\n",
      "bestTest = 2.43475758\n",
      "bestIteration = 0\n",
      "\n",
      "Shrink model to first 1 iterations.\n",
      "bagging_temperautre : 7.308117038367183\n"
     ]
    },
    {
     "name": "stderr",
     "output_type": "stream",
     "text": [
      "[I 2023-12-19 18:38:19,428] Trial 82 pruned. Trial was pruned at iteration 0.\n"
     ]
    },
    {
     "name": "stdout",
     "output_type": "stream",
     "text": [
      "0:\tlearn: 2.4028357\ttest: 2.3917651\ttest1: 2.4008379\tbest: 2.4008379 (0)\ttotal: 429ms\tremaining: 35m 42s\n",
      "\n",
      "bestTest = 2.400837866\n",
      "bestIteration = 0\n",
      "\n",
      "Shrink model to first 1 iterations.\n",
      "subsample : 0.9537248257581953\n",
      "0:\tlearn: 2.3028697\ttest: 2.2113422\ttest1: 2.2786873\tbest: 2.2786873 (0)\ttotal: 290ms\tremaining: 24m 10s\n",
      "Stopped by overfitting detector  (100 iterations wait)\n",
      "\n",
      "bestTest = 2.129225847\n",
      "bestIteration = 228\n",
      "\n",
      "Shrink model to first 229 iterations.\n"
     ]
    },
    {
     "name": "stderr",
     "output_type": "stream",
     "text": [
      "[I 2023-12-19 18:41:34,933] Trial 83 finished with value: 2.1292258472287426 and parameters: {'depth': 8, 'learning_rate': 0.5, 'colsample_bylevel': 1.0, 'boosting_type': 'Ordered', 'bootstrap_type': 'Bernoulli', 'subsample': 0.9537248257581953}. Best is trial 37 with value: 2.1279580660025434.\n"
     ]
    },
    {
     "name": "stdout",
     "output_type": "stream",
     "text": [
      "subsample : 0.9602452377715746\n",
      "0:\tlearn: 2.3028697\ttest: 2.2113422\ttest1: 2.2786873\tbest: 2.2786873 (0)\ttotal: 382ms\tremaining: 31m 47s\n"
     ]
    },
    {
     "name": "stderr",
     "output_type": "stream",
     "text": [
      "[I 2023-12-19 18:41:40,174] Trial 84 pruned. Trial was pruned at iteration 7.\n"
     ]
    },
    {
     "name": "stdout",
     "output_type": "stream",
     "text": [
      "\n",
      "bestTest = 2.154573171\n",
      "bestIteration = 7\n",
      "\n",
      "Shrink model to first 8 iterations.\n",
      "subsample : 0.8980957024653544\n",
      "0:\tlearn: 2.3024339\ttest: 2.2129445\ttest1: 2.2787736\tbest: 2.2787736 (0)\ttotal: 322ms\tremaining: 26m 49s\n"
     ]
    },
    {
     "name": "stderr",
     "output_type": "stream",
     "text": [
      "[I 2023-12-19 18:41:47,004] Trial 85 pruned. Trial was pruned at iteration 17.\n"
     ]
    },
    {
     "name": "stdout",
     "output_type": "stream",
     "text": [
      "\n",
      "bestTest = 2.146653419\n",
      "bestIteration = 17\n",
      "\n",
      "Shrink model to first 18 iterations.\n",
      "subsample : 0.999502501612363\n"
     ]
    },
    {
     "name": "stderr",
     "output_type": "stream",
     "text": [
      "[I 2023-12-19 18:41:48,646] Trial 86 pruned. Trial was pruned at iteration 0.\n"
     ]
    },
    {
     "name": "stdout",
     "output_type": "stream",
     "text": [
      "0:\tlearn: 2.4330099\ttest: 2.4330099\ttest1: 2.4350364\tbest: 2.4350364 (0)\ttotal: 14.7ms\tremaining: 1m 13s\n",
      "\n",
      "bestTest = 2.435036413\n",
      "bestIteration = 0\n",
      "\n",
      "Shrink model to first 1 iterations.\n",
      "subsample : 0.9608551842966299\n",
      "0:\tlearn: 2.3056001\ttest: 2.2143014\ttest1: 2.2817672\tbest: 2.2817672 (0)\ttotal: 208ms\tremaining: 17m 19s\n"
     ]
    },
    {
     "name": "stderr",
     "output_type": "stream",
     "text": [
      "[I 2023-12-19 18:41:52,290] Trial 87 pruned. Trial was pruned at iteration 5.\n"
     ]
    },
    {
     "name": "stdout",
     "output_type": "stream",
     "text": [
      "\n",
      "bestTest = 2.161781721\n",
      "bestIteration = 5\n",
      "\n",
      "Shrink model to first 6 iterations.\n",
      "subsample : 0.9402732039571717\n",
      "0:\tlearn: 2.3028697\ttest: 2.2113422\ttest1: 2.2786873\tbest: 2.2786873 (0)\ttotal: 242ms\tremaining: 20m 10s\n"
     ]
    },
    {
     "name": "stderr",
     "output_type": "stream",
     "text": [
      "[I 2023-12-19 18:42:29,636] Trial 88 pruned. Trial was pruned at iteration 80.\n"
     ]
    },
    {
     "name": "stdout",
     "output_type": "stream",
     "text": [
      "\n",
      "bestTest = 2.133412152\n",
      "bestIteration = 79\n",
      "\n",
      "Shrink model to first 80 iterations.\n",
      "subsample : 0.674537995331855\n"
     ]
    },
    {
     "name": "stderr",
     "output_type": "stream",
     "text": [
      "[I 2023-12-19 18:42:31,506] Trial 89 pruned. Trial was pruned at iteration 0.\n"
     ]
    },
    {
     "name": "stdout",
     "output_type": "stream",
     "text": [
      "0:\tlearn: 2.3349469\ttest: 2.2583393\ttest1: 2.3216843\tbest: 2.3216843 (0)\ttotal: 183ms\tremaining: 15m 14s\n",
      "\n",
      "bestTest = 2.321684311\n",
      "bestIteration = 0\n",
      "\n",
      "Shrink model to first 1 iterations.\n",
      "subsample : 0.6002179034937991\n",
      "0:\tlearn: 2.3041533\ttest: 2.2128108\ttest1: 2.2798685\tbest: 2.2798685 (0)\ttotal: 218ms\tremaining: 18m 8s\n"
     ]
    },
    {
     "name": "stderr",
     "output_type": "stream",
     "text": [
      "[I 2023-12-19 18:42:52,471] Trial 90 pruned. Trial was pruned at iteration 43.\n"
     ]
    },
    {
     "name": "stdout",
     "output_type": "stream",
     "text": [
      "\n",
      "bestTest = 2.137440717\n",
      "bestIteration = 37\n",
      "\n",
      "Shrink model to first 38 iterations.\n",
      "bagging_temperautre : 4.123145315227513\n"
     ]
    },
    {
     "name": "stderr",
     "output_type": "stream",
     "text": [
      "[I 2023-12-19 18:42:54,514] Trial 91 pruned. Trial was pruned at iteration 0.\n"
     ]
    },
    {
     "name": "stdout",
     "output_type": "stream",
     "text": [
      "0:\tlearn: 2.4006258\ttest: 2.3815165\ttest1: 2.3963830\tbest: 2.3963830 (0)\ttotal: 295ms\tremaining: 24m 35s\n",
      "\n",
      "bestTest = 2.396382965\n",
      "bestIteration = 0\n",
      "\n",
      "Shrink model to first 1 iterations.\n",
      "bagging_temperautre : 2.191418840116933\n",
      "0:\tlearn: 2.3019776\ttest: 2.2117797\ttest1: 2.2776699\tbest: 2.2776699 (0)\ttotal: 274ms\tremaining: 22m 50s\n"
     ]
    },
    {
     "name": "stderr",
     "output_type": "stream",
     "text": [
      "[I 2023-12-19 18:43:13,823] Trial 92 pruned. Trial was pruned at iteration 33.\n"
     ]
    },
    {
     "name": "stdout",
     "output_type": "stream",
     "text": [
      "\n",
      "bestTest = 2.139542975\n",
      "bestIteration = 33\n",
      "\n",
      "Shrink model to first 34 iterations.\n",
      "subsample : 0.8809186016488708\n",
      "0:\tlearn: 2.3028697\ttest: 2.2113422\ttest1: 2.2786873\tbest: 2.2786873 (0)\ttotal: 287ms\tremaining: 23m 53s\n"
     ]
    },
    {
     "name": "stderr",
     "output_type": "stream",
     "text": [
      "[I 2023-12-19 18:43:19,605] Trial 93 pruned. Trial was pruned at iteration 10.\n"
     ]
    },
    {
     "name": "stdout",
     "output_type": "stream",
     "text": [
      "\n",
      "bestTest = 2.150999253\n",
      "bestIteration = 10\n",
      "\n",
      "Shrink model to first 11 iterations.\n",
      "bagging_temperautre : 9.777618842363173\n",
      "0:\tlearn: 2.4255845\ttest: 2.4232016\ttest1: 2.4271792\tbest: 2.4271792 (0)\ttotal: 412ms\tremaining: 34m 20s\n",
      "\n",
      "bestTest = 2.427179171\n",
      "bestIteration = 0\n",
      "\n",
      "Shrink model to first 1 iterations.\n"
     ]
    },
    {
     "name": "stderr",
     "output_type": "stream",
     "text": [
      "[I 2023-12-19 18:43:22,115] Trial 94 pruned. Trial was pruned at iteration 0.\n"
     ]
    },
    {
     "name": "stdout",
     "output_type": "stream",
     "text": [
      "subsample : 0.8039730140395784\n"
     ]
    },
    {
     "name": "stderr",
     "output_type": "stream",
     "text": [
      "[I 2023-12-19 18:43:23,829] Trial 95 pruned. Trial was pruned at iteration 0.\n"
     ]
    },
    {
     "name": "stdout",
     "output_type": "stream",
     "text": [
      "0:\tlearn: 2.3101639\ttest: 2.2298334\ttest1: 2.2863988\tbest: 2.2863988 (0)\ttotal: 153ms\tremaining: 12m 43s\n",
      "\n",
      "bestTest = 2.286398817\n",
      "bestIteration = 0\n",
      "\n",
      "Shrink model to first 1 iterations.\n",
      "subsample : 0.9769080108532837\n"
     ]
    },
    {
     "name": "stderr",
     "output_type": "stream",
     "text": [
      "[I 2023-12-19 18:43:25,626] Trial 96 pruned. Trial was pruned at iteration 0.\n"
     ]
    },
    {
     "name": "stdout",
     "output_type": "stream",
     "text": [
      "0:\tlearn: 2.4326792\ttest: 2.4324873\ttest1: 2.4346414\tbest: 2.4346414 (0)\ttotal: 215ms\tremaining: 17m 52s\n",
      "\n",
      "bestTest = 2.434641428\n",
      "bestIteration = 0\n",
      "\n",
      "Shrink model to first 1 iterations.\n",
      "subsample : 0.7404278387347414\n",
      "0:\tlearn: 2.3041533\ttest: 2.2128108\ttest1: 2.2798685\tbest: 2.2798685 (0)\ttotal: 203ms\tremaining: 16m 55s\n"
     ]
    },
    {
     "name": "stderr",
     "output_type": "stream",
     "text": [
      "[I 2023-12-19 18:43:28,209] Trial 97 pruned. Trial was pruned at iteration 3.\n"
     ]
    },
    {
     "name": "stdout",
     "output_type": "stream",
     "text": [
      "\n",
      "bestTest = 2.184506706\n",
      "bestIteration = 3\n",
      "\n",
      "Shrink model to first 4 iterations.\n",
      "bagging_temperautre : 3.53805103443183\n"
     ]
    },
    {
     "name": "stderr",
     "output_type": "stream",
     "text": [
      "[I 2023-12-19 18:43:29,902] Trial 98 pruned. Trial was pruned at iteration 0.\n"
     ]
    },
    {
     "name": "stdout",
     "output_type": "stream",
     "text": [
      "0:\tlearn: 2.4330099\ttest: 2.4330099\ttest1: 2.4350364\tbest: 2.4350364 (0)\ttotal: 12.4ms\tremaining: 1m 1s\n",
      "\n",
      "bestTest = 2.435036412\n",
      "bestIteration = 0\n",
      "\n",
      "Shrink model to first 1 iterations.\n",
      "0:\tlearn: 2.3018255\ttest: 2.2152570\ttest1: 2.2794914\tbest: 2.2794914 (0)\ttotal: 7.82s\tremaining: 10h 51m 22s\n"
     ]
    },
    {
     "name": "stderr",
     "output_type": "stream",
     "text": [
      "[I 2023-12-19 18:43:44,759] Trial 99 pruned. Trial was pruned at iteration 10.\n"
     ]
    },
    {
     "name": "stdout",
     "output_type": "stream",
     "text": [
      "\n",
      "bestTest = 2.151654011\n",
      "bestIteration = 10\n",
      "\n",
      "Shrink model to first 11 iterations.\n",
      "Best trial : score 2.1279580660025434, \n",
      " params = {'depth': 6, 'learning_rate': 0.5, 'colsample_bylevel': 1.0, 'boosting_type': 'Ordered', 'bootstrap_type': 'Bernoulli', 'subsample': 0.9738981585202802} \n",
      "\n"
     ]
    }
   ],
   "source": [
    "# Study Optuna\n",
    "study = optuna.create_study(direction = 'minimize', sampler = TPESampler(seed = SEED))\n",
    "study.optimize(lambda trial : objectiveCAT(trial, X_train, y_train, X_valid, y_valid), n_trials = 100)\n",
    "print(f'Best trial : score {study.best_trial.value}, \\n params = {study.best_trial.params} \\n')"
   ]
  },
  {
   "cell_type": "code",
   "execution_count": 129,
   "metadata": {},
   "outputs": [
    {
     "name": "stderr",
     "output_type": "stream",
     "text": [
      "  0%|          | 0/10 [00:00<?, ?it/s]"
     ]
    },
    {
     "name": "stdout",
     "output_type": "stream",
     "text": [
      "0:\tlearn: 2.3061601\ttest: 2.2160799\ttest1: 2.2799583\tbest: 2.2799583 (0)\ttotal: 220ms\tremaining: 18m 22s\n",
      "500:\tlearn: 2.1626070\ttest: 1.7405141\ttest1: 2.1296619\tbest: 2.1295184 (490)\ttotal: 3m 5s\tremaining: 27m 43s\n",
      "Stopped by overfitting detector  (100 iterations wait)\n",
      "\n",
      "bestTest = 2.129518377\n",
      "bestIteration = 490\n",
      "\n",
      "Shrink model to first 491 iterations.\n"
     ]
    },
    {
     "data": {
      "image/png": "[encoded data removed]",
      "text/plain": [
       "<Figure size 1200x600 with 1 Axes>"
      ]
     },
     "metadata": {},
     "output_type": "display_data"
    },
    {
     "name": "stdout",
     "output_type": "stream",
     "text": [
      "Valid Set 1 번째 Fold RMSE : 2.12952\n"
     ]
    },
    {
     "name": "stderr",
     "output_type": "stream",
     "text": [
      " 10%|█         | 1/10 [03:42<33:25, 222.79s/it]"
     ]
    },
    {
     "name": "stdout",
     "output_type": "stream",
     "text": [
      "0:\tlearn: 2.3074332\ttest: 2.2158434\ttest1: 2.2775690\tbest: 2.2775690 (0)\ttotal: 205ms\tremaining: 17m 3s\n",
      "Stopped by overfitting detector  (100 iterations wait)\n",
      "\n",
      "bestTest = 2.123473411\n",
      "bestIteration = 231\n",
      "\n",
      "Shrink model to first 232 iterations.\n"
     ]
    },
    {
     "data": {
      "image/png": "[encoded data removed]",
      "text/plain": [
       "<Figure size 1200x600 with 1 Axes>"
      ]
     },
     "metadata": {},
     "output_type": "display_data"
    },
    {
     "name": "stdout",
     "output_type": "stream",
     "text": [
      "Valid Set 2 번째 Fold RMSE : 2.12347\n"
     ]
    },
    {
     "name": "stderr",
     "output_type": "stream",
     "text": [
      " 20%|██        | 2/10 [05:45<21:49, 163.64s/it]"
     ]
    },
    {
     "name": "stdout",
     "output_type": "stream",
     "text": [
      "0:\tlearn: 2.3055004\ttest: 2.2148149\ttest1: 2.2803210\tbest: 2.2803210 (0)\ttotal: 231ms\tremaining: 19m 12s\n",
      "Stopped by overfitting detector  (100 iterations wait)\n",
      "\n",
      "bestTest = 2.125346444\n",
      "bestIteration = 312\n",
      "\n",
      "Shrink model to first 313 iterations.\n"
     ]
    },
    {
     "data": {
      "image/png": "[encoded data removed]",
      "text/plain": [
       "<Figure size 1200x600 with 1 Axes>"
      ]
     },
     "metadata": {},
     "output_type": "display_data"
    },
    {
     "name": "stdout",
     "output_type": "stream",
     "text": [
      "Valid Set 3 번째 Fold RMSE : 2.12535\n"
     ]
    },
    {
     "name": "stderr",
     "output_type": "stream",
     "text": [
      " 30%|███       | 3/10 [08:27<19:02, 163.15s/it]"
     ]
    },
    {
     "name": "stdout",
     "output_type": "stream",
     "text": [
      "0:\tlearn: 2.3057087\ttest: 2.2145058\ttest1: 2.2773773\tbest: 2.2773773 (0)\ttotal: 215ms\tremaining: 17m 56s\n",
      "Stopped by overfitting detector  (100 iterations wait)\n",
      "\n",
      "bestTest = 2.13022042\n",
      "bestIteration = 243\n",
      "\n",
      "Shrink model to first 244 iterations.\n"
     ]
    },
    {
     "data": {
      "image/png": "[encoded data removed]",
      "text/plain": [
       "<Figure size 1200x600 with 1 Axes>"
      ]
     },
     "metadata": {},
     "output_type": "display_data"
    },
    {
     "name": "stdout",
     "output_type": "stream",
     "text": [
      "Valid Set 4 번째 Fold RMSE : 2.13022\n"
     ]
    },
    {
     "name": "stderr",
     "output_type": "stream",
     "text": [
      " 40%|████      | 4/10 [10:37<15:00, 150.15s/it]"
     ]
    },
    {
     "name": "stdout",
     "output_type": "stream",
     "text": [
      "0:\tlearn: 2.3061732\ttest: 2.2158714\ttest1: 2.2855389\tbest: 2.2855389 (0)\ttotal: 206ms\tremaining: 17m 9s\n",
      "500:\tlearn: 2.1633126\ttest: 1.7054552\ttest1: 2.1333168\tbest: 2.1332362 (478)\ttotal: 3m 4s\tremaining: 27m 40s\n",
      "Stopped by overfitting detector  (100 iterations wait)\n",
      "\n",
      "bestTest = 2.132766837\n",
      "bestIteration = 564\n",
      "\n",
      "Shrink model to first 565 iterations.\n"
     ]
    },
    {
     "data": {
      "image/png": "[encoded data removed]",
      "text/plain": [
       "<Figure size 1200x600 with 1 Axes>"
      ]
     },
     "metadata": {},
     "output_type": "display_data"
    },
    {
     "name": "stdout",
     "output_type": "stream",
     "text": [
      "Valid Set 5 번째 Fold RMSE : 2.13277\n"
     ]
    },
    {
     "name": "stderr",
     "output_type": "stream",
     "text": [
      " 50%|█████     | 5/10 [14:48<15:32, 186.46s/it]"
     ]
    },
    {
     "name": "stdout",
     "output_type": "stream",
     "text": [
      "0:\tlearn: 2.3078712\ttest: 2.2147392\ttest1: 2.2836521\tbest: 2.2836521 (0)\ttotal: 209ms\tremaining: 17m 25s\n",
      "Stopped by overfitting detector  (100 iterations wait)\n",
      "\n",
      "bestTest = 2.131572575\n",
      "bestIteration = 322\n",
      "\n",
      "Shrink model to first 323 iterations.\n"
     ]
    },
    {
     "data": {
      "image/png": "[encoded data removed]",
      "text/plain": [
       "<Figure size 1200x600 with 1 Axes>"
      ]
     },
     "metadata": {},
     "output_type": "display_data"
    },
    {
     "name": "stdout",
     "output_type": "stream",
     "text": [
      "Valid Set 6 번째 Fold RMSE : 2.13157\n"
     ]
    },
    {
     "name": "stderr",
     "output_type": "stream",
     "text": [
      " 60%|██████    | 6/10 [17:31<11:53, 178.42s/it]"
     ]
    },
    {
     "name": "stdout",
     "output_type": "stream",
     "text": [
      "0:\tlearn: 2.3080268\ttest: 2.2167203\ttest1: 2.2814194\tbest: 2.2814194 (0)\ttotal: 250ms\tremaining: 20m 50s\n",
      "Stopped by overfitting detector  (100 iterations wait)\n",
      "\n",
      "bestTest = 2.127900579\n",
      "bestIteration = 283\n",
      "\n",
      "Shrink model to first 284 iterations.\n"
     ]
    },
    {
     "data": {
      "image/png": "[encoded data removed]",
      "text/plain": [
       "<Figure size 1200x600 with 1 Axes>"
      ]
     },
     "metadata": {},
     "output_type": "display_data"
    },
    {
     "name": "stdout",
     "output_type": "stream",
     "text": [
      "Valid Set 7 번째 Fold RMSE : 2.12790\n"
     ]
    },
    {
     "name": "stderr",
     "output_type": "stream",
     "text": [
      " 70%|███████   | 7/10 [20:02<08:28, 169.56s/it]"
     ]
    },
    {
     "name": "stdout",
     "output_type": "stream",
     "text": [
      "0:\tlearn: 2.3076412\ttest: 2.2146370\ttest1: 2.2836265\tbest: 2.2836265 (0)\ttotal: 207ms\tremaining: 17m 14s\n",
      "Stopped by overfitting detector  (100 iterations wait)\n",
      "\n",
      "bestTest = 2.136066488\n",
      "bestIteration = 398\n",
      "\n",
      "Shrink model to first 399 iterations.\n"
     ]
    },
    {
     "data": {
      "image/png": "[encoded data removed]",
      "text/plain": [
       "<Figure size 1200x600 with 1 Axes>"
      ]
     },
     "metadata": {},
     "output_type": "display_data"
    },
    {
     "name": "stdout",
     "output_type": "stream",
     "text": [
      "Valid Set 8 번째 Fold RMSE : 2.13607\n"
     ]
    },
    {
     "name": "stderr",
     "output_type": "stream",
     "text": [
      " 80%|████████  | 8/10 [23:12<05:51, 175.94s/it]"
     ]
    },
    {
     "name": "stdout",
     "output_type": "stream",
     "text": [
      "0:\tlearn: 2.3071539\ttest: 2.2154497\ttest1: 2.2815838\tbest: 2.2815838 (0)\ttotal: 206ms\tremaining: 17m 11s\n",
      "Stopped by overfitting detector  (100 iterations wait)\n",
      "\n",
      "bestTest = 2.129604677\n",
      "bestIteration = 282\n",
      "\n",
      "Shrink model to first 283 iterations.\n"
     ]
    },
    {
     "data": {
      "image/png": "[encoded data removed]",
      "text/plain": [
       "<Figure size 1200x600 with 1 Axes>"
      ]
     },
     "metadata": {},
     "output_type": "display_data"
    },
    {
     "name": "stdout",
     "output_type": "stream",
     "text": [
      "Valid Set 9 번째 Fold RMSE : 2.12960\n"
     ]
    },
    {
     "name": "stderr",
     "output_type": "stream",
     "text": [
      " 90%|█████████ | 9/10 [25:39<02:46, 166.86s/it]"
     ]
    },
    {
     "name": "stdout",
     "output_type": "stream",
     "text": [
      "0:\tlearn: 2.3071082\ttest: 2.2147463\ttest1: 2.2810698\tbest: 2.2810698 (0)\ttotal: 203ms\tremaining: 16m 56s\n",
      "Stopped by overfitting detector  (100 iterations wait)\n",
      "\n",
      "bestTest = 2.128997597\n",
      "bestIteration = 310\n",
      "\n",
      "Shrink model to first 311 iterations.\n"
     ]
    },
    {
     "data": {
      "image/png": "[encoded data removed]",
      "text/plain": [
       "<Figure size 1200x600 with 1 Axes>"
      ]
     },
     "metadata": {},
     "output_type": "display_data"
    },
    {
     "name": "stdout",
     "output_type": "stream",
     "text": [
      "Valid Set 10 번째 Fold RMSE : 2.12900\n"
     ]
    },
    {
     "name": "stderr",
     "output_type": "stream",
     "text": [
      "100%|██████████| 10/10 [28:13<00:00, 169.38s/it]"
     ]
    },
    {
     "name": "stdout",
     "output_type": "stream",
     "text": [
      "CatBoost RMSE 평균 : 2.12955 \n",
      "\n"
     ]
    },
    {
     "name": "stderr",
     "output_type": "stream",
     "text": [
      "\n"
     ]
    }
   ],
   "source": [
    "X_data, y_data = train_df.drop(columns = ['rating', 'user_rating_avg', 'book_rating_avg']), train_df['rating']\n",
    "\n",
    "skf = StratifiedKFold(n_splits = 10, shuffle = True, random_state = SEED)\n",
    "valid_rmse = []\n",
    "pred_df = pd.DataFrame()\n",
    "cat_col = train_df.columns[[i for i in range(0, 12)]].tolist()\n",
    "\n",
    "# Stratified K-Fold 사용하여 Best Parameter 학습\n",
    "for fold, (train_idx, valid_idx) in tqdm.tqdm(enumerate(skf.split(X_data, y_data)), total = skf.n_splits) : \n",
    "    \n",
    "    # Train Set과 Valid Set 분할    \n",
    "    X_train, y_train = X_data.iloc[train_idx], y_data.iloc[train_idx]\n",
    "    X_valid, y_valid = X_data.iloc[valid_idx], y_data.iloc[valid_idx]\n",
    "    \n",
    "    train_data = Pool(data = X_train, label = y_train, cat_features = cat_col)\n",
    "    valid_data = Pool(data = X_valid, label = y_valid, cat_features = cat_col)\n",
    "    \n",
    "    # Best Parameter 학습\n",
    "    param = study.best_params\n",
    "    # param = {'learning_rate': 0.1, 'depth': 11, 'colsample_bylevel': 0.5, 'boosting_type': 'Plain', 'bootstrap_type': 'MVS'}\n",
    "    \n",
    "    cat_reg = CatBoostRegressor(**param, iterations = 5000, \n",
    "                                loss_function = 'RMSE', eval_metric = 'RMSE', \n",
    "                                use_best_model = True, random_state = SEED,\n",
    "                                cat_features = [i for i in range(0, 12)])\n",
    "    cat_reg.fit(train_data, eval_set = [train_data, valid_data], use_best_model = True,\n",
    "                verbose = 500, early_stopping_rounds = 100)\n",
    "    \n",
    "    # Feature Importance 출력\n",
    "    feature_importance = cat_reg.feature_importances_\n",
    "    sorted_idx = np.argsort(feature_importance)\n",
    "    fig = plt.figure(figsize = (12, 6))\n",
    "    plt.barh(range(len(sorted_idx)), feature_importance[sorted_idx], align = 'center')\n",
    "    plt.yticks(range(len(sorted_idx)), np.array(X_data.columns)[sorted_idx])\n",
    "    plt.title('Feature Importance')\n",
    "    plt.show()\n",
    "    \n",
    "    # 모델 RMSE 출력\n",
    "    score = mean_squared_error(y_valid, cat_reg.predict(X_valid), squared = False)\n",
    "    valid_rmse.append(score)\n",
    "    print(f'Valid Set {fold + 1} 번째 Fold RMSE : {score:.5f}')\n",
    "    \n",
    "    # Predict\n",
    "    pred = cat_reg.predict(test_df.drop(['rating'], axis = 1))\n",
    "    pred_df[f'pred_{fold}'] = pred\n",
    "    \n",
    "print(f'CatBoost RMSE 평균 : {np.array(valid_rmse).mean():.5f} \\n')"
   ]
  },
  {
   "cell_type": "code",
   "execution_count": 132,
   "metadata": {},
   "outputs": [
    {
     "data": {
      "text/html": [
       "<div>\n",
       "<style scoped>\n",
       "    .dataframe tbody tr th:only-of-type {\n",
       "        vertical-align: middle;\n",
       "    }\n",
       "\n",
       "    .dataframe tbody tr th {\n",
       "        vertical-align: top;\n",
       "    }\n",
       "\n",
       "    .dataframe thead th {\n",
       "        text-align: right;\n",
       "    }\n",
       "</style>\n",
       "<table border=\"1\" class=\"dataframe\">\n",
       "  <thead>\n",
       "    <tr style=\"text-align: right;\">\n",
       "      <th></th>\n",
       "      <th>user_id</th>\n",
       "      <th>isbn</th>\n",
       "      <th>rating</th>\n",
       "    </tr>\n",
       "  </thead>\n",
       "  <tbody>\n",
       "    <tr>\n",
       "      <th>0</th>\n",
       "      <td>11676</td>\n",
       "      <td>0002005018</td>\n",
       "      <td>7.216085</td>\n",
       "    </tr>\n",
       "    <tr>\n",
       "      <th>1</th>\n",
       "      <td>116866</td>\n",
       "      <td>0002005018</td>\n",
       "      <td>7.308520</td>\n",
       "    </tr>\n",
       "    <tr>\n",
       "      <th>2</th>\n",
       "      <td>152827</td>\n",
       "      <td>0060973129</td>\n",
       "      <td>7.340888</td>\n",
       "    </tr>\n",
       "    <tr>\n",
       "      <th>3</th>\n",
       "      <td>157969</td>\n",
       "      <td>0374157065</td>\n",
       "      <td>7.809797</td>\n",
       "    </tr>\n",
       "    <tr>\n",
       "      <th>4</th>\n",
       "      <td>67958</td>\n",
       "      <td>0399135782</td>\n",
       "      <td>7.603439</td>\n",
       "    </tr>\n",
       "    <tr>\n",
       "      <th>...</th>\n",
       "      <td>...</td>\n",
       "      <td>...</td>\n",
       "      <td>...</td>\n",
       "    </tr>\n",
       "    <tr>\n",
       "      <th>76694</th>\n",
       "      <td>278543</td>\n",
       "      <td>1576734218</td>\n",
       "      <td>6.178388</td>\n",
       "    </tr>\n",
       "    <tr>\n",
       "      <th>76695</th>\n",
       "      <td>278563</td>\n",
       "      <td>3492223710</td>\n",
       "      <td>6.112513</td>\n",
       "    </tr>\n",
       "    <tr>\n",
       "      <th>76696</th>\n",
       "      <td>278633</td>\n",
       "      <td>1896095186</td>\n",
       "      <td>6.519271</td>\n",
       "    </tr>\n",
       "    <tr>\n",
       "      <th>76697</th>\n",
       "      <td>278668</td>\n",
       "      <td>8408044079</td>\n",
       "      <td>5.190023</td>\n",
       "    </tr>\n",
       "    <tr>\n",
       "      <th>76698</th>\n",
       "      <td>278851</td>\n",
       "      <td>0767907566</td>\n",
       "      <td>5.703111</td>\n",
       "    </tr>\n",
       "  </tbody>\n",
       "</table>\n",
       "<p>76699 rows × 3 columns</p>\n",
       "</div>"
      ],
      "text/plain": [
       "       user_id        isbn    rating\n",
       "0        11676  0002005018  7.216085\n",
       "1       116866  0002005018  7.308520\n",
       "2       152827  0060973129  7.340888\n",
       "3       157969  0374157065  7.809797\n",
       "4        67958  0399135782  7.603439\n",
       "...        ...         ...       ...\n",
       "76694   278543  1576734218  6.178388\n",
       "76695   278563  3492223710  6.112513\n",
       "76696   278633  1896095186  6.519271\n",
       "76697   278668  8408044079  5.190023\n",
       "76698   278851  0767907566  5.703111\n",
       "\n",
       "[76699 rows x 3 columns]"
      ]
     },
     "execution_count": 132,
     "metadata": {},
     "output_type": "execute_result"
    }
   ],
   "source": [
    "test_ratings['rating'] = (pred_df['pred_0'] + pred_df['pred_1'] + pred_df['pred_2'] + pred_df['pred_3'] + pred_df['pred_4'] + \n",
    "                     pred_df['pred_5'] + pred_df['pred_6'] + pred_df['pred_7'] + pred_df['pred_8'] + pred_df['pred_9']) / 10\n",
    "submit = test_ratings[['user_id', 'isbn', 'rating']]\n",
    "submit"
   ]
  },
  {
   "cell_type": "code",
   "execution_count": 131,
   "metadata": {},
   "outputs": [],
   "source": [
    "submit.to_csv('./code/submit/CB_HPO_Pred_AVG_rating_cnt.csv', index = False)"
   ]
  },
  {
   "cell_type": "markdown",
   "metadata": {},
   "source": [
    "- best_params = {'learning_rate': 0.1, 'depth': 10, 'colsample_bylevel': 0.5, 'boosting_type': 'Plain', 'bootstrap_type': 'MVS'}\n",
    "    - LB : 2.2369 / CV : 1.7941\n",
    "\n",
    "- best_params = {'learning_rate': 0.1, 'reg_lambda': 10, 'random_strength': 26, 'depth': 9, 'min_data_in_leaf': 2, 'leaf_estimation_iterations': 10, 'boosting_type': 'Ordered', 'bootstrap_type': 'Bernoulli', 'subsample': 0.3741523922560336}\n",
    "    - LB : 2.2479 / CV : 1.7941\n",
    "\n",
    "- best_params = {'depth': 11, 'learning_rate': 0.1, 'l2_leaf_reg': 3, 'random_strength': 0.001, 'min_data_in_leaf': 3, 'leaf_estimation_iterations': 9, 'boosting_type': 'Ordered', 'bootstrap_type': 'Bernoulli', 'subsample': 0.739458755076581} \n",
    "    - LB : 2.2444 / CV : 1.78230\n",
    "\n",
    "- best_params = {'learning_rate': 0.1, 'depth': 11, 'colsample_bylevel': 0.5, 'boosting_type': 'Plain', 'bootstrap_type': 'MVS'} (`CB_HPO_Pred_AVG.csv`)\n",
    "    - LB : 2.1850 / CV : 1.76569 \n",
    "\n",
    "- best_params = {'depth': 4, 'learning_rate': 0.5, 'l2_leaf_reg': 5, 'random_strength': 1e-05, 'colsample_bylevel': 1.0, 'boosting_type': 'Ordered', 'bootstrap_type': 'Bernoulli', 'subsample': 0.9714178680893226}  (`CB_HPO_add_Pred_AVG.csv`)\n",
    "    - LB : 2.1903 / CV : 1.76660\n",
    "\n",
    "- best_params = {'learning_rate': 0.1, 'depth': 11, 'colsample_bylevel': 0.5, 'boosting_type': 'Plain', 'bootstrap_type': 'MVS'} (`CB_HPO_Pred_AVG_no_avgrating.csv`)\n",
    "    - 기존 변수들에서 `rating_Avg`를 제거한 상태로 학습\n",
    "    - LB : 2.1279 / CV : 2.13052\n",
    "\n",
    "- best_params = {'depth': 14, 'learning_rate': 0.5, 'colsample_bylevel': 1.0, 'boosting_type': 'Ordered', 'bootstrap_type': 'Bayesian', 'bagging_temperature': 0.04719272677899547} (`CB_HPO_Pred_AVG_no_avgrating_HPO.csv`)\n",
    "    - 기존 변수들에서 `rating_Avg`를 제거한 상태로 학습\n",
    "    - LB : 2.1332 / CV : 2.13758 \n",
    "\n",
    "- best_params = {'depth': 6, 'learning_rate': 0.5, 'colsample_bylevel': 1.0, 'boosting_type': 'Ordered', 'bootstrap_type': 'Bernoulli', 'subsample': 0.9738981585202802}\n",
    "    - `rating_cnt` 추가\n",
    "    - LB : 2.1305 / CV : 2.12955"
   ]
  },
  {
   "cell_type": "markdown",
   "metadata": {},
   "source": [
    "## LightGBM"
   ]
  },
  {
   "cell_type": "code",
   "execution_count": 14,
   "metadata": {},
   "outputs": [],
   "source": [
    "def objectiveLGBM(trial : Trial, X_train, y_train, X_valid, y_valid) :\n",
    "    param = {\n",
    "        'boosting_type' : trial.suggest_categorical('boosting_type', ['gbdt', 'dart']),\n",
    "        'num_leaves' : trial.suggest_int('num_leaves', 30, 50),\n",
    "        'max_depth' : trial.suggest_int('max_depth', 1, 15),\n",
    "        'learning_rate' : trial.suggest_categorical('learning_rate', [1e-5, 1e-3, 0.1, 0.5]),\n",
    "        'colsample_bytree' : trial.suggest_categorical('colsample_bytree', [0.1, 0.3, 0.5, 0.7, 1.0]),\n",
    "        'subsample' : trial.suggest_categorical('subsample', [0.1, 0.3, 0.5, 0.7, 1.0]),\n",
    "        'reg_alpha' : trial.suggest_categorical('reg_alpha', [1e-3, 0.1, 1, 5, 10]),\n",
    "        'reg_lambda' : trial.suggest_categorical('reg_lambda', [1e-3, 0.1, 1, 5, 10]),\n",
    "        'min_child_weight': trial.suggest_categorical('min_child_weight', [1e-3, 0.1, 1, 5, 10]),\n",
    "    }\n",
    "    lgbm_model = LGBMRegressor(**param, n_estimators = 5000, objective = 'regression', metric = 'rmse',\n",
    "                               n_jobs = -1, verbose = -1, random_state = SEED)\n",
    "    callback = lightgbm.early_stopping(stopping_rounds = 100)\n",
    "    lgbm_model.fit(X_train, y_train, eval_set = [(X_train, y_train), (X_valid, y_valid)],\n",
    "                   eval_metric = 'rmse', callbacks = [callback])\n",
    "    \n",
    "    score = mean_squared_error(y_valid, lgbm_model.predict(X_valid), squared = False)\n",
    "    return score"
   ]
  },
  {
   "cell_type": "code",
   "execution_count": 15,
   "metadata": {},
   "outputs": [
    {
     "name": "stderr",
     "output_type": "stream",
     "text": [
      "[I 2023-12-15 13:08:07,509] A new study created in memory with name: no-name-2b5465e9-b405-46d5-8a39-a72bff979798\n",
      "[I 2023-12-15 13:13:22,558] Trial 0 finished with value: 1.9462932670262931 and parameters: {'boosting_type': 'dart', 'num_leaves': 45, 'max_depth': 9, 'learning_rate': 0.5, 'colsample_bytree': 0.7, 'subsample': 1.0, 'reg_alpha': 1, 'reg_lambda': 1, 'min_child_weight': 1}. Best is trial 0 with value: 1.9462932670262931.\n",
      "[I 2023-12-15 13:23:04,161] Trial 1 finished with value: 2.7512655857240094 and parameters: {'boosting_type': 'dart', 'num_leaves': 46, 'max_depth': 5, 'learning_rate': 0.001, 'colsample_bytree': 0.5, 'subsample': 1.0, 'reg_alpha': 0.1, 'reg_lambda': 10, 'min_child_weight': 0.1}. Best is trial 0 with value: 1.9462932670262931.\n",
      "[I 2023-12-15 13:27:42,611] Trial 2 finished with value: 7.630890264743444 and parameters: {'boosting_type': 'dart', 'num_leaves': 31, 'max_depth': 15, 'learning_rate': 0.5, 'colsample_bytree': 0.5, 'subsample': 0.3, 'reg_alpha': 10, 'reg_lambda': 5, 'min_child_weight': 0.001}. Best is trial 0 with value: 1.9462932670262931.\n"
     ]
    },
    {
     "name": "stdout",
     "output_type": "stream",
     "text": [
      "Training until validation scores don't improve for 100 rounds\n",
      "Did not meet early stopping. Best iteration is:\n",
      "[5000]\ttraining's rmse: 2.12043\tvalid_1's rmse: 2.1288\n"
     ]
    },
    {
     "name": "stderr",
     "output_type": "stream",
     "text": [
      "[I 2023-12-15 13:28:02,097] Trial 3 finished with value: 2.1288043693622063 and parameters: {'boosting_type': 'gbdt', 'num_leaves': 43, 'max_depth': 5, 'learning_rate': 0.001, 'colsample_bytree': 0.1, 'subsample': 0.1, 'reg_alpha': 10, 'reg_lambda': 10, 'min_child_weight': 0.001}. Best is trial 0 with value: 1.9462932670262931.\n",
      "[I 2023-12-15 13:31:12,186] Trial 4 finished with value: 7.395880250694369 and parameters: {'boosting_type': 'dart', 'num_leaves': 49, 'max_depth': 5, 'learning_rate': 0.5, 'colsample_bytree': 0.1, 'subsample': 0.3, 'reg_alpha': 10, 'reg_lambda': 1, 'min_child_weight': 1}. Best is trial 0 with value: 1.9462932670262931.\n"
     ]
    },
    {
     "name": "stdout",
     "output_type": "stream",
     "text": [
      "Training until validation scores don't improve for 100 rounds\n",
      "Did not meet early stopping. Best iteration is:\n",
      "[5000]\ttraining's rmse: 1.89957\tvalid_1's rmse: 1.9121\n"
     ]
    },
    {
     "name": "stderr",
     "output_type": "stream",
     "text": [
      "[I 2023-12-15 13:31:24,501] Trial 5 finished with value: 1.912103023622258 and parameters: {'boosting_type': 'gbdt', 'num_leaves': 33, 'max_depth': 1, 'learning_rate': 0.001, 'colsample_bytree': 0.7, 'subsample': 0.1, 'reg_alpha': 0.001, 'reg_lambda': 10, 'min_child_weight': 10}. Best is trial 5 with value: 1.912103023622258.\n"
     ]
    },
    {
     "name": "stdout",
     "output_type": "stream",
     "text": [
      "Training until validation scores don't improve for 100 rounds\n",
      "Did not meet early stopping. Best iteration is:\n",
      "[5000]\ttraining's rmse: 1.91529\tvalid_1's rmse: 1.92689\n"
     ]
    },
    {
     "name": "stderr",
     "output_type": "stream",
     "text": [
      "[I 2023-12-15 13:31:37,414] Trial 6 finished with value: 1.9268898092436648 and parameters: {'boosting_type': 'gbdt', 'num_leaves': 43, 'max_depth': 2, 'learning_rate': 0.001, 'colsample_bytree': 0.3, 'subsample': 0.7, 'reg_alpha': 5, 'reg_lambda': 0.001, 'min_child_weight': 0.001}. Best is trial 5 with value: 1.912103023622258.\n",
      "[I 2023-12-15 13:37:40,556] Trial 7 finished with value: 7.040715559633694 and parameters: {'boosting_type': 'dart', 'num_leaves': 40, 'max_depth': 3, 'learning_rate': 1e-05, 'colsample_bytree': 0.5, 'subsample': 0.7, 'reg_alpha': 0.001, 'reg_lambda': 1, 'min_child_weight': 1}. Best is trial 5 with value: 1.912103023622258.\n"
     ]
    },
    {
     "name": "stdout",
     "output_type": "stream",
     "text": [
      "Training until validation scores don't improve for 100 rounds\n"
     ]
    },
    {
     "name": "stderr",
     "output_type": "stream",
     "text": [
      "[I 2023-12-15 13:37:41,548] Trial 8 finished with value: 1.8746150189688395 and parameters: {'boosting_type': 'gbdt', 'num_leaves': 44, 'max_depth': 11, 'learning_rate': 0.5, 'colsample_bytree': 0.3, 'subsample': 0.7, 'reg_alpha': 1, 'reg_lambda': 1, 'min_child_weight': 0.001}. Best is trial 8 with value: 1.8746150189688395.\n"
     ]
    },
    {
     "name": "stdout",
     "output_type": "stream",
     "text": [
      "Early stopping, best iteration is:\n",
      "[60]\ttraining's rmse: 1.82236\tvalid_1's rmse: 1.87462\n"
     ]
    },
    {
     "name": "stderr",
     "output_type": "stream",
     "text": [
      "[I 2023-12-15 13:39:44,804] Trial 9 finished with value: 7.143864739495544 and parameters: {'boosting_type': 'dart', 'num_leaves': 31, 'max_depth': 1, 'learning_rate': 0.5, 'colsample_bytree': 0.1, 'subsample': 0.7, 'reg_alpha': 0.001, 'reg_lambda': 10, 'min_child_weight': 0.001}. Best is trial 8 with value: 1.8746150189688395.\n"
     ]
    },
    {
     "name": "stdout",
     "output_type": "stream",
     "text": [
      "Training until validation scores don't improve for 100 rounds\n",
      "Early stopping, best iteration is:\n",
      "[723]\ttraining's rmse: 1.77405\tvalid_1's rmse: 1.85849\n"
     ]
    },
    {
     "name": "stderr",
     "output_type": "stream",
     "text": [
      "[I 2023-12-15 13:39:48,696] Trial 10 finished with value: 1.8584892610762904 and parameters: {'boosting_type': 'gbdt', 'num_leaves': 37, 'max_depth': 12, 'learning_rate': 0.1, 'colsample_bytree': 0.3, 'subsample': 0.5, 'reg_alpha': 1, 'reg_lambda': 0.1, 'min_child_weight': 5}. Best is trial 10 with value: 1.8584892610762904.\n"
     ]
    },
    {
     "name": "stdout",
     "output_type": "stream",
     "text": [
      "Training until validation scores don't improve for 100 rounds\n",
      "Early stopping, best iteration is:\n",
      "[723]\ttraining's rmse: 1.77405\tvalid_1's rmse: 1.85849\n"
     ]
    },
    {
     "name": "stderr",
     "output_type": "stream",
     "text": [
      "[I 2023-12-15 13:39:52,377] Trial 11 finished with value: 1.8584892610762904 and parameters: {'boosting_type': 'gbdt', 'num_leaves': 37, 'max_depth': 12, 'learning_rate': 0.1, 'colsample_bytree': 0.3, 'subsample': 0.5, 'reg_alpha': 1, 'reg_lambda': 0.1, 'min_child_weight': 5}. Best is trial 10 with value: 1.8584892610762904.\n"
     ]
    },
    {
     "name": "stdout",
     "output_type": "stream",
     "text": [
      "Training until validation scores don't improve for 100 rounds\n"
     ]
    },
    {
     "name": "stderr",
     "output_type": "stream",
     "text": [
      "[I 2023-12-15 13:39:55,595] Trial 12 finished with value: 1.857775242096866 and parameters: {'boosting_type': 'gbdt', 'num_leaves': 36, 'max_depth': 13, 'learning_rate': 0.1, 'colsample_bytree': 1.0, 'subsample': 0.5, 'reg_alpha': 1, 'reg_lambda': 0.1, 'min_child_weight': 5}. Best is trial 12 with value: 1.857775242096866.\n"
     ]
    },
    {
     "name": "stdout",
     "output_type": "stream",
     "text": [
      "Early stopping, best iteration is:\n",
      "[552]\ttraining's rmse: 1.7623\tvalid_1's rmse: 1.85778\n",
      "Training until validation scores don't improve for 100 rounds\n"
     ]
    },
    {
     "name": "stderr",
     "output_type": "stream",
     "text": [
      "[I 2023-12-15 13:39:58,378] Trial 13 finished with value: 1.8585193975128478 and parameters: {'boosting_type': 'gbdt', 'num_leaves': 36, 'max_depth': 15, 'learning_rate': 0.1, 'colsample_bytree': 1.0, 'subsample': 0.5, 'reg_alpha': 1, 'reg_lambda': 0.1, 'min_child_weight': 5}. Best is trial 12 with value: 1.857775242096866.\n"
     ]
    },
    {
     "name": "stdout",
     "output_type": "stream",
     "text": [
      "Early stopping, best iteration is:\n",
      "[425]\ttraining's rmse: 1.77931\tvalid_1's rmse: 1.85852\n",
      "Training until validation scores don't improve for 100 rounds\n"
     ]
    },
    {
     "name": "stderr",
     "output_type": "stream",
     "text": [
      "[I 2023-12-15 13:40:01,583] Trial 14 finished with value: 1.857775242096866 and parameters: {'boosting_type': 'gbdt', 'num_leaves': 36, 'max_depth': 13, 'learning_rate': 0.1, 'colsample_bytree': 1.0, 'subsample': 0.5, 'reg_alpha': 1, 'reg_lambda': 0.1, 'min_child_weight': 5}. Best is trial 12 with value: 1.857775242096866.\n"
     ]
    },
    {
     "name": "stdout",
     "output_type": "stream",
     "text": [
      "Early stopping, best iteration is:\n",
      "[552]\ttraining's rmse: 1.7623\tvalid_1's rmse: 1.85778\n",
      "Training until validation scores don't improve for 100 rounds\n"
     ]
    },
    {
     "name": "stderr",
     "output_type": "stream",
     "text": [
      "[I 2023-12-15 13:40:04,694] Trial 15 finished with value: 1.8589018676501479 and parameters: {'boosting_type': 'gbdt', 'num_leaves': 34, 'max_depth': 9, 'learning_rate': 0.1, 'colsample_bytree': 1.0, 'subsample': 0.5, 'reg_alpha': 0.1, 'reg_lambda': 0.1, 'min_child_weight': 5}. Best is trial 12 with value: 1.857775242096866.\n"
     ]
    },
    {
     "name": "stdout",
     "output_type": "stream",
     "text": [
      "Early stopping, best iteration is:\n",
      "[528]\ttraining's rmse: 1.7728\tvalid_1's rmse: 1.8589\n",
      "Training until validation scores don't improve for 100 rounds\n"
     ]
    },
    {
     "name": "stderr",
     "output_type": "stream",
     "text": [
      "[I 2023-12-15 13:40:07,616] Trial 16 finished with value: 1.8577964842982615 and parameters: {'boosting_type': 'gbdt', 'num_leaves': 40, 'max_depth': 13, 'learning_rate': 0.1, 'colsample_bytree': 1.0, 'subsample': 0.5, 'reg_alpha': 5, 'reg_lambda': 0.1, 'min_child_weight': 5}. Best is trial 12 with value: 1.857775242096866.\n"
     ]
    },
    {
     "name": "stdout",
     "output_type": "stream",
     "text": [
      "Early stopping, best iteration is:\n",
      "[423]\ttraining's rmse: 1.77454\tvalid_1's rmse: 1.8578\n",
      "Training until validation scores don't improve for 100 rounds\n",
      "Did not meet early stopping. Best iteration is:\n",
      "[5000]\ttraining's rmse: 2.38464\tvalid_1's rmse: 2.38748\n"
     ]
    },
    {
     "name": "stderr",
     "output_type": "stream",
     "text": [
      "[I 2023-12-15 13:40:54,741] Trial 17 finished with value: 2.387477835090298 and parameters: {'boosting_type': 'gbdt', 'num_leaves': 40, 'max_depth': 10, 'learning_rate': 1e-05, 'colsample_bytree': 1.0, 'subsample': 0.5, 'reg_alpha': 1, 'reg_lambda': 0.001, 'min_child_weight': 0.1}. Best is trial 12 with value: 1.857775242096866.\n"
     ]
    },
    {
     "name": "stdout",
     "output_type": "stream",
     "text": [
      "Training until validation scores don't improve for 100 rounds\n"
     ]
    },
    {
     "name": "stderr",
     "output_type": "stream",
     "text": [
      "[I 2023-12-15 13:40:57,363] Trial 18 finished with value: 1.8587716897589244 and parameters: {'boosting_type': 'gbdt', 'num_leaves': 35, 'max_depth': 14, 'learning_rate': 0.1, 'colsample_bytree': 1.0, 'subsample': 0.5, 'reg_alpha': 1, 'reg_lambda': 5, 'min_child_weight': 10}. Best is trial 12 with value: 1.857775242096866.\n"
     ]
    },
    {
     "name": "stdout",
     "output_type": "stream",
     "text": [
      "Early stopping, best iteration is:\n",
      "[377]\ttraining's rmse: 1.7925\tvalid_1's rmse: 1.85877\n",
      "Training until validation scores don't improve for 100 rounds\n"
     ]
    },
    {
     "name": "stderr",
     "output_type": "stream",
     "text": [
      "[I 2023-12-15 13:41:01,099] Trial 19 finished with value: 1.8582821669272167 and parameters: {'boosting_type': 'gbdt', 'num_leaves': 38, 'max_depth': 7, 'learning_rate': 0.1, 'colsample_bytree': 1.0, 'subsample': 0.5, 'reg_alpha': 1, 'reg_lambda': 0.1, 'min_child_weight': 5}. Best is trial 12 with value: 1.857775242096866.\n"
     ]
    },
    {
     "name": "stdout",
     "output_type": "stream",
     "text": [
      "Early stopping, best iteration is:\n",
      "[573]\ttraining's rmse: 1.76466\tvalid_1's rmse: 1.85828\n",
      "Training until validation scores don't improve for 100 rounds\n"
     ]
    },
    {
     "name": "stderr",
     "output_type": "stream",
     "text": [
      "[I 2023-12-15 13:41:04,206] Trial 20 finished with value: 1.8588447516713684 and parameters: {'boosting_type': 'gbdt', 'num_leaves': 33, 'max_depth': 7, 'learning_rate': 0.1, 'colsample_bytree': 1.0, 'subsample': 1.0, 'reg_alpha': 5, 'reg_lambda': 0.1, 'min_child_weight': 5}. Best is trial 12 with value: 1.857775242096866.\n"
     ]
    },
    {
     "name": "stdout",
     "output_type": "stream",
     "text": [
      "Early stopping, best iteration is:\n",
      "[539]\ttraining's rmse: 1.78037\tvalid_1's rmse: 1.85884\n",
      "Training until validation scores don't improve for 100 rounds\n"
     ]
    },
    {
     "name": "stderr",
     "output_type": "stream",
     "text": [
      "[I 2023-12-15 13:41:07,260] Trial 21 finished with value: 1.8587113110373277 and parameters: {'boosting_type': 'gbdt', 'num_leaves': 39, 'max_depth': 13, 'learning_rate': 0.1, 'colsample_bytree': 1.0, 'subsample': 0.5, 'reg_alpha': 5, 'reg_lambda': 0.1, 'min_child_weight': 5}. Best is trial 12 with value: 1.857775242096866.\n"
     ]
    },
    {
     "name": "stdout",
     "output_type": "stream",
     "text": [
      "Early stopping, best iteration is:\n",
      "[518]\ttraining's rmse: 1.76278\tvalid_1's rmse: 1.85871\n",
      "Training until validation scores don't improve for 100 rounds\n"
     ]
    },
    {
     "name": "stderr",
     "output_type": "stream",
     "text": [
      "[I 2023-12-15 13:41:11,075] Trial 22 finished with value: 1.8575745931789833 and parameters: {'boosting_type': 'gbdt', 'num_leaves': 41, 'max_depth': 12, 'learning_rate': 0.1, 'colsample_bytree': 1.0, 'subsample': 0.5, 'reg_alpha': 5, 'reg_lambda': 0.1, 'min_child_weight': 5}. Best is trial 22 with value: 1.8575745931789833.\n"
     ]
    },
    {
     "name": "stdout",
     "output_type": "stream",
     "text": [
      "Early stopping, best iteration is:\n",
      "[650]\ttraining's rmse: 1.73984\tvalid_1's rmse: 1.85757\n",
      "Training until validation scores don't improve for 100 rounds\n"
     ]
    },
    {
     "name": "stderr",
     "output_type": "stream",
     "text": [
      "[I 2023-12-15 13:41:14,329] Trial 23 finished with value: 1.85818538329485 and parameters: {'boosting_type': 'gbdt', 'num_leaves': 42, 'max_depth': 11, 'learning_rate': 0.1, 'colsample_bytree': 1.0, 'subsample': 0.5, 'reg_alpha': 5, 'reg_lambda': 0.1, 'min_child_weight': 5}. Best is trial 22 with value: 1.8575745931789833.\n"
     ]
    },
    {
     "name": "stdout",
     "output_type": "stream",
     "text": [
      "Early stopping, best iteration is:\n",
      "[522]\ttraining's rmse: 1.75685\tvalid_1's rmse: 1.85819\n",
      "Training until validation scores don't improve for 100 rounds\n",
      "Did not meet early stopping. Best iteration is:\n",
      "[5000]\ttraining's rmse: 2.38463\tvalid_1's rmse: 2.38747\n"
     ]
    },
    {
     "name": "stderr",
     "output_type": "stream",
     "text": [
      "[I 2023-12-15 13:42:01,821] Trial 24 finished with value: 2.3874743996148307 and parameters: {'boosting_type': 'gbdt', 'num_leaves': 41, 'max_depth': 13, 'learning_rate': 1e-05, 'colsample_bytree': 1.0, 'subsample': 0.5, 'reg_alpha': 0.1, 'reg_lambda': 0.1, 'min_child_weight': 5}. Best is trial 22 with value: 1.8575745931789833.\n"
     ]
    },
    {
     "name": "stdout",
     "output_type": "stream",
     "text": [
      "Training until validation scores don't improve for 100 rounds\n"
     ]
    },
    {
     "name": "stderr",
     "output_type": "stream",
     "text": [
      "[I 2023-12-15 13:42:04,560] Trial 25 finished with value: 1.8585842402412496 and parameters: {'boosting_type': 'gbdt', 'num_leaves': 35, 'max_depth': 14, 'learning_rate': 0.1, 'colsample_bytree': 1.0, 'subsample': 0.1, 'reg_alpha': 5, 'reg_lambda': 0.001, 'min_child_weight': 10}. Best is trial 22 with value: 1.8575745931789833.\n"
     ]
    },
    {
     "name": "stdout",
     "output_type": "stream",
     "text": [
      "Early stopping, best iteration is:\n",
      "[409]\ttraining's rmse: 1.78549\tvalid_1's rmse: 1.85858\n",
      "Training until validation scores don't improve for 100 rounds\n"
     ]
    },
    {
     "name": "stderr",
     "output_type": "stream",
     "text": [
      "[I 2023-12-15 13:42:08,033] Trial 26 finished with value: 1.8584412191840736 and parameters: {'boosting_type': 'gbdt', 'num_leaves': 47, 'max_depth': 11, 'learning_rate': 0.1, 'colsample_bytree': 0.7, 'subsample': 0.3, 'reg_alpha': 1, 'reg_lambda': 0.1, 'min_child_weight': 0.1}. Best is trial 22 with value: 1.8575745931789833.\n"
     ]
    },
    {
     "name": "stdout",
     "output_type": "stream",
     "text": [
      "Early stopping, best iteration is:\n",
      "[524]\ttraining's rmse: 1.75144\tvalid_1's rmse: 1.85844\n",
      "Training until validation scores don't improve for 100 rounds\n"
     ]
    },
    {
     "name": "stderr",
     "output_type": "stream",
     "text": [
      "[I 2023-12-15 13:42:10,480] Trial 27 finished with value: 1.8600474860038052 and parameters: {'boosting_type': 'gbdt', 'num_leaves': 38, 'max_depth': 14, 'learning_rate': 0.1, 'colsample_bytree': 1.0, 'subsample': 0.5, 'reg_alpha': 1, 'reg_lambda': 0.1, 'min_child_weight': 5}. Best is trial 22 with value: 1.8575745931789833.\n"
     ]
    },
    {
     "name": "stdout",
     "output_type": "stream",
     "text": [
      "Early stopping, best iteration is:\n",
      "[350]\ttraining's rmse: 1.78709\tvalid_1's rmse: 1.86005\n",
      "Training until validation scores don't improve for 100 rounds\n"
     ]
    },
    {
     "name": "stderr",
     "output_type": "stream",
     "text": [
      "[I 2023-12-15 13:42:14,359] Trial 28 finished with value: 1.8574871315861985 and parameters: {'boosting_type': 'gbdt', 'num_leaves': 30, 'max_depth': 12, 'learning_rate': 0.1, 'colsample_bytree': 1.0, 'subsample': 0.5, 'reg_alpha': 5, 'reg_lambda': 5, 'min_child_weight': 5}. Best is trial 28 with value: 1.8574871315861985.\n"
     ]
    },
    {
     "name": "stdout",
     "output_type": "stream",
     "text": [
      "Early stopping, best iteration is:\n",
      "[736]\ttraining's rmse: 1.76218\tvalid_1's rmse: 1.85749\n"
     ]
    },
    {
     "name": "stderr",
     "output_type": "stream",
     "text": [
      "[I 2023-12-15 13:52:56,996] Trial 29 finished with value: 7.039681670015834 and parameters: {'boosting_type': 'dart', 'num_leaves': 30, 'max_depth': 10, 'learning_rate': 1e-05, 'colsample_bytree': 0.7, 'subsample': 1.0, 'reg_alpha': 5, 'reg_lambda': 5, 'min_child_weight': 1}. Best is trial 28 with value: 1.8574871315861985.\n"
     ]
    },
    {
     "name": "stdout",
     "output_type": "stream",
     "text": [
      "Training until validation scores don't improve for 100 rounds\n"
     ]
    },
    {
     "name": "stderr",
     "output_type": "stream",
     "text": [
      "[I 2023-12-15 13:53:00,438] Trial 30 finished with value: 1.8585056496616352 and parameters: {'boosting_type': 'gbdt', 'num_leaves': 32, 'max_depth': 9, 'learning_rate': 0.1, 'colsample_bytree': 1.0, 'subsample': 0.5, 'reg_alpha': 5, 'reg_lambda': 5, 'min_child_weight': 5}. Best is trial 28 with value: 1.8574871315861985.\n"
     ]
    },
    {
     "name": "stdout",
     "output_type": "stream",
     "text": [
      "Early stopping, best iteration is:\n",
      "[577]\ttraining's rmse: 1.77664\tvalid_1's rmse: 1.85851\n",
      "Training until validation scores don't improve for 100 rounds\n"
     ]
    },
    {
     "name": "stderr",
     "output_type": "stream",
     "text": [
      "[I 2023-12-15 13:53:03,316] Trial 31 finished with value: 1.8587658341672764 and parameters: {'boosting_type': 'gbdt', 'num_leaves': 35, 'max_depth': 12, 'learning_rate': 0.1, 'colsample_bytree': 1.0, 'subsample': 0.5, 'reg_alpha': 5, 'reg_lambda': 5, 'min_child_weight': 5}. Best is trial 28 with value: 1.8574871315861985.\n"
     ]
    },
    {
     "name": "stdout",
     "output_type": "stream",
     "text": [
      "Early stopping, best iteration is:\n",
      "[460]\ttraining's rmse: 1.78252\tvalid_1's rmse: 1.85877\n",
      "Training until validation scores don't improve for 100 rounds\n"
     ]
    },
    {
     "name": "stderr",
     "output_type": "stream",
     "text": [
      "[I 2023-12-15 13:53:06,052] Trial 32 finished with value: 1.8582679416830166 and parameters: {'boosting_type': 'gbdt', 'num_leaves': 30, 'max_depth': 13, 'learning_rate': 0.1, 'colsample_bytree': 1.0, 'subsample': 0.5, 'reg_alpha': 0.1, 'reg_lambda': 5, 'min_child_weight': 5}. Best is trial 28 with value: 1.8574871315861985.\n"
     ]
    },
    {
     "name": "stdout",
     "output_type": "stream",
     "text": [
      "Early stopping, best iteration is:\n",
      "[474]\ttraining's rmse: 1.78822\tvalid_1's rmse: 1.85827\n",
      "Training until validation scores don't improve for 100 rounds\n"
     ]
    },
    {
     "name": "stderr",
     "output_type": "stream",
     "text": [
      "[I 2023-12-15 13:53:09,461] Trial 33 finished with value: 1.8582230064307186 and parameters: {'boosting_type': 'gbdt', 'num_leaves': 45, 'max_depth': 15, 'learning_rate': 0.1, 'colsample_bytree': 0.5, 'subsample': 1.0, 'reg_alpha': 5, 'reg_lambda': 5, 'min_child_weight': 0.1}. Best is trial 28 with value: 1.8574871315861985.\n"
     ]
    },
    {
     "name": "stdout",
     "output_type": "stream",
     "text": [
      "Early stopping, best iteration is:\n",
      "[505]\ttraining's rmse: 1.76928\tvalid_1's rmse: 1.85822\n"
     ]
    },
    {
     "name": "stderr",
     "output_type": "stream",
     "text": [
      "[I 2023-12-15 14:04:53,433] Trial 34 finished with value: 2.6918320047613067 and parameters: {'boosting_type': 'dart', 'num_leaves': 33, 'max_depth': 10, 'learning_rate': 0.001, 'colsample_bytree': 1.0, 'subsample': 0.3, 'reg_alpha': 10, 'reg_lambda': 0.1, 'min_child_weight': 5}. Best is trial 28 with value: 1.8574871315861985.\n"
     ]
    },
    {
     "name": "stdout",
     "output_type": "stream",
     "text": [
      "Training until validation scores don't improve for 100 rounds\n",
      "Early stopping, best iteration is:\n",
      "[755]\ttraining's rmse: 1.8458\tvalid_1's rmse: 1.8692\n"
     ]
    },
    {
     "name": "stderr",
     "output_type": "stream",
     "text": [
      "[I 2023-12-15 14:04:57,793] Trial 35 finished with value: 1.869200286893409 and parameters: {'boosting_type': 'gbdt', 'num_leaves': 42, 'max_depth': 12, 'learning_rate': 0.1, 'colsample_bytree': 0.1, 'subsample': 0.5, 'reg_alpha': 1, 'reg_lambda': 1, 'min_child_weight': 5}. Best is trial 28 with value: 1.8574871315861985.\n",
      "[I 2023-12-15 14:09:39,168] Trial 36 finished with value: 6.48642594539177 and parameters: {'boosting_type': 'dart', 'num_leaves': 38, 'max_depth': 14, 'learning_rate': 0.5, 'colsample_bytree': 0.5, 'subsample': 0.1, 'reg_alpha': 10, 'reg_lambda': 10, 'min_child_weight': 1}. Best is trial 28 with value: 1.8574871315861985.\n"
     ]
    },
    {
     "name": "stdout",
     "output_type": "stream",
     "text": [
      "Training until validation scores don't improve for 100 rounds\n",
      "Did not meet early stopping. Best iteration is:\n",
      "[5000]\ttraining's rmse: 1.84985\tvalid_1's rmse: 1.87116\n"
     ]
    },
    {
     "name": "stderr",
     "output_type": "stream",
     "text": [
      "[I 2023-12-15 14:10:17,376] Trial 37 finished with value: 1.871155010870594 and parameters: {'boosting_type': 'gbdt', 'num_leaves': 36, 'max_depth': 7, 'learning_rate': 0.001, 'colsample_bytree': 0.7, 'subsample': 0.5, 'reg_alpha': 0.001, 'reg_lambda': 0.001, 'min_child_weight': 10}. Best is trial 28 with value: 1.8574871315861985.\n"
     ]
    },
    {
     "name": "stdout",
     "output_type": "stream",
     "text": [
      "Training until validation scores don't improve for 100 rounds\n",
      "Early stopping, best iteration is:\n",
      "[786]\ttraining's rmse: 1.75786\tvalid_1's rmse: 1.85858\n"
     ]
    },
    {
     "name": "stderr",
     "output_type": "stream",
     "text": [
      "[I 2023-12-15 14:10:21,593] Trial 38 finished with value: 1.858578974238592 and parameters: {'boosting_type': 'gbdt', 'num_leaves': 32, 'max_depth': 8, 'learning_rate': 0.1, 'colsample_bytree': 1.0, 'subsample': 0.3, 'reg_alpha': 5, 'reg_lambda': 5, 'min_child_weight': 5}. Best is trial 28 with value: 1.8574871315861985.\n",
      "[I 2023-12-15 14:19:13,978] Trial 39 finished with value: 5.036427020323276 and parameters: {'boosting_type': 'dart', 'num_leaves': 47, 'max_depth': 11, 'learning_rate': 0.5, 'colsample_bytree': 0.1, 'subsample': 0.1, 'reg_alpha': 1, 'reg_lambda': 0.1, 'min_child_weight': 5}. Best is trial 28 with value: 1.8574871315861985.\n"
     ]
    },
    {
     "name": "stdout",
     "output_type": "stream",
     "text": [
      "Training until validation scores don't improve for 100 rounds\n",
      "Did not meet early stopping. Best iteration is:\n",
      "[5000]\ttraining's rmse: 1.86132\tvalid_1's rmse: 1.8763\n"
     ]
    },
    {
     "name": "stderr",
     "output_type": "stream",
     "text": [
      "[I 2023-12-15 14:19:38,249] Trial 40 finished with value: 1.8763005927508853 and parameters: {'boosting_type': 'gbdt', 'num_leaves': 50, 'max_depth': 4, 'learning_rate': 0.001, 'colsample_bytree': 0.5, 'subsample': 0.7, 'reg_alpha': 10, 'reg_lambda': 10, 'min_child_weight': 0.001}. Best is trial 28 with value: 1.8574871315861985.\n"
     ]
    },
    {
     "name": "stdout",
     "output_type": "stream",
     "text": [
      "Training until validation scores don't improve for 100 rounds\n"
     ]
    },
    {
     "name": "stderr",
     "output_type": "stream",
     "text": [
      "[I 2023-12-15 14:19:42,482] Trial 41 finished with value: 1.857660253962212 and parameters: {'boosting_type': 'gbdt', 'num_leaves': 41, 'max_depth': 13, 'learning_rate': 0.1, 'colsample_bytree': 1.0, 'subsample': 0.5, 'reg_alpha': 5, 'reg_lambda': 0.1, 'min_child_weight': 5}. Best is trial 28 with value: 1.8574871315861985.\n"
     ]
    },
    {
     "name": "stdout",
     "output_type": "stream",
     "text": [
      "Early stopping, best iteration is:\n",
      "[697]\ttraining's rmse: 1.73274\tvalid_1's rmse: 1.85766\n",
      "Training until validation scores don't improve for 100 rounds\n"
     ]
    },
    {
     "name": "stderr",
     "output_type": "stream",
     "text": [
      "[I 2023-12-15 14:19:47,268] Trial 42 finished with value: 1.8570557359879565 and parameters: {'boosting_type': 'gbdt', 'num_leaves': 42, 'max_depth': 13, 'learning_rate': 0.1, 'colsample_bytree': 1.0, 'subsample': 0.5, 'reg_alpha': 5, 'reg_lambda': 0.1, 'min_child_weight': 5}. Best is trial 42 with value: 1.8570557359879565.\n"
     ]
    },
    {
     "name": "stdout",
     "output_type": "stream",
     "text": [
      "Early stopping, best iteration is:\n",
      "[728]\ttraining's rmse: 1.72591\tvalid_1's rmse: 1.85706\n",
      "Training until validation scores don't improve for 100 rounds\n"
     ]
    },
    {
     "name": "stderr",
     "output_type": "stream",
     "text": [
      "[I 2023-12-15 14:19:50,756] Trial 43 finished with value: 1.8584288407622231 and parameters: {'boosting_type': 'gbdt', 'num_leaves': 42, 'max_depth': 15, 'learning_rate': 0.1, 'colsample_bytree': 1.0, 'subsample': 0.5, 'reg_alpha': 5, 'reg_lambda': 0.1, 'min_child_weight': 5}. Best is trial 42 with value: 1.8570557359879565.\n"
     ]
    },
    {
     "name": "stdout",
     "output_type": "stream",
     "text": [
      "Early stopping, best iteration is:\n",
      "[527]\ttraining's rmse: 1.7551\tvalid_1's rmse: 1.85843\n",
      "Training until validation scores don't improve for 100 rounds\n",
      "Early stopping, best iteration is:\n",
      "[737]\ttraining's rmse: 1.76437\tvalid_1's rmse: 1.85693\n"
     ]
    },
    {
     "name": "stderr",
     "output_type": "stream",
     "text": [
      "[I 2023-12-15 14:19:54,867] Trial 44 finished with value: 1.8569333368094627 and parameters: {'boosting_type': 'gbdt', 'num_leaves': 44, 'max_depth': 12, 'learning_rate': 0.1, 'colsample_bytree': 0.3, 'subsample': 0.5, 'reg_alpha': 5, 'reg_lambda': 1, 'min_child_weight': 1}. Best is trial 44 with value: 1.8569333368094627.\n"
     ]
    },
    {
     "name": "stdout",
     "output_type": "stream",
     "text": [
      "Training until validation scores don't improve for 100 rounds\n",
      "Early stopping, best iteration is:\n",
      "[737]\ttraining's rmse: 1.76437\tvalid_1's rmse: 1.85693\n"
     ]
    },
    {
     "name": "stderr",
     "output_type": "stream",
     "text": [
      "[I 2023-12-15 14:19:59,063] Trial 45 finished with value: 1.8569333368094627 and parameters: {'boosting_type': 'gbdt', 'num_leaves': 44, 'max_depth': 12, 'learning_rate': 0.1, 'colsample_bytree': 0.3, 'subsample': 0.5, 'reg_alpha': 5, 'reg_lambda': 1, 'min_child_weight': 1}. Best is trial 44 with value: 1.8569333368094627.\n"
     ]
    },
    {
     "name": "stdout",
     "output_type": "stream",
     "text": [
      "Training until validation scores don't improve for 100 rounds\n",
      "Did not meet early stopping. Best iteration is:\n",
      "[5000]\ttraining's rmse: 2.41605\tvalid_1's rmse: 2.41838\n"
     ]
    },
    {
     "name": "stderr",
     "output_type": "stream",
     "text": [
      "[I 2023-12-15 14:20:34,207] Trial 46 finished with value: 2.418384658168914 and parameters: {'boosting_type': 'gbdt', 'num_leaves': 44, 'max_depth': 12, 'learning_rate': 1e-05, 'colsample_bytree': 0.3, 'subsample': 0.7, 'reg_alpha': 5, 'reg_lambda': 1, 'min_child_weight': 1}. Best is trial 44 with value: 1.8569333368094627.\n"
     ]
    },
    {
     "name": "stdout",
     "output_type": "stream",
     "text": [
      "Training until validation scores don't improve for 100 rounds\n",
      "Early stopping, best iteration is:\n",
      "[623]\ttraining's rmse: 1.77565\tvalid_1's rmse: 1.85765\n"
     ]
    },
    {
     "name": "stderr",
     "output_type": "stream",
     "text": [
      "[I 2023-12-15 14:20:37,907] Trial 47 finished with value: 1.8576454680744567 and parameters: {'boosting_type': 'gbdt', 'num_leaves': 44, 'max_depth': 11, 'learning_rate': 0.1, 'colsample_bytree': 0.3, 'subsample': 0.5, 'reg_alpha': 5, 'reg_lambda': 1, 'min_child_weight': 1}. Best is trial 44 with value: 1.8569333368094627.\n",
      "[I 2023-12-15 14:25:54,759] Trial 48 finished with value: 6.307307968382457 and parameters: {'boosting_type': 'dart', 'num_leaves': 43, 'max_depth': 10, 'learning_rate': 0.5, 'colsample_bytree': 0.3, 'subsample': 1.0, 'reg_alpha': 5, 'reg_lambda': 1, 'min_child_weight': 1}. Best is trial 44 with value: 1.8569333368094627.\n"
     ]
    },
    {
     "name": "stdout",
     "output_type": "stream",
     "text": [
      "Training until validation scores don't improve for 100 rounds\n"
     ]
    },
    {
     "name": "stderr",
     "output_type": "stream",
     "text": [
      "[I 2023-12-15 14:25:58,069] Trial 49 finished with value: 1.8577011339968028 and parameters: {'boosting_type': 'gbdt', 'num_leaves': 46, 'max_depth': 12, 'learning_rate': 0.1, 'colsample_bytree': 0.3, 'subsample': 0.5, 'reg_alpha': 5, 'reg_lambda': 1, 'min_child_weight': 1}. Best is trial 44 with value: 1.8569333368094627.\n"
     ]
    },
    {
     "name": "stdout",
     "output_type": "stream",
     "text": [
      "Early stopping, best iteration is:\n",
      "[517]\ttraining's rmse: 1.78368\tvalid_1's rmse: 1.8577\n",
      "Best trial : score 1.8569333368094627, \n",
      " params = {'boosting_type': 'gbdt', 'num_leaves': 44, 'max_depth': 12, 'learning_rate': 0.1, 'colsample_bytree': 0.3, 'subsample': 0.5, 'reg_alpha': 5, 'reg_lambda': 1, 'min_child_weight': 1} \n",
      "\n"
     ]
    }
   ],
   "source": [
    "# Study Optuna\n",
    "study = optuna.create_study(direction = 'minimize', sampler = TPESampler(seed = SEED))\n",
    "study.optimize(lambda trial : objectiveLGBM(trial, X_train, y_train, X_valid, y_valid), n_trials = 50)\n",
    "print(f'Best trial : score {study.best_trial.value}, \\n params = {study.best_trial.params} \\n') "
   ]
  },
  {
   "cell_type": "code",
   "execution_count": 16,
   "metadata": {},
   "outputs": [
    {
     "name": "stderr",
     "output_type": "stream",
     "text": [
      "  0%|          | 0/10 [00:00<?, ?it/s]"
     ]
    },
    {
     "name": "stdout",
     "output_type": "stream",
     "text": [
      "Training until validation scores don't improve for 100 rounds\n",
      "Early stopping, best iteration is:\n",
      "[669]\ttraining's rmse: 1.77124\tvalid_1's rmse: 1.84505\n",
      "Valid Set 1 번째 Fold RMSE : 1.84505\n"
     ]
    },
    {
     "name": "stderr",
     "output_type": "stream",
     "text": [
      " 10%|█         | 1/10 [00:04<00:39,  4.36s/it]"
     ]
    },
    {
     "name": "stdout",
     "output_type": "stream",
     "text": [
      "Training until validation scores don't improve for 100 rounds\n",
      "Early stopping, best iteration is:\n",
      "[709]\ttraining's rmse: 1.76938\tvalid_1's rmse: 1.84211\n",
      "Valid Set 2 번째 Fold RMSE : 1.84211\n"
     ]
    },
    {
     "name": "stderr",
     "output_type": "stream",
     "text": [
      " 20%|██        | 2/10 [00:08<00:35,  4.46s/it]"
     ]
    },
    {
     "name": "stdout",
     "output_type": "stream",
     "text": [
      "Training until validation scores don't improve for 100 rounds\n",
      "Early stopping, best iteration is:\n",
      "[750]\ttraining's rmse: 1.76591\tvalid_1's rmse: 1.83455\n",
      "Valid Set 3 번째 Fold RMSE : 1.83455\n"
     ]
    },
    {
     "name": "stderr",
     "output_type": "stream",
     "text": [
      " 30%|███       | 3/10 [00:13<00:32,  4.58s/it]"
     ]
    },
    {
     "name": "stdout",
     "output_type": "stream",
     "text": [
      "Training until validation scores don't improve for 100 rounds\n",
      "Early stopping, best iteration is:\n",
      "[723]\ttraining's rmse: 1.76602\tvalid_1's rmse: 1.84613\n",
      "Valid Set 4 번째 Fold RMSE : 1.84613\n"
     ]
    },
    {
     "name": "stderr",
     "output_type": "stream",
     "text": [
      " 40%|████      | 4/10 [00:17<00:26,  4.46s/it]"
     ]
    },
    {
     "name": "stdout",
     "output_type": "stream",
     "text": [
      "Training until validation scores don't improve for 100 rounds\n",
      "Early stopping, best iteration is:\n",
      "[955]\ttraining's rmse: 1.74373\tvalid_1's rmse: 1.84995\n",
      "Valid Set 5 번째 Fold RMSE : 1.84995\n"
     ]
    },
    {
     "name": "stderr",
     "output_type": "stream",
     "text": [
      " 50%|█████     | 5/10 [00:23<00:24,  4.96s/it]"
     ]
    },
    {
     "name": "stdout",
     "output_type": "stream",
     "text": [
      "Training until validation scores don't improve for 100 rounds\n",
      "Early stopping, best iteration is:\n",
      "[919]\ttraining's rmse: 1.74868\tvalid_1's rmse: 1.85163\n",
      "Valid Set 6 번째 Fold RMSE : 1.85163\n"
     ]
    },
    {
     "name": "stderr",
     "output_type": "stream",
     "text": [
      " 60%|██████    | 6/10 [00:29<00:20,  5.22s/it]"
     ]
    },
    {
     "name": "stdout",
     "output_type": "stream",
     "text": [
      "Training until validation scores don't improve for 100 rounds\n",
      "Early stopping, best iteration is:\n",
      "[691]\ttraining's rmse: 1.76928\tvalid_1's rmse: 1.84911\n",
      "Valid Set 7 번째 Fold RMSE : 1.84911\n"
     ]
    },
    {
     "name": "stderr",
     "output_type": "stream",
     "text": [
      " 70%|███████   | 7/10 [00:33<00:14,  4.92s/it]"
     ]
    },
    {
     "name": "stdout",
     "output_type": "stream",
     "text": [
      "Training until validation scores don't improve for 100 rounds\n",
      "Early stopping, best iteration is:\n",
      "[877]\ttraining's rmse: 1.75255\tvalid_1's rmse: 1.85598\n",
      "Valid Set 8 번째 Fold RMSE : 1.85598\n"
     ]
    },
    {
     "name": "stderr",
     "output_type": "stream",
     "text": [
      " 80%|████████  | 8/10 [00:39<00:10,  5.08s/it]"
     ]
    },
    {
     "name": "stdout",
     "output_type": "stream",
     "text": [
      "Training until validation scores don't improve for 100 rounds\n",
      "Early stopping, best iteration is:\n",
      "[813]\ttraining's rmse: 1.76037\tvalid_1's rmse: 1.84043\n",
      "Valid Set 9 번째 Fold RMSE : 1.84043\n"
     ]
    },
    {
     "name": "stderr",
     "output_type": "stream",
     "text": [
      " 90%|█████████ | 9/10 [00:44<00:05,  5.06s/it]"
     ]
    },
    {
     "name": "stdout",
     "output_type": "stream",
     "text": [
      "Training until validation scores don't improve for 100 rounds\n",
      "Early stopping, best iteration is:\n",
      "[651]\ttraining's rmse: 1.77385\tvalid_1's rmse: 1.85223\n",
      "Valid Set 10 번째 Fold RMSE : 1.85223\n"
     ]
    },
    {
     "name": "stderr",
     "output_type": "stream",
     "text": [
      "100%|██████████| 10/10 [00:48<00:00,  4.83s/it]"
     ]
    },
    {
     "name": "stdout",
     "output_type": "stream",
     "text": [
      "LGBM RMSE 평균 : 1.84672 \n",
      "\n"
     ]
    },
    {
     "name": "stderr",
     "output_type": "stream",
     "text": [
      "\n"
     ]
    }
   ],
   "source": [
    "X_data, y_data = train_GB.drop(columns = 'rating'), train_GB['rating']\n",
    "\n",
    "skf = StratifiedKFold(n_splits = 10, shuffle = True, random_state = SEED)\n",
    "valid_rmse = []\n",
    "pred_df = pd.DataFrame()\n",
    "\n",
    "# Stratified K-Fold 사용하여 Best Parameter 학습\n",
    "for fold, (train_idx, valid_idx) in tqdm.tqdm(enumerate(skf.split(X_data, y_data)), total = skf.n_splits) :\n",
    "    \n",
    "    # Train Set과 Valid Set 분할    \n",
    "    X_train, y_train = X_data.iloc[train_idx], y_data.iloc[train_idx]\n",
    "    X_valid, y_valid = X_data.iloc[valid_idx], y_data.iloc[valid_idx]\n",
    "    \n",
    "    # Best Parameter 학습\n",
    "    param = study.best_params # lgbm_best_params\n",
    "    \n",
    "    lgbm_reg = LGBMRegressor(**param, n_estimators = 5000, objective = 'regression', metric = 'rmse',\n",
    "                             n_jobs = -1, verbose = -1, random_state = SEED)\n",
    "    callback = lightgbm.early_stopping(stopping_rounds = 100)\n",
    "    lgbm_reg.fit(X_train, y_train, eval_set = [(X_train, y_train), (X_valid, y_valid)],\n",
    "                   eval_metric = 'rmse', callbacks = [callback])\n",
    "    \n",
    "    # 모델 RMSE 출력\n",
    "    score = mean_squared_error(y_valid, lgbm_reg.predict(X_valid), squared = False)\n",
    "    valid_rmse.append(score)\n",
    "    print(f'Valid Set {fold + 1} 번째 Fold RMSE : {score:.5f}')\n",
    "\n",
    "    # Predict\n",
    "    pred = lgbm_reg.predict(test_GB.drop(['rating'], axis = 1))\n",
    "    pred_df[f'pred_{fold}'] = pred\n",
    "\n",
    "print(f'LGBM RMSE 평균 : {np.array(valid_rmse).mean():.5f} \\n')"
   ]
  },
  {
   "cell_type": "code",
   "execution_count": 17,
   "metadata": {},
   "outputs": [
    {
     "data": {
      "text/plain": [
       "<Axes: title={'center': 'Feature importance'}, xlabel='Feature importance', ylabel='Features'>"
      ]
     },
     "execution_count": 17,
     "metadata": {},
     "output_type": "execute_result"
    },
    {
     "data": {
      "image/png": "[encoded data removed]",
      "text/plain": [
       "<Figure size 800x600 with 1 Axes>"
      ]
     },
     "metadata": {},
     "output_type": "display_data"
    }
   ],
   "source": [
    "# Feature Importance\n",
    "fig, ax = plt.subplots(figsize = (8, 6))\n",
    "lgbm_plot_importance(lgbm_reg, ax = ax)"
   ]
  },
  {
   "cell_type": "code",
   "execution_count": 18,
   "metadata": {},
   "outputs": [
    {
     "data": {
      "text/html": [
       "<div>\n",
       "<style scoped>\n",
       "    .dataframe tbody tr th:only-of-type {\n",
       "        vertical-align: middle;\n",
       "    }\n",
       "\n",
       "    .dataframe tbody tr th {\n",
       "        vertical-align: top;\n",
       "    }\n",
       "\n",
       "    .dataframe thead th {\n",
       "        text-align: right;\n",
       "    }\n",
       "</style>\n",
       "<table border=\"1\" class=\"dataframe\">\n",
       "  <thead>\n",
       "    <tr style=\"text-align: right;\">\n",
       "      <th></th>\n",
       "      <th>user_id</th>\n",
       "      <th>isbn</th>\n",
       "      <th>rating</th>\n",
       "    </tr>\n",
       "  </thead>\n",
       "  <tbody>\n",
       "    <tr>\n",
       "      <th>0</th>\n",
       "      <td>11676</td>\n",
       "      <td>0002005018</td>\n",
       "      <td>6.949023</td>\n",
       "    </tr>\n",
       "    <tr>\n",
       "      <th>1</th>\n",
       "      <td>116866</td>\n",
       "      <td>0002005018</td>\n",
       "      <td>7.718842</td>\n",
       "    </tr>\n",
       "    <tr>\n",
       "      <th>2</th>\n",
       "      <td>152827</td>\n",
       "      <td>0060973129</td>\n",
       "      <td>8.618080</td>\n",
       "    </tr>\n",
       "    <tr>\n",
       "      <th>3</th>\n",
       "      <td>157969</td>\n",
       "      <td>0374157065</td>\n",
       "      <td>7.926602</td>\n",
       "    </tr>\n",
       "    <tr>\n",
       "      <th>4</th>\n",
       "      <td>67958</td>\n",
       "      <td>0399135782</td>\n",
       "      <td>8.120157</td>\n",
       "    </tr>\n",
       "    <tr>\n",
       "      <th>...</th>\n",
       "      <td>...</td>\n",
       "      <td>...</td>\n",
       "      <td>...</td>\n",
       "    </tr>\n",
       "    <tr>\n",
       "      <th>76694</th>\n",
       "      <td>278543</td>\n",
       "      <td>1576734218</td>\n",
       "      <td>6.351776</td>\n",
       "    </tr>\n",
       "    <tr>\n",
       "      <th>76695</th>\n",
       "      <td>278563</td>\n",
       "      <td>3492223710</td>\n",
       "      <td>7.332121</td>\n",
       "    </tr>\n",
       "    <tr>\n",
       "      <th>76696</th>\n",
       "      <td>278633</td>\n",
       "      <td>1896095186</td>\n",
       "      <td>7.038254</td>\n",
       "    </tr>\n",
       "    <tr>\n",
       "      <th>76697</th>\n",
       "      <td>278668</td>\n",
       "      <td>8408044079</td>\n",
       "      <td>3.432230</td>\n",
       "    </tr>\n",
       "    <tr>\n",
       "      <th>76698</th>\n",
       "      <td>278851</td>\n",
       "      <td>0767907566</td>\n",
       "      <td>6.352556</td>\n",
       "    </tr>\n",
       "  </tbody>\n",
       "</table>\n",
       "<p>76699 rows × 3 columns</p>\n",
       "</div>"
      ],
      "text/plain": [
       "       user_id        isbn    rating\n",
       "0        11676  0002005018  6.949023\n",
       "1       116866  0002005018  7.718842\n",
       "2       152827  0060973129  8.618080\n",
       "3       157969  0374157065  7.926602\n",
       "4        67958  0399135782  8.120157\n",
       "...        ...         ...       ...\n",
       "76694   278543  1576734218  6.351776\n",
       "76695   278563  3492223710  7.332121\n",
       "76696   278633  1896095186  7.038254\n",
       "76697   278668  8408044079  3.432230\n",
       "76698   278851  0767907566  6.352556\n",
       "\n",
       "[76699 rows x 3 columns]"
      ]
     },
     "execution_count": 18,
     "metadata": {},
     "output_type": "execute_result"
    }
   ],
   "source": [
    "test_ratings['rating'] = (pred_df['pred_0'] + pred_df['pred_1'] + pred_df['pred_2'] + pred_df['pred_3'] + pred_df['pred_4'] + \n",
    "                          pred_df['pred_5'] + pred_df['pred_6'] + pred_df['pred_7'] + pred_df['pred_8'] + pred_df['pred_9']) / 10\n",
    "submit = test_ratings[['user_id', 'isbn', 'rating']]\n",
    "submit"
   ]
  },
  {
   "cell_type": "code",
   "execution_count": 19,
   "metadata": {},
   "outputs": [],
   "source": [
    "submit.to_csv('./code/submit/LGBM_HPO_Pred_AVG.csv', index = False)"
   ]
  },
  {
   "cell_type": "code",
   "execution_count": 20,
   "metadata": {},
   "outputs": [],
   "source": [
    "submit['rating'] = submit['rating'].round().astype(int)\n",
    "submit.to_csv('./code/submit/LGBM_HPO_Pred_AVG_round.csv', index = False)"
   ]
  },
  {
   "cell_type": "markdown",
   "metadata": {},
   "source": [
    "- {'boosting_type': 'gbdt', 'num_leaves': 33, 'max_depth': 3, 'learning_rate': 0.5, 'colsample_bytree': 0.7, 'subsample': 0.3, 'reg_alpha': 5, 'reg_lambda': 5, 'min_child_weight': 1}\n",
    "    - LB : 2.2771 / CV : 1.85789"
   ]
  },
  {
   "cell_type": "markdown",
   "metadata": {},
   "source": [
    "## XGBoost"
   ]
  },
  {
   "cell_type": "code",
   "execution_count": 16,
   "metadata": {},
   "outputs": [],
   "source": [
    "def objectiveXGB(trial : Trial, X_train, y_train, X_valid, y_valid) :\n",
    "    param = {\n",
    "        'booster' : trial.suggest_categorical('booster', ['gbtree', 'dart']),\n",
    "        'max_depth' : trial.suggest_int('max_depth', 1, 15),\n",
    "        'learning_rate' : trial.suggest_categorical('learning_rate', [1e-3, 0.01, 0.05, 0.1, 0.5]), # 1e-5,\n",
    "        'min_child_weight' : trial.suggest_int('min_child_weight', 1, 10),\n",
    "        'gamma' : trial.suggest_categorical('alpha', [1e-5, 1e-3, 1, 5, 10]),\n",
    "        'colsample_bytree' : trial.suggest_categorical('colsample_bytree', [0.1, 0.5, 1]),\n",
    "        'lambda' : trial.suggest_categorical('lambda', [1e-5, 1e-3, 1, 5, 10]),\n",
    "        'alpha' : trial.suggest_categorical('alpha', [1e-5, 1e-3, 1, 5, 10]),\n",
    "        'subsample' : trial.suggest_categorical('subsample', [0.6, 0.7, 0.8, 1.0]),\n",
    "        'max_delta_step' : trial.suggest_categorical('max_delta_step', [0.1, 0.5, 1, 5, 10]),\n",
    "    }\n",
    "    \n",
    "    # XGBRegressor 사용\n",
    "    model = XGBRegressor(**param, n_estimators = 3000, objective = 'reg:squarederror', eval_metric = 'rmse',\n",
    "                         nthread = -1, gpu_id = 0, tree_method = 'gpu_hist', predictor = 'gpu_predictor',\n",
    "                         early_stopping_rounds = 100, random_state = SEED)\n",
    "    xgb_model = model.fit(X_train, y_train, eval_set = [(X_train, y_train), (X_valid, y_valid)], verbose = 300)\n",
    "    \n",
    "    # Valid Set RMSE 계산\n",
    "    score = mean_squared_error(y_valid, xgb_model.predict(X_valid), squared = False)\n",
    "    return score"
   ]
  },
  {
   "cell_type": "code",
   "execution_count": null,
   "metadata": {},
   "outputs": [],
   "source": [
    "# Study Optuna\n",
    "study = optuna.create_study(direction = 'minimize', sampler = TPESampler(seed = SEED))\n",
    "study.optimize(lambda trial : objectiveXGB(trial, X_train, y_train, X_valid, y_valid), n_trials = 30)\n",
    "print(f'Best trial : score {study.best_trial.value}, \\n params = {study.best_trial.params} \\n')"
   ]
  },
  {
   "cell_type": "code",
   "execution_count": 19,
   "metadata": {},
   "outputs": [],
   "source": [
    "xgb_best_params = {'booster': 'dart', 'max_depth': 12, 'learning_rate': 0.01, 'min_child_weight': 6, 'alpha': 0.001, 'colsample_bytree': 0.5, 'lambda': 10, 'subsample': 0.7, 'max_delta_step': 0.5}"
   ]
  },
  {
   "cell_type": "code",
   "execution_count": null,
   "metadata": {},
   "outputs": [],
   "source": [
    "X_data, y_data = train_GB.drop(columns = 'rating'), train_GB['rating']\n",
    "\n",
    "skf = StratifiedKFold(n_splits = 10, shuffle = True, random_state = SEED)\n",
    "valid_rmse = []\n",
    "pred_df = pd.DataFrame()\n",
    "\n",
    "# Stratified K-Fold 사용하여 Best Parameter 학습\n",
    "for fold, (train_idx, valid_idx) in tqdm.tqdm(enumerate(skf.split(X_data, y_data)), total = skf.n_splits) :\n",
    "    \n",
    "    # Train Set과 Valid Set 분할    \n",
    "    X_train, y_train = X_data.iloc[train_idx], y_data.iloc[train_idx]\n",
    "    X_valid, y_valid = X_data.iloc[valid_idx], y_data.iloc[valid_idx]\n",
    "    \n",
    "    # Best Parameter 학습\n",
    "    param = xgb_best_params # study.best_params\n",
    "    \n",
    "    # Best Parameter 학습\n",
    "    xgb_reg = XGBRegressor(**param, n_estimators = 5000, objective = 'reg:squarederror', eval_metric = 'rmse', \n",
    "                           nthread = -1, gpu_id = 0, tree_method = 'gpu_hist', predictor = 'gpu_predictor',\n",
    "                           early_stopping_rounds = 100, random_state = SEED)\n",
    "    xgb_reg.fit(X_train, y_train, eval_set = [(X_train, y_train), (X_valid, y_valid)], verbose = False)\n",
    "    \n",
    "    # 모델 RMSE 출력\n",
    "    score = mean_squared_error(y_valid, xgb_reg.predict(X_valid), squared = False)\n",
    "    valid_rmse.append(score)\n",
    "    print(f'Valid Set {fold + 1} 번째 Fold RMSE : {score:.5f}')\n",
    "    \n",
    "    # Predict\n",
    "    pred = xgb_reg.predict(test_GB.drop(['rating'], axis = 1))\n",
    "    pred_df[f'pred_{fold}'] = pred\n",
    "\n",
    "print(f'XGBoost RMSE 평균 : {np.array(valid_rmse).mean():.5f} \\n')"
   ]
  },
  {
   "cell_type": "code",
   "execution_count": null,
   "metadata": {},
   "outputs": [
    {
     "data": {
      "text/plain": [
       "<Axes: title={'center': 'Feature importance'}, xlabel='F score', ylabel='Features'>"
      ]
     },
     "execution_count": 19,
     "metadata": {},
     "output_type": "execute_result"
    },
    {
     "data": {
      "image/png": "[encoded data removed]",
      "text/plain": [
       "<Figure size 800x600 with 1 Axes>"
      ]
     },
     "metadata": {},
     "output_type": "display_data"
    }
   ],
   "source": [
    "# Feature Importance\n",
    "fig, ax = plt.subplots(figsize = (8, 6))\n",
    "xgb_plot_importance(xgb_reg, ax = ax)"
   ]
  },
  {
   "cell_type": "code",
   "execution_count": null,
   "metadata": {},
   "outputs": [
    {
     "data": {
      "text/html": [
       "<div>\n",
       "<style scoped>\n",
       "    .dataframe tbody tr th:only-of-type {\n",
       "        vertical-align: middle;\n",
       "    }\n",
       "\n",
       "    .dataframe tbody tr th {\n",
       "        vertical-align: top;\n",
       "    }\n",
       "\n",
       "    .dataframe thead th {\n",
       "        text-align: right;\n",
       "    }\n",
       "</style>\n",
       "<table border=\"1\" class=\"dataframe\">\n",
       "  <thead>\n",
       "    <tr style=\"text-align: right;\">\n",
       "      <th></th>\n",
       "      <th>user_id</th>\n",
       "      <th>isbn</th>\n",
       "      <th>rating</th>\n",
       "    </tr>\n",
       "  </thead>\n",
       "  <tbody>\n",
       "    <tr>\n",
       "      <th>0</th>\n",
       "      <td>11676</td>\n",
       "      <td>0002005018</td>\n",
       "      <td>7.066980</td>\n",
       "    </tr>\n",
       "    <tr>\n",
       "      <th>1</th>\n",
       "      <td>116866</td>\n",
       "      <td>0002005018</td>\n",
       "      <td>7.668482</td>\n",
       "    </tr>\n",
       "    <tr>\n",
       "      <th>2</th>\n",
       "      <td>152827</td>\n",
       "      <td>0060973129</td>\n",
       "      <td>8.320372</td>\n",
       "    </tr>\n",
       "    <tr>\n",
       "      <th>3</th>\n",
       "      <td>157969</td>\n",
       "      <td>0374157065</td>\n",
       "      <td>7.769433</td>\n",
       "    </tr>\n",
       "    <tr>\n",
       "      <th>4</th>\n",
       "      <td>67958</td>\n",
       "      <td>0399135782</td>\n",
       "      <td>8.436759</td>\n",
       "    </tr>\n",
       "    <tr>\n",
       "      <th>...</th>\n",
       "      <td>...</td>\n",
       "      <td>...</td>\n",
       "      <td>...</td>\n",
       "    </tr>\n",
       "    <tr>\n",
       "      <th>76694</th>\n",
       "      <td>278543</td>\n",
       "      <td>1576734218</td>\n",
       "      <td>6.505219</td>\n",
       "    </tr>\n",
       "    <tr>\n",
       "      <th>76695</th>\n",
       "      <td>278563</td>\n",
       "      <td>3492223710</td>\n",
       "      <td>6.650600</td>\n",
       "    </tr>\n",
       "    <tr>\n",
       "      <th>76696</th>\n",
       "      <td>278633</td>\n",
       "      <td>1896095186</td>\n",
       "      <td>6.597798</td>\n",
       "    </tr>\n",
       "    <tr>\n",
       "      <th>76697</th>\n",
       "      <td>278668</td>\n",
       "      <td>8408044079</td>\n",
       "      <td>2.813656</td>\n",
       "    </tr>\n",
       "    <tr>\n",
       "      <th>76698</th>\n",
       "      <td>278851</td>\n",
       "      <td>0767907566</td>\n",
       "      <td>6.122128</td>\n",
       "    </tr>\n",
       "  </tbody>\n",
       "</table>\n",
       "<p>76699 rows × 3 columns</p>\n",
       "</div>"
      ],
      "text/plain": [
       "      user_id        isbn    rating\n",
       "0       11676  0002005018  7.066980\n",
       "1      116866  0002005018  7.668482\n",
       "2      152827  0060973129  8.320372\n",
       "3      157969  0374157065  7.769433\n",
       "4       67958  0399135782  8.436759\n",
       "...       ...         ...       ...\n",
       "76694  278543  1576734218  6.505219\n",
       "76695  278563  3492223710  6.650600\n",
       "76696  278633  1896095186  6.597798\n",
       "76697  278668  8408044079  2.813656\n",
       "76698  278851  0767907566  6.122128\n",
       "\n",
       "[76699 rows x 3 columns]"
      ]
     },
     "metadata": {},
     "output_type": "display_data"
    }
   ],
   "source": [
    "test_ratings['rating'] = (pred_df['pred_0'] + pred_df['pred_1'] + pred_df['pred_2'] + pred_df['pred_3'] + pred_df['pred_4'] + \n",
    "                          pred_df['pred_5'] + pred_df['pred_6'] + pred_df['pred_7'] + pred_df['pred_8'] + pred_df['pred_9']) / 10\n",
    "submit = test_ratings[['user_id', 'isbn', 'rating']]\n",
    "submit"
   ]
  },
  {
   "cell_type": "code",
   "execution_count": null,
   "metadata": {},
   "outputs": [],
   "source": [
    "submit.to_csv('./code/submit/XGB_HPO_Pred_AVG.csv', index = False)"
   ]
  },
  {
   "cell_type": "code",
   "execution_count": null,
   "metadata": {},
   "outputs": [],
   "source": [
    "submit['rating'] = submit['rating'].round().astype(int)\n",
    "submit.to_csv('./code/submit/XGB_HPO_Pred_AVG_round.csv', index = False)"
   ]
  }
 ],
 "metadata": {
  "kernelspec": {
   "display_name": "base",
   "language": "python",
   "name": "python3"
  },
  "language_info": {
   "codemirror_mode": {
    "name": "ipython",
    "version": 3
   },
   "file_extension": ".py",
   "mimetype": "text/x-python",
   "name": "python",
   "nbconvert_exporter": "python",
   "pygments_lexer": "ipython3",
   "version": "3.10.13"
  }
 },
 "nbformat": 4,
 "nbformat_minor": 2
}
