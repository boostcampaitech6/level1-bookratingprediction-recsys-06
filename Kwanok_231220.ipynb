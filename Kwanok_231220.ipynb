{
 "cells": [
  {
   "cell_type": "code",
   "execution_count": 485,
   "metadata": {},
   "outputs": [
    {
     "name": "stdout",
     "output_type": "stream",
     "text": [
      "cuda is available: True device count: 1\n",
      "/root/code\n",
      "CatBoost Version : 1.2.2\n",
      "XGBoost Version  : 2.0.2\n",
      "LightGBM Version : 4.1.0\n"
     ]
    }
   ],
   "source": [
    "import numpy as np\n",
    "import pandas as pd\n",
    "import matplotlib.pyplot as plt\n",
    "import seaborn as sns\n",
    "import tqdm\n",
    "import re\n",
    "import os\n",
    "import random\n",
    "import torch\n",
    "print(f\"cuda is available: {torch.cuda.is_available()}\", f\"device count: {torch.cuda.device_count()}\")\n",
    "print(os.getcwd())\n",
    "\n",
    "from sklearn.model_selection import train_test_split, StratifiedKFold\n",
    "from sklearn.preprocessing import LabelEncoder\n",
    "from sklearn.metrics import mean_squared_error\n",
    "\n",
    "import catboost\n",
    "from catboost import CatBoostRegressor\n",
    "\n",
    "import xgboost\n",
    "from xgboost import XGBRegressor\n",
    "from xgboost import plot_importance as xgb_plot_importance\n",
    "\n",
    "import lightgbm\n",
    "from lightgbm import LGBMRegressor\n",
    "from lightgbm import plot_importance as lgbm_plot_importance\n",
    "\n",
    "print(f'CatBoost Version : {catboost.__version__}')\n",
    "print(f'XGBoost Version  : {xgboost.__version__}')\n",
    "print(f'LightGBM Version : {lightgbm.__version__}')\n",
    "\n",
    "import optuna\n",
    "from optuna import Trial, visualization\n",
    "from optuna.samplers import TPESampler\n",
    "\n",
    "# 경고 메시지 숨기기\n",
    "import warnings\n",
    "warnings.filterwarnings(action = 'ignore')\n",
    "\n",
    "# Seed 고정\n",
    "SEED = 42\n",
    "def seed_everything(seed) :\n",
    "    random.seed(seed)\n",
    "    np.random.seed(seed)\n",
    "    # tf.random.set_seed(seed)\n",
    "    torch.manual_seed(seed)\n",
    "    torch.cuda.manual_seed_all(seed)\n",
    "    torch.backends.cudnn.benchmark = False\n",
    "    torch.use_deterministic_algorithms(False) # True\n",
    "    os.environ['PYTHONHASHSEED'] = str(seed)\n",
    "    os.environ['TF_ENABLE_ONEDNN_OPTS'] = '0'\n",
    "seed_everything(SEED)"
   ]
  },
  {
   "cell_type": "code",
   "execution_count": 486,
   "metadata": {},
   "outputs": [
    {
     "name": "stdout",
     "output_type": "stream",
     "text": [
      "(149570, 10) (68092, 3) (306795, 3) (76699, 3)\n"
     ]
    }
   ],
   "source": [
    "books = pd.read_csv('./code/data/books.csv')\n",
    "users = pd.read_csv('./code/data/users.csv')\n",
    "rating_train = pd.read_csv('./code/data/train_ratings.csv')\n",
    "rating_test = pd.read_csv('./code/data/test_ratings.csv')\n",
    "print(books.shape, users.shape, rating_train.shape, rating_test.shape)"
   ]
  },
  {
   "cell_type": "code",
   "execution_count": 487,
   "metadata": {},
   "outputs": [
    {
     "name": "stdout",
     "output_type": "stream",
     "text": [
      "<class 'pandas.core.frame.DataFrame'>\n",
      "RangeIndex: 149570 entries, 0 to 149569\n",
      "Data columns (total 10 columns):\n",
      " #   Column               Non-Null Count   Dtype  \n",
      "---  ------               --------------   -----  \n",
      " 0   isbn                 149570 non-null  object \n",
      " 1   book_title           149570 non-null  object \n",
      " 2   book_author          149569 non-null  object \n",
      " 3   year_of_publication  149570 non-null  float64\n",
      " 4   publisher            149570 non-null  object \n",
      " 5   img_url              149570 non-null  object \n",
      " 6   language             82343 non-null   object \n",
      " 7   category             80719 non-null   object \n",
      " 8   summary              82343 non-null   object \n",
      " 9   img_path             149570 non-null  object \n",
      "dtypes: float64(1), object(9)\n",
      "memory usage: 11.4+ MB\n"
     ]
    }
   ],
   "source": [
    "books.info()"
   ]
  },
  {
   "cell_type": "markdown",
   "metadata": {},
   "source": [
    "# ISBN (International Standard Book Number)\n",
    "\n",
    "ISBN은 책의 고유한 번호입니다. ISBN은 총 13자리로 구성되며, 기존의 10자리 ISBN은 2007년부터 13자리로 바뀌었지만, 여전히 10자리 ISBN을 사용하는 나라도 있습니다.\n",
    "\n",
    "그럼 먼저 ISBN 데이터를 살펴보겠습니다."
   ]
  },
  {
   "cell_type": "code",
   "execution_count": 488,
   "metadata": {},
   "outputs": [
    {
     "name": "stdout",
     "output_type": "stream",
     "text": [
      "isbn의 길이가 10인 것의 개수 : 149570\n",
      "isbn의 길이가 13인 것의 개수 : 0\n",
      "isbn의 길이가 10도 아니고 13도 아닌 것의 개수 : 0\n"
     ]
    }
   ],
   "source": [
    "# isbn 데이터 분석하기\n",
    "\n",
    "isbn = books['isbn']\n",
    "\n",
    "# isbn의 길이가 10인 것만 추출\n",
    "isbn_10 = isbn[isbn.apply(lambda x: len(str(x)) == 10)]\n",
    "\n",
    "# isbn의 길이가 13인 것만 추출\n",
    "isbn_13 = isbn[isbn.apply(lambda x: len(str(x)) == 13)]\n",
    "\n",
    "# isbn의 길이가 10도 아니고 13도 아닌 것만 추출\n",
    "isbn_else = isbn[isbn.apply(lambda x: len(str(x)) != 10 and len(str(x)) != 13)]\n",
    "\n",
    "print(f'isbn의 길이가 10인 것의 개수 : {len(isbn_10)}')\n",
    "print(f'isbn의 길이가 13인 것의 개수 : {len(isbn_13)}')\n",
    "print(f'isbn의 길이가 10도 아니고 13도 아닌 것의 개수 : {len(isbn_else)}')"
   ]
  },
  {
   "cell_type": "markdown",
   "metadata": {},
   "source": [
    "여기서 모든 데이터가 길이가 10인 것을 확인할 수 있습니다."
   ]
  },
  {
   "cell_type": "markdown",
   "metadata": {},
   "source": [
    "# ISBN 구조 분석하기\n",
    "\n",
    "ISBN은 총 10자리로 구성되며, 각 자리는 다음과 같은 의미를 가집니다.\n",
    "\n",
    "- 1~9번째 자리: 식별 번호\n",
    "- 10번째 자리: 체크 디지트\n",
    "\n",
    "식별 번호의 앞의 1 ~ 5자는 국가 코드를 나타냅니다.\n",
    "\n",
    "[ISBN 국가 코드 링크](https://en.wikipedia.org/wiki/List_of_ISBN_registration_groups)"
   ]
  },
  {
   "cell_type": "code",
   "execution_count": 489,
   "metadata": {},
   "outputs": [
    {
     "name": "stdout",
     "output_type": "stream",
     "text": [
      "language가 없는 책의 개수 : 67227\n"
     ]
    }
   ],
   "source": [
    "non_language_isbn = books[books['language'].isnull()].isbn\n",
    "\n",
    "print(f'language가 없는 책의 개수 : {len(non_language_isbn)}')"
   ]
  },
  {
   "cell_type": "code",
   "execution_count": 490,
   "metadata": {},
   "outputs": [
    {
     "data": {
      "text/plain": [
       "0"
      ]
     },
     "execution_count": 490,
     "metadata": {},
     "output_type": "execute_result"
    }
   ],
   "source": [
    "# 데이터 채우기\n",
    "import isbnlib\n",
    "\n",
    "def get_language_by_isbn_10(isbn_10):\n",
    "    try:\n",
    "        return isbnlib.mask(isbn_10).split('-')[0]\n",
    "    except:\n",
    "        if isbn_10[0] == 'B':  # B로 시작하는 경우는 ASIN (Amazon Standard Identification Number)\n",
    "            return 'ASIN'\n",
    "        else:\n",
    "            return 'Unknown'\n",
    "\n",
    "books.set_index('isbn', inplace=True)\n",
    "\n",
    "books['language'] = books.index.to_series().apply(get_language_by_isbn_10)\n",
    "\n",
    "books.reset_index(inplace=True)\n",
    "\n",
    "# 결측치 확인\n",
    "books['language'].isnull().sum()"
   ]
  },
  {
   "cell_type": "markdown",
   "metadata": {},
   "source": [
    "language가 어떻게 구성돼있는지 확인해보겠습니다."
   ]
  },
  {
   "cell_type": "code",
   "execution_count": 491,
   "metadata": {},
   "outputs": [
    {
     "data": {
      "text/plain": [
       "language\n",
       "0        117742\n",
       "1         16663\n",
       "3          6706\n",
       "2          3405\n",
       "84         3399\n",
       "          ...  \n",
       "99928         1\n",
       "99943         1\n",
       "99903         1\n",
       "952           1\n",
       "99989         1\n",
       "Name: count, Length: 75, dtype: int64"
      ]
     },
     "execution_count": 491,
     "metadata": {},
     "output_type": "execute_result"
    }
   ],
   "source": [
    "books['language'].value_counts()"
   ]
  },
  {
   "cell_type": "markdown",
   "metadata": {},
   "source": [
    "다음은 ISBN의 두 번째 자리에 오는 출판사 코드를 활용합니다."
   ]
  },
  {
   "cell_type": "code",
   "execution_count": 492,
   "metadata": {},
   "outputs": [],
   "source": [
    "import isbnlib\n",
    "\n",
    "def get_publisher_code(isbn: str) -> str:\n",
    "    try:\n",
    "        return isbnlib.mask(isbn).split('-')[1]\n",
    "    except:\n",
    "        if isbn[0] == 'B':\n",
    "            return 'Amazon'\n",
    "        else:\n",
    "            return 'Unknown'\n",
    "        \n",
    "# 새로운 'new_publisher' 열을 만들기 위해 apply 함수 사용\n",
    "books['new_publisher'] = books['isbn'].apply(lambda isbn: get_publisher_code(isbn))\n",
    "\n",
    "# 출판사 코드를 기반으로 가장 많이 나타나는 출판사 이름으로 매핑\n",
    "publisher_map = books.groupby('new_publisher')['publisher'].agg(lambda x: x.value_counts().index[0])\n",
    "\n",
    "# 'new_publisher' 열을 publisher_map을 사용해 업데이트\n",
    "books['new_publisher'] = books['new_publisher'].map(publisher_map)"
   ]
  },
  {
   "cell_type": "code",
   "execution_count": 493,
   "metadata": {},
   "outputs": [
    {
     "data": {
      "text/plain": [
       "new_publisher\n",
       "Harpercollins                    6782\n",
       "Pocket                           6574\n",
       "Harlequin                        5268\n",
       "Bantam Books                     4793\n",
       "Penguin Books                    4153\n",
       "                                 ... \n",
       "Star Group International            1\n",
       "Mills & Sanderson, Publishers       1\n",
       "Lady Chatterley's Library           1\n",
       "Legend Book Pub                     1\n",
       "Gerrys Frankly Speaking             1\n",
       "Name: count, Length: 6494, dtype: int64"
      ]
     },
     "execution_count": 493,
     "metadata": {},
     "output_type": "execute_result"
    }
   ],
   "source": [
    "books['new_publisher'].value_counts()"
   ]
  },
  {
   "cell_type": "markdown",
   "metadata": {},
   "source": [
    "전에 비해 얼마나 중복값이 적어졌는지 확인해보겠습니다."
   ]
  },
  {
   "cell_type": "code",
   "execution_count": 494,
   "metadata": {},
   "outputs": [
    {
     "name": "stdout",
     "output_type": "stream",
     "text": [
      "중복을 제거하기 전: 11571\n",
      "중복을 제거한 후: 6494\n"
     ]
    }
   ],
   "source": [
    "print(f\"중복을 제거하기 전: {books['publisher'].nunique()}\")\n",
    "print(f\"중복을 제거한 후: {books['new_publisher'].nunique()}\")"
   ]
  },
  {
   "cell_type": "markdown",
   "metadata": {},
   "source": [
    "# Book Auther 분석하기\n",
    "\n",
    "`book_auther` 결측치 확인하기\n",
    "\n",
    "- 실제 저자가 없는 책\n",
    "- 동일한 book_title의 데이터도 없음\n",
    "- => 동일한 publisher의 최빈값으로 대체"
   ]
  },
  {
   "cell_type": "code",
   "execution_count": 495,
   "metadata": {},
   "outputs": [
    {
     "data": {
      "text/html": [
       "<div>\n",
       "<style scoped>\n",
       "    .dataframe tbody tr th:only-of-type {\n",
       "        vertical-align: middle;\n",
       "    }\n",
       "\n",
       "    .dataframe tbody tr th {\n",
       "        vertical-align: top;\n",
       "    }\n",
       "\n",
       "    .dataframe thead th {\n",
       "        text-align: right;\n",
       "    }\n",
       "</style>\n",
       "<table border=\"1\" class=\"dataframe\">\n",
       "  <thead>\n",
       "    <tr style=\"text-align: right;\">\n",
       "      <th></th>\n",
       "      <th>isbn</th>\n",
       "      <th>book_title</th>\n",
       "      <th>book_author</th>\n",
       "      <th>year_of_publication</th>\n",
       "      <th>publisher</th>\n",
       "      <th>img_url</th>\n",
       "      <th>language</th>\n",
       "      <th>category</th>\n",
       "      <th>summary</th>\n",
       "      <th>img_path</th>\n",
       "      <th>new_publisher</th>\n",
       "    </tr>\n",
       "  </thead>\n",
       "  <tbody>\n",
       "    <tr>\n",
       "      <th>73737</th>\n",
       "      <td>0751352497</td>\n",
       "      <td>A+ Quiz Masters:01 Earth</td>\n",
       "      <td>NaN</td>\n",
       "      <td>1999.0</td>\n",
       "      <td>Dorling Kindersley</td>\n",
       "      <td>http://images.amazon.com/images/P/0751352497.0...</td>\n",
       "      <td>0</td>\n",
       "      <td>NaN</td>\n",
       "      <td>NaN</td>\n",
       "      <td>images/0751352497.01.THUMBZZZ.jpg</td>\n",
       "      <td>Dorling Kindersley</td>\n",
       "    </tr>\n",
       "  </tbody>\n",
       "</table>\n",
       "</div>"
      ],
      "text/plain": [
       "             isbn                book_title book_author  year_of_publication  \\\n",
       "73737  0751352497  A+ Quiz Masters:01 Earth         NaN               1999.0   \n",
       "\n",
       "                publisher                                            img_url  \\\n",
       "73737  Dorling Kindersley  http://images.amazon.com/images/P/0751352497.0...   \n",
       "\n",
       "      language category summary                           img_path  \\\n",
       "73737        0      NaN     NaN  images/0751352497.01.THUMBZZZ.jpg   \n",
       "\n",
       "            new_publisher  \n",
       "73737  Dorling Kindersley  "
      ]
     },
     "execution_count": 495,
     "metadata": {},
     "output_type": "execute_result"
    }
   ],
   "source": [
    "books[books['book_title'] == books.loc[books['book_author'].isna(), 'book_title'].values[0]]"
   ]
  },
  {
   "cell_type": "code",
   "execution_count": 496,
   "metadata": {},
   "outputs": [
    {
     "name": "stdout",
     "output_type": "stream",
     "text": [
      "0\n"
     ]
    }
   ],
   "source": [
    "books.loc[books['book_title'] == books.loc[books['book_author'].isna(), 'book_title'].values[0], 'book_author'] = \\\n",
    "    books.loc[books['publisher'] == books.loc[books['book_author'].isna(), 'publisher'].values[0], 'book_author'].mode().values[0]\n",
    "print(books['book_author'].isna().sum())"
   ]
  },
  {
   "cell_type": "markdown",
   "metadata": {},
   "source": [
    "# Year of Publication 분석하기\n",
    "\n",
    "- 10년 단위로 범주화"
   ]
  },
  {
   "cell_type": "code",
   "execution_count": 497,
   "metadata": {},
   "outputs": [
    {
     "data": {
      "text/plain": [
       "years\n",
       "2000    72358\n",
       "2010    46301\n",
       "1990    23809\n",
       "1980     5636\n",
       "1970     1466\n",
       "Name: count, dtype: int64"
      ]
     },
     "execution_count": 497,
     "metadata": {},
     "output_type": "execute_result"
    }
   ],
   "source": [
    "def preprocess_year(x) :\n",
    "    if x < 1970 :\n",
    "        return 1970\n",
    "    elif (x >= 1970) and (x < 1980) :\n",
    "        return 1980\n",
    "    elif (x >= 1980) and (x < 1990) :\n",
    "        return 1990\n",
    "    elif (x >= 1990) and (x < 2000) :\n",
    "        return 2000\n",
    "    else :\n",
    "        return 2010\n",
    "    \n",
    "books['years'] = books['year_of_publication'].apply(preprocess_year)\n",
    "books['years'].value_counts()"
   ]
  },
  {
   "cell_type": "markdown",
   "metadata": {},
   "source": [
    "# Category 분석하기\n",
    "\n",
    "- 상위 카테고리인 category_high를 생성"
   ]
  },
  {
   "cell_type": "code",
   "execution_count": 498,
   "metadata": {},
   "outputs": [
    {
     "data": {
      "text/html": [
       "<div>\n",
       "<style scoped>\n",
       "    .dataframe tbody tr th:only-of-type {\n",
       "        vertical-align: middle;\n",
       "    }\n",
       "\n",
       "    .dataframe tbody tr th {\n",
       "        vertical-align: top;\n",
       "    }\n",
       "\n",
       "    .dataframe thead th {\n",
       "        text-align: right;\n",
       "    }\n",
       "</style>\n",
       "<table border=\"1\" class=\"dataframe\">\n",
       "  <thead>\n",
       "    <tr style=\"text-align: right;\">\n",
       "      <th></th>\n",
       "      <th>category</th>\n",
       "      <th>count</th>\n",
       "    </tr>\n",
       "  </thead>\n",
       "  <tbody>\n",
       "    <tr>\n",
       "      <th>0</th>\n",
       "      <td>nan</td>\n",
       "      <td>68851</td>\n",
       "    </tr>\n",
       "    <tr>\n",
       "      <th>1</th>\n",
       "      <td>fiction</td>\n",
       "      <td>33016</td>\n",
       "    </tr>\n",
       "    <tr>\n",
       "      <th>2</th>\n",
       "      <td>juvenile fiction</td>\n",
       "      <td>5835</td>\n",
       "    </tr>\n",
       "    <tr>\n",
       "      <th>3</th>\n",
       "      <td>biography autobiography</td>\n",
       "      <td>3326</td>\n",
       "    </tr>\n",
       "    <tr>\n",
       "      <th>4</th>\n",
       "      <td>history</td>\n",
       "      <td>1927</td>\n",
       "    </tr>\n",
       "  </tbody>\n",
       "</table>\n",
       "</div>"
      ],
      "text/plain": [
       "                  category  count\n",
       "0                      nan  68851\n",
       "1                  fiction  33016\n",
       "2         juvenile fiction   5835\n",
       "3  biography autobiography   3326\n",
       "4                  history   1927"
      ]
     },
     "execution_count": 498,
     "metadata": {},
     "output_type": "execute_result"
    }
   ],
   "source": [
    "# 대괄호 삭제\n",
    "books['category'] = books['category'].apply(lambda x : re.sub('[\\W_]+',  ' ', str(x).lower()).strip())\n",
    "\n",
    "category_df = pd.DataFrame(books['category'].value_counts()).reset_index()\n",
    "category_df.columns = ['category', 'count']\n",
    "category_df.head()"
   ]
  },
  {
   "cell_type": "code",
   "execution_count": 499,
   "metadata": {},
   "outputs": [],
   "source": [
    "books['category_high'] = books['category'].copy()\n",
    "\n",
    "categories = ['garden', 'crafts', 'physics', 'adventure', 'music', 'fiction', 'nonfiction', 'science', 'science fiction', 'social', 'homicide', \n",
    "              'sociology', 'disease', 'religion', 'christian', 'philosophy', 'psycholog', 'mathemat', 'agricult', 'environmental',\n",
    "              'business', 'poetry', 'drama', 'literary', 'travel', 'motion picture', 'children', 'cook', 'literature', 'electronic', \n",
    "              'humor', 'animal', 'bird', 'photograph', 'computer', 'house', 'ecology', 'family', 'architect', 'camp', 'criminal', 'language', 'india']\n",
    "\n",
    "for category in categories :\n",
    "    books.loc[books[books['category'].str.contains(category, na = False)].index, 'category_high'] = category\n"
   ]
  },
  {
   "cell_type": "code",
   "execution_count": 500,
   "metadata": {},
   "outputs": [
    {
     "data": {
      "text/html": [
       "<div>\n",
       "<style scoped>\n",
       "    .dataframe tbody tr th:only-of-type {\n",
       "        vertical-align: middle;\n",
       "    }\n",
       "\n",
       "    .dataframe tbody tr th {\n",
       "        vertical-align: top;\n",
       "    }\n",
       "\n",
       "    .dataframe thead th {\n",
       "        text-align: right;\n",
       "    }\n",
       "</style>\n",
       "<table border=\"1\" class=\"dataframe\">\n",
       "  <thead>\n",
       "    <tr style=\"text-align: right;\">\n",
       "      <th></th>\n",
       "      <th>category</th>\n",
       "      <th>count</th>\n",
       "    </tr>\n",
       "  </thead>\n",
       "  <tbody>\n",
       "    <tr>\n",
       "      <th>0</th>\n",
       "      <td>nan</td>\n",
       "      <td>68851</td>\n",
       "    </tr>\n",
       "    <tr>\n",
       "      <th>1</th>\n",
       "      <td>fiction</td>\n",
       "      <td>39678</td>\n",
       "    </tr>\n",
       "    <tr>\n",
       "      <th>2</th>\n",
       "      <td>biography autobiography</td>\n",
       "      <td>3326</td>\n",
       "    </tr>\n",
       "    <tr>\n",
       "      <th>3</th>\n",
       "      <td>history</td>\n",
       "      <td>1927</td>\n",
       "    </tr>\n",
       "    <tr>\n",
       "      <th>4</th>\n",
       "      <td>religion</td>\n",
       "      <td>1824</td>\n",
       "    </tr>\n",
       "    <tr>\n",
       "      <th>5</th>\n",
       "      <td>nonfiction</td>\n",
       "      <td>1427</td>\n",
       "    </tr>\n",
       "    <tr>\n",
       "      <th>6</th>\n",
       "      <td>humor</td>\n",
       "      <td>1291</td>\n",
       "    </tr>\n",
       "    <tr>\n",
       "      <th>7</th>\n",
       "      <td>social</td>\n",
       "      <td>1271</td>\n",
       "    </tr>\n",
       "    <tr>\n",
       "      <th>8</th>\n",
       "      <td>business</td>\n",
       "      <td>1146</td>\n",
       "    </tr>\n",
       "    <tr>\n",
       "      <th>9</th>\n",
       "      <td>cook</td>\n",
       "      <td>1125</td>\n",
       "    </tr>\n",
       "  </tbody>\n",
       "</table>\n",
       "</div>"
      ],
      "text/plain": [
       "                  category  count\n",
       "0                      nan  68851\n",
       "1                  fiction  39678\n",
       "2  biography autobiography   3326\n",
       "3                  history   1927\n",
       "4                 religion   1824\n",
       "5               nonfiction   1427\n",
       "6                    humor   1291\n",
       "7                   social   1271\n",
       "8                 business   1146\n",
       "9                     cook   1125"
      ]
     },
     "execution_count": 500,
     "metadata": {},
     "output_type": "execute_result"
    }
   ],
   "source": [
    "category_high_df = pd.DataFrame(books['category_high'].value_counts()).reset_index()\n",
    "category_high_df.columns = ['category', 'count']\n",
    "category_high_df.head(10)"
   ]
  },
  {
   "cell_type": "code",
   "execution_count": 501,
   "metadata": {},
   "outputs": [
    {
     "name": "stdout",
     "output_type": "stream",
     "text": [
      "2856\n"
     ]
    }
   ],
   "source": [
    "# 5개 이하인 항목은 others\n",
    "others_list = category_high_df[category_high_df['count'] < 5]['category'].values\n",
    "print(len(others_list))\n",
    "\n",
    "books.loc[books[books['category_high'].isin(others_list)].index, 'category_high'] = 'others'"
   ]
  },
  {
   "cell_type": "code",
   "execution_count": 502,
   "metadata": {},
   "outputs": [
    {
     "name": "stdout",
     "output_type": "stream",
     "text": [
      "68851\n"
     ]
    }
   ],
   "source": [
    "books['category_high'] = books['category_high'].replace('nan', np.nan)\n",
    "books['category_high'] = books['category_high'].replace('unknown', np.nan)\n",
    "print(books['category_high'].isna().sum())\n",
    "\n",
    "books['category_high'].fillna('fiction', inplace = True)"
   ]
  },
  {
   "cell_type": "code",
   "execution_count": 503,
   "metadata": {},
   "outputs": [],
   "source": [
    "books.to_csv('./code/data/books_preprocessed.csv', index = False)"
   ]
  },
  {
   "cell_type": "markdown",
   "metadata": {},
   "source": [
    "# User 분석하기"
   ]
  },
  {
   "cell_type": "code",
   "execution_count": 504,
   "metadata": {},
   "outputs": [
    {
     "name": "stdout",
     "output_type": "stream",
     "text": [
      "<class 'pandas.core.frame.DataFrame'>\n",
      "RangeIndex: 68092 entries, 0 to 68091\n",
      "Data columns (total 3 columns):\n",
      " #   Column    Non-Null Count  Dtype  \n",
      "---  ------    --------------  -----  \n",
      " 0   user_id   68092 non-null  int64  \n",
      " 1   location  68092 non-null  object \n",
      " 2   age       40259 non-null  float64\n",
      "dtypes: float64(1), int64(1), object(1)\n",
      "memory usage: 1.6+ MB\n"
     ]
    }
   ],
   "source": [
    "users.info()"
   ]
  },
  {
   "cell_type": "markdown",
   "metadata": {},
   "source": [
    "`city`, `state`, `country` 전처리 방법 1 (성능 best)"
   ]
  },
  {
   "cell_type": "code",
   "execution_count": 505,
   "metadata": {},
   "outputs": [
    {
     "name": "stdout",
     "output_type": "stream",
     "text": [
      "<class 'pandas.core.frame.DataFrame'>\n",
      "RangeIndex: 68092 entries, 0 to 68091\n",
      "Data columns (total 4 columns):\n",
      " #   Column    Non-Null Count  Dtype \n",
      "---  ------    --------------  ----- \n",
      " 0   location  68092 non-null  object\n",
      " 1   city      67963 non-null  object\n",
      " 2   state     64838 non-null  object\n",
      " 3   country   65968 non-null  object\n",
      "dtypes: object(4)\n",
      "memory usage: 2.1+ MB\n"
     ]
    }
   ],
   "source": [
    "users['location'] = users['location'].str.replace(r'[^a-zA-Z:,]', '', regex = True)\n",
    "\n",
    "users['city'] = users['location'].apply(lambda x : x.split(',')[0].strip())\n",
    "users['state'] = users['location'].apply(lambda x : x.split(',')[1].strip())\n",
    "users['country'] = users['location'].apply(lambda x : x.split(',')[2].strip())\n",
    "\n",
    "users = users.replace('na', np.nan)\n",
    "users = users.replace('', np.nan)\n",
    "\n",
    "users[['location', 'city', 'state', 'country']].info()"
   ]
  },
  {
   "cell_type": "code",
   "execution_count": 506,
   "metadata": {},
   "outputs": [
    {
     "name": "stderr",
     "output_type": "stream",
     "text": [
      "2045it [00:01, 1949.66it/s]"
     ]
    },
    {
     "name": "stdout",
     "output_type": "stream",
     "text": [
      "위치 정보를 찾을 수 없습니다: managua\n",
      "위치 정보를 찾을 수 없습니다: aladinma\n",
      "위치 정보를 찾을 수 없습니다: llanelli\n"
     ]
    },
    {
     "name": "stderr",
     "output_type": "stream",
     "text": [
      "2792it [00:01, 1337.62it/s]"
     ]
    },
    {
     "name": "stdout",
     "output_type": "stream",
     "text": [
      "위치 정보를 찾을 수 없습니다: neportland\n"
     ]
    },
    {
     "name": "stderr",
     "output_type": "stream",
     "text": [
      "3226it [00:02, 874.32it/s] "
     ]
    },
    {
     "name": "stdout",
     "output_type": "stream",
     "text": [
      "위치 정보를 찾을 수 없습니다: northapollo\n"
     ]
    },
    {
     "name": "stderr",
     "output_type": "stream",
     "text": [
      "3429it [00:02, 846.20it/s]"
     ]
    },
    {
     "name": "stdout",
     "output_type": "stream",
     "text": [
      "위치 정보를 찾을 수 없습니다: middlevillage\n"
     ]
    },
    {
     "name": "stderr",
     "output_type": "stream",
     "text": [
      "4479it [00:04, 785.07it/s]"
     ]
    },
    {
     "name": "stdout",
     "output_type": "stream",
     "text": [
      "위치 정보를 찾을 수 없습니다: fifewa\n"
     ]
    },
    {
     "name": "stderr",
     "output_type": "stream",
     "text": [
      "5079it [00:04, 1133.60it/s]"
     ]
    },
    {
     "name": "stdout",
     "output_type": "stream",
     "text": [
      "위치 정보를 찾을 수 없습니다: torontonewmarket\n"
     ]
    },
    {
     "name": "stderr",
     "output_type": "stream",
     "text": [
      "5292it [00:05, 935.30it/s] "
     ]
    },
    {
     "name": "stdout",
     "output_type": "stream",
     "text": [
      "위치 정보를 찾을 수 없습니다: grundycenter\n",
      "위치 정보를 찾을 수 없습니다: bocabec\n",
      "위치 정보를 찾을 수 없습니다: odivelas\n"
     ]
    },
    {
     "name": "stderr",
     "output_type": "stream",
     "text": [
      "6324it [00:05, 1139.68it/s]"
     ]
    },
    {
     "name": "stdout",
     "output_type": "stream",
     "text": [
      "위치 정보를 찾을 수 없습니다: holtsville\n"
     ]
    },
    {
     "name": "stderr",
     "output_type": "stream",
     "text": [
      "6920it [00:06, 664.56it/s] "
     ]
    },
    {
     "name": "stdout",
     "output_type": "stream",
     "text": [
      "위치 정보를 찾을 수 없습니다: alburquerque\n",
      "위치 정보를 찾을 수 없습니다: oakleaf\n"
     ]
    },
    {
     "name": "stderr",
     "output_type": "stream",
     "text": [
      "7503it [00:07, 1028.44it/s]"
     ]
    },
    {
     "name": "stdout",
     "output_type": "stream",
     "text": [
      "위치 정보를 찾을 수 없습니다: anaheimhills\n"
     ]
    },
    {
     "name": "stderr",
     "output_type": "stream",
     "text": [
      "8049it [00:08, 568.98it/s] "
     ]
    },
    {
     "name": "stdout",
     "output_type": "stream",
     "text": [
      "위치 정보를 찾을 수 없습니다: costadacaparica\n"
     ]
    },
    {
     "name": "stderr",
     "output_type": "stream",
     "text": [
      "8164it [00:08, 480.57it/s]"
     ]
    },
    {
     "name": "stdout",
     "output_type": "stream",
     "text": [
      "위치 정보를 찾을 수 없습니다: pefferlaw\n"
     ]
    },
    {
     "name": "stderr",
     "output_type": "stream",
     "text": [
      "8332it [00:08, 633.11it/s]"
     ]
    },
    {
     "name": "stdout",
     "output_type": "stream",
     "text": [
      "위치 정보를 찾을 수 없습니다: newalla\n",
      "위치 정보를 찾을 수 없습니다: clemons\n"
     ]
    },
    {
     "name": "stderr",
     "output_type": "stream",
     "text": [
      "8627it [00:09, 842.83it/s]"
     ]
    },
    {
     "name": "stdout",
     "output_type": "stream",
     "text": [
      "위치 정보를 찾을 수 없습니다: mountainpark\n",
      "위치 정보를 찾을 수 없습니다: redfeatherlakes\n"
     ]
    },
    {
     "name": "stderr",
     "output_type": "stream",
     "text": [
      "9625it [00:10, 1464.52it/s]"
     ]
    },
    {
     "name": "stdout",
     "output_type": "stream",
     "text": [
      "위치 정보를 찾을 수 없습니다: rockvale\n",
      "위치 정보를 찾을 수 없습니다: noxen\n"
     ]
    },
    {
     "name": "stderr",
     "output_type": "stream",
     "text": [
      "10146it [00:10, 1005.91it/s]"
     ]
    },
    {
     "name": "stdout",
     "output_type": "stream",
     "text": [
      "위치 정보를 찾을 수 없습니다: boskoop\n",
      "위치 정보를 찾을 수 없습니다: llavaneresbarcelona\n"
     ]
    },
    {
     "name": "stderr",
     "output_type": "stream",
     "text": [
      "10261it [00:11, 685.65it/s] "
     ]
    },
    {
     "name": "stdout",
     "output_type": "stream",
     "text": [
      "위치 정보를 찾을 수 없습니다: beaverville\n",
      "위치 정보를 찾을 수 없습니다: leonidas\n"
     ]
    },
    {
     "name": "stderr",
     "output_type": "stream",
     "text": [
      "10954it [00:11, 1018.29it/s]"
     ]
    },
    {
     "name": "stdout",
     "output_type": "stream",
     "text": [
      "위치 정보를 찾을 수 없습니다: lakebay\n"
     ]
    },
    {
     "name": "stderr",
     "output_type": "stream",
     "text": [
      "12385it [00:13, 1206.03it/s]"
     ]
    },
    {
     "name": "stdout",
     "output_type": "stream",
     "text": [
      "위치 정보를 찾을 수 없습니다: huntly\n"
     ]
    },
    {
     "name": "stderr",
     "output_type": "stream",
     "text": [
      "12743it [00:13, 1323.77it/s]"
     ]
    },
    {
     "name": "stdout",
     "output_type": "stream",
     "text": [
      "위치 정보를 찾을 수 없습니다: scharleston\n"
     ]
    },
    {
     "name": "stderr",
     "output_type": "stream",
     "text": [
      "14224it [00:14, 1186.71it/s]"
     ]
    },
    {
     "name": "stdout",
     "output_type": "stream",
     "text": [
      "위치 정보를 찾을 수 없습니다: ringle\n",
      "위치 정보를 찾을 수 없습니다: ajijic\n"
     ]
    },
    {
     "name": "stderr",
     "output_type": "stream",
     "text": [
      "15238it [00:15, 1023.73it/s]"
     ]
    },
    {
     "name": "stdout",
     "output_type": "stream",
     "text": [
      "위치 정보를 찾을 수 없습니다: rhome\n",
      "위치 정보를 찾을 수 없습니다: iwakuni\n"
     ]
    },
    {
     "name": "stderr",
     "output_type": "stream",
     "text": [
      "15537it [00:15, 1150.18it/s]"
     ]
    },
    {
     "name": "stdout",
     "output_type": "stream",
     "text": [
      "위치 정보를 찾을 수 없습니다: northsalem\n"
     ]
    },
    {
     "name": "stderr",
     "output_type": "stream",
     "text": [
      "15777it [00:15, 1021.40it/s]"
     ]
    },
    {
     "name": "stdout",
     "output_type": "stream",
     "text": [
      "위치 정보를 찾을 수 없습니다: caoncity\n",
      "위치 정보를 찾을 수 없습니다: philadelphiaarea\n"
     ]
    },
    {
     "name": "stderr",
     "output_type": "stream",
     "text": [
      "16255it [00:16, 1139.51it/s]"
     ]
    },
    {
     "name": "stdout",
     "output_type": "stream",
     "text": [
      "위치 정보를 찾을 수 없습니다: edistoisland\n"
     ]
    },
    {
     "name": "stderr",
     "output_type": "stream",
     "text": [
      "18509it [00:17, 1654.65it/s]"
     ]
    },
    {
     "name": "stdout",
     "output_type": "stream",
     "text": [
      "위치 정보를 찾을 수 없습니다: saraland\n",
      "위치 정보를 찾을 수 없습니다: grifton\n"
     ]
    },
    {
     "name": "stderr",
     "output_type": "stream",
     "text": [
      "18831it [00:18, 1500.11it/s]"
     ]
    },
    {
     "name": "stdout",
     "output_type": "stream",
     "text": [
      "위치 정보를 찾을 수 없습니다: emsworth\n"
     ]
    },
    {
     "name": "stderr",
     "output_type": "stream",
     "text": [
      "19249it [00:18, 1078.10it/s]"
     ]
    },
    {
     "name": "stdout",
     "output_type": "stream",
     "text": [
      "위치 정보를 찾을 수 없습니다: huntertown\n",
      "위치 정보를 찾을 수 없습니다: portjeffersonstation\n"
     ]
    },
    {
     "name": "stderr",
     "output_type": "stream",
     "text": [
      "19867it [00:19, 1201.43it/s]"
     ]
    },
    {
     "name": "stdout",
     "output_type": "stream",
     "text": [
      "위치 정보를 찾을 수 없습니다: elfinforest\n"
     ]
    },
    {
     "name": "stderr",
     "output_type": "stream",
     "text": [
      "20574it [00:19, 1439.87it/s]"
     ]
    },
    {
     "name": "stdout",
     "output_type": "stream",
     "text": [
      "위치 정보를 찾을 수 없습니다: bloomfieldpo\n"
     ]
    },
    {
     "name": "stderr",
     "output_type": "stream",
     "text": [
      "21264it [00:20, 1512.77it/s]"
     ]
    },
    {
     "name": "stdout",
     "output_type": "stream",
     "text": [
      "위치 정보를 찾을 수 없습니다: coombs\n"
     ]
    },
    {
     "name": "stderr",
     "output_type": "stream",
     "text": [
      "22638it [00:20, 1447.78it/s]"
     ]
    },
    {
     "name": "stdout",
     "output_type": "stream",
     "text": [
      "위치 정보를 찾을 수 없습니다: price\n",
      "위치 정보를 찾을 수 없습니다: bobcaygeon\n",
      "위치 정보를 찾을 수 없습니다: monona\n"
     ]
    },
    {
     "name": "stderr",
     "output_type": "stream",
     "text": [
      "23008it [00:21, 1366.19it/s]"
     ]
    },
    {
     "name": "stdout",
     "output_type": "stream",
     "text": [
      "위치 정보를 찾을 수 없습니다: pepinster\n",
      "위치 정보를 찾을 수 없습니다: shastalakecity\n"
     ]
    },
    {
     "name": "stderr",
     "output_type": "stream",
     "text": [
      "23542it [00:21, 1108.60it/s]"
     ]
    },
    {
     "name": "stdout",
     "output_type": "stream",
     "text": [
      "위치 정보를 찾을 수 없습니다: standish\n"
     ]
    },
    {
     "name": "stderr",
     "output_type": "stream",
     "text": [
      "25525it [00:22, 1957.65it/s]"
     ]
    },
    {
     "name": "stdout",
     "output_type": "stream",
     "text": [
      "위치 정보를 찾을 수 없습니다: jarratt\n"
     ]
    },
    {
     "name": "stderr",
     "output_type": "stream",
     "text": [
      "26006it [00:23, 1896.08it/s]"
     ]
    },
    {
     "name": "stdout",
     "output_type": "stream",
     "text": [
      "위치 정보를 찾을 수 없습니다: islamabad\n"
     ]
    },
    {
     "name": "stderr",
     "output_type": "stream",
     "text": [
      "26725it [00:23, 1385.18it/s]"
     ]
    },
    {
     "name": "stdout",
     "output_type": "stream",
     "text": [
      "위치 정보를 찾을 수 없습니다: finleyville\n"
     ]
    },
    {
     "name": "stderr",
     "output_type": "stream",
     "text": [
      "27023it [00:24, 1224.57it/s]"
     ]
    },
    {
     "name": "stdout",
     "output_type": "stream",
     "text": [
      "위치 정보를 찾을 수 없습니다: narrewarren\n",
      "위치 정보를 찾을 수 없습니다: oceanport\n"
     ]
    },
    {
     "name": "stderr",
     "output_type": "stream",
     "text": [
      "27454it [00:24, 1234.86it/s]"
     ]
    },
    {
     "name": "stdout",
     "output_type": "stream",
     "text": [
      "위치 정보를 찾을 수 없습니다: killdevilshills\n",
      "위치 정보를 찾을 수 없습니다: lorociuffennafrazsgiustinovno\n"
     ]
    },
    {
     "name": "stderr",
     "output_type": "stream",
     "text": [
      "28053it [00:24, 1598.34it/s]"
     ]
    },
    {
     "name": "stdout",
     "output_type": "stream",
     "text": [
      "위치 정보를 찾을 수 없습니다: crestonbc\n",
      "위치 정보를 찾을 수 없습니다: mindelo\n",
      "위치 정보를 찾을 수 없습니다: celista\n"
     ]
    },
    {
     "name": "stderr",
     "output_type": "stream",
     "text": [
      "28556it [00:25, 1411.32it/s]"
     ]
    },
    {
     "name": "stdout",
     "output_type": "stream",
     "text": [
      "위치 정보를 찾을 수 없습니다: nehren\n",
      "위치 정보를 찾을 수 없습니다: millfield\n"
     ]
    },
    {
     "name": "stderr",
     "output_type": "stream",
     "text": [
      "29215it [00:25, 1680.56it/s]"
     ]
    },
    {
     "name": "stdout",
     "output_type": "stream",
     "text": [
      "위치 정보를 찾을 수 없습니다: caruthersville\n"
     ]
    },
    {
     "name": "stderr",
     "output_type": "stream",
     "text": [
      "29710it [00:25, 1358.52it/s]"
     ]
    },
    {
     "name": "stdout",
     "output_type": "stream",
     "text": [
      "위치 정보를 찾을 수 없습니다: metamora\n"
     ]
    },
    {
     "name": "stderr",
     "output_type": "stream",
     "text": [
      "30275it [00:26, 1735.40it/s]"
     ]
    },
    {
     "name": "stdout",
     "output_type": "stream",
     "text": [
      "위치 정보를 찾을 수 없습니다: saanichton\n",
      "위치 정보를 찾을 수 없습니다: quarona\n"
     ]
    },
    {
     "name": "stderr",
     "output_type": "stream",
     "text": [
      "30651it [00:26, 1514.96it/s]"
     ]
    },
    {
     "name": "stdout",
     "output_type": "stream",
     "text": [
      "위치 정보를 찾을 수 없습니다: cinisello\n",
      "위치 정보를 찾을 수 없습니다: adairsville\n"
     ]
    },
    {
     "name": "stderr",
     "output_type": "stream",
     "text": [
      "31440it [00:26, 1637.64it/s]"
     ]
    },
    {
     "name": "stdout",
     "output_type": "stream",
     "text": [
      "위치 정보를 찾을 수 없습니다: huddleston\n"
     ]
    },
    {
     "name": "stderr",
     "output_type": "stream",
     "text": [
      "31890it [00:27, 1742.39it/s]"
     ]
    },
    {
     "name": "stdout",
     "output_type": "stream",
     "text": [
      "위치 정보를 찾을 수 없습니다: mazieresengatine\n"
     ]
    },
    {
     "name": "stderr",
     "output_type": "stream",
     "text": [
      "32828it [00:27, 1525.79it/s]"
     ]
    },
    {
     "name": "stdout",
     "output_type": "stream",
     "text": [
      "위치 정보를 찾을 수 없습니다: beaverdell\n"
     ]
    },
    {
     "name": "stderr",
     "output_type": "stream",
     "text": [
      "33899it [00:28, 1279.01it/s]"
     ]
    },
    {
     "name": "stdout",
     "output_type": "stream",
     "text": [
      "위치 정보를 찾을 수 없습니다: oakcliff\n",
      "위치 정보를 찾을 수 없습니다: johntown\n"
     ]
    },
    {
     "name": "stderr",
     "output_type": "stream",
     "text": [
      "34187it [00:28, 1208.81it/s]"
     ]
    },
    {
     "name": "stdout",
     "output_type": "stream",
     "text": [
      "위치 정보를 찾을 수 없습니다: mossbeach\n",
      "위치 정보를 찾을 수 없습니다: ciempozuelos\n"
     ]
    },
    {
     "name": "stderr",
     "output_type": "stream",
     "text": [
      "34637it [00:29, 1320.05it/s]"
     ]
    },
    {
     "name": "stdout",
     "output_type": "stream",
     "text": [
      "위치 정보를 찾을 수 없습니다: laurium\n",
      "위치 정보를 찾을 수 없습니다: section\n"
     ]
    },
    {
     "name": "stderr",
     "output_type": "stream",
     "text": [
      "35755it [00:29, 2102.68it/s]"
     ]
    },
    {
     "name": "stdout",
     "output_type": "stream",
     "text": [
      "위치 정보를 찾을 수 없습니다: campbellsville\n"
     ]
    },
    {
     "name": "stderr",
     "output_type": "stream",
     "text": [
      "36664it [00:30, 1249.81it/s]"
     ]
    },
    {
     "name": "stdout",
     "output_type": "stream",
     "text": [
      "위치 정보를 찾을 수 없습니다: tynemouth\n"
     ]
    },
    {
     "name": "stderr",
     "output_type": "stream",
     "text": [
      "36798it [00:30, 1149.40it/s]"
     ]
    },
    {
     "name": "stdout",
     "output_type": "stream",
     "text": [
      "위치 정보를 찾을 수 없습니다: chatelaillonplage\n",
      "위치 정보를 찾을 수 없습니다: brembatedisoprabg\n",
      "위치 정보를 찾을 수 없습니다: roquesterongrasse\n"
     ]
    },
    {
     "name": "stderr",
     "output_type": "stream",
     "text": [
      "37215it [00:31, 1218.84it/s]"
     ]
    },
    {
     "name": "stdout",
     "output_type": "stream",
     "text": [
      "위치 정보를 찾을 수 없습니다: laeliana\n"
     ]
    },
    {
     "name": "stderr",
     "output_type": "stream",
     "text": [
      "38168it [00:31, 1599.38it/s]"
     ]
    },
    {
     "name": "stdout",
     "output_type": "stream",
     "text": [
      "위치 정보를 찾을 수 없습니다: bucuresti\n",
      "위치 정보를 찾을 수 없습니다: lyndoch\n"
     ]
    },
    {
     "name": "stderr",
     "output_type": "stream",
     "text": [
      "39151it [00:32, 1905.73it/s]"
     ]
    },
    {
     "name": "stdout",
     "output_type": "stream",
     "text": [
      "위치 정보를 찾을 수 없습니다: jerrabomberra\n"
     ]
    },
    {
     "name": "stderr",
     "output_type": "stream",
     "text": [
      "40273it [00:32, 1915.53it/s]"
     ]
    },
    {
     "name": "stdout",
     "output_type": "stream",
     "text": [
      "위치 정보를 찾을 수 없습니다: thebronx\n"
     ]
    },
    {
     "name": "stderr",
     "output_type": "stream",
     "text": [
      "40708it [00:32, 2288.40it/s]"
     ]
    },
    {
     "name": "stdout",
     "output_type": "stream",
     "text": [
      "위치 정보를 찾을 수 없습니다: manton\n"
     ]
    },
    {
     "name": "stderr",
     "output_type": "stream",
     "text": [
      "42033it [00:33, 1621.05it/s]"
     ]
    },
    {
     "name": "stdout",
     "output_type": "stream",
     "text": [
      "위치 정보를 찾을 수 없습니다: pharr\n",
      "위치 정보를 찾을 수 없습니다: glenosmond\n"
     ]
    },
    {
     "name": "stderr",
     "output_type": "stream",
     "text": [
      "42426it [00:34, 1607.35it/s]"
     ]
    },
    {
     "name": "stdout",
     "output_type": "stream",
     "text": [
      "위치 정보를 찾을 수 없습니다: hadera\n"
     ]
    },
    {
     "name": "stderr",
     "output_type": "stream",
     "text": [
      "42852it [00:34, 1782.77it/s]"
     ]
    },
    {
     "name": "stdout",
     "output_type": "stream",
     "text": [
      "위치 정보를 찾을 수 없습니다: tarlac\n"
     ]
    },
    {
     "name": "stderr",
     "output_type": "stream",
     "text": [
      "43596it [00:34, 2675.62it/s]"
     ]
    },
    {
     "name": "stdout",
     "output_type": "stream",
     "text": [
      "위치 정보를 찾을 수 없습니다: pierrepart\n"
     ]
    },
    {
     "name": "stderr",
     "output_type": "stream",
     "text": [
      "44102it [00:34, 1609.74it/s]"
     ]
    },
    {
     "name": "stdout",
     "output_type": "stream",
     "text": [
      "위치 정보를 찾을 수 없습니다: villejuif\n"
     ]
    },
    {
     "name": "stderr",
     "output_type": "stream",
     "text": [
      "44622it [00:35, 1752.46it/s]"
     ]
    },
    {
     "name": "stdout",
     "output_type": "stream",
     "text": [
      "위치 정보를 찾을 수 없습니다: dutroon\n"
     ]
    },
    {
     "name": "stderr",
     "output_type": "stream",
     "text": [
      "45159it [00:35, 1706.70it/s]"
     ]
    },
    {
     "name": "stdout",
     "output_type": "stream",
     "text": [
      "위치 정보를 찾을 수 없습니다: maplefalls\n"
     ]
    },
    {
     "name": "stderr",
     "output_type": "stream",
     "text": [
      "45505it [00:35, 1520.86it/s]"
     ]
    },
    {
     "name": "stdout",
     "output_type": "stream",
     "text": [
      "위치 정보를 찾을 수 없습니다: northmankato\n",
      "위치 정보를 찾을 수 없습니다: wbster\n",
      "위치 정보를 찾을 수 없습니다: randers\n"
     ]
    },
    {
     "name": "stderr",
     "output_type": "stream",
     "text": [
      "45961it [00:36, 1254.18it/s]"
     ]
    },
    {
     "name": "stdout",
     "output_type": "stream",
     "text": [
      "위치 정보를 찾을 수 없습니다: blomberg\n"
     ]
    },
    {
     "name": "stderr",
     "output_type": "stream",
     "text": [
      "46557it [00:36, 1421.48it/s]"
     ]
    },
    {
     "name": "stdout",
     "output_type": "stream",
     "text": [
      "위치 정보를 찾을 수 없습니다: lochgilphead\n",
      "위치 정보를 찾을 수 없습니다: bowdoin\n"
     ]
    },
    {
     "name": "stderr",
     "output_type": "stream",
     "text": [
      "47043it [00:36, 1668.41it/s]"
     ]
    },
    {
     "name": "stdout",
     "output_type": "stream",
     "text": [
      "위치 정보를 찾을 수 없습니다: hackney\n"
     ]
    },
    {
     "name": "stderr",
     "output_type": "stream",
     "text": [
      "47566it [00:37, 1713.15it/s]"
     ]
    },
    {
     "name": "stdout",
     "output_type": "stream",
     "text": [
      "위치 정보를 찾을 수 없습니다: northsmithfield\n"
     ]
    },
    {
     "name": "stderr",
     "output_type": "stream",
     "text": [
      "47928it [00:37, 2034.62it/s]"
     ]
    },
    {
     "name": "stdout",
     "output_type": "stream",
     "text": [
      "위치 정보를 찾을 수 없습니다: kotzebue\n"
     ]
    },
    {
     "name": "stderr",
     "output_type": "stream",
     "text": [
      "49263it [00:37, 3214.00it/s]"
     ]
    },
    {
     "name": "stdout",
     "output_type": "stream",
     "text": [
      "위치 정보를 찾을 수 없습니다: morelia\n",
      "위치 정보를 찾을 수 없습니다: pittbsurgh\n",
      "위치 정보를 찾을 수 없습니다: wermelskirchen\n"
     ]
    },
    {
     "name": "stderr",
     "output_type": "stream",
     "text": [
      "50046it [00:37, 2866.43it/s]"
     ]
    },
    {
     "name": "stdout",
     "output_type": "stream",
     "text": [
      "위치 정보를 찾을 수 없습니다: staperptuademogoda\n"
     ]
    },
    {
     "name": "stderr",
     "output_type": "stream",
     "text": [
      "50612it [00:38, 1728.31it/s]"
     ]
    },
    {
     "name": "stdout",
     "output_type": "stream",
     "text": [
      "위치 정보를 찾을 수 없습니다: greatlakes\n",
      "위치 정보를 찾을 수 없습니다: graefelfing\n",
      "위치 정보를 찾을 수 없습니다: bayview\n"
     ]
    },
    {
     "name": "stderr",
     "output_type": "stream",
     "text": [
      "52077it [00:38, 2348.72it/s]"
     ]
    },
    {
     "name": "stdout",
     "output_type": "stream",
     "text": [
      "위치 정보를 찾을 수 없습니다: villanuevadelaserena\n",
      "위치 정보를 찾을 수 없습니다: charlotteown\n",
      "위치 정보를 찾을 수 없습니다: stnarcisse\n"
     ]
    },
    {
     "name": "stderr",
     "output_type": "stream",
     "text": [
      "52574it [00:39, 2023.37it/s]"
     ]
    },
    {
     "name": "stdout",
     "output_type": "stream",
     "text": [
      "위치 정보를 찾을 수 없습니다: lynfieldauckland\n",
      "위치 정보를 찾을 수 없습니다: morrilton\n",
      "위치 정보를 찾을 수 없습니다: standish\n"
     ]
    },
    {
     "name": "stderr",
     "output_type": "stream",
     "text": [
      "52981it [00:39, 1501.62it/s]"
     ]
    },
    {
     "name": "stdout",
     "output_type": "stream",
     "text": [
      "위치 정보를 찾을 수 없습니다: zoolooriver\n"
     ]
    },
    {
     "name": "stderr",
     "output_type": "stream",
     "text": [
      "53519it [00:39, 1777.89it/s]"
     ]
    },
    {
     "name": "stdout",
     "output_type": "stream",
     "text": [
      "위치 정보를 찾을 수 없습니다: conneautville\n",
      "위치 정보를 찾을 수 없습니다: ashburnham\n"
     ]
    },
    {
     "name": "stderr",
     "output_type": "stream",
     "text": [
      "54565it [00:40, 2639.30it/s]"
     ]
    },
    {
     "name": "stdout",
     "output_type": "stream",
     "text": [
      "위치 정보를 찾을 수 없습니다: smarcos\n"
     ]
    },
    {
     "name": "stderr",
     "output_type": "stream",
     "text": [
      "55181it [00:40, 2554.42it/s]"
     ]
    },
    {
     "name": "stdout",
     "output_type": "stream",
     "text": [
      "위치 정보를 찾을 수 없습니다: seremban\n",
      "위치 정보를 찾을 수 없습니다: islesboro\n"
     ]
    },
    {
     "name": "stderr",
     "output_type": "stream",
     "text": [
      "55447it [00:40, 1922.31it/s]"
     ]
    },
    {
     "name": "stdout",
     "output_type": "stream",
     "text": [
      "위치 정보를 찾을 수 없습니다: manter\n",
      "위치 정보를 찾을 수 없습니다: chalfontstgiles\n"
     ]
    },
    {
     "name": "stderr",
     "output_type": "stream",
     "text": [
      "57846it [00:41, 2996.98it/s]"
     ]
    },
    {
     "name": "stdout",
     "output_type": "stream",
     "text": [
      "위치 정보를 찾을 수 없습니다: beecroft\n",
      "위치 정보를 찾을 수 없습니다: grobieberau\n"
     ]
    },
    {
     "name": "stderr",
     "output_type": "stream",
     "text": [
      "59443it [00:42, 2386.55it/s]"
     ]
    },
    {
     "name": "stdout",
     "output_type": "stream",
     "text": [
      "위치 정보를 찾을 수 없습니다: bermeo\n",
      "위치 정보를 찾을 수 없습니다: holbein\n"
     ]
    },
    {
     "name": "stderr",
     "output_type": "stream",
     "text": [
      "59697it [00:42, 1992.21it/s]"
     ]
    },
    {
     "name": "stdout",
     "output_type": "stream",
     "text": [
      "위치 정보를 찾을 수 없습니다: ischianaples\n"
     ]
    },
    {
     "name": "stderr",
     "output_type": "stream",
     "text": [
      "60771it [00:42, 2649.14it/s]"
     ]
    },
    {
     "name": "stdout",
     "output_type": "stream",
     "text": [
      "위치 정보를 찾을 수 없습니다: pfullingen\n"
     ]
    },
    {
     "name": "stderr",
     "output_type": "stream",
     "text": [
      "61296it [00:43, 1896.32it/s]"
     ]
    },
    {
     "name": "stdout",
     "output_type": "stream",
     "text": [
      "위치 정보를 찾을 수 없습니다: gaborone\n",
      "위치 정보를 찾을 수 없습니다: bridgewatercorners\n",
      "위치 정보를 찾을 수 없습니다: hanoi\n"
     ]
    },
    {
     "name": "stderr",
     "output_type": "stream",
     "text": [
      "61506it [00:43, 1652.40it/s]"
     ]
    },
    {
     "name": "stdout",
     "output_type": "stream",
     "text": [
      "위치 정보를 찾을 수 없습니다: clippermills\n"
     ]
    },
    {
     "name": "stderr",
     "output_type": "stream",
     "text": [
      "63233it [00:44, 2565.73it/s]"
     ]
    },
    {
     "name": "stdout",
     "output_type": "stream",
     "text": [
      "위치 정보를 찾을 수 없습니다: valemount\n",
      "위치 정보를 찾을 수 없습니다: wermelskirchen\n",
      "위치 정보를 찾을 수 없습니다: pucn\n"
     ]
    },
    {
     "name": "stderr",
     "output_type": "stream",
     "text": [
      "63769it [00:44, 1921.12it/s]"
     ]
    },
    {
     "name": "stdout",
     "output_type": "stream",
     "text": [
      "위치 정보를 찾을 수 없습니다: barcelonacatalunya\n",
      "위치 정보를 찾을 수 없습니다: redondela\n",
      "위치 정보를 찾을 수 없습니다: ruffsdale\n",
      "위치 정보를 찾을 수 없습니다: ptchevalier\n"
     ]
    },
    {
     "name": "stderr",
     "output_type": "stream",
     "text": [
      "64972it [00:44, 2661.63it/s]"
     ]
    },
    {
     "name": "stdout",
     "output_type": "stream",
     "text": [
      "위치 정보를 찾을 수 없습니다: lakecormorant\n",
      "위치 정보를 찾을 수 없습니다: letart\n"
     ]
    },
    {
     "name": "stderr",
     "output_type": "stream",
     "text": [
      "65450it [00:44, 3202.65it/s]"
     ]
    },
    {
     "name": "stdout",
     "output_type": "stream",
     "text": [
      "위치 정보를 찾을 수 없습니다: saronno\n"
     ]
    },
    {
     "name": "stderr",
     "output_type": "stream",
     "text": [
      "67500it [00:45, 3671.74it/s]"
     ]
    },
    {
     "name": "stdout",
     "output_type": "stream",
     "text": [
      "위치 정보를 찾을 수 없습니다: grossenseebach\n"
     ]
    },
    {
     "name": "stderr",
     "output_type": "stream",
     "text": [
      "67885it [00:45, 3192.32it/s]"
     ]
    },
    {
     "name": "stdout",
     "output_type": "stream",
     "text": [
      "위치 정보를 찾을 수 없습니다: wilfleinsdorf\n"
     ]
    },
    {
     "name": "stderr",
     "output_type": "stream",
     "text": [
      "68092it [00:45, 1484.81it/s]\n"
     ]
    }
   ],
   "source": [
    "# preprocess_loc.csv 전처리 방법\n",
    "location_dict = {}\n",
    "\n",
    "for idx, row in tqdm.tqdm(users.iterrows()):\n",
    "    city = row['city']\n",
    "    location = row['location']\n",
    "    country = row['country']\n",
    "\n",
    "    # 나라 정보가 없고 도시 정보가 있는 경우 처리\n",
    "    if pd.isna(country) and pd.notna(city):\n",
    "        if city in location_dict:\n",
    "            # 딕셔너리에서 위치 정보 가져오기\n",
    "            users.at[idx, 'state'] = location_dict[city][0]\n",
    "            users.at[idx, 'country'] = location_dict[city][1]\n",
    "        else:\n",
    "            # 새로운 위치 정보 찾기\n",
    "            try:\n",
    "                right_location = users[(users['location'].str.contains(city))&(users['country'].notnull())]['location'].value_counts().index[0]\n",
    "                state, country = right_location.split(',')[1:]\n",
    "                location_dict[city] = (state, country)\n",
    "                users.at[idx, 'state'] = state\n",
    "                users.at[idx, 'country'] = country\n",
    "            except IndexError:\n",
    "                # 예외 발생 시 로그 남기기\n",
    "                print(f\"위치 정보를 찾을 수 없습니다: {city}\")\n",
    "                \n",
    "\n",
    "for col in ['city', 'state', 'country']:\n",
    "    users[col] = pd.Categorical(users[col]).codes\n"
   ]
  },
  {
   "cell_type": "code",
   "execution_count": 507,
   "metadata": {},
   "outputs": [
    {
     "name": "stdout",
     "output_type": "stream",
     "text": [
      "[ 51  -1 293 159 191  93 282 227  39 102  26 130  24  97  67 182 224 292\n",
      " 117 126  21 254 260 246  17 121 236 105  83 127  32 222 167 249 134 119\n",
      " 259 313 273 132 120  62 229 258 141 123 181 220  48 286 195 247 197  79\n",
      " 252 156 138 165 304  56 157 128  81  75 107  88 237 205 214 204  73  45\n",
      " 190 301  90  14  12 285  94  42 194  74  89 248  61  57 307 136 114 168\n",
      "  46 155 116 163 113 169 314 244 315 125 223 208 271 187 266  33   8 131\n",
      " 299  37  27 242 210  72 228 288   5 178 279 213 109 309  10 188 232  59\n",
      " 264 269  40 255 240  53 257 160 265  63 206 274  66 305 245  30 179 122\n",
      " 145 256   6 268 238 272 275  55  43  22 262 176 164 108 147 278 115 233\n",
      "  71  76 280 312 267 202 219  28 289 172 171  96  86 284 174  80 196 241\n",
      "  11 101 251 186 192  13 235  38 103   7  78 308 170  85   1 140 216 311\n",
      " 203 291  70 211 290 135 217 166 189 129 139 215 231 253 225 226 207  64\n",
      "  84 306 297 180 183  20 106 287 209   0 193  18  69 152 100 149 173   3\n",
      " 143   9  34 111 276  23 303  65 133  44 281 118 184  98 243  15   4  52\n",
      "  47 201 185  19  54 175 277  36 261  58 148 153 150 234 310  91  41 212\n",
      " 137 158 154  49 221 177 270 198 162  35 151 298  60  50 142 199 124   2\n",
      " 200  87  16 300 218 144 263 239 250 112 104 146  77  29 110  95 283  92\n",
      " 294  99 296  68 230 295  31 302 161  82  25]\n"
     ]
    }
   ],
   "source": [
    "print(users['country'].unique())\n"
   ]
  },
  {
   "cell_type": "code",
   "execution_count": 508,
   "metadata": {},
   "outputs": [
    {
     "name": "stdout",
     "output_type": "stream",
     "text": [
      "Before : 317\n",
      "After : 317\n"
     ]
    }
   ],
   "source": [
    "print(f'Before : {users[\"country\"].nunique()}')\n",
    "country_mapping = {\n",
    "    'canada': ['canada', 'cananda', 'vvh', 'lkjlj'],\n",
    "    'italy': ['italia', 'italy', 'litalia', 'ineurope'],\n",
    "    'phillipines': ['phillipines', 'phillippines'],\n",
    "    'spain': ['catalunyaspain', 'spain'],\n",
    "    'unitedkingdom': ['unitedkingdom', 'usacurrentlylivinginengland', 'unitedkindgonm', 'obviously'],\n",
    "    'usa': ['unitedstates', 'unitedstaes', 'unitedsates', 'unitedstatesofamerica', 'usa', 'usanow', 'ysa', 'csa', 'anystate', 'usacanada'],\n",
    "    'uruguay': ['urugua', 'uruguay']\n",
    "}\n",
    "\n",
    "for target_country, aliases in country_mapping.items() :\n",
    "    users['country'].replace(aliases, target_country, inplace = True)\n",
    "\n",
    "print(f'After : {users[\"country\"].nunique()}')"
   ]
  },
  {
   "cell_type": "code",
   "execution_count": 509,
   "metadata": {},
   "outputs": [
    {
     "name": "stderr",
     "output_type": "stream",
     "text": [
      "100%|██████████| 262/262 [00:01<00:00, 227.94it/s]\n"
     ]
    }
   ],
   "source": [
    "# 10개 이하의 country를 others로 변환\n",
    "others = users['country'].value_counts()[users['country'].value_counts() < 10].index\n",
    "for country in tqdm.tqdm(others) :\n",
    "    try :\n",
    "        users.loc[(users['country'] == country), 'country'] = 'others'\n",
    "    except :\n",
    "        pass"
   ]
  },
  {
   "cell_type": "code",
   "execution_count": 510,
   "metadata": {},
   "outputs": [
    {
     "name": "stdout",
     "output_type": "stream",
     "text": [
      "56\n"
     ]
    }
   ],
   "source": [
    "# 나머지 결측치에 대해서도 others로 변환\n",
    "users['country'] = users['country'].fillna('others')\n",
    "print(users['country'].nunique())\n"
   ]
  },
  {
   "cell_type": "markdown",
   "metadata": {},
   "source": [
    "# Age 분석하기\n",
    "\n",
    "- 국가별 age의 중앙값으로 대체\n",
    "- 국가별 age의 중앙값이 존재하지 않는 경우, 전체 age의 중앙값으로 대체"
   ]
  },
  {
   "cell_type": "code",
   "execution_count": 511,
   "metadata": {},
   "outputs": [],
   "source": [
    "labels = ['3-6','6-8','8-12','12-15','15-18','18-25','25-34','35-44','45-54','55-64','65-74','75+']\n",
    "bins = [3, 6, 8, 12, 15, 18, 25, 34, 44, 54, 64, 74, 100]\n",
    "    \n",
    "users['age'] = users['age'].apply(lambda x: 100 if x>100 else x)\n",
    "users.loc[(users['age'] > 90), 'age'] = np.nan\n",
    "\n",
    "users['age'] = users['age'].fillna(users['age'].mean())\n",
    "users['age'] = users['age'].astype(np.int64)\n",
    "\n",
    "users['new_age'] = pd.cut(users.age, bins, labels = labels,include_lowest = True)"
   ]
  },
  {
   "cell_type": "code",
   "execution_count": 512,
   "metadata": {},
   "outputs": [
    {
     "data": {
      "text/plain": [
       "new_age\n",
       "35-44    36493\n",
       "25-34    10873\n",
       "18-25     6791\n",
       "45-54     5946\n",
       "55-64     3394\n",
       "15-18     2012\n",
       "65-74     1109\n",
       "12-15     1086\n",
       "75+        197\n",
       "8-12       143\n",
       "6-8         34\n",
       "3-6         14\n",
       "Name: count, dtype: int64"
      ]
     },
     "execution_count": 512,
     "metadata": {},
     "output_type": "execute_result"
    }
   ],
   "source": [
    "users['new_age'].value_counts()"
   ]
  },
  {
   "cell_type": "code",
   "execution_count": 513,
   "metadata": {},
   "outputs": [],
   "source": [
    "users.to_csv('./code/data/users_preprocessed.csv', index = False)"
   ]
  },
  {
   "cell_type": "code",
   "execution_count": 514,
   "metadata": {},
   "outputs": [
    {
     "name": "stdout",
     "output_type": "stream",
     "text": [
      "(149570, 13) (68092, 7) (306795, 3) (76699, 3)\n"
     ]
    }
   ],
   "source": [
    "path = './code/data/'\n",
    "books_pre = pd.read_csv(path + 'books_preprocessed.csv')\n",
    "users_pre = pd.read_csv(path + 'users_preprocessed.csv')\n",
    "train_ratings = pd.read_csv(path + 'train_ratings.csv')\n",
    "test_ratings = pd.read_csv(path + 'test_ratings.csv')\n",
    "\n",
    "print(books_pre.shape, users_pre.shape, train_ratings.shape, test_ratings.shape)"
   ]
  },
  {
   "cell_type": "code",
   "execution_count": 515,
   "metadata": {},
   "outputs": [
    {
     "name": "stdout",
     "output_type": "stream",
     "text": [
      "<class 'pandas.core.frame.DataFrame'>\n",
      "RangeIndex: 149570 entries, 0 to 149569\n",
      "Data columns (total 13 columns):\n",
      " #   Column               Non-Null Count   Dtype  \n",
      "---  ------               --------------   -----  \n",
      " 0   isbn                 149570 non-null  object \n",
      " 1   book_title           149570 non-null  object \n",
      " 2   book_author          149570 non-null  object \n",
      " 3   year_of_publication  149570 non-null  float64\n",
      " 4   publisher            149570 non-null  object \n",
      " 5   img_url              149570 non-null  object \n",
      " 6   language             149568 non-null  object \n",
      " 7   category             80719 non-null   object \n",
      " 8   summary              82343 non-null   object \n",
      " 9   img_path             149570 non-null  object \n",
      " 10  new_publisher        149570 non-null  object \n",
      " 11  years                149570 non-null  int64  \n",
      " 12  category_high        149570 non-null  object \n",
      "dtypes: float64(1), int64(1), object(11)\n",
      "memory usage: 14.8+ MB\n",
      "<class 'pandas.core.frame.DataFrame'>\n",
      "RangeIndex: 68092 entries, 0 to 68091\n",
      "Data columns (total 7 columns):\n",
      " #   Column    Non-Null Count  Dtype \n",
      "---  ------    --------------  ----- \n",
      " 0   user_id   68092 non-null  int64 \n",
      " 1   location  68092 non-null  object\n",
      " 2   age       68092 non-null  int64 \n",
      " 3   city      68092 non-null  int64 \n",
      " 4   state     68092 non-null  int64 \n",
      " 5   country   68092 non-null  object\n",
      " 6   new_age   68092 non-null  object\n",
      "dtypes: int64(4), object(3)\n",
      "memory usage: 3.6+ MB\n"
     ]
    },
    {
     "data": {
      "text/plain": [
       "None"
      ]
     },
     "metadata": {},
     "output_type": "display_data"
    },
    {
     "data": {
      "text/plain": [
       "None"
      ]
     },
     "metadata": {},
     "output_type": "display_data"
    }
   ],
   "source": [
    "display(books_pre.info(), users_pre.info())\n",
    "\n",
    "# language 결측치인 경우 unknown으로 채우기\n",
    "books_pre['language'] = books_pre['language'].fillna('Unknown')"
   ]
  },
  {
   "cell_type": "code",
   "execution_count": 516,
   "metadata": {},
   "outputs": [],
   "source": [
    "books_final = books_pre[['isbn', 'book_title', 'book_author', 'language', 'years', 'new_publisher', 'category_high']]\n",
    "users_final = users_pre[['user_id', 'city', 'state', 'country', 'new_age']] # [['user_id', 'country', 'new_age']]"
   ]
  },
  {
   "cell_type": "code",
   "execution_count": 517,
   "metadata": {},
   "outputs": [
    {
     "name": "stdout",
     "output_type": "stream",
     "text": [
      "<class 'pandas.core.frame.DataFrame'>\n",
      "RangeIndex: 306795 entries, 0 to 306794\n",
      "Data columns (total 13 columns):\n",
      " #   Column         Non-Null Count   Dtype  \n",
      "---  ------         --------------   -----  \n",
      " 0   user_id        306795 non-null  int64  \n",
      " 1   city           306795 non-null  int64  \n",
      " 2   state          306795 non-null  int64  \n",
      " 3   country        306795 non-null  object \n",
      " 4   new_age        306795 non-null  object \n",
      " 5   isbn           306795 non-null  object \n",
      " 6   book_title     306795 non-null  object \n",
      " 7   book_author    306795 non-null  object \n",
      " 8   language       306795 non-null  object \n",
      " 9   years          306795 non-null  float64\n",
      " 10  new_publisher  306795 non-null  object \n",
      " 11  category_high  306795 non-null  object \n",
      " 12  rating         306795 non-null  float64\n",
      "dtypes: float64(2), int64(3), object(8)\n",
      "memory usage: 30.4+ MB\n"
     ]
    }
   ],
   "source": [
    "train_ratings['index'] = train_ratings.index\n",
    "train_df = pd.merge(books_final, train_ratings, how = 'left', on = 'isbn').dropna(subset = 'rating')\n",
    "train_df = pd.merge(users_final, train_df, how = 'left', on = 'user_id').dropna(subset = 'rating')\n",
    "train_df = train_df.sort_values('index').reset_index(drop = True).drop(columns = 'index')\n",
    "train_df.info()"
   ]
  },
  {
   "cell_type": "code",
   "execution_count": 518,
   "metadata": {},
   "outputs": [],
   "source": [
    "# 유저별 리뷰 횟수 추가\n",
    "user_id_counts = train_df['user_id'].value_counts()\n",
    "train_df['review_counts'] = train_df['user_id'].map(user_id_counts)"
   ]
  },
  {
   "cell_type": "code",
   "execution_count": 519,
   "metadata": {},
   "outputs": [
    {
     "name": "stdout",
     "output_type": "stream",
     "text": [
      "<class 'pandas.core.frame.DataFrame'>\n",
      "RangeIndex: 76699 entries, 0 to 76698\n",
      "Data columns (total 13 columns):\n",
      " #   Column         Non-Null Count  Dtype  \n",
      "---  ------         --------------  -----  \n",
      " 0   user_id        76699 non-null  int64  \n",
      " 1   city           76699 non-null  int64  \n",
      " 2   state          76699 non-null  int64  \n",
      " 3   country        76699 non-null  object \n",
      " 4   new_age        76699 non-null  object \n",
      " 5   isbn           76699 non-null  object \n",
      " 6   book_title     76699 non-null  object \n",
      " 7   book_author    76699 non-null  object \n",
      " 8   language       76699 non-null  object \n",
      " 9   years          76699 non-null  float64\n",
      " 10  new_publisher  76699 non-null  object \n",
      " 11  category_high  76699 non-null  object \n",
      " 12  rating         76699 non-null  float64\n",
      "dtypes: float64(2), int64(3), object(8)\n",
      "memory usage: 7.6+ MB\n"
     ]
    }
   ],
   "source": [
    "test_ratings['index'] = test_ratings.index\n",
    "test_df = pd.merge(books_final, test_ratings, how = 'left', on = 'isbn').dropna(subset = 'rating')\n",
    "test_df = pd.merge(users_final, test_df, how = 'left', on = 'user_id').dropna(subset = 'rating')\n",
    "test_df = test_df.sort_values('index').reset_index(drop = True).drop(columns = 'index')\n",
    "test_df.info()"
   ]
  },
  {
   "cell_type": "code",
   "execution_count": 520,
   "metadata": {},
   "outputs": [],
   "source": [
    "# 유저별 리뷰 횟수 추가\n",
    "test_df['review_counts'] = test_df['user_id'].map(user_id_counts)\n",
    "test_df[\"review_counts\"] = test_df[\"review_counts\"].fillna(0)"
   ]
  },
  {
   "cell_type": "code",
   "execution_count": 521,
   "metadata": {},
   "outputs": [],
   "source": [
    "train_df['user_id'] = train_df['user_id'].astype('str')\n",
    "train_df['city'] = train_df['city'].astype('str')\n",
    "train_df['state'] = train_df['state'].astype('str')\n",
    "train_df['country'] = train_df['country'].astype('str')\n",
    "train_df['new_age'] = train_df['new_age'].astype('str')\n",
    "train_df['years'] = train_df['years'].astype('int').astype('str')\n",
    "train_df['book_title'] = train_df['book_title'].astype('str')\n",
    "train_df['book_author'] = train_df['book_author'].astype('str')\n",
    "train_df['rating'] = train_df['rating'].astype('int')\n",
    "train_df['isbn'] = train_df['isbn'].astype('str')\n",
    "train_df['language'] = train_df['language'].astype('str')\n",
    "train_df['review_counts'] = train_df['review_counts'].astype('int')\n",
    "train_df['new_publisher'] = train_df['new_publisher'].astype('str')\n",
    "train_df['category_high'] = train_df['category_high'].astype('str')\n",
    "\n",
    "\n",
    "test_df['user_id'] = test_df['user_id'].astype('str')\n",
    "test_df['city'] = test_df['city'].astype('str')\n",
    "test_df['state'] = test_df['state'].astype('str')\n",
    "test_df['country'] = test_df['country'].astype('str')\n",
    "test_df['new_age'] = test_df['new_age'].astype('str')\n",
    "test_df['years'] = test_df['years'].astype('int').astype('str')\n",
    "test_df['book_title'] = test_df['book_title'].astype('str')\n",
    "test_df['book_author'] = test_df['book_author'].astype('str')\n",
    "test_df['rating'] = test_df['rating'].astype('int')\n",
    "test_df['isbn'] = test_df['isbn'].astype('str')\n",
    "test_df['language'] = test_df['language'].astype('str')\n",
    "test_df['review_counts'] = test_df['review_counts'].astype('int')\n",
    "test_df['new_publisher'] = test_df['new_publisher'].astype('str')\n",
    "test_df['category_high'] = test_df['category_high'].astype('str')"
   ]
  },
  {
   "cell_type": "code",
   "execution_count": 522,
   "metadata": {},
   "outputs": [
    {
     "name": "stdout",
     "output_type": "stream",
     "text": [
      "<class 'pandas.core.frame.DataFrame'>\n",
      "RangeIndex: 306795 entries, 0 to 306794\n",
      "Data columns (total 14 columns):\n",
      " #   Column         Non-Null Count   Dtype \n",
      "---  ------         --------------   ----- \n",
      " 0   user_id        306795 non-null  object\n",
      " 1   city           306795 non-null  object\n",
      " 2   state          306795 non-null  object\n",
      " 3   country        306795 non-null  object\n",
      " 4   new_age        306795 non-null  object\n",
      " 5   isbn           306795 non-null  object\n",
      " 6   book_title     306795 non-null  object\n",
      " 7   book_author    306795 non-null  object\n",
      " 8   language       306795 non-null  object\n",
      " 9   years          306795 non-null  object\n",
      " 10  new_publisher  306795 non-null  object\n",
      " 11  category_high  306795 non-null  object\n",
      " 12  rating         306795 non-null  int64 \n",
      " 13  review_counts  306795 non-null  int64 \n",
      "dtypes: int64(2), object(12)\n",
      "memory usage: 32.8+ MB\n"
     ]
    }
   ],
   "source": [
    "train_df.info()"
   ]
  },
  {
   "cell_type": "code",
   "execution_count": 523,
   "metadata": {},
   "outputs": [
    {
     "name": "stdout",
     "output_type": "stream",
     "text": [
      "<class 'pandas.core.frame.DataFrame'>\n",
      "RangeIndex: 76699 entries, 0 to 76698\n",
      "Data columns (total 14 columns):\n",
      " #   Column         Non-Null Count  Dtype \n",
      "---  ------         --------------  ----- \n",
      " 0   user_id        76699 non-null  object\n",
      " 1   city           76699 non-null  object\n",
      " 2   state          76699 non-null  object\n",
      " 3   country        76699 non-null  object\n",
      " 4   new_age        76699 non-null  object\n",
      " 5   isbn           76699 non-null  object\n",
      " 6   book_title     76699 non-null  object\n",
      " 7   book_author    76699 non-null  object\n",
      " 8   language       76699 non-null  object\n",
      " 9   years          76699 non-null  object\n",
      " 10  new_publisher  76699 non-null  object\n",
      " 11  category_high  76699 non-null  object\n",
      " 12  rating         76699 non-null  int64 \n",
      " 13  review_counts  76699 non-null  int64 \n",
      "dtypes: int64(2), object(12)\n",
      "memory usage: 8.2+ MB\n"
     ]
    }
   ],
   "source": [
    "test_df.info()\n"
   ]
  },
  {
   "cell_type": "code",
   "execution_count": 524,
   "metadata": {},
   "outputs": [],
   "source": [
    "train_GB = train_df.copy()\n",
    "test_GB = test_df.copy()"
   ]
  },
  {
   "cell_type": "code",
   "execution_count": 526,
   "metadata": {},
   "outputs": [
    {
     "name": "stderr",
     "output_type": "stream",
     "text": [
      "  0%|          | 0/52000 [00:00<?, ?it/s]"
     ]
    },
    {
     "name": "stderr",
     "output_type": "stream",
     "text": [
      "100%|██████████| 52000/52000 [00:06<00:00, 8235.02it/s] \n",
      "100%|██████████| 47721/47721 [00:05<00:00, 9254.15it/s] \n",
      "100%|██████████| 23981/23981 [00:01<00:00, 22491.63it/s]\n",
      "100%|██████████| 50/50 [00:00<00:00, 89545.35it/s]\n",
      "100%|██████████| 3049/3049 [00:00<00:00, 7077.97it/s]\n",
      "100%|██████████| 391/391 [00:00<00:00, 55560.28it/s]\n",
      "100%|██████████| 26167/26167 [01:10<00:00, 372.02it/s]\n",
      "100%|██████████| 12/12 [00:00<00:00, 47437.93it/s]\n",
      "100%|██████████| 5/5 [00:00<00:00, 17091.70it/s]\n",
      "100%|██████████| 6839/6839 [00:03<00:00, 2121.97it/s]\n",
      "100%|██████████| 873/873 [00:00<00:00, 17372.04it/s]\n",
      "100%|██████████| 56/56 [00:00<00:00, 86258.18it/s]\n"
     ]
    }
   ],
   "source": [
    "cat_col = ['isbn', 'book_title', 'book_author', 'language', 'new_publisher', 'category_high', 'user_id', 'new_age', 'years', 'city', 'state', 'country']\n",
    "\n",
    "for col in cat_col :\n",
    "    le = LabelEncoder()\n",
    "    train_GB[col] = le.fit_transform(train_GB[col])\n",
    "    for label in tqdm.tqdm((test_GB[col].unique())) :\n",
    "        if label not in le.classes_ : \n",
    "            le.classes_ = np.append(le.classes_, label)\n",
    "    test_GB[col] = le.transform(test_GB[col])"
   ]
  },
  {
   "cell_type": "code",
   "execution_count": 527,
   "metadata": {},
   "outputs": [
    {
     "name": "stdout",
     "output_type": "stream",
     "text": [
      "(291455, 13) (291455,) (15340, 13) (15340,)\n"
     ]
    }
   ],
   "source": [
    "X_train, X_valid, y_train, y_valid = train_test_split(train_GB.drop(columns = 'rating'), train_GB['rating'],\n",
    "                                                      test_size = 0.05, random_state = SEED)\n",
    "print(X_train.shape, y_train.shape, X_valid.shape, y_valid.shape)"
   ]
  },
  {
   "cell_type": "code",
   "execution_count": 528,
   "metadata": {},
   "outputs": [],
   "source": [
    "from optuna.integration import CatBoostPruningCallback\n",
    "\n",
    "def objectiveCAT(trial : Trial, X_train, y_train, X_valid, y_valid) :\n",
    "    param = {\n",
    "        'learning_rate' : trial.suggest_categorical('learning_rate', [1e-3, 0.01, 0.1, 0.5]),\n",
    "        'depth' : trial.suggest_int('depth', 1, 15),\n",
    "        'colsample_bylevel' : trial.suggest_categorical('colsample_bylevel', [1e-3, 0.01, 0.1, 0.5]),   \n",
    "        'boosting_type' : trial.suggest_categorical('boosting_type', ['Ordered', 'Plain']),\n",
    "        'bootstrap_type' : trial.suggest_categorical('bootstrap_type', ['Bayesian', 'Bernoulli', 'MVS']),\n",
    "    }\n",
    "\n",
    "    if param['bootstrap_type'] == 'Bayesian':\n",
    "        param['bagging_temperature'] = trial.suggest_float('bagging_temperature', 0, 10)\n",
    "    elif param['bootstrap_type'] == 'Bernoulli':\n",
    "        param['subsample'] = trial.suggest_float('subsample', 0.1, 1)\n",
    "        \n",
    "    model = CatBoostRegressor(**param, iterations = 5000, loss_function = 'RMSE', eval_metric = 'RMSE',\n",
    "                              use_best_model = True, random_state = SEED, # task_type = 'GPU', devices = '0'\n",
    "                              cat_features = [i for i in range(len(X_train.columns))])\n",
    "    pruning_callback = CatBoostPruningCallback(trial, 'RMSE', eval_set_index = 1)\n",
    "    cat_model = model.fit(X_train, y_train, eval_set = [(X_train, y_train), (X_valid, y_valid)], verbose = 500,\n",
    "                          early_stopping_rounds = 100, callbacks = [pruning_callback])\n",
    "    pruning_callback.check_pruned()\n",
    "    \n",
    "    score = mean_squared_error(y_valid, cat_model.predict(X_valid), squared = False)\n",
    "    return score\n"
   ]
  },
  {
   "cell_type": "code",
   "execution_count": 529,
   "metadata": {},
   "outputs": [],
   "source": [
    "def objectiveCAT_GPU(trial : Trial, X_train, y_train, X_valid, y_valid) :\n",
    "    param = {\n",
    "        'depth' : trial.suggest_int('depth', 1, 15),\n",
    "        'learning_rate' : trial.suggest_categorical('learning_rate', [1e-5, 1e-3, 0.1, 0.5]),\n",
    "        'l2_leaf_reg' : trial.suggest_categorical('l2_leaf_reg', [1e-3, 1, 3, 5]),\n",
    "        'random_strength' : trial.suggest_categorical('random_strength', [1e-5, 1e-3, 0.1, 1]),\n",
    "        'min_data_in_leaf' : trial.suggest_int('min_data_in_leaf', 1, 10),\n",
    "        'leaf_estimation_iterations' : trial.suggest_int('leaf_estimation_iterations', 1, 15),\n",
    "        'boosting_type' : trial.suggest_categorical('boosting_type', ['Ordered', 'Plain']),\n",
    "        'bootstrap_type' : trial.suggest_categorical('bootstrap_type', ['Bayesian', 'Bernoulli', 'MVS']),\n",
    "    }\n",
    "    \n",
    "    if param['bootstrap_type'] == 'Bayesian' :\n",
    "        param['bagging_temperature'] = trial.suggest_int('bagging_temperature', 0, 10)\n",
    "    elif param['bootstrap_type'] == 'Bernoulli' :\n",
    "        param['subsample'] = trial.suggest_float('subsample', 0.1, 1)\n",
    "    \n",
    "    model = CatBoostRegressor(**param, iterations = 1000,\n",
    "                              loss_function = 'RMSE', eval_metric = 'RMSE',\n",
    "                              use_best_model = True, random_state = SEED,\n",
    "                              task_type = 'GPU', devices = '0',\n",
    "                              cat_features = [i for i in range(len(X_train.columns))])\n",
    "    cat_model = model.fit(X_train, y_train, eval_set = [(X_valid, y_valid)], # CatBoostError: Multiple eval sets are not supported on GPU\n",
    "                          verbose = 500, early_stopping_rounds = 100)\n",
    "    \n",
    "    score = mean_squared_error(y_valid, cat_model.predict(X_valid), squared = False)\n",
    "    return score\n"
   ]
  },
  {
   "cell_type": "code",
   "execution_count": 530,
   "metadata": {},
   "outputs": [
    {
     "name": "stderr",
     "output_type": "stream",
     "text": [
      "[I 2023-12-21 06:48:37,255] A new study created in memory with name: no-name-7e1f6d3a-d18d-4736-bdb6-1cb28b4ee3b7\n"
     ]
    },
    {
     "name": "stdout",
     "output_type": "stream",
     "text": [
      "0:\tlearn: 2.4318382\ttest: 2.4306150\ttest1: 2.4236622\tbest: 2.4236622 (0)\ttotal: 88ms\tremaining: 7m 20s\n",
      "500:\tlearn: 2.2349499\ttest: 1.9874150\ttest1: 2.1865058\tbest: 2.1865058 (500)\ttotal: 22.6s\tremaining: 3m 22s\n",
      "1000:\tlearn: 2.2128806\ttest: 1.8741703\ttest1: 2.1551571\tbest: 2.1551571 (1000)\ttotal: 46.4s\tremaining: 3m 5s\n",
      "1500:\tlearn: 2.2066515\ttest: 1.8223299\ttest1: 2.1458130\tbest: 2.1458130 (1500)\ttotal: 1m 9s\tremaining: 2m 41s\n",
      "2000:\tlearn: 2.2033936\ttest: 1.7966444\ttest1: 2.1410581\tbest: 2.1410581 (2000)\ttotal: 1m 31s\tremaining: 2m 17s\n",
      "2500:\tlearn: 2.2010161\ttest: 1.7812859\ttest1: 2.1376632\tbest: 2.1376632 (2500)\ttotal: 1m 54s\tremaining: 1m 54s\n",
      "3000:\tlearn: 2.1993431\ttest: 1.7699292\ttest1: 2.1352865\tbest: 2.1352865 (3000)\ttotal: 2m 17s\tremaining: 1m 31s\n",
      "3500:\tlearn: 2.1979447\ttest: 1.7593945\ttest1: 2.1334298\tbest: 2.1334298 (3500)\ttotal: 2m 40s\tremaining: 1m 8s\n",
      "4000:\tlearn: 2.1968653\ttest: 1.7528027\ttest1: 2.1320488\tbest: 2.1320483 (3997)\ttotal: 3m 2s\tremaining: 45.7s\n",
      "4500:\tlearn: 2.1959450\ttest: 1.7476853\ttest1: 2.1309551\tbest: 2.1309551 (4500)\ttotal: 3m 26s\tremaining: 22.9s\n",
      "4999:\tlearn: 2.1951916\ttest: 1.7421629\ttest1: 2.1300781\tbest: 2.1300776 (4994)\ttotal: 3m 48s\tremaining: 0us\n",
      "\n",
      "bestTest = 2.13007761\n",
      "bestIteration = 4994\n",
      "\n",
      "Shrink model to first 4995 iterations.\n"
     ]
    },
    {
     "name": "stderr",
     "output_type": "stream",
     "text": [
      "[I 2023-12-21 06:53:15,197] Trial 0 finished with value: 2.130077609938789 and parameters: {'learning_rate': 0.01, 'depth': 3, 'colsample_bylevel': 0.1, 'boosting_type': 'Ordered', 'bootstrap_type': 'Bayesian', 'bagging_temperature': 1.8182496720710062}. Best is trial 0 with value: 2.130077609938789.\n"
     ]
    },
    {
     "name": "stdout",
     "output_type": "stream",
     "text": [
      "0:\tlearn: 2.4336144\ttest: 2.4336144\ttest1: 2.4255668\tbest: 2.4255668 (0)\ttotal: 12.6ms\tremaining: 1m 3s\n",
      "Stopped by overfitting detector  (100 iterations wait)\n",
      "\n",
      "bestTest = 2.412866539\n",
      "bestIteration = 175\n",
      "\n",
      "Shrink model to first 176 iterations.\n"
     ]
    },
    {
     "name": "stderr",
     "output_type": "stream",
     "text": [
      "[I 2023-12-21 06:53:20,233] Trial 1 finished with value: 2.4128665391740673 and parameters: {'learning_rate': 0.1, 'depth': 5, 'colsample_bylevel': 0.001, 'boosting_type': 'Plain', 'bootstrap_type': 'MVS'}. Best is trial 0 with value: 2.130077609938789.\n"
     ]
    },
    {
     "name": "stdout",
     "output_type": "stream",
     "text": [
      "0:\tlearn: 2.4335983\ttest: 2.4335979\ttest1: 2.4255588\tbest: 2.4255588 (0)\ttotal: 30.6ms\tremaining: 2m 33s\n",
      "Stopped by overfitting detector  (100 iterations wait)\n",
      "\n",
      "bestTest = 2.423251612\n",
      "bestIteration = 56\n",
      "\n",
      "Shrink model to first 57 iterations.\n"
     ]
    },
    {
     "name": "stderr",
     "output_type": "stream",
     "text": [
      "[I 2023-12-21 06:53:24,513] Trial 2 finished with value: 2.423251612403246 and parameters: {'learning_rate': 0.01, 'depth': 15, 'colsample_bylevel': 0.001, 'boosting_type': 'Ordered', 'bootstrap_type': 'Bernoulli', 'subsample': 0.9183883618709039}. Best is trial 0 with value: 2.130077609938789.\n"
     ]
    },
    {
     "name": "stdout",
     "output_type": "stream",
     "text": [
      "0:\tlearn: 2.4336144\ttest: 2.4336144\ttest1: 2.4255668\tbest: 2.4255668 (0)\ttotal: 19.7ms\tremaining: 1m 38s\n",
      "500:\tlearn: 2.4055008\ttest: 2.3779579\ttest1: 2.3936463\tbest: 2.3936463 (500)\ttotal: 5.05s\tremaining: 45.3s\n",
      "1000:\tlearn: 2.3893893\ttest: 2.3482029\ttest1: 2.3750883\tbest: 2.3750883 (1000)\ttotal: 9.79s\tremaining: 39.1s\n",
      "1500:\tlearn: 2.3657845\ttest: 2.2953228\ttest1: 2.3474835\tbest: 2.3474835 (1500)\ttotal: 15s\tremaining: 35s\n",
      "2000:\tlearn: 2.3551831\ttest: 2.2713286\ttest1: 2.3351180\tbest: 2.3351180 (1996)\ttotal: 19.8s\tremaining: 29.7s\n",
      "2500:\tlearn: 2.3446527\ttest: 2.2495168\ttest1: 2.3226636\tbest: 2.3226636 (2500)\ttotal: 24.6s\tremaining: 24.6s\n",
      "3000:\tlearn: 2.3287899\ttest: 2.2123622\ttest1: 2.3036432\tbest: 2.3036432 (3000)\ttotal: 30.1s\tremaining: 20s\n",
      "3500:\tlearn: 2.3189192\ttest: 2.1928396\ttest1: 2.2924147\tbest: 2.2924147 (3500)\ttotal: 35.2s\tremaining: 15.1s\n",
      "4000:\tlearn: 2.3056014\ttest: 2.1631739\ttest1: 2.2766047\tbest: 2.2766047 (4000)\ttotal: 40.6s\tremaining: 10.1s\n",
      "4500:\tlearn: 2.2960646\ttest: 2.1445334\ttest1: 2.2654388\tbest: 2.2654388 (4500)\ttotal: 46.2s\tremaining: 5.12s\n",
      "4999:\tlearn: 2.2906858\ttest: 2.1324519\ttest1: 2.2591336\tbest: 2.2591336 (4999)\ttotal: 52.3s\tremaining: 0us\n",
      "\n",
      "bestTest = 2.259133567\n",
      "bestIteration = 4999\n",
      "\n"
     ]
    },
    {
     "name": "stderr",
     "output_type": "stream",
     "text": [
      "[I 2023-12-21 06:55:03,571] Trial 3 finished with value: 2.259133566866566 and parameters: {'learning_rate': 0.01, 'depth': 9, 'colsample_bylevel': 0.01, 'boosting_type': 'Ordered', 'bootstrap_type': 'Bayesian', 'bagging_temperature': 0.45227288910538066}. Best is trial 0 with value: 2.130077609938789.\n"
     ]
    },
    {
     "name": "stdout",
     "output_type": "stream",
     "text": [
      "0:\tlearn: 2.3674010\ttest: 2.3492969\ttest1: 2.3580959\tbest: 2.3580959 (0)\ttotal: 332ms\tremaining: 27m 39s\n",
      "Stopped by overfitting detector  (100 iterations wait)\n",
      "\n",
      "bestTest = 2.154318257\n",
      "bestIteration = 248\n",
      "\n",
      "Shrink model to first 249 iterations.\n"
     ]
    },
    {
     "name": "stderr",
     "output_type": "stream",
     "text": [
      "[I 2023-12-21 06:56:40,494] Trial 4 finished with value: 2.1543182572150523 and parameters: {'learning_rate': 0.5, 'depth': 6, 'colsample_bylevel': 0.5, 'boosting_type': 'Plain', 'bootstrap_type': 'Bayesian', 'bagging_temperature': 8.154614284548341}. Best is trial 0 with value: 2.130077609938789.\n"
     ]
    },
    {
     "name": "stdout",
     "output_type": "stream",
     "text": [
      "0:\tlearn: 2.4334609\ttest: 2.4334570\ttest1: 2.4254943\tbest: 2.4254943 (0)\ttotal: 32.5ms\tremaining: 2m 42s\n",
      "\n",
      "bestTest = 2.344492121\n",
      "bestIteration = 168\n",
      "\n",
      "Shrink model to first 169 iterations.\n"
     ]
    },
    {
     "name": "stderr",
     "output_type": "stream",
     "text": [
      "[I 2023-12-21 06:56:44,877] Trial 5 pruned. Trial was pruned at iteration 168.\n"
     ]
    },
    {
     "name": "stdout",
     "output_type": "stream",
     "text": [
      "0:\tlearn: 2.4330086\ttest: 2.4329890\ttest1: 2.4253664\tbest: 2.4253664 (0)\ttotal: 26.4ms\tremaining: 2m 11s\n",
      "\n",
      "bestTest = 2.425366438\n",
      "bestIteration = 0\n",
      "\n",
      "Shrink model to first 1 iterations.\n"
     ]
    },
    {
     "name": "stderr",
     "output_type": "stream",
     "text": [
      "[I 2023-12-21 06:56:47,669] Trial 6 pruned. Trial was pruned at iteration 14.\n"
     ]
    },
    {
     "name": "stdout",
     "output_type": "stream",
     "text": [
      "0:\tlearn: 2.4335932\ttest: 2.4335784\ttest1: 2.4255450\tbest: 2.4255450 (0)\ttotal: 202ms\tremaining: 16m 47s\n"
     ]
    },
    {
     "name": "stderr",
     "output_type": "stream",
     "text": [
      "[I 2023-12-21 06:56:53,407] Trial 7 pruned. Trial was pruned at iteration 15.\n"
     ]
    },
    {
     "name": "stdout",
     "output_type": "stream",
     "text": [
      "\n",
      "bestTest = 2.42232177\n",
      "bestIteration = 15\n",
      "\n",
      "Shrink model to first 16 iterations.\n",
      "0:\tlearn: 2.4165250\ttest: 2.4086940\ttest1: 2.4057923\tbest: 2.4057923 (0)\ttotal: 89ms\tremaining: 7m 24s\n",
      "500:\tlearn: 2.2002950\ttest: 1.8111517\ttest1: 2.1361582\tbest: 2.1361503 (498)\ttotal: 22.8s\tremaining: 3m 24s\n",
      "1000:\tlearn: 2.1963579\ttest: 1.7925993\ttest1: 2.1325970\tbest: 2.1325906 (999)\ttotal: 45.8s\tremaining: 3m 3s\n",
      "1500:\tlearn: 2.1942431\ttest: 1.7807869\ttest1: 2.1307504\tbest: 2.1307464 (1490)\ttotal: 1m 8s\tremaining: 2m 40s\n",
      "2000:\tlearn: 2.1925137\ttest: 1.7688483\ttest1: 2.1292710\tbest: 2.1292576 (1974)\ttotal: 1m 31s\tremaining: 2m 17s\n",
      "2500:\tlearn: 2.1909871\ttest: 1.7574755\ttest1: 2.1277711\tbest: 2.1277711 (2500)\ttotal: 1m 55s\tremaining: 1m 55s\n",
      "3000:\tlearn: 2.1897981\ttest: 1.7518449\ttest1: 2.1271728\tbest: 2.1271502 (2977)\ttotal: 2m 18s\tremaining: 1m 32s\n",
      "Stopped by overfitting detector  (100 iterations wait)\n",
      "\n",
      "bestTest = 2.127107218\n",
      "bestIteration = 3099\n",
      "\n",
      "Shrink model to first 3100 iterations.\n"
     ]
    },
    {
     "name": "stderr",
     "output_type": "stream",
     "text": [
      "[I 2023-12-21 06:59:45,805] Trial 8 finished with value: 2.127107218095529 and parameters: {'learning_rate': 0.1, 'depth': 2, 'colsample_bylevel': 0.5, 'boosting_type': 'Plain', 'bootstrap_type': 'Bayesian', 'bagging_temperature': 3.3761517140362796}. Best is trial 8 with value: 2.127107218095529.\n",
      "[I 2023-12-21 06:59:48,587] Trial 9 pruned. Trial was pruned at iteration 0.\n"
     ]
    },
    {
     "name": "stdout",
     "output_type": "stream",
     "text": [
      "0:\tlearn: 2.4336128\ttest: 2.4336127\ttest1: 2.4255660\tbest: 2.4255660 (0)\ttotal: 29.7ms\tremaining: 2m 28s\n",
      "\n",
      "bestTest = 2.425566021\n",
      "bestIteration = 0\n",
      "\n",
      "Shrink model to first 1 iterations.\n",
      "0:\tlearn: 2.4265449\ttest: 2.4244022\ttest1: 2.4181672\tbest: 2.4181672 (0)\ttotal: 26ms\tremaining: 2m 10s\n",
      "500:\tlearn: 2.2148110\ttest: 1.9895838\ttest1: 2.1558677\tbest: 2.1558677 (500)\ttotal: 5.35s\tremaining: 48.1s\n",
      "1000:\tlearn: 2.2133875\ttest: 1.9883369\ttest1: 2.1542911\tbest: 2.1542808 (996)\ttotal: 10.6s\tremaining: 42.2s\n",
      "\n",
      "bestTest = 2.154222889\n",
      "bestIteration = 1026\n",
      "\n",
      "Shrink model to first 1027 iterations.\n"
     ]
    },
    {
     "name": "stderr",
     "output_type": "stream",
     "text": [
      "[I 2023-12-21 07:00:04,845] Trial 10 pruned. Trial was pruned at iteration 1028.\n",
      "[I 2023-12-21 07:00:07,624] Trial 11 pruned. Trial was pruned at iteration 0.\n"
     ]
    },
    {
     "name": "stdout",
     "output_type": "stream",
     "text": [
      "0:\tlearn: 2.4335842\ttest: 2.4335829\ttest1: 2.4255372\tbest: 2.4255372 (0)\ttotal: 30.8ms\tremaining: 2m 34s\n",
      "\n",
      "bestTest = 2.425537232\n",
      "bestIteration = 0\n",
      "\n",
      "Shrink model to first 1 iterations.\n",
      "0:\tlearn: 2.4318025\ttest: 2.4305702\ttest1: 2.4235940\tbest: 2.4235940 (0)\ttotal: 94.1ms\tremaining: 7m 50s\n",
      "\n",
      "bestTest = 2.289778228\n",
      "bestIteration = 157\n",
      "\n",
      "Shrink model to first 158 iterations.\n"
     ]
    },
    {
     "name": "stderr",
     "output_type": "stream",
     "text": [
      "[I 2023-12-21 07:00:17,836] Trial 12 pruned. Trial was pruned at iteration 157.\n"
     ]
    },
    {
     "name": "stdout",
     "output_type": "stream",
     "text": [
      "0:\tlearn: 2.4059183\ttest: 2.3927698\ttest1: 2.3969767\tbest: 2.3969767 (0)\ttotal: 422ms\tremaining: 35m 12s\n",
      "Stopped by overfitting detector  (100 iterations wait)\n",
      "\n",
      "bestTest = 2.133949243\n",
      "bestIteration = 385\n",
      "\n",
      "Shrink model to first 386 iterations.\n"
     ]
    },
    {
     "name": "stderr",
     "output_type": "stream",
     "text": [
      "[I 2023-12-21 07:03:22,911] Trial 13 finished with value: 2.133949242593979 and parameters: {'learning_rate': 0.1, 'depth': 13, 'colsample_bylevel': 0.1, 'boosting_type': 'Plain', 'bootstrap_type': 'Bayesian', 'bagging_temperature': 5.1771336775041785}. Best is trial 8 with value: 2.127107218095529.\n"
     ]
    },
    {
     "name": "stdout",
     "output_type": "stream",
     "text": [
      "0:\tlearn: 2.4313132\ttest: 2.4303751\ttest1: 2.4229362\tbest: 2.4229362 (0)\ttotal: 162ms\tremaining: 13m 28s\n",
      "\n",
      "bestTest = 2.173268104\n",
      "bestIteration = 276\n",
      "\n",
      "Shrink model to first 277 iterations.\n"
     ]
    },
    {
     "name": "stderr",
     "output_type": "stream",
     "text": [
      "[I 2023-12-21 07:03:50,189] Trial 14 pruned. Trial was pruned at iteration 276.\n"
     ]
    },
    {
     "name": "stdout",
     "output_type": "stream",
     "text": [
      "0:\tlearn: 2.4333235\ttest: 2.4333036\ttest1: 2.4252741\tbest: 2.4252741 (0)\ttotal: 30.3ms\tremaining: 2m 31s\n",
      "\n",
      "bestTest = 2.425274075\n",
      "bestIteration = 0\n",
      "\n",
      "Shrink model to first 1 iterations.\n"
     ]
    },
    {
     "name": "stderr",
     "output_type": "stream",
     "text": [
      "[I 2023-12-21 07:03:53,052] Trial 15 pruned. Trial was pruned at iteration 0.\n"
     ]
    },
    {
     "name": "stdout",
     "output_type": "stream",
     "text": [
      "0:\tlearn: 2.3134291\ttest: 2.2722550\ttest1: 2.2894035\tbest: 2.2894035 (0)\ttotal: 454ms\tremaining: 37m 50s\n",
      "Stopped by overfitting detector  (100 iterations wait)\n",
      "\n",
      "bestTest = 2.127803763\n",
      "bestIteration = 30\n",
      "\n",
      "Shrink model to first 31 iterations.\n"
     ]
    },
    {
     "name": "stderr",
     "output_type": "stream",
     "text": [
      "[I 2023-12-21 07:05:27,318] Trial 16 finished with value: 2.1278037634678215 and parameters: {'learning_rate': 0.5, 'depth': 11, 'colsample_bylevel': 0.5, 'boosting_type': 'Plain', 'bootstrap_type': 'Bayesian', 'bagging_temperature': 0.07259434849932189}. Best is trial 8 with value: 2.127107218095529.\n"
     ]
    },
    {
     "name": "stdout",
     "output_type": "stream",
     "text": [
      "0:\tlearn: 2.3306479\ttest: 2.3052889\ttest1: 2.3183855\tbest: 2.3183855 (0)\ttotal: 696ms\tremaining: 57m 57s\n",
      "Stopped by overfitting detector  (100 iterations wait)\n",
      "\n",
      "bestTest = 2.181482354\n",
      "bestIteration = 30\n",
      "\n",
      "Shrink model to first 31 iterations.\n"
     ]
    },
    {
     "name": "stderr",
     "output_type": "stream",
     "text": [
      "[I 2023-12-21 07:06:55,920] Trial 17 finished with value: 2.181482353993551 and parameters: {'learning_rate': 0.5, 'depth': 11, 'colsample_bylevel': 0.5, 'boosting_type': 'Plain', 'bootstrap_type': 'Bayesian', 'bagging_temperature': 6.1624263221191455}. Best is trial 8 with value: 2.127107218095529.\n"
     ]
    },
    {
     "name": "stdout",
     "output_type": "stream",
     "text": [
      "0:\tlearn: 2.3131862\ttest: 2.2720151\ttest1: 2.2895748\tbest: 2.2895748 (0)\ttotal: 460ms\tremaining: 38m 20s\n",
      "Stopped by overfitting detector  (100 iterations wait)\n",
      "\n",
      "bestTest = 2.134169236\n",
      "bestIteration = 21\n",
      "\n",
      "Shrink model to first 22 iterations.\n"
     ]
    },
    {
     "name": "stderr",
     "output_type": "stream",
     "text": [
      "[I 2023-12-21 07:08:21,945] Trial 18 finished with value: 2.1341692358898463 and parameters: {'learning_rate': 0.5, 'depth': 11, 'colsample_bylevel': 0.5, 'boosting_type': 'Plain', 'bootstrap_type': 'Bayesian', 'bagging_temperature': 0.5259203464126867}. Best is trial 8 with value: 2.127107218095529.\n"
     ]
    },
    {
     "name": "stdout",
     "output_type": "stream",
     "text": [
      "0:\tlearn: 2.3134291\ttest: 2.2722550\ttest1: 2.2894035\tbest: 2.2894035 (0)\ttotal: 427ms\tremaining: 35m 35s\n",
      "Stopped by overfitting detector  (100 iterations wait)\n",
      "\n",
      "bestTest = 2.131026107\n",
      "bestIteration = 30\n",
      "\n",
      "Shrink model to first 31 iterations.\n"
     ]
    },
    {
     "name": "stderr",
     "output_type": "stream",
     "text": [
      "[I 2023-12-21 07:09:52,563] Trial 19 finished with value: 2.1310261068228273 and parameters: {'learning_rate': 0.5, 'depth': 11, 'colsample_bylevel': 0.5, 'boosting_type': 'Plain', 'bootstrap_type': 'MVS'}. Best is trial 8 with value: 2.127107218095529.\n"
     ]
    },
    {
     "name": "stdout",
     "output_type": "stream",
     "text": [
      "0:\tlearn: 2.4333766\ttest: 2.4333201\ttest1: 2.4253088\tbest: 2.4253088 (0)\ttotal: 381ms\tremaining: 31m 43s\n",
      "\n",
      "bestTest = 2.425308763\n",
      "bestIteration = 0\n",
      "\n",
      "Shrink model to first 1 iterations.\n"
     ]
    },
    {
     "name": "stderr",
     "output_type": "stream",
     "text": [
      "[I 2023-12-21 07:09:55,684] Trial 20 pruned. Trial was pruned at iteration 0.\n"
     ]
    },
    {
     "name": "stdout",
     "output_type": "stream",
     "text": [
      "0:\tlearn: 2.3657503\ttest: 2.3041962\ttest1: 2.3517314\tbest: 2.3517314 (0)\ttotal: 78.4ms\tremaining: 6m 31s\n",
      "500:\tlearn: 2.1903110\ttest: 1.7150763\ttest1: 2.1263813\tbest: 2.1261482 (474)\ttotal: 20.3s\tremaining: 3m 2s\n",
      "Stopped by overfitting detector  (100 iterations wait)\n",
      "\n",
      "bestTest = 2.125542451\n",
      "bestIteration = 692\n",
      "\n",
      "Shrink model to first 693 iterations.\n"
     ]
    },
    {
     "name": "stderr",
     "output_type": "stream",
     "text": [
      "[I 2023-12-21 07:10:31,706] Trial 21 finished with value: 2.125542451302163 and parameters: {'learning_rate': 0.5, 'depth': 3, 'colsample_bylevel': 0.1, 'boosting_type': 'Ordered', 'bootstrap_type': 'Bayesian', 'bagging_temperature': 1.8962276209326396}. Best is trial 21 with value: 2.125542451302163.\n",
      "[I 2023-12-21 07:10:34,479] Trial 22 pruned. Trial was pruned at iteration 0.\n"
     ]
    },
    {
     "name": "stdout",
     "output_type": "stream",
     "text": [
      "0:\tlearn: 2.4336144\ttest: 2.4336144\ttest1: 2.4255668\tbest: 2.4255668 (0)\ttotal: 8.61ms\tremaining: 43s\n",
      "\n",
      "bestTest = 2.425566827\n",
      "bestIteration = 0\n",
      "\n",
      "Shrink model to first 1 iterations.\n",
      "0:\tlearn: 2.3223738\ttest: 2.2485286\ttest1: 2.2968047\tbest: 2.2968047 (0)\ttotal: 249ms\tremaining: 20m 42s\n",
      "500:\tlearn: 2.1650201\ttest: 1.6953054\ttest1: 2.1239485\tbest: 2.1237289 (484)\ttotal: 1m 2s\tremaining: 9m 17s\n",
      "Stopped by overfitting detector  (100 iterations wait)\n",
      "\n",
      "bestTest = 2.123728907\n",
      "bestIteration = 484\n",
      "\n",
      "Shrink model to first 485 iterations.\n"
     ]
    },
    {
     "name": "stderr",
     "output_type": "stream",
     "text": [
      "[I 2023-12-21 07:11:49,145] Trial 23 finished with value: 2.123728906798852 and parameters: {'learning_rate': 0.5, 'depth': 8, 'colsample_bylevel': 0.1, 'boosting_type': 'Ordered', 'bootstrap_type': 'Bayesian', 'bagging_temperature': 0.108125740689488}. Best is trial 23 with value: 2.123728906798852.\n"
     ]
    },
    {
     "name": "stdout",
     "output_type": "stream",
     "text": [
      "0:\tlearn: 2.4318328\ttest: 2.4316336\ttest1: 2.4241266\tbest: 2.4241266 (0)\ttotal: 49.8ms\tremaining: 4m 8s\n",
      "\n",
      "bestTest = 2.42412661\n",
      "bestIteration = 0\n",
      "\n",
      "Shrink model to first 1 iterations.\n"
     ]
    },
    {
     "name": "stderr",
     "output_type": "stream",
     "text": [
      "[I 2023-12-21 07:11:51,975] Trial 24 pruned. Trial was pruned at iteration 0.\n",
      "[I 2023-12-21 07:11:54,948] Trial 25 pruned. Trial was pruned at iteration 0.\n"
     ]
    },
    {
     "name": "stdout",
     "output_type": "stream",
     "text": [
      "0:\tlearn: 2.4059429\ttest: 2.3906947\ttest1: 2.3937200\tbest: 2.3937200 (0)\ttotal: 235ms\tremaining: 19m 35s\n",
      "\n",
      "bestTest = 2.393719958\n",
      "bestIteration = 0\n",
      "\n",
      "Shrink model to first 1 iterations.\n",
      "0:\tlearn: 2.3464629\ttest: 2.2870318\ttest1: 2.3296253\tbest: 2.3296253 (0)\ttotal: 132ms\tremaining: 10m 59s\n",
      "500:\tlearn: 2.1822047\ttest: 1.7599935\ttest1: 2.1312031\tbest: 2.1309039 (489)\ttotal: 40.2s\tremaining: 6m 1s\n",
      "Stopped by overfitting detector  (100 iterations wait)\n",
      "\n",
      "bestTest = 2.128941317\n",
      "bestIteration = 740\n",
      "\n",
      "Shrink model to first 741 iterations.\n"
     ]
    },
    {
     "name": "stderr",
     "output_type": "stream",
     "text": [
      "[I 2023-12-21 07:13:07,993] Trial 26 finished with value: 2.1289413171367646 and parameters: {'learning_rate': 0.5, 'depth': 5, 'colsample_bylevel': 0.1, 'boosting_type': 'Ordered', 'bootstrap_type': 'Bayesian', 'bagging_temperature': 4.46398762820171}. Best is trial 23 with value: 2.123728906798852.\n"
     ]
    },
    {
     "name": "stdout",
     "output_type": "stream",
     "text": [
      "0:\tlearn: 2.3644118\ttest: 2.3038454\ttest1: 2.3502711\tbest: 2.3502711 (0)\ttotal: 104ms\tremaining: 8m 38s\n",
      "500:\tlearn: 2.1876294\ttest: 1.6975989\ttest1: 2.1312028\tbest: 2.1311687 (496)\ttotal: 30.1s\tremaining: 4m 29s\n",
      "1000:\tlearn: 2.1806892\ttest: 1.6888239\ttest1: 2.1291501\tbest: 2.1286173 (971)\ttotal: 58.6s\tremaining: 3m 53s\n",
      "Stopped by overfitting detector  (100 iterations wait)\n",
      "\n",
      "bestTest = 2.128617286\n",
      "bestIteration = 971\n",
      "\n",
      "Shrink model to first 972 iterations.\n"
     ]
    },
    {
     "name": "stderr",
     "output_type": "stream",
     "text": [
      "[I 2023-12-21 07:14:16,730] Trial 27 finished with value: 2.128617286252479 and parameters: {'learning_rate': 0.5, 'depth': 4, 'colsample_bylevel': 0.1, 'boosting_type': 'Ordered', 'bootstrap_type': 'Bayesian', 'bagging_temperature': 2.664790149056982}. Best is trial 23 with value: 2.123728906798852.\n",
      "[I 2023-12-21 07:14:19,692] Trial 28 pruned. Trial was pruned at iteration 0.\n"
     ]
    },
    {
     "name": "stdout",
     "output_type": "stream",
     "text": [
      "0:\tlearn: 2.4108168\ttest: 2.3996512\ttest1: 2.4014799\tbest: 2.4014799 (0)\ttotal: 193ms\tremaining: 16m 4s\n",
      "\n",
      "bestTest = 2.401479925\n",
      "bestIteration = 0\n",
      "\n",
      "Shrink model to first 1 iterations.\n"
     ]
    },
    {
     "name": "stderr",
     "output_type": "stream",
     "text": [
      "[I 2023-12-21 07:14:22,455] Trial 29 pruned. Trial was pruned at iteration 0.\n"
     ]
    },
    {
     "name": "stdout",
     "output_type": "stream",
     "text": [
      "0:\tlearn: 2.4334977\ttest: 2.4334947\ttest1: 2.4254477\tbest: 2.4254477 (0)\ttotal: 38.6ms\tremaining: 3m 13s\n",
      "\n",
      "bestTest = 2.425447681\n",
      "bestIteration = 0\n",
      "\n",
      "Shrink model to first 1 iterations.\n"
     ]
    },
    {
     "name": "stderr",
     "output_type": "stream",
     "text": [
      "[I 2023-12-21 07:14:25,249] Trial 30 pruned. Trial was pruned at iteration 0.\n"
     ]
    },
    {
     "name": "stdout",
     "output_type": "stream",
     "text": [
      "0:\tlearn: 2.4336144\ttest: 2.4336144\ttest1: 2.4255668\tbest: 2.4255668 (0)\ttotal: 19.8ms\tremaining: 1m 38s\n",
      "\n",
      "bestTest = 2.425566827\n",
      "bestIteration = 0\n",
      "\n",
      "Shrink model to first 1 iterations.\n",
      "0:\tlearn: 2.3146841\ttest: 2.2740058\ttest1: 2.2906703\tbest: 2.2906703 (0)\ttotal: 410ms\tremaining: 34m 11s\n",
      "Stopped by overfitting detector  (100 iterations wait)\n",
      "\n",
      "bestTest = 2.127481661\n",
      "bestIteration = 31\n",
      "\n",
      "Shrink model to first 32 iterations.\n"
     ]
    },
    {
     "name": "stderr",
     "output_type": "stream",
     "text": [
      "[I 2023-12-21 07:15:46,934] Trial 31 finished with value: 2.1274816605726063 and parameters: {'learning_rate': 0.5, 'depth': 10, 'colsample_bylevel': 0.5, 'boosting_type': 'Plain', 'bootstrap_type': 'Bayesian', 'bagging_temperature': 0.11615289260270911}. Best is trial 23 with value: 2.123728906798852.\n"
     ]
    },
    {
     "name": "stdout",
     "output_type": "stream",
     "text": [
      "0:\tlearn: 2.3146841\ttest: 2.2740058\ttest1: 2.2906703\tbest: 2.2906703 (0)\ttotal: 444ms\tremaining: 36m 59s\n",
      "Stopped by overfitting detector  (100 iterations wait)\n",
      "\n",
      "bestTest = 2.129620985\n",
      "bestIteration = 30\n",
      "\n",
      "Shrink model to first 31 iterations.\n"
     ]
    },
    {
     "name": "stderr",
     "output_type": "stream",
     "text": [
      "[I 2023-12-21 07:17:08,746] Trial 32 finished with value: 2.1296209845366754 and parameters: {'learning_rate': 0.5, 'depth': 10, 'colsample_bylevel': 0.5, 'boosting_type': 'Plain', 'bootstrap_type': 'Bayesian', 'bagging_temperature': 0.9327589639698008}. Best is trial 23 with value: 2.123728906798852.\n",
      "[I 2023-12-21 07:17:11,441] Trial 33 pruned. Trial was pruned at iteration 0.\n"
     ]
    },
    {
     "name": "stdout",
     "output_type": "stream",
     "text": [
      "0:\tlearn: 2.4336144\ttest: 2.4336144\ttest1: 2.4255668\tbest: 2.4255668 (0)\ttotal: 6.84ms\tremaining: 34.2s\n",
      "\n",
      "bestTest = 2.425566827\n",
      "bestIteration = 0\n",
      "\n",
      "Shrink model to first 1 iterations.\n"
     ]
    },
    {
     "name": "stderr",
     "output_type": "stream",
     "text": [
      "[I 2023-12-21 07:17:14,725] Trial 34 pruned. Trial was pruned at iteration 0.\n"
     ]
    },
    {
     "name": "stdout",
     "output_type": "stream",
     "text": [
      "0:\tlearn: 2.4045726\ttest: 2.3958987\ttest1: 2.3925243\tbest: 2.3925243 (0)\ttotal: 473ms\tremaining: 39m 22s\n",
      "\n",
      "bestTest = 2.392524268\n",
      "bestIteration = 0\n",
      "\n",
      "Shrink model to first 1 iterations.\n",
      "0:\tlearn: 2.3436445\ttest: 2.2875031\ttest1: 2.3308974\tbest: 2.3308974 (0)\ttotal: 169ms\tremaining: 14m 4s\n",
      "\n",
      "bestTest = 2.33089742\n",
      "bestIteration = 0\n",
      "\n",
      "Shrink model to first 1 iterations.\n"
     ]
    },
    {
     "name": "stderr",
     "output_type": "stream",
     "text": [
      "[I 2023-12-21 07:17:17,711] Trial 35 pruned. Trial was pruned at iteration 1.\n",
      "[I 2023-12-21 07:17:20,448] Trial 36 pruned. Trial was pruned at iteration 0.\n"
     ]
    },
    {
     "name": "stdout",
     "output_type": "stream",
     "text": [
      "0:\tlearn: 2.4336144\ttest: 2.4336144\ttest1: 2.4255668\tbest: 2.4255668 (0)\ttotal: 15.2ms\tremaining: 1m 15s\n",
      "\n",
      "bestTest = 2.425566827\n",
      "bestIteration = 0\n",
      "\n",
      "Shrink model to first 1 iterations.\n"
     ]
    },
    {
     "name": "stderr",
     "output_type": "stream",
     "text": [
      "[I 2023-12-21 07:17:23,235] Trial 37 pruned. Trial was pruned at iteration 0.\n"
     ]
    },
    {
     "name": "stdout",
     "output_type": "stream",
     "text": [
      "0:\tlearn: 2.4334609\ttest: 2.4334570\ttest1: 2.4254943\tbest: 2.4254943 (0)\ttotal: 29ms\tremaining: 2m 25s\n",
      "\n",
      "bestTest = 2.425494333\n",
      "bestIteration = 0\n",
      "\n",
      "Shrink model to first 1 iterations.\n",
      "0:\tlearn: 2.3224691\ttest: 2.2685456\ttest1: 2.2960763\tbest: 2.2960763 (0)\ttotal: 276ms\tremaining: 23m 1s\n",
      "Stopped by overfitting detector  (100 iterations wait)\n",
      "\n",
      "bestTest = 2.124430121\n",
      "bestIteration = 291\n",
      "\n",
      "Shrink model to first 292 iterations.\n"
     ]
    },
    {
     "name": "stderr",
     "output_type": "stream",
     "text": [
      "[I 2023-12-21 07:27:08,311] Trial 38 finished with value: 2.124430120574362 and parameters: {'learning_rate': 0.5, 'depth': 13, 'colsample_bylevel': 0.5, 'boosting_type': 'Ordered', 'bootstrap_type': 'MVS'}. Best is trial 23 with value: 2.123728906798852.\n",
      "[I 2023-12-21 07:27:11,830] Trial 39 pruned. Trial was pruned at iteration 0.\n"
     ]
    },
    {
     "name": "stdout",
     "output_type": "stream",
     "text": [
      "0:\tlearn: 2.4305229\ttest: 2.4294591\ttest1: 2.4220999\tbest: 2.4220999 (0)\ttotal: 831ms\tremaining: 1h 9m 14s\n",
      "\n",
      "bestTest = 2.422099943\n",
      "bestIteration = 0\n",
      "\n",
      "Shrink model to first 1 iterations.\n",
      "0:\tlearn: 2.4333249\ttest: 2.4332108\ttest1: 2.4252310\tbest: 2.4252310 (0)\ttotal: 265ms\tremaining: 22m 3s\n",
      "\n",
      "bestTest = 2.425230984\n",
      "bestIteration = 0\n",
      "\n",
      "Shrink model to first 1 iterations.\n"
     ]
    },
    {
     "name": "stderr",
     "output_type": "stream",
     "text": [
      "[I 2023-12-21 07:27:14,914] Trial 40 pruned. Trial was pruned at iteration 0.\n"
     ]
    },
    {
     "name": "stdout",
     "output_type": "stream",
     "text": [
      "0:\tlearn: 2.3224691\ttest: 2.2685456\ttest1: 2.2960763\tbest: 2.2960763 (0)\ttotal: 294ms\tremaining: 24m 27s\n",
      "Stopped by overfitting detector  (100 iterations wait)\n",
      "\n",
      "bestTest = 2.124576457\n",
      "bestIteration = 99\n",
      "\n",
      "Shrink model to first 100 iterations.\n"
     ]
    },
    {
     "name": "stderr",
     "output_type": "stream",
     "text": [
      "[I 2023-12-21 07:34:18,948] Trial 41 finished with value: 2.1245764568389682 and parameters: {'learning_rate': 0.5, 'depth': 14, 'colsample_bylevel': 0.5, 'boosting_type': 'Ordered', 'bootstrap_type': 'MVS'}. Best is trial 23 with value: 2.123728906798852.\n"
     ]
    },
    {
     "name": "stdout",
     "output_type": "stream",
     "text": [
      "0:\tlearn: 2.3224691\ttest: 2.2685456\ttest1: 2.2960763\tbest: 2.2960763 (0)\ttotal: 275ms\tremaining: 22m 54s\n",
      "Stopped by overfitting detector  (100 iterations wait)\n",
      "\n",
      "bestTest = 2.124758061\n",
      "bestIteration = 195\n",
      "\n",
      "Shrink model to first 196 iterations.\n"
     ]
    },
    {
     "name": "stderr",
     "output_type": "stream",
     "text": [
      "[I 2023-12-21 08:10:43,672] Trial 42 finished with value: 2.1247580609421512 and parameters: {'learning_rate': 0.5, 'depth': 15, 'colsample_bylevel': 0.5, 'boosting_type': 'Ordered', 'bootstrap_type': 'MVS'}. Best is trial 23 with value: 2.123728906798852.\n"
     ]
    },
    {
     "name": "stdout",
     "output_type": "stream",
     "text": [
      "0:\tlearn: 2.3224691\ttest: 2.2685456\ttest1: 2.2960763\tbest: 2.2960763 (0)\ttotal: 326ms\tremaining: 27m 9s\n",
      "Stopped by overfitting detector  (100 iterations wait)\n",
      "\n",
      "bestTest = 2.124576457\n",
      "bestIteration = 99\n",
      "\n",
      "Shrink model to first 100 iterations.\n"
     ]
    },
    {
     "name": "stderr",
     "output_type": "stream",
     "text": [
      "[I 2023-12-21 08:17:47,260] Trial 43 finished with value: 2.1245764568389682 and parameters: {'learning_rate': 0.5, 'depth': 14, 'colsample_bylevel': 0.5, 'boosting_type': 'Ordered', 'bootstrap_type': 'MVS'}. Best is trial 23 with value: 2.123728906798852.\n"
     ]
    },
    {
     "name": "stdout",
     "output_type": "stream",
     "text": [
      "0:\tlearn: 2.3224691\ttest: 2.2685456\ttest1: 2.2960763\tbest: 2.2960763 (0)\ttotal: 275ms\tremaining: 22m 56s\n",
      "Stopped by overfitting detector  (100 iterations wait)\n",
      "\n",
      "bestTest = 2.124576457\n",
      "bestIteration = 99\n",
      "\n",
      "Shrink model to first 100 iterations.\n"
     ]
    },
    {
     "name": "stderr",
     "output_type": "stream",
     "text": [
      "[I 2023-12-21 08:24:45,719] Trial 44 finished with value: 2.1245764568389682 and parameters: {'learning_rate': 0.5, 'depth': 14, 'colsample_bylevel': 0.5, 'boosting_type': 'Ordered', 'bootstrap_type': 'MVS'}. Best is trial 23 with value: 2.123728906798852.\n"
     ]
    },
    {
     "name": "stdout",
     "output_type": "stream",
     "text": [
      "0:\tlearn: 2.3224691\ttest: 2.2685456\ttest1: 2.2960763\tbest: 2.2960763 (0)\ttotal: 259ms\tremaining: 21m 33s\n",
      "Stopped by overfitting detector  (100 iterations wait)\n",
      "\n",
      "bestTest = 2.124576457\n",
      "bestIteration = 99\n",
      "\n",
      "Shrink model to first 100 iterations.\n"
     ]
    },
    {
     "name": "stderr",
     "output_type": "stream",
     "text": [
      "[I 2023-12-21 08:31:48,420] Trial 45 finished with value: 2.1245764568389682 and parameters: {'learning_rate': 0.5, 'depth': 14, 'colsample_bylevel': 0.5, 'boosting_type': 'Ordered', 'bootstrap_type': 'MVS'}. Best is trial 23 with value: 2.123728906798852.\n"
     ]
    },
    {
     "name": "stdout",
     "output_type": "stream",
     "text": [
      "0:\tlearn: 2.3224691\ttest: 2.2685456\ttest1: 2.2960763\tbest: 2.2960763 (0)\ttotal: 297ms\tremaining: 24m 42s\n",
      "Stopped by overfitting detector  (100 iterations wait)\n",
      "\n",
      "bestTest = 2.124576457\n",
      "bestIteration = 99\n",
      "\n",
      "Shrink model to first 100 iterations.\n"
     ]
    },
    {
     "name": "stderr",
     "output_type": "stream",
     "text": [
      "[I 2023-12-21 08:38:55,871] Trial 46 finished with value: 2.1245764568389682 and parameters: {'learning_rate': 0.5, 'depth': 14, 'colsample_bylevel': 0.5, 'boosting_type': 'Ordered', 'bootstrap_type': 'MVS'}. Best is trial 23 with value: 2.123728906798852.\n"
     ]
    },
    {
     "name": "stdout",
     "output_type": "stream",
     "text": [
      "0:\tlearn: 2.3224691\ttest: 2.2685456\ttest1: 2.2960763\tbest: 2.2960763 (0)\ttotal: 295ms\tremaining: 24m 33s\n",
      "Stopped by overfitting detector  (100 iterations wait)\n",
      "\n",
      "bestTest = 2.124430121\n",
      "bestIteration = 291\n",
      "\n",
      "Shrink model to first 292 iterations.\n"
     ]
    },
    {
     "name": "stderr",
     "output_type": "stream",
     "text": [
      "[I 2023-12-21 08:48:46,513] Trial 47 finished with value: 2.124430120574362 and parameters: {'learning_rate': 0.5, 'depth': 13, 'colsample_bylevel': 0.5, 'boosting_type': 'Ordered', 'bootstrap_type': 'MVS'}. Best is trial 23 with value: 2.123728906798852.\n"
     ]
    },
    {
     "name": "stdout",
     "output_type": "stream",
     "text": [
      "0:\tlearn: 2.3224691\ttest: 2.2685456\ttest1: 2.2960763\tbest: 2.2960763 (0)\ttotal: 273ms\tremaining: 22m 44s\n",
      "Stopped by overfitting detector  (100 iterations wait)\n",
      "\n",
      "bestTest = 2.124430121\n",
      "bestIteration = 291\n",
      "\n",
      "Shrink model to first 292 iterations.\n"
     ]
    },
    {
     "name": "stderr",
     "output_type": "stream",
     "text": [
      "[I 2023-12-21 08:58:32,859] Trial 48 finished with value: 2.124430120574362 and parameters: {'learning_rate': 0.5, 'depth': 13, 'colsample_bylevel': 0.5, 'boosting_type': 'Ordered', 'bootstrap_type': 'MVS'}. Best is trial 23 with value: 2.123728906798852.\n",
      "[I 2023-12-21 08:58:35,575] Trial 49 pruned. Trial was pruned at iteration 0.\n"
     ]
    },
    {
     "name": "stdout",
     "output_type": "stream",
     "text": [
      "0:\tlearn: 2.4336144\ttest: 2.4336144\ttest1: 2.4255668\tbest: 2.4255668 (0)\ttotal: 22.5ms\tremaining: 1m 52s\n",
      "\n",
      "bestTest = 2.425566827\n",
      "bestIteration = 0\n",
      "\n",
      "Shrink model to first 1 iterations.\n",
      "Best trial : score 2.123728906798852, \n",
      " params = {'learning_rate': 0.5, 'depth': 8, 'colsample_bylevel': 0.1, 'boosting_type': 'Ordered', 'bootstrap_type': 'Bayesian', 'bagging_temperature': 0.108125740689488} \n",
      "\n"
     ]
    }
   ],
   "source": [
    "# Study Optuna\n",
    "study = optuna.create_study(direction = 'minimize', sampler = TPESampler(seed = SEED))\n",
    "study.optimize(lambda trial : objectiveCAT(trial, X_train, y_train, X_valid, y_valid), n_trials = 50)\n",
    "print(f'Best trial : score {study.best_trial.value}, \\n params = {study.best_trial.params} \\n') "
   ]
  },
  {
   "cell_type": "code",
   "execution_count": 531,
   "metadata": {},
   "outputs": [
    {
     "name": "stderr",
     "output_type": "stream",
     "text": [
      "  0%|          | 0/10 [00:00<?, ?it/s]"
     ]
    },
    {
     "name": "stdout",
     "output_type": "stream",
     "text": [
      "0:\tlearn: 2.3678184\ttest: 2.3557218\ttest1: 2.3628587\tbest: 2.3628587 (0)\ttotal: 315ms\tremaining: 26m 15s\n",
      "Stopped by overfitting detector  (100 iterations wait)\n",
      "\n",
      "bestTest = 2.13771776\n",
      "bestIteration = 346\n",
      "\n",
      "Shrink model to first 347 iterations.\n",
      "Valid Set 1 번째 Fold RMSE : 2.13772\n"
     ]
    },
    {
     "name": "stderr",
     "output_type": "stream",
     "text": [
      " 10%|█         | 1/10 [00:56<08:27, 56.35s/it]"
     ]
    },
    {
     "name": "stdout",
     "output_type": "stream",
     "text": [
      "0:\tlearn: 2.3363369\ttest: 2.2410235\ttest1: 2.3130192\tbest: 2.3130192 (0)\ttotal: 295ms\tremaining: 24m 33s\n",
      "Stopped by overfitting detector  (100 iterations wait)\n",
      "\n",
      "bestTest = 2.126903777\n",
      "bestIteration = 313\n",
      "\n",
      "Shrink model to first 314 iterations.\n",
      "Valid Set 2 번째 Fold RMSE : 2.12690\n"
     ]
    },
    {
     "name": "stderr",
     "output_type": "stream",
     "text": [
      " 20%|██        | 2/10 [01:50<07:22, 55.31s/it]"
     ]
    },
    {
     "name": "stdout",
     "output_type": "stream",
     "text": [
      "0:\tlearn: 2.3673596\ttest: 2.3555707\ttest1: 2.3612413\tbest: 2.3612413 (0)\ttotal: 291ms\tremaining: 24m 13s\n",
      "500:\tlearn: 2.1656097\ttest: 1.7033408\ttest1: 2.1313741\tbest: 2.1313709 (496)\ttotal: 59.3s\tremaining: 8m 52s\n",
      "Stopped by overfitting detector  (100 iterations wait)\n",
      "\n",
      "bestTest = 2.13080642\n",
      "bestIteration = 676\n",
      "\n",
      "Shrink model to first 677 iterations.\n",
      "Valid Set 3 번째 Fold RMSE : 2.13081\n"
     ]
    },
    {
     "name": "stderr",
     "output_type": "stream",
     "text": [
      " 30%|███       | 3/10 [03:18<08:11, 70.25s/it]"
     ]
    },
    {
     "name": "stdout",
     "output_type": "stream",
     "text": [
      "0:\tlearn: 2.3667841\ttest: 2.3550821\ttest1: 2.3624121\tbest: 2.3624121 (0)\ttotal: 323ms\tremaining: 26m 54s\n",
      "Stopped by overfitting detector  (100 iterations wait)\n",
      "\n",
      "bestTest = 2.136637865\n",
      "bestIteration = 372\n",
      "\n",
      "Shrink model to first 373 iterations.\n",
      "Valid Set 4 번째 Fold RMSE : 2.13664\n"
     ]
    },
    {
     "name": "stderr",
     "output_type": "stream",
     "text": [
      " 40%|████      | 4/10 [04:18<06:36, 66.04s/it]"
     ]
    },
    {
     "name": "stdout",
     "output_type": "stream",
     "text": [
      "0:\tlearn: 2.3667645\ttest: 2.3552629\ttest1: 2.3620461\tbest: 2.3620461 (0)\ttotal: 293ms\tremaining: 24m 25s\n",
      "500:\tlearn: 2.1662688\ttest: 1.6976120\ttest1: 2.1359186\tbest: 2.1359186 (499)\ttotal: 57.1s\tremaining: 8m 32s\n",
      "Stopped by overfitting detector  (100 iterations wait)\n",
      "\n",
      "bestTest = 2.134935787\n",
      "bestIteration = 746\n",
      "\n",
      "Shrink model to first 747 iterations.\n",
      "Valid Set 5 번째 Fold RMSE : 2.13494\n"
     ]
    },
    {
     "name": "stderr",
     "output_type": "stream",
     "text": [
      " 50%|█████     | 5/10 [05:46<06:09, 73.94s/it]"
     ]
    },
    {
     "name": "stdout",
     "output_type": "stream",
     "text": [
      "0:\tlearn: 2.3408432\ttest: 2.3114712\ttest1: 2.3330867\tbest: 2.3330867 (0)\ttotal: 287ms\tremaining: 23m 56s\n",
      "500:\tlearn: 2.1692247\ttest: 1.6822155\ttest1: 2.1396087\tbest: 2.1395463 (493)\ttotal: 52.7s\tremaining: 7m 53s\n",
      "Stopped by overfitting detector  (100 iterations wait)\n",
      "\n",
      "bestTest = 2.139479521\n",
      "bestIteration = 511\n",
      "\n",
      "Shrink model to first 512 iterations.\n",
      "Valid Set 6 번째 Fold RMSE : 2.13948\n"
     ]
    },
    {
     "name": "stderr",
     "output_type": "stream",
     "text": [
      " 60%|██████    | 6/10 [06:52<04:44, 71.11s/it]"
     ]
    },
    {
     "name": "stdout",
     "output_type": "stream",
     "text": [
      "0:\tlearn: 2.3401965\ttest: 2.3123160\ttest1: 2.3303330\tbest: 2.3303330 (0)\ttotal: 294ms\tremaining: 24m 28s\n",
      "500:\tlearn: 2.1715874\ttest: 1.6735894\ttest1: 2.1358258\tbest: 2.1358163 (489)\ttotal: 53s\tremaining: 7m 56s\n",
      "Stopped by overfitting detector  (100 iterations wait)\n",
      "\n",
      "bestTest = 2.133465862\n",
      "bestIteration = 897\n",
      "\n",
      "Shrink model to first 898 iterations.\n",
      "Valid Set 7 번째 Fold RMSE : 2.13347\n"
     ]
    },
    {
     "name": "stderr",
     "output_type": "stream",
     "text": [
      " 70%|███████   | 7/10 [08:38<04:07, 82.62s/it]"
     ]
    },
    {
     "name": "stdout",
     "output_type": "stream",
     "text": [
      "0:\tlearn: 2.3426118\ttest: 2.3175495\ttest1: 2.3350825\tbest: 2.3350825 (0)\ttotal: 254ms\tremaining: 21m 9s\n",
      "500:\tlearn: 2.1678206\ttest: 1.6909315\ttest1: 2.1454118\tbest: 2.1454118 (500)\ttotal: 1m\tremaining: 9m 6s\n",
      "Stopped by overfitting detector  (100 iterations wait)\n",
      "\n",
      "bestTest = 2.143762253\n",
      "bestIteration = 704\n",
      "\n",
      "Shrink model to first 705 iterations.\n",
      "Valid Set 8 번째 Fold RMSE : 2.14376\n"
     ]
    },
    {
     "name": "stderr",
     "output_type": "stream",
     "text": [
      " 80%|████████  | 8/10 [10:15<02:54, 87.11s/it]"
     ]
    },
    {
     "name": "stdout",
     "output_type": "stream",
     "text": [
      "0:\tlearn: 2.3400119\ttest: 2.3122673\ttest1: 2.3337523\tbest: 2.3337523 (0)\ttotal: 280ms\tremaining: 23m 17s\n",
      "500:\tlearn: 2.1648923\ttest: 1.7013173\ttest1: 2.1366475\tbest: 2.1366165 (487)\ttotal: 58.1s\tremaining: 8m 41s\n",
      "Stopped by overfitting detector  (100 iterations wait)\n",
      "\n",
      "bestTest = 2.136616518\n",
      "bestIteration = 487\n",
      "\n",
      "Shrink model to first 488 iterations.\n",
      "Valid Set 9 번째 Fold RMSE : 2.13662\n"
     ]
    },
    {
     "name": "stderr",
     "output_type": "stream",
     "text": [
      " 90%|█████████ | 9/10 [11:25<01:21, 81.72s/it]"
     ]
    },
    {
     "name": "stdout",
     "output_type": "stream",
     "text": [
      "0:\tlearn: 2.3396428\ttest: 2.3115523\ttest1: 2.3300033\tbest: 2.3300033 (0)\ttotal: 253ms\tremaining: 21m 2s\n",
      "Stopped by overfitting detector  (100 iterations wait)\n",
      "\n",
      "bestTest = 2.132466475\n",
      "bestIteration = 374\n",
      "\n",
      "Shrink model to first 375 iterations.\n",
      "Valid Set 10 번째 Fold RMSE : 2.13247\n"
     ]
    },
    {
     "name": "stderr",
     "output_type": "stream",
     "text": [
      "100%|██████████| 10/10 [12:26<00:00, 74.68s/it]"
     ]
    },
    {
     "name": "stdout",
     "output_type": "stream",
     "text": [
      "CatBoost RMSE 평균 : 2.13528 \n",
      "\n"
     ]
    },
    {
     "name": "stderr",
     "output_type": "stream",
     "text": [
      "\n"
     ]
    }
   ],
   "source": [
    "X_data, y_data = train_GB.drop(columns = 'rating'), train_df['rating']\n",
    "\n",
    "skf = StratifiedKFold(n_splits = 10, shuffle = True, random_state = SEED)\n",
    "valid_rmse = []\n",
    "pred_df = pd.DataFrame()\n",
    "\n",
    "# Stratified K-Fold 사용하여 Best Parameter 학습\n",
    "for fold, (train_idx, valid_idx) in tqdm.tqdm(enumerate(skf.split(X_data, y_data)), total = skf.n_splits) : \n",
    "    \n",
    "    # Train Set과 Valid Set 분할    \n",
    "    X_train, y_train = X_data.iloc[train_idx], y_data.iloc[train_idx]\n",
    "    X_valid, y_valid = X_data.iloc[valid_idx], y_data.iloc[valid_idx]\n",
    "    \n",
    "    # Best Parameter 학습\n",
    "    param = study.best_params\n",
    "    \n",
    "    cat_reg = CatBoostRegressor(**param, iterations = 5000, \n",
    "                                loss_function = 'RMSE', eval_metric = 'RMSE', \n",
    "                                use_best_model = True, random_state = SEED,\n",
    "                                cat_features = [i for i in range(len(X_train.columns))])\n",
    "    cat_reg.fit(X_train, y_train, eval_set = [(X_train, y_train), (X_valid, y_valid)],\n",
    "                verbose = 500, early_stopping_rounds = 100)\n",
    "    \n",
    "    # 모델 RMSE 출력\n",
    "    score = mean_squared_error(y_valid, cat_reg.predict(X_valid), squared = False)\n",
    "    valid_rmse.append(score)\n",
    "    print(f'Valid Set {fold + 1} 번째 Fold RMSE : {score:.5f}')\n",
    "    \n",
    "    # Predict\n",
    "    pred = cat_reg.predict(test_df.drop(['rating'], axis = 1))\n",
    "    pred_df[f'pred_{fold}'] = pred\n",
    "    \n",
    "print(f'CatBoost RMSE 평균 : {np.array(valid_rmse).mean():.5f} \\n')"
   ]
  },
  {
   "cell_type": "code",
   "execution_count": 532,
   "metadata": {},
   "outputs": [
    {
     "data": {
      "image/png": "[encoded data removed]",
      "text/plain": [
       "<Figure size 1200x600 with 1 Axes>"
      ]
     },
     "metadata": {},
     "output_type": "display_data"
    }
   ],
   "source": [
    "feature_importance = cat_reg.feature_importances_\n",
    "sorted_idx = np.argsort(feature_importance)\n",
    "fig = plt.figure(figsize = (12, 6))\n",
    "plt.barh(range(len(sorted_idx)), feature_importance[sorted_idx], align = 'center')\n",
    "plt.yticks(range(len(sorted_idx)), np.array(X_data.columns)[sorted_idx])\n",
    "plt.title('Feature Importance')\n",
    "plt.show()"
   ]
  },
  {
   "cell_type": "code",
   "execution_count": 533,
   "metadata": {},
   "outputs": [
    {
     "data": {
      "text/html": [
       "<div>\n",
       "<style scoped>\n",
       "    .dataframe tbody tr th:only-of-type {\n",
       "        vertical-align: middle;\n",
       "    }\n",
       "\n",
       "    .dataframe tbody tr th {\n",
       "        vertical-align: top;\n",
       "    }\n",
       "\n",
       "    .dataframe thead th {\n",
       "        text-align: right;\n",
       "    }\n",
       "</style>\n",
       "<table border=\"1\" class=\"dataframe\">\n",
       "  <thead>\n",
       "    <tr style=\"text-align: right;\">\n",
       "      <th></th>\n",
       "      <th>user_id</th>\n",
       "      <th>isbn</th>\n",
       "      <th>rating</th>\n",
       "    </tr>\n",
       "  </thead>\n",
       "  <tbody>\n",
       "    <tr>\n",
       "      <th>0</th>\n",
       "      <td>11676</td>\n",
       "      <td>0002005018</td>\n",
       "      <td>6.834884</td>\n",
       "    </tr>\n",
       "    <tr>\n",
       "      <th>1</th>\n",
       "      <td>116866</td>\n",
       "      <td>0002005018</td>\n",
       "      <td>7.058995</td>\n",
       "    </tr>\n",
       "    <tr>\n",
       "      <th>2</th>\n",
       "      <td>152827</td>\n",
       "      <td>0060973129</td>\n",
       "      <td>6.837433</td>\n",
       "    </tr>\n",
       "    <tr>\n",
       "      <th>3</th>\n",
       "      <td>157969</td>\n",
       "      <td>0374157065</td>\n",
       "      <td>6.623354</td>\n",
       "    </tr>\n",
       "    <tr>\n",
       "      <th>4</th>\n",
       "      <td>67958</td>\n",
       "      <td>0399135782</td>\n",
       "      <td>6.876133</td>\n",
       "    </tr>\n",
       "    <tr>\n",
       "      <th>...</th>\n",
       "      <td>...</td>\n",
       "      <td>...</td>\n",
       "      <td>...</td>\n",
       "    </tr>\n",
       "    <tr>\n",
       "      <th>76694</th>\n",
       "      <td>278543</td>\n",
       "      <td>1576734218</td>\n",
       "      <td>6.875116</td>\n",
       "    </tr>\n",
       "    <tr>\n",
       "      <th>76695</th>\n",
       "      <td>278563</td>\n",
       "      <td>3492223710</td>\n",
       "      <td>6.867771</td>\n",
       "    </tr>\n",
       "    <tr>\n",
       "      <th>76696</th>\n",
       "      <td>278633</td>\n",
       "      <td>1896095186</td>\n",
       "      <td>6.964139</td>\n",
       "    </tr>\n",
       "    <tr>\n",
       "      <th>76697</th>\n",
       "      <td>278668</td>\n",
       "      <td>8408044079</td>\n",
       "      <td>6.691789</td>\n",
       "    </tr>\n",
       "    <tr>\n",
       "      <th>76698</th>\n",
       "      <td>278851</td>\n",
       "      <td>0767907566</td>\n",
       "      <td>6.986557</td>\n",
       "    </tr>\n",
       "  </tbody>\n",
       "</table>\n",
       "<p>76699 rows × 3 columns</p>\n",
       "</div>"
      ],
      "text/plain": [
       "       user_id        isbn    rating\n",
       "0        11676  0002005018  6.834884\n",
       "1       116866  0002005018  7.058995\n",
       "2       152827  0060973129  6.837433\n",
       "3       157969  0374157065  6.623354\n",
       "4        67958  0399135782  6.876133\n",
       "...        ...         ...       ...\n",
       "76694   278543  1576734218  6.875116\n",
       "76695   278563  3492223710  6.867771\n",
       "76696   278633  1896095186  6.964139\n",
       "76697   278668  8408044079  6.691789\n",
       "76698   278851  0767907566  6.986557\n",
       "\n",
       "[76699 rows x 3 columns]"
      ]
     },
     "execution_count": 533,
     "metadata": {},
     "output_type": "execute_result"
    }
   ],
   "source": [
    "test_ratings['rating'] = (pred_df['pred_0'] + pred_df['pred_1'] + pred_df['pred_2'] + pred_df['pred_3'] + pred_df['pred_4'] + \n",
    "                     pred_df['pred_5'] + pred_df['pred_6'] + pred_df['pred_7'] + pred_df['pred_8'] + pred_df['pred_9']) / 10\n",
    "submit = test_ratings[['user_id', 'isbn', 'rating']]\n",
    "submit"
   ]
  },
  {
   "cell_type": "code",
   "execution_count": 534,
   "metadata": {},
   "outputs": [],
   "source": [
    "submit.to_csv('./code/submit/CB_HPO_Pred_AVG.csv', index = False)"
   ]
  },
  {
   "cell_type": "code",
   "execution_count": null,
   "metadata": {},
   "outputs": [],
   "source": []
  },
  {
   "cell_type": "code",
   "execution_count": null,
   "metadata": {},
   "outputs": [],
   "source": []
  },
  {
   "cell_type": "code",
   "execution_count": null,
   "metadata": {},
   "outputs": [],
   "source": []
  }
 ],
 "metadata": {
  "kernelspec": {
   "display_name": "base",
   "language": "python",
   "name": "python3"
  },
  "language_info": {
   "codemirror_mode": {
    "name": "ipython",
    "version": 3
   },
   "file_extension": ".py",
   "mimetype": "text/x-python",
   "name": "python",
   "nbconvert_exporter": "python",
   "pygments_lexer": "ipython3",
   "version": "3.10.13"
  }
 },
 "nbformat": 4,
 "nbformat_minor": 2
}
